{
  "nbformat": 4,
  "nbformat_minor": 0,
  "metadata": {
    "colab": {
      "provenance": [],
      "gpuType": "A100",
      "authorship_tag": "ABX9TyO+3TRnGAMyUAJ7gdkvhWPf",
      "include_colab_link": true
    },
    "kernelspec": {
      "name": "python3",
      "display_name": "Python 3"
    },
    "language_info": {
      "name": "python"
    },
    "widgets": {
      "application/vnd.jupyter.widget-state+json": {
        "6544875261dc457eb6d541fbdf8f3ec3": {
          "model_module": "@jupyter-widgets/controls",
          "model_name": "HBoxModel",
          "model_module_version": "1.5.0",
          "state": {
            "_dom_classes": [],
            "_model_module": "@jupyter-widgets/controls",
            "_model_module_version": "1.5.0",
            "_model_name": "HBoxModel",
            "_view_count": null,
            "_view_module": "@jupyter-widgets/controls",
            "_view_module_version": "1.5.0",
            "_view_name": "HBoxView",
            "box_style": "",
            "children": [
              "IPY_MODEL_c4c6b0fdc9ac454383f22d7f0e58323d",
              "IPY_MODEL_4f0475dc8c06459fa8c177ceeffb2d21",
              "IPY_MODEL_87b5d7d099744571a8ce7768db6dd3df"
            ],
            "layout": "IPY_MODEL_b530c85a15c040d6bdcf800cc01ac455"
          }
        },
        "c4c6b0fdc9ac454383f22d7f0e58323d": {
          "model_module": "@jupyter-widgets/controls",
          "model_name": "HTMLModel",
          "model_module_version": "1.5.0",
          "state": {
            "_dom_classes": [],
            "_model_module": "@jupyter-widgets/controls",
            "_model_module_version": "1.5.0",
            "_model_name": "HTMLModel",
            "_view_count": null,
            "_view_module": "@jupyter-widgets/controls",
            "_view_module_version": "1.5.0",
            "_view_name": "HTMLView",
            "description": "",
            "description_tooltip": null,
            "layout": "IPY_MODEL_6047db0ae8e945f7801586685144d87a",
            "placeholder": "​",
            "style": "IPY_MODEL_b4e8ca85e2864587a4ba79be7b5fd80c",
            "value": "100%"
          }
        },
        "4f0475dc8c06459fa8c177ceeffb2d21": {
          "model_module": "@jupyter-widgets/controls",
          "model_name": "FloatProgressModel",
          "model_module_version": "1.5.0",
          "state": {
            "_dom_classes": [],
            "_model_module": "@jupyter-widgets/controls",
            "_model_module_version": "1.5.0",
            "_model_name": "FloatProgressModel",
            "_view_count": null,
            "_view_module": "@jupyter-widgets/controls",
            "_view_module_version": "1.5.0",
            "_view_name": "ProgressView",
            "bar_style": "success",
            "description": "",
            "description_tooltip": null,
            "layout": "IPY_MODEL_6469669b06e74fe8b6d44e9f6bc142cb",
            "max": 10,
            "min": 0,
            "orientation": "horizontal",
            "style": "IPY_MODEL_68668462155a44378ff7199670715017",
            "value": 10
          }
        },
        "87b5d7d099744571a8ce7768db6dd3df": {
          "model_module": "@jupyter-widgets/controls",
          "model_name": "HTMLModel",
          "model_module_version": "1.5.0",
          "state": {
            "_dom_classes": [],
            "_model_module": "@jupyter-widgets/controls",
            "_model_module_version": "1.5.0",
            "_model_name": "HTMLModel",
            "_view_count": null,
            "_view_module": "@jupyter-widgets/controls",
            "_view_module_version": "1.5.0",
            "_view_name": "HTMLView",
            "description": "",
            "description_tooltip": null,
            "layout": "IPY_MODEL_3448c58b08cb4bd29ea20d0a11b7a232",
            "placeholder": "​",
            "style": "IPY_MODEL_724c875e341042d1b6d0f54f5501608e",
            "value": " 10/10 [01:43&lt;00:00, 10.33s/it]"
          }
        },
        "b530c85a15c040d6bdcf800cc01ac455": {
          "model_module": "@jupyter-widgets/base",
          "model_name": "LayoutModel",
          "model_module_version": "1.2.0",
          "state": {
            "_model_module": "@jupyter-widgets/base",
            "_model_module_version": "1.2.0",
            "_model_name": "LayoutModel",
            "_view_count": null,
            "_view_module": "@jupyter-widgets/base",
            "_view_module_version": "1.2.0",
            "_view_name": "LayoutView",
            "align_content": null,
            "align_items": null,
            "align_self": null,
            "border": null,
            "bottom": null,
            "display": null,
            "flex": null,
            "flex_flow": null,
            "grid_area": null,
            "grid_auto_columns": null,
            "grid_auto_flow": null,
            "grid_auto_rows": null,
            "grid_column": null,
            "grid_gap": null,
            "grid_row": null,
            "grid_template_areas": null,
            "grid_template_columns": null,
            "grid_template_rows": null,
            "height": null,
            "justify_content": null,
            "justify_items": null,
            "left": null,
            "margin": null,
            "max_height": null,
            "max_width": null,
            "min_height": null,
            "min_width": null,
            "object_fit": null,
            "object_position": null,
            "order": null,
            "overflow": null,
            "overflow_x": null,
            "overflow_y": null,
            "padding": null,
            "right": null,
            "top": null,
            "visibility": null,
            "width": null
          }
        },
        "6047db0ae8e945f7801586685144d87a": {
          "model_module": "@jupyter-widgets/base",
          "model_name": "LayoutModel",
          "model_module_version": "1.2.0",
          "state": {
            "_model_module": "@jupyter-widgets/base",
            "_model_module_version": "1.2.0",
            "_model_name": "LayoutModel",
            "_view_count": null,
            "_view_module": "@jupyter-widgets/base",
            "_view_module_version": "1.2.0",
            "_view_name": "LayoutView",
            "align_content": null,
            "align_items": null,
            "align_self": null,
            "border": null,
            "bottom": null,
            "display": null,
            "flex": null,
            "flex_flow": null,
            "grid_area": null,
            "grid_auto_columns": null,
            "grid_auto_flow": null,
            "grid_auto_rows": null,
            "grid_column": null,
            "grid_gap": null,
            "grid_row": null,
            "grid_template_areas": null,
            "grid_template_columns": null,
            "grid_template_rows": null,
            "height": null,
            "justify_content": null,
            "justify_items": null,
            "left": null,
            "margin": null,
            "max_height": null,
            "max_width": null,
            "min_height": null,
            "min_width": null,
            "object_fit": null,
            "object_position": null,
            "order": null,
            "overflow": null,
            "overflow_x": null,
            "overflow_y": null,
            "padding": null,
            "right": null,
            "top": null,
            "visibility": null,
            "width": null
          }
        },
        "b4e8ca85e2864587a4ba79be7b5fd80c": {
          "model_module": "@jupyter-widgets/controls",
          "model_name": "DescriptionStyleModel",
          "model_module_version": "1.5.0",
          "state": {
            "_model_module": "@jupyter-widgets/controls",
            "_model_module_version": "1.5.0",
            "_model_name": "DescriptionStyleModel",
            "_view_count": null,
            "_view_module": "@jupyter-widgets/base",
            "_view_module_version": "1.2.0",
            "_view_name": "StyleView",
            "description_width": ""
          }
        },
        "6469669b06e74fe8b6d44e9f6bc142cb": {
          "model_module": "@jupyter-widgets/base",
          "model_name": "LayoutModel",
          "model_module_version": "1.2.0",
          "state": {
            "_model_module": "@jupyter-widgets/base",
            "_model_module_version": "1.2.0",
            "_model_name": "LayoutModel",
            "_view_count": null,
            "_view_module": "@jupyter-widgets/base",
            "_view_module_version": "1.2.0",
            "_view_name": "LayoutView",
            "align_content": null,
            "align_items": null,
            "align_self": null,
            "border": null,
            "bottom": null,
            "display": null,
            "flex": null,
            "flex_flow": null,
            "grid_area": null,
            "grid_auto_columns": null,
            "grid_auto_flow": null,
            "grid_auto_rows": null,
            "grid_column": null,
            "grid_gap": null,
            "grid_row": null,
            "grid_template_areas": null,
            "grid_template_columns": null,
            "grid_template_rows": null,
            "height": null,
            "justify_content": null,
            "justify_items": null,
            "left": null,
            "margin": null,
            "max_height": null,
            "max_width": null,
            "min_height": null,
            "min_width": null,
            "object_fit": null,
            "object_position": null,
            "order": null,
            "overflow": null,
            "overflow_x": null,
            "overflow_y": null,
            "padding": null,
            "right": null,
            "top": null,
            "visibility": null,
            "width": null
          }
        },
        "68668462155a44378ff7199670715017": {
          "model_module": "@jupyter-widgets/controls",
          "model_name": "ProgressStyleModel",
          "model_module_version": "1.5.0",
          "state": {
            "_model_module": "@jupyter-widgets/controls",
            "_model_module_version": "1.5.0",
            "_model_name": "ProgressStyleModel",
            "_view_count": null,
            "_view_module": "@jupyter-widgets/base",
            "_view_module_version": "1.2.0",
            "_view_name": "StyleView",
            "bar_color": null,
            "description_width": ""
          }
        },
        "3448c58b08cb4bd29ea20d0a11b7a232": {
          "model_module": "@jupyter-widgets/base",
          "model_name": "LayoutModel",
          "model_module_version": "1.2.0",
          "state": {
            "_model_module": "@jupyter-widgets/base",
            "_model_module_version": "1.2.0",
            "_model_name": "LayoutModel",
            "_view_count": null,
            "_view_module": "@jupyter-widgets/base",
            "_view_module_version": "1.2.0",
            "_view_name": "LayoutView",
            "align_content": null,
            "align_items": null,
            "align_self": null,
            "border": null,
            "bottom": null,
            "display": null,
            "flex": null,
            "flex_flow": null,
            "grid_area": null,
            "grid_auto_columns": null,
            "grid_auto_flow": null,
            "grid_auto_rows": null,
            "grid_column": null,
            "grid_gap": null,
            "grid_row": null,
            "grid_template_areas": null,
            "grid_template_columns": null,
            "grid_template_rows": null,
            "height": null,
            "justify_content": null,
            "justify_items": null,
            "left": null,
            "margin": null,
            "max_height": null,
            "max_width": null,
            "min_height": null,
            "min_width": null,
            "object_fit": null,
            "object_position": null,
            "order": null,
            "overflow": null,
            "overflow_x": null,
            "overflow_y": null,
            "padding": null,
            "right": null,
            "top": null,
            "visibility": null,
            "width": null
          }
        },
        "724c875e341042d1b6d0f54f5501608e": {
          "model_module": "@jupyter-widgets/controls",
          "model_name": "DescriptionStyleModel",
          "model_module_version": "1.5.0",
          "state": {
            "_model_module": "@jupyter-widgets/controls",
            "_model_module_version": "1.5.0",
            "_model_name": "DescriptionStyleModel",
            "_view_count": null,
            "_view_module": "@jupyter-widgets/base",
            "_view_module_version": "1.2.0",
            "_view_name": "StyleView",
            "description_width": ""
          }
        },
        "5c7d2e96710d46e29fde42179ba63431": {
          "model_module": "@jupyter-widgets/controls",
          "model_name": "HBoxModel",
          "model_module_version": "1.5.0",
          "state": {
            "_dom_classes": [],
            "_model_module": "@jupyter-widgets/controls",
            "_model_module_version": "1.5.0",
            "_model_name": "HBoxModel",
            "_view_count": null,
            "_view_module": "@jupyter-widgets/controls",
            "_view_module_version": "1.5.0",
            "_view_name": "HBoxView",
            "box_style": "",
            "children": [
              "IPY_MODEL_1d733c2d0aa1402fb908d1ebff77dde2",
              "IPY_MODEL_0911d35246e94ba08e93774e01530a87",
              "IPY_MODEL_60d50a65237e4fd088514ff48470649b"
            ],
            "layout": "IPY_MODEL_1f58421ab8f642ea81cbc8eefae78136"
          }
        },
        "1d733c2d0aa1402fb908d1ebff77dde2": {
          "model_module": "@jupyter-widgets/controls",
          "model_name": "HTMLModel",
          "model_module_version": "1.5.0",
          "state": {
            "_dom_classes": [],
            "_model_module": "@jupyter-widgets/controls",
            "_model_module_version": "1.5.0",
            "_model_name": "HTMLModel",
            "_view_count": null,
            "_view_module": "@jupyter-widgets/controls",
            "_view_module_version": "1.5.0",
            "_view_name": "HTMLView",
            "description": "",
            "description_tooltip": null,
            "layout": "IPY_MODEL_08ba0512f4004063a3f477a965802023",
            "placeholder": "​",
            "style": "IPY_MODEL_7b0c506ffc164212bf45f48ea7c8dbe3",
            "value": "100%"
          }
        },
        "0911d35246e94ba08e93774e01530a87": {
          "model_module": "@jupyter-widgets/controls",
          "model_name": "FloatProgressModel",
          "model_module_version": "1.5.0",
          "state": {
            "_dom_classes": [],
            "_model_module": "@jupyter-widgets/controls",
            "_model_module_version": "1.5.0",
            "_model_name": "FloatProgressModel",
            "_view_count": null,
            "_view_module": "@jupyter-widgets/controls",
            "_view_module_version": "1.5.0",
            "_view_name": "ProgressView",
            "bar_style": "success",
            "description": "",
            "description_tooltip": null,
            "layout": "IPY_MODEL_2f48d157441b482c8b12df0d6a2b448f",
            "max": 313,
            "min": 0,
            "orientation": "horizontal",
            "style": "IPY_MODEL_e455eba8219644cb81795c6daa0a01d9",
            "value": 313
          }
        },
        "60d50a65237e4fd088514ff48470649b": {
          "model_module": "@jupyter-widgets/controls",
          "model_name": "HTMLModel",
          "model_module_version": "1.5.0",
          "state": {
            "_dom_classes": [],
            "_model_module": "@jupyter-widgets/controls",
            "_model_module_version": "1.5.0",
            "_model_name": "HTMLModel",
            "_view_count": null,
            "_view_module": "@jupyter-widgets/controls",
            "_view_module_version": "1.5.0",
            "_view_name": "HTMLView",
            "description": "",
            "description_tooltip": null,
            "layout": "IPY_MODEL_b9e231c28fa04dffa8c4de346c828a07",
            "placeholder": "​",
            "style": "IPY_MODEL_16698b6729da4e59b77784bd37afde67",
            "value": " 313/313 [00:01&lt;00:00, 208.75it/s]"
          }
        },
        "1f58421ab8f642ea81cbc8eefae78136": {
          "model_module": "@jupyter-widgets/base",
          "model_name": "LayoutModel",
          "model_module_version": "1.2.0",
          "state": {
            "_model_module": "@jupyter-widgets/base",
            "_model_module_version": "1.2.0",
            "_model_name": "LayoutModel",
            "_view_count": null,
            "_view_module": "@jupyter-widgets/base",
            "_view_module_version": "1.2.0",
            "_view_name": "LayoutView",
            "align_content": null,
            "align_items": null,
            "align_self": null,
            "border": null,
            "bottom": null,
            "display": null,
            "flex": null,
            "flex_flow": null,
            "grid_area": null,
            "grid_auto_columns": null,
            "grid_auto_flow": null,
            "grid_auto_rows": null,
            "grid_column": null,
            "grid_gap": null,
            "grid_row": null,
            "grid_template_areas": null,
            "grid_template_columns": null,
            "grid_template_rows": null,
            "height": null,
            "justify_content": null,
            "justify_items": null,
            "left": null,
            "margin": null,
            "max_height": null,
            "max_width": null,
            "min_height": null,
            "min_width": null,
            "object_fit": null,
            "object_position": null,
            "order": null,
            "overflow": null,
            "overflow_x": null,
            "overflow_y": null,
            "padding": null,
            "right": null,
            "top": null,
            "visibility": null,
            "width": null
          }
        },
        "08ba0512f4004063a3f477a965802023": {
          "model_module": "@jupyter-widgets/base",
          "model_name": "LayoutModel",
          "model_module_version": "1.2.0",
          "state": {
            "_model_module": "@jupyter-widgets/base",
            "_model_module_version": "1.2.0",
            "_model_name": "LayoutModel",
            "_view_count": null,
            "_view_module": "@jupyter-widgets/base",
            "_view_module_version": "1.2.0",
            "_view_name": "LayoutView",
            "align_content": null,
            "align_items": null,
            "align_self": null,
            "border": null,
            "bottom": null,
            "display": null,
            "flex": null,
            "flex_flow": null,
            "grid_area": null,
            "grid_auto_columns": null,
            "grid_auto_flow": null,
            "grid_auto_rows": null,
            "grid_column": null,
            "grid_gap": null,
            "grid_row": null,
            "grid_template_areas": null,
            "grid_template_columns": null,
            "grid_template_rows": null,
            "height": null,
            "justify_content": null,
            "justify_items": null,
            "left": null,
            "margin": null,
            "max_height": null,
            "max_width": null,
            "min_height": null,
            "min_width": null,
            "object_fit": null,
            "object_position": null,
            "order": null,
            "overflow": null,
            "overflow_x": null,
            "overflow_y": null,
            "padding": null,
            "right": null,
            "top": null,
            "visibility": null,
            "width": null
          }
        },
        "7b0c506ffc164212bf45f48ea7c8dbe3": {
          "model_module": "@jupyter-widgets/controls",
          "model_name": "DescriptionStyleModel",
          "model_module_version": "1.5.0",
          "state": {
            "_model_module": "@jupyter-widgets/controls",
            "_model_module_version": "1.5.0",
            "_model_name": "DescriptionStyleModel",
            "_view_count": null,
            "_view_module": "@jupyter-widgets/base",
            "_view_module_version": "1.2.0",
            "_view_name": "StyleView",
            "description_width": ""
          }
        },
        "2f48d157441b482c8b12df0d6a2b448f": {
          "model_module": "@jupyter-widgets/base",
          "model_name": "LayoutModel",
          "model_module_version": "1.2.0",
          "state": {
            "_model_module": "@jupyter-widgets/base",
            "_model_module_version": "1.2.0",
            "_model_name": "LayoutModel",
            "_view_count": null,
            "_view_module": "@jupyter-widgets/base",
            "_view_module_version": "1.2.0",
            "_view_name": "LayoutView",
            "align_content": null,
            "align_items": null,
            "align_self": null,
            "border": null,
            "bottom": null,
            "display": null,
            "flex": null,
            "flex_flow": null,
            "grid_area": null,
            "grid_auto_columns": null,
            "grid_auto_flow": null,
            "grid_auto_rows": null,
            "grid_column": null,
            "grid_gap": null,
            "grid_row": null,
            "grid_template_areas": null,
            "grid_template_columns": null,
            "grid_template_rows": null,
            "height": null,
            "justify_content": null,
            "justify_items": null,
            "left": null,
            "margin": null,
            "max_height": null,
            "max_width": null,
            "min_height": null,
            "min_width": null,
            "object_fit": null,
            "object_position": null,
            "order": null,
            "overflow": null,
            "overflow_x": null,
            "overflow_y": null,
            "padding": null,
            "right": null,
            "top": null,
            "visibility": null,
            "width": null
          }
        },
        "e455eba8219644cb81795c6daa0a01d9": {
          "model_module": "@jupyter-widgets/controls",
          "model_name": "ProgressStyleModel",
          "model_module_version": "1.5.0",
          "state": {
            "_model_module": "@jupyter-widgets/controls",
            "_model_module_version": "1.5.0",
            "_model_name": "ProgressStyleModel",
            "_view_count": null,
            "_view_module": "@jupyter-widgets/base",
            "_view_module_version": "1.2.0",
            "_view_name": "StyleView",
            "bar_color": null,
            "description_width": ""
          }
        },
        "b9e231c28fa04dffa8c4de346c828a07": {
          "model_module": "@jupyter-widgets/base",
          "model_name": "LayoutModel",
          "model_module_version": "1.2.0",
          "state": {
            "_model_module": "@jupyter-widgets/base",
            "_model_module_version": "1.2.0",
            "_model_name": "LayoutModel",
            "_view_count": null,
            "_view_module": "@jupyter-widgets/base",
            "_view_module_version": "1.2.0",
            "_view_name": "LayoutView",
            "align_content": null,
            "align_items": null,
            "align_self": null,
            "border": null,
            "bottom": null,
            "display": null,
            "flex": null,
            "flex_flow": null,
            "grid_area": null,
            "grid_auto_columns": null,
            "grid_auto_flow": null,
            "grid_auto_rows": null,
            "grid_column": null,
            "grid_gap": null,
            "grid_row": null,
            "grid_template_areas": null,
            "grid_template_columns": null,
            "grid_template_rows": null,
            "height": null,
            "justify_content": null,
            "justify_items": null,
            "left": null,
            "margin": null,
            "max_height": null,
            "max_width": null,
            "min_height": null,
            "min_width": null,
            "object_fit": null,
            "object_position": null,
            "order": null,
            "overflow": null,
            "overflow_x": null,
            "overflow_y": null,
            "padding": null,
            "right": null,
            "top": null,
            "visibility": null,
            "width": null
          }
        },
        "16698b6729da4e59b77784bd37afde67": {
          "model_module": "@jupyter-widgets/controls",
          "model_name": "DescriptionStyleModel",
          "model_module_version": "1.5.0",
          "state": {
            "_model_module": "@jupyter-widgets/controls",
            "_model_module_version": "1.5.0",
            "_model_name": "DescriptionStyleModel",
            "_view_count": null,
            "_view_module": "@jupyter-widgets/base",
            "_view_module_version": "1.2.0",
            "_view_name": "StyleView",
            "description_width": ""
          }
        },
        "11674db597a44940a60ae73ab792ec8d": {
          "model_module": "@jupyter-widgets/controls",
          "model_name": "HBoxModel",
          "model_module_version": "1.5.0",
          "state": {
            "_dom_classes": [],
            "_model_module": "@jupyter-widgets/controls",
            "_model_module_version": "1.5.0",
            "_model_name": "HBoxModel",
            "_view_count": null,
            "_view_module": "@jupyter-widgets/controls",
            "_view_module_version": "1.5.0",
            "_view_name": "HBoxView",
            "box_style": "",
            "children": [
              "IPY_MODEL_2baf9100a8b440faae7c70909b1a794b",
              "IPY_MODEL_8709fd657e9c4492b22adeeb1272bf27",
              "IPY_MODEL_992507ed0bd046aa8c59311176de5533"
            ],
            "layout": "IPY_MODEL_21dff1b9d2e543289cbd84c407be452b"
          }
        },
        "2baf9100a8b440faae7c70909b1a794b": {
          "model_module": "@jupyter-widgets/controls",
          "model_name": "HTMLModel",
          "model_module_version": "1.5.0",
          "state": {
            "_dom_classes": [],
            "_model_module": "@jupyter-widgets/controls",
            "_model_module_version": "1.5.0",
            "_model_name": "HTMLModel",
            "_view_count": null,
            "_view_module": "@jupyter-widgets/controls",
            "_view_module_version": "1.5.0",
            "_view_name": "HTMLView",
            "description": "",
            "description_tooltip": null,
            "layout": "IPY_MODEL_267d38b6c7654eccbdac69b9a9c76290",
            "placeholder": "​",
            "style": "IPY_MODEL_1e7c9dafcf094b2db172ab0e5ec6bb6b",
            "value": "100%"
          }
        },
        "8709fd657e9c4492b22adeeb1272bf27": {
          "model_module": "@jupyter-widgets/controls",
          "model_name": "FloatProgressModel",
          "model_module_version": "1.5.0",
          "state": {
            "_dom_classes": [],
            "_model_module": "@jupyter-widgets/controls",
            "_model_module_version": "1.5.0",
            "_model_name": "FloatProgressModel",
            "_view_count": null,
            "_view_module": "@jupyter-widgets/controls",
            "_view_module_version": "1.5.0",
            "_view_name": "ProgressView",
            "bar_style": "success",
            "description": "",
            "description_tooltip": null,
            "layout": "IPY_MODEL_0eda713d07334d0d921f6641128631b9",
            "max": 10,
            "min": 0,
            "orientation": "horizontal",
            "style": "IPY_MODEL_38377f148716410b9e5cbb46d9ed4a85",
            "value": 10
          }
        },
        "992507ed0bd046aa8c59311176de5533": {
          "model_module": "@jupyter-widgets/controls",
          "model_name": "HTMLModel",
          "model_module_version": "1.5.0",
          "state": {
            "_dom_classes": [],
            "_model_module": "@jupyter-widgets/controls",
            "_model_module_version": "1.5.0",
            "_model_name": "HTMLModel",
            "_view_count": null,
            "_view_module": "@jupyter-widgets/controls",
            "_view_module_version": "1.5.0",
            "_view_name": "HTMLView",
            "description": "",
            "description_tooltip": null,
            "layout": "IPY_MODEL_c3bf614818724390994ffbe77636b104",
            "placeholder": "​",
            "style": "IPY_MODEL_3f83633df6514ebb83e539f88db25553",
            "value": " 10/10 [01:44&lt;00:00, 10.60s/it]"
          }
        },
        "21dff1b9d2e543289cbd84c407be452b": {
          "model_module": "@jupyter-widgets/base",
          "model_name": "LayoutModel",
          "model_module_version": "1.2.0",
          "state": {
            "_model_module": "@jupyter-widgets/base",
            "_model_module_version": "1.2.0",
            "_model_name": "LayoutModel",
            "_view_count": null,
            "_view_module": "@jupyter-widgets/base",
            "_view_module_version": "1.2.0",
            "_view_name": "LayoutView",
            "align_content": null,
            "align_items": null,
            "align_self": null,
            "border": null,
            "bottom": null,
            "display": null,
            "flex": null,
            "flex_flow": null,
            "grid_area": null,
            "grid_auto_columns": null,
            "grid_auto_flow": null,
            "grid_auto_rows": null,
            "grid_column": null,
            "grid_gap": null,
            "grid_row": null,
            "grid_template_areas": null,
            "grid_template_columns": null,
            "grid_template_rows": null,
            "height": null,
            "justify_content": null,
            "justify_items": null,
            "left": null,
            "margin": null,
            "max_height": null,
            "max_width": null,
            "min_height": null,
            "min_width": null,
            "object_fit": null,
            "object_position": null,
            "order": null,
            "overflow": null,
            "overflow_x": null,
            "overflow_y": null,
            "padding": null,
            "right": null,
            "top": null,
            "visibility": null,
            "width": null
          }
        },
        "267d38b6c7654eccbdac69b9a9c76290": {
          "model_module": "@jupyter-widgets/base",
          "model_name": "LayoutModel",
          "model_module_version": "1.2.0",
          "state": {
            "_model_module": "@jupyter-widgets/base",
            "_model_module_version": "1.2.0",
            "_model_name": "LayoutModel",
            "_view_count": null,
            "_view_module": "@jupyter-widgets/base",
            "_view_module_version": "1.2.0",
            "_view_name": "LayoutView",
            "align_content": null,
            "align_items": null,
            "align_self": null,
            "border": null,
            "bottom": null,
            "display": null,
            "flex": null,
            "flex_flow": null,
            "grid_area": null,
            "grid_auto_columns": null,
            "grid_auto_flow": null,
            "grid_auto_rows": null,
            "grid_column": null,
            "grid_gap": null,
            "grid_row": null,
            "grid_template_areas": null,
            "grid_template_columns": null,
            "grid_template_rows": null,
            "height": null,
            "justify_content": null,
            "justify_items": null,
            "left": null,
            "margin": null,
            "max_height": null,
            "max_width": null,
            "min_height": null,
            "min_width": null,
            "object_fit": null,
            "object_position": null,
            "order": null,
            "overflow": null,
            "overflow_x": null,
            "overflow_y": null,
            "padding": null,
            "right": null,
            "top": null,
            "visibility": null,
            "width": null
          }
        },
        "1e7c9dafcf094b2db172ab0e5ec6bb6b": {
          "model_module": "@jupyter-widgets/controls",
          "model_name": "DescriptionStyleModel",
          "model_module_version": "1.5.0",
          "state": {
            "_model_module": "@jupyter-widgets/controls",
            "_model_module_version": "1.5.0",
            "_model_name": "DescriptionStyleModel",
            "_view_count": null,
            "_view_module": "@jupyter-widgets/base",
            "_view_module_version": "1.2.0",
            "_view_name": "StyleView",
            "description_width": ""
          }
        },
        "0eda713d07334d0d921f6641128631b9": {
          "model_module": "@jupyter-widgets/base",
          "model_name": "LayoutModel",
          "model_module_version": "1.2.0",
          "state": {
            "_model_module": "@jupyter-widgets/base",
            "_model_module_version": "1.2.0",
            "_model_name": "LayoutModel",
            "_view_count": null,
            "_view_module": "@jupyter-widgets/base",
            "_view_module_version": "1.2.0",
            "_view_name": "LayoutView",
            "align_content": null,
            "align_items": null,
            "align_self": null,
            "border": null,
            "bottom": null,
            "display": null,
            "flex": null,
            "flex_flow": null,
            "grid_area": null,
            "grid_auto_columns": null,
            "grid_auto_flow": null,
            "grid_auto_rows": null,
            "grid_column": null,
            "grid_gap": null,
            "grid_row": null,
            "grid_template_areas": null,
            "grid_template_columns": null,
            "grid_template_rows": null,
            "height": null,
            "justify_content": null,
            "justify_items": null,
            "left": null,
            "margin": null,
            "max_height": null,
            "max_width": null,
            "min_height": null,
            "min_width": null,
            "object_fit": null,
            "object_position": null,
            "order": null,
            "overflow": null,
            "overflow_x": null,
            "overflow_y": null,
            "padding": null,
            "right": null,
            "top": null,
            "visibility": null,
            "width": null
          }
        },
        "38377f148716410b9e5cbb46d9ed4a85": {
          "model_module": "@jupyter-widgets/controls",
          "model_name": "ProgressStyleModel",
          "model_module_version": "1.5.0",
          "state": {
            "_model_module": "@jupyter-widgets/controls",
            "_model_module_version": "1.5.0",
            "_model_name": "ProgressStyleModel",
            "_view_count": null,
            "_view_module": "@jupyter-widgets/base",
            "_view_module_version": "1.2.0",
            "_view_name": "StyleView",
            "bar_color": null,
            "description_width": ""
          }
        },
        "c3bf614818724390994ffbe77636b104": {
          "model_module": "@jupyter-widgets/base",
          "model_name": "LayoutModel",
          "model_module_version": "1.2.0",
          "state": {
            "_model_module": "@jupyter-widgets/base",
            "_model_module_version": "1.2.0",
            "_model_name": "LayoutModel",
            "_view_count": null,
            "_view_module": "@jupyter-widgets/base",
            "_view_module_version": "1.2.0",
            "_view_name": "LayoutView",
            "align_content": null,
            "align_items": null,
            "align_self": null,
            "border": null,
            "bottom": null,
            "display": null,
            "flex": null,
            "flex_flow": null,
            "grid_area": null,
            "grid_auto_columns": null,
            "grid_auto_flow": null,
            "grid_auto_rows": null,
            "grid_column": null,
            "grid_gap": null,
            "grid_row": null,
            "grid_template_areas": null,
            "grid_template_columns": null,
            "grid_template_rows": null,
            "height": null,
            "justify_content": null,
            "justify_items": null,
            "left": null,
            "margin": null,
            "max_height": null,
            "max_width": null,
            "min_height": null,
            "min_width": null,
            "object_fit": null,
            "object_position": null,
            "order": null,
            "overflow": null,
            "overflow_x": null,
            "overflow_y": null,
            "padding": null,
            "right": null,
            "top": null,
            "visibility": null,
            "width": null
          }
        },
        "3f83633df6514ebb83e539f88db25553": {
          "model_module": "@jupyter-widgets/controls",
          "model_name": "DescriptionStyleModel",
          "model_module_version": "1.5.0",
          "state": {
            "_model_module": "@jupyter-widgets/controls",
            "_model_module_version": "1.5.0",
            "_model_name": "DescriptionStyleModel",
            "_view_count": null,
            "_view_module": "@jupyter-widgets/base",
            "_view_module_version": "1.2.0",
            "_view_name": "StyleView",
            "description_width": ""
          }
        },
        "da7c38470ce84c93a722a388bd7580b2": {
          "model_module": "@jupyter-widgets/controls",
          "model_name": "HBoxModel",
          "model_module_version": "1.5.0",
          "state": {
            "_dom_classes": [],
            "_model_module": "@jupyter-widgets/controls",
            "_model_module_version": "1.5.0",
            "_model_name": "HBoxModel",
            "_view_count": null,
            "_view_module": "@jupyter-widgets/controls",
            "_view_module_version": "1.5.0",
            "_view_name": "HBoxView",
            "box_style": "",
            "children": [
              "IPY_MODEL_66e0534ffacd4688aaddcfbd6a38a851",
              "IPY_MODEL_12043b5bd8304e878634875ed4922ce3",
              "IPY_MODEL_50955ecc4aa241b49d9ba0e23bf3a91f"
            ],
            "layout": "IPY_MODEL_301ac686d1c04557b9a8f5e1cd8d7c87"
          }
        },
        "66e0534ffacd4688aaddcfbd6a38a851": {
          "model_module": "@jupyter-widgets/controls",
          "model_name": "HTMLModel",
          "model_module_version": "1.5.0",
          "state": {
            "_dom_classes": [],
            "_model_module": "@jupyter-widgets/controls",
            "_model_module_version": "1.5.0",
            "_model_name": "HTMLModel",
            "_view_count": null,
            "_view_module": "@jupyter-widgets/controls",
            "_view_module_version": "1.5.0",
            "_view_name": "HTMLView",
            "description": "",
            "description_tooltip": null,
            "layout": "IPY_MODEL_3b1241b478d94c479fe79b57925346d7",
            "placeholder": "​",
            "style": "IPY_MODEL_38b77ef926ff4b5882732b2797fecdf3",
            "value": "100%"
          }
        },
        "12043b5bd8304e878634875ed4922ce3": {
          "model_module": "@jupyter-widgets/controls",
          "model_name": "FloatProgressModel",
          "model_module_version": "1.5.0",
          "state": {
            "_dom_classes": [],
            "_model_module": "@jupyter-widgets/controls",
            "_model_module_version": "1.5.0",
            "_model_name": "FloatProgressModel",
            "_view_count": null,
            "_view_module": "@jupyter-widgets/controls",
            "_view_module_version": "1.5.0",
            "_view_name": "ProgressView",
            "bar_style": "success",
            "description": "",
            "description_tooltip": null,
            "layout": "IPY_MODEL_74d3b1df12ae4ee0863bac14fd1f6719",
            "max": 313,
            "min": 0,
            "orientation": "horizontal",
            "style": "IPY_MODEL_636301267cb64f00b79d9db29cf032db",
            "value": 313
          }
        },
        "50955ecc4aa241b49d9ba0e23bf3a91f": {
          "model_module": "@jupyter-widgets/controls",
          "model_name": "HTMLModel",
          "model_module_version": "1.5.0",
          "state": {
            "_dom_classes": [],
            "_model_module": "@jupyter-widgets/controls",
            "_model_module_version": "1.5.0",
            "_model_name": "HTMLModel",
            "_view_count": null,
            "_view_module": "@jupyter-widgets/controls",
            "_view_module_version": "1.5.0",
            "_view_name": "HTMLView",
            "description": "",
            "description_tooltip": null,
            "layout": "IPY_MODEL_dd13437a9f9f466b931c5ffd3734e56c",
            "placeholder": "​",
            "style": "IPY_MODEL_efb18f0fe6014d4b94871fd9beaaf62d",
            "value": " 313/313 [00:01&lt;00:00, 214.27it/s]"
          }
        },
        "301ac686d1c04557b9a8f5e1cd8d7c87": {
          "model_module": "@jupyter-widgets/base",
          "model_name": "LayoutModel",
          "model_module_version": "1.2.0",
          "state": {
            "_model_module": "@jupyter-widgets/base",
            "_model_module_version": "1.2.0",
            "_model_name": "LayoutModel",
            "_view_count": null,
            "_view_module": "@jupyter-widgets/base",
            "_view_module_version": "1.2.0",
            "_view_name": "LayoutView",
            "align_content": null,
            "align_items": null,
            "align_self": null,
            "border": null,
            "bottom": null,
            "display": null,
            "flex": null,
            "flex_flow": null,
            "grid_area": null,
            "grid_auto_columns": null,
            "grid_auto_flow": null,
            "grid_auto_rows": null,
            "grid_column": null,
            "grid_gap": null,
            "grid_row": null,
            "grid_template_areas": null,
            "grid_template_columns": null,
            "grid_template_rows": null,
            "height": null,
            "justify_content": null,
            "justify_items": null,
            "left": null,
            "margin": null,
            "max_height": null,
            "max_width": null,
            "min_height": null,
            "min_width": null,
            "object_fit": null,
            "object_position": null,
            "order": null,
            "overflow": null,
            "overflow_x": null,
            "overflow_y": null,
            "padding": null,
            "right": null,
            "top": null,
            "visibility": null,
            "width": null
          }
        },
        "3b1241b478d94c479fe79b57925346d7": {
          "model_module": "@jupyter-widgets/base",
          "model_name": "LayoutModel",
          "model_module_version": "1.2.0",
          "state": {
            "_model_module": "@jupyter-widgets/base",
            "_model_module_version": "1.2.0",
            "_model_name": "LayoutModel",
            "_view_count": null,
            "_view_module": "@jupyter-widgets/base",
            "_view_module_version": "1.2.0",
            "_view_name": "LayoutView",
            "align_content": null,
            "align_items": null,
            "align_self": null,
            "border": null,
            "bottom": null,
            "display": null,
            "flex": null,
            "flex_flow": null,
            "grid_area": null,
            "grid_auto_columns": null,
            "grid_auto_flow": null,
            "grid_auto_rows": null,
            "grid_column": null,
            "grid_gap": null,
            "grid_row": null,
            "grid_template_areas": null,
            "grid_template_columns": null,
            "grid_template_rows": null,
            "height": null,
            "justify_content": null,
            "justify_items": null,
            "left": null,
            "margin": null,
            "max_height": null,
            "max_width": null,
            "min_height": null,
            "min_width": null,
            "object_fit": null,
            "object_position": null,
            "order": null,
            "overflow": null,
            "overflow_x": null,
            "overflow_y": null,
            "padding": null,
            "right": null,
            "top": null,
            "visibility": null,
            "width": null
          }
        },
        "38b77ef926ff4b5882732b2797fecdf3": {
          "model_module": "@jupyter-widgets/controls",
          "model_name": "DescriptionStyleModel",
          "model_module_version": "1.5.0",
          "state": {
            "_model_module": "@jupyter-widgets/controls",
            "_model_module_version": "1.5.0",
            "_model_name": "DescriptionStyleModel",
            "_view_count": null,
            "_view_module": "@jupyter-widgets/base",
            "_view_module_version": "1.2.0",
            "_view_name": "StyleView",
            "description_width": ""
          }
        },
        "74d3b1df12ae4ee0863bac14fd1f6719": {
          "model_module": "@jupyter-widgets/base",
          "model_name": "LayoutModel",
          "model_module_version": "1.2.0",
          "state": {
            "_model_module": "@jupyter-widgets/base",
            "_model_module_version": "1.2.0",
            "_model_name": "LayoutModel",
            "_view_count": null,
            "_view_module": "@jupyter-widgets/base",
            "_view_module_version": "1.2.0",
            "_view_name": "LayoutView",
            "align_content": null,
            "align_items": null,
            "align_self": null,
            "border": null,
            "bottom": null,
            "display": null,
            "flex": null,
            "flex_flow": null,
            "grid_area": null,
            "grid_auto_columns": null,
            "grid_auto_flow": null,
            "grid_auto_rows": null,
            "grid_column": null,
            "grid_gap": null,
            "grid_row": null,
            "grid_template_areas": null,
            "grid_template_columns": null,
            "grid_template_rows": null,
            "height": null,
            "justify_content": null,
            "justify_items": null,
            "left": null,
            "margin": null,
            "max_height": null,
            "max_width": null,
            "min_height": null,
            "min_width": null,
            "object_fit": null,
            "object_position": null,
            "order": null,
            "overflow": null,
            "overflow_x": null,
            "overflow_y": null,
            "padding": null,
            "right": null,
            "top": null,
            "visibility": null,
            "width": null
          }
        },
        "636301267cb64f00b79d9db29cf032db": {
          "model_module": "@jupyter-widgets/controls",
          "model_name": "ProgressStyleModel",
          "model_module_version": "1.5.0",
          "state": {
            "_model_module": "@jupyter-widgets/controls",
            "_model_module_version": "1.5.0",
            "_model_name": "ProgressStyleModel",
            "_view_count": null,
            "_view_module": "@jupyter-widgets/base",
            "_view_module_version": "1.2.0",
            "_view_name": "StyleView",
            "bar_color": null,
            "description_width": ""
          }
        },
        "dd13437a9f9f466b931c5ffd3734e56c": {
          "model_module": "@jupyter-widgets/base",
          "model_name": "LayoutModel",
          "model_module_version": "1.2.0",
          "state": {
            "_model_module": "@jupyter-widgets/base",
            "_model_module_version": "1.2.0",
            "_model_name": "LayoutModel",
            "_view_count": null,
            "_view_module": "@jupyter-widgets/base",
            "_view_module_version": "1.2.0",
            "_view_name": "LayoutView",
            "align_content": null,
            "align_items": null,
            "align_self": null,
            "border": null,
            "bottom": null,
            "display": null,
            "flex": null,
            "flex_flow": null,
            "grid_area": null,
            "grid_auto_columns": null,
            "grid_auto_flow": null,
            "grid_auto_rows": null,
            "grid_column": null,
            "grid_gap": null,
            "grid_row": null,
            "grid_template_areas": null,
            "grid_template_columns": null,
            "grid_template_rows": null,
            "height": null,
            "justify_content": null,
            "justify_items": null,
            "left": null,
            "margin": null,
            "max_height": null,
            "max_width": null,
            "min_height": null,
            "min_width": null,
            "object_fit": null,
            "object_position": null,
            "order": null,
            "overflow": null,
            "overflow_x": null,
            "overflow_y": null,
            "padding": null,
            "right": null,
            "top": null,
            "visibility": null,
            "width": null
          }
        },
        "efb18f0fe6014d4b94871fd9beaaf62d": {
          "model_module": "@jupyter-widgets/controls",
          "model_name": "DescriptionStyleModel",
          "model_module_version": "1.5.0",
          "state": {
            "_model_module": "@jupyter-widgets/controls",
            "_model_module_version": "1.5.0",
            "_model_name": "DescriptionStyleModel",
            "_view_count": null,
            "_view_module": "@jupyter-widgets/base",
            "_view_module_version": "1.2.0",
            "_view_name": "StyleView",
            "description_width": ""
          }
        },
        "5e6ceda03bc8400ea4b689985fb8c414": {
          "model_module": "@jupyter-widgets/controls",
          "model_name": "HBoxModel",
          "model_module_version": "1.5.0",
          "state": {
            "_dom_classes": [],
            "_model_module": "@jupyter-widgets/controls",
            "_model_module_version": "1.5.0",
            "_model_name": "HBoxModel",
            "_view_count": null,
            "_view_module": "@jupyter-widgets/controls",
            "_view_module_version": "1.5.0",
            "_view_name": "HBoxView",
            "box_style": "",
            "children": [
              "IPY_MODEL_72b50a31a71c40d79ad7e0dabd9021c3",
              "IPY_MODEL_e9a497b529b44a9a9b52976ac37c46c3",
              "IPY_MODEL_06fac6c33f9f4d2e8d226b1fbbfb2d60"
            ],
            "layout": "IPY_MODEL_ba87833fa09648b7bac79d54de5224cc"
          }
        },
        "72b50a31a71c40d79ad7e0dabd9021c3": {
          "model_module": "@jupyter-widgets/controls",
          "model_name": "HTMLModel",
          "model_module_version": "1.5.0",
          "state": {
            "_dom_classes": [],
            "_model_module": "@jupyter-widgets/controls",
            "_model_module_version": "1.5.0",
            "_model_name": "HTMLModel",
            "_view_count": null,
            "_view_module": "@jupyter-widgets/controls",
            "_view_module_version": "1.5.0",
            "_view_name": "HTMLView",
            "description": "",
            "description_tooltip": null,
            "layout": "IPY_MODEL_9ae03d0fbedd4df29390a15d33a43606",
            "placeholder": "​",
            "style": "IPY_MODEL_82f6fd871b084a37a2b35309b5d7f7ad",
            "value": "100%"
          }
        },
        "e9a497b529b44a9a9b52976ac37c46c3": {
          "model_module": "@jupyter-widgets/controls",
          "model_name": "FloatProgressModel",
          "model_module_version": "1.5.0",
          "state": {
            "_dom_classes": [],
            "_model_module": "@jupyter-widgets/controls",
            "_model_module_version": "1.5.0",
            "_model_name": "FloatProgressModel",
            "_view_count": null,
            "_view_module": "@jupyter-widgets/controls",
            "_view_module_version": "1.5.0",
            "_view_name": "ProgressView",
            "bar_style": "success",
            "description": "",
            "description_tooltip": null,
            "layout": "IPY_MODEL_2386683da1c84409bc68dfde34f6cfe2",
            "max": 10,
            "min": 0,
            "orientation": "horizontal",
            "style": "IPY_MODEL_29f1d24752fd4ed8abf57cf5bb160d5f",
            "value": 10
          }
        },
        "06fac6c33f9f4d2e8d226b1fbbfb2d60": {
          "model_module": "@jupyter-widgets/controls",
          "model_name": "HTMLModel",
          "model_module_version": "1.5.0",
          "state": {
            "_dom_classes": [],
            "_model_module": "@jupyter-widgets/controls",
            "_model_module_version": "1.5.0",
            "_model_name": "HTMLModel",
            "_view_count": null,
            "_view_module": "@jupyter-widgets/controls",
            "_view_module_version": "1.5.0",
            "_view_name": "HTMLView",
            "description": "",
            "description_tooltip": null,
            "layout": "IPY_MODEL_20febcbb3e8c46d88f250941890da4cd",
            "placeholder": "​",
            "style": "IPY_MODEL_698c847784f64cd7b3185318a033ce46",
            "value": " 10/10 [02:09&lt;00:00, 13.04s/it]"
          }
        },
        "ba87833fa09648b7bac79d54de5224cc": {
          "model_module": "@jupyter-widgets/base",
          "model_name": "LayoutModel",
          "model_module_version": "1.2.0",
          "state": {
            "_model_module": "@jupyter-widgets/base",
            "_model_module_version": "1.2.0",
            "_model_name": "LayoutModel",
            "_view_count": null,
            "_view_module": "@jupyter-widgets/base",
            "_view_module_version": "1.2.0",
            "_view_name": "LayoutView",
            "align_content": null,
            "align_items": null,
            "align_self": null,
            "border": null,
            "bottom": null,
            "display": null,
            "flex": null,
            "flex_flow": null,
            "grid_area": null,
            "grid_auto_columns": null,
            "grid_auto_flow": null,
            "grid_auto_rows": null,
            "grid_column": null,
            "grid_gap": null,
            "grid_row": null,
            "grid_template_areas": null,
            "grid_template_columns": null,
            "grid_template_rows": null,
            "height": null,
            "justify_content": null,
            "justify_items": null,
            "left": null,
            "margin": null,
            "max_height": null,
            "max_width": null,
            "min_height": null,
            "min_width": null,
            "object_fit": null,
            "object_position": null,
            "order": null,
            "overflow": null,
            "overflow_x": null,
            "overflow_y": null,
            "padding": null,
            "right": null,
            "top": null,
            "visibility": null,
            "width": null
          }
        },
        "9ae03d0fbedd4df29390a15d33a43606": {
          "model_module": "@jupyter-widgets/base",
          "model_name": "LayoutModel",
          "model_module_version": "1.2.0",
          "state": {
            "_model_module": "@jupyter-widgets/base",
            "_model_module_version": "1.2.0",
            "_model_name": "LayoutModel",
            "_view_count": null,
            "_view_module": "@jupyter-widgets/base",
            "_view_module_version": "1.2.0",
            "_view_name": "LayoutView",
            "align_content": null,
            "align_items": null,
            "align_self": null,
            "border": null,
            "bottom": null,
            "display": null,
            "flex": null,
            "flex_flow": null,
            "grid_area": null,
            "grid_auto_columns": null,
            "grid_auto_flow": null,
            "grid_auto_rows": null,
            "grid_column": null,
            "grid_gap": null,
            "grid_row": null,
            "grid_template_areas": null,
            "grid_template_columns": null,
            "grid_template_rows": null,
            "height": null,
            "justify_content": null,
            "justify_items": null,
            "left": null,
            "margin": null,
            "max_height": null,
            "max_width": null,
            "min_height": null,
            "min_width": null,
            "object_fit": null,
            "object_position": null,
            "order": null,
            "overflow": null,
            "overflow_x": null,
            "overflow_y": null,
            "padding": null,
            "right": null,
            "top": null,
            "visibility": null,
            "width": null
          }
        },
        "82f6fd871b084a37a2b35309b5d7f7ad": {
          "model_module": "@jupyter-widgets/controls",
          "model_name": "DescriptionStyleModel",
          "model_module_version": "1.5.0",
          "state": {
            "_model_module": "@jupyter-widgets/controls",
            "_model_module_version": "1.5.0",
            "_model_name": "DescriptionStyleModel",
            "_view_count": null,
            "_view_module": "@jupyter-widgets/base",
            "_view_module_version": "1.2.0",
            "_view_name": "StyleView",
            "description_width": ""
          }
        },
        "2386683da1c84409bc68dfde34f6cfe2": {
          "model_module": "@jupyter-widgets/base",
          "model_name": "LayoutModel",
          "model_module_version": "1.2.0",
          "state": {
            "_model_module": "@jupyter-widgets/base",
            "_model_module_version": "1.2.0",
            "_model_name": "LayoutModel",
            "_view_count": null,
            "_view_module": "@jupyter-widgets/base",
            "_view_module_version": "1.2.0",
            "_view_name": "LayoutView",
            "align_content": null,
            "align_items": null,
            "align_self": null,
            "border": null,
            "bottom": null,
            "display": null,
            "flex": null,
            "flex_flow": null,
            "grid_area": null,
            "grid_auto_columns": null,
            "grid_auto_flow": null,
            "grid_auto_rows": null,
            "grid_column": null,
            "grid_gap": null,
            "grid_row": null,
            "grid_template_areas": null,
            "grid_template_columns": null,
            "grid_template_rows": null,
            "height": null,
            "justify_content": null,
            "justify_items": null,
            "left": null,
            "margin": null,
            "max_height": null,
            "max_width": null,
            "min_height": null,
            "min_width": null,
            "object_fit": null,
            "object_position": null,
            "order": null,
            "overflow": null,
            "overflow_x": null,
            "overflow_y": null,
            "padding": null,
            "right": null,
            "top": null,
            "visibility": null,
            "width": null
          }
        },
        "29f1d24752fd4ed8abf57cf5bb160d5f": {
          "model_module": "@jupyter-widgets/controls",
          "model_name": "ProgressStyleModel",
          "model_module_version": "1.5.0",
          "state": {
            "_model_module": "@jupyter-widgets/controls",
            "_model_module_version": "1.5.0",
            "_model_name": "ProgressStyleModel",
            "_view_count": null,
            "_view_module": "@jupyter-widgets/base",
            "_view_module_version": "1.2.0",
            "_view_name": "StyleView",
            "bar_color": null,
            "description_width": ""
          }
        },
        "20febcbb3e8c46d88f250941890da4cd": {
          "model_module": "@jupyter-widgets/base",
          "model_name": "LayoutModel",
          "model_module_version": "1.2.0",
          "state": {
            "_model_module": "@jupyter-widgets/base",
            "_model_module_version": "1.2.0",
            "_model_name": "LayoutModel",
            "_view_count": null,
            "_view_module": "@jupyter-widgets/base",
            "_view_module_version": "1.2.0",
            "_view_name": "LayoutView",
            "align_content": null,
            "align_items": null,
            "align_self": null,
            "border": null,
            "bottom": null,
            "display": null,
            "flex": null,
            "flex_flow": null,
            "grid_area": null,
            "grid_auto_columns": null,
            "grid_auto_flow": null,
            "grid_auto_rows": null,
            "grid_column": null,
            "grid_gap": null,
            "grid_row": null,
            "grid_template_areas": null,
            "grid_template_columns": null,
            "grid_template_rows": null,
            "height": null,
            "justify_content": null,
            "justify_items": null,
            "left": null,
            "margin": null,
            "max_height": null,
            "max_width": null,
            "min_height": null,
            "min_width": null,
            "object_fit": null,
            "object_position": null,
            "order": null,
            "overflow": null,
            "overflow_x": null,
            "overflow_y": null,
            "padding": null,
            "right": null,
            "top": null,
            "visibility": null,
            "width": null
          }
        },
        "698c847784f64cd7b3185318a033ce46": {
          "model_module": "@jupyter-widgets/controls",
          "model_name": "DescriptionStyleModel",
          "model_module_version": "1.5.0",
          "state": {
            "_model_module": "@jupyter-widgets/controls",
            "_model_module_version": "1.5.0",
            "_model_name": "DescriptionStyleModel",
            "_view_count": null,
            "_view_module": "@jupyter-widgets/base",
            "_view_module_version": "1.2.0",
            "_view_name": "StyleView",
            "description_width": ""
          }
        },
        "a9829a56420240aba8309b7f6ad53cee": {
          "model_module": "@jupyter-widgets/controls",
          "model_name": "HBoxModel",
          "model_module_version": "1.5.0",
          "state": {
            "_dom_classes": [],
            "_model_module": "@jupyter-widgets/controls",
            "_model_module_version": "1.5.0",
            "_model_name": "HBoxModel",
            "_view_count": null,
            "_view_module": "@jupyter-widgets/controls",
            "_view_module_version": "1.5.0",
            "_view_name": "HBoxView",
            "box_style": "",
            "children": [
              "IPY_MODEL_604f25ca99f04549ba978217ad2a6b60",
              "IPY_MODEL_c00cb215b0d7428ab24b41975d6a70da",
              "IPY_MODEL_67d73ccdce094908a7a5ad5f40ba7582"
            ],
            "layout": "IPY_MODEL_a06dc220faed4ce9b8f9331675bf0d8d"
          }
        },
        "604f25ca99f04549ba978217ad2a6b60": {
          "model_module": "@jupyter-widgets/controls",
          "model_name": "HTMLModel",
          "model_module_version": "1.5.0",
          "state": {
            "_dom_classes": [],
            "_model_module": "@jupyter-widgets/controls",
            "_model_module_version": "1.5.0",
            "_model_name": "HTMLModel",
            "_view_count": null,
            "_view_module": "@jupyter-widgets/controls",
            "_view_module_version": "1.5.0",
            "_view_name": "HTMLView",
            "description": "",
            "description_tooltip": null,
            "layout": "IPY_MODEL_1f13af85489340bdab25ae6341cc5f38",
            "placeholder": "​",
            "style": "IPY_MODEL_348fef5a70884171a3fc7bae82ab3ebc",
            "value": "100%"
          }
        },
        "c00cb215b0d7428ab24b41975d6a70da": {
          "model_module": "@jupyter-widgets/controls",
          "model_name": "FloatProgressModel",
          "model_module_version": "1.5.0",
          "state": {
            "_dom_classes": [],
            "_model_module": "@jupyter-widgets/controls",
            "_model_module_version": "1.5.0",
            "_model_name": "FloatProgressModel",
            "_view_count": null,
            "_view_module": "@jupyter-widgets/controls",
            "_view_module_version": "1.5.0",
            "_view_name": "ProgressView",
            "bar_style": "success",
            "description": "",
            "description_tooltip": null,
            "layout": "IPY_MODEL_03a07ec7dfcc4b01881595d67bc83b31",
            "max": 313,
            "min": 0,
            "orientation": "horizontal",
            "style": "IPY_MODEL_99e72b0db1b4438796d36c50b125af5b",
            "value": 313
          }
        },
        "67d73ccdce094908a7a5ad5f40ba7582": {
          "model_module": "@jupyter-widgets/controls",
          "model_name": "HTMLModel",
          "model_module_version": "1.5.0",
          "state": {
            "_dom_classes": [],
            "_model_module": "@jupyter-widgets/controls",
            "_model_module_version": "1.5.0",
            "_model_name": "HTMLModel",
            "_view_count": null,
            "_view_module": "@jupyter-widgets/controls",
            "_view_module_version": "1.5.0",
            "_view_name": "HTMLView",
            "description": "",
            "description_tooltip": null,
            "layout": "IPY_MODEL_341c817f3c1f47489946b159a84782d4",
            "placeholder": "​",
            "style": "IPY_MODEL_1de1ecf94b9946a0932be57afa3352e7",
            "value": " 313/313 [00:01&lt;00:00, 179.88it/s]"
          }
        },
        "a06dc220faed4ce9b8f9331675bf0d8d": {
          "model_module": "@jupyter-widgets/base",
          "model_name": "LayoutModel",
          "model_module_version": "1.2.0",
          "state": {
            "_model_module": "@jupyter-widgets/base",
            "_model_module_version": "1.2.0",
            "_model_name": "LayoutModel",
            "_view_count": null,
            "_view_module": "@jupyter-widgets/base",
            "_view_module_version": "1.2.0",
            "_view_name": "LayoutView",
            "align_content": null,
            "align_items": null,
            "align_self": null,
            "border": null,
            "bottom": null,
            "display": null,
            "flex": null,
            "flex_flow": null,
            "grid_area": null,
            "grid_auto_columns": null,
            "grid_auto_flow": null,
            "grid_auto_rows": null,
            "grid_column": null,
            "grid_gap": null,
            "grid_row": null,
            "grid_template_areas": null,
            "grid_template_columns": null,
            "grid_template_rows": null,
            "height": null,
            "justify_content": null,
            "justify_items": null,
            "left": null,
            "margin": null,
            "max_height": null,
            "max_width": null,
            "min_height": null,
            "min_width": null,
            "object_fit": null,
            "object_position": null,
            "order": null,
            "overflow": null,
            "overflow_x": null,
            "overflow_y": null,
            "padding": null,
            "right": null,
            "top": null,
            "visibility": null,
            "width": null
          }
        },
        "1f13af85489340bdab25ae6341cc5f38": {
          "model_module": "@jupyter-widgets/base",
          "model_name": "LayoutModel",
          "model_module_version": "1.2.0",
          "state": {
            "_model_module": "@jupyter-widgets/base",
            "_model_module_version": "1.2.0",
            "_model_name": "LayoutModel",
            "_view_count": null,
            "_view_module": "@jupyter-widgets/base",
            "_view_module_version": "1.2.0",
            "_view_name": "LayoutView",
            "align_content": null,
            "align_items": null,
            "align_self": null,
            "border": null,
            "bottom": null,
            "display": null,
            "flex": null,
            "flex_flow": null,
            "grid_area": null,
            "grid_auto_columns": null,
            "grid_auto_flow": null,
            "grid_auto_rows": null,
            "grid_column": null,
            "grid_gap": null,
            "grid_row": null,
            "grid_template_areas": null,
            "grid_template_columns": null,
            "grid_template_rows": null,
            "height": null,
            "justify_content": null,
            "justify_items": null,
            "left": null,
            "margin": null,
            "max_height": null,
            "max_width": null,
            "min_height": null,
            "min_width": null,
            "object_fit": null,
            "object_position": null,
            "order": null,
            "overflow": null,
            "overflow_x": null,
            "overflow_y": null,
            "padding": null,
            "right": null,
            "top": null,
            "visibility": null,
            "width": null
          }
        },
        "348fef5a70884171a3fc7bae82ab3ebc": {
          "model_module": "@jupyter-widgets/controls",
          "model_name": "DescriptionStyleModel",
          "model_module_version": "1.5.0",
          "state": {
            "_model_module": "@jupyter-widgets/controls",
            "_model_module_version": "1.5.0",
            "_model_name": "DescriptionStyleModel",
            "_view_count": null,
            "_view_module": "@jupyter-widgets/base",
            "_view_module_version": "1.2.0",
            "_view_name": "StyleView",
            "description_width": ""
          }
        },
        "03a07ec7dfcc4b01881595d67bc83b31": {
          "model_module": "@jupyter-widgets/base",
          "model_name": "LayoutModel",
          "model_module_version": "1.2.0",
          "state": {
            "_model_module": "@jupyter-widgets/base",
            "_model_module_version": "1.2.0",
            "_model_name": "LayoutModel",
            "_view_count": null,
            "_view_module": "@jupyter-widgets/base",
            "_view_module_version": "1.2.0",
            "_view_name": "LayoutView",
            "align_content": null,
            "align_items": null,
            "align_self": null,
            "border": null,
            "bottom": null,
            "display": null,
            "flex": null,
            "flex_flow": null,
            "grid_area": null,
            "grid_auto_columns": null,
            "grid_auto_flow": null,
            "grid_auto_rows": null,
            "grid_column": null,
            "grid_gap": null,
            "grid_row": null,
            "grid_template_areas": null,
            "grid_template_columns": null,
            "grid_template_rows": null,
            "height": null,
            "justify_content": null,
            "justify_items": null,
            "left": null,
            "margin": null,
            "max_height": null,
            "max_width": null,
            "min_height": null,
            "min_width": null,
            "object_fit": null,
            "object_position": null,
            "order": null,
            "overflow": null,
            "overflow_x": null,
            "overflow_y": null,
            "padding": null,
            "right": null,
            "top": null,
            "visibility": null,
            "width": null
          }
        },
        "99e72b0db1b4438796d36c50b125af5b": {
          "model_module": "@jupyter-widgets/controls",
          "model_name": "ProgressStyleModel",
          "model_module_version": "1.5.0",
          "state": {
            "_model_module": "@jupyter-widgets/controls",
            "_model_module_version": "1.5.0",
            "_model_name": "ProgressStyleModel",
            "_view_count": null,
            "_view_module": "@jupyter-widgets/base",
            "_view_module_version": "1.2.0",
            "_view_name": "StyleView",
            "bar_color": null,
            "description_width": ""
          }
        },
        "341c817f3c1f47489946b159a84782d4": {
          "model_module": "@jupyter-widgets/base",
          "model_name": "LayoutModel",
          "model_module_version": "1.2.0",
          "state": {
            "_model_module": "@jupyter-widgets/base",
            "_model_module_version": "1.2.0",
            "_model_name": "LayoutModel",
            "_view_count": null,
            "_view_module": "@jupyter-widgets/base",
            "_view_module_version": "1.2.0",
            "_view_name": "LayoutView",
            "align_content": null,
            "align_items": null,
            "align_self": null,
            "border": null,
            "bottom": null,
            "display": null,
            "flex": null,
            "flex_flow": null,
            "grid_area": null,
            "grid_auto_columns": null,
            "grid_auto_flow": null,
            "grid_auto_rows": null,
            "grid_column": null,
            "grid_gap": null,
            "grid_row": null,
            "grid_template_areas": null,
            "grid_template_columns": null,
            "grid_template_rows": null,
            "height": null,
            "justify_content": null,
            "justify_items": null,
            "left": null,
            "margin": null,
            "max_height": null,
            "max_width": null,
            "min_height": null,
            "min_width": null,
            "object_fit": null,
            "object_position": null,
            "order": null,
            "overflow": null,
            "overflow_x": null,
            "overflow_y": null,
            "padding": null,
            "right": null,
            "top": null,
            "visibility": null,
            "width": null
          }
        },
        "1de1ecf94b9946a0932be57afa3352e7": {
          "model_module": "@jupyter-widgets/controls",
          "model_name": "DescriptionStyleModel",
          "model_module_version": "1.5.0",
          "state": {
            "_model_module": "@jupyter-widgets/controls",
            "_model_module_version": "1.5.0",
            "_model_name": "DescriptionStyleModel",
            "_view_count": null,
            "_view_module": "@jupyter-widgets/base",
            "_view_module_version": "1.2.0",
            "_view_name": "StyleView",
            "description_width": ""
          }
        }
      }
    },
    "accelerator": "GPU"
  },
  "cells": [
    {
      "cell_type": "markdown",
      "metadata": {
        "id": "view-in-github",
        "colab_type": "text"
      },
      "source": [
        "<a href=\"https://colab.research.google.com/github/jenniferamhajduk/AIML_Playground/blob/main/Computer_Vision.ipynb\" target=\"_parent\"><img src=\"https://colab.research.google.com/assets/colab-badge.svg\" alt=\"Open In Colab\"/></a>"
      ]
    },
    {
      "cell_type": "code",
      "source": [
        "!pip install tqdm"
      ],
      "metadata": {
        "id": "vRzIQf17S-Eg",
        "colab": {
          "base_uri": "https://localhost:8080/"
        },
        "outputId": "1aff0ddb-29b0-4fe9-a01e-bb4f575becf5"
      },
      "execution_count": 96,
      "outputs": [
        {
          "output_type": "stream",
          "name": "stdout",
          "text": [
            "Requirement already satisfied: tqdm in /usr/local/lib/python3.10/dist-packages (4.66.2)\n"
          ]
        }
      ]
    },
    {
      "cell_type": "code",
      "execution_count": 97,
      "metadata": {
        "id": "BhrNoaEZGQ5n",
        "colab": {
          "base_uri": "https://localhost:8080/"
        },
        "outputId": "506582ad-28ca-4f6a-e16e-74b31f0c0efd"
      },
      "outputs": [
        {
          "output_type": "stream",
          "name": "stdout",
          "text": [
            "2.1.0+cu121\n",
            "0.16.0+cu121\n"
          ]
        }
      ],
      "source": [
        "from timeit import default_timer\n",
        "from tqdm.auto import tqdm\n",
        "import torch\n",
        "from torch import nn\n",
        "import torchvision\n",
        "from torchvision import datasets\n",
        "from torchvision import transforms\n",
        "from torchvision.transforms import ToTensor\n",
        "import matplotlib.pyplot as plt\n",
        "from torch.utils.data import DataLoader\n",
        "import pandas as pd\n",
        "import random\n",
        "print(torch.__version__)\n",
        "print(torchvision.__version__)\n"
      ]
    },
    {
      "cell_type": "code",
      "source": [
        "device = \"cuda\" if torch.cuda.is_available() else \"cpu\"\n",
        "device"
      ],
      "metadata": {
        "id": "plxPrYL-zVwT",
        "colab": {
          "base_uri": "https://localhost:8080/",
          "height": 35
        },
        "outputId": "c59dcba2-c2b7-48e1-f638-23741b893c0f"
      },
      "execution_count": 98,
      "outputs": [
        {
          "output_type": "execute_result",
          "data": {
            "text/plain": [
              "'cuda'"
            ],
            "application/vnd.google.colaboratory.intrinsic+json": {
              "type": "string"
            }
          },
          "metadata": {},
          "execution_count": 98
        }
      ]
    },
    {
      "cell_type": "code",
      "source": [
        "train_data = datasets.CIFAR10(\n",
        "  root=\"data\",\n",
        "  train=True,\n",
        "  download=True,\n",
        "  transform=ToTensor(),\n",
        "  target_transform=None\n",
        ")"
      ],
      "metadata": {
        "id": "3HEoVXO_UwGz",
        "colab": {
          "base_uri": "https://localhost:8080/"
        },
        "outputId": "f3eb5428-8245-47db-bf47-68c10ccd1dfb"
      },
      "execution_count": 99,
      "outputs": [
        {
          "output_type": "stream",
          "name": "stdout",
          "text": [
            "Files already downloaded and verified\n"
          ]
        }
      ]
    },
    {
      "cell_type": "code",
      "source": [
        "test_data = datasets.CIFAR10(\n",
        "  root=\"data\",\n",
        "  train=False,\n",
        "  download=False,\n",
        "  transform=ToTensor(),\n",
        "  target_transform=None\n",
        ")"
      ],
      "metadata": {
        "id": "iwanuZcCcz0e"
      },
      "execution_count": 100,
      "outputs": []
    },
    {
      "cell_type": "code",
      "source": [
        "len(train_data), len(test_data)"
      ],
      "metadata": {
        "id": "DLYYK_jwdSOY",
        "colab": {
          "base_uri": "https://localhost:8080/"
        },
        "outputId": "3276f1f7-3af9-4bfc-bb3b-2e18e88a780c"
      },
      "execution_count": 101,
      "outputs": [
        {
          "output_type": "execute_result",
          "data": {
            "text/plain": [
              "(50000, 10000)"
            ]
          },
          "metadata": {},
          "execution_count": 101
        }
      ]
    },
    {
      "cell_type": "code",
      "source": [
        "image, label = train_data[0]\n",
        "image, label"
      ],
      "metadata": {
        "id": "Qsgw9JpZdimW",
        "colab": {
          "base_uri": "https://localhost:8080/"
        },
        "outputId": "f1a859fd-2ffd-426c-cc6b-be5a68b5fdfb"
      },
      "execution_count": 102,
      "outputs": [
        {
          "output_type": "execute_result",
          "data": {
            "text/plain": [
              "(tensor([[[0.2314, 0.1686, 0.1961,  ..., 0.6196, 0.5961, 0.5804],\n",
              "          [0.0627, 0.0000, 0.0706,  ..., 0.4824, 0.4667, 0.4784],\n",
              "          [0.0980, 0.0627, 0.1922,  ..., 0.4627, 0.4706, 0.4275],\n",
              "          ...,\n",
              "          [0.8157, 0.7882, 0.7765,  ..., 0.6275, 0.2196, 0.2078],\n",
              "          [0.7059, 0.6784, 0.7294,  ..., 0.7216, 0.3804, 0.3255],\n",
              "          [0.6941, 0.6588, 0.7020,  ..., 0.8471, 0.5922, 0.4824]],\n",
              " \n",
              "         [[0.2431, 0.1804, 0.1882,  ..., 0.5176, 0.4902, 0.4863],\n",
              "          [0.0784, 0.0000, 0.0314,  ..., 0.3451, 0.3255, 0.3412],\n",
              "          [0.0941, 0.0275, 0.1059,  ..., 0.3294, 0.3294, 0.2863],\n",
              "          ...,\n",
              "          [0.6667, 0.6000, 0.6314,  ..., 0.5216, 0.1216, 0.1333],\n",
              "          [0.5451, 0.4824, 0.5647,  ..., 0.5804, 0.2431, 0.2078],\n",
              "          [0.5647, 0.5059, 0.5569,  ..., 0.7216, 0.4627, 0.3608]],\n",
              " \n",
              "         [[0.2471, 0.1765, 0.1686,  ..., 0.4235, 0.4000, 0.4039],\n",
              "          [0.0784, 0.0000, 0.0000,  ..., 0.2157, 0.1961, 0.2235],\n",
              "          [0.0824, 0.0000, 0.0314,  ..., 0.1961, 0.1961, 0.1647],\n",
              "          ...,\n",
              "          [0.3765, 0.1333, 0.1020,  ..., 0.2745, 0.0275, 0.0784],\n",
              "          [0.3765, 0.1647, 0.1176,  ..., 0.3686, 0.1333, 0.1333],\n",
              "          [0.4549, 0.3686, 0.3412,  ..., 0.5490, 0.3294, 0.2824]]]),\n",
              " 6)"
            ]
          },
          "metadata": {},
          "execution_count": 102
        }
      ]
    },
    {
      "cell_type": "code",
      "source": [
        "classes = train_data.classes\n",
        "classes"
      ],
      "metadata": {
        "id": "lR7Rz1cXhYXC",
        "colab": {
          "base_uri": "https://localhost:8080/"
        },
        "outputId": "87b3b9af-9638-41fc-bc53-2b5d931ef7d1"
      },
      "execution_count": 103,
      "outputs": [
        {
          "output_type": "execute_result",
          "data": {
            "text/plain": [
              "['airplane',\n",
              " 'automobile',\n",
              " 'bird',\n",
              " 'cat',\n",
              " 'deer',\n",
              " 'dog',\n",
              " 'frog',\n",
              " 'horse',\n",
              " 'ship',\n",
              " 'truck']"
            ]
          },
          "metadata": {},
          "execution_count": 103
        }
      ]
    },
    {
      "cell_type": "code",
      "source": [
        "classes_to_idx = train_data.class_to_idx\n",
        "classes_to_idx"
      ],
      "metadata": {
        "id": "J5Ykq_swhhyd",
        "colab": {
          "base_uri": "https://localhost:8080/"
        },
        "outputId": "f5d9f41f-ea3e-4d36-cbbb-925dcd09e053"
      },
      "execution_count": 104,
      "outputs": [
        {
          "output_type": "execute_result",
          "data": {
            "text/plain": [
              "{'airplane': 0,\n",
              " 'automobile': 1,\n",
              " 'bird': 2,\n",
              " 'cat': 3,\n",
              " 'deer': 4,\n",
              " 'dog': 5,\n",
              " 'frog': 6,\n",
              " 'horse': 7,\n",
              " 'ship': 8,\n",
              " 'truck': 9}"
            ]
          },
          "metadata": {},
          "execution_count": 104
        }
      ]
    },
    {
      "cell_type": "code",
      "source": [
        "NUM_CLASSES = len(train_data.classes)"
      ],
      "metadata": {
        "id": "eHSP-avJfbfB"
      },
      "execution_count": 105,
      "outputs": []
    },
    {
      "cell_type": "code",
      "source": [
        "NUM_CLASSES"
      ],
      "metadata": {
        "id": "ZU0-GmmShO_1",
        "colab": {
          "base_uri": "https://localhost:8080/"
        },
        "outputId": "a043e5cd-f3bf-41b6-cc6d-7436b1d7a24b"
      },
      "execution_count": 106,
      "outputs": [
        {
          "output_type": "execute_result",
          "data": {
            "text/plain": [
              "10"
            ]
          },
          "metadata": {},
          "execution_count": 106
        }
      ]
    },
    {
      "cell_type": "code",
      "source": [
        "image.shape, label"
      ],
      "metadata": {
        "id": "gZ-ZF_5KhQos",
        "colab": {
          "base_uri": "https://localhost:8080/"
        },
        "outputId": "47b7eee0-1713-40f7-fbb5-34e6b4790a03"
      },
      "execution_count": 107,
      "outputs": [
        {
          "output_type": "execute_result",
          "data": {
            "text/plain": [
              "(torch.Size([3, 32, 32]), 6)"
            ]
          },
          "metadata": {},
          "execution_count": 107
        }
      ]
    },
    {
      "cell_type": "code",
      "source": [
        "image, label = train_data[0]\n",
        "image = image.squeeze(dim=1)\n",
        "image = image.numpy()\n",
        "image = image.transpose((1,2,0))\n",
        "plt.imshow(image)\n",
        "plt.title(classes[label])"
      ],
      "metadata": {
        "id": "nzy_Go8qh8vf",
        "colab": {
          "base_uri": "https://localhost:8080/",
          "height": 469
        },
        "outputId": "a092c1ac-85f3-4a15-b27f-669f43788186"
      },
      "execution_count": 108,
      "outputs": [
        {
          "output_type": "execute_result",
          "data": {
            "text/plain": [
              "Text(0.5, 1.0, 'frog')"
            ]
          },
          "metadata": {},
          "execution_count": 108
        },
        {
          "output_type": "display_data",
          "data": {
            "text/plain": [
              "<Figure size 640x480 with 1 Axes>"
            ],
            "image/png": "[encoded data removed]"
          },
          "metadata": {}
        }
      ]
    },
    {
      "cell_type": "code",
      "source": [
        "fig = plt.figure(figsize=(9,9))\n",
        "rows, cols = 4,4\n",
        "for i in range(1, rows*cols+1):\n",
        "  rand_idx = torch.randint(0, len(train_data), size=[1]).item()\n",
        "  image, label = train_data[rand_idx]\n",
        "  image = image.squeeze(dim=1)\n",
        "  image = image.numpy()\n",
        "  image = image.transpose((1,2,0))\n",
        "  fig.add_subplot(rows, cols, i)\n",
        "  plt.imshow(image.squeeze())\n",
        "  plt.title(classes[label])\n",
        "  plt.axis(False)"
      ],
      "metadata": {
        "id": "t0aLNL9bobkL",
        "colab": {
          "base_uri": "https://localhost:8080/",
          "height": 752
        },
        "outputId": "5532c460-6c17-4d16-a147-5b4beebf6155"
      },
      "execution_count": 109,
      "outputs": [
        {
          "output_type": "display_data",
          "data": {
            "text/plain": [
              "<Figure size 900x900 with 16 Axes>"
            ],
            "image/png": "[encoded data removed]"
          },
          "metadata": {}
        }
      ]
    },
    {
      "cell_type": "code",
      "source": [
        "BATCH_SIZE=32"
      ],
      "metadata": {
        "id": "ft5Ge9lguIi7"
      },
      "execution_count": 110,
      "outputs": []
    },
    {
      "cell_type": "code",
      "source": [
        "train_dataloader = DataLoader(\n",
        "    dataset=train_data,\n",
        "    batch_size=BATCH_SIZE,\n",
        "    shuffle=True\n",
        ")\n",
        "\n",
        "test_dataloader = DataLoader(\n",
        "    dataset=test_data,\n",
        "    batch_size=BATCH_SIZE,\n",
        "    shuffle=False\n",
        ")"
      ],
      "metadata": {
        "id": "O12_QC6ppWaD"
      },
      "execution_count": 111,
      "outputs": []
    },
    {
      "cell_type": "code",
      "source": [
        "train_dataloader, test_dataloader"
      ],
      "metadata": {
        "id": "mgBjxbsguPSY",
        "colab": {
          "base_uri": "https://localhost:8080/"
        },
        "outputId": "2496919f-4ebd-43d5-ed9f-b7a2d6ed6b0a"
      },
      "execution_count": 112,
      "outputs": [
        {
          "output_type": "execute_result",
          "data": {
            "text/plain": [
              "(<torch.utils.data.dataloader.DataLoader at 0x7e5e9dfc3760>,\n",
              " <torch.utils.data.dataloader.DataLoader at 0x7e5e9dfc3a00>)"
            ]
          },
          "metadata": {},
          "execution_count": 112
        }
      ]
    },
    {
      "cell_type": "code",
      "source": [
        "print(f\"DataLoaders: {train_dataloader, test_dataloader}\")\n",
        "print(f\"Length of train_dataloader: {len(train_dataloader)} batches of {BATCH_SIZE}\")\n",
        "print(f\"Length of test_dataloader: {len(test_dataloader)} batches of {BATCH_SIZE}\")"
      ],
      "metadata": {
        "id": "GE4VYbIUuwwd",
        "colab": {
          "base_uri": "https://localhost:8080/"
        },
        "outputId": "38467850-c1e4-42fe-8c49-aadd7aa8d242"
      },
      "execution_count": 113,
      "outputs": [
        {
          "output_type": "stream",
          "name": "stdout",
          "text": [
            "DataLoaders: (<torch.utils.data.dataloader.DataLoader object at 0x7e5e9dfc3760>, <torch.utils.data.dataloader.DataLoader object at 0x7e5e9dfc3a00>)\n",
            "Length of train_dataloader: 1563 batches of 32\n",
            "Length of test_dataloader: 313 batches of 32\n"
          ]
        }
      ]
    },
    {
      "cell_type": "code",
      "source": [
        "train_features_batch, train_labels_batch = next(iter(train_dataloader))"
      ],
      "metadata": {
        "id": "nFEV0F7lvbMI"
      },
      "execution_count": 114,
      "outputs": []
    },
    {
      "cell_type": "code",
      "source": [
        "train_features_batch.shape, train_labels_batch.shape"
      ],
      "metadata": {
        "id": "NMkNEuW2ekPT",
        "colab": {
          "base_uri": "https://localhost:8080/"
        },
        "outputId": "82af7977-c18d-4487-ac8e-c361fc06e1bb"
      },
      "execution_count": 115,
      "outputs": [
        {
          "output_type": "execute_result",
          "data": {
            "text/plain": [
              "(torch.Size([32, 3, 32, 32]), torch.Size([32]))"
            ]
          },
          "metadata": {},
          "execution_count": 115
        }
      ]
    },
    {
      "cell_type": "code",
      "source": [
        "train_features_batch[0], train_labels_batch[0]"
      ],
      "metadata": {
        "id": "Dx48HXQJeoJi",
        "colab": {
          "base_uri": "https://localhost:8080/"
        },
        "outputId": "0a2b96e2-3b34-4746-9c0f-e42ad7829096"
      },
      "execution_count": 116,
      "outputs": [
        {
          "output_type": "execute_result",
          "data": {
            "text/plain": [
              "(tensor([[[0.3608, 0.3686, 0.4078,  ..., 0.8471, 0.4118, 0.0471],\n",
              "          [0.4627, 0.4588, 0.4431,  ..., 0.8941, 0.4549, 0.0275],\n",
              "          [0.4392, 0.4431, 0.4471,  ..., 0.8431, 0.3490, 0.0235],\n",
              "          ...,\n",
              "          [0.0863, 0.0745, 0.0549,  ..., 0.1137, 0.1137, 0.1137],\n",
              "          [0.0824, 0.0745, 0.0588,  ..., 0.1020, 0.1020, 0.1020],\n",
              "          [0.0784, 0.0745, 0.0667,  ..., 0.0980, 0.0941, 0.0902]],\n",
              " \n",
              "         [[0.3255, 0.3373, 0.3765,  ..., 0.8510, 0.4157, 0.0471],\n",
              "          [0.4078, 0.4039, 0.3922,  ..., 0.9176, 0.4745, 0.0431],\n",
              "          [0.4118, 0.4157, 0.4196,  ..., 0.8706, 0.3804, 0.0471],\n",
              "          ...,\n",
              "          [0.0902, 0.0824, 0.0588,  ..., 0.1176, 0.1176, 0.1176],\n",
              "          [0.0863, 0.0784, 0.0627,  ..., 0.1059, 0.1059, 0.1059],\n",
              "          [0.0824, 0.0784, 0.0706,  ..., 0.1020, 0.0980, 0.0941]],\n",
              " \n",
              "         [[0.3059, 0.3098, 0.3373,  ..., 0.9020, 0.4588, 0.0706],\n",
              "          [0.3961, 0.3843, 0.3569,  ..., 0.9647, 0.5059, 0.0549],\n",
              "          [0.3922, 0.3843, 0.3765,  ..., 0.9216, 0.4000, 0.0471],\n",
              "          ...,\n",
              "          [0.0980, 0.0863, 0.0667,  ..., 0.1255, 0.1255, 0.1255],\n",
              "          [0.0941, 0.0863, 0.0745,  ..., 0.1137, 0.1176, 0.1137],\n",
              "          [0.0902, 0.0863, 0.0784,  ..., 0.1098, 0.1059, 0.1020]]]),\n",
              " tensor(1))"
            ]
          },
          "metadata": {},
          "execution_count": 116
        }
      ]
    },
    {
      "cell_type": "code",
      "source": [
        "random_idx = torch.randint(0, len(train_features_batch), size=[1]).item()\n",
        "image, label = train_features_batch[random_idx], train_labels_batch[random_idx]\n",
        "image = image.squeeze(dim=1)\n",
        "image = image.numpy()\n",
        "image = image.transpose((1,2,0))\n",
        "plt.imshow(image)\n",
        "plt.title(classes[label])\n",
        "plt.axis(False)\n",
        "print(f\"Image Size; {image.shape}\")\n",
        "print(f\"Label: {label}, label size {label.shape}\")\n"
      ],
      "metadata": {
        "id": "UC8au5PXwjxi",
        "colab": {
          "base_uri": "https://localhost:8080/",
          "height": 463
        },
        "outputId": "b9dc84ae-ff04-40d3-bd0e-90aa0d55157b"
      },
      "execution_count": 117,
      "outputs": [
        {
          "output_type": "stream",
          "name": "stdout",
          "text": [
            "Image Size; (32, 32, 3)\n",
            "Label: 8, label size torch.Size([])\n"
          ]
        },
        {
          "output_type": "display_data",
          "data": {
            "text/plain": [
              "<Figure size 640x480 with 1 Axes>"
            ],
            "image/png": "[encoded data removed]"
          },
          "metadata": {}
        }
      ]
    },
    {
      "cell_type": "code",
      "source": [
        "flatten_model = nn.Flatten()\n",
        "x = train_features_batch[0]\n",
        "x, x.shape"
      ],
      "metadata": {
        "id": "DOSIAF40xgJr",
        "colab": {
          "base_uri": "https://localhost:8080/"
        },
        "outputId": "4994d64c-c92d-4b8e-ff5e-f03c07bdebb5"
      },
      "execution_count": 118,
      "outputs": [
        {
          "output_type": "execute_result",
          "data": {
            "text/plain": [
              "(tensor([[[0.3608, 0.3686, 0.4078,  ..., 0.8471, 0.4118, 0.0471],\n",
              "          [0.4627, 0.4588, 0.4431,  ..., 0.8941, 0.4549, 0.0275],\n",
              "          [0.4392, 0.4431, 0.4471,  ..., 0.8431, 0.3490, 0.0235],\n",
              "          ...,\n",
              "          [0.0863, 0.0745, 0.0549,  ..., 0.1137, 0.1137, 0.1137],\n",
              "          [0.0824, 0.0745, 0.0588,  ..., 0.1020, 0.1020, 0.1020],\n",
              "          [0.0784, 0.0745, 0.0667,  ..., 0.0980, 0.0941, 0.0902]],\n",
              " \n",
              "         [[0.3255, 0.3373, 0.3765,  ..., 0.8510, 0.4157, 0.0471],\n",
              "          [0.4078, 0.4039, 0.3922,  ..., 0.9176, 0.4745, 0.0431],\n",
              "          [0.4118, 0.4157, 0.4196,  ..., 0.8706, 0.3804, 0.0471],\n",
              "          ...,\n",
              "          [0.0902, 0.0824, 0.0588,  ..., 0.1176, 0.1176, 0.1176],\n",
              "          [0.0863, 0.0784, 0.0627,  ..., 0.1059, 0.1059, 0.1059],\n",
              "          [0.0824, 0.0784, 0.0706,  ..., 0.1020, 0.0980, 0.0941]],\n",
              " \n",
              "         [[0.3059, 0.3098, 0.3373,  ..., 0.9020, 0.4588, 0.0706],\n",
              "          [0.3961, 0.3843, 0.3569,  ..., 0.9647, 0.5059, 0.0549],\n",
              "          [0.3922, 0.3843, 0.3765,  ..., 0.9216, 0.4000, 0.0471],\n",
              "          ...,\n",
              "          [0.0980, 0.0863, 0.0667,  ..., 0.1255, 0.1255, 0.1255],\n",
              "          [0.0941, 0.0863, 0.0745,  ..., 0.1137, 0.1176, 0.1137],\n",
              "          [0.0902, 0.0863, 0.0784,  ..., 0.1098, 0.1059, 0.1020]]]),\n",
              " torch.Size([3, 32, 32]))"
            ]
          },
          "metadata": {},
          "execution_count": 118
        }
      ]
    },
    {
      "cell_type": "code",
      "source": [
        "output = flatten_model(x)\n",
        "print(f\"Shape before flattening: {x.shape}\")\n",
        "print(f\"Shape after flattening: {output.shape}\")"
      ],
      "metadata": {
        "id": "vjm3zo4yzS-H",
        "colab": {
          "base_uri": "https://localhost:8080/"
        },
        "outputId": "ea88aff0-b8e0-4eeb-af7e-a5bd7f44ae1c"
      },
      "execution_count": 119,
      "outputs": [
        {
          "output_type": "stream",
          "name": "stdout",
          "text": [
            "Shape before flattening: torch.Size([3, 32, 32])\n",
            "Shape after flattening: torch.Size([3, 1024])\n"
          ]
        }
      ]
    },
    {
      "cell_type": "code",
      "source": [
        "class baseline_cifar10(nn.Module):\n",
        "  def __init__(self, input_shape: int, hidden_units: int, output_shape: int):\n",
        "    super().__init__()\n",
        "    self.layer_stack = nn.Sequential(\n",
        "        nn.Flatten(),\n",
        "        nn.Linear(in_features=input_shape, out_features=hidden_units),\n",
        "        nn.Linear(in_features=hidden_units, out_features=output_shape),\n",
        "    )\n",
        "  def forward(self, x):\n",
        "    return self.layer_stack(x)"
      ],
      "metadata": {
        "id": "DbxXcfPLzlo7"
      },
      "execution_count": 120,
      "outputs": []
    },
    {
      "cell_type": "code",
      "source": [
        "class baselinev2_cifar10(nn.Module):\n",
        "  def __init__(self, input_shape: int, hidden_units: int, output_shape: int):\n",
        "    super().__init__()\n",
        "    self.layer_stack = nn.Sequential(\n",
        "        nn.Flatten(),\n",
        "        nn.Linear(in_features=input_shape, out_features=hidden_units),\n",
        "        nn.ReLU(),\n",
        "        nn.Linear(in_features=hidden_units, out_features=output_shape),\n",
        "        nn.ReLU()\n",
        "    )\n",
        "  def forward(self, x):\n",
        "    return self.layer_stack(x)"
      ],
      "metadata": {
        "id": "ZXsGAc77I4Gd"
      },
      "execution_count": 121,
      "outputs": []
    },
    {
      "cell_type": "code",
      "source": [
        "class baselineCNN(nn.Module):\n",
        "  def __init__(self, input_shape: int, hidden_units: int, output_shape: int):\n",
        "    super().__init__()\n",
        "    self.conv_block_1 = nn.Sequential(\n",
        "        nn.Conv2d(in_channels=input_shape,\n",
        "                  out_channels=hidden_units,\n",
        "                  kernel_size=3,\n",
        "                  stride=1,\n",
        "                  padding=\"same\"),\n",
        "        nn.ReLU(),\n",
        "        nn.Conv2d(in_channels=hidden_units,\n",
        "                  out_channels=hidden_units,\n",
        "                  kernel_size=3,\n",
        "                  stride=1,\n",
        "                  padding=\"same\"),\n",
        "        nn.ReLU(),\n",
        "        nn.MaxPool2d(kernel_size=2)\n",
        "    )\n",
        "    self.conv_block_2 = nn.Sequential(\n",
        "        nn.Conv2d(in_channels=hidden_units,\n",
        "                  out_channels=hidden_units,\n",
        "                  kernel_size=3,\n",
        "                  stride=1,\n",
        "                  padding=\"same\"),\n",
        "        nn.ReLU(),\n",
        "        nn.Conv2d(in_channels=hidden_units,\n",
        "                  out_channels=hidden_units,\n",
        "                  kernel_size=3,\n",
        "                  stride=1,\n",
        "                  padding=\"same\"),\n",
        "        nn.ReLU(),\n",
        "        nn.MaxPool2d(kernel_size=2)\n",
        "    )\n",
        "    self.classifier = nn.Sequential(\n",
        "        nn.Flatten(),\n",
        "        nn.Linear(in_features=hidden_units*64,\n",
        "                  out_features=output_shape)\n",
        "    )\n",
        "\n",
        "  def forward(self,x):\n",
        "    #print(\"First Layer\")\n",
        "    x = self.conv_block_1(x)\n",
        "    #print(x.shape)\n",
        "    #print(\"Second Layer\")\n",
        "    x = self.conv_block_2(x)\n",
        "    #print(x.shape)\n",
        "    #print(\"Classifier Layer\")\n",
        "    out = self.classifier(x)\n",
        "    #print(out.shape)\n",
        "    return out"
      ],
      "metadata": {
        "id": "RTPEKF5sR2Ys"
      },
      "execution_count": 122,
      "outputs": []
    },
    {
      "cell_type": "code",
      "source": [
        "def Accuracy(y_true, y_pred):\n",
        "  correct = torch.eq(y_true, y_pred).sum().item()\n",
        "  acc = (correct / len(y_pred)) * 100\n",
        "  return acc"
      ],
      "metadata": {
        "id": "twolLZwGM-MM"
      },
      "execution_count": 123,
      "outputs": []
    },
    {
      "cell_type": "code",
      "source": [
        "def print_training_time(\n",
        "    start: float,\n",
        "    end: float,\n",
        "    device: torch.device = None):\n",
        "  total_time = end - start\n",
        "  print(f\"Train time on {device}: {total_time: .3f} seconds\")"
      ],
      "metadata": {
        "id": "KfKKLDbvNWz9"
      },
      "execution_count": 124,
      "outputs": []
    },
    {
      "cell_type": "code",
      "source": [
        "def training_loop(model: torch.nn.Module,\n",
        "                  epochs: int,\n",
        "                  train_data_loader: torch.utils.data.DataLoader,\n",
        "                  test_data_loader: torch.utils.data.DataLoader,\n",
        "                  loss_fn: torch.nn.Module,\n",
        "                  optimizer: torch.nn.Module,\n",
        "                  accuracy):\n",
        "  print(f\"Running: \", model.__class__.__name__)\n",
        "  train_time_start = default_timer()\n",
        "  for epoch in tqdm(range(epochs)):\n",
        "    print(f\"Epoch: {epoch}\")\n",
        "    train_loss, train_acc = 0,0\n",
        "    for batch, (X,y) in enumerate(train_dataloader):\n",
        "      X = X.to(device)\n",
        "      y = y.to(device)\n",
        "      model.train()\n",
        "      y_pred = model(X)\n",
        "      loss = loss_fn(y_pred, y)\n",
        "      train_loss += loss\n",
        "      train_acc = Accuracy(y, y_pred.argmax(dim=1))\n",
        "      optimizer.zero_grad()\n",
        "      loss.backward()\n",
        "      optimizer.step()\n",
        "\n",
        "      if batch % 500 == 0:\n",
        "        print(f\"Processed batch {batch * len(X)}/{len(train_dataloader.dataset)} samples\")\n",
        "\n",
        "    train_loss /= len(train_dataloader)\n",
        "    train_acc /= len(train_dataloader)\n",
        "\n",
        "\n",
        "    test_loss, test_acc = 0,0\n",
        "    with torch.inference_mode():\n",
        "      for X_test, y_test in test_dataloader:\n",
        "        X_test = X_test.to(device)\n",
        "        y_test = y_test.to(device)\n",
        "        test_pred = model(X_test)\n",
        "        test_loss += loss_fn(test_pred, y_test)\n",
        "        test_acc = Accuracy(y_test, y_pred=test_pred.argmax(dim=1))\n",
        "\n",
        "      test_loss /= len(test_dataloader)\n",
        "      test_acc  /= len(test_dataloader)\n",
        "\n",
        "    print(f\"Train Accuracy: {train_acc: .2f}%, Train Loss: {loss: .4f} | Test Accuracy: {test_acc: .2f}%, Test Loss: {test_loss: .4f}\")\n",
        "  train_time_end = default_timer()\n",
        "  total_time = print_training_time(start=train_time_start, end=train_time_end, device=str(next(model.parameters()).device))"
      ],
      "metadata": {
        "id": "iENfVrGWOw1V"
      },
      "execution_count": 125,
      "outputs": []
    },
    {
      "cell_type": "code",
      "source": [
        "def eval_model(\n",
        "    model: torch.nn.Module,\n",
        "    test_data_loader: torch.utils.data.DataLoader,\n",
        "    loss_fn: torch.nn.Module,\n",
        "    accuracy):\n",
        "  loss, acc = 0,0\n",
        "  model.eval().to(device)\n",
        "  with torch.inference_mode():\n",
        "    for X, y in tqdm(test_data_loader):\n",
        "      X = X.to(device)\n",
        "      y = y.to(device)\n",
        "      y_pred = model(X)\n",
        "      loss += loss_fn(y_pred, y)\n",
        "      acc += accuracy(y, y_pred.argmax(dim=1))\n",
        "\n",
        "      loss /= len(test_data_loader)\n",
        "      acc /= len(test_data_loader)\n",
        "\n",
        "  return {\"model_name\": model.__class__.__name__,\n",
        "          \"model_loss\": loss.item(),\n",
        "          \"model_acc\": acc}"
      ],
      "metadata": {
        "id": "aIcRfg0aGvZi"
      },
      "execution_count": 126,
      "outputs": []
    },
    {
      "cell_type": "code",
      "source": [
        "baseline = baseline_cifar10(\n",
        "    input_shape=3072,\n",
        "    hidden_units=256,\n",
        "    output_shape=len(classes)\n",
        ").to(device)\n",
        "baseline"
      ],
      "metadata": {
        "id": "CyE1GS0v12ZC",
        "colab": {
          "base_uri": "https://localhost:8080/"
        },
        "outputId": "91db3dcf-b47f-4335-d786-9751f767a18d"
      },
      "execution_count": 127,
      "outputs": [
        {
          "output_type": "execute_result",
          "data": {
            "text/plain": [
              "baseline_cifar10(\n",
              "  (layer_stack): Sequential(\n",
              "    (0): Flatten(start_dim=1, end_dim=-1)\n",
              "    (1): Linear(in_features=3072, out_features=256, bias=True)\n",
              "    (2): Linear(in_features=256, out_features=10, bias=True)\n",
              "  )\n",
              ")"
            ]
          },
          "metadata": {},
          "execution_count": 127
        }
      ]
    },
    {
      "cell_type": "code",
      "source": [
        "baselinev2 = baselinev2_cifar10(\n",
        "  input_shape=3072,\n",
        "  hidden_units=256,\n",
        "  output_shape=len(classes)\n",
        ").to(device)\n",
        "baselinev2"
      ],
      "metadata": {
        "id": "APtzmjd2phpT",
        "colab": {
          "base_uri": "https://localhost:8080/"
        },
        "outputId": "b34bbc72-c07a-48bd-bc24-6b1e2b13e761"
      },
      "execution_count": 128,
      "outputs": [
        {
          "output_type": "execute_result",
          "data": {
            "text/plain": [
              "baselinev2_cifar10(\n",
              "  (layer_stack): Sequential(\n",
              "    (0): Flatten(start_dim=1, end_dim=-1)\n",
              "    (1): Linear(in_features=3072, out_features=256, bias=True)\n",
              "    (2): ReLU()\n",
              "    (3): Linear(in_features=256, out_features=10, bias=True)\n",
              "    (4): ReLU()\n",
              "  )\n",
              ")"
            ]
          },
          "metadata": {},
          "execution_count": 128
        }
      ]
    },
    {
      "cell_type": "code",
      "source": [
        "baselineCNNmodel = baselineCNN(input_shape=3, hidden_units=64, output_shape=10).to(device)\n",
        "baselineCNNmodel"
      ],
      "metadata": {
        "id": "luEEkDzTaW0x",
        "colab": {
          "base_uri": "https://localhost:8080/"
        },
        "outputId": "a42afe4c-4a33-4560-d043-4c48eff8e31c"
      },
      "execution_count": 129,
      "outputs": [
        {
          "output_type": "execute_result",
          "data": {
            "text/plain": [
              "baselineCNN(\n",
              "  (conv_block_1): Sequential(\n",
              "    (0): Conv2d(3, 64, kernel_size=(3, 3), stride=(1, 1), padding=same)\n",
              "    (1): ReLU()\n",
              "    (2): Conv2d(64, 64, kernel_size=(3, 3), stride=(1, 1), padding=same)\n",
              "    (3): ReLU()\n",
              "    (4): MaxPool2d(kernel_size=2, stride=2, padding=0, dilation=1, ceil_mode=False)\n",
              "  )\n",
              "  (conv_block_2): Sequential(\n",
              "    (0): Conv2d(64, 64, kernel_size=(3, 3), stride=(1, 1), padding=same)\n",
              "    (1): ReLU()\n",
              "    (2): Conv2d(64, 64, kernel_size=(3, 3), stride=(1, 1), padding=same)\n",
              "    (3): ReLU()\n",
              "    (4): MaxPool2d(kernel_size=2, stride=2, padding=0, dilation=1, ceil_mode=False)\n",
              "  )\n",
              "  (classifier): Sequential(\n",
              "    (0): Flatten(start_dim=1, end_dim=-1)\n",
              "    (1): Linear(in_features=4096, out_features=10, bias=True)\n",
              "  )\n",
              ")"
            ]
          },
          "metadata": {},
          "execution_count": 129
        }
      ]
    },
    {
      "cell_type": "code",
      "source": [
        "epochs = 10\n",
        "loss_fn = nn.CrossEntropyLoss()\n",
        "optimizer = torch.optim.SGD(params=baselineCNNmodel.parameters(), lr=0.01, momentum=0.9)"
      ],
      "metadata": {
        "id": "0QY8UVtuDRiR"
      },
      "execution_count": 130,
      "outputs": []
    },
    {
      "cell_type": "code",
      "source": [
        "baseline_training = training_loop(model=baseline, epochs=epochs, train_data_loader=train_dataloader, test_data_loader=test_dataloader, loss_fn=loss_fn, optimizer=optimizer, accuracy=Accuracy)\n",
        "baseline_results = eval_model(model=baseline, test_data_loader=test_dataloader, loss_fn=loss_fn, accuracy=Accuracy)\n",
        "baseline_results"
      ],
      "metadata": {
        "colab": {
          "base_uri": "https://localhost:8080/",
          "height": 1000,
          "referenced_widgets": [
            "6544875261dc457eb6d541fbdf8f3ec3",
            "c4c6b0fdc9ac454383f22d7f0e58323d",
            "4f0475dc8c06459fa8c177ceeffb2d21",
            "87b5d7d099744571a8ce7768db6dd3df",
            "b530c85a15c040d6bdcf800cc01ac455",
            "6047db0ae8e945f7801586685144d87a",
            "b4e8ca85e2864587a4ba79be7b5fd80c",
            "6469669b06e74fe8b6d44e9f6bc142cb",
            "68668462155a44378ff7199670715017",
            "3448c58b08cb4bd29ea20d0a11b7a232",
            "724c875e341042d1b6d0f54f5501608e",
            "5c7d2e96710d46e29fde42179ba63431",
            "1d733c2d0aa1402fb908d1ebff77dde2",
            "0911d35246e94ba08e93774e01530a87",
            "60d50a65237e4fd088514ff48470649b",
            "1f58421ab8f642ea81cbc8eefae78136",
            "08ba0512f4004063a3f477a965802023",
            "7b0c506ffc164212bf45f48ea7c8dbe3",
            "2f48d157441b482c8b12df0d6a2b448f",
            "e455eba8219644cb81795c6daa0a01d9",
            "b9e231c28fa04dffa8c4de346c828a07",
            "16698b6729da4e59b77784bd37afde67"
          ]
        },
        "id": "8ZsgLMlA2MJi",
        "outputId": "f3b5a447-7d2d-4ae7-a9b9-185f91cbbd6f"
      },
      "execution_count": 131,
      "outputs": [
        {
          "output_type": "stream",
          "name": "stdout",
          "text": [
            "Running:  baseline_cifar10\n"
          ]
        },
        {
          "output_type": "display_data",
          "data": {
            "text/plain": [
              "  0%|          | 0/10 [00:00<?, ?it/s]"
            ],
            "application/vnd.jupyter.widget-view+json": {
              "version_major": 2,
              "version_minor": 0,
              "model_id": "6544875261dc457eb6d541fbdf8f3ec3"
            }
          },
          "metadata": {}
        },
        {
          "output_type": "stream",
          "name": "stdout",
          "text": [
            "Epoch: 0\n",
            "Processed batch 0/50000 samples\n",
            "Processed batch 16000/50000 samples\n",
            "Processed batch 32000/50000 samples\n",
            "Processed batch 48000/50000 samples\n",
            "Train Accuracy:  0.00%, Train Loss:  2.3420 | Test Accuracy:  0.04%, Test Loss:  2.3249\n",
            "Epoch: 1\n",
            "Processed batch 0/50000 samples\n",
            "Processed batch 16000/50000 samples\n",
            "Processed batch 32000/50000 samples\n",
            "Processed batch 48000/50000 samples\n",
            "Train Accuracy:  0.00%, Train Loss:  2.2857 | Test Accuracy:  0.04%, Test Loss:  2.3249\n",
            "Epoch: 2\n",
            "Processed batch 0/50000 samples\n",
            "Processed batch 16000/50000 samples\n",
            "Processed batch 32000/50000 samples\n",
            "Processed batch 48000/50000 samples\n",
            "Train Accuracy:  0.00%, Train Loss:  2.2808 | Test Accuracy:  0.04%, Test Loss:  2.3249\n",
            "Epoch: 3\n",
            "Processed batch 0/50000 samples\n",
            "Processed batch 16000/50000 samples\n",
            "Processed batch 32000/50000 samples\n",
            "Processed batch 48000/50000 samples\n",
            "Train Accuracy:  0.00%, Train Loss:  2.3725 | Test Accuracy:  0.04%, Test Loss:  2.3249\n",
            "Epoch: 4\n",
            "Processed batch 0/50000 samples\n",
            "Processed batch 16000/50000 samples\n",
            "Processed batch 32000/50000 samples\n",
            "Processed batch 48000/50000 samples\n",
            "Train Accuracy:  0.00%, Train Loss:  2.3566 | Test Accuracy:  0.04%, Test Loss:  2.3249\n",
            "Epoch: 5\n",
            "Processed batch 0/50000 samples\n",
            "Processed batch 16000/50000 samples\n",
            "Processed batch 32000/50000 samples\n",
            "Processed batch 48000/50000 samples\n",
            "Train Accuracy:  0.00%, Train Loss:  2.3354 | Test Accuracy:  0.04%, Test Loss:  2.3249\n",
            "Epoch: 6\n",
            "Processed batch 0/50000 samples\n",
            "Processed batch 16000/50000 samples\n",
            "Processed batch 32000/50000 samples\n",
            "Processed batch 48000/50000 samples\n",
            "Train Accuracy:  0.01%, Train Loss:  2.3533 | Test Accuracy:  0.04%, Test Loss:  2.3249\n",
            "Epoch: 7\n",
            "Processed batch 0/50000 samples\n",
            "Processed batch 16000/50000 samples\n",
            "Processed batch 32000/50000 samples\n",
            "Processed batch 48000/50000 samples\n",
            "Train Accuracy:  0.01%, Train Loss:  2.3468 | Test Accuracy:  0.04%, Test Loss:  2.3249\n",
            "Epoch: 8\n",
            "Processed batch 0/50000 samples\n",
            "Processed batch 16000/50000 samples\n",
            "Processed batch 32000/50000 samples\n",
            "Processed batch 48000/50000 samples\n",
            "Train Accuracy:  0.01%, Train Loss:  2.2400 | Test Accuracy:  0.04%, Test Loss:  2.3249\n",
            "Epoch: 9\n",
            "Processed batch 0/50000 samples\n",
            "Processed batch 16000/50000 samples\n",
            "Processed batch 32000/50000 samples\n",
            "Processed batch 48000/50000 samples\n",
            "Train Accuracy:  0.00%, Train Loss:  2.3168 | Test Accuracy:  0.04%, Test Loss:  2.3249\n",
            "Train time on cuda:0:  103.573 seconds\n"
          ]
        },
        {
          "output_type": "display_data",
          "data": {
            "text/plain": [
              "  0%|          | 0/313 [00:00<?, ?it/s]"
            ],
            "application/vnd.jupyter.widget-view+json": {
              "version_major": 2,
              "version_minor": 0,
              "model_id": "5c7d2e96710d46e29fde42179ba63431"
            }
          },
          "metadata": {}
        },
        {
          "output_type": "execute_result",
          "data": {
            "text/plain": [
              "{'model_name': 'baseline_cifar10',\n",
              " 'model_loss': 0.007283039391040802,\n",
              " 'model_acc': 0.03993630638211694}"
            ]
          },
          "metadata": {},
          "execution_count": 131
        }
      ]
    },
    {
      "cell_type": "code",
      "source": [
        "baseline_2_training = training_loop(model=baselinev2, epochs=epochs, train_data_loader=train_dataloader, test_data_loader=test_dataloader, loss_fn=loss_fn, optimizer=optimizer, accuracy=Accuracy)\n",
        "baseline_2_results = eval_model(model=baselinev2, test_data_loader=test_dataloader, loss_fn=loss_fn, accuracy=Accuracy)\n",
        "baseline_2_results"
      ],
      "metadata": {
        "colab": {
          "base_uri": "https://localhost:8080/",
          "height": 1000,
          "referenced_widgets": [
            "11674db597a44940a60ae73ab792ec8d",
            "2baf9100a8b440faae7c70909b1a794b",
            "8709fd657e9c4492b22adeeb1272bf27",
            "992507ed0bd046aa8c59311176de5533",
            "21dff1b9d2e543289cbd84c407be452b",
            "267d38b6c7654eccbdac69b9a9c76290",
            "1e7c9dafcf094b2db172ab0e5ec6bb6b",
            "0eda713d07334d0d921f6641128631b9",
            "38377f148716410b9e5cbb46d9ed4a85",
            "c3bf614818724390994ffbe77636b104",
            "3f83633df6514ebb83e539f88db25553",
            "da7c38470ce84c93a722a388bd7580b2",
            "66e0534ffacd4688aaddcfbd6a38a851",
            "12043b5bd8304e878634875ed4922ce3",
            "50955ecc4aa241b49d9ba0e23bf3a91f",
            "301ac686d1c04557b9a8f5e1cd8d7c87",
            "3b1241b478d94c479fe79b57925346d7",
            "38b77ef926ff4b5882732b2797fecdf3",
            "74d3b1df12ae4ee0863bac14fd1f6719",
            "636301267cb64f00b79d9db29cf032db",
            "dd13437a9f9f466b931c5ffd3734e56c",
            "efb18f0fe6014d4b94871fd9beaaf62d"
          ]
        },
        "id": "fXXJflHOrFM7",
        "outputId": "db2de547-45e5-4d70-c61b-68c68150c250"
      },
      "execution_count": 132,
      "outputs": [
        {
          "output_type": "stream",
          "name": "stdout",
          "text": [
            "Running:  baselinev2_cifar10\n"
          ]
        },
        {
          "output_type": "display_data",
          "data": {
            "text/plain": [
              "  0%|          | 0/10 [00:00<?, ?it/s]"
            ],
            "application/vnd.jupyter.widget-view+json": {
              "version_major": 2,
              "version_minor": 0,
              "model_id": "11674db597a44940a60ae73ab792ec8d"
            }
          },
          "metadata": {}
        },
        {
          "output_type": "stream",
          "name": "stdout",
          "text": [
            "Epoch: 0\n",
            "Processed batch 0/50000 samples\n",
            "Processed batch 16000/50000 samples\n",
            "Processed batch 32000/50000 samples\n",
            "Processed batch 48000/50000 samples\n",
            "Train Accuracy:  0.02%, Train Loss:  2.2497 | Test Accuracy:  0.06%, Test Loss:  2.3034\n",
            "Epoch: 1\n",
            "Processed batch 0/50000 samples\n",
            "Processed batch 16000/50000 samples\n",
            "Processed batch 32000/50000 samples\n",
            "Processed batch 48000/50000 samples\n",
            "Train Accuracy:  0.02%, Train Loss:  2.3052 | Test Accuracy:  0.06%, Test Loss:  2.3034\n",
            "Epoch: 2\n",
            "Processed batch 0/50000 samples\n",
            "Processed batch 16000/50000 samples\n",
            "Processed batch 32000/50000 samples\n",
            "Processed batch 48000/50000 samples\n",
            "Train Accuracy:  0.02%, Train Loss:  2.2823 | Test Accuracy:  0.06%, Test Loss:  2.3034\n",
            "Epoch: 3\n",
            "Processed batch 0/50000 samples\n",
            "Processed batch 16000/50000 samples\n",
            "Processed batch 32000/50000 samples\n",
            "Processed batch 48000/50000 samples\n",
            "Train Accuracy:  0.00%, Train Loss:  2.3191 | Test Accuracy:  0.06%, Test Loss:  2.3034\n",
            "Epoch: 4\n",
            "Processed batch 0/50000 samples\n",
            "Processed batch 16000/50000 samples\n",
            "Processed batch 32000/50000 samples\n",
            "Processed batch 48000/50000 samples\n",
            "Train Accuracy:  0.01%, Train Loss:  2.2949 | Test Accuracy:  0.06%, Test Loss:  2.3034\n",
            "Epoch: 5\n",
            "Processed batch 0/50000 samples\n",
            "Processed batch 16000/50000 samples\n",
            "Processed batch 32000/50000 samples\n",
            "Processed batch 48000/50000 samples\n",
            "Train Accuracy:  0.01%, Train Loss:  2.3127 | Test Accuracy:  0.06%, Test Loss:  2.3034\n",
            "Epoch: 6\n",
            "Processed batch 0/50000 samples\n",
            "Processed batch 16000/50000 samples\n",
            "Processed batch 32000/50000 samples\n",
            "Processed batch 48000/50000 samples\n",
            "Train Accuracy:  0.00%, Train Loss:  2.3225 | Test Accuracy:  0.06%, Test Loss:  2.3034\n",
            "Epoch: 7\n",
            "Processed batch 0/50000 samples\n",
            "Processed batch 16000/50000 samples\n",
            "Processed batch 32000/50000 samples\n",
            "Processed batch 48000/50000 samples\n",
            "Train Accuracy:  0.00%, Train Loss:  2.2869 | Test Accuracy:  0.06%, Test Loss:  2.3034\n",
            "Epoch: 8\n",
            "Processed batch 0/50000 samples\n",
            "Processed batch 16000/50000 samples\n",
            "Processed batch 32000/50000 samples\n",
            "Processed batch 48000/50000 samples\n",
            "Train Accuracy:  0.00%, Train Loss:  2.2769 | Test Accuracy:  0.06%, Test Loss:  2.3034\n",
            "Epoch: 9\n",
            "Processed batch 0/50000 samples\n",
            "Processed batch 16000/50000 samples\n",
            "Processed batch 32000/50000 samples\n",
            "Processed batch 48000/50000 samples\n",
            "Train Accuracy:  0.01%, Train Loss:  2.3346 | Test Accuracy:  0.06%, Test Loss:  2.3034\n",
            "Train time on cuda:0:  104.904 seconds\n"
          ]
        },
        {
          "output_type": "display_data",
          "data": {
            "text/plain": [
              "  0%|          | 0/313 [00:00<?, ?it/s]"
            ],
            "application/vnd.jupyter.widget-view+json": {
              "version_major": 2,
              "version_minor": 0,
              "model_id": "da7c38470ce84c93a722a388bd7580b2"
            }
          },
          "metadata": {}
        },
        {
          "output_type": "execute_result",
          "data": {
            "text/plain": [
              "{'model_name': 'baselinev2_cifar10',\n",
              " 'model_loss': 0.007302797399461269,\n",
              " 'model_acc': 0.06000025518589421}"
            ]
          },
          "metadata": {},
          "execution_count": 132
        }
      ]
    },
    {
      "cell_type": "code",
      "source": [
        "baseline_cnn_training = training_loop(model=baselineCNNmodel, epochs=epochs, train_data_loader=train_dataloader, test_data_loader=test_dataloader, loss_fn=loss_fn, optimizer=optimizer, accuracy=Accuracy)\n",
        "baseline_cnn_results = eval_model(model=baselineCNNmodel, test_data_loader=test_dataloader, loss_fn=loss_fn, accuracy=Accuracy)\n",
        "baseline_cnn_results"
      ],
      "metadata": {
        "id": "aJfAjOL6GbW4",
        "colab": {
          "base_uri": "https://localhost:8080/",
          "height": 1000,
          "referenced_widgets": [
            "5e6ceda03bc8400ea4b689985fb8c414",
            "72b50a31a71c40d79ad7e0dabd9021c3",
            "e9a497b529b44a9a9b52976ac37c46c3",
            "06fac6c33f9f4d2e8d226b1fbbfb2d60",
            "ba87833fa09648b7bac79d54de5224cc",
            "9ae03d0fbedd4df29390a15d33a43606",
            "82f6fd871b084a37a2b35309b5d7f7ad",
            "2386683da1c84409bc68dfde34f6cfe2",
            "29f1d24752fd4ed8abf57cf5bb160d5f",
            "20febcbb3e8c46d88f250941890da4cd",
            "698c847784f64cd7b3185318a033ce46",
            "a9829a56420240aba8309b7f6ad53cee",
            "604f25ca99f04549ba978217ad2a6b60",
            "c00cb215b0d7428ab24b41975d6a70da",
            "67d73ccdce094908a7a5ad5f40ba7582",
            "a06dc220faed4ce9b8f9331675bf0d8d",
            "1f13af85489340bdab25ae6341cc5f38",
            "348fef5a70884171a3fc7bae82ab3ebc",
            "03a07ec7dfcc4b01881595d67bc83b31",
            "99e72b0db1b4438796d36c50b125af5b",
            "341c817f3c1f47489946b159a84782d4",
            "1de1ecf94b9946a0932be57afa3352e7"
          ]
        },
        "outputId": "32effa37-96c2-490d-a31b-a2f0a06a9516"
      },
      "execution_count": 133,
      "outputs": [
        {
          "output_type": "stream",
          "name": "stdout",
          "text": [
            "Running:  baselineCNN\n"
          ]
        },
        {
          "output_type": "display_data",
          "data": {
            "text/plain": [
              "  0%|          | 0/10 [00:00<?, ?it/s]"
            ],
            "application/vnd.jupyter.widget-view+json": {
              "version_major": 2,
              "version_minor": 0,
              "model_id": "5e6ceda03bc8400ea4b689985fb8c414"
            }
          },
          "metadata": {}
        },
        {
          "output_type": "stream",
          "name": "stdout",
          "text": [
            "Epoch: 0\n",
            "Processed batch 0/50000 samples\n",
            "Processed batch 16000/50000 samples\n",
            "Processed batch 32000/50000 samples\n",
            "Processed batch 48000/50000 samples\n",
            "Train Accuracy:  0.04%, Train Loss:  0.7928 | Test Accuracy:  0.14%, Test Loss:  1.2203\n",
            "Epoch: 1\n",
            "Processed batch 0/50000 samples\n",
            "Processed batch 16000/50000 samples\n",
            "Processed batch 32000/50000 samples\n",
            "Processed batch 48000/50000 samples\n",
            "Train Accuracy:  0.03%, Train Loss:  1.5853 | Test Accuracy:  0.20%, Test Loss:  0.9424\n",
            "Epoch: 2\n",
            "Processed batch 0/50000 samples\n",
            "Processed batch 16000/50000 samples\n",
            "Processed batch 32000/50000 samples\n",
            "Processed batch 48000/50000 samples\n",
            "Train Accuracy:  0.04%, Train Loss:  0.9018 | Test Accuracy:  0.18%, Test Loss:  0.8679\n",
            "Epoch: 3\n",
            "Processed batch 0/50000 samples\n",
            "Processed batch 16000/50000 samples\n",
            "Processed batch 32000/50000 samples\n",
            "Processed batch 48000/50000 samples\n",
            "Train Accuracy:  0.03%, Train Loss:  1.6599 | Test Accuracy:  0.18%, Test Loss:  0.8214\n",
            "Epoch: 4\n",
            "Processed batch 0/50000 samples\n",
            "Processed batch 16000/50000 samples\n",
            "Processed batch 32000/50000 samples\n",
            "Processed batch 48000/50000 samples\n",
            "Train Accuracy:  0.05%, Train Loss:  0.5996 | Test Accuracy:  0.22%, Test Loss:  0.7839\n",
            "Epoch: 5\n",
            "Processed batch 0/50000 samples\n",
            "Processed batch 16000/50000 samples\n",
            "Processed batch 32000/50000 samples\n",
            "Processed batch 48000/50000 samples\n",
            "Train Accuracy:  0.06%, Train Loss:  0.4741 | Test Accuracy:  0.24%, Test Loss:  0.8027\n",
            "Epoch: 6\n",
            "Processed batch 0/50000 samples\n",
            "Processed batch 16000/50000 samples\n",
            "Processed batch 32000/50000 samples\n",
            "Processed batch 48000/50000 samples\n",
            "Train Accuracy:  0.05%, Train Loss:  0.3952 | Test Accuracy:  0.22%, Test Loss:  0.8114\n",
            "Epoch: 7\n",
            "Processed batch 0/50000 samples\n",
            "Processed batch 16000/50000 samples\n",
            "Processed batch 32000/50000 samples\n",
            "Processed batch 48000/50000 samples\n",
            "Train Accuracy:  0.06%, Train Loss:  0.5271 | Test Accuracy:  0.22%, Test Loss:  0.8538\n",
            "Epoch: 8\n",
            "Processed batch 0/50000 samples\n",
            "Processed batch 16000/50000 samples\n",
            "Processed batch 32000/50000 samples\n",
            "Processed batch 48000/50000 samples\n",
            "Train Accuracy:  0.06%, Train Loss:  0.3116 | Test Accuracy:  0.20%, Test Loss:  0.9577\n",
            "Epoch: 9\n",
            "Processed batch 0/50000 samples\n",
            "Processed batch 16000/50000 samples\n",
            "Processed batch 32000/50000 samples\n",
            "Processed batch 48000/50000 samples\n",
            "Train Accuracy:  0.05%, Train Loss:  0.6724 | Test Accuracy:  0.20%, Test Loss:  0.9410\n",
            "Train time on cuda:0:  129.313 seconds\n"
          ]
        },
        {
          "output_type": "display_data",
          "data": {
            "text/plain": [
              "  0%|          | 0/313 [00:00<?, ?it/s]"
            ],
            "application/vnd.jupyter.widget-view+json": {
              "version_major": 2,
              "version_minor": 0,
              "model_id": "a9829a56420240aba8309b7f6ad53cee"
            }
          },
          "metadata": {}
        },
        {
          "output_type": "execute_result",
          "data": {
            "text/plain": [
              "{'model_name': 'baselineCNN',\n",
              " 'model_loss': 0.002145992359146476,\n",
              " 'model_acc': 0.2003847168065477}"
            ]
          },
          "metadata": {},
          "execution_count": 133
        }
      ]
    },
    {
      "cell_type": "code",
      "source": [
        "model_accuracy_all_models = pd.DataFrame([baseline_results,\n",
        "                                         baseline_2_results,\n",
        "                                         baseline_cnn_results])\n",
        "model_accuracy_all_models[\"model_acc\"]"
      ],
      "metadata": {
        "id": "CKBLkfQQkn_0",
        "colab": {
          "base_uri": "https://localhost:8080/"
        },
        "outputId": "e3b44e5e-fa24-48f1-ba71-fd0b95e635a9"
      },
      "execution_count": 134,
      "outputs": [
        {
          "output_type": "execute_result",
          "data": {
            "text/plain": [
              "0    0.039936\n",
              "1    0.060000\n",
              "2    0.200385\n",
              "Name: model_acc, dtype: float64"
            ]
          },
          "metadata": {},
          "execution_count": 134
        }
      ]
    },
    {
      "cell_type": "code",
      "source": [
        "model_accuracy_all_models.set_index(\"model_name\")[\"model_acc\"].plot(kind=\"barh\")\n",
        "plt.xlabel(\"accuracy (%)\")\n",
        "plt.ylabel(\"model\")"
      ],
      "metadata": {
        "colab": {
          "base_uri": "https://localhost:8080/",
          "height": 466
        },
        "id": "yiK2ZrEFOKXo",
        "outputId": "f6061990-25f2-4906-fc1e-ab6e7c65c754"
      },
      "execution_count": 135,
      "outputs": [
        {
          "output_type": "execute_result",
          "data": {
            "text/plain": [
              "Text(0, 0.5, 'model')"
            ]
          },
          "metadata": {},
          "execution_count": 135
        },
        {
          "output_type": "display_data",
          "data": {
            "text/plain": [
              "<Figure size 640x480 with 1 Axes>"
            ],
            "image/png": "[encoded data removed]"
          },
          "metadata": {}
        }
      ]
    },
    {
      "cell_type": "code",
      "source": [
        "def make_predictions(model: torch.nn.Module,\n",
        "                     data: list,\n",
        "                     device: torch.device = device):\n",
        "  pred_probs = []\n",
        "  model.to(device)\n",
        "  model.eval()\n",
        "  with torch.inference_mode():\n",
        "    for sample in data:\n",
        "      sample = torch.unsqueeze(sample, dim=0).to(device)\n",
        "      pred_logit = model(sample)\n",
        "      pred_prob = torch.softmax(pred_logit.squeeze(), dim=0)\n",
        "      pred_probs.append(pred_prob.cpu())\n",
        "\n",
        "  return torch.stack(pred_probs)\n",
        "\n",
        "\n"
      ],
      "metadata": {
        "id": "9WhnQuFTbKWC"
      },
      "execution_count": 182,
      "outputs": []
    },
    {
      "cell_type": "code",
      "source": [
        "image, label = test_data[0][:10]\n",
        "image.shape, label"
      ],
      "metadata": {
        "colab": {
          "base_uri": "https://localhost:8080/"
        },
        "id": "1mOcdTLDdU5p",
        "outputId": "f7b442f6-ed38-4098-d818-59c0b8536c10"
      },
      "execution_count": 163,
      "outputs": [
        {
          "output_type": "execute_result",
          "data": {
            "text/plain": [
              "(torch.Size([3, 32, 32]), 3)"
            ]
          },
          "metadata": {},
          "execution_count": 163
        }
      ]
    },
    {
      "cell_type": "code",
      "source": [
        "\n",
        "test_samples = []\n",
        "test_labels = []\n",
        "for sample, label in random.sample(list(test_data), k=9):\n",
        "  test_samples.append(sample)\n",
        "  test_labels.append(label)\n",
        "\n",
        "len(test_samples), len(test_labels)"
      ],
      "metadata": {
        "colab": {
          "base_uri": "https://localhost:8080/"
        },
        "id": "q0i_-1o0Sz3X",
        "outputId": "3f360f97-126b-4428-e0b4-12373bb07225"
      },
      "execution_count": 187,
      "outputs": [
        {
          "output_type": "execute_result",
          "data": {
            "text/plain": [
              "(9, 9)"
            ]
          },
          "metadata": {},
          "execution_count": 187
        }
      ]
    },
    {
      "cell_type": "code",
      "source": [
        "plt.imshow(test_samples[0].numpy().transpose((1, 2, 0)), cmap=\"RdYlBu\")\n",
        "plt.title(classes[test_labels[0]])"
      ],
      "metadata": {
        "colab": {
          "base_uri": "https://localhost:8080/",
          "height": 469
        },
        "id": "0mYoQUCScPMS",
        "outputId": "7f2b5185-262f-4ea9-dfdc-e0a36e9c07b4"
      },
      "execution_count": 184,
      "outputs": [
        {
          "output_type": "execute_result",
          "data": {
            "text/plain": [
              "Text(0.5, 1.0, 'truck')"
            ]
          },
          "metadata": {},
          "execution_count": 184
        },
        {
          "output_type": "display_data",
          "data": {
            "text/plain": [
              "<Figure size 640x480 with 1 Axes>"
            ],
            "image/png": "[encoded data removed]"
          },
          "metadata": {}
        }
      ]
    },
    {
      "cell_type": "code",
      "source": [
        "pred_prob = make_predictions(model=baselineCNNmodel,data=test_samples)\n",
        "pred_prob[:10]"
      ],
      "metadata": {
        "colab": {
          "base_uri": "https://localhost:8080/"
        },
        "id": "7sNdtFTeeXcS",
        "outputId": "c843cd37-9310-4966-8818-387bc69e5e56"
      },
      "execution_count": 185,
      "outputs": [
        {
          "output_type": "execute_result",
          "data": {
            "text/plain": [
              "tensor([[4.6469e-04, 2.5507e-02, 7.7542e-04, 8.4267e-05, 3.0424e-06, 3.7166e-08,\n",
              "         3.2330e-06, 2.7312e-04, 7.0733e-03, 9.6582e-01],\n",
              "        [8.2135e-04, 1.4851e-07, 5.5076e-03, 1.2426e-04, 7.2078e-06, 1.3049e-04,\n",
              "         4.9073e-05, 9.9336e-01, 7.9818e-08, 4.0377e-06],\n",
              "        [1.1411e-04, 8.1950e-01, 7.1803e-10, 8.0354e-09, 1.8634e-11, 2.4118e-09,\n",
              "         9.6315e-09, 3.9483e-08, 2.3336e-05, 1.8036e-01],\n",
              "        [9.0868e-01, 1.2294e-04, 3.8616e-03, 9.0679e-03, 7.2768e-02, 1.4547e-03,\n",
              "         3.4502e-03, 7.2729e-06, 3.4454e-04, 2.4052e-04],\n",
              "        [1.2317e-03, 1.1969e-03, 9.6986e-01, 1.6448e-02, 1.2374e-03, 5.3544e-03,\n",
              "         1.7738e-04, 2.4858e-04, 3.8746e-03, 3.7444e-04],\n",
              "        [1.8174e-04, 3.7344e-09, 4.3234e-06, 1.5100e-08, 1.4118e-08, 5.4335e-07,\n",
              "         1.7261e-09, 9.9981e-01, 6.6040e-11, 2.6746e-06],\n",
              "        [4.7082e-04, 3.2535e-07, 3.6837e-01, 3.5616e-01, 1.7212e-03, 1.8894e-01,\n",
              "         2.0488e-04, 3.0487e-02, 1.3125e-02, 4.0519e-02],\n",
              "        [3.0474e-01, 1.2469e-03, 3.2834e-02, 2.1517e-03, 6.1119e-01, 2.1652e-04,\n",
              "         1.9636e-05, 1.9129e-03, 2.9808e-02, 1.5879e-02],\n",
              "        [1.3971e-04, 4.2658e-08, 1.2658e-05, 3.5285e-06, 1.1793e-02, 4.2260e-05,\n",
              "         3.8684e-06, 9.8800e-01, 3.9804e-09, 1.1426e-07]])"
            ]
          },
          "metadata": {},
          "execution_count": 185
        }
      ]
    },
    {
      "cell_type": "code",
      "source": [
        "pred_classes = pred_prob.argmax(dim=1)\n",
        "plt.figure(figsize=(9,9))\n",
        "nrows = 3\n",
        "ncols = 3\n",
        "for i, sample in enumerate(test_samples):\n",
        "  plt.subplot(nrows, ncols, i+1)\n",
        "  plt.imshow(test_samples[0].numpy().transpose((1, 2, 0)).squeeze(), cmap=\"RdYlBu\")\n",
        "  pred_label = classes[pred_classes[i]]\n",
        "  truth_label = classes[test_labels[i]]\n",
        "  title_text = f\"Pred: {pred_label} | truth: {truth_label}\"\n",
        "  if pred_label == truth_label:\n",
        "    plt.title(title_text, fontsize=10, c=\"g\")\n",
        "  else:\n",
        "    plt.title(title_text, fontsize=10, c=\"r\")"
      ],
      "metadata": {
        "colab": {
          "base_uri": "https://localhost:8080/",
          "height": 773
        },
        "id": "UmJCch97qSxV",
        "outputId": "f455a8fd-d83e-4843-a325-c00a988fdbc3"
      },
      "execution_count": 186,
      "outputs": [
        {
          "output_type": "display_data",
          "data": {
            "text/plain": [
              "<Figure size 900x900 with 9 Axes>"
            ],
            "image/png": "[encoded data removed]"
          },
          "metadata": {}
        }
      ]
    },
    {
      "cell_type": "code",
      "source": [],
      "metadata": {
        "id": "dIQP0wKmwAE6"
      },
      "execution_count": null,
      "outputs": []
    }
  ]
}