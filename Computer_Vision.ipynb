{
  "nbformat": 4,
  "nbformat_minor": 0,
  "metadata": {
    "colab": {
      "provenance": [],
      "authorship_tag": "ABX9TyMlOmwu20ZS2LUW/hwwuNFr",
      "include_colab_link": true
    },
    "kernelspec": {
      "name": "python3",
      "display_name": "Python 3"
    },
    "language_info": {
      "name": "python"
    },
    "widgets": {
      "application/vnd.jupyter.widget-state+json": {
        "b0041d392c8641e68a48f8c26510ced1": {
          "model_module": "@jupyter-widgets/controls",
          "model_name": "HBoxModel",
          "model_module_version": "1.5.0",
          "state": {
            "_dom_classes": [],
            "_model_module": "@jupyter-widgets/controls",
            "_model_module_version": "1.5.0",
            "_model_name": "HBoxModel",
            "_view_count": null,
            "_view_module": "@jupyter-widgets/controls",
            "_view_module_version": "1.5.0",
            "_view_name": "HBoxView",
            "box_style": "",
            "children": [
              "IPY_MODEL_b81d949ea23e4c9ca57d6de4c3d959d7",
              "IPY_MODEL_c4f34b0ed2d34353b122af3fe96c4ea1",
              "IPY_MODEL_5ccbdd78a9524683bc61f54884e48474"
            ],
            "layout": "IPY_MODEL_80467a918c7b49668949e9e73a0065f4"
          }
        },
        "b81d949ea23e4c9ca57d6de4c3d959d7": {
          "model_module": "@jupyter-widgets/controls",
          "model_name": "HTMLModel",
          "model_module_version": "1.5.0",
          "state": {
            "_dom_classes": [],
            "_model_module": "@jupyter-widgets/controls",
            "_model_module_version": "1.5.0",
            "_model_name": "HTMLModel",
            "_view_count": null,
            "_view_module": "@jupyter-widgets/controls",
            "_view_module_version": "1.5.0",
            "_view_name": "HTMLView",
            "description": "",
            "description_tooltip": null,
            "layout": "IPY_MODEL_d8113a3004454410b6397206dc41d749",
            "placeholder": "​",
            "style": "IPY_MODEL_03afdab4475848769de2c9db480caeab",
            "value": "100%"
          }
        },
        "c4f34b0ed2d34353b122af3fe96c4ea1": {
          "model_module": "@jupyter-widgets/controls",
          "model_name": "FloatProgressModel",
          "model_module_version": "1.5.0",
          "state": {
            "_dom_classes": [],
            "_model_module": "@jupyter-widgets/controls",
            "_model_module_version": "1.5.0",
            "_model_name": "FloatProgressModel",
            "_view_count": null,
            "_view_module": "@jupyter-widgets/controls",
            "_view_module_version": "1.5.0",
            "_view_name": "ProgressView",
            "bar_style": "success",
            "description": "",
            "description_tooltip": null,
            "layout": "IPY_MODEL_3b0aebdce952442292356ec8b1a6f236",
            "max": 313,
            "min": 0,
            "orientation": "horizontal",
            "style": "IPY_MODEL_d86db6ed49844b8ab1269f90767cc230",
            "value": 313
          }
        },
        "5ccbdd78a9524683bc61f54884e48474": {
          "model_module": "@jupyter-widgets/controls",
          "model_name": "HTMLModel",
          "model_module_version": "1.5.0",
          "state": {
            "_dom_classes": [],
            "_model_module": "@jupyter-widgets/controls",
            "_model_module_version": "1.5.0",
            "_model_name": "HTMLModel",
            "_view_count": null,
            "_view_module": "@jupyter-widgets/controls",
            "_view_module_version": "1.5.0",
            "_view_name": "HTMLView",
            "description": "",
            "description_tooltip": null,
            "layout": "IPY_MODEL_a9599128f0b34feda889d73c91de165f",
            "placeholder": "​",
            "style": "IPY_MODEL_6a870cc7bb6848b390dfa8abe8649d74",
            "value": " 313/313 [00:02&lt;00:00, 141.71it/s]"
          }
        },
        "80467a918c7b49668949e9e73a0065f4": {
          "model_module": "@jupyter-widgets/base",
          "model_name": "LayoutModel",
          "model_module_version": "1.2.0",
          "state": {
            "_model_module": "@jupyter-widgets/base",
            "_model_module_version": "1.2.0",
            "_model_name": "LayoutModel",
            "_view_count": null,
            "_view_module": "@jupyter-widgets/base",
            "_view_module_version": "1.2.0",
            "_view_name": "LayoutView",
            "align_content": null,
            "align_items": null,
            "align_self": null,
            "border": null,
            "bottom": null,
            "display": null,
            "flex": null,
            "flex_flow": null,
            "grid_area": null,
            "grid_auto_columns": null,
            "grid_auto_flow": null,
            "grid_auto_rows": null,
            "grid_column": null,
            "grid_gap": null,
            "grid_row": null,
            "grid_template_areas": null,
            "grid_template_columns": null,
            "grid_template_rows": null,
            "height": null,
            "justify_content": null,
            "justify_items": null,
            "left": null,
            "margin": null,
            "max_height": null,
            "max_width": null,
            "min_height": null,
            "min_width": null,
            "object_fit": null,
            "object_position": null,
            "order": null,
            "overflow": null,
            "overflow_x": null,
            "overflow_y": null,
            "padding": null,
            "right": null,
            "top": null,
            "visibility": null,
            "width": null
          }
        },
        "d8113a3004454410b6397206dc41d749": {
          "model_module": "@jupyter-widgets/base",
          "model_name": "LayoutModel",
          "model_module_version": "1.2.0",
          "state": {
            "_model_module": "@jupyter-widgets/base",
            "_model_module_version": "1.2.0",
            "_model_name": "LayoutModel",
            "_view_count": null,
            "_view_module": "@jupyter-widgets/base",
            "_view_module_version": "1.2.0",
            "_view_name": "LayoutView",
            "align_content": null,
            "align_items": null,
            "align_self": null,
            "border": null,
            "bottom": null,
            "display": null,
            "flex": null,
            "flex_flow": null,
            "grid_area": null,
            "grid_auto_columns": null,
            "grid_auto_flow": null,
            "grid_auto_rows": null,
            "grid_column": null,
            "grid_gap": null,
            "grid_row": null,
            "grid_template_areas": null,
            "grid_template_columns": null,
            "grid_template_rows": null,
            "height": null,
            "justify_content": null,
            "justify_items": null,
            "left": null,
            "margin": null,
            "max_height": null,
            "max_width": null,
            "min_height": null,
            "min_width": null,
            "object_fit": null,
            "object_position": null,
            "order": null,
            "overflow": null,
            "overflow_x": null,
            "overflow_y": null,
            "padding": null,
            "right": null,
            "top": null,
            "visibility": null,
            "width": null
          }
        },
        "03afdab4475848769de2c9db480caeab": {
          "model_module": "@jupyter-widgets/controls",
          "model_name": "DescriptionStyleModel",
          "model_module_version": "1.5.0",
          "state": {
            "_model_module": "@jupyter-widgets/controls",
            "_model_module_version": "1.5.0",
            "_model_name": "DescriptionStyleModel",
            "_view_count": null,
            "_view_module": "@jupyter-widgets/base",
            "_view_module_version": "1.2.0",
            "_view_name": "StyleView",
            "description_width": ""
          }
        },
        "3b0aebdce952442292356ec8b1a6f236": {
          "model_module": "@jupyter-widgets/base",
          "model_name": "LayoutModel",
          "model_module_version": "1.2.0",
          "state": {
            "_model_module": "@jupyter-widgets/base",
            "_model_module_version": "1.2.0",
            "_model_name": "LayoutModel",
            "_view_count": null,
            "_view_module": "@jupyter-widgets/base",
            "_view_module_version": "1.2.0",
            "_view_name": "LayoutView",
            "align_content": null,
            "align_items": null,
            "align_self": null,
            "border": null,
            "bottom": null,
            "display": null,
            "flex": null,
            "flex_flow": null,
            "grid_area": null,
            "grid_auto_columns": null,
            "grid_auto_flow": null,
            "grid_auto_rows": null,
            "grid_column": null,
            "grid_gap": null,
            "grid_row": null,
            "grid_template_areas": null,
            "grid_template_columns": null,
            "grid_template_rows": null,
            "height": null,
            "justify_content": null,
            "justify_items": null,
            "left": null,
            "margin": null,
            "max_height": null,
            "max_width": null,
            "min_height": null,
            "min_width": null,
            "object_fit": null,
            "object_position": null,
            "order": null,
            "overflow": null,
            "overflow_x": null,
            "overflow_y": null,
            "padding": null,
            "right": null,
            "top": null,
            "visibility": null,
            "width": null
          }
        },
        "d86db6ed49844b8ab1269f90767cc230": {
          "model_module": "@jupyter-widgets/controls",
          "model_name": "ProgressStyleModel",
          "model_module_version": "1.5.0",
          "state": {
            "_model_module": "@jupyter-widgets/controls",
            "_model_module_version": "1.5.0",
            "_model_name": "ProgressStyleModel",
            "_view_count": null,
            "_view_module": "@jupyter-widgets/base",
            "_view_module_version": "1.2.0",
            "_view_name": "StyleView",
            "bar_color": null,
            "description_width": ""
          }
        },
        "a9599128f0b34feda889d73c91de165f": {
          "model_module": "@jupyter-widgets/base",
          "model_name": "LayoutModel",
          "model_module_version": "1.2.0",
          "state": {
            "_model_module": "@jupyter-widgets/base",
            "_model_module_version": "1.2.0",
            "_model_name": "LayoutModel",
            "_view_count": null,
            "_view_module": "@jupyter-widgets/base",
            "_view_module_version": "1.2.0",
            "_view_name": "LayoutView",
            "align_content": null,
            "align_items": null,
            "align_self": null,
            "border": null,
            "bottom": null,
            "display": null,
            "flex": null,
            "flex_flow": null,
            "grid_area": null,
            "grid_auto_columns": null,
            "grid_auto_flow": null,
            "grid_auto_rows": null,
            "grid_column": null,
            "grid_gap": null,
            "grid_row": null,
            "grid_template_areas": null,
            "grid_template_columns": null,
            "grid_template_rows": null,
            "height": null,
            "justify_content": null,
            "justify_items": null,
            "left": null,
            "margin": null,
            "max_height": null,
            "max_width": null,
            "min_height": null,
            "min_width": null,
            "object_fit": null,
            "object_position": null,
            "order": null,
            "overflow": null,
            "overflow_x": null,
            "overflow_y": null,
            "padding": null,
            "right": null,
            "top": null,
            "visibility": null,
            "width": null
          }
        },
        "6a870cc7bb6848b390dfa8abe8649d74": {
          "model_module": "@jupyter-widgets/controls",
          "model_name": "DescriptionStyleModel",
          "model_module_version": "1.5.0",
          "state": {
            "_model_module": "@jupyter-widgets/controls",
            "_model_module_version": "1.5.0",
            "_model_name": "DescriptionStyleModel",
            "_view_count": null,
            "_view_module": "@jupyter-widgets/base",
            "_view_module_version": "1.2.0",
            "_view_name": "StyleView",
            "description_width": ""
          }
        },
        "941d9293049e4decb50bb6b365ea0bb7": {
          "model_module": "@jupyter-widgets/controls",
          "model_name": "HBoxModel",
          "model_module_version": "1.5.0",
          "state": {
            "_dom_classes": [],
            "_model_module": "@jupyter-widgets/controls",
            "_model_module_version": "1.5.0",
            "_model_name": "HBoxModel",
            "_view_count": null,
            "_view_module": "@jupyter-widgets/controls",
            "_view_module_version": "1.5.0",
            "_view_name": "HBoxView",
            "box_style": "",
            "children": [
              "IPY_MODEL_8dea0c349f394d1abb96c83430220416",
              "IPY_MODEL_4137936b95374b79803cc9acf978ae49",
              "IPY_MODEL_cad138d1c143458bb7a4390308de8f13"
            ],
            "layout": "IPY_MODEL_b09c056db3c34072b45dc3a5a2b0c7d7"
          }
        },
        "8dea0c349f394d1abb96c83430220416": {
          "model_module": "@jupyter-widgets/controls",
          "model_name": "HTMLModel",
          "model_module_version": "1.5.0",
          "state": {
            "_dom_classes": [],
            "_model_module": "@jupyter-widgets/controls",
            "_model_module_version": "1.5.0",
            "_model_name": "HTMLModel",
            "_view_count": null,
            "_view_module": "@jupyter-widgets/controls",
            "_view_module_version": "1.5.0",
            "_view_name": "HTMLView",
            "description": "",
            "description_tooltip": null,
            "layout": "IPY_MODEL_a16cff9d47004a2391d430e1d0634bb4",
            "placeholder": "​",
            "style": "IPY_MODEL_1192aa62774a4b0394a1c7a2b194a5a3",
            "value": "100%"
          }
        },
        "4137936b95374b79803cc9acf978ae49": {
          "model_module": "@jupyter-widgets/controls",
          "model_name": "FloatProgressModel",
          "model_module_version": "1.5.0",
          "state": {
            "_dom_classes": [],
            "_model_module": "@jupyter-widgets/controls",
            "_model_module_version": "1.5.0",
            "_model_name": "FloatProgressModel",
            "_view_count": null,
            "_view_module": "@jupyter-widgets/controls",
            "_view_module_version": "1.5.0",
            "_view_name": "ProgressView",
            "bar_style": "success",
            "description": "",
            "description_tooltip": null,
            "layout": "IPY_MODEL_00f843790529474589c99f02e8c9e2f7",
            "max": 3,
            "min": 0,
            "orientation": "horizontal",
            "style": "IPY_MODEL_4323f63373ef44f7ab47fe32ae66a87f",
            "value": 3
          }
        },
        "cad138d1c143458bb7a4390308de8f13": {
          "model_module": "@jupyter-widgets/controls",
          "model_name": "HTMLModel",
          "model_module_version": "1.5.0",
          "state": {
            "_dom_classes": [],
            "_model_module": "@jupyter-widgets/controls",
            "_model_module_version": "1.5.0",
            "_model_name": "HTMLModel",
            "_view_count": null,
            "_view_module": "@jupyter-widgets/controls",
            "_view_module_version": "1.5.0",
            "_view_name": "HTMLView",
            "description": "",
            "description_tooltip": null,
            "layout": "IPY_MODEL_f7c97308927d49fa992298a043312f9f",
            "placeholder": "​",
            "style": "IPY_MODEL_cd3a5424eea24ab8b7839ef64ecaf441",
            "value": " 3/3 [00:52&lt;00:00, 17.72s/it]"
          }
        },
        "b09c056db3c34072b45dc3a5a2b0c7d7": {
          "model_module": "@jupyter-widgets/base",
          "model_name": "LayoutModel",
          "model_module_version": "1.2.0",
          "state": {
            "_model_module": "@jupyter-widgets/base",
            "_model_module_version": "1.2.0",
            "_model_name": "LayoutModel",
            "_view_count": null,
            "_view_module": "@jupyter-widgets/base",
            "_view_module_version": "1.2.0",
            "_view_name": "LayoutView",
            "align_content": null,
            "align_items": null,
            "align_self": null,
            "border": null,
            "bottom": null,
            "display": null,
            "flex": null,
            "flex_flow": null,
            "grid_area": null,
            "grid_auto_columns": null,
            "grid_auto_flow": null,
            "grid_auto_rows": null,
            "grid_column": null,
            "grid_gap": null,
            "grid_row": null,
            "grid_template_areas": null,
            "grid_template_columns": null,
            "grid_template_rows": null,
            "height": null,
            "justify_content": null,
            "justify_items": null,
            "left": null,
            "margin": null,
            "max_height": null,
            "max_width": null,
            "min_height": null,
            "min_width": null,
            "object_fit": null,
            "object_position": null,
            "order": null,
            "overflow": null,
            "overflow_x": null,
            "overflow_y": null,
            "padding": null,
            "right": null,
            "top": null,
            "visibility": null,
            "width": null
          }
        },
        "a16cff9d47004a2391d430e1d0634bb4": {
          "model_module": "@jupyter-widgets/base",
          "model_name": "LayoutModel",
          "model_module_version": "1.2.0",
          "state": {
            "_model_module": "@jupyter-widgets/base",
            "_model_module_version": "1.2.0",
            "_model_name": "LayoutModel",
            "_view_count": null,
            "_view_module": "@jupyter-widgets/base",
            "_view_module_version": "1.2.0",
            "_view_name": "LayoutView",
            "align_content": null,
            "align_items": null,
            "align_self": null,
            "border": null,
            "bottom": null,
            "display": null,
            "flex": null,
            "flex_flow": null,
            "grid_area": null,
            "grid_auto_columns": null,
            "grid_auto_flow": null,
            "grid_auto_rows": null,
            "grid_column": null,
            "grid_gap": null,
            "grid_row": null,
            "grid_template_areas": null,
            "grid_template_columns": null,
            "grid_template_rows": null,
            "height": null,
            "justify_content": null,
            "justify_items": null,
            "left": null,
            "margin": null,
            "max_height": null,
            "max_width": null,
            "min_height": null,
            "min_width": null,
            "object_fit": null,
            "object_position": null,
            "order": null,
            "overflow": null,
            "overflow_x": null,
            "overflow_y": null,
            "padding": null,
            "right": null,
            "top": null,
            "visibility": null,
            "width": null
          }
        },
        "1192aa62774a4b0394a1c7a2b194a5a3": {
          "model_module": "@jupyter-widgets/controls",
          "model_name": "DescriptionStyleModel",
          "model_module_version": "1.5.0",
          "state": {
            "_model_module": "@jupyter-widgets/controls",
            "_model_module_version": "1.5.0",
            "_model_name": "DescriptionStyleModel",
            "_view_count": null,
            "_view_module": "@jupyter-widgets/base",
            "_view_module_version": "1.2.0",
            "_view_name": "StyleView",
            "description_width": ""
          }
        },
        "00f843790529474589c99f02e8c9e2f7": {
          "model_module": "@jupyter-widgets/base",
          "model_name": "LayoutModel",
          "model_module_version": "1.2.0",
          "state": {
            "_model_module": "@jupyter-widgets/base",
            "_model_module_version": "1.2.0",
            "_model_name": "LayoutModel",
            "_view_count": null,
            "_view_module": "@jupyter-widgets/base",
            "_view_module_version": "1.2.0",
            "_view_name": "LayoutView",
            "align_content": null,
            "align_items": null,
            "align_self": null,
            "border": null,
            "bottom": null,
            "display": null,
            "flex": null,
            "flex_flow": null,
            "grid_area": null,
            "grid_auto_columns": null,
            "grid_auto_flow": null,
            "grid_auto_rows": null,
            "grid_column": null,
            "grid_gap": null,
            "grid_row": null,
            "grid_template_areas": null,
            "grid_template_columns": null,
            "grid_template_rows": null,
            "height": null,
            "justify_content": null,
            "justify_items": null,
            "left": null,
            "margin": null,
            "max_height": null,
            "max_width": null,
            "min_height": null,
            "min_width": null,
            "object_fit": null,
            "object_position": null,
            "order": null,
            "overflow": null,
            "overflow_x": null,
            "overflow_y": null,
            "padding": null,
            "right": null,
            "top": null,
            "visibility": null,
            "width": null
          }
        },
        "4323f63373ef44f7ab47fe32ae66a87f": {
          "model_module": "@jupyter-widgets/controls",
          "model_name": "ProgressStyleModel",
          "model_module_version": "1.5.0",
          "state": {
            "_model_module": "@jupyter-widgets/controls",
            "_model_module_version": "1.5.0",
            "_model_name": "ProgressStyleModel",
            "_view_count": null,
            "_view_module": "@jupyter-widgets/base",
            "_view_module_version": "1.2.0",
            "_view_name": "StyleView",
            "bar_color": null,
            "description_width": ""
          }
        },
        "f7c97308927d49fa992298a043312f9f": {
          "model_module": "@jupyter-widgets/base",
          "model_name": "LayoutModel",
          "model_module_version": "1.2.0",
          "state": {
            "_model_module": "@jupyter-widgets/base",
            "_model_module_version": "1.2.0",
            "_model_name": "LayoutModel",
            "_view_count": null,
            "_view_module": "@jupyter-widgets/base",
            "_view_module_version": "1.2.0",
            "_view_name": "LayoutView",
            "align_content": null,
            "align_items": null,
            "align_self": null,
            "border": null,
            "bottom": null,
            "display": null,
            "flex": null,
            "flex_flow": null,
            "grid_area": null,
            "grid_auto_columns": null,
            "grid_auto_flow": null,
            "grid_auto_rows": null,
            "grid_column": null,
            "grid_gap": null,
            "grid_row": null,
            "grid_template_areas": null,
            "grid_template_columns": null,
            "grid_template_rows": null,
            "height": null,
            "justify_content": null,
            "justify_items": null,
            "left": null,
            "margin": null,
            "max_height": null,
            "max_width": null,
            "min_height": null,
            "min_width": null,
            "object_fit": null,
            "object_position": null,
            "order": null,
            "overflow": null,
            "overflow_x": null,
            "overflow_y": null,
            "padding": null,
            "right": null,
            "top": null,
            "visibility": null,
            "width": null
          }
        },
        "cd3a5424eea24ab8b7839ef64ecaf441": {
          "model_module": "@jupyter-widgets/controls",
          "model_name": "DescriptionStyleModel",
          "model_module_version": "1.5.0",
          "state": {
            "_model_module": "@jupyter-widgets/controls",
            "_model_module_version": "1.5.0",
            "_model_name": "DescriptionStyleModel",
            "_view_count": null,
            "_view_module": "@jupyter-widgets/base",
            "_view_module_version": "1.2.0",
            "_view_name": "StyleView",
            "description_width": ""
          }
        },
        "d60809738fbd48e2a843c440398b3a7b": {
          "model_module": "@jupyter-widgets/controls",
          "model_name": "HBoxModel",
          "model_module_version": "1.5.0",
          "state": {
            "_dom_classes": [],
            "_model_module": "@jupyter-widgets/controls",
            "_model_module_version": "1.5.0",
            "_model_name": "HBoxModel",
            "_view_count": null,
            "_view_module": "@jupyter-widgets/controls",
            "_view_module_version": "1.5.0",
            "_view_name": "HBoxView",
            "box_style": "",
            "children": [
              "IPY_MODEL_22279ab79be84bd1914dd4a93ae16e4f",
              "IPY_MODEL_3df95da6e35143d188b9bb1879acb33f",
              "IPY_MODEL_70a47de5b1ed47139642e10b166cc772"
            ],
            "layout": "IPY_MODEL_4c123dbe85464b5da3a35585d74d1310"
          }
        },
        "22279ab79be84bd1914dd4a93ae16e4f": {
          "model_module": "@jupyter-widgets/controls",
          "model_name": "HTMLModel",
          "model_module_version": "1.5.0",
          "state": {
            "_dom_classes": [],
            "_model_module": "@jupyter-widgets/controls",
            "_model_module_version": "1.5.0",
            "_model_name": "HTMLModel",
            "_view_count": null,
            "_view_module": "@jupyter-widgets/controls",
            "_view_module_version": "1.5.0",
            "_view_name": "HTMLView",
            "description": "",
            "description_tooltip": null,
            "layout": "IPY_MODEL_64fae570b5f74774b500bd95fa9ea91c",
            "placeholder": "​",
            "style": "IPY_MODEL_e930ed230f114726a6487c0cec2b6b92",
            "value": "100%"
          }
        },
        "3df95da6e35143d188b9bb1879acb33f": {
          "model_module": "@jupyter-widgets/controls",
          "model_name": "FloatProgressModel",
          "model_module_version": "1.5.0",
          "state": {
            "_dom_classes": [],
            "_model_module": "@jupyter-widgets/controls",
            "_model_module_version": "1.5.0",
            "_model_name": "FloatProgressModel",
            "_view_count": null,
            "_view_module": "@jupyter-widgets/controls",
            "_view_module_version": "1.5.0",
            "_view_name": "ProgressView",
            "bar_style": "success",
            "description": "",
            "description_tooltip": null,
            "layout": "IPY_MODEL_2c3d33f8bd5f4ece977566c373956302",
            "max": 313,
            "min": 0,
            "orientation": "horizontal",
            "style": "IPY_MODEL_29b841d5e9ff444e819a20800dcf6268",
            "value": 313
          }
        },
        "70a47de5b1ed47139642e10b166cc772": {
          "model_module": "@jupyter-widgets/controls",
          "model_name": "HTMLModel",
          "model_module_version": "1.5.0",
          "state": {
            "_dom_classes": [],
            "_model_module": "@jupyter-widgets/controls",
            "_model_module_version": "1.5.0",
            "_model_name": "HTMLModel",
            "_view_count": null,
            "_view_module": "@jupyter-widgets/controls",
            "_view_module_version": "1.5.0",
            "_view_name": "HTMLView",
            "description": "",
            "description_tooltip": null,
            "layout": "IPY_MODEL_68cf06fd1ad24d4eb19cf0d8ce2a9ea8",
            "placeholder": "​",
            "style": "IPY_MODEL_ed7d14dbd74844d88a36aa9ecaf32bba",
            "value": " 313/313 [00:02&lt;00:00, 146.59it/s]"
          }
        },
        "4c123dbe85464b5da3a35585d74d1310": {
          "model_module": "@jupyter-widgets/base",
          "model_name": "LayoutModel",
          "model_module_version": "1.2.0",
          "state": {
            "_model_module": "@jupyter-widgets/base",
            "_model_module_version": "1.2.0",
            "_model_name": "LayoutModel",
            "_view_count": null,
            "_view_module": "@jupyter-widgets/base",
            "_view_module_version": "1.2.0",
            "_view_name": "LayoutView",
            "align_content": null,
            "align_items": null,
            "align_self": null,
            "border": null,
            "bottom": null,
            "display": null,
            "flex": null,
            "flex_flow": null,
            "grid_area": null,
            "grid_auto_columns": null,
            "grid_auto_flow": null,
            "grid_auto_rows": null,
            "grid_column": null,
            "grid_gap": null,
            "grid_row": null,
            "grid_template_areas": null,
            "grid_template_columns": null,
            "grid_template_rows": null,
            "height": null,
            "justify_content": null,
            "justify_items": null,
            "left": null,
            "margin": null,
            "max_height": null,
            "max_width": null,
            "min_height": null,
            "min_width": null,
            "object_fit": null,
            "object_position": null,
            "order": null,
            "overflow": null,
            "overflow_x": null,
            "overflow_y": null,
            "padding": null,
            "right": null,
            "top": null,
            "visibility": null,
            "width": null
          }
        },
        "64fae570b5f74774b500bd95fa9ea91c": {
          "model_module": "@jupyter-widgets/base",
          "model_name": "LayoutModel",
          "model_module_version": "1.2.0",
          "state": {
            "_model_module": "@jupyter-widgets/base",
            "_model_module_version": "1.2.0",
            "_model_name": "LayoutModel",
            "_view_count": null,
            "_view_module": "@jupyter-widgets/base",
            "_view_module_version": "1.2.0",
            "_view_name": "LayoutView",
            "align_content": null,
            "align_items": null,
            "align_self": null,
            "border": null,
            "bottom": null,
            "display": null,
            "flex": null,
            "flex_flow": null,
            "grid_area": null,
            "grid_auto_columns": null,
            "grid_auto_flow": null,
            "grid_auto_rows": null,
            "grid_column": null,
            "grid_gap": null,
            "grid_row": null,
            "grid_template_areas": null,
            "grid_template_columns": null,
            "grid_template_rows": null,
            "height": null,
            "justify_content": null,
            "justify_items": null,
            "left": null,
            "margin": null,
            "max_height": null,
            "max_width": null,
            "min_height": null,
            "min_width": null,
            "object_fit": null,
            "object_position": null,
            "order": null,
            "overflow": null,
            "overflow_x": null,
            "overflow_y": null,
            "padding": null,
            "right": null,
            "top": null,
            "visibility": null,
            "width": null
          }
        },
        "e930ed230f114726a6487c0cec2b6b92": {
          "model_module": "@jupyter-widgets/controls",
          "model_name": "DescriptionStyleModel",
          "model_module_version": "1.5.0",
          "state": {
            "_model_module": "@jupyter-widgets/controls",
            "_model_module_version": "1.5.0",
            "_model_name": "DescriptionStyleModel",
            "_view_count": null,
            "_view_module": "@jupyter-widgets/base",
            "_view_module_version": "1.2.0",
            "_view_name": "StyleView",
            "description_width": ""
          }
        },
        "2c3d33f8bd5f4ece977566c373956302": {
          "model_module": "@jupyter-widgets/base",
          "model_name": "LayoutModel",
          "model_module_version": "1.2.0",
          "state": {
            "_model_module": "@jupyter-widgets/base",
            "_model_module_version": "1.2.0",
            "_model_name": "LayoutModel",
            "_view_count": null,
            "_view_module": "@jupyter-widgets/base",
            "_view_module_version": "1.2.0",
            "_view_name": "LayoutView",
            "align_content": null,
            "align_items": null,
            "align_self": null,
            "border": null,
            "bottom": null,
            "display": null,
            "flex": null,
            "flex_flow": null,
            "grid_area": null,
            "grid_auto_columns": null,
            "grid_auto_flow": null,
            "grid_auto_rows": null,
            "grid_column": null,
            "grid_gap": null,
            "grid_row": null,
            "grid_template_areas": null,
            "grid_template_columns": null,
            "grid_template_rows": null,
            "height": null,
            "justify_content": null,
            "justify_items": null,
            "left": null,
            "margin": null,
            "max_height": null,
            "max_width": null,
            "min_height": null,
            "min_width": null,
            "object_fit": null,
            "object_position": null,
            "order": null,
            "overflow": null,
            "overflow_x": null,
            "overflow_y": null,
            "padding": null,
            "right": null,
            "top": null,
            "visibility": null,
            "width": null
          }
        },
        "29b841d5e9ff444e819a20800dcf6268": {
          "model_module": "@jupyter-widgets/controls",
          "model_name": "ProgressStyleModel",
          "model_module_version": "1.5.0",
          "state": {
            "_model_module": "@jupyter-widgets/controls",
            "_model_module_version": "1.5.0",
            "_model_name": "ProgressStyleModel",
            "_view_count": null,
            "_view_module": "@jupyter-widgets/base",
            "_view_module_version": "1.2.0",
            "_view_name": "StyleView",
            "bar_color": null,
            "description_width": ""
          }
        },
        "68cf06fd1ad24d4eb19cf0d8ce2a9ea8": {
          "model_module": "@jupyter-widgets/base",
          "model_name": "LayoutModel",
          "model_module_version": "1.2.0",
          "state": {
            "_model_module": "@jupyter-widgets/base",
            "_model_module_version": "1.2.0",
            "_model_name": "LayoutModel",
            "_view_count": null,
            "_view_module": "@jupyter-widgets/base",
            "_view_module_version": "1.2.0",
            "_view_name": "LayoutView",
            "align_content": null,
            "align_items": null,
            "align_self": null,
            "border": null,
            "bottom": null,
            "display": null,
            "flex": null,
            "flex_flow": null,
            "grid_area": null,
            "grid_auto_columns": null,
            "grid_auto_flow": null,
            "grid_auto_rows": null,
            "grid_column": null,
            "grid_gap": null,
            "grid_row": null,
            "grid_template_areas": null,
            "grid_template_columns": null,
            "grid_template_rows": null,
            "height": null,
            "justify_content": null,
            "justify_items": null,
            "left": null,
            "margin": null,
            "max_height": null,
            "max_width": null,
            "min_height": null,
            "min_width": null,
            "object_fit": null,
            "object_position": null,
            "order": null,
            "overflow": null,
            "overflow_x": null,
            "overflow_y": null,
            "padding": null,
            "right": null,
            "top": null,
            "visibility": null,
            "width": null
          }
        },
        "ed7d14dbd74844d88a36aa9ecaf32bba": {
          "model_module": "@jupyter-widgets/controls",
          "model_name": "DescriptionStyleModel",
          "model_module_version": "1.5.0",
          "state": {
            "_model_module": "@jupyter-widgets/controls",
            "_model_module_version": "1.5.0",
            "_model_name": "DescriptionStyleModel",
            "_view_count": null,
            "_view_module": "@jupyter-widgets/base",
            "_view_module_version": "1.2.0",
            "_view_name": "StyleView",
            "description_width": ""
          }
        }
      }
    }
  },
  "cells": [
    {
      "cell_type": "markdown",
      "metadata": {
        "id": "view-in-github",
        "colab_type": "text"
      },
      "source": [
        "<a href=\"https://colab.research.google.com/github/jenniferamhajduk/AIML_Playground/blob/main/Computer_Vision.ipynb\" target=\"_parent\"><img src=\"https://colab.research.google.com/assets/colab-badge.svg\" alt=\"Open In Colab\"/></a>"
      ]
    },
    {
      "cell_type": "code",
      "source": [
        "!pip install tqdm"
      ],
      "metadata": {
        "colab": {
          "base_uri": "https://localhost:8080/"
        },
        "id": "vRzIQf17S-Eg",
        "outputId": "b150ae44-e0c3-45e0-cbe2-e200b72b0cc6"
      },
      "execution_count": 1,
      "outputs": [
        {
          "output_type": "stream",
          "name": "stdout",
          "text": [
            "Requirement already satisfied: tqdm in /usr/local/lib/python3.10/dist-packages (4.66.2)\n"
          ]
        }
      ]
    },
    {
      "cell_type": "code",
      "execution_count": 2,
      "metadata": {
        "colab": {
          "base_uri": "https://localhost:8080/"
        },
        "id": "BhrNoaEZGQ5n",
        "outputId": "f64cd02b-9dd1-4a02-f973-066104e74cb0"
      },
      "outputs": [
        {
          "output_type": "stream",
          "name": "stdout",
          "text": [
            "2.1.0+cu121\n",
            "0.16.0+cu121\n"
          ]
        }
      ],
      "source": [
        "from timeit import default_timer\n",
        "from tqdm.auto import tqdm\n",
        "import torch\n",
        "from torch import nn\n",
        "import torchvision\n",
        "from torchvision import datasets\n",
        "from torchvision import transforms\n",
        "from torchvision.transforms import ToTensor\n",
        "import matplotlib.pyplot as plt\n",
        "from torch.utils.data import DataLoader\n",
        "print(torch.__version__)\n",
        "print(torchvision.__version__)\n"
      ]
    },
    {
      "cell_type": "code",
      "source": [
        "train_data = datasets.CIFAR10(\n",
        "  root=\"data\",\n",
        "  train=True,\n",
        "  download=True,\n",
        "  transform=ToTensor(),\n",
        "  target_transform=None\n",
        ")"
      ],
      "metadata": {
        "id": "3HEoVXO_UwGz",
        "colab": {
          "base_uri": "https://localhost:8080/"
        },
        "outputId": "74190ffb-6117-4ad7-87f9-cec2f18a6c6c"
      },
      "execution_count": 3,
      "outputs": [
        {
          "output_type": "stream",
          "name": "stdout",
          "text": [
            "Downloading https://www.cs.toronto.edu/~kriz/cifar-10-python.tar.gz to data/cifar-10-python.tar.gz\n"
          ]
        },
        {
          "output_type": "stream",
          "name": "stderr",
          "text": [
            "100%|██████████| 170498071/170498071 [00:03<00:00, 55491233.41it/s]\n"
          ]
        },
        {
          "output_type": "stream",
          "name": "stdout",
          "text": [
            "Extracting data/cifar-10-python.tar.gz to data\n"
          ]
        }
      ]
    },
    {
      "cell_type": "code",
      "source": [
        "test_data = datasets.CIFAR10(\n",
        "  root=\"data\",\n",
        "  train=False,\n",
        "  download=False,\n",
        "  transform=ToTensor(),\n",
        "  target_transform=None\n",
        ")"
      ],
      "metadata": {
        "id": "iwanuZcCcz0e"
      },
      "execution_count": 4,
      "outputs": []
    },
    {
      "cell_type": "code",
      "source": [
        "len(train_data), len(test_data)"
      ],
      "metadata": {
        "id": "DLYYK_jwdSOY",
        "colab": {
          "base_uri": "https://localhost:8080/"
        },
        "outputId": "cccd5b3c-e823-4aa2-d7c7-8dc5971a1eec"
      },
      "execution_count": 5,
      "outputs": [
        {
          "output_type": "execute_result",
          "data": {
            "text/plain": [
              "(50000, 10000)"
            ]
          },
          "metadata": {},
          "execution_count": 5
        }
      ]
    },
    {
      "cell_type": "code",
      "source": [
        "image, label = train_data[0]\n",
        "image, label"
      ],
      "metadata": {
        "id": "Qsgw9JpZdimW",
        "colab": {
          "base_uri": "https://localhost:8080/"
        },
        "outputId": "6c24f4ce-7f65-4849-8741-68d279adaa11"
      },
      "execution_count": 6,
      "outputs": [
        {
          "output_type": "execute_result",
          "data": {
            "text/plain": [
              "(tensor([[[0.2314, 0.1686, 0.1961,  ..., 0.6196, 0.5961, 0.5804],\n",
              "          [0.0627, 0.0000, 0.0706,  ..., 0.4824, 0.4667, 0.4784],\n",
              "          [0.0980, 0.0627, 0.1922,  ..., 0.4627, 0.4706, 0.4275],\n",
              "          ...,\n",
              "          [0.8157, 0.7882, 0.7765,  ..., 0.6275, 0.2196, 0.2078],\n",
              "          [0.7059, 0.6784, 0.7294,  ..., 0.7216, 0.3804, 0.3255],\n",
              "          [0.6941, 0.6588, 0.7020,  ..., 0.8471, 0.5922, 0.4824]],\n",
              " \n",
              "         [[0.2431, 0.1804, 0.1882,  ..., 0.5176, 0.4902, 0.4863],\n",
              "          [0.0784, 0.0000, 0.0314,  ..., 0.3451, 0.3255, 0.3412],\n",
              "          [0.0941, 0.0275, 0.1059,  ..., 0.3294, 0.3294, 0.2863],\n",
              "          ...,\n",
              "          [0.6667, 0.6000, 0.6314,  ..., 0.5216, 0.1216, 0.1333],\n",
              "          [0.5451, 0.4824, 0.5647,  ..., 0.5804, 0.2431, 0.2078],\n",
              "          [0.5647, 0.5059, 0.5569,  ..., 0.7216, 0.4627, 0.3608]],\n",
              " \n",
              "         [[0.2471, 0.1765, 0.1686,  ..., 0.4235, 0.4000, 0.4039],\n",
              "          [0.0784, 0.0000, 0.0000,  ..., 0.2157, 0.1961, 0.2235],\n",
              "          [0.0824, 0.0000, 0.0314,  ..., 0.1961, 0.1961, 0.1647],\n",
              "          ...,\n",
              "          [0.3765, 0.1333, 0.1020,  ..., 0.2745, 0.0275, 0.0784],\n",
              "          [0.3765, 0.1647, 0.1176,  ..., 0.3686, 0.1333, 0.1333],\n",
              "          [0.4549, 0.3686, 0.3412,  ..., 0.5490, 0.3294, 0.2824]]]),\n",
              " 6)"
            ]
          },
          "metadata": {},
          "execution_count": 6
        }
      ]
    },
    {
      "cell_type": "code",
      "source": [
        "classes = train_data.classes\n",
        "classes"
      ],
      "metadata": {
        "id": "lR7Rz1cXhYXC",
        "colab": {
          "base_uri": "https://localhost:8080/"
        },
        "outputId": "450f6adc-3368-40a8-86e4-0ad277bb1ad1"
      },
      "execution_count": 7,
      "outputs": [
        {
          "output_type": "execute_result",
          "data": {
            "text/plain": [
              "['airplane',\n",
              " 'automobile',\n",
              " 'bird',\n",
              " 'cat',\n",
              " 'deer',\n",
              " 'dog',\n",
              " 'frog',\n",
              " 'horse',\n",
              " 'ship',\n",
              " 'truck']"
            ]
          },
          "metadata": {},
          "execution_count": 7
        }
      ]
    },
    {
      "cell_type": "code",
      "source": [
        "classes_to_idx = train_data.class_to_idx\n",
        "classes_to_idx"
      ],
      "metadata": {
        "id": "J5Ykq_swhhyd",
        "colab": {
          "base_uri": "https://localhost:8080/"
        },
        "outputId": "3c98c550-1819-48b5-e190-c9ab52e197eb"
      },
      "execution_count": 8,
      "outputs": [
        {
          "output_type": "execute_result",
          "data": {
            "text/plain": [
              "{'airplane': 0,\n",
              " 'automobile': 1,\n",
              " 'bird': 2,\n",
              " 'cat': 3,\n",
              " 'deer': 4,\n",
              " 'dog': 5,\n",
              " 'frog': 6,\n",
              " 'horse': 7,\n",
              " 'ship': 8,\n",
              " 'truck': 9}"
            ]
          },
          "metadata": {},
          "execution_count": 8
        }
      ]
    },
    {
      "cell_type": "code",
      "source": [
        "NUM_CLASSES = len(train_data.classes)"
      ],
      "metadata": {
        "id": "eHSP-avJfbfB"
      },
      "execution_count": 9,
      "outputs": []
    },
    {
      "cell_type": "code",
      "source": [
        "NUM_CLASSES"
      ],
      "metadata": {
        "id": "ZU0-GmmShO_1",
        "colab": {
          "base_uri": "https://localhost:8080/"
        },
        "outputId": "b79bd1d1-f814-46b9-a078-2120b23f67a2"
      },
      "execution_count": 10,
      "outputs": [
        {
          "output_type": "execute_result",
          "data": {
            "text/plain": [
              "10"
            ]
          },
          "metadata": {},
          "execution_count": 10
        }
      ]
    },
    {
      "cell_type": "code",
      "source": [
        "image.shape, label"
      ],
      "metadata": {
        "id": "gZ-ZF_5KhQos",
        "colab": {
          "base_uri": "https://localhost:8080/"
        },
        "outputId": "2475353a-4be4-4afd-9c5d-28580f747a91"
      },
      "execution_count": 11,
      "outputs": [
        {
          "output_type": "execute_result",
          "data": {
            "text/plain": [
              "(torch.Size([3, 32, 32]), 6)"
            ]
          },
          "metadata": {},
          "execution_count": 11
        }
      ]
    },
    {
      "cell_type": "code",
      "source": [
        "image, label = train_data[0]\n",
        "image = image.squeeze(dim=1)\n",
        "image = image.numpy()\n",
        "image = image.transpose((1,2,0))\n",
        "plt.imshow(image)\n",
        "plt.title(classes[label])"
      ],
      "metadata": {
        "id": "nzy_Go8qh8vf",
        "colab": {
          "base_uri": "https://localhost:8080/",
          "height": 469
        },
        "outputId": "24f85886-c928-4072-ed99-2a9b16f0d519"
      },
      "execution_count": 12,
      "outputs": [
        {
          "output_type": "execute_result",
          "data": {
            "text/plain": [
              "Text(0.5, 1.0, 'frog')"
            ]
          },
          "metadata": {},
          "execution_count": 12
        },
        {
          "output_type": "display_data",
          "data": {
            "text/plain": [
              "<Figure size 640x480 with 1 Axes>"
            ],
            "image/png": "[encoded data removed]"
          },
          "metadata": {}
        }
      ]
    },
    {
      "cell_type": "code",
      "source": [
        "fig = plt.figure(figsize=(9,9))\n",
        "rows, cols = 4,4\n",
        "for i in range(1, rows*cols+1):\n",
        "  rand_idx = torch.randint(0, len(train_data), size=[1]).item()\n",
        "  image, label = train_data[rand_idx]\n",
        "  image = image.squeeze(dim=1)\n",
        "  image = image.numpy()\n",
        "  image = image.transpose((1,2,0))\n",
        "  fig.add_subplot(rows, cols, i)\n",
        "  plt.imshow(image.squeeze())\n",
        "  plt.title(classes[label])\n",
        "  plt.axis(False)"
      ],
      "metadata": {
        "id": "t0aLNL9bobkL",
        "colab": {
          "base_uri": "https://localhost:8080/",
          "height": 752
        },
        "outputId": "0bfafe28-0755-42f4-a270-d86cd4df652e"
      },
      "execution_count": 13,
      "outputs": [
        {
          "output_type": "display_data",
          "data": {
            "text/plain": [
              "<Figure size 900x900 with 16 Axes>"
            ],
            "image/png": "[encoded data removed]"
          },
          "metadata": {}
        }
      ]
    },
    {
      "cell_type": "code",
      "source": [
        "BATCH_SIZE=32"
      ],
      "metadata": {
        "id": "ft5Ge9lguIi7"
      },
      "execution_count": 14,
      "outputs": []
    },
    {
      "cell_type": "code",
      "source": [
        "train_dataloader = DataLoader(\n",
        "    dataset=train_data,\n",
        "    batch_size=BATCH_SIZE,\n",
        "    shuffle=True\n",
        ")\n",
        "\n",
        "test_dataloader = DataLoader(\n",
        "    dataset=test_data,\n",
        "    batch_size=BATCH_SIZE,\n",
        "    shuffle=False\n",
        ")"
      ],
      "metadata": {
        "id": "O12_QC6ppWaD"
      },
      "execution_count": 15,
      "outputs": []
    },
    {
      "cell_type": "code",
      "source": [
        "train_dataloader, test_dataloader"
      ],
      "metadata": {
        "id": "mgBjxbsguPSY",
        "colab": {
          "base_uri": "https://localhost:8080/"
        },
        "outputId": "caca208e-2b5c-4bb0-97e8-861b2b7f3c48"
      },
      "execution_count": 16,
      "outputs": [
        {
          "output_type": "execute_result",
          "data": {
            "text/plain": [
              "(<torch.utils.data.dataloader.DataLoader at 0x7d5f37e66e00>,\n",
              " <torch.utils.data.dataloader.DataLoader at 0x7d5f37baf220>)"
            ]
          },
          "metadata": {},
          "execution_count": 16
        }
      ]
    },
    {
      "cell_type": "code",
      "source": [
        "print(f\"DataLoaders: {train_dataloader, test_dataloader}\")\n",
        "print(f\"Length of train_dataloader: {len(train_dataloader)} batches of {BATCH_SIZE}\")\n",
        "print(f\"Length of test_dataloader: {len(test_dataloader)} batches of {BATCH_SIZE}\")"
      ],
      "metadata": {
        "id": "GE4VYbIUuwwd",
        "colab": {
          "base_uri": "https://localhost:8080/"
        },
        "outputId": "f15765f6-921a-42a8-bd3e-150931cbc0a9"
      },
      "execution_count": 17,
      "outputs": [
        {
          "output_type": "stream",
          "name": "stdout",
          "text": [
            "DataLoaders: (<torch.utils.data.dataloader.DataLoader object at 0x7d5f37e66e00>, <torch.utils.data.dataloader.DataLoader object at 0x7d5f37baf220>)\n",
            "Length of train_dataloader: 1563 batches of 32\n",
            "Length of test_dataloader: 313 batches of 32\n"
          ]
        }
      ]
    },
    {
      "cell_type": "code",
      "source": [
        "train_features_batch, train_labels_batch = next(iter(train_dataloader))\n",
        "train_features_batch.shape, train_labels_batch.shape\n",
        "train_features_batch[0], train_labels_batch[0]"
      ],
      "metadata": {
        "id": "nFEV0F7lvbMI",
        "colab": {
          "base_uri": "https://localhost:8080/"
        },
        "outputId": "933511af-890e-4094-f7cf-b931be2ef2bb"
      },
      "execution_count": 18,
      "outputs": [
        {
          "output_type": "execute_result",
          "data": {
            "text/plain": [
              "(tensor([[[0.3412, 0.3412, 0.3294,  ..., 0.3569, 0.3529, 0.3373],\n",
              "          [0.3412, 0.3412, 0.3333,  ..., 0.4039, 0.3804, 0.3608],\n",
              "          [0.3529, 0.3686, 0.3804,  ..., 0.4745, 0.4706, 0.4549],\n",
              "          ...,\n",
              "          [0.4353, 0.4196, 0.4000,  ..., 0.3843, 0.4000, 0.5020],\n",
              "          [0.4039, 0.4118, 0.3922,  ..., 0.3804, 0.4588, 0.5333],\n",
              "          [0.4000, 0.3882, 0.3686,  ..., 0.4471, 0.5098, 0.5294]],\n",
              " \n",
              "         [[0.3569, 0.3529, 0.3412,  ..., 0.4353, 0.4392, 0.4314],\n",
              "          [0.3804, 0.3804, 0.3765,  ..., 0.5373, 0.5451, 0.5255],\n",
              "          [0.5059, 0.5176, 0.5294,  ..., 0.6078, 0.6039, 0.5882],\n",
              "          ...,\n",
              "          [0.4314, 0.4157, 0.4000,  ..., 0.3961, 0.4118, 0.5137],\n",
              "          [0.4078, 0.4157, 0.3961,  ..., 0.3922, 0.4706, 0.5451],\n",
              "          [0.4118, 0.4000, 0.3804,  ..., 0.4588, 0.5216, 0.5412]],\n",
              " \n",
              "         [[0.3922, 0.3922, 0.3804,  ..., 0.4353, 0.4275, 0.4039],\n",
              "          [0.3765, 0.3765, 0.3686,  ..., 0.4627, 0.4431, 0.4196],\n",
              "          [0.4235, 0.4353, 0.4471,  ..., 0.4784, 0.4627, 0.4510],\n",
              "          ...,\n",
              "          [0.4431, 0.4314, 0.4118,  ..., 0.4235, 0.4392, 0.5412],\n",
              "          [0.4275, 0.4353, 0.4157,  ..., 0.4235, 0.4980, 0.5765],\n",
              "          [0.4392, 0.4275, 0.4118,  ..., 0.4902, 0.5490, 0.5686]]]),\n",
              " tensor(1))"
            ]
          },
          "metadata": {},
          "execution_count": 18
        }
      ]
    },
    {
      "cell_type": "code",
      "source": [
        "random_idx = torch.randint(0, len(train_features_batch), size=[1]).item()\n",
        "image, label = train_features_batch[random_idx], train_labels_batch[random_idx]\n",
        "image = image.squeeze(dim=1)\n",
        "image = image.numpy()\n",
        "image = image.transpose((1,2,0))\n",
        "plt.imshow(image)\n",
        "plt.title(classes[label])\n",
        "plt.axis(False)\n",
        "print(f\"Image Size; {image.shape}\")\n",
        "print(f\"Label: {label}, label size {label.shape}\")\n"
      ],
      "metadata": {
        "id": "UC8au5PXwjxi",
        "colab": {
          "base_uri": "https://localhost:8080/",
          "height": 463
        },
        "outputId": "560adde2-555a-46ac-92dc-5141f67c21a4"
      },
      "execution_count": 19,
      "outputs": [
        {
          "output_type": "stream",
          "name": "stdout",
          "text": [
            "Image Size; (32, 32, 3)\n",
            "Label: 7, label size torch.Size([])\n"
          ]
        },
        {
          "output_type": "display_data",
          "data": {
            "text/plain": [
              "<Figure size 640x480 with 1 Axes>"
            ],
            "image/png": "[encoded data removed]"
          },
          "metadata": {}
        }
      ]
    },
    {
      "cell_type": "code",
      "source": [
        "flatten_model = nn.Flatten()\n",
        "x = train_features_batch[0]\n",
        "x, x.shape"
      ],
      "metadata": {
        "id": "DOSIAF40xgJr",
        "colab": {
          "base_uri": "https://localhost:8080/"
        },
        "outputId": "41c13673-c486-48e5-ea53-37616f955074"
      },
      "execution_count": 20,
      "outputs": [
        {
          "output_type": "execute_result",
          "data": {
            "text/plain": [
              "(tensor([[[0.3412, 0.3412, 0.3294,  ..., 0.3569, 0.3529, 0.3373],\n",
              "          [0.3412, 0.3412, 0.3333,  ..., 0.4039, 0.3804, 0.3608],\n",
              "          [0.3529, 0.3686, 0.3804,  ..., 0.4745, 0.4706, 0.4549],\n",
              "          ...,\n",
              "          [0.4353, 0.4196, 0.4000,  ..., 0.3843, 0.4000, 0.5020],\n",
              "          [0.4039, 0.4118, 0.3922,  ..., 0.3804, 0.4588, 0.5333],\n",
              "          [0.4000, 0.3882, 0.3686,  ..., 0.4471, 0.5098, 0.5294]],\n",
              " \n",
              "         [[0.3569, 0.3529, 0.3412,  ..., 0.4353, 0.4392, 0.4314],\n",
              "          [0.3804, 0.3804, 0.3765,  ..., 0.5373, 0.5451, 0.5255],\n",
              "          [0.5059, 0.5176, 0.5294,  ..., 0.6078, 0.6039, 0.5882],\n",
              "          ...,\n",
              "          [0.4314, 0.4157, 0.4000,  ..., 0.3961, 0.4118, 0.5137],\n",
              "          [0.4078, 0.4157, 0.3961,  ..., 0.3922, 0.4706, 0.5451],\n",
              "          [0.4118, 0.4000, 0.3804,  ..., 0.4588, 0.5216, 0.5412]],\n",
              " \n",
              "         [[0.3922, 0.3922, 0.3804,  ..., 0.4353, 0.4275, 0.4039],\n",
              "          [0.3765, 0.3765, 0.3686,  ..., 0.4627, 0.4431, 0.4196],\n",
              "          [0.4235, 0.4353, 0.4471,  ..., 0.4784, 0.4627, 0.4510],\n",
              "          ...,\n",
              "          [0.4431, 0.4314, 0.4118,  ..., 0.4235, 0.4392, 0.5412],\n",
              "          [0.4275, 0.4353, 0.4157,  ..., 0.4235, 0.4980, 0.5765],\n",
              "          [0.4392, 0.4275, 0.4118,  ..., 0.4902, 0.5490, 0.5686]]]),\n",
              " torch.Size([3, 32, 32]))"
            ]
          },
          "metadata": {},
          "execution_count": 20
        }
      ]
    },
    {
      "cell_type": "code",
      "source": [
        "output = flatten_model(x)\n",
        "print(f\"Shape before flattening: {x.shape}\")\n",
        "print(f\"Shape after flattening: {output.shape}\")"
      ],
      "metadata": {
        "id": "vjm3zo4yzS-H",
        "colab": {
          "base_uri": "https://localhost:8080/"
        },
        "outputId": "47aeb9fd-72e2-454f-da0d-ba779f324890"
      },
      "execution_count": 21,
      "outputs": [
        {
          "output_type": "stream",
          "name": "stdout",
          "text": [
            "Shape before flattening: torch.Size([3, 32, 32])\n",
            "Shape after flattening: torch.Size([3, 1024])\n"
          ]
        }
      ]
    },
    {
      "cell_type": "code",
      "source": [
        "class baseline_cifar10(nn.Module):\n",
        "  def __init__(self, input_shape: int, hidden_units: int, output_shape: int):\n",
        "    super().__init__()\n",
        "    self.layer_stack = nn.Sequential(\n",
        "        nn.Flatten(),\n",
        "        nn.Linear(in_features=input_shape, out_features=hidden_units),\n",
        "        nn.Linear(in_features=hidden_units, out_features=output_shape),\n",
        "    )\n",
        "  def forward(self, x):\n",
        "    return self.layer_stack(x)"
      ],
      "metadata": {
        "id": "DbxXcfPLzlo7"
      },
      "execution_count": 22,
      "outputs": []
    },
    {
      "cell_type": "code",
      "source": [
        "baseline = baseline_cifar10(\n",
        "    input_shape=3072,\n",
        "    hidden_units=256,\n",
        "    output_shape=len(classes)\n",
        ")\n",
        "baseline"
      ],
      "metadata": {
        "id": "CyE1GS0v12ZC",
        "colab": {
          "base_uri": "https://localhost:8080/"
        },
        "outputId": "59a05396-d6c9-48dd-d7d8-cdc56034b2a8"
      },
      "execution_count": 23,
      "outputs": [
        {
          "output_type": "execute_result",
          "data": {
            "text/plain": [
              "baseline_cifar10(\n",
              "  (layer_stack): Sequential(\n",
              "    (0): Flatten(start_dim=1, end_dim=-1)\n",
              "    (1): Linear(in_features=3072, out_features=256, bias=True)\n",
              "    (2): Linear(in_features=256, out_features=10, bias=True)\n",
              "  )\n",
              ")"
            ]
          },
          "metadata": {},
          "execution_count": 23
        }
      ]
    },
    {
      "cell_type": "code",
      "source": [
        "loss_fn = nn.CrossEntropyLoss()\n",
        "optimizer = torch.optim.SGD(params=baseline.parameters(), lr=0.01)\n"
      ],
      "metadata": {
        "id": "fVmCEoNe2dV_"
      },
      "execution_count": 24,
      "outputs": []
    },
    {
      "cell_type": "code",
      "source": [
        "def Accuracy(y_true, y_pred):\n",
        "  correct = torch.eq(y_true, y_pred).sum().item()\n",
        "  acc = (correct / len(y_pred)) * 100\n",
        "  return acc"
      ],
      "metadata": {
        "id": "twolLZwGM-MM"
      },
      "execution_count": 25,
      "outputs": []
    },
    {
      "cell_type": "code",
      "source": [
        "def print_training_time(\n",
        "    start: float,\n",
        "    end: float,\n",
        "    device: torch.device = None):\n",
        "  total_time = end - start\n",
        "  print(f\"Train time on {device}: {total_time: .3f} seconds\")"
      ],
      "metadata": {
        "id": "KfKKLDbvNWz9"
      },
      "execution_count": 26,
      "outputs": []
    },
    {
      "cell_type": "code",
      "source": [
        "epochs = 3"
      ],
      "metadata": {
        "id": "u41pXn7zQoZ2"
      },
      "execution_count": 27,
      "outputs": []
    },
    {
      "cell_type": "code",
      "source": [
        "def training_loop(model: torch.nn.Module,\n",
        "                  epochs: int,\n",
        "                  train_data_loader: torch.utils.data.DataLoader,\n",
        "                  test_data_loader: torch.utils.data.DataLoader,\n",
        "                  loss_fn: torch.nn.Module,\n",
        "                  optimizer: torch.nn.Module,\n",
        "                  accuracy):\n",
        "  print(f\"Running: \", model.__class__.__name__)\n",
        "  train_time_start = default_timer()\n",
        "  for epoch in tqdm(range(epochs)):\n",
        "    print(f\"Epoch: {epoch}\")\n",
        "    train_loss, train_acc = 0,0\n",
        "    for batch, (X,y) in enumerate(train_dataloader):\n",
        "      X = X.to(device)\n",
        "      y = y.to(device)\n",
        "      model.train()\n",
        "      y_pred = model(X)\n",
        "      loss = loss_fn(y_pred, y)\n",
        "      train_loss += loss\n",
        "      train_acc = Accuracy(y, y_pred.argmax(dim=1))\n",
        "      optimizer.zero_grad()\n",
        "      loss.backward()\n",
        "      optimizer.step()\n",
        "\n",
        "      if batch % 500 == 0:\n",
        "        print(f\"Processed batch {batch * len(X)}/{len(train_dataloader.dataset)} samples\")\n",
        "\n",
        "    train_loss /= len(train_dataloader)\n",
        "    train_acc /= len(train_dataloader)\n",
        "\n",
        "\n",
        "    test_loss, test_acc = 0,0\n",
        "    with torch.inference_mode():\n",
        "      for X_test, y_test in test_dataloader:\n",
        "        X_test = X_test.to(device)\n",
        "        y_test = y_test.to(device)\n",
        "        test_pred = model(X_test)\n",
        "        test_loss += loss_fn(test_pred, y_test)\n",
        "        test_acc = Accuracy(y_test, y_pred=test_pred.argmax(dim=1))\n",
        "\n",
        "      test_loss /= len(test_dataloader)\n",
        "      test_acc  /= len(test_dataloader)\n",
        "\n",
        "    print(f\"Train Accuracy: {train_acc: .2f}%, Train Loss: {loss: .4f} | Test Accuracy: {test_acc: .2f}%, Test Loss: {test_loss: .4f}\")\n",
        "  train_time_end = default_timer()\n",
        "  total_time = print_training_time(start=train_time_start, end=train_time_end, device=str(next(model.parameters()).device))"
      ],
      "metadata": {
        "id": "iENfVrGWOw1V"
      },
      "execution_count": 28,
      "outputs": []
    },
    {
      "cell_type": "code",
      "source": [
        "device = \"cuda\" if torch.cuda.is_available() else \"cpu\"\n",
        "device"
      ],
      "metadata": {
        "colab": {
          "base_uri": "https://localhost:8080/",
          "height": 35
        },
        "id": "plxPrYL-zVwT",
        "outputId": "1e83509f-67dc-435e-f4a8-f3c730a54fca"
      },
      "execution_count": 30,
      "outputs": [
        {
          "output_type": "execute_result",
          "data": {
            "text/plain": [
              "'cpu'"
            ],
            "application/vnd.google.colaboratory.intrinsic+json": {
              "type": "string"
            }
          },
          "metadata": {},
          "execution_count": 30
        }
      ]
    },
    {
      "cell_type": "code",
      "source": [
        "def eval_model(\n",
        "    model: torch.nn.Module,\n",
        "    test_data_loader: torch.utils.data.DataLoader,\n",
        "    loss_fn: torch.nn.Module,\n",
        "    accuracy):\n",
        "  loss, acc = 0,0\n",
        "  model.eval().to(device)\n",
        "  with torch.inference_mode():\n",
        "    for X, y in tqdm(test_data_loader):\n",
        "      X = X.to(device)\n",
        "      y = y.to(device)\n",
        "      y_pred = model(X)\n",
        "      loss += loss_fn(y_pred, y)\n",
        "      acc += accuracy(y, y_pred.argmax(dim=1))\n",
        "\n",
        "      loss /= len(test_data_loader)\n",
        "      acc /= len(test_data_loader)\n",
        "\n",
        "  return {\"model_name\": model.__class__.__name__,\n",
        "          \"model_loss\": loss.item(),\n",
        "          \"model_acc\": acc}\n",
        "\n",
        "results = eval_model(model=baseline,test_data_loader=test_dataloader,loss_fn=loss_fn,accuracy=Accuracy)\n",
        "results"
      ],
      "metadata": {
        "id": "aIcRfg0aGvZi",
        "colab": {
          "base_uri": "https://localhost:8080/",
          "height": 101,
          "referenced_widgets": [
            "b0041d392c8641e68a48f8c26510ced1",
            "b81d949ea23e4c9ca57d6de4c3d959d7",
            "c4f34b0ed2d34353b122af3fe96c4ea1",
            "5ccbdd78a9524683bc61f54884e48474",
            "80467a918c7b49668949e9e73a0065f4",
            "d8113a3004454410b6397206dc41d749",
            "03afdab4475848769de2c9db480caeab",
            "3b0aebdce952442292356ec8b1a6f236",
            "d86db6ed49844b8ab1269f90767cc230",
            "a9599128f0b34feda889d73c91de165f",
            "6a870cc7bb6848b390dfa8abe8649d74"
          ]
        },
        "outputId": "5b1b852e-2fca-455f-aff8-17d3969c5c2b"
      },
      "execution_count": 31,
      "outputs": [
        {
          "output_type": "display_data",
          "data": {
            "text/plain": [
              "  0%|          | 0/313 [00:00<?, ?it/s]"
            ],
            "application/vnd.jupyter.widget-view+json": {
              "version_major": 2,
              "version_minor": 0,
              "model_id": "b0041d392c8641e68a48f8c26510ced1"
            }
          },
          "metadata": {}
        },
        {
          "output_type": "execute_result",
          "data": {
            "text/plain": [
              "{'model_name': 'baseline_cifar10',\n",
              " 'model_loss': 0.00723003875464201,\n",
              " 'model_acc': 0.0799685097954806}"
            ]
          },
          "metadata": {},
          "execution_count": 31
        }
      ]
    },
    {
      "cell_type": "code",
      "source": [
        "class baselinev2_cifar10(nn.Module):\n",
        "  def __init__(self, input_shape: int, hidden_units: int, output_shape: int):\n",
        "    super().__init__()\n",
        "    self.layer_stack = nn.Sequential(\n",
        "        nn.Flatten(),\n",
        "        nn.Linear(in_features=input_shape, out_features=hidden_units),\n",
        "        nn.ReLU(),\n",
        "        nn.Linear(in_features=hidden_units, out_features=output_shape),\n",
        "        nn.ReLU()\n",
        "    )\n",
        "  def forward(self, x):\n",
        "    return self.layer_stack(x)"
      ],
      "metadata": {
        "id": "ZXsGAc77I4Gd"
      },
      "execution_count": 32,
      "outputs": []
    },
    {
      "cell_type": "code",
      "source": [
        "baselinev2 = baselinev2_cifar10(\n",
        "  input_shape=3072,\n",
        "  hidden_units=256,\n",
        "  output_shape=len(classes)\n",
        ").to(device)\n",
        "baselinev2"
      ],
      "metadata": {
        "colab": {
          "base_uri": "https://localhost:8080/"
        },
        "id": "APtzmjd2phpT",
        "outputId": "6485489e-b6f5-4c8b-ba5b-50d2c7979a2e"
      },
      "execution_count": 33,
      "outputs": [
        {
          "output_type": "execute_result",
          "data": {
            "text/plain": [
              "baselinev2_cifar10(\n",
              "  (layer_stack): Sequential(\n",
              "    (0): Flatten(start_dim=1, end_dim=-1)\n",
              "    (1): Linear(in_features=3072, out_features=256, bias=True)\n",
              "    (2): ReLU()\n",
              "    (3): Linear(in_features=256, out_features=10, bias=True)\n",
              "    (4): ReLU()\n",
              "  )\n",
              ")"
            ]
          },
          "metadata": {},
          "execution_count": 33
        }
      ]
    },
    {
      "cell_type": "code",
      "source": [
        "training_results = training_loop(model=baselinev2, epochs=epochs, train_data_loader=train_dataloader, test_data_loader=test_dataloader, loss_fn=loss_fn, optimizer=optimizer, accuracy=Accuracy)\n",
        "eval_results = eval_model(model=baselinev2, test_data_loader=test_dataloader, loss_fn=loss_fn, accuracy=Accuracy)\n",
        "eval_results"
      ],
      "metadata": {
        "colab": {
          "base_uri": "https://localhost:8080/",
          "height": 480,
          "referenced_widgets": [
            "941d9293049e4decb50bb6b365ea0bb7",
            "8dea0c349f394d1abb96c83430220416",
            "4137936b95374b79803cc9acf978ae49",
            "cad138d1c143458bb7a4390308de8f13",
            "b09c056db3c34072b45dc3a5a2b0c7d7",
            "a16cff9d47004a2391d430e1d0634bb4",
            "1192aa62774a4b0394a1c7a2b194a5a3",
            "00f843790529474589c99f02e8c9e2f7",
            "4323f63373ef44f7ab47fe32ae66a87f",
            "f7c97308927d49fa992298a043312f9f",
            "cd3a5424eea24ab8b7839ef64ecaf441",
            "d60809738fbd48e2a843c440398b3a7b",
            "22279ab79be84bd1914dd4a93ae16e4f",
            "3df95da6e35143d188b9bb1879acb33f",
            "70a47de5b1ed47139642e10b166cc772",
            "4c123dbe85464b5da3a35585d74d1310",
            "64fae570b5f74774b500bd95fa9ea91c",
            "e930ed230f114726a6487c0cec2b6b92",
            "2c3d33f8bd5f4ece977566c373956302",
            "29b841d5e9ff444e819a20800dcf6268",
            "68cf06fd1ad24d4eb19cf0d8ce2a9ea8",
            "ed7d14dbd74844d88a36aa9ecaf32bba"
          ]
        },
        "id": "fXXJflHOrFM7",
        "outputId": "0128040e-c936-4c8f-e9f7-7fee2dd015e6"
      },
      "execution_count": 36,
      "outputs": [
        {
          "output_type": "stream",
          "name": "stdout",
          "text": [
            "Running:  baselinev2_cifar10\n"
          ]
        },
        {
          "output_type": "display_data",
          "data": {
            "text/plain": [
              "  0%|          | 0/3 [00:00<?, ?it/s]"
            ],
            "application/vnd.jupyter.widget-view+json": {
              "version_major": 2,
              "version_minor": 0,
              "model_id": "941d9293049e4decb50bb6b365ea0bb7"
            }
          },
          "metadata": {}
        },
        {
          "output_type": "stream",
          "name": "stdout",
          "text": [
            "Epoch: 0\n",
            "Processed batch 0/50000 samples\n",
            "Processed batch 16000/50000 samples\n",
            "Processed batch 32000/50000 samples\n",
            "Processed batch 48000/50000 samples\n",
            "Train Accuracy:  0.01%, Train Loss:  2.3157 | Test Accuracy:  0.04%, Test Loss:  2.3032\n",
            "Epoch: 1\n",
            "Processed batch 0/50000 samples\n",
            "Processed batch 16000/50000 samples\n",
            "Processed batch 32000/50000 samples\n",
            "Processed batch 48000/50000 samples\n",
            "Train Accuracy:  0.01%, Train Loss:  2.2731 | Test Accuracy:  0.04%, Test Loss:  2.3032\n",
            "Epoch: 2\n",
            "Processed batch 0/50000 samples\n",
            "Processed batch 16000/50000 samples\n",
            "Processed batch 32000/50000 samples\n",
            "Processed batch 48000/50000 samples\n",
            "Train Accuracy:  0.00%, Train Loss:  2.3264 | Test Accuracy:  0.04%, Test Loss:  2.3032\n",
            "Train time on cpu:  52.629 seconds\n"
          ]
        },
        {
          "output_type": "display_data",
          "data": {
            "text/plain": [
              "  0%|          | 0/313 [00:00<?, ?it/s]"
            ],
            "application/vnd.jupyter.widget-view+json": {
              "version_major": 2,
              "version_minor": 0,
              "model_id": "d60809738fbd48e2a843c440398b3a7b"
            }
          },
          "metadata": {}
        },
        {
          "output_type": "execute_result",
          "data": {
            "text/plain": [
              "{'model_name': 'baselinev2_cifar10',\n",
              " 'model_loss': 0.007346237078309059,\n",
              " 'model_acc': 0.04015989735659867}"
            ]
          },
          "metadata": {},
          "execution_count": 36
        }
      ]
    },
    {
      "cell_type": "code",
      "source": [
        "class baselineCNN(nn.Module):\n",
        "  def __init__(self, input_shape: int, hidden_units: int, output_shape: int):\n",
        "    super().__init__()\n",
        "    self.conv_block_1 = nn.Sequential(\n",
        "        nn.Conv2d(in_channels=input_shape,\n",
        "                  out_channels=hidden_units,\n",
        "                  kernel_size=3,\n",
        "                  stride=1,\n",
        "                  padding=1),\n",
        "        nn.ReLU(),\n",
        "        nn.Conv2d(in_channels=input_shape,\n",
        "                  out_channels=hidden_units,\n",
        "                  kernel_size=3,\n",
        "                  stride=1,\n",
        "                  padding=1),\n",
        "        nn.ReLU(),\n",
        "        nn.MaxPool2d(kernel_size=2)\n",
        "    )\n",
        "    self.conv_block_2 = nn.Sequential(\n",
        "        nn.Conv2d(in_channels=hidden_units,\n",
        "                  out_channels=hidden_units,\n",
        "                  kernel_size=3,\n",
        "                  stride=1,\n",
        "                  padding=1),\n",
        "        nn.ReLU(),\n",
        "        nn.Conv2d(in_channels=hidden_units,\n",
        "                  out_channels=hidden_units,\n",
        "                  kernel_size=3,\n",
        "                  stride=1,\n",
        "                  padding=1),\n",
        "        nn.ReLU(),\n",
        "        nn.MaxPool2d(kernel_size=2)\n",
        "    )\n",
        "    self.classifier = nn.Sequential(\n",
        "        nn.Flatten(),\n",
        "        nn.Linear(in_features=hidden_units*0,\n",
        "                  out_features=output_shape)\n",
        "    )\n",
        "\n",
        "  def forward(self,x):\n",
        "    x = self.conv_block_1(x)\n",
        "    x = self.conv_block_2(x)\n",
        "    out = self.classifier(x)\n",
        "    return out"
      ],
      "metadata": {
        "id": "RTPEKF5sR2Ys"
      },
      "execution_count": 34,
      "outputs": []
    },
    {
      "cell_type": "code",
      "source": [
        "baselineCNN = baselineCNN(input_shape=3, hidden_units=10, output_shape=1).to(device)"
      ],
      "metadata": {
        "colab": {
          "base_uri": "https://localhost:8080/"
        },
        "id": "luEEkDzTaW0x",
        "outputId": "29659db5-41c9-46b2-9251-79b05163f8d4"
      },
      "execution_count": 35,
      "outputs": [
        {
          "output_type": "stream",
          "name": "stderr",
          "text": [
            "/usr/local/lib/python3.10/dist-packages/torch/nn/init.py:412: UserWarning: Initializing zero-element tensors is a no-op\n",
            "  warnings.warn(\"Initializing zero-element tensors is a no-op\")\n"
          ]
        }
      ]
    },
    {
      "cell_type": "code",
      "source": [
        "images = torch.randn(size=(32,3,32,32))\n",
        "test_image = images[0]"
      ],
      "metadata": {
        "id": "6jDqzY_yfzZN"
      },
      "execution_count": 42,
      "outputs": []
    },
    {
      "cell_type": "code",
      "source": [
        "images[0]\n",
        "print(f\"Image batch shape: {images.shape}\")\n",
        "print(f\"Single image shape: {images[0].shape}\")\n",
        "print(f\"Test image: {test_image}\")"
      ],
      "metadata": {
        "colab": {
          "base_uri": "https://localhost:8080/"
        },
        "id": "tKP_lMrUULvn",
        "outputId": "920f7156-704c-4cc2-beaf-33d5da0f8e15"
      },
      "execution_count": 43,
      "outputs": [
        {
          "output_type": "stream",
          "name": "stdout",
          "text": [
            "Image batch shape: torch.Size([32, 3, 32, 32])\n",
            "Single image shape: torch.Size([3, 32, 32])\n",
            "Test image: tensor([[[-1.4467, -0.8352,  0.5313,  ...,  0.7337, -0.7078, -0.3692],\n",
            "         [-0.1761, -0.0940, -0.9997,  ...,  0.6078,  0.0198, -0.7613],\n",
            "         [ 0.1072,  0.5830,  0.2635,  ..., -0.4586, -1.6125,  0.5028],\n",
            "         ...,\n",
            "         [ 0.8095,  1.4399,  0.4699,  ..., -0.7947,  0.6997,  0.2620],\n",
            "         [ 1.3766, -0.5794,  0.9415,  ...,  0.9140, -1.3112, -0.7380],\n",
            "         [-0.2387, -0.1926,  2.3322,  ...,  0.5296,  0.3000, -1.5685]],\n",
            "\n",
            "        [[-1.2572,  0.6460,  0.3780,  ..., -1.3862,  0.2945,  1.0087],\n",
            "         [-0.9532,  0.9369,  0.6706,  ...,  1.0954, -0.1614, -0.7840],\n",
            "         [-2.4872, -0.7382,  0.8209,  ...,  1.0280, -0.4991, -0.1162],\n",
            "         ...,\n",
            "         [ 0.6469, -0.3369,  0.1287,  ..., -0.1597,  1.5808, -0.0596],\n",
            "         [ 1.2101, -1.1664,  1.0556,  ...,  0.9541,  0.2301, -0.1432],\n",
            "         [-1.3528, -0.3709,  0.7924,  ..., -1.7996, -2.1296,  1.9449]],\n",
            "\n",
            "        [[-0.4342,  2.0475,  1.5328,  ..., -2.4536, -0.2630,  1.0508],\n",
            "         [-1.2851, -2.0440, -0.9048,  ...,  0.0917, -1.2017, -0.3023],\n",
            "         [ 0.0032, -0.9442,  1.0920,  ..., -0.6465,  0.5329,  0.9219],\n",
            "         ...,\n",
            "         [ 0.6590, -0.1113,  1.5507,  ...,  1.6194,  1.4544,  2.3281],\n",
            "         [ 0.2856, -0.8751, -1.1211,  ...,  0.0872, -0.1869,  0.8641],\n",
            "         [ 0.6182,  0.7821, -1.7749,  ...,  0.5851,  0.7316,  0.0132]]])\n"
          ]
        }
      ]
    },
    {
      "cell_type": "code",
      "source": [
        "conv_layer = nn.Conv2d(in_channels=3,\n",
        "                       out_channels=10,\n",
        "                       kernel_size=3,\n",
        "                       stride=1,\n",
        "                       padding=1)\n",
        "conv_layer = conv_layer(test_image)\n",
        "\n",
        "print(f\"Test image original shape: {test_image.shape}\")\n",
        "print(f\"Image with unsqueezed dimension: {test_image.unsqueeze(0).shape}\")\n",
        "\n",
        "max_pool_layer = nn.MaxPool2d(kernel_size=2)\n",
        "\n",
        "print(f\"Test image shape after going through conv: {conv_layer.shape}\")\n",
        "\n",
        "test_image_conv_max_pool = max_pool_layer(conv_layer)\n",
        "print(f\"Shape after max pooling: {test_image_conv_max_pool.shape}\")\n"
      ],
      "metadata": {
        "id": "urjdsN3Waoh4",
        "colab": {
          "base_uri": "https://localhost:8080/"
        },
        "outputId": "7221ec05-a562-4beb-c6f3-4d7cf80ce617"
      },
      "execution_count": 56,
      "outputs": [
        {
          "output_type": "stream",
          "name": "stdout",
          "text": [
            "Test image original shape: torch.Size([3, 32, 32])\n",
            "Image with unsqueezed dimension: torch.Size([1, 3, 32, 32])\n",
            "Test image shape after going through conv: torch.Size([10, 32, 32])\n",
            "Shape after max pooling: torch.Size([10, 16, 16])\n"
          ]
        }
      ]
    },
    {
      "cell_type": "code",
      "source": [],
      "metadata": {
        "id": "qNCFk8d_fdIr"
      },
      "execution_count": null,
      "outputs": []
    }
  ]
}