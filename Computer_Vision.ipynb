{
  "nbformat": 4,
  "nbformat_minor": 0,
  "metadata": {
    "colab": {
      "provenance": [],
      "gpuType": "V100",
      "authorship_tag": "ABX9TyMZtP7Rv9NcM1lWQbucPh2l",
      "include_colab_link": true
    },
    "kernelspec": {
      "name": "python3",
      "display_name": "Python 3"
    },
    "language_info": {
      "name": "python"
    },
    "widgets": {
      "application/vnd.jupyter.widget-state+json": {
        "a6299290adad45d59c56dfaec8ae035a": {
          "model_module": "@jupyter-widgets/controls",
          "model_name": "HBoxModel",
          "model_module_version": "1.5.0",
          "state": {
            "_dom_classes": [],
            "_model_module": "@jupyter-widgets/controls",
            "_model_module_version": "1.5.0",
            "_model_name": "HBoxModel",
            "_view_count": null,
            "_view_module": "@jupyter-widgets/controls",
            "_view_module_version": "1.5.0",
            "_view_name": "HBoxView",
            "box_style": "",
            "children": [
              "IPY_MODEL_e9ee023a779f4781be5cecdf15f864e9",
              "IPY_MODEL_79d7d596a2204089a6105cbbb7458296",
              "IPY_MODEL_dd2f4ae4d666498dab9b1c5d54016037"
            ],
            "layout": "IPY_MODEL_6d2d698980a24227acb86b4947e4ca3d"
          }
        },
        "e9ee023a779f4781be5cecdf15f864e9": {
          "model_module": "@jupyter-widgets/controls",
          "model_name": "HTMLModel",
          "model_module_version": "1.5.0",
          "state": {
            "_dom_classes": [],
            "_model_module": "@jupyter-widgets/controls",
            "_model_module_version": "1.5.0",
            "_model_name": "HTMLModel",
            "_view_count": null,
            "_view_module": "@jupyter-widgets/controls",
            "_view_module_version": "1.5.0",
            "_view_name": "HTMLView",
            "description": "",
            "description_tooltip": null,
            "layout": "IPY_MODEL_1271b6f575184d4c9ecf44dbff789cca",
            "placeholder": "​",
            "style": "IPY_MODEL_eb30f45f9603481ab1eaa864d24b9a01",
            "value": "100%"
          }
        },
        "79d7d596a2204089a6105cbbb7458296": {
          "model_module": "@jupyter-widgets/controls",
          "model_name": "FloatProgressModel",
          "model_module_version": "1.5.0",
          "state": {
            "_dom_classes": [],
            "_model_module": "@jupyter-widgets/controls",
            "_model_module_version": "1.5.0",
            "_model_name": "FloatProgressModel",
            "_view_count": null,
            "_view_module": "@jupyter-widgets/controls",
            "_view_module_version": "1.5.0",
            "_view_name": "ProgressView",
            "bar_style": "success",
            "description": "",
            "description_tooltip": null,
            "layout": "IPY_MODEL_4841d28dc906446894fc24bdbe925748",
            "max": 313,
            "min": 0,
            "orientation": "horizontal",
            "style": "IPY_MODEL_d33f35c7bb12470a90acee49dacdaf08",
            "value": 313
          }
        },
        "dd2f4ae4d666498dab9b1c5d54016037": {
          "model_module": "@jupyter-widgets/controls",
          "model_name": "HTMLModel",
          "model_module_version": "1.5.0",
          "state": {
            "_dom_classes": [],
            "_model_module": "@jupyter-widgets/controls",
            "_model_module_version": "1.5.0",
            "_model_name": "HTMLModel",
            "_view_count": null,
            "_view_module": "@jupyter-widgets/controls",
            "_view_module_version": "1.5.0",
            "_view_name": "HTMLView",
            "description": "",
            "description_tooltip": null,
            "layout": "IPY_MODEL_ed7d658077ca47a397213fccfde7d70a",
            "placeholder": "​",
            "style": "IPY_MODEL_af9909b157ad422b9dcad923750949c7",
            "value": " 313/313 [00:04&lt;00:00, 91.51it/s]"
          }
        },
        "6d2d698980a24227acb86b4947e4ca3d": {
          "model_module": "@jupyter-widgets/base",
          "model_name": "LayoutModel",
          "model_module_version": "1.2.0",
          "state": {
            "_model_module": "@jupyter-widgets/base",
            "_model_module_version": "1.2.0",
            "_model_name": "LayoutModel",
            "_view_count": null,
            "_view_module": "@jupyter-widgets/base",
            "_view_module_version": "1.2.0",
            "_view_name": "LayoutView",
            "align_content": null,
            "align_items": null,
            "align_self": null,
            "border": null,
            "bottom": null,
            "display": null,
            "flex": null,
            "flex_flow": null,
            "grid_area": null,
            "grid_auto_columns": null,
            "grid_auto_flow": null,
            "grid_auto_rows": null,
            "grid_column": null,
            "grid_gap": null,
            "grid_row": null,
            "grid_template_areas": null,
            "grid_template_columns": null,
            "grid_template_rows": null,
            "height": null,
            "justify_content": null,
            "justify_items": null,
            "left": null,
            "margin": null,
            "max_height": null,
            "max_width": null,
            "min_height": null,
            "min_width": null,
            "object_fit": null,
            "object_position": null,
            "order": null,
            "overflow": null,
            "overflow_x": null,
            "overflow_y": null,
            "padding": null,
            "right": null,
            "top": null,
            "visibility": null,
            "width": null
          }
        },
        "1271b6f575184d4c9ecf44dbff789cca": {
          "model_module": "@jupyter-widgets/base",
          "model_name": "LayoutModel",
          "model_module_version": "1.2.0",
          "state": {
            "_model_module": "@jupyter-widgets/base",
            "_model_module_version": "1.2.0",
            "_model_name": "LayoutModel",
            "_view_count": null,
            "_view_module": "@jupyter-widgets/base",
            "_view_module_version": "1.2.0",
            "_view_name": "LayoutView",
            "align_content": null,
            "align_items": null,
            "align_self": null,
            "border": null,
            "bottom": null,
            "display": null,
            "flex": null,
            "flex_flow": null,
            "grid_area": null,
            "grid_auto_columns": null,
            "grid_auto_flow": null,
            "grid_auto_rows": null,
            "grid_column": null,
            "grid_gap": null,
            "grid_row": null,
            "grid_template_areas": null,
            "grid_template_columns": null,
            "grid_template_rows": null,
            "height": null,
            "justify_content": null,
            "justify_items": null,
            "left": null,
            "margin": null,
            "max_height": null,
            "max_width": null,
            "min_height": null,
            "min_width": null,
            "object_fit": null,
            "object_position": null,
            "order": null,
            "overflow": null,
            "overflow_x": null,
            "overflow_y": null,
            "padding": null,
            "right": null,
            "top": null,
            "visibility": null,
            "width": null
          }
        },
        "eb30f45f9603481ab1eaa864d24b9a01": {
          "model_module": "@jupyter-widgets/controls",
          "model_name": "DescriptionStyleModel",
          "model_module_version": "1.5.0",
          "state": {
            "_model_module": "@jupyter-widgets/controls",
            "_model_module_version": "1.5.0",
            "_model_name": "DescriptionStyleModel",
            "_view_count": null,
            "_view_module": "@jupyter-widgets/base",
            "_view_module_version": "1.2.0",
            "_view_name": "StyleView",
            "description_width": ""
          }
        },
        "4841d28dc906446894fc24bdbe925748": {
          "model_module": "@jupyter-widgets/base",
          "model_name": "LayoutModel",
          "model_module_version": "1.2.0",
          "state": {
            "_model_module": "@jupyter-widgets/base",
            "_model_module_version": "1.2.0",
            "_model_name": "LayoutModel",
            "_view_count": null,
            "_view_module": "@jupyter-widgets/base",
            "_view_module_version": "1.2.0",
            "_view_name": "LayoutView",
            "align_content": null,
            "align_items": null,
            "align_self": null,
            "border": null,
            "bottom": null,
            "display": null,
            "flex": null,
            "flex_flow": null,
            "grid_area": null,
            "grid_auto_columns": null,
            "grid_auto_flow": null,
            "grid_auto_rows": null,
            "grid_column": null,
            "grid_gap": null,
            "grid_row": null,
            "grid_template_areas": null,
            "grid_template_columns": null,
            "grid_template_rows": null,
            "height": null,
            "justify_content": null,
            "justify_items": null,
            "left": null,
            "margin": null,
            "max_height": null,
            "max_width": null,
            "min_height": null,
            "min_width": null,
            "object_fit": null,
            "object_position": null,
            "order": null,
            "overflow": null,
            "overflow_x": null,
            "overflow_y": null,
            "padding": null,
            "right": null,
            "top": null,
            "visibility": null,
            "width": null
          }
        },
        "d33f35c7bb12470a90acee49dacdaf08": {
          "model_module": "@jupyter-widgets/controls",
          "model_name": "ProgressStyleModel",
          "model_module_version": "1.5.0",
          "state": {
            "_model_module": "@jupyter-widgets/controls",
            "_model_module_version": "1.5.0",
            "_model_name": "ProgressStyleModel",
            "_view_count": null,
            "_view_module": "@jupyter-widgets/base",
            "_view_module_version": "1.2.0",
            "_view_name": "StyleView",
            "bar_color": null,
            "description_width": ""
          }
        },
        "ed7d658077ca47a397213fccfde7d70a": {
          "model_module": "@jupyter-widgets/base",
          "model_name": "LayoutModel",
          "model_module_version": "1.2.0",
          "state": {
            "_model_module": "@jupyter-widgets/base",
            "_model_module_version": "1.2.0",
            "_model_name": "LayoutModel",
            "_view_count": null,
            "_view_module": "@jupyter-widgets/base",
            "_view_module_version": "1.2.0",
            "_view_name": "LayoutView",
            "align_content": null,
            "align_items": null,
            "align_self": null,
            "border": null,
            "bottom": null,
            "display": null,
            "flex": null,
            "flex_flow": null,
            "grid_area": null,
            "grid_auto_columns": null,
            "grid_auto_flow": null,
            "grid_auto_rows": null,
            "grid_column": null,
            "grid_gap": null,
            "grid_row": null,
            "grid_template_areas": null,
            "grid_template_columns": null,
            "grid_template_rows": null,
            "height": null,
            "justify_content": null,
            "justify_items": null,
            "left": null,
            "margin": null,
            "max_height": null,
            "max_width": null,
            "min_height": null,
            "min_width": null,
            "object_fit": null,
            "object_position": null,
            "order": null,
            "overflow": null,
            "overflow_x": null,
            "overflow_y": null,
            "padding": null,
            "right": null,
            "top": null,
            "visibility": null,
            "width": null
          }
        },
        "af9909b157ad422b9dcad923750949c7": {
          "model_module": "@jupyter-widgets/controls",
          "model_name": "DescriptionStyleModel",
          "model_module_version": "1.5.0",
          "state": {
            "_model_module": "@jupyter-widgets/controls",
            "_model_module_version": "1.5.0",
            "_model_name": "DescriptionStyleModel",
            "_view_count": null,
            "_view_module": "@jupyter-widgets/base",
            "_view_module_version": "1.2.0",
            "_view_name": "StyleView",
            "description_width": ""
          }
        },
        "49565f636a03403e9916dfe6a80be2ee": {
          "model_module": "@jupyter-widgets/controls",
          "model_name": "HBoxModel",
          "model_module_version": "1.5.0",
          "state": {
            "_dom_classes": [],
            "_model_module": "@jupyter-widgets/controls",
            "_model_module_version": "1.5.0",
            "_model_name": "HBoxModel",
            "_view_count": null,
            "_view_module": "@jupyter-widgets/controls",
            "_view_module_version": "1.5.0",
            "_view_name": "HBoxView",
            "box_style": "",
            "children": [
              "IPY_MODEL_a655d39ab1ac422ba6f0438165ee07f5",
              "IPY_MODEL_e81992b44b534400a0e81e8a42587dbb",
              "IPY_MODEL_83b7130ba15c4540a9da69a5f5a69e6f"
            ],
            "layout": "IPY_MODEL_b395e54697f449d48620c5c6dfa5949b"
          }
        },
        "a655d39ab1ac422ba6f0438165ee07f5": {
          "model_module": "@jupyter-widgets/controls",
          "model_name": "HTMLModel",
          "model_module_version": "1.5.0",
          "state": {
            "_dom_classes": [],
            "_model_module": "@jupyter-widgets/controls",
            "_model_module_version": "1.5.0",
            "_model_name": "HTMLModel",
            "_view_count": null,
            "_view_module": "@jupyter-widgets/controls",
            "_view_module_version": "1.5.0",
            "_view_name": "HTMLView",
            "description": "",
            "description_tooltip": null,
            "layout": "IPY_MODEL_fe6e019f90e0457dbb9304dc597594d4",
            "placeholder": "​",
            "style": "IPY_MODEL_1d46cf83f3ca4f648ae4c5f25a70cddf",
            "value": "100%"
          }
        },
        "e81992b44b534400a0e81e8a42587dbb": {
          "model_module": "@jupyter-widgets/controls",
          "model_name": "FloatProgressModel",
          "model_module_version": "1.5.0",
          "state": {
            "_dom_classes": [],
            "_model_module": "@jupyter-widgets/controls",
            "_model_module_version": "1.5.0",
            "_model_name": "FloatProgressModel",
            "_view_count": null,
            "_view_module": "@jupyter-widgets/controls",
            "_view_module_version": "1.5.0",
            "_view_name": "ProgressView",
            "bar_style": "success",
            "description": "",
            "description_tooltip": null,
            "layout": "IPY_MODEL_95cc8df9907e4c128eddb71f12d43c2c",
            "max": 3,
            "min": 0,
            "orientation": "horizontal",
            "style": "IPY_MODEL_31cab53ab60e470d91ec540a8e33e6ba",
            "value": 3
          }
        },
        "83b7130ba15c4540a9da69a5f5a69e6f": {
          "model_module": "@jupyter-widgets/controls",
          "model_name": "HTMLModel",
          "model_module_version": "1.5.0",
          "state": {
            "_dom_classes": [],
            "_model_module": "@jupyter-widgets/controls",
            "_model_module_version": "1.5.0",
            "_model_name": "HTMLModel",
            "_view_count": null,
            "_view_module": "@jupyter-widgets/controls",
            "_view_module_version": "1.5.0",
            "_view_name": "HTMLView",
            "description": "",
            "description_tooltip": null,
            "layout": "IPY_MODEL_89b27f2295074178ba241b52c08c91f4",
            "placeholder": "​",
            "style": "IPY_MODEL_48db00a3f9064ab4937eb4f66ef65a8f",
            "value": " 3/3 [00:32&lt;00:00, 10.86s/it]"
          }
        },
        "b395e54697f449d48620c5c6dfa5949b": {
          "model_module": "@jupyter-widgets/base",
          "model_name": "LayoutModel",
          "model_module_version": "1.2.0",
          "state": {
            "_model_module": "@jupyter-widgets/base",
            "_model_module_version": "1.2.0",
            "_model_name": "LayoutModel",
            "_view_count": null,
            "_view_module": "@jupyter-widgets/base",
            "_view_module_version": "1.2.0",
            "_view_name": "LayoutView",
            "align_content": null,
            "align_items": null,
            "align_self": null,
            "border": null,
            "bottom": null,
            "display": null,
            "flex": null,
            "flex_flow": null,
            "grid_area": null,
            "grid_auto_columns": null,
            "grid_auto_flow": null,
            "grid_auto_rows": null,
            "grid_column": null,
            "grid_gap": null,
            "grid_row": null,
            "grid_template_areas": null,
            "grid_template_columns": null,
            "grid_template_rows": null,
            "height": null,
            "justify_content": null,
            "justify_items": null,
            "left": null,
            "margin": null,
            "max_height": null,
            "max_width": null,
            "min_height": null,
            "min_width": null,
            "object_fit": null,
            "object_position": null,
            "order": null,
            "overflow": null,
            "overflow_x": null,
            "overflow_y": null,
            "padding": null,
            "right": null,
            "top": null,
            "visibility": null,
            "width": null
          }
        },
        "fe6e019f90e0457dbb9304dc597594d4": {
          "model_module": "@jupyter-widgets/base",
          "model_name": "LayoutModel",
          "model_module_version": "1.2.0",
          "state": {
            "_model_module": "@jupyter-widgets/base",
            "_model_module_version": "1.2.0",
            "_model_name": "LayoutModel",
            "_view_count": null,
            "_view_module": "@jupyter-widgets/base",
            "_view_module_version": "1.2.0",
            "_view_name": "LayoutView",
            "align_content": null,
            "align_items": null,
            "align_self": null,
            "border": null,
            "bottom": null,
            "display": null,
            "flex": null,
            "flex_flow": null,
            "grid_area": null,
            "grid_auto_columns": null,
            "grid_auto_flow": null,
            "grid_auto_rows": null,
            "grid_column": null,
            "grid_gap": null,
            "grid_row": null,
            "grid_template_areas": null,
            "grid_template_columns": null,
            "grid_template_rows": null,
            "height": null,
            "justify_content": null,
            "justify_items": null,
            "left": null,
            "margin": null,
            "max_height": null,
            "max_width": null,
            "min_height": null,
            "min_width": null,
            "object_fit": null,
            "object_position": null,
            "order": null,
            "overflow": null,
            "overflow_x": null,
            "overflow_y": null,
            "padding": null,
            "right": null,
            "top": null,
            "visibility": null,
            "width": null
          }
        },
        "1d46cf83f3ca4f648ae4c5f25a70cddf": {
          "model_module": "@jupyter-widgets/controls",
          "model_name": "DescriptionStyleModel",
          "model_module_version": "1.5.0",
          "state": {
            "_model_module": "@jupyter-widgets/controls",
            "_model_module_version": "1.5.0",
            "_model_name": "DescriptionStyleModel",
            "_view_count": null,
            "_view_module": "@jupyter-widgets/base",
            "_view_module_version": "1.2.0",
            "_view_name": "StyleView",
            "description_width": ""
          }
        },
        "95cc8df9907e4c128eddb71f12d43c2c": {
          "model_module": "@jupyter-widgets/base",
          "model_name": "LayoutModel",
          "model_module_version": "1.2.0",
          "state": {
            "_model_module": "@jupyter-widgets/base",
            "_model_module_version": "1.2.0",
            "_model_name": "LayoutModel",
            "_view_count": null,
            "_view_module": "@jupyter-widgets/base",
            "_view_module_version": "1.2.0",
            "_view_name": "LayoutView",
            "align_content": null,
            "align_items": null,
            "align_self": null,
            "border": null,
            "bottom": null,
            "display": null,
            "flex": null,
            "flex_flow": null,
            "grid_area": null,
            "grid_auto_columns": null,
            "grid_auto_flow": null,
            "grid_auto_rows": null,
            "grid_column": null,
            "grid_gap": null,
            "grid_row": null,
            "grid_template_areas": null,
            "grid_template_columns": null,
            "grid_template_rows": null,
            "height": null,
            "justify_content": null,
            "justify_items": null,
            "left": null,
            "margin": null,
            "max_height": null,
            "max_width": null,
            "min_height": null,
            "min_width": null,
            "object_fit": null,
            "object_position": null,
            "order": null,
            "overflow": null,
            "overflow_x": null,
            "overflow_y": null,
            "padding": null,
            "right": null,
            "top": null,
            "visibility": null,
            "width": null
          }
        },
        "31cab53ab60e470d91ec540a8e33e6ba": {
          "model_module": "@jupyter-widgets/controls",
          "model_name": "ProgressStyleModel",
          "model_module_version": "1.5.0",
          "state": {
            "_model_module": "@jupyter-widgets/controls",
            "_model_module_version": "1.5.0",
            "_model_name": "ProgressStyleModel",
            "_view_count": null,
            "_view_module": "@jupyter-widgets/base",
            "_view_module_version": "1.2.0",
            "_view_name": "StyleView",
            "bar_color": null,
            "description_width": ""
          }
        },
        "89b27f2295074178ba241b52c08c91f4": {
          "model_module": "@jupyter-widgets/base",
          "model_name": "LayoutModel",
          "model_module_version": "1.2.0",
          "state": {
            "_model_module": "@jupyter-widgets/base",
            "_model_module_version": "1.2.0",
            "_model_name": "LayoutModel",
            "_view_count": null,
            "_view_module": "@jupyter-widgets/base",
            "_view_module_version": "1.2.0",
            "_view_name": "LayoutView",
            "align_content": null,
            "align_items": null,
            "align_self": null,
            "border": null,
            "bottom": null,
            "display": null,
            "flex": null,
            "flex_flow": null,
            "grid_area": null,
            "grid_auto_columns": null,
            "grid_auto_flow": null,
            "grid_auto_rows": null,
            "grid_column": null,
            "grid_gap": null,
            "grid_row": null,
            "grid_template_areas": null,
            "grid_template_columns": null,
            "grid_template_rows": null,
            "height": null,
            "justify_content": null,
            "justify_items": null,
            "left": null,
            "margin": null,
            "max_height": null,
            "max_width": null,
            "min_height": null,
            "min_width": null,
            "object_fit": null,
            "object_position": null,
            "order": null,
            "overflow": null,
            "overflow_x": null,
            "overflow_y": null,
            "padding": null,
            "right": null,
            "top": null,
            "visibility": null,
            "width": null
          }
        },
        "48db00a3f9064ab4937eb4f66ef65a8f": {
          "model_module": "@jupyter-widgets/controls",
          "model_name": "DescriptionStyleModel",
          "model_module_version": "1.5.0",
          "state": {
            "_model_module": "@jupyter-widgets/controls",
            "_model_module_version": "1.5.0",
            "_model_name": "DescriptionStyleModel",
            "_view_count": null,
            "_view_module": "@jupyter-widgets/base",
            "_view_module_version": "1.2.0",
            "_view_name": "StyleView",
            "description_width": ""
          }
        },
        "9f88620c10124b4292395a65d845613f": {
          "model_module": "@jupyter-widgets/controls",
          "model_name": "HBoxModel",
          "model_module_version": "1.5.0",
          "state": {
            "_dom_classes": [],
            "_model_module": "@jupyter-widgets/controls",
            "_model_module_version": "1.5.0",
            "_model_name": "HBoxModel",
            "_view_count": null,
            "_view_module": "@jupyter-widgets/controls",
            "_view_module_version": "1.5.0",
            "_view_name": "HBoxView",
            "box_style": "",
            "children": [
              "IPY_MODEL_763b97fda2a74b04b20cbc5aef18acb8",
              "IPY_MODEL_a4cd1b9a4eb0470caed2d25608418af9",
              "IPY_MODEL_028ccd1cff8a45b8880d0480ec8d11d2"
            ],
            "layout": "IPY_MODEL_106bc422108d441ebce71b18b67b17d2"
          }
        },
        "763b97fda2a74b04b20cbc5aef18acb8": {
          "model_module": "@jupyter-widgets/controls",
          "model_name": "HTMLModel",
          "model_module_version": "1.5.0",
          "state": {
            "_dom_classes": [],
            "_model_module": "@jupyter-widgets/controls",
            "_model_module_version": "1.5.0",
            "_model_name": "HTMLModel",
            "_view_count": null,
            "_view_module": "@jupyter-widgets/controls",
            "_view_module_version": "1.5.0",
            "_view_name": "HTMLView",
            "description": "",
            "description_tooltip": null,
            "layout": "IPY_MODEL_175f7f5756b54db799b3a70632b2da6b",
            "placeholder": "​",
            "style": "IPY_MODEL_0f878b92e3c94103a56abf9055427a58",
            "value": "100%"
          }
        },
        "a4cd1b9a4eb0470caed2d25608418af9": {
          "model_module": "@jupyter-widgets/controls",
          "model_name": "FloatProgressModel",
          "model_module_version": "1.5.0",
          "state": {
            "_dom_classes": [],
            "_model_module": "@jupyter-widgets/controls",
            "_model_module_version": "1.5.0",
            "_model_name": "FloatProgressModel",
            "_view_count": null,
            "_view_module": "@jupyter-widgets/controls",
            "_view_module_version": "1.5.0",
            "_view_name": "ProgressView",
            "bar_style": "success",
            "description": "",
            "description_tooltip": null,
            "layout": "IPY_MODEL_0032dee058e84660bf935eb57769203f",
            "max": 313,
            "min": 0,
            "orientation": "horizontal",
            "style": "IPY_MODEL_5199836c0efb402c9f24cdbba1533fcb",
            "value": 313
          }
        },
        "028ccd1cff8a45b8880d0480ec8d11d2": {
          "model_module": "@jupyter-widgets/controls",
          "model_name": "HTMLModel",
          "model_module_version": "1.5.0",
          "state": {
            "_dom_classes": [],
            "_model_module": "@jupyter-widgets/controls",
            "_model_module_version": "1.5.0",
            "_model_name": "HTMLModel",
            "_view_count": null,
            "_view_module": "@jupyter-widgets/controls",
            "_view_module_version": "1.5.0",
            "_view_name": "HTMLView",
            "description": "",
            "description_tooltip": null,
            "layout": "IPY_MODEL_99c5c6b3017946d9aeeaf2075c960b62",
            "placeholder": "​",
            "style": "IPY_MODEL_aeb936fe2bb14b89b5712045c7fd4ae1",
            "value": " 313/313 [00:01&lt;00:00, 211.52it/s]"
          }
        },
        "106bc422108d441ebce71b18b67b17d2": {
          "model_module": "@jupyter-widgets/base",
          "model_name": "LayoutModel",
          "model_module_version": "1.2.0",
          "state": {
            "_model_module": "@jupyter-widgets/base",
            "_model_module_version": "1.2.0",
            "_model_name": "LayoutModel",
            "_view_count": null,
            "_view_module": "@jupyter-widgets/base",
            "_view_module_version": "1.2.0",
            "_view_name": "LayoutView",
            "align_content": null,
            "align_items": null,
            "align_self": null,
            "border": null,
            "bottom": null,
            "display": null,
            "flex": null,
            "flex_flow": null,
            "grid_area": null,
            "grid_auto_columns": null,
            "grid_auto_flow": null,
            "grid_auto_rows": null,
            "grid_column": null,
            "grid_gap": null,
            "grid_row": null,
            "grid_template_areas": null,
            "grid_template_columns": null,
            "grid_template_rows": null,
            "height": null,
            "justify_content": null,
            "justify_items": null,
            "left": null,
            "margin": null,
            "max_height": null,
            "max_width": null,
            "min_height": null,
            "min_width": null,
            "object_fit": null,
            "object_position": null,
            "order": null,
            "overflow": null,
            "overflow_x": null,
            "overflow_y": null,
            "padding": null,
            "right": null,
            "top": null,
            "visibility": null,
            "width": null
          }
        },
        "175f7f5756b54db799b3a70632b2da6b": {
          "model_module": "@jupyter-widgets/base",
          "model_name": "LayoutModel",
          "model_module_version": "1.2.0",
          "state": {
            "_model_module": "@jupyter-widgets/base",
            "_model_module_version": "1.2.0",
            "_model_name": "LayoutModel",
            "_view_count": null,
            "_view_module": "@jupyter-widgets/base",
            "_view_module_version": "1.2.0",
            "_view_name": "LayoutView",
            "align_content": null,
            "align_items": null,
            "align_self": null,
            "border": null,
            "bottom": null,
            "display": null,
            "flex": null,
            "flex_flow": null,
            "grid_area": null,
            "grid_auto_columns": null,
            "grid_auto_flow": null,
            "grid_auto_rows": null,
            "grid_column": null,
            "grid_gap": null,
            "grid_row": null,
            "grid_template_areas": null,
            "grid_template_columns": null,
            "grid_template_rows": null,
            "height": null,
            "justify_content": null,
            "justify_items": null,
            "left": null,
            "margin": null,
            "max_height": null,
            "max_width": null,
            "min_height": null,
            "min_width": null,
            "object_fit": null,
            "object_position": null,
            "order": null,
            "overflow": null,
            "overflow_x": null,
            "overflow_y": null,
            "padding": null,
            "right": null,
            "top": null,
            "visibility": null,
            "width": null
          }
        },
        "0f878b92e3c94103a56abf9055427a58": {
          "model_module": "@jupyter-widgets/controls",
          "model_name": "DescriptionStyleModel",
          "model_module_version": "1.5.0",
          "state": {
            "_model_module": "@jupyter-widgets/controls",
            "_model_module_version": "1.5.0",
            "_model_name": "DescriptionStyleModel",
            "_view_count": null,
            "_view_module": "@jupyter-widgets/base",
            "_view_module_version": "1.2.0",
            "_view_name": "StyleView",
            "description_width": ""
          }
        },
        "0032dee058e84660bf935eb57769203f": {
          "model_module": "@jupyter-widgets/base",
          "model_name": "LayoutModel",
          "model_module_version": "1.2.0",
          "state": {
            "_model_module": "@jupyter-widgets/base",
            "_model_module_version": "1.2.0",
            "_model_name": "LayoutModel",
            "_view_count": null,
            "_view_module": "@jupyter-widgets/base",
            "_view_module_version": "1.2.0",
            "_view_name": "LayoutView",
            "align_content": null,
            "align_items": null,
            "align_self": null,
            "border": null,
            "bottom": null,
            "display": null,
            "flex": null,
            "flex_flow": null,
            "grid_area": null,
            "grid_auto_columns": null,
            "grid_auto_flow": null,
            "grid_auto_rows": null,
            "grid_column": null,
            "grid_gap": null,
            "grid_row": null,
            "grid_template_areas": null,
            "grid_template_columns": null,
            "grid_template_rows": null,
            "height": null,
            "justify_content": null,
            "justify_items": null,
            "left": null,
            "margin": null,
            "max_height": null,
            "max_width": null,
            "min_height": null,
            "min_width": null,
            "object_fit": null,
            "object_position": null,
            "order": null,
            "overflow": null,
            "overflow_x": null,
            "overflow_y": null,
            "padding": null,
            "right": null,
            "top": null,
            "visibility": null,
            "width": null
          }
        },
        "5199836c0efb402c9f24cdbba1533fcb": {
          "model_module": "@jupyter-widgets/controls",
          "model_name": "ProgressStyleModel",
          "model_module_version": "1.5.0",
          "state": {
            "_model_module": "@jupyter-widgets/controls",
            "_model_module_version": "1.5.0",
            "_model_name": "ProgressStyleModel",
            "_view_count": null,
            "_view_module": "@jupyter-widgets/base",
            "_view_module_version": "1.2.0",
            "_view_name": "StyleView",
            "bar_color": null,
            "description_width": ""
          }
        },
        "99c5c6b3017946d9aeeaf2075c960b62": {
          "model_module": "@jupyter-widgets/base",
          "model_name": "LayoutModel",
          "model_module_version": "1.2.0",
          "state": {
            "_model_module": "@jupyter-widgets/base",
            "_model_module_version": "1.2.0",
            "_model_name": "LayoutModel",
            "_view_count": null,
            "_view_module": "@jupyter-widgets/base",
            "_view_module_version": "1.2.0",
            "_view_name": "LayoutView",
            "align_content": null,
            "align_items": null,
            "align_self": null,
            "border": null,
            "bottom": null,
            "display": null,
            "flex": null,
            "flex_flow": null,
            "grid_area": null,
            "grid_auto_columns": null,
            "grid_auto_flow": null,
            "grid_auto_rows": null,
            "grid_column": null,
            "grid_gap": null,
            "grid_row": null,
            "grid_template_areas": null,
            "grid_template_columns": null,
            "grid_template_rows": null,
            "height": null,
            "justify_content": null,
            "justify_items": null,
            "left": null,
            "margin": null,
            "max_height": null,
            "max_width": null,
            "min_height": null,
            "min_width": null,
            "object_fit": null,
            "object_position": null,
            "order": null,
            "overflow": null,
            "overflow_x": null,
            "overflow_y": null,
            "padding": null,
            "right": null,
            "top": null,
            "visibility": null,
            "width": null
          }
        },
        "aeb936fe2bb14b89b5712045c7fd4ae1": {
          "model_module": "@jupyter-widgets/controls",
          "model_name": "DescriptionStyleModel",
          "model_module_version": "1.5.0",
          "state": {
            "_model_module": "@jupyter-widgets/controls",
            "_model_module_version": "1.5.0",
            "_model_name": "DescriptionStyleModel",
            "_view_count": null,
            "_view_module": "@jupyter-widgets/base",
            "_view_module_version": "1.2.0",
            "_view_name": "StyleView",
            "description_width": ""
          }
        },
        "b931648461894403a0de2a5535d00cf3": {
          "model_module": "@jupyter-widgets/controls",
          "model_name": "HBoxModel",
          "model_module_version": "1.5.0",
          "state": {
            "_dom_classes": [],
            "_model_module": "@jupyter-widgets/controls",
            "_model_module_version": "1.5.0",
            "_model_name": "HBoxModel",
            "_view_count": null,
            "_view_module": "@jupyter-widgets/controls",
            "_view_module_version": "1.5.0",
            "_view_name": "HBoxView",
            "box_style": "",
            "children": [
              "IPY_MODEL_ee3ace6a6d5f4c4dac400d72d0a1f6c6",
              "IPY_MODEL_83e1d1dc5caf4138b7bc9f231a6f4ad1",
              "IPY_MODEL_f69a762db23842b39b8b44139cd55648"
            ],
            "layout": "IPY_MODEL_d5332b9deb4f49abb1b20b85f20c6dea"
          }
        },
        "ee3ace6a6d5f4c4dac400d72d0a1f6c6": {
          "model_module": "@jupyter-widgets/controls",
          "model_name": "HTMLModel",
          "model_module_version": "1.5.0",
          "state": {
            "_dom_classes": [],
            "_model_module": "@jupyter-widgets/controls",
            "_model_module_version": "1.5.0",
            "_model_name": "HTMLModel",
            "_view_count": null,
            "_view_module": "@jupyter-widgets/controls",
            "_view_module_version": "1.5.0",
            "_view_name": "HTMLView",
            "description": "",
            "description_tooltip": null,
            "layout": "IPY_MODEL_4a4f515c7cd1491bb025cdf61100351d",
            "placeholder": "​",
            "style": "IPY_MODEL_b9b4298abfef4df8acbe40d63a15443d",
            "value": "100%"
          }
        },
        "83e1d1dc5caf4138b7bc9f231a6f4ad1": {
          "model_module": "@jupyter-widgets/controls",
          "model_name": "FloatProgressModel",
          "model_module_version": "1.5.0",
          "state": {
            "_dom_classes": [],
            "_model_module": "@jupyter-widgets/controls",
            "_model_module_version": "1.5.0",
            "_model_name": "FloatProgressModel",
            "_view_count": null,
            "_view_module": "@jupyter-widgets/controls",
            "_view_module_version": "1.5.0",
            "_view_name": "ProgressView",
            "bar_style": "success",
            "description": "",
            "description_tooltip": null,
            "layout": "IPY_MODEL_5635be7d3b334abab0acbeecee87c00f",
            "max": 3,
            "min": 0,
            "orientation": "horizontal",
            "style": "IPY_MODEL_91f0168755ce4cdcb358a8e3c54f41a3",
            "value": 3
          }
        },
        "f69a762db23842b39b8b44139cd55648": {
          "model_module": "@jupyter-widgets/controls",
          "model_name": "HTMLModel",
          "model_module_version": "1.5.0",
          "state": {
            "_dom_classes": [],
            "_model_module": "@jupyter-widgets/controls",
            "_model_module_version": "1.5.0",
            "_model_name": "HTMLModel",
            "_view_count": null,
            "_view_module": "@jupyter-widgets/controls",
            "_view_module_version": "1.5.0",
            "_view_name": "HTMLView",
            "description": "",
            "description_tooltip": null,
            "layout": "IPY_MODEL_e1385f060cc146fa8d489a411e300277",
            "placeholder": "​",
            "style": "IPY_MODEL_11293e44079c45a39c7d26ec640ae1c3",
            "value": " 3/3 [00:40&lt;00:00, 13.39s/it]"
          }
        },
        "d5332b9deb4f49abb1b20b85f20c6dea": {
          "model_module": "@jupyter-widgets/base",
          "model_name": "LayoutModel",
          "model_module_version": "1.2.0",
          "state": {
            "_model_module": "@jupyter-widgets/base",
            "_model_module_version": "1.2.0",
            "_model_name": "LayoutModel",
            "_view_count": null,
            "_view_module": "@jupyter-widgets/base",
            "_view_module_version": "1.2.0",
            "_view_name": "LayoutView",
            "align_content": null,
            "align_items": null,
            "align_self": null,
            "border": null,
            "bottom": null,
            "display": null,
            "flex": null,
            "flex_flow": null,
            "grid_area": null,
            "grid_auto_columns": null,
            "grid_auto_flow": null,
            "grid_auto_rows": null,
            "grid_column": null,
            "grid_gap": null,
            "grid_row": null,
            "grid_template_areas": null,
            "grid_template_columns": null,
            "grid_template_rows": null,
            "height": null,
            "justify_content": null,
            "justify_items": null,
            "left": null,
            "margin": null,
            "max_height": null,
            "max_width": null,
            "min_height": null,
            "min_width": null,
            "object_fit": null,
            "object_position": null,
            "order": null,
            "overflow": null,
            "overflow_x": null,
            "overflow_y": null,
            "padding": null,
            "right": null,
            "top": null,
            "visibility": null,
            "width": null
          }
        },
        "4a4f515c7cd1491bb025cdf61100351d": {
          "model_module": "@jupyter-widgets/base",
          "model_name": "LayoutModel",
          "model_module_version": "1.2.0",
          "state": {
            "_model_module": "@jupyter-widgets/base",
            "_model_module_version": "1.2.0",
            "_model_name": "LayoutModel",
            "_view_count": null,
            "_view_module": "@jupyter-widgets/base",
            "_view_module_version": "1.2.0",
            "_view_name": "LayoutView",
            "align_content": null,
            "align_items": null,
            "align_self": null,
            "border": null,
            "bottom": null,
            "display": null,
            "flex": null,
            "flex_flow": null,
            "grid_area": null,
            "grid_auto_columns": null,
            "grid_auto_flow": null,
            "grid_auto_rows": null,
            "grid_column": null,
            "grid_gap": null,
            "grid_row": null,
            "grid_template_areas": null,
            "grid_template_columns": null,
            "grid_template_rows": null,
            "height": null,
            "justify_content": null,
            "justify_items": null,
            "left": null,
            "margin": null,
            "max_height": null,
            "max_width": null,
            "min_height": null,
            "min_width": null,
            "object_fit": null,
            "object_position": null,
            "order": null,
            "overflow": null,
            "overflow_x": null,
            "overflow_y": null,
            "padding": null,
            "right": null,
            "top": null,
            "visibility": null,
            "width": null
          }
        },
        "b9b4298abfef4df8acbe40d63a15443d": {
          "model_module": "@jupyter-widgets/controls",
          "model_name": "DescriptionStyleModel",
          "model_module_version": "1.5.0",
          "state": {
            "_model_module": "@jupyter-widgets/controls",
            "_model_module_version": "1.5.0",
            "_model_name": "DescriptionStyleModel",
            "_view_count": null,
            "_view_module": "@jupyter-widgets/base",
            "_view_module_version": "1.2.0",
            "_view_name": "StyleView",
            "description_width": ""
          }
        },
        "5635be7d3b334abab0acbeecee87c00f": {
          "model_module": "@jupyter-widgets/base",
          "model_name": "LayoutModel",
          "model_module_version": "1.2.0",
          "state": {
            "_model_module": "@jupyter-widgets/base",
            "_model_module_version": "1.2.0",
            "_model_name": "LayoutModel",
            "_view_count": null,
            "_view_module": "@jupyter-widgets/base",
            "_view_module_version": "1.2.0",
            "_view_name": "LayoutView",
            "align_content": null,
            "align_items": null,
            "align_self": null,
            "border": null,
            "bottom": null,
            "display": null,
            "flex": null,
            "flex_flow": null,
            "grid_area": null,
            "grid_auto_columns": null,
            "grid_auto_flow": null,
            "grid_auto_rows": null,
            "grid_column": null,
            "grid_gap": null,
            "grid_row": null,
            "grid_template_areas": null,
            "grid_template_columns": null,
            "grid_template_rows": null,
            "height": null,
            "justify_content": null,
            "justify_items": null,
            "left": null,
            "margin": null,
            "max_height": null,
            "max_width": null,
            "min_height": null,
            "min_width": null,
            "object_fit": null,
            "object_position": null,
            "order": null,
            "overflow": null,
            "overflow_x": null,
            "overflow_y": null,
            "padding": null,
            "right": null,
            "top": null,
            "visibility": null,
            "width": null
          }
        },
        "91f0168755ce4cdcb358a8e3c54f41a3": {
          "model_module": "@jupyter-widgets/controls",
          "model_name": "ProgressStyleModel",
          "model_module_version": "1.5.0",
          "state": {
            "_model_module": "@jupyter-widgets/controls",
            "_model_module_version": "1.5.0",
            "_model_name": "ProgressStyleModel",
            "_view_count": null,
            "_view_module": "@jupyter-widgets/base",
            "_view_module_version": "1.2.0",
            "_view_name": "StyleView",
            "bar_color": null,
            "description_width": ""
          }
        },
        "e1385f060cc146fa8d489a411e300277": {
          "model_module": "@jupyter-widgets/base",
          "model_name": "LayoutModel",
          "model_module_version": "1.2.0",
          "state": {
            "_model_module": "@jupyter-widgets/base",
            "_model_module_version": "1.2.0",
            "_model_name": "LayoutModel",
            "_view_count": null,
            "_view_module": "@jupyter-widgets/base",
            "_view_module_version": "1.2.0",
            "_view_name": "LayoutView",
            "align_content": null,
            "align_items": null,
            "align_self": null,
            "border": null,
            "bottom": null,
            "display": null,
            "flex": null,
            "flex_flow": null,
            "grid_area": null,
            "grid_auto_columns": null,
            "grid_auto_flow": null,
            "grid_auto_rows": null,
            "grid_column": null,
            "grid_gap": null,
            "grid_row": null,
            "grid_template_areas": null,
            "grid_template_columns": null,
            "grid_template_rows": null,
            "height": null,
            "justify_content": null,
            "justify_items": null,
            "left": null,
            "margin": null,
            "max_height": null,
            "max_width": null,
            "min_height": null,
            "min_width": null,
            "object_fit": null,
            "object_position": null,
            "order": null,
            "overflow": null,
            "overflow_x": null,
            "overflow_y": null,
            "padding": null,
            "right": null,
            "top": null,
            "visibility": null,
            "width": null
          }
        },
        "11293e44079c45a39c7d26ec640ae1c3": {
          "model_module": "@jupyter-widgets/controls",
          "model_name": "DescriptionStyleModel",
          "model_module_version": "1.5.0",
          "state": {
            "_model_module": "@jupyter-widgets/controls",
            "_model_module_version": "1.5.0",
            "_model_name": "DescriptionStyleModel",
            "_view_count": null,
            "_view_module": "@jupyter-widgets/base",
            "_view_module_version": "1.2.0",
            "_view_name": "StyleView",
            "description_width": ""
          }
        }
      }
    },
    "accelerator": "GPU"
  },
  "cells": [
    {
      "cell_type": "markdown",
      "metadata": {
        "id": "view-in-github",
        "colab_type": "text"
      },
      "source": [
        "<a href=\"https://colab.research.google.com/github/jenniferamhajduk/AIML_Playground/blob/main/Computer_Vision.ipynb\" target=\"_parent\"><img src=\"https://colab.research.google.com/assets/colab-badge.svg\" alt=\"Open In Colab\"/></a>"
      ]
    },
    {
      "cell_type": "code",
      "source": [
        "!pip install tqdm"
      ],
      "metadata": {
        "id": "vRzIQf17S-Eg",
        "colab": {
          "base_uri": "https://localhost:8080/"
        },
        "outputId": "87408a6f-4f75-460e-f0a1-bdad6a46e4f7"
      },
      "execution_count": 1,
      "outputs": [
        {
          "output_type": "stream",
          "name": "stdout",
          "text": [
            "Requirement already satisfied: tqdm in /usr/local/lib/python3.10/dist-packages (4.66.2)\n"
          ]
        }
      ]
    },
    {
      "cell_type": "code",
      "execution_count": 2,
      "metadata": {
        "id": "BhrNoaEZGQ5n",
        "colab": {
          "base_uri": "https://localhost:8080/"
        },
        "outputId": "71f3809a-4ccb-4c13-f8c7-a3d8c8e1d7c7"
      },
      "outputs": [
        {
          "output_type": "stream",
          "name": "stdout",
          "text": [
            "2.1.0+cu121\n",
            "0.16.0+cu121\n"
          ]
        }
      ],
      "source": [
        "from timeit import default_timer\n",
        "from tqdm.auto import tqdm\n",
        "import torch\n",
        "from torch import nn\n",
        "import torchvision\n",
        "from torchvision import datasets\n",
        "from torchvision import transforms\n",
        "from torchvision.transforms import ToTensor\n",
        "import matplotlib.pyplot as plt\n",
        "from torch.utils.data import DataLoader\n",
        "print(torch.__version__)\n",
        "print(torchvision.__version__)\n"
      ]
    },
    {
      "cell_type": "code",
      "source": [
        "train_data = datasets.CIFAR10(\n",
        "  root=\"data\",\n",
        "  train=True,\n",
        "  download=True,\n",
        "  transform=ToTensor(),\n",
        "  target_transform=None\n",
        ")"
      ],
      "metadata": {
        "id": "3HEoVXO_UwGz",
        "colab": {
          "base_uri": "https://localhost:8080/"
        },
        "outputId": "55453b0b-8e54-480d-b68c-dcccf41fcd35"
      },
      "execution_count": 3,
      "outputs": [
        {
          "output_type": "stream",
          "name": "stdout",
          "text": [
            "Downloading https://www.cs.toronto.edu/~kriz/cifar-10-python.tar.gz to data/cifar-10-python.tar.gz\n"
          ]
        },
        {
          "output_type": "stream",
          "name": "stderr",
          "text": [
            "100%|██████████| 170498071/170498071 [00:02<00:00, 69882839.57it/s]\n"
          ]
        },
        {
          "output_type": "stream",
          "name": "stdout",
          "text": [
            "Extracting data/cifar-10-python.tar.gz to data\n"
          ]
        }
      ]
    },
    {
      "cell_type": "code",
      "source": [
        "test_data = datasets.CIFAR10(\n",
        "  root=\"data\",\n",
        "  train=False,\n",
        "  download=False,\n",
        "  transform=ToTensor(),\n",
        "  target_transform=None\n",
        ")"
      ],
      "metadata": {
        "id": "iwanuZcCcz0e"
      },
      "execution_count": 4,
      "outputs": []
    },
    {
      "cell_type": "code",
      "source": [
        "len(train_data), len(test_data)"
      ],
      "metadata": {
        "id": "DLYYK_jwdSOY",
        "colab": {
          "base_uri": "https://localhost:8080/"
        },
        "outputId": "7e733757-0b77-4fd2-c17c-2bedaabf406c"
      },
      "execution_count": 5,
      "outputs": [
        {
          "output_type": "execute_result",
          "data": {
            "text/plain": [
              "(50000, 10000)"
            ]
          },
          "metadata": {},
          "execution_count": 5
        }
      ]
    },
    {
      "cell_type": "code",
      "source": [
        "image, label = train_data[0]\n",
        "image, label"
      ],
      "metadata": {
        "id": "Qsgw9JpZdimW",
        "colab": {
          "base_uri": "https://localhost:8080/"
        },
        "outputId": "4d66b405-033f-4e83-d2ad-0fc7a8176685"
      },
      "execution_count": 6,
      "outputs": [
        {
          "output_type": "execute_result",
          "data": {
            "text/plain": [
              "(tensor([[[0.2314, 0.1686, 0.1961,  ..., 0.6196, 0.5961, 0.5804],\n",
              "          [0.0627, 0.0000, 0.0706,  ..., 0.4824, 0.4667, 0.4784],\n",
              "          [0.0980, 0.0627, 0.1922,  ..., 0.4627, 0.4706, 0.4275],\n",
              "          ...,\n",
              "          [0.8157, 0.7882, 0.7765,  ..., 0.6275, 0.2196, 0.2078],\n",
              "          [0.7059, 0.6784, 0.7294,  ..., 0.7216, 0.3804, 0.3255],\n",
              "          [0.6941, 0.6588, 0.7020,  ..., 0.8471, 0.5922, 0.4824]],\n",
              " \n",
              "         [[0.2431, 0.1804, 0.1882,  ..., 0.5176, 0.4902, 0.4863],\n",
              "          [0.0784, 0.0000, 0.0314,  ..., 0.3451, 0.3255, 0.3412],\n",
              "          [0.0941, 0.0275, 0.1059,  ..., 0.3294, 0.3294, 0.2863],\n",
              "          ...,\n",
              "          [0.6667, 0.6000, 0.6314,  ..., 0.5216, 0.1216, 0.1333],\n",
              "          [0.5451, 0.4824, 0.5647,  ..., 0.5804, 0.2431, 0.2078],\n",
              "          [0.5647, 0.5059, 0.5569,  ..., 0.7216, 0.4627, 0.3608]],\n",
              " \n",
              "         [[0.2471, 0.1765, 0.1686,  ..., 0.4235, 0.4000, 0.4039],\n",
              "          [0.0784, 0.0000, 0.0000,  ..., 0.2157, 0.1961, 0.2235],\n",
              "          [0.0824, 0.0000, 0.0314,  ..., 0.1961, 0.1961, 0.1647],\n",
              "          ...,\n",
              "          [0.3765, 0.1333, 0.1020,  ..., 0.2745, 0.0275, 0.0784],\n",
              "          [0.3765, 0.1647, 0.1176,  ..., 0.3686, 0.1333, 0.1333],\n",
              "          [0.4549, 0.3686, 0.3412,  ..., 0.5490, 0.3294, 0.2824]]]),\n",
              " 6)"
            ]
          },
          "metadata": {},
          "execution_count": 6
        }
      ]
    },
    {
      "cell_type": "code",
      "source": [
        "classes = train_data.classes\n",
        "classes"
      ],
      "metadata": {
        "id": "lR7Rz1cXhYXC",
        "colab": {
          "base_uri": "https://localhost:8080/"
        },
        "outputId": "fe47a4e3-5ab8-4d4a-88a8-d6f1225d2f69"
      },
      "execution_count": 7,
      "outputs": [
        {
          "output_type": "execute_result",
          "data": {
            "text/plain": [
              "['airplane',\n",
              " 'automobile',\n",
              " 'bird',\n",
              " 'cat',\n",
              " 'deer',\n",
              " 'dog',\n",
              " 'frog',\n",
              " 'horse',\n",
              " 'ship',\n",
              " 'truck']"
            ]
          },
          "metadata": {},
          "execution_count": 7
        }
      ]
    },
    {
      "cell_type": "code",
      "source": [
        "classes_to_idx = train_data.class_to_idx\n",
        "classes_to_idx"
      ],
      "metadata": {
        "id": "J5Ykq_swhhyd",
        "colab": {
          "base_uri": "https://localhost:8080/"
        },
        "outputId": "286c0a54-8714-4b63-a67e-caef35962a6a"
      },
      "execution_count": 8,
      "outputs": [
        {
          "output_type": "execute_result",
          "data": {
            "text/plain": [
              "{'airplane': 0,\n",
              " 'automobile': 1,\n",
              " 'bird': 2,\n",
              " 'cat': 3,\n",
              " 'deer': 4,\n",
              " 'dog': 5,\n",
              " 'frog': 6,\n",
              " 'horse': 7,\n",
              " 'ship': 8,\n",
              " 'truck': 9}"
            ]
          },
          "metadata": {},
          "execution_count": 8
        }
      ]
    },
    {
      "cell_type": "code",
      "source": [
        "NUM_CLASSES = len(train_data.classes)"
      ],
      "metadata": {
        "id": "eHSP-avJfbfB"
      },
      "execution_count": 9,
      "outputs": []
    },
    {
      "cell_type": "code",
      "source": [
        "NUM_CLASSES"
      ],
      "metadata": {
        "id": "ZU0-GmmShO_1",
        "colab": {
          "base_uri": "https://localhost:8080/"
        },
        "outputId": "19643eaf-ea12-4586-d453-f05733b6082c"
      },
      "execution_count": 10,
      "outputs": [
        {
          "output_type": "execute_result",
          "data": {
            "text/plain": [
              "10"
            ]
          },
          "metadata": {},
          "execution_count": 10
        }
      ]
    },
    {
      "cell_type": "code",
      "source": [
        "image.shape, label"
      ],
      "metadata": {
        "id": "gZ-ZF_5KhQos",
        "colab": {
          "base_uri": "https://localhost:8080/"
        },
        "outputId": "5bb7de25-0f1a-40a7-8eb9-5c74d4e35649"
      },
      "execution_count": 11,
      "outputs": [
        {
          "output_type": "execute_result",
          "data": {
            "text/plain": [
              "(torch.Size([3, 32, 32]), 6)"
            ]
          },
          "metadata": {},
          "execution_count": 11
        }
      ]
    },
    {
      "cell_type": "code",
      "source": [
        "image, label = train_data[0]\n",
        "image = image.squeeze(dim=1)\n",
        "image = image.numpy()\n",
        "image = image.transpose((1,2,0))\n",
        "plt.imshow(image)\n",
        "plt.title(classes[label])"
      ],
      "metadata": {
        "id": "nzy_Go8qh8vf",
        "colab": {
          "base_uri": "https://localhost:8080/",
          "height": 469
        },
        "outputId": "05faf267-e7a4-4b9d-b009-068de76656b4"
      },
      "execution_count": 12,
      "outputs": [
        {
          "output_type": "execute_result",
          "data": {
            "text/plain": [
              "Text(0.5, 1.0, 'frog')"
            ]
          },
          "metadata": {},
          "execution_count": 12
        },
        {
          "output_type": "display_data",
          "data": {
            "text/plain": [
              "<Figure size 640x480 with 1 Axes>"
            ],
            "image/png": "[encoded data removed]"
          },
          "metadata": {}
        }
      ]
    },
    {
      "cell_type": "code",
      "source": [
        "fig = plt.figure(figsize=(9,9))\n",
        "rows, cols = 4,4\n",
        "for i in range(1, rows*cols+1):\n",
        "  rand_idx = torch.randint(0, len(train_data), size=[1]).item()\n",
        "  image, label = train_data[rand_idx]\n",
        "  image = image.squeeze(dim=1)\n",
        "  image = image.numpy()\n",
        "  image = image.transpose((1,2,0))\n",
        "  fig.add_subplot(rows, cols, i)\n",
        "  plt.imshow(image.squeeze())\n",
        "  plt.title(classes[label])\n",
        "  plt.axis(False)"
      ],
      "metadata": {
        "id": "t0aLNL9bobkL",
        "colab": {
          "base_uri": "https://localhost:8080/",
          "height": 752
        },
        "outputId": "7a55637d-a63f-4426-b1a7-d0e42f73c912"
      },
      "execution_count": 13,
      "outputs": [
        {
          "output_type": "display_data",
          "data": {
            "text/plain": [
              "<Figure size 900x900 with 16 Axes>"
            ],
            "image/png": "[encoded data removed]"
          },
          "metadata": {}
        }
      ]
    },
    {
      "cell_type": "code",
      "source": [
        "BATCH_SIZE=32"
      ],
      "metadata": {
        "id": "ft5Ge9lguIi7"
      },
      "execution_count": 14,
      "outputs": []
    },
    {
      "cell_type": "code",
      "source": [
        "train_dataloader = DataLoader(\n",
        "    dataset=train_data,\n",
        "    batch_size=BATCH_SIZE,\n",
        "    shuffle=True\n",
        ")\n",
        "\n",
        "test_dataloader = DataLoader(\n",
        "    dataset=test_data,\n",
        "    batch_size=BATCH_SIZE,\n",
        "    shuffle=False\n",
        ")"
      ],
      "metadata": {
        "id": "O12_QC6ppWaD"
      },
      "execution_count": 15,
      "outputs": []
    },
    {
      "cell_type": "code",
      "source": [
        "train_dataloader, test_dataloader"
      ],
      "metadata": {
        "id": "mgBjxbsguPSY",
        "colab": {
          "base_uri": "https://localhost:8080/"
        },
        "outputId": "188e7a86-fb19-4daf-b55d-743ed671855e"
      },
      "execution_count": 16,
      "outputs": [
        {
          "output_type": "execute_result",
          "data": {
            "text/plain": [
              "(<torch.utils.data.dataloader.DataLoader at 0x7b674dec0d00>,\n",
              " <torch.utils.data.dataloader.DataLoader at 0x7b674dec0100>)"
            ]
          },
          "metadata": {},
          "execution_count": 16
        }
      ]
    },
    {
      "cell_type": "code",
      "source": [
        "print(f\"DataLoaders: {train_dataloader, test_dataloader}\")\n",
        "print(f\"Length of train_dataloader: {len(train_dataloader)} batches of {BATCH_SIZE}\")\n",
        "print(f\"Length of test_dataloader: {len(test_dataloader)} batches of {BATCH_SIZE}\")"
      ],
      "metadata": {
        "id": "GE4VYbIUuwwd",
        "colab": {
          "base_uri": "https://localhost:8080/"
        },
        "outputId": "7a3e2a2d-aa13-497d-e221-106efb5acd61"
      },
      "execution_count": 17,
      "outputs": [
        {
          "output_type": "stream",
          "name": "stdout",
          "text": [
            "DataLoaders: (<torch.utils.data.dataloader.DataLoader object at 0x7b674dec0d00>, <torch.utils.data.dataloader.DataLoader object at 0x7b674dec0100>)\n",
            "Length of train_dataloader: 1563 batches of 32\n",
            "Length of test_dataloader: 313 batches of 32\n"
          ]
        }
      ]
    },
    {
      "cell_type": "code",
      "source": [
        "train_features_batch, train_labels_batch = next(iter(train_dataloader))"
      ],
      "metadata": {
        "id": "nFEV0F7lvbMI"
      },
      "execution_count": 18,
      "outputs": []
    },
    {
      "cell_type": "code",
      "source": [
        "train_features_batch.shape, train_labels_batch.shape"
      ],
      "metadata": {
        "id": "NMkNEuW2ekPT",
        "colab": {
          "base_uri": "https://localhost:8080/"
        },
        "outputId": "2beaf75d-29fc-4515-8735-a78a92d6778a"
      },
      "execution_count": 19,
      "outputs": [
        {
          "output_type": "execute_result",
          "data": {
            "text/plain": [
              "(torch.Size([32, 3, 32, 32]), torch.Size([32]))"
            ]
          },
          "metadata": {},
          "execution_count": 19
        }
      ]
    },
    {
      "cell_type": "code",
      "source": [
        "train_features_batch[0], train_labels_batch[0]"
      ],
      "metadata": {
        "id": "Dx48HXQJeoJi",
        "colab": {
          "base_uri": "https://localhost:8080/"
        },
        "outputId": "0ce79e16-92a6-4a42-fce7-60cf93aa1d3c"
      },
      "execution_count": 20,
      "outputs": [
        {
          "output_type": "execute_result",
          "data": {
            "text/plain": [
              "(tensor([[[1.0000, 0.9451, 0.8314,  ..., 0.7647, 0.8745, 0.9725],\n",
              "          [0.9961, 0.8745, 0.5961,  ..., 0.4118, 0.6588, 0.8941],\n",
              "          [1.0000, 0.8431, 0.4745,  ..., 0.2118, 0.5020, 0.8000],\n",
              "          ...,\n",
              "          [1.0000, 0.9373, 0.8000,  ..., 0.7647, 0.8235, 0.9255],\n",
              "          [1.0000, 0.9843, 0.9451,  ..., 0.8863, 0.9294, 0.9804],\n",
              "          [1.0000, 0.9961, 0.9843,  ..., 0.9804, 0.9882, 0.9961]],\n",
              " \n",
              "         [[1.0000, 0.9412, 0.8235,  ..., 0.7765, 0.8784, 0.9686],\n",
              "          [0.9961, 0.8784, 0.6039,  ..., 0.4275, 0.6627, 0.8902],\n",
              "          [1.0000, 0.8588, 0.5020,  ..., 0.2314, 0.5137, 0.8039],\n",
              "          ...,\n",
              "          [1.0000, 0.9608, 0.8588,  ..., 0.8196, 0.8588, 0.9373],\n",
              "          [1.0000, 0.9961, 0.9765,  ..., 0.9137, 0.9451, 0.9843],\n",
              "          [1.0000, 0.9961, 0.9922,  ..., 0.9882, 0.9922, 0.9961]],\n",
              " \n",
              "         [[1.0000, 0.9529, 0.8471,  ..., 0.7804, 0.8824, 0.9765],\n",
              "          [1.0000, 0.8941, 0.6235,  ..., 0.4627, 0.6941, 0.9098],\n",
              "          [1.0000, 0.8667, 0.5137,  ..., 0.2824, 0.5569, 0.8314],\n",
              "          ...,\n",
              "          [1.0000, 0.9216, 0.7255,  ..., 0.7216, 0.7922, 0.9059],\n",
              "          [1.0000, 0.9686, 0.8824,  ..., 0.8549, 0.9020, 0.9647],\n",
              "          [1.0000, 0.9804, 0.9569,  ..., 0.9608, 0.9725, 0.9922]]]),\n",
              " tensor(5))"
            ]
          },
          "metadata": {},
          "execution_count": 20
        }
      ]
    },
    {
      "cell_type": "code",
      "source": [
        "random_idx = torch.randint(0, len(train_features_batch), size=[1]).item()\n",
        "image, label = train_features_batch[random_idx], train_labels_batch[random_idx]\n",
        "image = image.squeeze(dim=1)\n",
        "image = image.numpy()\n",
        "image = image.transpose((1,2,0))\n",
        "plt.imshow(image)\n",
        "plt.title(classes[label])\n",
        "plt.axis(False)\n",
        "print(f\"Image Size; {image.shape}\")\n",
        "print(f\"Label: {label}, label size {label.shape}\")\n"
      ],
      "metadata": {
        "id": "UC8au5PXwjxi",
        "colab": {
          "base_uri": "https://localhost:8080/",
          "height": 463
        },
        "outputId": "65176b46-7830-401d-a3fe-e6f66676d1ad"
      },
      "execution_count": 21,
      "outputs": [
        {
          "output_type": "stream",
          "name": "stdout",
          "text": [
            "Image Size; (32, 32, 3)\n",
            "Label: 5, label size torch.Size([])\n"
          ]
        },
        {
          "output_type": "display_data",
          "data": {
            "text/plain": [
              "<Figure size 640x480 with 1 Axes>"
            ],
            "image/png": "[encoded data removed]"
          },
          "metadata": {}
        }
      ]
    },
    {
      "cell_type": "code",
      "source": [
        "flatten_model = nn.Flatten()\n",
        "x = train_features_batch[0]\n",
        "x, x.shape"
      ],
      "metadata": {
        "id": "DOSIAF40xgJr",
        "colab": {
          "base_uri": "https://localhost:8080/"
        },
        "outputId": "53fb3345-f19b-45f2-d985-dcf7db0a2267"
      },
      "execution_count": 22,
      "outputs": [
        {
          "output_type": "execute_result",
          "data": {
            "text/plain": [
              "(tensor([[[1.0000, 0.9451, 0.8314,  ..., 0.7647, 0.8745, 0.9725],\n",
              "          [0.9961, 0.8745, 0.5961,  ..., 0.4118, 0.6588, 0.8941],\n",
              "          [1.0000, 0.8431, 0.4745,  ..., 0.2118, 0.5020, 0.8000],\n",
              "          ...,\n",
              "          [1.0000, 0.9373, 0.8000,  ..., 0.7647, 0.8235, 0.9255],\n",
              "          [1.0000, 0.9843, 0.9451,  ..., 0.8863, 0.9294, 0.9804],\n",
              "          [1.0000, 0.9961, 0.9843,  ..., 0.9804, 0.9882, 0.9961]],\n",
              " \n",
              "         [[1.0000, 0.9412, 0.8235,  ..., 0.7765, 0.8784, 0.9686],\n",
              "          [0.9961, 0.8784, 0.6039,  ..., 0.4275, 0.6627, 0.8902],\n",
              "          [1.0000, 0.8588, 0.5020,  ..., 0.2314, 0.5137, 0.8039],\n",
              "          ...,\n",
              "          [1.0000, 0.9608, 0.8588,  ..., 0.8196, 0.8588, 0.9373],\n",
              "          [1.0000, 0.9961, 0.9765,  ..., 0.9137, 0.9451, 0.9843],\n",
              "          [1.0000, 0.9961, 0.9922,  ..., 0.9882, 0.9922, 0.9961]],\n",
              " \n",
              "         [[1.0000, 0.9529, 0.8471,  ..., 0.7804, 0.8824, 0.9765],\n",
              "          [1.0000, 0.8941, 0.6235,  ..., 0.4627, 0.6941, 0.9098],\n",
              "          [1.0000, 0.8667, 0.5137,  ..., 0.2824, 0.5569, 0.8314],\n",
              "          ...,\n",
              "          [1.0000, 0.9216, 0.7255,  ..., 0.7216, 0.7922, 0.9059],\n",
              "          [1.0000, 0.9686, 0.8824,  ..., 0.8549, 0.9020, 0.9647],\n",
              "          [1.0000, 0.9804, 0.9569,  ..., 0.9608, 0.9725, 0.9922]]]),\n",
              " torch.Size([3, 32, 32]))"
            ]
          },
          "metadata": {},
          "execution_count": 22
        }
      ]
    },
    {
      "cell_type": "code",
      "source": [
        "output = flatten_model(x)\n",
        "print(f\"Shape before flattening: {x.shape}\")\n",
        "print(f\"Shape after flattening: {output.shape}\")"
      ],
      "metadata": {
        "id": "vjm3zo4yzS-H",
        "colab": {
          "base_uri": "https://localhost:8080/"
        },
        "outputId": "b0e06c23-7ea0-43a9-bc67-327987910a60"
      },
      "execution_count": 23,
      "outputs": [
        {
          "output_type": "stream",
          "name": "stdout",
          "text": [
            "Shape before flattening: torch.Size([3, 32, 32])\n",
            "Shape after flattening: torch.Size([3, 1024])\n"
          ]
        }
      ]
    },
    {
      "cell_type": "code",
      "source": [
        "class baseline_cifar10(nn.Module):\n",
        "  def __init__(self, input_shape: int, hidden_units: int, output_shape: int):\n",
        "    super().__init__()\n",
        "    self.layer_stack = nn.Sequential(\n",
        "        nn.Flatten(),\n",
        "        nn.Linear(in_features=input_shape, out_features=hidden_units),\n",
        "        nn.Linear(in_features=hidden_units, out_features=output_shape),\n",
        "    )\n",
        "  def forward(self, x):\n",
        "    return self.layer_stack(x)"
      ],
      "metadata": {
        "id": "DbxXcfPLzlo7"
      },
      "execution_count": 24,
      "outputs": []
    },
    {
      "cell_type": "code",
      "source": [
        "baseline = baseline_cifar10(\n",
        "    input_shape=3072,\n",
        "    hidden_units=256,\n",
        "    output_shape=len(classes)\n",
        ")\n",
        "baseline"
      ],
      "metadata": {
        "id": "CyE1GS0v12ZC",
        "colab": {
          "base_uri": "https://localhost:8080/"
        },
        "outputId": "953d0d82-8681-41b4-f4b8-d0591a665c98"
      },
      "execution_count": 25,
      "outputs": [
        {
          "output_type": "execute_result",
          "data": {
            "text/plain": [
              "baseline_cifar10(\n",
              "  (layer_stack): Sequential(\n",
              "    (0): Flatten(start_dim=1, end_dim=-1)\n",
              "    (1): Linear(in_features=3072, out_features=256, bias=True)\n",
              "    (2): Linear(in_features=256, out_features=10, bias=True)\n",
              "  )\n",
              ")"
            ]
          },
          "metadata": {},
          "execution_count": 25
        }
      ]
    },
    {
      "cell_type": "code",
      "source": [
        "loss_fn = nn.CrossEntropyLoss()\n",
        "optimizer = torch.optim.SGD(params=baseline.parameters(), lr=0.01)\n"
      ],
      "metadata": {
        "id": "fVmCEoNe2dV_"
      },
      "execution_count": 26,
      "outputs": []
    },
    {
      "cell_type": "code",
      "source": [
        "def Accuracy(y_true, y_pred):\n",
        "  correct = torch.eq(y_true, y_pred).sum().item()\n",
        "  acc = (correct / len(y_pred)) * 100\n",
        "  return acc"
      ],
      "metadata": {
        "id": "twolLZwGM-MM"
      },
      "execution_count": 27,
      "outputs": []
    },
    {
      "cell_type": "code",
      "source": [
        "def print_training_time(\n",
        "    start: float,\n",
        "    end: float,\n",
        "    device: torch.device = None):\n",
        "  total_time = end - start\n",
        "  print(f\"Train time on {device}: {total_time: .3f} seconds\")"
      ],
      "metadata": {
        "id": "KfKKLDbvNWz9"
      },
      "execution_count": 28,
      "outputs": []
    },
    {
      "cell_type": "code",
      "source": [
        "epochs = 3"
      ],
      "metadata": {
        "id": "u41pXn7zQoZ2"
      },
      "execution_count": 29,
      "outputs": []
    },
    {
      "cell_type": "code",
      "source": [
        "def training_loop(model: torch.nn.Module,\n",
        "                  epochs: int,\n",
        "                  train_data_loader: torch.utils.data.DataLoader,\n",
        "                  test_data_loader: torch.utils.data.DataLoader,\n",
        "                  loss_fn: torch.nn.Module,\n",
        "                  optimizer: torch.nn.Module,\n",
        "                  accuracy):\n",
        "  print(f\"Running: \", model.__class__.__name__)\n",
        "  train_time_start = default_timer()\n",
        "  for epoch in tqdm(range(epochs)):\n",
        "    print(f\"Epoch: {epoch}\")\n",
        "    train_loss, train_acc = 0,0\n",
        "    for batch, (X,y) in enumerate(train_dataloader):\n",
        "      X = X.to(device)\n",
        "      y = y.to(device)\n",
        "      model.train()\n",
        "      y_pred = model(X)\n",
        "      loss = loss_fn(y_pred, y)\n",
        "      train_loss += loss\n",
        "      train_acc = Accuracy(y, y_pred.argmax(dim=1))\n",
        "      optimizer.zero_grad()\n",
        "      loss.backward()\n",
        "      optimizer.step()\n",
        "\n",
        "      if batch % 500 == 0:\n",
        "        print(f\"Processed batch {batch * len(X)}/{len(train_dataloader.dataset)} samples\")\n",
        "\n",
        "    train_loss /= len(train_dataloader)\n",
        "    train_acc /= len(train_dataloader)\n",
        "\n",
        "\n",
        "    test_loss, test_acc = 0,0\n",
        "    with torch.inference_mode():\n",
        "      for X_test, y_test in test_dataloader:\n",
        "        X_test = X_test.to(device)\n",
        "        y_test = y_test.to(device)\n",
        "        test_pred = model(X_test)\n",
        "        test_loss += loss_fn(test_pred, y_test)\n",
        "        test_acc = Accuracy(y_test, y_pred=test_pred.argmax(dim=1))\n",
        "\n",
        "      test_loss /= len(test_dataloader)\n",
        "      test_acc  /= len(test_dataloader)\n",
        "\n",
        "    print(f\"Train Accuracy: {train_acc: .2f}%, Train Loss: {loss: .4f} | Test Accuracy: {test_acc: .2f}%, Test Loss: {test_loss: .4f}\")\n",
        "  train_time_end = default_timer()\n",
        "  total_time = print_training_time(start=train_time_start, end=train_time_end, device=str(next(model.parameters()).device))"
      ],
      "metadata": {
        "id": "iENfVrGWOw1V"
      },
      "execution_count": 30,
      "outputs": []
    },
    {
      "cell_type": "code",
      "source": [
        "device = \"cuda\" if torch.cuda.is_available() else \"cpu\"\n",
        "device"
      ],
      "metadata": {
        "id": "plxPrYL-zVwT",
        "colab": {
          "base_uri": "https://localhost:8080/",
          "height": 35
        },
        "outputId": "d1cf3d12-3093-4d2c-dff1-22d26a7afa53"
      },
      "execution_count": 31,
      "outputs": [
        {
          "output_type": "execute_result",
          "data": {
            "text/plain": [
              "'cuda'"
            ],
            "application/vnd.google.colaboratory.intrinsic+json": {
              "type": "string"
            }
          },
          "metadata": {},
          "execution_count": 31
        }
      ]
    },
    {
      "cell_type": "code",
      "source": [
        "def eval_model(\n",
        "    model: torch.nn.Module,\n",
        "    test_data_loader: torch.utils.data.DataLoader,\n",
        "    loss_fn: torch.nn.Module,\n",
        "    accuracy):\n",
        "  loss, acc = 0,0\n",
        "  model.eval().to(device)\n",
        "  with torch.inference_mode():\n",
        "    for X, y in tqdm(test_data_loader):\n",
        "      X = X.to(device)\n",
        "      y = y.to(device)\n",
        "      y_pred = model(X)\n",
        "      loss += loss_fn(y_pred, y)\n",
        "      acc += accuracy(y, y_pred.argmax(dim=1))\n",
        "\n",
        "      loss /= len(test_data_loader)\n",
        "      acc /= len(test_data_loader)\n",
        "\n",
        "  return {\"model_name\": model.__class__.__name__,\n",
        "          \"model_loss\": loss.item(),\n",
        "          \"model_acc\": acc}\n",
        "\n",
        "results = eval_model(model=baseline,test_data_loader=test_dataloader,loss_fn=loss_fn,accuracy=Accuracy)\n",
        "results"
      ],
      "metadata": {
        "id": "aIcRfg0aGvZi",
        "colab": {
          "base_uri": "https://localhost:8080/",
          "height": 101,
          "referenced_widgets": [
            "a6299290adad45d59c56dfaec8ae035a",
            "e9ee023a779f4781be5cecdf15f864e9",
            "79d7d596a2204089a6105cbbb7458296",
            "dd2f4ae4d666498dab9b1c5d54016037",
            "6d2d698980a24227acb86b4947e4ca3d",
            "1271b6f575184d4c9ecf44dbff789cca",
            "eb30f45f9603481ab1eaa864d24b9a01",
            "4841d28dc906446894fc24bdbe925748",
            "d33f35c7bb12470a90acee49dacdaf08",
            "ed7d658077ca47a397213fccfde7d70a",
            "af9909b157ad422b9dcad923750949c7"
          ]
        },
        "outputId": "d073c84e-75b7-4676-d9be-24ea3e6d7cc1"
      },
      "execution_count": 32,
      "outputs": [
        {
          "output_type": "display_data",
          "data": {
            "text/plain": [
              "  0%|          | 0/313 [00:00<?, ?it/s]"
            ],
            "application/vnd.jupyter.widget-view+json": {
              "version_major": 2,
              "version_minor": 0,
              "model_id": "a6299290adad45d59c56dfaec8ae035a"
            }
          },
          "metadata": {}
        },
        {
          "output_type": "execute_result",
          "data": {
            "text/plain": [
              "{'model_name': 'baseline_cifar10',\n",
              " 'model_loss': 0.007373844739049673,\n",
              " 'model_acc': 0.0799683079320545}"
            ]
          },
          "metadata": {},
          "execution_count": 32
        }
      ]
    },
    {
      "cell_type": "code",
      "source": [
        "class baselinev2_cifar10(nn.Module):\n",
        "  def __init__(self, input_shape: int, hidden_units: int, output_shape: int):\n",
        "    super().__init__()\n",
        "    self.layer_stack = nn.Sequential(\n",
        "        nn.Flatten(),\n",
        "        nn.Linear(in_features=input_shape, out_features=hidden_units),\n",
        "        nn.ReLU(),\n",
        "        nn.Linear(in_features=hidden_units, out_features=output_shape),\n",
        "        nn.ReLU()\n",
        "    )\n",
        "  def forward(self, x):\n",
        "    return self.layer_stack(x)"
      ],
      "metadata": {
        "id": "ZXsGAc77I4Gd"
      },
      "execution_count": 33,
      "outputs": []
    },
    {
      "cell_type": "code",
      "source": [
        "baselinev2 = baselinev2_cifar10(\n",
        "  input_shape=3072,\n",
        "  hidden_units=256,\n",
        "  output_shape=len(classes)\n",
        ").to(device)\n",
        "baselinev2"
      ],
      "metadata": {
        "id": "APtzmjd2phpT",
        "colab": {
          "base_uri": "https://localhost:8080/"
        },
        "outputId": "54580c7a-d764-4196-bd09-f1da9134097b"
      },
      "execution_count": 34,
      "outputs": [
        {
          "output_type": "execute_result",
          "data": {
            "text/plain": [
              "baselinev2_cifar10(\n",
              "  (layer_stack): Sequential(\n",
              "    (0): Flatten(start_dim=1, end_dim=-1)\n",
              "    (1): Linear(in_features=3072, out_features=256, bias=True)\n",
              "    (2): ReLU()\n",
              "    (3): Linear(in_features=256, out_features=10, bias=True)\n",
              "    (4): ReLU()\n",
              "  )\n",
              ")"
            ]
          },
          "metadata": {},
          "execution_count": 34
        }
      ]
    },
    {
      "cell_type": "code",
      "source": [
        "training_results = training_loop(model=baselinev2, epochs=epochs, train_data_loader=train_dataloader, test_data_loader=test_dataloader, loss_fn=loss_fn, optimizer=optimizer, accuracy=Accuracy)\n",
        "eval_results = eval_model(model=baselinev2, test_data_loader=test_dataloader, loss_fn=loss_fn, accuracy=Accuracy)\n",
        "eval_results"
      ],
      "metadata": {
        "colab": {
          "base_uri": "https://localhost:8080/",
          "height": 480,
          "referenced_widgets": [
            "49565f636a03403e9916dfe6a80be2ee",
            "a655d39ab1ac422ba6f0438165ee07f5",
            "e81992b44b534400a0e81e8a42587dbb",
            "83b7130ba15c4540a9da69a5f5a69e6f",
            "b395e54697f449d48620c5c6dfa5949b",
            "fe6e019f90e0457dbb9304dc597594d4",
            "1d46cf83f3ca4f648ae4c5f25a70cddf",
            "95cc8df9907e4c128eddb71f12d43c2c",
            "31cab53ab60e470d91ec540a8e33e6ba",
            "89b27f2295074178ba241b52c08c91f4",
            "48db00a3f9064ab4937eb4f66ef65a8f",
            "9f88620c10124b4292395a65d845613f",
            "763b97fda2a74b04b20cbc5aef18acb8",
            "a4cd1b9a4eb0470caed2d25608418af9",
            "028ccd1cff8a45b8880d0480ec8d11d2",
            "106bc422108d441ebce71b18b67b17d2",
            "175f7f5756b54db799b3a70632b2da6b",
            "0f878b92e3c94103a56abf9055427a58",
            "0032dee058e84660bf935eb57769203f",
            "5199836c0efb402c9f24cdbba1533fcb",
            "99c5c6b3017946d9aeeaf2075c960b62",
            "aeb936fe2bb14b89b5712045c7fd4ae1"
          ]
        },
        "id": "fXXJflHOrFM7",
        "outputId": "99979d43-7c52-4b88-9792-2dee293f40ef"
      },
      "execution_count": 35,
      "outputs": [
        {
          "output_type": "stream",
          "name": "stdout",
          "text": [
            "Running:  baselinev2_cifar10\n"
          ]
        },
        {
          "output_type": "display_data",
          "data": {
            "text/plain": [
              "  0%|          | 0/3 [00:00<?, ?it/s]"
            ],
            "application/vnd.jupyter.widget-view+json": {
              "version_major": 2,
              "version_minor": 0,
              "model_id": "49565f636a03403e9916dfe6a80be2ee"
            }
          },
          "metadata": {}
        },
        {
          "output_type": "stream",
          "name": "stdout",
          "text": [
            "Epoch: 0\n",
            "Processed batch 0/50000 samples\n",
            "Processed batch 16000/50000 samples\n",
            "Processed batch 32000/50000 samples\n",
            "Processed batch 48000/50000 samples\n",
            "Train Accuracy:  0.01%, Train Loss:  2.3052 | Test Accuracy:  0.06%, Test Loss:  2.3022\n",
            "Epoch: 1\n",
            "Processed batch 0/50000 samples\n",
            "Processed batch 16000/50000 samples\n",
            "Processed batch 32000/50000 samples\n",
            "Processed batch 48000/50000 samples\n",
            "Train Accuracy:  0.01%, Train Loss:  2.2939 | Test Accuracy:  0.06%, Test Loss:  2.3022\n",
            "Epoch: 2\n",
            "Processed batch 0/50000 samples\n",
            "Processed batch 16000/50000 samples\n",
            "Processed batch 32000/50000 samples\n",
            "Processed batch 48000/50000 samples\n",
            "Train Accuracy:  0.02%, Train Loss:  2.2917 | Test Accuracy:  0.06%, Test Loss:  2.3022\n",
            "Train time on cuda:0:  32.953 seconds\n"
          ]
        },
        {
          "output_type": "display_data",
          "data": {
            "text/plain": [
              "  0%|          | 0/313 [00:00<?, ?it/s]"
            ],
            "application/vnd.jupyter.widget-view+json": {
              "version_major": 2,
              "version_minor": 0,
              "model_id": "9f88620c10124b4292395a65d845613f"
            }
          },
          "metadata": {}
        },
        {
          "output_type": "execute_result",
          "data": {
            "text/plain": [
              "{'model_name': 'baselinev2_cifar10',\n",
              " 'model_loss': 0.007322662975639105,\n",
              " 'model_acc': 0.060032153356725536}"
            ]
          },
          "metadata": {},
          "execution_count": 35
        }
      ]
    },
    {
      "cell_type": "code",
      "source": [
        "class baselineCNN(nn.Module):\n",
        "  def __init__(self, input_shape: int, hidden_units: int, output_shape: int):\n",
        "    super().__init__()\n",
        "    self.conv_block_1 = nn.Sequential(\n",
        "        nn.Conv2d(in_channels=input_shape,\n",
        "                  out_channels=hidden_units,\n",
        "                  kernel_size=3,\n",
        "                  stride=1,\n",
        "                  padding=1),\n",
        "        nn.ReLU(),\n",
        "        nn.Conv2d(in_channels=hidden_units,\n",
        "                  out_channels=hidden_units,\n",
        "                  kernel_size=3,\n",
        "                  stride=1,\n",
        "                  padding=1),\n",
        "        nn.ReLU(),\n",
        "        nn.MaxPool2d(kernel_size=2)\n",
        "    )\n",
        "    self.conv_block_2 = nn.Sequential(\n",
        "        nn.Conv2d(in_channels=hidden_units,\n",
        "                  out_channels=hidden_units,\n",
        "                  kernel_size=3,\n",
        "                  stride=1,\n",
        "                  padding=1),\n",
        "        nn.ReLU(),\n",
        "        nn.Conv2d(in_channels=hidden_units,\n",
        "                  out_channels=hidden_units,\n",
        "                  kernel_size=3,\n",
        "                  stride=1,\n",
        "                  padding=1),\n",
        "        nn.ReLU(),\n",
        "        nn.MaxPool2d(kernel_size=2)\n",
        "    )\n",
        "    self.classifier = nn.Sequential(\n",
        "        nn.Flatten(),\n",
        "        nn.Linear(in_features=hidden_units*64,\n",
        "                  out_features=output_shape)\n",
        "    )\n",
        "\n",
        "  def forward(self,x):\n",
        "    #print(\"First Layer\")\n",
        "    x = self.conv_block_1(x)\n",
        "    #print(x.shape)\n",
        "    #print(\"Second Layer\")\n",
        "    x = self.conv_block_2(x)\n",
        "    #print(x.shape)\n",
        "    #print(\"Classifier Layer\")\n",
        "    out = self.classifier(x)\n",
        "    #print(out.shape)\n",
        "    return out"
      ],
      "metadata": {
        "id": "RTPEKF5sR2Ys"
      },
      "execution_count": 36,
      "outputs": []
    },
    {
      "cell_type": "code",
      "source": [
        "baselineCNNmodel = baselineCNN(input_shape=3, hidden_units=64, output_shape=10).to(device)"
      ],
      "metadata": {
        "id": "luEEkDzTaW0x"
      },
      "execution_count": 37,
      "outputs": []
    },
    {
      "cell_type": "code",
      "source": [
        "def training_loop_cnn(model: torch.nn.Module,\n",
        "                  epochs: int,\n",
        "                  train_data_loader: torch.utils.data.DataLoader,\n",
        "                  test_data_loader: torch.utils.data.DataLoader,\n",
        "                  loss_fn: torch.nn.Module,\n",
        "                  optimizer: torch.nn.Module,\n",
        "                  accuracy):\n",
        "  print(f\"Running: \", model.__class__.__name__)\n",
        "  train_time_start = default_timer()\n",
        "  for epoch in tqdm(range(epochs)):\n",
        "    print(f\"Epoch: {epoch}\")\n",
        "    train_loss, train_acc = 0,0\n",
        "    for batch, (X,y) in enumerate(train_dataloader):\n",
        "      #print(X.shape)\n",
        "      X = X.to(device)\n",
        "      y = y.to(device)\n",
        "      model.train()\n",
        "      y_pred = model(X)\n",
        "      loss = loss_fn(y_pred, y)\n",
        "      train_loss += loss\n",
        "      train_acc = Accuracy(y, y_pred.argmax(dim=1))\n",
        "      optimizer.zero_grad()\n",
        "      loss.backward()\n",
        "      optimizer.step()\n",
        "\n",
        "      if batch % 500 == 0:\n",
        "        print(f\"Processed batch {batch * len(X)}/{len(train_dataloader.dataset)} samples\")\n",
        "\n",
        "    train_loss /= len(train_dataloader)\n",
        "    train_acc /= len(train_dataloader)\n",
        "\n",
        "\n",
        "    test_loss, test_acc = 0,0\n",
        "    with torch.inference_mode():\n",
        "      for X_test, y_test in test_dataloader:\n",
        "        X_test = X_test.to(device)\n",
        "        y_test = y_test.to(device)\n",
        "        test_pred = model(X_test)\n",
        "        test_loss += loss_fn(test_pred, y_test)\n",
        "        test_acc = Accuracy(y_test, y_pred=test_pred.argmax(dim=1))\n",
        "\n",
        "      test_loss /= len(test_dataloader)\n",
        "      test_acc  /= len(test_dataloader)\n",
        "\n",
        "    print(f\"Train Accuracy: {train_acc: .2f}%, Train Loss: {loss: .4f} | Test Accuracy: {test_acc: .2f}%, Test Loss: {test_loss: .4f}\")\n",
        "  train_time_end = default_timer()\n",
        "  total_time = print_training_time(start=train_time_start, end=train_time_end, device=str(next(model.parameters()).device))"
      ],
      "metadata": {
        "id": "WDe6heJYbBwD"
      },
      "execution_count": 38,
      "outputs": []
    },
    {
      "cell_type": "code",
      "source": [
        "loss_fn = nn.CrossEntropyLoss()\n",
        "optimizer = torch.optim.SGD(params=baselineCNNmodel.parameters(), lr=0.01)"
      ],
      "metadata": {
        "id": "0QY8UVtuDRiR"
      },
      "execution_count": 39,
      "outputs": []
    },
    {
      "cell_type": "code",
      "source": [
        "train_cnn_model = default_timer()\n",
        "epochs = 3"
      ],
      "metadata": {
        "id": "QvWWfvH5o41o"
      },
      "execution_count": 40,
      "outputs": []
    },
    {
      "cell_type": "code",
      "source": [
        "training_loop_cnn(model=baselineCNNmodel, epochs=epochs, train_data_loader=train_dataloader, test_data_loader=test_dataloader, loss_fn=loss_fn, optimizer=optimizer, accuracy=Accuracy)"
      ],
      "metadata": {
        "id": "aJfAjOL6GbW4",
        "colab": {
          "base_uri": "https://localhost:8080/",
          "height": 396,
          "referenced_widgets": [
            "b931648461894403a0de2a5535d00cf3",
            "ee3ace6a6d5f4c4dac400d72d0a1f6c6",
            "83e1d1dc5caf4138b7bc9f231a6f4ad1",
            "f69a762db23842b39b8b44139cd55648",
            "d5332b9deb4f49abb1b20b85f20c6dea",
            "4a4f515c7cd1491bb025cdf61100351d",
            "b9b4298abfef4df8acbe40d63a15443d",
            "5635be7d3b334abab0acbeecee87c00f",
            "91f0168755ce4cdcb358a8e3c54f41a3",
            "e1385f060cc146fa8d489a411e300277",
            "11293e44079c45a39c7d26ec640ae1c3"
          ]
        },
        "outputId": "dd94d9ab-5d3e-4670-eefe-1861545abfe8"
      },
      "execution_count": 41,
      "outputs": [
        {
          "output_type": "stream",
          "name": "stdout",
          "text": [
            "Running:  baselineCNN\n"
          ]
        },
        {
          "output_type": "display_data",
          "data": {
            "text/plain": [
              "  0%|          | 0/3 [00:00<?, ?it/s]"
            ],
            "application/vnd.jupyter.widget-view+json": {
              "version_major": 2,
              "version_minor": 0,
              "model_id": "b931648461894403a0de2a5535d00cf3"
            }
          },
          "metadata": {}
        },
        {
          "output_type": "stream",
          "name": "stdout",
          "text": [
            "Epoch: 0\n",
            "Processed batch 0/50000 samples\n",
            "Processed batch 16000/50000 samples\n",
            "Processed batch 32000/50000 samples\n",
            "Processed batch 48000/50000 samples\n",
            "Train Accuracy:  0.02%, Train Loss:  1.5330 | Test Accuracy:  0.12%, Test Loss:  1.7444\n",
            "Epoch: 1\n",
            "Processed batch 0/50000 samples\n",
            "Processed batch 16000/50000 samples\n",
            "Processed batch 32000/50000 samples\n",
            "Processed batch 48000/50000 samples\n",
            "Train Accuracy:  0.02%, Train Loss:  1.3841 | Test Accuracy:  0.12%, Test Loss:  1.4502\n",
            "Epoch: 2\n",
            "Processed batch 0/50000 samples\n",
            "Processed batch 16000/50000 samples\n",
            "Processed batch 32000/50000 samples\n",
            "Processed batch 48000/50000 samples\n",
            "Train Accuracy:  0.04%, Train Loss:  1.2477 | Test Accuracy:  0.20%, Test Loss:  1.3248\n",
            "Train time on cuda:0:  40.440 seconds\n"
          ]
        }
      ]
    },
    {
      "cell_type": "code",
      "source": [
        ""
      ],
      "metadata": {
        "id": "zugZ6QGhHEo1"
      },
      "execution_count": 41,
      "outputs": []
    }
  ]
}