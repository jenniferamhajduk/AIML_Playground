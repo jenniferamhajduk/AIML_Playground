{
 "cells": [
  {
   "cell_type": "markdown",
   "metadata": {},
   "source": [
    "Data: https://huggingface.co/datasets/Qdrant/NOAA-Buoy\n",
    "Tutorial Credit: https://www.youtube.com/watch?v=c0k-YLQGKjY"
   ]
  },
  {
   "cell_type": "markdown",
   "metadata": {},
   "source": [
    "# Single variable section"
   ]
  },
  {
   "cell_type": "code",
   "execution_count": 62,
   "metadata": {},
   "outputs": [],
   "source": [
    "import numpy as np\n",
    "import pandas as pd\n",
    "import matplotlib.pyplot as plt\n",
    "import seaborn as sns\n",
    "import xgboost as xgb\n",
    "import tensorflow as tf\n",
    "from tensorflow.keras import Sequential\n",
    "from tensorflow.keras.layers import *\n",
    "from tensorflow.keras.callbacks import ModelCheckpoint\n",
    "from tensorflow.keras.losses import MeanSquaredError\n",
    "from tensorflow.keras.metrics import RootMeanSquaredError\n",
    "from tensorflow.keras.optimizers import Adam\n",
    "from tensorflow.keras.models import load_model\n",
    "import matplotlib.pyplot as plt\n",
    "from sklearn.metrics import mean_squared_error as mse"
   ]
  },
  {
   "cell_type": "code",
   "execution_count": 63,
   "metadata": {},
   "outputs": [],
   "source": [
    "df = pd.read_csv('./full_years_remove_flawed_rows.csv')"
   ]
  },
  {
   "cell_type": "code",
   "execution_count": 64,
   "metadata": {},
   "outputs": [
    {
     "data": {
      "text/html": [
       "<div>\n",
       "<style scoped>\n",
       "    .dataframe tbody tr th:only-of-type {\n",
       "        vertical-align: middle;\n",
       "    }\n",
       "\n",
       "    .dataframe tbody tr th {\n",
       "        vertical-align: top;\n",
       "    }\n",
       "\n",
       "    .dataframe thead th {\n",
       "        text-align: right;\n",
       "    }\n",
       "</style>\n",
       "<table border=\"1\" class=\"dataframe\">\n",
       "  <thead>\n",
       "    <tr style=\"text-align: right;\">\n",
       "      <th></th>\n",
       "      <th>#YY</th>\n",
       "      <th>MM</th>\n",
       "      <th>DD</th>\n",
       "      <th>hh</th>\n",
       "      <th>mm</th>\n",
       "      <th>WDIR</th>\n",
       "      <th>WSPD</th>\n",
       "      <th>GST</th>\n",
       "      <th>WVHT</th>\n",
       "      <th>DPD</th>\n",
       "      <th>APD</th>\n",
       "      <th>MWD</th>\n",
       "      <th>PRES</th>\n",
       "      <th>ATMP</th>\n",
       "      <th>WTMP</th>\n",
       "    </tr>\n",
       "    <tr>\n",
       "      <th>timestamp</th>\n",
       "      <th></th>\n",
       "      <th></th>\n",
       "      <th></th>\n",
       "      <th></th>\n",
       "      <th></th>\n",
       "      <th></th>\n",
       "      <th></th>\n",
       "      <th></th>\n",
       "      <th></th>\n",
       "      <th></th>\n",
       "      <th></th>\n",
       "      <th></th>\n",
       "      <th></th>\n",
       "      <th></th>\n",
       "      <th></th>\n",
       "    </tr>\n",
       "  </thead>\n",
       "  <tbody>\n",
       "    <tr>\n",
       "      <th>1980-01-01 00:00:00-05:00</th>\n",
       "      <td>1980</td>\n",
       "      <td>1</td>\n",
       "      <td>1</td>\n",
       "      <td>0</td>\n",
       "      <td>0</td>\n",
       "      <td>323.0</td>\n",
       "      <td>10.6</td>\n",
       "      <td>14.3</td>\n",
       "      <td>1.80</td>\n",
       "      <td>5.90</td>\n",
       "      <td>5.10</td>\n",
       "      <td>NaN</td>\n",
       "      <td>1020.2</td>\n",
       "      <td>15.6</td>\n",
       "      <td>21.1</td>\n",
       "    </tr>\n",
       "    <tr>\n",
       "      <th>1980-01-01 01:00:00-05:00</th>\n",
       "      <td>1980</td>\n",
       "      <td>1</td>\n",
       "      <td>1</td>\n",
       "      <td>1</td>\n",
       "      <td>0</td>\n",
       "      <td>317.0</td>\n",
       "      <td>10.0</td>\n",
       "      <td>13.0</td>\n",
       "      <td>1.70</td>\n",
       "      <td>6.30</td>\n",
       "      <td>5.00</td>\n",
       "      <td>NaN</td>\n",
       "      <td>1020.7</td>\n",
       "      <td>15.6</td>\n",
       "      <td>21.1</td>\n",
       "    </tr>\n",
       "    <tr>\n",
       "      <th>1980-01-01 02:00:00-05:00</th>\n",
       "      <td>1980</td>\n",
       "      <td>1</td>\n",
       "      <td>1</td>\n",
       "      <td>2</td>\n",
       "      <td>0</td>\n",
       "      <td>323.0</td>\n",
       "      <td>9.4</td>\n",
       "      <td>12.3</td>\n",
       "      <td>1.80</td>\n",
       "      <td>6.30</td>\n",
       "      <td>4.90</td>\n",
       "      <td>NaN</td>\n",
       "      <td>1021.3</td>\n",
       "      <td>15.6</td>\n",
       "      <td>21.1</td>\n",
       "    </tr>\n",
       "    <tr>\n",
       "      <th>1980-01-01 03:00:00-05:00</th>\n",
       "      <td>1980</td>\n",
       "      <td>1</td>\n",
       "      <td>1</td>\n",
       "      <td>3</td>\n",
       "      <td>0</td>\n",
       "      <td>311.0</td>\n",
       "      <td>9.3</td>\n",
       "      <td>12.3</td>\n",
       "      <td>1.80</td>\n",
       "      <td>6.30</td>\n",
       "      <td>5.10</td>\n",
       "      <td>NaN</td>\n",
       "      <td>1021.8</td>\n",
       "      <td>15.7</td>\n",
       "      <td>21.2</td>\n",
       "    </tr>\n",
       "    <tr>\n",
       "      <th>1980-01-01 04:00:00-05:00</th>\n",
       "      <td>1980</td>\n",
       "      <td>1</td>\n",
       "      <td>1</td>\n",
       "      <td>4</td>\n",
       "      <td>0</td>\n",
       "      <td>324.0</td>\n",
       "      <td>8.2</td>\n",
       "      <td>10.9</td>\n",
       "      <td>1.80</td>\n",
       "      <td>6.70</td>\n",
       "      <td>5.20</td>\n",
       "      <td>NaN</td>\n",
       "      <td>1022.0</td>\n",
       "      <td>15.4</td>\n",
       "      <td>21.2</td>\n",
       "    </tr>\n",
       "    <tr>\n",
       "      <th>...</th>\n",
       "      <td>...</td>\n",
       "      <td>...</td>\n",
       "      <td>...</td>\n",
       "      <td>...</td>\n",
       "      <td>...</td>\n",
       "      <td>...</td>\n",
       "      <td>...</td>\n",
       "      <td>...</td>\n",
       "      <td>...</td>\n",
       "      <td>...</td>\n",
       "      <td>...</td>\n",
       "      <td>...</td>\n",
       "      <td>...</td>\n",
       "      <td>...</td>\n",
       "      <td>...</td>\n",
       "    </tr>\n",
       "    <tr>\n",
       "      <th>2022-12-31 21:40:00-05:00</th>\n",
       "      <td>2022</td>\n",
       "      <td>12</td>\n",
       "      <td>31</td>\n",
       "      <td>21</td>\n",
       "      <td>40</td>\n",
       "      <td>82.0</td>\n",
       "      <td>2.3</td>\n",
       "      <td>3.3</td>\n",
       "      <td>1.27</td>\n",
       "      <td>8.33</td>\n",
       "      <td>6.18</td>\n",
       "      <td>101.0</td>\n",
       "      <td>1014.8</td>\n",
       "      <td>24.5</td>\n",
       "      <td>NaN</td>\n",
       "    </tr>\n",
       "    <tr>\n",
       "      <th>2022-12-31 22:10:00-05:00</th>\n",
       "      <td>2022</td>\n",
       "      <td>12</td>\n",
       "      <td>31</td>\n",
       "      <td>22</td>\n",
       "      <td>10</td>\n",
       "      <td>100.0</td>\n",
       "      <td>2.6</td>\n",
       "      <td>3.5</td>\n",
       "      <td>1.13</td>\n",
       "      <td>6.25</td>\n",
       "      <td>5.96</td>\n",
       "      <td>118.0</td>\n",
       "      <td>1014.9</td>\n",
       "      <td>24.5</td>\n",
       "      <td>NaN</td>\n",
       "    </tr>\n",
       "    <tr>\n",
       "      <th>2022-12-31 22:40:00-05:00</th>\n",
       "      <td>2022</td>\n",
       "      <td>12</td>\n",
       "      <td>31</td>\n",
       "      <td>22</td>\n",
       "      <td>40</td>\n",
       "      <td>110.0</td>\n",
       "      <td>3.2</td>\n",
       "      <td>4.5</td>\n",
       "      <td>1.22</td>\n",
       "      <td>7.69</td>\n",
       "      <td>6.19</td>\n",
       "      <td>100.0</td>\n",
       "      <td>1015.1</td>\n",
       "      <td>24.5</td>\n",
       "      <td>NaN</td>\n",
       "    </tr>\n",
       "    <tr>\n",
       "      <th>2022-12-31 23:10:00-05:00</th>\n",
       "      <td>2022</td>\n",
       "      <td>12</td>\n",
       "      <td>31</td>\n",
       "      <td>23</td>\n",
       "      <td>10</td>\n",
       "      <td>120.0</td>\n",
       "      <td>3.8</td>\n",
       "      <td>5.0</td>\n",
       "      <td>1.19</td>\n",
       "      <td>7.69</td>\n",
       "      <td>6.10</td>\n",
       "      <td>95.0</td>\n",
       "      <td>1015.0</td>\n",
       "      <td>24.5</td>\n",
       "      <td>NaN</td>\n",
       "    </tr>\n",
       "    <tr>\n",
       "      <th>2022-12-31 23:40:00-05:00</th>\n",
       "      <td>2022</td>\n",
       "      <td>12</td>\n",
       "      <td>31</td>\n",
       "      <td>23</td>\n",
       "      <td>40</td>\n",
       "      <td>120.0</td>\n",
       "      <td>3.8</td>\n",
       "      <td>5.1</td>\n",
       "      <td>1.13</td>\n",
       "      <td>7.69</td>\n",
       "      <td>5.98</td>\n",
       "      <td>93.0</td>\n",
       "      <td>1015.0</td>\n",
       "      <td>24.6</td>\n",
       "      <td>NaN</td>\n",
       "    </tr>\n",
       "  </tbody>\n",
       "</table>\n",
       "<p>332891 rows × 15 columns</p>\n",
       "</div>"
      ],
      "text/plain": [
       "                            #YY  MM  DD  hh  mm   WDIR  WSPD   GST  WVHT  \\\n",
       "timestamp                                                                  \n",
       "1980-01-01 00:00:00-05:00  1980   1   1   0   0  323.0  10.6  14.3  1.80   \n",
       "1980-01-01 01:00:00-05:00  1980   1   1   1   0  317.0  10.0  13.0  1.70   \n",
       "1980-01-01 02:00:00-05:00  1980   1   1   2   0  323.0   9.4  12.3  1.80   \n",
       "1980-01-01 03:00:00-05:00  1980   1   1   3   0  311.0   9.3  12.3  1.80   \n",
       "1980-01-01 04:00:00-05:00  1980   1   1   4   0  324.0   8.2  10.9  1.80   \n",
       "...                         ...  ..  ..  ..  ..    ...   ...   ...   ...   \n",
       "2022-12-31 21:40:00-05:00  2022  12  31  21  40   82.0   2.3   3.3  1.27   \n",
       "2022-12-31 22:10:00-05:00  2022  12  31  22  10  100.0   2.6   3.5  1.13   \n",
       "2022-12-31 22:40:00-05:00  2022  12  31  22  40  110.0   3.2   4.5  1.22   \n",
       "2022-12-31 23:10:00-05:00  2022  12  31  23  10  120.0   3.8   5.0  1.19   \n",
       "2022-12-31 23:40:00-05:00  2022  12  31  23  40  120.0   3.8   5.1  1.13   \n",
       "\n",
       "                            DPD   APD    MWD    PRES  ATMP  WTMP  \n",
       "timestamp                                                         \n",
       "1980-01-01 00:00:00-05:00  5.90  5.10    NaN  1020.2  15.6  21.1  \n",
       "1980-01-01 01:00:00-05:00  6.30  5.00    NaN  1020.7  15.6  21.1  \n",
       "1980-01-01 02:00:00-05:00  6.30  4.90    NaN  1021.3  15.6  21.1  \n",
       "1980-01-01 03:00:00-05:00  6.30  5.10    NaN  1021.8  15.7  21.2  \n",
       "1980-01-01 04:00:00-05:00  6.70  5.20    NaN  1022.0  15.4  21.2  \n",
       "...                         ...   ...    ...     ...   ...   ...  \n",
       "2022-12-31 21:40:00-05:00  8.33  6.18  101.0  1014.8  24.5   NaN  \n",
       "2022-12-31 22:10:00-05:00  6.25  5.96  118.0  1014.9  24.5   NaN  \n",
       "2022-12-31 22:40:00-05:00  7.69  6.19  100.0  1015.1  24.5   NaN  \n",
       "2022-12-31 23:10:00-05:00  7.69  6.10   95.0  1015.0  24.5   NaN  \n",
       "2022-12-31 23:40:00-05:00  7.69  5.98   93.0  1015.0  24.6   NaN  \n",
       "\n",
       "[332891 rows x 15 columns]"
      ]
     },
     "execution_count": 64,
     "metadata": {},
     "output_type": "execute_result"
    }
   ],
   "source": [
    "df['timestamp'] = pd.to_datetime(df['TSTMP'])\n",
    "df.set_index('timestamp', inplace=True)\n",
    "df.drop(['TSTMP'], axis=1, inplace=True)\n",
    "df"
   ]
  },
  {
   "cell_type": "markdown",
   "metadata": {},
   "source": [
    "### This is a lot of data. Let's take periodic samples, every six hours"
   ]
  },
  {
   "cell_type": "code",
   "execution_count": 65,
   "metadata": {},
   "outputs": [
    {
     "data": {
      "text/html": [
       "<div>\n",
       "<style scoped>\n",
       "    .dataframe tbody tr th:only-of-type {\n",
       "        vertical-align: middle;\n",
       "    }\n",
       "\n",
       "    .dataframe tbody tr th {\n",
       "        vertical-align: top;\n",
       "    }\n",
       "\n",
       "    .dataframe thead th {\n",
       "        text-align: right;\n",
       "    }\n",
       "</style>\n",
       "<table border=\"1\" class=\"dataframe\">\n",
       "  <thead>\n",
       "    <tr style=\"text-align: right;\">\n",
       "      <th></th>\n",
       "      <th>#YY</th>\n",
       "      <th>MM</th>\n",
       "      <th>DD</th>\n",
       "      <th>hh</th>\n",
       "      <th>mm</th>\n",
       "      <th>WDIR</th>\n",
       "      <th>WSPD</th>\n",
       "      <th>GST</th>\n",
       "      <th>WVHT</th>\n",
       "      <th>DPD</th>\n",
       "      <th>APD</th>\n",
       "      <th>MWD</th>\n",
       "      <th>PRES</th>\n",
       "      <th>ATMP</th>\n",
       "      <th>WTMP</th>\n",
       "    </tr>\n",
       "    <tr>\n",
       "      <th>timestamp</th>\n",
       "      <th></th>\n",
       "      <th></th>\n",
       "      <th></th>\n",
       "      <th></th>\n",
       "      <th></th>\n",
       "      <th></th>\n",
       "      <th></th>\n",
       "      <th></th>\n",
       "      <th></th>\n",
       "      <th></th>\n",
       "      <th></th>\n",
       "      <th></th>\n",
       "      <th></th>\n",
       "      <th></th>\n",
       "      <th></th>\n",
       "    </tr>\n",
       "  </thead>\n",
       "  <tbody>\n",
       "    <tr>\n",
       "      <th>1980-01-01 00:00:00-05:00</th>\n",
       "      <td>1980</td>\n",
       "      <td>1</td>\n",
       "      <td>1</td>\n",
       "      <td>0</td>\n",
       "      <td>0</td>\n",
       "      <td>323.0</td>\n",
       "      <td>10.6</td>\n",
       "      <td>14.3</td>\n",
       "      <td>1.80</td>\n",
       "      <td>5.90</td>\n",
       "      <td>5.10</td>\n",
       "      <td>NaN</td>\n",
       "      <td>1020.2</td>\n",
       "      <td>15.6</td>\n",
       "      <td>21.1</td>\n",
       "    </tr>\n",
       "    <tr>\n",
       "      <th>1980-01-01 06:00:00-05:00</th>\n",
       "      <td>1980</td>\n",
       "      <td>1</td>\n",
       "      <td>1</td>\n",
       "      <td>6</td>\n",
       "      <td>0</td>\n",
       "      <td>339.0</td>\n",
       "      <td>8.1</td>\n",
       "      <td>10.3</td>\n",
       "      <td>1.60</td>\n",
       "      <td>6.70</td>\n",
       "      <td>5.10</td>\n",
       "      <td>NaN</td>\n",
       "      <td>1021.9</td>\n",
       "      <td>15.4</td>\n",
       "      <td>21.2</td>\n",
       "    </tr>\n",
       "    <tr>\n",
       "      <th>1980-01-01 12:00:00-05:00</th>\n",
       "      <td>1980</td>\n",
       "      <td>1</td>\n",
       "      <td>1</td>\n",
       "      <td>12</td>\n",
       "      <td>0</td>\n",
       "      <td>344.0</td>\n",
       "      <td>7.5</td>\n",
       "      <td>9.7</td>\n",
       "      <td>1.30</td>\n",
       "      <td>6.30</td>\n",
       "      <td>4.70</td>\n",
       "      <td>NaN</td>\n",
       "      <td>1020.7</td>\n",
       "      <td>15.4</td>\n",
       "      <td>21.1</td>\n",
       "    </tr>\n",
       "    <tr>\n",
       "      <th>1980-01-01 18:00:00-05:00</th>\n",
       "      <td>1980</td>\n",
       "      <td>1</td>\n",
       "      <td>1</td>\n",
       "      <td>18</td>\n",
       "      <td>0</td>\n",
       "      <td>352.0</td>\n",
       "      <td>5.3</td>\n",
       "      <td>7.6</td>\n",
       "      <td>1.10</td>\n",
       "      <td>5.90</td>\n",
       "      <td>4.80</td>\n",
       "      <td>NaN</td>\n",
       "      <td>1022.2</td>\n",
       "      <td>16.1</td>\n",
       "      <td>21.1</td>\n",
       "    </tr>\n",
       "    <tr>\n",
       "      <th>1980-01-02 00:00:00-05:00</th>\n",
       "      <td>1980</td>\n",
       "      <td>1</td>\n",
       "      <td>2</td>\n",
       "      <td>0</td>\n",
       "      <td>0</td>\n",
       "      <td>2.0</td>\n",
       "      <td>3.5</td>\n",
       "      <td>5.6</td>\n",
       "      <td>0.70</td>\n",
       "      <td>5.90</td>\n",
       "      <td>4.60</td>\n",
       "      <td>NaN</td>\n",
       "      <td>1020.0</td>\n",
       "      <td>15.7</td>\n",
       "      <td>21.0</td>\n",
       "    </tr>\n",
       "    <tr>\n",
       "      <th>...</th>\n",
       "      <td>...</td>\n",
       "      <td>...</td>\n",
       "      <td>...</td>\n",
       "      <td>...</td>\n",
       "      <td>...</td>\n",
       "      <td>...</td>\n",
       "      <td>...</td>\n",
       "      <td>...</td>\n",
       "      <td>...</td>\n",
       "      <td>...</td>\n",
       "      <td>...</td>\n",
       "      <td>...</td>\n",
       "      <td>...</td>\n",
       "      <td>...</td>\n",
       "      <td>...</td>\n",
       "    </tr>\n",
       "    <tr>\n",
       "      <th>2022-12-31 06:40:00-05:00</th>\n",
       "      <td>2022</td>\n",
       "      <td>12</td>\n",
       "      <td>31</td>\n",
       "      <td>6</td>\n",
       "      <td>40</td>\n",
       "      <td>135.0</td>\n",
       "      <td>2.6</td>\n",
       "      <td>3.9</td>\n",
       "      <td>1.68</td>\n",
       "      <td>8.33</td>\n",
       "      <td>6.01</td>\n",
       "      <td>107.0</td>\n",
       "      <td>1014.5</td>\n",
       "      <td>24.6</td>\n",
       "      <td>NaN</td>\n",
       "    </tr>\n",
       "    <tr>\n",
       "      <th>2022-12-31 12:10:00-05:00</th>\n",
       "      <td>2022</td>\n",
       "      <td>12</td>\n",
       "      <td>31</td>\n",
       "      <td>12</td>\n",
       "      <td>10</td>\n",
       "      <td>259.0</td>\n",
       "      <td>3.4</td>\n",
       "      <td>5.0</td>\n",
       "      <td>1.57</td>\n",
       "      <td>7.69</td>\n",
       "      <td>6.19</td>\n",
       "      <td>115.0</td>\n",
       "      <td>1015.5</td>\n",
       "      <td>24.6</td>\n",
       "      <td>NaN</td>\n",
       "    </tr>\n",
       "    <tr>\n",
       "      <th>2022-12-31 12:40:00-05:00</th>\n",
       "      <td>2022</td>\n",
       "      <td>12</td>\n",
       "      <td>31</td>\n",
       "      <td>12</td>\n",
       "      <td>40</td>\n",
       "      <td>276.0</td>\n",
       "      <td>3.2</td>\n",
       "      <td>4.5</td>\n",
       "      <td>1.45</td>\n",
       "      <td>7.69</td>\n",
       "      <td>6.14</td>\n",
       "      <td>109.0</td>\n",
       "      <td>1015.8</td>\n",
       "      <td>24.6</td>\n",
       "      <td>NaN</td>\n",
       "    </tr>\n",
       "    <tr>\n",
       "      <th>2022-12-31 18:10:00-05:00</th>\n",
       "      <td>2022</td>\n",
       "      <td>12</td>\n",
       "      <td>31</td>\n",
       "      <td>18</td>\n",
       "      <td>10</td>\n",
       "      <td>23.0</td>\n",
       "      <td>0.3</td>\n",
       "      <td>1.2</td>\n",
       "      <td>1.34</td>\n",
       "      <td>7.14</td>\n",
       "      <td>6.25</td>\n",
       "      <td>109.0</td>\n",
       "      <td>1016.6</td>\n",
       "      <td>25.5</td>\n",
       "      <td>NaN</td>\n",
       "    </tr>\n",
       "    <tr>\n",
       "      <th>2022-12-31 18:40:00-05:00</th>\n",
       "      <td>2022</td>\n",
       "      <td>12</td>\n",
       "      <td>31</td>\n",
       "      <td>18</td>\n",
       "      <td>40</td>\n",
       "      <td>18.0</td>\n",
       "      <td>1.1</td>\n",
       "      <td>2.1</td>\n",
       "      <td>1.40</td>\n",
       "      <td>7.69</td>\n",
       "      <td>6.27</td>\n",
       "      <td>99.0</td>\n",
       "      <td>1016.2</td>\n",
       "      <td>25.1</td>\n",
       "      <td>NaN</td>\n",
       "    </tr>\n",
       "  </tbody>\n",
       "</table>\n",
       "<p>56537 rows × 15 columns</p>\n",
       "</div>"
      ],
      "text/plain": [
       "                            #YY  MM  DD  hh  mm   WDIR  WSPD   GST  WVHT  \\\n",
       "timestamp                                                                  \n",
       "1980-01-01 00:00:00-05:00  1980   1   1   0   0  323.0  10.6  14.3  1.80   \n",
       "1980-01-01 06:00:00-05:00  1980   1   1   6   0  339.0   8.1  10.3  1.60   \n",
       "1980-01-01 12:00:00-05:00  1980   1   1  12   0  344.0   7.5   9.7  1.30   \n",
       "1980-01-01 18:00:00-05:00  1980   1   1  18   0  352.0   5.3   7.6  1.10   \n",
       "1980-01-02 00:00:00-05:00  1980   1   2   0   0    2.0   3.5   5.6  0.70   \n",
       "...                         ...  ..  ..  ..  ..    ...   ...   ...   ...   \n",
       "2022-12-31 06:40:00-05:00  2022  12  31   6  40  135.0   2.6   3.9  1.68   \n",
       "2022-12-31 12:10:00-05:00  2022  12  31  12  10  259.0   3.4   5.0  1.57   \n",
       "2022-12-31 12:40:00-05:00  2022  12  31  12  40  276.0   3.2   4.5  1.45   \n",
       "2022-12-31 18:10:00-05:00  2022  12  31  18  10   23.0   0.3   1.2  1.34   \n",
       "2022-12-31 18:40:00-05:00  2022  12  31  18  40   18.0   1.1   2.1  1.40   \n",
       "\n",
       "                            DPD   APD    MWD    PRES  ATMP  WTMP  \n",
       "timestamp                                                         \n",
       "1980-01-01 00:00:00-05:00  5.90  5.10    NaN  1020.2  15.6  21.1  \n",
       "1980-01-01 06:00:00-05:00  6.70  5.10    NaN  1021.9  15.4  21.2  \n",
       "1980-01-01 12:00:00-05:00  6.30  4.70    NaN  1020.7  15.4  21.1  \n",
       "1980-01-01 18:00:00-05:00  5.90  4.80    NaN  1022.2  16.1  21.1  \n",
       "1980-01-02 00:00:00-05:00  5.90  4.60    NaN  1020.0  15.7  21.0  \n",
       "...                         ...   ...    ...     ...   ...   ...  \n",
       "2022-12-31 06:40:00-05:00  8.33  6.01  107.0  1014.5  24.6   NaN  \n",
       "2022-12-31 12:10:00-05:00  7.69  6.19  115.0  1015.5  24.6   NaN  \n",
       "2022-12-31 12:40:00-05:00  7.69  6.14  109.0  1015.8  24.6   NaN  \n",
       "2022-12-31 18:10:00-05:00  7.14  6.25  109.0  1016.6  25.5   NaN  \n",
       "2022-12-31 18:40:00-05:00  7.69  6.27   99.0  1016.2  25.1   NaN  \n",
       "\n",
       "[56537 rows x 15 columns]"
      ]
     },
     "execution_count": 65,
     "metadata": {},
     "output_type": "execute_result"
    }
   ],
   "source": [
    "df = df[df.index.hour % 6 == 0]\n",
    "df"
   ]
  },
  {
   "cell_type": "markdown",
   "metadata": {},
   "source": [
    "## I dont want some of this data - it will not be useful"
   ]
  },
  {
   "cell_type": "code",
   "execution_count": 66,
   "metadata": {},
   "outputs": [
    {
     "data": {
      "text/html": [
       "<div>\n",
       "<style scoped>\n",
       "    .dataframe tbody tr th:only-of-type {\n",
       "        vertical-align: middle;\n",
       "    }\n",
       "\n",
       "    .dataframe tbody tr th {\n",
       "        vertical-align: top;\n",
       "    }\n",
       "\n",
       "    .dataframe thead th {\n",
       "        text-align: right;\n",
       "    }\n",
       "</style>\n",
       "<table border=\"1\" class=\"dataframe\">\n",
       "  <thead>\n",
       "    <tr style=\"text-align: right;\">\n",
       "      <th></th>\n",
       "      <th>WDIR</th>\n",
       "      <th>WSPD</th>\n",
       "      <th>GST</th>\n",
       "      <th>WVHT</th>\n",
       "      <th>MWD</th>\n",
       "      <th>PRES</th>\n",
       "      <th>ATMP</th>\n",
       "      <th>WTMP</th>\n",
       "    </tr>\n",
       "    <tr>\n",
       "      <th>timestamp</th>\n",
       "      <th></th>\n",
       "      <th></th>\n",
       "      <th></th>\n",
       "      <th></th>\n",
       "      <th></th>\n",
       "      <th></th>\n",
       "      <th></th>\n",
       "      <th></th>\n",
       "    </tr>\n",
       "  </thead>\n",
       "  <tbody>\n",
       "    <tr>\n",
       "      <th>1980-01-01 00:00:00-05:00</th>\n",
       "      <td>323.0</td>\n",
       "      <td>10.6</td>\n",
       "      <td>14.3</td>\n",
       "      <td>1.80</td>\n",
       "      <td>NaN</td>\n",
       "      <td>1020.2</td>\n",
       "      <td>15.6</td>\n",
       "      <td>21.1</td>\n",
       "    </tr>\n",
       "    <tr>\n",
       "      <th>1980-01-01 06:00:00-05:00</th>\n",
       "      <td>339.0</td>\n",
       "      <td>8.1</td>\n",
       "      <td>10.3</td>\n",
       "      <td>1.60</td>\n",
       "      <td>NaN</td>\n",
       "      <td>1021.9</td>\n",
       "      <td>15.4</td>\n",
       "      <td>21.2</td>\n",
       "    </tr>\n",
       "    <tr>\n",
       "      <th>1980-01-01 12:00:00-05:00</th>\n",
       "      <td>344.0</td>\n",
       "      <td>7.5</td>\n",
       "      <td>9.7</td>\n",
       "      <td>1.30</td>\n",
       "      <td>NaN</td>\n",
       "      <td>1020.7</td>\n",
       "      <td>15.4</td>\n",
       "      <td>21.1</td>\n",
       "    </tr>\n",
       "    <tr>\n",
       "      <th>1980-01-01 18:00:00-05:00</th>\n",
       "      <td>352.0</td>\n",
       "      <td>5.3</td>\n",
       "      <td>7.6</td>\n",
       "      <td>1.10</td>\n",
       "      <td>NaN</td>\n",
       "      <td>1022.2</td>\n",
       "      <td>16.1</td>\n",
       "      <td>21.1</td>\n",
       "    </tr>\n",
       "    <tr>\n",
       "      <th>1980-01-02 00:00:00-05:00</th>\n",
       "      <td>2.0</td>\n",
       "      <td>3.5</td>\n",
       "      <td>5.6</td>\n",
       "      <td>0.70</td>\n",
       "      <td>NaN</td>\n",
       "      <td>1020.0</td>\n",
       "      <td>15.7</td>\n",
       "      <td>21.0</td>\n",
       "    </tr>\n",
       "    <tr>\n",
       "      <th>...</th>\n",
       "      <td>...</td>\n",
       "      <td>...</td>\n",
       "      <td>...</td>\n",
       "      <td>...</td>\n",
       "      <td>...</td>\n",
       "      <td>...</td>\n",
       "      <td>...</td>\n",
       "      <td>...</td>\n",
       "    </tr>\n",
       "    <tr>\n",
       "      <th>2022-12-31 06:40:00-05:00</th>\n",
       "      <td>135.0</td>\n",
       "      <td>2.6</td>\n",
       "      <td>3.9</td>\n",
       "      <td>1.68</td>\n",
       "      <td>107.0</td>\n",
       "      <td>1014.5</td>\n",
       "      <td>24.6</td>\n",
       "      <td>NaN</td>\n",
       "    </tr>\n",
       "    <tr>\n",
       "      <th>2022-12-31 12:10:00-05:00</th>\n",
       "      <td>259.0</td>\n",
       "      <td>3.4</td>\n",
       "      <td>5.0</td>\n",
       "      <td>1.57</td>\n",
       "      <td>115.0</td>\n",
       "      <td>1015.5</td>\n",
       "      <td>24.6</td>\n",
       "      <td>NaN</td>\n",
       "    </tr>\n",
       "    <tr>\n",
       "      <th>2022-12-31 12:40:00-05:00</th>\n",
       "      <td>276.0</td>\n",
       "      <td>3.2</td>\n",
       "      <td>4.5</td>\n",
       "      <td>1.45</td>\n",
       "      <td>109.0</td>\n",
       "      <td>1015.8</td>\n",
       "      <td>24.6</td>\n",
       "      <td>NaN</td>\n",
       "    </tr>\n",
       "    <tr>\n",
       "      <th>2022-12-31 18:10:00-05:00</th>\n",
       "      <td>23.0</td>\n",
       "      <td>0.3</td>\n",
       "      <td>1.2</td>\n",
       "      <td>1.34</td>\n",
       "      <td>109.0</td>\n",
       "      <td>1016.6</td>\n",
       "      <td>25.5</td>\n",
       "      <td>NaN</td>\n",
       "    </tr>\n",
       "    <tr>\n",
       "      <th>2022-12-31 18:40:00-05:00</th>\n",
       "      <td>18.0</td>\n",
       "      <td>1.1</td>\n",
       "      <td>2.1</td>\n",
       "      <td>1.40</td>\n",
       "      <td>99.0</td>\n",
       "      <td>1016.2</td>\n",
       "      <td>25.1</td>\n",
       "      <td>NaN</td>\n",
       "    </tr>\n",
       "  </tbody>\n",
       "</table>\n",
       "<p>56537 rows × 8 columns</p>\n",
       "</div>"
      ],
      "text/plain": [
       "                            WDIR  WSPD   GST  WVHT    MWD    PRES  ATMP  WTMP\n",
       "timestamp                                                                    \n",
       "1980-01-01 00:00:00-05:00  323.0  10.6  14.3  1.80    NaN  1020.2  15.6  21.1\n",
       "1980-01-01 06:00:00-05:00  339.0   8.1  10.3  1.60    NaN  1021.9  15.4  21.2\n",
       "1980-01-01 12:00:00-05:00  344.0   7.5   9.7  1.30    NaN  1020.7  15.4  21.1\n",
       "1980-01-01 18:00:00-05:00  352.0   5.3   7.6  1.10    NaN  1022.2  16.1  21.1\n",
       "1980-01-02 00:00:00-05:00    2.0   3.5   5.6  0.70    NaN  1020.0  15.7  21.0\n",
       "...                          ...   ...   ...   ...    ...     ...   ...   ...\n",
       "2022-12-31 06:40:00-05:00  135.0   2.6   3.9  1.68  107.0  1014.5  24.6   NaN\n",
       "2022-12-31 12:10:00-05:00  259.0   3.4   5.0  1.57  115.0  1015.5  24.6   NaN\n",
       "2022-12-31 12:40:00-05:00  276.0   3.2   4.5  1.45  109.0  1015.8  24.6   NaN\n",
       "2022-12-31 18:10:00-05:00   23.0   0.3   1.2  1.34  109.0  1016.6  25.5   NaN\n",
       "2022-12-31 18:40:00-05:00   18.0   1.1   2.1  1.40   99.0  1016.2  25.1   NaN\n",
       "\n",
       "[56537 rows x 8 columns]"
      ]
     },
     "execution_count": 66,
     "metadata": {},
     "output_type": "execute_result"
    }
   ],
   "source": [
    "df = df.drop(['#YY', 'MM', 'DD', 'hh', 'mm', 'DPD', 'APD'], axis=1)\n",
    "df"
   ]
  },
  {
   "cell_type": "markdown",
   "metadata": {},
   "source": [
    "### I like to give some good names to the data and drop NA values. We can se how dropping the NA values drasticaally reduced our dataset"
   ]
  },
  {
   "cell_type": "code",
   "execution_count": 67,
   "metadata": {},
   "outputs": [
    {
     "data": {
      "text/html": [
       "<div>\n",
       "<style scoped>\n",
       "    .dataframe tbody tr th:only-of-type {\n",
       "        vertical-align: middle;\n",
       "    }\n",
       "\n",
       "    .dataframe tbody tr th {\n",
       "        vertical-align: top;\n",
       "    }\n",
       "\n",
       "    .dataframe thead th {\n",
       "        text-align: right;\n",
       "    }\n",
       "</style>\n",
       "<table border=\"1\" class=\"dataframe\">\n",
       "  <thead>\n",
       "    <tr style=\"text-align: right;\">\n",
       "      <th></th>\n",
       "      <th>wind dir (deg)</th>\n",
       "      <th>wind spd (m/s)</th>\n",
       "      <th>wind gst (m/s)</th>\n",
       "      <th>wave hgt (ft)</th>\n",
       "      <th>mean wave dir (deg)</th>\n",
       "      <th>air pres (ft)</th>\n",
       "      <th>air temp (deg fah)</th>\n",
       "      <th>water temp (deg fah)</th>\n",
       "    </tr>\n",
       "    <tr>\n",
       "      <th>timestamp</th>\n",
       "      <th></th>\n",
       "      <th></th>\n",
       "      <th></th>\n",
       "      <th></th>\n",
       "      <th></th>\n",
       "      <th></th>\n",
       "      <th></th>\n",
       "      <th></th>\n",
       "    </tr>\n",
       "  </thead>\n",
       "  <tbody>\n",
       "    <tr>\n",
       "      <th>1994-08-17 18:00:00-05:00</th>\n",
       "      <td>185.0</td>\n",
       "      <td>6.0</td>\n",
       "      <td>7.6</td>\n",
       "      <td>0.50</td>\n",
       "      <td>168.0</td>\n",
       "      <td>1016.5</td>\n",
       "      <td>29.7</td>\n",
       "      <td>29.7</td>\n",
       "    </tr>\n",
       "    <tr>\n",
       "      <th>1994-08-18 00:00:00-05:00</th>\n",
       "      <td>325.0</td>\n",
       "      <td>0.7</td>\n",
       "      <td>1.3</td>\n",
       "      <td>0.60</td>\n",
       "      <td>128.0</td>\n",
       "      <td>1015.1</td>\n",
       "      <td>30.7</td>\n",
       "      <td>29.9</td>\n",
       "    </tr>\n",
       "    <tr>\n",
       "      <th>1994-08-18 06:00:00-05:00</th>\n",
       "      <td>132.0</td>\n",
       "      <td>7.1</td>\n",
       "      <td>8.8</td>\n",
       "      <td>0.80</td>\n",
       "      <td>73.0</td>\n",
       "      <td>1016.4</td>\n",
       "      <td>28.6</td>\n",
       "      <td>29.7</td>\n",
       "    </tr>\n",
       "    <tr>\n",
       "      <th>1994-08-18 12:00:00-05:00</th>\n",
       "      <td>180.0</td>\n",
       "      <td>6.0</td>\n",
       "      <td>7.1</td>\n",
       "      <td>1.10</td>\n",
       "      <td>153.0</td>\n",
       "      <td>1016.1</td>\n",
       "      <td>29.0</td>\n",
       "      <td>29.3</td>\n",
       "    </tr>\n",
       "    <tr>\n",
       "      <th>1995-02-01 06:00:00-05:00</th>\n",
       "      <td>159.0</td>\n",
       "      <td>4.6</td>\n",
       "      <td>6.1</td>\n",
       "      <td>0.40</td>\n",
       "      <td>17.0</td>\n",
       "      <td>1020.2</td>\n",
       "      <td>17.5</td>\n",
       "      <td>23.0</td>\n",
       "    </tr>\n",
       "    <tr>\n",
       "      <th>...</th>\n",
       "      <td>...</td>\n",
       "      <td>...</td>\n",
       "      <td>...</td>\n",
       "      <td>...</td>\n",
       "      <td>...</td>\n",
       "      <td>...</td>\n",
       "      <td>...</td>\n",
       "      <td>...</td>\n",
       "    </tr>\n",
       "    <tr>\n",
       "      <th>2022-10-20 00:40:00-05:00</th>\n",
       "      <td>8.0</td>\n",
       "      <td>6.4</td>\n",
       "      <td>9.9</td>\n",
       "      <td>1.51</td>\n",
       "      <td>18.0</td>\n",
       "      <td>1022.7</td>\n",
       "      <td>19.6</td>\n",
       "      <td>27.6</td>\n",
       "    </tr>\n",
       "    <tr>\n",
       "      <th>2022-10-20 06:40:00-05:00</th>\n",
       "      <td>9.0</td>\n",
       "      <td>4.0</td>\n",
       "      <td>6.6</td>\n",
       "      <td>1.07</td>\n",
       "      <td>56.0</td>\n",
       "      <td>1022.3</td>\n",
       "      <td>19.7</td>\n",
       "      <td>27.6</td>\n",
       "    </tr>\n",
       "    <tr>\n",
       "      <th>2022-10-20 12:40:00-05:00</th>\n",
       "      <td>11.0</td>\n",
       "      <td>3.9</td>\n",
       "      <td>6.2</td>\n",
       "      <td>0.93</td>\n",
       "      <td>63.0</td>\n",
       "      <td>1020.7</td>\n",
       "      <td>20.3</td>\n",
       "      <td>27.4</td>\n",
       "    </tr>\n",
       "    <tr>\n",
       "      <th>2022-10-20 18:40:00-05:00</th>\n",
       "      <td>37.0</td>\n",
       "      <td>4.1</td>\n",
       "      <td>6.9</td>\n",
       "      <td>0.69</td>\n",
       "      <td>63.0</td>\n",
       "      <td>1020.2</td>\n",
       "      <td>21.2</td>\n",
       "      <td>27.4</td>\n",
       "    </tr>\n",
       "    <tr>\n",
       "      <th>2022-10-21 00:40:00-05:00</th>\n",
       "      <td>66.0</td>\n",
       "      <td>4.4</td>\n",
       "      <td>5.7</td>\n",
       "      <td>0.47</td>\n",
       "      <td>62.0</td>\n",
       "      <td>1018.3</td>\n",
       "      <td>22.0</td>\n",
       "      <td>27.4</td>\n",
       "    </tr>\n",
       "  </tbody>\n",
       "</table>\n",
       "<p>28947 rows × 8 columns</p>\n",
       "</div>"
      ],
      "text/plain": [
       "                           wind dir (deg)  wind spd (m/s)  wind gst (m/s)  \\\n",
       "timestamp                                                                   \n",
       "1994-08-17 18:00:00-05:00           185.0             6.0             7.6   \n",
       "1994-08-18 00:00:00-05:00           325.0             0.7             1.3   \n",
       "1994-08-18 06:00:00-05:00           132.0             7.1             8.8   \n",
       "1994-08-18 12:00:00-05:00           180.0             6.0             7.1   \n",
       "1995-02-01 06:00:00-05:00           159.0             4.6             6.1   \n",
       "...                                   ...             ...             ...   \n",
       "2022-10-20 00:40:00-05:00             8.0             6.4             9.9   \n",
       "2022-10-20 06:40:00-05:00             9.0             4.0             6.6   \n",
       "2022-10-20 12:40:00-05:00            11.0             3.9             6.2   \n",
       "2022-10-20 18:40:00-05:00            37.0             4.1             6.9   \n",
       "2022-10-21 00:40:00-05:00            66.0             4.4             5.7   \n",
       "\n",
       "                           wave hgt (ft)  mean wave dir (deg)  air pres (ft)  \\\n",
       "timestamp                                                                      \n",
       "1994-08-17 18:00:00-05:00           0.50                168.0         1016.5   \n",
       "1994-08-18 00:00:00-05:00           0.60                128.0         1015.1   \n",
       "1994-08-18 06:00:00-05:00           0.80                 73.0         1016.4   \n",
       "1994-08-18 12:00:00-05:00           1.10                153.0         1016.1   \n",
       "1995-02-01 06:00:00-05:00           0.40                 17.0         1020.2   \n",
       "...                                  ...                  ...            ...   \n",
       "2022-10-20 00:40:00-05:00           1.51                 18.0         1022.7   \n",
       "2022-10-20 06:40:00-05:00           1.07                 56.0         1022.3   \n",
       "2022-10-20 12:40:00-05:00           0.93                 63.0         1020.7   \n",
       "2022-10-20 18:40:00-05:00           0.69                 63.0         1020.2   \n",
       "2022-10-21 00:40:00-05:00           0.47                 62.0         1018.3   \n",
       "\n",
       "                           air temp (deg fah)  water temp (deg fah)  \n",
       "timestamp                                                            \n",
       "1994-08-17 18:00:00-05:00                29.7                  29.7  \n",
       "1994-08-18 00:00:00-05:00                30.7                  29.9  \n",
       "1994-08-18 06:00:00-05:00                28.6                  29.7  \n",
       "1994-08-18 12:00:00-05:00                29.0                  29.3  \n",
       "1995-02-01 06:00:00-05:00                17.5                  23.0  \n",
       "...                                       ...                   ...  \n",
       "2022-10-20 00:40:00-05:00                19.6                  27.6  \n",
       "2022-10-20 06:40:00-05:00                19.7                  27.6  \n",
       "2022-10-20 12:40:00-05:00                20.3                  27.4  \n",
       "2022-10-20 18:40:00-05:00                21.2                  27.4  \n",
       "2022-10-21 00:40:00-05:00                22.0                  27.4  \n",
       "\n",
       "[28947 rows x 8 columns]"
      ]
     },
     "execution_count": 67,
     "metadata": {},
     "output_type": "execute_result"
    }
   ],
   "source": [
    "df.rename(columns={'WDIR': 'wind dir (deg)', 'WSPD': 'wind spd (m/s)', 'GST': 'wind gst (m/s)', 'WVHT': 'wave hgt (ft)', 'MWD': 'mean wave dir (deg)', 'PRES': 'air pres (ft)', 'ATMP': 'air temp (deg fah)', 'WTMP': 'water temp (deg fah)'}, inplace=True)\n",
    "df = df.dropna()\n",
    "df"
   ]
  },
  {
   "cell_type": "markdown",
   "metadata": {},
   "source": [
    "### Now we can see how various environmental factors affect the water behavior"
   ]
  },
  {
   "cell_type": "markdown",
   "metadata": {},
   "source": [
    "### Let's start with a single variable prediction, then move onto multivariate predictions"
   ]
  },
  {
   "cell_type": "code",
   "execution_count": 68,
   "metadata": {},
   "outputs": [],
   "source": [
    "#4 is equal to about a days worth of data - 4 six hour increments\n",
    "def prediction(df, window=4):\n",
    "    df_as_np = df.to_numpy()\n",
    "    X = []\n",
    "    y = []\n",
    "    for i in range (len(df_as_np) - window):\n",
    "        row = [[a] for a in df_as_np[i:i+window]]\n",
    "        X.append(row)\n",
    "        label = df_as_np[i+window]\n",
    "        y.append(label)\n",
    "    return np.array(X), np.array(y)\n"
   ]
  },
  {
   "cell_type": "code",
   "execution_count": 69,
   "metadata": {},
   "outputs": [
    {
     "data": {
      "text/plain": [
       "((28943, 4, 1), (28943,))"
      ]
     },
     "execution_count": 69,
     "metadata": {},
     "output_type": "execute_result"
    }
   ],
   "source": [
    "water_temp = df['water temp (deg fah)']\n",
    "WINDOW_SIZE = 4\n",
    "X1, y1 = prediction(water_temp, window=WINDOW_SIZE)\n",
    "X1.shape, y1.shape\n",
    "\n"
   ]
  },
  {
   "cell_type": "markdown",
   "metadata": {},
   "source": [
    "### Split the data into training, validation and test"
   ]
  },
  {
   "cell_type": "code",
   "execution_count": 70,
   "metadata": {},
   "outputs": [],
   "source": [
    "X1_train, y1_train = X1[:int(0.7*len(X1))], y1[:int(0.7*len(y1))] #first 70 for train\n",
    "X1_val, y1_val = X1[int(0.7*len(X1)):int(0.9*len(X1))], y1[int(0.7*len(y1)):int(0.9*len(y1))] #70 to 90 for validation\n",
    "X1_test, y1_test = X1[int(0.9*len(X1)):], y1[int(0.9*len(y1)):] #last 10 for test"
   ]
  },
  {
   "cell_type": "code",
   "execution_count": 71,
   "metadata": {},
   "outputs": [
    {
     "data": {
      "text/html": [
       "<pre style=\"white-space:pre;overflow-x:auto;line-height:normal;font-family:Menlo,'DejaVu Sans Mono',consolas,'Courier New',monospace\"><span style=\"font-weight: bold\">Model: \"sequential_5\"</span>\n",
       "</pre>\n"
      ],
      "text/plain": [
       "\u001b[1mModel: \"sequential_5\"\u001b[0m\n"
      ]
     },
     "metadata": {},
     "output_type": "display_data"
    },
    {
     "data": {
      "text/html": [
       "<pre style=\"white-space:pre;overflow-x:auto;line-height:normal;font-family:Menlo,'DejaVu Sans Mono',consolas,'Courier New',monospace\">┏━━━━━━━━━━━━━━━━━━━━━━━━━━━━━━━━━┳━━━━━━━━━━━━━━━━━━━━━━━━┳━━━━━━━━━━━━━━━┓\n",
       "┃<span style=\"font-weight: bold\"> Layer (type)                    </span>┃<span style=\"font-weight: bold\"> Output Shape           </span>┃<span style=\"font-weight: bold\">       Param # </span>┃\n",
       "┡━━━━━━━━━━━━━━━━━━━━━━━━━━━━━━━━━╇━━━━━━━━━━━━━━━━━━━━━━━━╇━━━━━━━━━━━━━━━┩\n",
       "│ lstm_5 (<span style=\"color: #0087ff; text-decoration-color: #0087ff\">LSTM</span>)                   │ (<span style=\"color: #00d7ff; text-decoration-color: #00d7ff\">None</span>, <span style=\"color: #00af00; text-decoration-color: #00af00\">64</span>)             │        <span style=\"color: #00af00; text-decoration-color: #00af00\">16,896</span> │\n",
       "├─────────────────────────────────┼────────────────────────┼───────────────┤\n",
       "│ dense_9 (<span style=\"color: #0087ff; text-decoration-color: #0087ff\">Dense</span>)                 │ (<span style=\"color: #00d7ff; text-decoration-color: #00d7ff\">None</span>, <span style=\"color: #00af00; text-decoration-color: #00af00\">8</span>)              │           <span style=\"color: #00af00; text-decoration-color: #00af00\">520</span> │\n",
       "├─────────────────────────────────┼────────────────────────┼───────────────┤\n",
       "│ dense_10 (<span style=\"color: #0087ff; text-decoration-color: #0087ff\">Dense</span>)                │ (<span style=\"color: #00d7ff; text-decoration-color: #00d7ff\">None</span>, <span style=\"color: #00af00; text-decoration-color: #00af00\">1</span>)              │             <span style=\"color: #00af00; text-decoration-color: #00af00\">9</span> │\n",
       "└─────────────────────────────────┴────────────────────────┴───────────────┘\n",
       "</pre>\n"
      ],
      "text/plain": [
       "┏━━━━━━━━━━━━━━━━━━━━━━━━━━━━━━━━━┳━━━━━━━━━━━━━━━━━━━━━━━━┳━━━━━━━━━━━━━━━┓\n",
       "┃\u001b[1m \u001b[0m\u001b[1mLayer (type)                   \u001b[0m\u001b[1m \u001b[0m┃\u001b[1m \u001b[0m\u001b[1mOutput Shape          \u001b[0m\u001b[1m \u001b[0m┃\u001b[1m \u001b[0m\u001b[1m      Param #\u001b[0m\u001b[1m \u001b[0m┃\n",
       "┡━━━━━━━━━━━━━━━━━━━━━━━━━━━━━━━━━╇━━━━━━━━━━━━━━━━━━━━━━━━╇━━━━━━━━━━━━━━━┩\n",
       "│ lstm_5 (\u001b[38;5;33mLSTM\u001b[0m)                   │ (\u001b[38;5;45mNone\u001b[0m, \u001b[38;5;34m64\u001b[0m)             │        \u001b[38;5;34m16,896\u001b[0m │\n",
       "├─────────────────────────────────┼────────────────────────┼───────────────┤\n",
       "│ dense_9 (\u001b[38;5;33mDense\u001b[0m)                 │ (\u001b[38;5;45mNone\u001b[0m, \u001b[38;5;34m8\u001b[0m)              │           \u001b[38;5;34m520\u001b[0m │\n",
       "├─────────────────────────────────┼────────────────────────┼───────────────┤\n",
       "│ dense_10 (\u001b[38;5;33mDense\u001b[0m)                │ (\u001b[38;5;45mNone\u001b[0m, \u001b[38;5;34m1\u001b[0m)              │             \u001b[38;5;34m9\u001b[0m │\n",
       "└─────────────────────────────────┴────────────────────────┴───────────────┘\n"
      ]
     },
     "metadata": {},
     "output_type": "display_data"
    },
    {
     "data": {
      "text/html": [
       "<pre style=\"white-space:pre;overflow-x:auto;line-height:normal;font-family:Menlo,'DejaVu Sans Mono',consolas,'Courier New',monospace\"><span style=\"font-weight: bold\"> Total params: </span><span style=\"color: #00af00; text-decoration-color: #00af00\">17,425</span> (68.07 KB)\n",
       "</pre>\n"
      ],
      "text/plain": [
       "\u001b[1m Total params: \u001b[0m\u001b[38;5;34m17,425\u001b[0m (68.07 KB)\n"
      ]
     },
     "metadata": {},
     "output_type": "display_data"
    },
    {
     "data": {
      "text/html": [
       "<pre style=\"white-space:pre;overflow-x:auto;line-height:normal;font-family:Menlo,'DejaVu Sans Mono',consolas,'Courier New',monospace\"><span style=\"font-weight: bold\"> Trainable params: </span><span style=\"color: #00af00; text-decoration-color: #00af00\">17,425</span> (68.07 KB)\n",
       "</pre>\n"
      ],
      "text/plain": [
       "\u001b[1m Trainable params: \u001b[0m\u001b[38;5;34m17,425\u001b[0m (68.07 KB)\n"
      ]
     },
     "metadata": {},
     "output_type": "display_data"
    },
    {
     "data": {
      "text/html": [
       "<pre style=\"white-space:pre;overflow-x:auto;line-height:normal;font-family:Menlo,'DejaVu Sans Mono',consolas,'Courier New',monospace\"><span style=\"font-weight: bold\"> Non-trainable params: </span><span style=\"color: #00af00; text-decoration-color: #00af00\">0</span> (0.00 B)\n",
       "</pre>\n"
      ],
      "text/plain": [
       "\u001b[1m Non-trainable params: \u001b[0m\u001b[38;5;34m0\u001b[0m (0.00 B)\n"
      ]
     },
     "metadata": {},
     "output_type": "display_data"
    }
   ],
   "source": [
    "model1 = Sequential()\n",
    "model1.add(InputLayer((4, 1)))\n",
    "model1.add(LSTM(64))\n",
    "model1.add(Dense(8, 'relu'))\n",
    "model1.add(Dense(1, 'linear'))\n",
    "model1.summary()"
   ]
  },
  {
   "cell_type": "code",
   "execution_count": 72,
   "metadata": {},
   "outputs": [],
   "source": [
    "cp1 = ModelCheckpoint('model1/model1.keras', save_best_only=True, verbose=0)\n",
    "model1.compile(loss=MeanSquaredError(), optimizer=Adam(learning_rate=0.0001), metrics=[RootMeanSquaredError()])"
   ]
  },
  {
   "cell_type": "code",
   "execution_count": 73,
   "metadata": {},
   "outputs": [
    {
     "name": "stdout",
     "output_type": "stream",
     "text": [
      "Epoch 1/10\n"
     ]
    },
    {
     "name": "stdout",
     "output_type": "stream",
     "text": [
      "\u001b[1m634/634\u001b[0m \u001b[32m━━━━━━━━━━━━━━━━━━━━\u001b[0m\u001b[37m\u001b[0m \u001b[1m3s\u001b[0m 3ms/step - loss: 512.9715 - root_mean_squared_error: 22.5079 - val_loss: 56.7290 - val_root_mean_squared_error: 7.5287\n",
      "Epoch 2/10\n",
      "\u001b[1m634/634\u001b[0m \u001b[32m━━━━━━━━━━━━━━━━━━━━\u001b[0m\u001b[37m\u001b[0m \u001b[1m2s\u001b[0m 3ms/step - loss: 24.4107 - root_mean_squared_error: 4.8550 - val_loss: 8.7243 - val_root_mean_squared_error: 2.9522\n",
      "Epoch 3/10\n",
      "\u001b[1m634/634\u001b[0m \u001b[32m━━━━━━━━━━━━━━━━━━━━\u001b[0m\u001b[37m\u001b[0m \u001b[1m2s\u001b[0m 3ms/step - loss: 6.9493 - root_mean_squared_error: 2.6354 - val_loss: 5.3721 - val_root_mean_squared_error: 2.3165\n",
      "Epoch 4/10\n",
      "\u001b[1m634/634\u001b[0m \u001b[32m━━━━━━━━━━━━━━━━━━━━\u001b[0m\u001b[37m\u001b[0m \u001b[1m2s\u001b[0m 3ms/step - loss: 4.0119 - root_mean_squared_error: 2.0005 - val_loss: 2.3366 - val_root_mean_squared_error: 1.5275\n",
      "Epoch 5/10\n",
      "\u001b[1m634/634\u001b[0m \u001b[32m━━━━━━━━━━━━━━━━━━━━\u001b[0m\u001b[37m\u001b[0m \u001b[1m2s\u001b[0m 3ms/step - loss: 1.3673 - root_mean_squared_error: 1.1626 - val_loss: 0.4864 - val_root_mean_squared_error: 0.6966\n",
      "Epoch 6/10\n",
      "\u001b[1m634/634\u001b[0m \u001b[32m━━━━━━━━━━━━━━━━━━━━\u001b[0m\u001b[37m\u001b[0m \u001b[1m2s\u001b[0m 3ms/step - loss: 0.2758 - root_mean_squared_error: 0.5235 - val_loss: 0.1694 - val_root_mean_squared_error: 0.4112\n",
      "Epoch 7/10\n",
      "\u001b[1m634/634\u001b[0m \u001b[32m━━━━━━━━━━━━━━━━━━━━\u001b[0m\u001b[37m\u001b[0m \u001b[1m2s\u001b[0m 3ms/step - loss: 0.1481 - root_mean_squared_error: 0.3848 - val_loss: 0.1287 - val_root_mean_squared_error: 0.3585\n",
      "Epoch 8/10\n",
      "\u001b[1m634/634\u001b[0m \u001b[32m━━━━━━━━━━━━━━━━━━━━\u001b[0m\u001b[37m\u001b[0m \u001b[1m2s\u001b[0m 3ms/step - loss: 0.1304 - root_mean_squared_error: 0.3609 - val_loss: 0.1507 - val_root_mean_squared_error: 0.3880\n",
      "Epoch 9/10\n",
      "\u001b[1m634/634\u001b[0m \u001b[32m━━━━━━━━━━━━━━━━━━━━\u001b[0m\u001b[37m\u001b[0m \u001b[1m2s\u001b[0m 3ms/step - loss: 0.1340 - root_mean_squared_error: 0.3660 - val_loss: 0.1133 - val_root_mean_squared_error: 0.3366\n",
      "Epoch 10/10\n",
      "\u001b[1m634/634\u001b[0m \u001b[32m━━━━━━━━━━━━━━━━━━━━\u001b[0m\u001b[37m\u001b[0m \u001b[1m2s\u001b[0m 3ms/step - loss: 0.1234 - root_mean_squared_error: 0.3512 - val_loss: 0.1081 - val_root_mean_squared_error: 0.3286\n"
     ]
    },
    {
     "data": {
      "text/plain": [
       "<keras.src.callbacks.history.History at 0x7ff69da383d0>"
      ]
     },
     "execution_count": 73,
     "metadata": {},
     "output_type": "execute_result"
    }
   ],
   "source": [
    "model1.fit(X1_train, y1_train, epochs=10, validation_data=(X1_val, y1_val), callbacks=[cp1])"
   ]
  },
  {
   "cell_type": "code",
   "execution_count": 74,
   "metadata": {},
   "outputs": [
    {
     "name": "stdout",
     "output_type": "stream",
     "text": [
      "\u001b[1m634/634\u001b[0m \u001b[32m━━━━━━━━━━━━━━━━━━━━\u001b[0m\u001b[37m\u001b[0m \u001b[1m1s\u001b[0m 1ms/step\n"
     ]
    },
    {
     "data": {
      "text/html": [
       "<div>\n",
       "<style scoped>\n",
       "    .dataframe tbody tr th:only-of-type {\n",
       "        vertical-align: middle;\n",
       "    }\n",
       "\n",
       "    .dataframe tbody tr th {\n",
       "        vertical-align: top;\n",
       "    }\n",
       "\n",
       "    .dataframe thead th {\n",
       "        text-align: right;\n",
       "    }\n",
       "</style>\n",
       "<table border=\"1\" class=\"dataframe\">\n",
       "  <thead>\n",
       "    <tr style=\"text-align: right;\">\n",
       "      <th></th>\n",
       "      <th>Train Predictions</th>\n",
       "      <th>Actuals</th>\n",
       "    </tr>\n",
       "  </thead>\n",
       "  <tbody>\n",
       "    <tr>\n",
       "      <th>0</th>\n",
       "      <td>29.571838</td>\n",
       "      <td>23.0</td>\n",
       "    </tr>\n",
       "    <tr>\n",
       "      <th>1</th>\n",
       "      <td>25.934557</td>\n",
       "      <td>22.8</td>\n",
       "    </tr>\n",
       "    <tr>\n",
       "      <th>2</th>\n",
       "      <td>23.693316</td>\n",
       "      <td>23.0</td>\n",
       "    </tr>\n",
       "    <tr>\n",
       "      <th>3</th>\n",
       "      <td>22.995813</td>\n",
       "      <td>23.0</td>\n",
       "    </tr>\n",
       "    <tr>\n",
       "      <th>4</th>\n",
       "      <td>23.020838</td>\n",
       "      <td>23.0</td>\n",
       "    </tr>\n",
       "    <tr>\n",
       "      <th>...</th>\n",
       "      <td>...</td>\n",
       "      <td>...</td>\n",
       "    </tr>\n",
       "    <tr>\n",
       "      <th>20255</th>\n",
       "      <td>23.018253</td>\n",
       "      <td>23.1</td>\n",
       "    </tr>\n",
       "    <tr>\n",
       "      <th>20256</th>\n",
       "      <td>23.082094</td>\n",
       "      <td>23.1</td>\n",
       "    </tr>\n",
       "    <tr>\n",
       "      <th>20257</th>\n",
       "      <td>23.127260</td>\n",
       "      <td>23.0</td>\n",
       "    </tr>\n",
       "    <tr>\n",
       "      <th>20258</th>\n",
       "      <td>23.093586</td>\n",
       "      <td>23.0</td>\n",
       "    </tr>\n",
       "    <tr>\n",
       "      <th>20259</th>\n",
       "      <td>23.062437</td>\n",
       "      <td>22.9</td>\n",
       "    </tr>\n",
       "  </tbody>\n",
       "</table>\n",
       "<p>20260 rows × 2 columns</p>\n",
       "</div>"
      ],
      "text/plain": [
       "       Train Predictions  Actuals\n",
       "0              29.571838     23.0\n",
       "1              25.934557     22.8\n",
       "2              23.693316     23.0\n",
       "3              22.995813     23.0\n",
       "4              23.020838     23.0\n",
       "...                  ...      ...\n",
       "20255          23.018253     23.1\n",
       "20256          23.082094     23.1\n",
       "20257          23.127260     23.0\n",
       "20258          23.093586     23.0\n",
       "20259          23.062437     22.9\n",
       "\n",
       "[20260 rows x 2 columns]"
      ]
     },
     "execution_count": 74,
     "metadata": {},
     "output_type": "execute_result"
    }
   ],
   "source": [
    "model1 = load_model('model1/model1.keras')\n",
    "train_preds1 = model1.predict(X1_train).flatten()\n",
    "train_results1 = pd.DataFrame(data ={'Train Predictions': train_preds1, 'Actuals': y1_train})\n",
    "train_results1"
   ]
  },
  {
   "cell_type": "code",
   "execution_count": 75,
   "metadata": {},
   "outputs": [
    {
     "data": {
      "text/plain": [
       "[<matplotlib.lines.Line2D at 0x7ff69db3c5b0>]"
      ]
     },
     "execution_count": 75,
     "metadata": {},
     "output_type": "execute_result"
    },
    {
     "data": {
      "image/png": "[encoded data removed]",
      "text/plain": [
       "<Figure size 640x480 with 1 Axes>"
      ]
     },
     "metadata": {},
     "output_type": "display_data"
    }
   ],
   "source": [
    "plt.plot(train_results1['Train Predictions'][:100], color='blue', label='Predictions')\n",
    "plt.plot(train_results1['Actuals'][:100], color='red', label='Actuals')"
   ]
  },
  {
   "cell_type": "code",
   "execution_count": 76,
   "metadata": {},
   "outputs": [
    {
     "name": "stdout",
     "output_type": "stream",
     "text": [
      "\u001b[1m  1/181\u001b[0m \u001b[37m━━━━━━━━━━━━━━━━━━━━\u001b[0m \u001b[1m2s\u001b[0m 17ms/step"
     ]
    },
    {
     "name": "stdout",
     "output_type": "stream",
     "text": [
      "\u001b[1m181/181\u001b[0m \u001b[32m━━━━━━━━━━━━━━━━━━━━\u001b[0m\u001b[37m\u001b[0m \u001b[1m0s\u001b[0m 1ms/step\n"
     ]
    },
    {
     "data": {
      "text/html": [
       "<div>\n",
       "<style scoped>\n",
       "    .dataframe tbody tr th:only-of-type {\n",
       "        vertical-align: middle;\n",
       "    }\n",
       "\n",
       "    .dataframe tbody tr th {\n",
       "        vertical-align: top;\n",
       "    }\n",
       "\n",
       "    .dataframe thead th {\n",
       "        text-align: right;\n",
       "    }\n",
       "</style>\n",
       "<table border=\"1\" class=\"dataframe\">\n",
       "  <thead>\n",
       "    <tr style=\"text-align: right;\">\n",
       "      <th></th>\n",
       "      <th>Validation Predictions</th>\n",
       "      <th>Actuals</th>\n",
       "    </tr>\n",
       "  </thead>\n",
       "  <tbody>\n",
       "    <tr>\n",
       "      <th>0</th>\n",
       "      <td>23.001471</td>\n",
       "      <td>22.9</td>\n",
       "    </tr>\n",
       "    <tr>\n",
       "      <th>1</th>\n",
       "      <td>22.971228</td>\n",
       "      <td>22.9</td>\n",
       "    </tr>\n",
       "    <tr>\n",
       "      <th>2</th>\n",
       "      <td>22.957354</td>\n",
       "      <td>22.9</td>\n",
       "    </tr>\n",
       "    <tr>\n",
       "      <th>3</th>\n",
       "      <td>22.957697</td>\n",
       "      <td>23.0</td>\n",
       "    </tr>\n",
       "    <tr>\n",
       "      <th>4</th>\n",
       "      <td>23.004704</td>\n",
       "      <td>23.0</td>\n",
       "    </tr>\n",
       "    <tr>\n",
       "      <th>...</th>\n",
       "      <td>...</td>\n",
       "      <td>...</td>\n",
       "    </tr>\n",
       "    <tr>\n",
       "      <th>5783</th>\n",
       "      <td>30.433197</td>\n",
       "      <td>30.6</td>\n",
       "    </tr>\n",
       "    <tr>\n",
       "      <th>5784</th>\n",
       "      <td>30.399254</td>\n",
       "      <td>30.6</td>\n",
       "    </tr>\n",
       "    <tr>\n",
       "      <th>5785</th>\n",
       "      <td>30.384899</td>\n",
       "      <td>30.8</td>\n",
       "    </tr>\n",
       "    <tr>\n",
       "      <th>5786</th>\n",
       "      <td>30.439711</td>\n",
       "      <td>30.6</td>\n",
       "    </tr>\n",
       "    <tr>\n",
       "      <th>5787</th>\n",
       "      <td>30.402641</td>\n",
       "      <td>30.6</td>\n",
       "    </tr>\n",
       "  </tbody>\n",
       "</table>\n",
       "<p>5788 rows × 2 columns</p>\n",
       "</div>"
      ],
      "text/plain": [
       "      Validation Predictions  Actuals\n",
       "0                  23.001471     22.9\n",
       "1                  22.971228     22.9\n",
       "2                  22.957354     22.9\n",
       "3                  22.957697     23.0\n",
       "4                  23.004704     23.0\n",
       "...                      ...      ...\n",
       "5783               30.433197     30.6\n",
       "5784               30.399254     30.6\n",
       "5785               30.384899     30.8\n",
       "5786               30.439711     30.6\n",
       "5787               30.402641     30.6\n",
       "\n",
       "[5788 rows x 2 columns]"
      ]
     },
     "execution_count": 76,
     "metadata": {},
     "output_type": "execute_result"
    }
   ],
   "source": [
    "val_preds1 = model1.predict(X1_val).flatten()\n",
    "val_results1 = pd.DataFrame(data ={'Validation Predictions': val_preds1, 'Actuals': y1_val})\n",
    "val_results1"
   ]
  },
  {
   "cell_type": "code",
   "execution_count": 77,
   "metadata": {},
   "outputs": [
    {
     "data": {
      "text/plain": [
       "[<matplotlib.lines.Line2D at 0x7ff69b8c9b70>]"
      ]
     },
     "execution_count": 77,
     "metadata": {},
     "output_type": "execute_result"
    },
    {
     "data": {
      "image/png": "[encoded data removed]",
      "text/plain": [
       "<Figure size 640x480 with 1 Axes>"
      ]
     },
     "metadata": {},
     "output_type": "display_data"
    }
   ],
   "source": [
    "plt.plot(val_results1['Validation Predictions'][:25], color='blue')\n",
    "plt.plot(val_results1['Actuals'][:25], color='red')"
   ]
  },
  {
   "cell_type": "code",
   "execution_count": 78,
   "metadata": {},
   "outputs": [
    {
     "name": "stdout",
     "output_type": "stream",
     "text": [
      "\u001b[1m91/91\u001b[0m \u001b[32m━━━━━━━━━━━━━━━━━━━━\u001b[0m\u001b[37m\u001b[0m \u001b[1m0s\u001b[0m 1ms/step\n"
     ]
    },
    {
     "data": {
      "text/html": [
       "<div>\n",
       "<style scoped>\n",
       "    .dataframe tbody tr th:only-of-type {\n",
       "        vertical-align: middle;\n",
       "    }\n",
       "\n",
       "    .dataframe tbody tr th {\n",
       "        vertical-align: top;\n",
       "    }\n",
       "\n",
       "    .dataframe thead th {\n",
       "        text-align: right;\n",
       "    }\n",
       "</style>\n",
       "<table border=\"1\" class=\"dataframe\">\n",
       "  <thead>\n",
       "    <tr style=\"text-align: right;\">\n",
       "      <th></th>\n",
       "      <th>Test Predictions</th>\n",
       "      <th>Actuals</th>\n",
       "    </tr>\n",
       "  </thead>\n",
       "  <tbody>\n",
       "    <tr>\n",
       "      <th>0</th>\n",
       "      <td>30.387518</td>\n",
       "      <td>30.5</td>\n",
       "    </tr>\n",
       "    <tr>\n",
       "      <th>1</th>\n",
       "      <td>30.347151</td>\n",
       "      <td>30.4</td>\n",
       "    </tr>\n",
       "    <tr>\n",
       "      <th>2</th>\n",
       "      <td>30.288420</td>\n",
       "      <td>30.2</td>\n",
       "    </tr>\n",
       "    <tr>\n",
       "      <th>3</th>\n",
       "      <td>30.182049</td>\n",
       "      <td>30.3</td>\n",
       "    </tr>\n",
       "    <tr>\n",
       "      <th>4</th>\n",
       "      <td>30.180773</td>\n",
       "      <td>30.2</td>\n",
       "    </tr>\n",
       "    <tr>\n",
       "      <th>...</th>\n",
       "      <td>...</td>\n",
       "      <td>...</td>\n",
       "    </tr>\n",
       "    <tr>\n",
       "      <th>2890</th>\n",
       "      <td>27.919279</td>\n",
       "      <td>27.6</td>\n",
       "    </tr>\n",
       "    <tr>\n",
       "      <th>2891</th>\n",
       "      <td>27.803427</td>\n",
       "      <td>27.6</td>\n",
       "    </tr>\n",
       "    <tr>\n",
       "      <th>2892</th>\n",
       "      <td>27.754187</td>\n",
       "      <td>27.4</td>\n",
       "    </tr>\n",
       "    <tr>\n",
       "      <th>2893</th>\n",
       "      <td>27.624258</td>\n",
       "      <td>27.4</td>\n",
       "    </tr>\n",
       "    <tr>\n",
       "      <th>2894</th>\n",
       "      <td>27.551615</td>\n",
       "      <td>27.4</td>\n",
       "    </tr>\n",
       "  </tbody>\n",
       "</table>\n",
       "<p>2895 rows × 2 columns</p>\n",
       "</div>"
      ],
      "text/plain": [
       "      Test Predictions  Actuals\n",
       "0            30.387518     30.5\n",
       "1            30.347151     30.4\n",
       "2            30.288420     30.2\n",
       "3            30.182049     30.3\n",
       "4            30.180773     30.2\n",
       "...                ...      ...\n",
       "2890         27.919279     27.6\n",
       "2891         27.803427     27.6\n",
       "2892         27.754187     27.4\n",
       "2893         27.624258     27.4\n",
       "2894         27.551615     27.4\n",
       "\n",
       "[2895 rows x 2 columns]"
      ]
     },
     "execution_count": 78,
     "metadata": {},
     "output_type": "execute_result"
    }
   ],
   "source": [
    "test_preds1 = model1.predict(X1_test).flatten()\n",
    "test_results1 = pd.DataFrame(data ={'Test Predictions': test_preds1, 'Actuals': y1_test})\n",
    "test_results1"
   ]
  },
  {
   "cell_type": "code",
   "execution_count": 79,
   "metadata": {},
   "outputs": [
    {
     "data": {
      "text/plain": [
       "[<matplotlib.lines.Line2D at 0x7ff69b841e40>]"
      ]
     },
     "execution_count": 79,
     "metadata": {},
     "output_type": "execute_result"
    },
    {
     "data": {
      "image/png": "[encoded data removed]",
      "text/plain": [
       "<Figure size 640x480 with 1 Axes>"
      ]
     },
     "metadata": {},
     "output_type": "display_data"
    }
   ],
   "source": [
    "plt.plot(test_results1['Test Predictions'][:100], color='blue')\n",
    "plt.plot(test_results1['Actuals'][:100], color='red')"
   ]
  },
  {
   "cell_type": "code",
   "execution_count": 80,
   "metadata": {},
   "outputs": [],
   "source": [
    "def plot_predictions(model, X, y, start=0, end=100):\n",
    "    predictions = model.predict(X).flatten()\n",
    "    df = pd.DataFrame(data ={'Predictions': predictions, 'Actuals': y})\n",
    "    plt.plot(df['Predictions'][start:end], color='blue', label='Predictions')\n",
    "    plt.plot(df['Actuals'][start:end], color='red', label='Actuals')\n",
    "    plt.legend()\n",
    "    return df, mse(y, predictions)"
   ]
  },
  {
   "cell_type": "code",
   "execution_count": 81,
   "metadata": {},
   "outputs": [
    {
     "name": "stdout",
     "output_type": "stream",
     "text": [
      "\u001b[1m 1/91\u001b[0m \u001b[37m━━━━━━━━━━━━━━━━━━━━\u001b[0m \u001b[1m1s\u001b[0m 16ms/step"
     ]
    },
    {
     "name": "stdout",
     "output_type": "stream",
     "text": [
      "\u001b[1m91/91\u001b[0m \u001b[32m━━━━━━━━━━━━━━━━━━━━\u001b[0m\u001b[37m\u001b[0m \u001b[1m0s\u001b[0m 1ms/step\n"
     ]
    },
    {
     "data": {
      "text/plain": [
       "(      Predictions  Actuals\n",
       " 0       30.387518     30.5\n",
       " 1       30.347151     30.4\n",
       " 2       30.288420     30.2\n",
       " 3       30.182049     30.3\n",
       " 4       30.180773     30.2\n",
       " ...           ...      ...\n",
       " 2890    27.919279     27.6\n",
       " 2891    27.803427     27.6\n",
       " 2892    27.754187     27.4\n",
       " 2893    27.624258     27.4\n",
       " 2894    27.551615     27.4\n",
       " \n",
       " [2895 rows x 2 columns],\n",
       " 0.06742942714341481)"
      ]
     },
     "execution_count": 81,
     "metadata": {},
     "output_type": "execute_result"
    },
    {
     "data": {
      "image/png": "[encoded data removed]",
      "text/plain": [
       "<Figure size 640x480 with 1 Axes>"
      ]
     },
     "metadata": {},
     "output_type": "display_data"
    }
   ],
   "source": [
    "plot_predictions(model1, X1_test, y1_test)"
   ]
  },
  {
   "cell_type": "code",
   "execution_count": 82,
   "metadata": {},
   "outputs": [
    {
     "data": {
      "text/html": [
       "<pre style=\"white-space:pre;overflow-x:auto;line-height:normal;font-family:Menlo,'DejaVu Sans Mono',consolas,'Courier New',monospace\"><span style=\"font-weight: bold\">Model: \"sequential_6\"</span>\n",
       "</pre>\n"
      ],
      "text/plain": [
       "\u001b[1mModel: \"sequential_6\"\u001b[0m\n"
      ]
     },
     "metadata": {},
     "output_type": "display_data"
    },
    {
     "data": {
      "text/html": [
       "<pre style=\"white-space:pre;overflow-x:auto;line-height:normal;font-family:Menlo,'DejaVu Sans Mono',consolas,'Courier New',monospace\">┏━━━━━━━━━━━━━━━━━━━━━━━━━━━━━━━━━┳━━━━━━━━━━━━━━━━━━━━━━━━┳━━━━━━━━━━━━━━━┓\n",
       "┃<span style=\"font-weight: bold\"> Layer (type)                    </span>┃<span style=\"font-weight: bold\"> Output Shape           </span>┃<span style=\"font-weight: bold\">       Param # </span>┃\n",
       "┡━━━━━━━━━━━━━━━━━━━━━━━━━━━━━━━━━╇━━━━━━━━━━━━━━━━━━━━━━━━╇━━━━━━━━━━━━━━━┩\n",
       "│ conv1d (<span style=\"color: #0087ff; text-decoration-color: #0087ff\">Conv1D</span>)                 │ (<span style=\"color: #00d7ff; text-decoration-color: #00d7ff\">None</span>, <span style=\"color: #00af00; text-decoration-color: #00af00\">3</span>, <span style=\"color: #00af00; text-decoration-color: #00af00\">64</span>)          │           <span style=\"color: #00af00; text-decoration-color: #00af00\">192</span> │\n",
       "├─────────────────────────────────┼────────────────────────┼───────────────┤\n",
       "│ flatten (<span style=\"color: #0087ff; text-decoration-color: #0087ff\">Flatten</span>)               │ (<span style=\"color: #00d7ff; text-decoration-color: #00d7ff\">None</span>, <span style=\"color: #00af00; text-decoration-color: #00af00\">192</span>)            │             <span style=\"color: #00af00; text-decoration-color: #00af00\">0</span> │\n",
       "├─────────────────────────────────┼────────────────────────┼───────────────┤\n",
       "│ dense_11 (<span style=\"color: #0087ff; text-decoration-color: #0087ff\">Dense</span>)                │ (<span style=\"color: #00d7ff; text-decoration-color: #00d7ff\">None</span>, <span style=\"color: #00af00; text-decoration-color: #00af00\">8</span>)              │         <span style=\"color: #00af00; text-decoration-color: #00af00\">1,544</span> │\n",
       "├─────────────────────────────────┼────────────────────────┼───────────────┤\n",
       "│ dense_12 (<span style=\"color: #0087ff; text-decoration-color: #0087ff\">Dense</span>)                │ (<span style=\"color: #00d7ff; text-decoration-color: #00d7ff\">None</span>, <span style=\"color: #00af00; text-decoration-color: #00af00\">1</span>)              │             <span style=\"color: #00af00; text-decoration-color: #00af00\">9</span> │\n",
       "└─────────────────────────────────┴────────────────────────┴───────────────┘\n",
       "</pre>\n"
      ],
      "text/plain": [
       "┏━━━━━━━━━━━━━━━━━━━━━━━━━━━━━━━━━┳━━━━━━━━━━━━━━━━━━━━━━━━┳━━━━━━━━━━━━━━━┓\n",
       "┃\u001b[1m \u001b[0m\u001b[1mLayer (type)                   \u001b[0m\u001b[1m \u001b[0m┃\u001b[1m \u001b[0m\u001b[1mOutput Shape          \u001b[0m\u001b[1m \u001b[0m┃\u001b[1m \u001b[0m\u001b[1m      Param #\u001b[0m\u001b[1m \u001b[0m┃\n",
       "┡━━━━━━━━━━━━━━━━━━━━━━━━━━━━━━━━━╇━━━━━━━━━━━━━━━━━━━━━━━━╇━━━━━━━━━━━━━━━┩\n",
       "│ conv1d (\u001b[38;5;33mConv1D\u001b[0m)                 │ (\u001b[38;5;45mNone\u001b[0m, \u001b[38;5;34m3\u001b[0m, \u001b[38;5;34m64\u001b[0m)          │           \u001b[38;5;34m192\u001b[0m │\n",
       "├─────────────────────────────────┼────────────────────────┼───────────────┤\n",
       "│ flatten (\u001b[38;5;33mFlatten\u001b[0m)               │ (\u001b[38;5;45mNone\u001b[0m, \u001b[38;5;34m192\u001b[0m)            │             \u001b[38;5;34m0\u001b[0m │\n",
       "├─────────────────────────────────┼────────────────────────┼───────────────┤\n",
       "│ dense_11 (\u001b[38;5;33mDense\u001b[0m)                │ (\u001b[38;5;45mNone\u001b[0m, \u001b[38;5;34m8\u001b[0m)              │         \u001b[38;5;34m1,544\u001b[0m │\n",
       "├─────────────────────────────────┼────────────────────────┼───────────────┤\n",
       "│ dense_12 (\u001b[38;5;33mDense\u001b[0m)                │ (\u001b[38;5;45mNone\u001b[0m, \u001b[38;5;34m1\u001b[0m)              │             \u001b[38;5;34m9\u001b[0m │\n",
       "└─────────────────────────────────┴────────────────────────┴───────────────┘\n"
      ]
     },
     "metadata": {},
     "output_type": "display_data"
    },
    {
     "data": {
      "text/html": [
       "<pre style=\"white-space:pre;overflow-x:auto;line-height:normal;font-family:Menlo,'DejaVu Sans Mono',consolas,'Courier New',monospace\"><span style=\"font-weight: bold\"> Total params: </span><span style=\"color: #00af00; text-decoration-color: #00af00\">1,745</span> (6.82 KB)\n",
       "</pre>\n"
      ],
      "text/plain": [
       "\u001b[1m Total params: \u001b[0m\u001b[38;5;34m1,745\u001b[0m (6.82 KB)\n"
      ]
     },
     "metadata": {},
     "output_type": "display_data"
    },
    {
     "data": {
      "text/html": [
       "<pre style=\"white-space:pre;overflow-x:auto;line-height:normal;font-family:Menlo,'DejaVu Sans Mono',consolas,'Courier New',monospace\"><span style=\"font-weight: bold\"> Trainable params: </span><span style=\"color: #00af00; text-decoration-color: #00af00\">1,745</span> (6.82 KB)\n",
       "</pre>\n"
      ],
      "text/plain": [
       "\u001b[1m Trainable params: \u001b[0m\u001b[38;5;34m1,745\u001b[0m (6.82 KB)\n"
      ]
     },
     "metadata": {},
     "output_type": "display_data"
    },
    {
     "data": {
      "text/html": [
       "<pre style=\"white-space:pre;overflow-x:auto;line-height:normal;font-family:Menlo,'DejaVu Sans Mono',consolas,'Courier New',monospace\"><span style=\"font-weight: bold\"> Non-trainable params: </span><span style=\"color: #00af00; text-decoration-color: #00af00\">0</span> (0.00 B)\n",
       "</pre>\n"
      ],
      "text/plain": [
       "\u001b[1m Non-trainable params: \u001b[0m\u001b[38;5;34m0\u001b[0m (0.00 B)\n"
      ]
     },
     "metadata": {},
     "output_type": "display_data"
    }
   ],
   "source": [
    "model2 = Sequential()\n",
    "model2.add(InputLayer((4, 1)))\n",
    "model2.add(Conv1D(64, kernel_size=2, activation='relu'))\n",
    "model2.add(Flatten())\n",
    "model2.add(Dense(8, 'relu'))\n",
    "model2.add(Dense(1, 'linear'))\n",
    "model2.summary()"
   ]
  },
  {
   "cell_type": "code",
   "execution_count": 83,
   "metadata": {},
   "outputs": [],
   "source": [
    "cp2 = ModelCheckpoint('model2/model2.keras', save_best_only=True, verbose=0)\n",
    "model2.compile(loss=MeanSquaredError(), optimizer=Adam(learning_rate=0.0001), metrics=[RootMeanSquaredError()])"
   ]
  },
  {
   "cell_type": "code",
   "execution_count": 84,
   "metadata": {},
   "outputs": [
    {
     "name": "stdout",
     "output_type": "stream",
     "text": [
      "Epoch 1/10\n"
     ]
    },
    {
     "name": "stdout",
     "output_type": "stream",
     "text": [
      "\u001b[1m634/634\u001b[0m \u001b[32m━━━━━━━━━━━━━━━━━━━━\u001b[0m\u001b[37m\u001b[0m \u001b[1m1s\u001b[0m 1ms/step - loss: 214.8863 - root_mean_squared_error: 14.1820 - val_loss: 0.1077 - val_root_mean_squared_error: 0.3282\n",
      "Epoch 2/10\n",
      "\u001b[1m634/634\u001b[0m \u001b[32m━━━━━━━━━━━━━━━━━━━━\u001b[0m\u001b[37m\u001b[0m \u001b[1m1s\u001b[0m 1ms/step - loss: 0.1435 - root_mean_squared_error: 0.3784 - val_loss: 0.0989 - val_root_mean_squared_error: 0.3145\n",
      "Epoch 3/10\n",
      "\u001b[1m634/634\u001b[0m \u001b[32m━━━━━━━━━━━━━━━━━━━━\u001b[0m\u001b[37m\u001b[0m \u001b[1m1s\u001b[0m 1ms/step - loss: 0.1313 - root_mean_squared_error: 0.3623 - val_loss: 0.0982 - val_root_mean_squared_error: 0.3134\n",
      "Epoch 4/10\n",
      "\u001b[1m634/634\u001b[0m \u001b[32m━━━━━━━━━━━━━━━━━━━━\u001b[0m\u001b[37m\u001b[0m \u001b[1m1s\u001b[0m 1ms/step - loss: 0.1337 - root_mean_squared_error: 0.3654 - val_loss: 0.0977 - val_root_mean_squared_error: 0.3127\n",
      "Epoch 5/10\n",
      "\u001b[1m634/634\u001b[0m \u001b[32m━━━━━━━━━━━━━━━━━━━━\u001b[0m\u001b[37m\u001b[0m \u001b[1m1s\u001b[0m 1ms/step - loss: 0.1359 - root_mean_squared_error: 0.3683 - val_loss: 0.0976 - val_root_mean_squared_error: 0.3125\n",
      "Epoch 6/10\n",
      "\u001b[1m634/634\u001b[0m \u001b[32m━━━━━━━━━━━━━━━━━━━━\u001b[0m\u001b[37m\u001b[0m \u001b[1m1s\u001b[0m 1ms/step - loss: 0.1268 - root_mean_squared_error: 0.3560 - val_loss: 0.0935 - val_root_mean_squared_error: 0.3058\n",
      "Epoch 7/10\n",
      "\u001b[1m634/634\u001b[0m \u001b[32m━━━━━━━━━━━━━━━━━━━━\u001b[0m\u001b[37m\u001b[0m \u001b[1m1s\u001b[0m 1ms/step - loss: 0.1254 - root_mean_squared_error: 0.3537 - val_loss: 0.0918 - val_root_mean_squared_error: 0.3030\n",
      "Epoch 8/10\n",
      "\u001b[1m634/634\u001b[0m \u001b[32m━━━━━━━━━━━━━━━━━━━━\u001b[0m\u001b[37m\u001b[0m \u001b[1m1s\u001b[0m 1ms/step - loss: 0.1251 - root_mean_squared_error: 0.3530 - val_loss: 0.0894 - val_root_mean_squared_error: 0.2990\n",
      "Epoch 9/10\n",
      "\u001b[1m634/634\u001b[0m \u001b[32m━━━━━━━━━━━━━━━━━━━━\u001b[0m\u001b[37m\u001b[0m \u001b[1m1s\u001b[0m 1ms/step - loss: 0.1233 - root_mean_squared_error: 0.3506 - val_loss: 0.0873 - val_root_mean_squared_error: 0.2956\n",
      "Epoch 10/10\n",
      "\u001b[1m634/634\u001b[0m \u001b[32m━━━━━━━━━━━━━━━━━━━━\u001b[0m\u001b[37m\u001b[0m \u001b[1m1s\u001b[0m 1ms/step - loss: 0.1073 - root_mean_squared_error: 0.3273 - val_loss: 0.0854 - val_root_mean_squared_error: 0.2923\n"
     ]
    },
    {
     "data": {
      "text/plain": [
       "<keras.src.callbacks.history.History at 0x7ff69fc21480>"
      ]
     },
     "execution_count": 84,
     "metadata": {},
     "output_type": "execute_result"
    }
   ],
   "source": [
    "model2.fit(X1_train, y1_train, epochs=10, validation_data=(X1_val, y1_val), callbacks=[cp2])"
   ]
  },
  {
   "cell_type": "code",
   "execution_count": 85,
   "metadata": {},
   "outputs": [
    {
     "name": "stdout",
     "output_type": "stream",
     "text": [
      "\u001b[1m 1/91\u001b[0m \u001b[37m━━━━━━━━━━━━━━━━━━━━\u001b[0m \u001b[1m3s\u001b[0m 36ms/step"
     ]
    },
    {
     "name": "stdout",
     "output_type": "stream",
     "text": [
      "\u001b[1m91/91\u001b[0m \u001b[32m━━━━━━━━━━━━━━━━━━━━\u001b[0m\u001b[37m\u001b[0m \u001b[1m0s\u001b[0m 957us/step\n"
     ]
    },
    {
     "data": {
      "text/plain": [
       "(      Predictions  Actuals\n",
       " 0       30.605587     30.5\n",
       " 1       30.574940     30.4\n",
       " 2       30.478136     30.2\n",
       " 3       30.383234     30.3\n",
       " 4       30.325493     30.2\n",
       " ...           ...      ...\n",
       " 2890    27.833530     27.6\n",
       " 2891    27.762215     27.6\n",
       " 2892    27.658812     27.4\n",
       " 2893    27.544186     27.4\n",
       " 2894    27.493053     27.4\n",
       " \n",
       " [2895 rows x 2 columns],\n",
       " 0.06110770227919669)"
      ]
     },
     "execution_count": 85,
     "metadata": {},
     "output_type": "execute_result"
    },
    {
     "data": {
      "image/png": "[encoded data removed]",
      "text/plain": [
       "<Figure size 640x480 with 1 Axes>"
      ]
     },
     "metadata": {},
     "output_type": "display_data"
    }
   ],
   "source": [
    "plot_predictions(model2, X1_test, y1_test)"
   ]
  },
  {
   "cell_type": "code",
   "execution_count": 88,
   "metadata": {},
   "outputs": [
    {
     "data": {
      "text/html": [
       "<pre style=\"white-space:pre;overflow-x:auto;line-height:normal;font-family:Menlo,'DejaVu Sans Mono',consolas,'Courier New',monospace\"><span style=\"font-weight: bold\">Model: \"sequential_9\"</span>\n",
       "</pre>\n"
      ],
      "text/plain": [
       "\u001b[1mModel: \"sequential_9\"\u001b[0m\n"
      ]
     },
     "metadata": {},
     "output_type": "display_data"
    },
    {
     "data": {
      "text/html": [
       "<pre style=\"white-space:pre;overflow-x:auto;line-height:normal;font-family:Menlo,'DejaVu Sans Mono',consolas,'Courier New',monospace\">┏━━━━━━━━━━━━━━━━━━━━━━━━━━━━━━━━━┳━━━━━━━━━━━━━━━━━━━━━━━━┳━━━━━━━━━━━━━━━┓\n",
       "┃<span style=\"font-weight: bold\"> Layer (type)                    </span>┃<span style=\"font-weight: bold\"> Output Shape           </span>┃<span style=\"font-weight: bold\">       Param # </span>┃\n",
       "┡━━━━━━━━━━━━━━━━━━━━━━━━━━━━━━━━━╇━━━━━━━━━━━━━━━━━━━━━━━━╇━━━━━━━━━━━━━━━┩\n",
       "│ gru_2 (<span style=\"color: #0087ff; text-decoration-color: #0087ff\">GRU</span>)                     │ (<span style=\"color: #00d7ff; text-decoration-color: #00d7ff\">None</span>, <span style=\"color: #00af00; text-decoration-color: #00af00\">64</span>)             │        <span style=\"color: #00af00; text-decoration-color: #00af00\">12,864</span> │\n",
       "├─────────────────────────────────┼────────────────────────┼───────────────┤\n",
       "│ flatten_3 (<span style=\"color: #0087ff; text-decoration-color: #0087ff\">Flatten</span>)             │ (<span style=\"color: #00d7ff; text-decoration-color: #00d7ff\">None</span>, <span style=\"color: #00af00; text-decoration-color: #00af00\">64</span>)             │             <span style=\"color: #00af00; text-decoration-color: #00af00\">0</span> │\n",
       "├─────────────────────────────────┼────────────────────────┼───────────────┤\n",
       "│ dense_16 (<span style=\"color: #0087ff; text-decoration-color: #0087ff\">Dense</span>)                │ (<span style=\"color: #00d7ff; text-decoration-color: #00d7ff\">None</span>, <span style=\"color: #00af00; text-decoration-color: #00af00\">8</span>)              │           <span style=\"color: #00af00; text-decoration-color: #00af00\">520</span> │\n",
       "├─────────────────────────────────┼────────────────────────┼───────────────┤\n",
       "│ dense_17 (<span style=\"color: #0087ff; text-decoration-color: #0087ff\">Dense</span>)                │ (<span style=\"color: #00d7ff; text-decoration-color: #00d7ff\">None</span>, <span style=\"color: #00af00; text-decoration-color: #00af00\">1</span>)              │             <span style=\"color: #00af00; text-decoration-color: #00af00\">9</span> │\n",
       "└─────────────────────────────────┴────────────────────────┴───────────────┘\n",
       "</pre>\n"
      ],
      "text/plain": [
       "┏━━━━━━━━━━━━━━━━━━━━━━━━━━━━━━━━━┳━━━━━━━━━━━━━━━━━━━━━━━━┳━━━━━━━━━━━━━━━┓\n",
       "┃\u001b[1m \u001b[0m\u001b[1mLayer (type)                   \u001b[0m\u001b[1m \u001b[0m┃\u001b[1m \u001b[0m\u001b[1mOutput Shape          \u001b[0m\u001b[1m \u001b[0m┃\u001b[1m \u001b[0m\u001b[1m      Param #\u001b[0m\u001b[1m \u001b[0m┃\n",
       "┡━━━━━━━━━━━━━━━━━━━━━━━━━━━━━━━━━╇━━━━━━━━━━━━━━━━━━━━━━━━╇━━━━━━━━━━━━━━━┩\n",
       "│ gru_2 (\u001b[38;5;33mGRU\u001b[0m)                     │ (\u001b[38;5;45mNone\u001b[0m, \u001b[38;5;34m64\u001b[0m)             │        \u001b[38;5;34m12,864\u001b[0m │\n",
       "├─────────────────────────────────┼────────────────────────┼───────────────┤\n",
       "│ flatten_3 (\u001b[38;5;33mFlatten\u001b[0m)             │ (\u001b[38;5;45mNone\u001b[0m, \u001b[38;5;34m64\u001b[0m)             │             \u001b[38;5;34m0\u001b[0m │\n",
       "├─────────────────────────────────┼────────────────────────┼───────────────┤\n",
       "│ dense_16 (\u001b[38;5;33mDense\u001b[0m)                │ (\u001b[38;5;45mNone\u001b[0m, \u001b[38;5;34m8\u001b[0m)              │           \u001b[38;5;34m520\u001b[0m │\n",
       "├─────────────────────────────────┼────────────────────────┼───────────────┤\n",
       "│ dense_17 (\u001b[38;5;33mDense\u001b[0m)                │ (\u001b[38;5;45mNone\u001b[0m, \u001b[38;5;34m1\u001b[0m)              │             \u001b[38;5;34m9\u001b[0m │\n",
       "└─────────────────────────────────┴────────────────────────┴───────────────┘\n"
      ]
     },
     "metadata": {},
     "output_type": "display_data"
    },
    {
     "data": {
      "text/html": [
       "<pre style=\"white-space:pre;overflow-x:auto;line-height:normal;font-family:Menlo,'DejaVu Sans Mono',consolas,'Courier New',monospace\"><span style=\"font-weight: bold\"> Total params: </span><span style=\"color: #00af00; text-decoration-color: #00af00\">13,393</span> (52.32 KB)\n",
       "</pre>\n"
      ],
      "text/plain": [
       "\u001b[1m Total params: \u001b[0m\u001b[38;5;34m13,393\u001b[0m (52.32 KB)\n"
      ]
     },
     "metadata": {},
     "output_type": "display_data"
    },
    {
     "data": {
      "text/html": [
       "<pre style=\"white-space:pre;overflow-x:auto;line-height:normal;font-family:Menlo,'DejaVu Sans Mono',consolas,'Courier New',monospace\"><span style=\"font-weight: bold\"> Trainable params: </span><span style=\"color: #00af00; text-decoration-color: #00af00\">13,393</span> (52.32 KB)\n",
       "</pre>\n"
      ],
      "text/plain": [
       "\u001b[1m Trainable params: \u001b[0m\u001b[38;5;34m13,393\u001b[0m (52.32 KB)\n"
      ]
     },
     "metadata": {},
     "output_type": "display_data"
    },
    {
     "data": {
      "text/html": [
       "<pre style=\"white-space:pre;overflow-x:auto;line-height:normal;font-family:Menlo,'DejaVu Sans Mono',consolas,'Courier New',monospace\"><span style=\"font-weight: bold\"> Non-trainable params: </span><span style=\"color: #00af00; text-decoration-color: #00af00\">0</span> (0.00 B)\n",
       "</pre>\n"
      ],
      "text/plain": [
       "\u001b[1m Non-trainable params: \u001b[0m\u001b[38;5;34m0\u001b[0m (0.00 B)\n"
      ]
     },
     "metadata": {},
     "output_type": "display_data"
    }
   ],
   "source": [
    "model3 = Sequential()\n",
    "model3.add(InputLayer((4, 1)))\n",
    "model3.add(GRU(64))\n",
    "model3.add(Flatten())\n",
    "model3.add(Dense(8, 'relu'))\n",
    "model3.add(Dense(1, 'linear'))\n",
    "model3.summary()"
   ]
  },
  {
   "cell_type": "code",
   "execution_count": 89,
   "metadata": {},
   "outputs": [
    {
     "name": "stdout",
     "output_type": "stream",
     "text": [
      "Epoch 1/10\n"
     ]
    },
    {
     "name": "stdout",
     "output_type": "stream",
     "text": [
      "\u001b[1m634/634\u001b[0m \u001b[32m━━━━━━━━━━━━━━━━━━━━\u001b[0m\u001b[37m\u001b[0m \u001b[1m3s\u001b[0m 3ms/step - loss: 517.2003 - root_mean_squared_error: 22.6613 - val_loss: 174.3403 - val_root_mean_squared_error: 13.2007\n",
      "Epoch 2/10\n",
      "\u001b[1m634/634\u001b[0m \u001b[32m━━━━━━━━━━━━━━━━━━━━\u001b[0m\u001b[37m\u001b[0m \u001b[1m2s\u001b[0m 3ms/step - loss: 114.2227 - root_mean_squared_error: 10.6308 - val_loss: 34.2020 - val_root_mean_squared_error: 5.8453\n",
      "Epoch 3/10\n",
      "\u001b[1m634/634\u001b[0m \u001b[32m━━━━━━━━━━━━━━━━━━━━\u001b[0m\u001b[37m\u001b[0m \u001b[1m2s\u001b[0m 3ms/step - loss: 20.4580 - root_mean_squared_error: 4.5035 - val_loss: 10.8884 - val_root_mean_squared_error: 3.2977\n",
      "Epoch 4/10\n",
      "\u001b[1m634/634\u001b[0m \u001b[32m━━━━━━━━━━━━━━━━━━━━\u001b[0m\u001b[37m\u001b[0m \u001b[1m2s\u001b[0m 3ms/step - loss: 8.4812 - root_mean_squared_error: 2.9118 - val_loss: 8.3090 - val_root_mean_squared_error: 2.8809\n",
      "Epoch 5/10\n",
      "\u001b[1m634/634\u001b[0m \u001b[32m━━━━━━━━━━━━━━━━━━━━\u001b[0m\u001b[37m\u001b[0m \u001b[1m2s\u001b[0m 3ms/step - loss: 5.5337 - root_mean_squared_error: 2.3462 - val_loss: 2.2576 - val_root_mean_squared_error: 1.5010\n",
      "Epoch 6/10\n",
      "\u001b[1m634/634\u001b[0m \u001b[32m━━━━━━━━━━━━━━━━━━━━\u001b[0m\u001b[37m\u001b[0m \u001b[1m2s\u001b[0m 3ms/step - loss: 1.0690 - root_mean_squared_error: 1.0259 - val_loss: 0.4633 - val_root_mean_squared_error: 0.6796\n",
      "Epoch 7/10\n",
      "\u001b[1m634/634\u001b[0m \u001b[32m━━━━━━━━━━━━━━━━━━━━\u001b[0m\u001b[37m\u001b[0m \u001b[1m2s\u001b[0m 3ms/step - loss: 0.2601 - root_mean_squared_error: 0.5096 - val_loss: 0.2222 - val_root_mean_squared_error: 0.4707\n",
      "Epoch 8/10\n",
      "\u001b[1m634/634\u001b[0m \u001b[32m━━━━━━━━━━━━━━━━━━━━\u001b[0m\u001b[37m\u001b[0m \u001b[1m2s\u001b[0m 3ms/step - loss: 0.1691 - root_mean_squared_error: 0.4109 - val_loss: 0.1547 - val_root_mean_squared_error: 0.3928\n",
      "Epoch 9/10\n",
      "\u001b[1m634/634\u001b[0m \u001b[32m━━━━━━━━━━━━━━━━━━━━\u001b[0m\u001b[37m\u001b[0m \u001b[1m2s\u001b[0m 3ms/step - loss: 0.1334 - root_mean_squared_error: 0.3652 - val_loss: 0.1271 - val_root_mean_squared_error: 0.3563\n",
      "Epoch 10/10\n",
      "\u001b[1m634/634\u001b[0m \u001b[32m━━━━━━━━━━━━━━━━━━━━\u001b[0m\u001b[37m\u001b[0m \u001b[1m2s\u001b[0m 3ms/step - loss: 0.1369 - root_mean_squared_error: 0.3696 - val_loss: 0.1176 - val_root_mean_squared_error: 0.3428\n"
     ]
    },
    {
     "data": {
      "text/plain": [
       "<keras.src.callbacks.history.History at 0x7ff69ed41e70>"
      ]
     },
     "execution_count": 89,
     "metadata": {},
     "output_type": "execute_result"
    }
   ],
   "source": [
    "cp3 = ModelCheckpoint('model3/model3.keras', save_best_only=True, verbose=0)\n",
    "model3.compile(loss=MeanSquaredError(), optimizer=Adam(learning_rate=0.0001), metrics=[RootMeanSquaredError()])\n",
    "model3.fit(X1_train, y1_train, epochs=10, validation_data=(X1_val, y1_val), callbacks=[cp3])"
   ]
  },
  {
   "cell_type": "code",
   "execution_count": 90,
   "metadata": {},
   "outputs": [
    {
     "name": "stdout",
     "output_type": "stream",
     "text": [
      "\u001b[1m91/91\u001b[0m \u001b[32m━━━━━━━━━━━━━━━━━━━━\u001b[0m\u001b[37m\u001b[0m \u001b[1m0s\u001b[0m 2ms/step\n"
     ]
    },
    {
     "data": {
      "text/plain": [
       "(      Predictions  Actuals\n",
       " 0       30.234285     30.5\n",
       " 1       30.196016     30.4\n",
       " 2       30.150709     30.2\n",
       " 3       30.059229     30.3\n",
       " 4       30.085249     30.2\n",
       " ...           ...      ...\n",
       " 2890    27.683929     27.6\n",
       " 2891    27.576719     27.6\n",
       " 2892    27.539507     27.4\n",
       " 2893    27.405172     27.4\n",
       " 2894    27.338669     27.4\n",
       " \n",
       " [2895 rows x 2 columns],\n",
       " 0.07253168702000723)"
      ]
     },
     "execution_count": 90,
     "metadata": {},
     "output_type": "execute_result"
    },
    {
     "data": {
      "image/png": "[encoded data removed]",
      "text/plain": [
       "<Figure size 640x480 with 1 Axes>"
      ]
     },
     "metadata": {},
     "output_type": "display_data"
    }
   ],
   "source": [
    "plot_predictions(model3, X1_test, y1_test)"
   ]
  },
  {
   "cell_type": "markdown",
   "metadata": {},
   "source": [
    "### Conv1D > GRU > LSTM - because of parameter size"
   ]
  },
  {
   "cell_type": "markdown",
   "metadata": {},
   "source": [
    "# Multivariate Section"
   ]
  },
  {
   "cell_type": "markdown",
   "metadata": {},
   "source": [
    "### Need to see df without scrolling up"
   ]
  },
  {
   "cell_type": "code",
   "execution_count": 91,
   "metadata": {},
   "outputs": [
    {
     "data": {
      "text/html": [
       "<div>\n",
       "<style scoped>\n",
       "    .dataframe tbody tr th:only-of-type {\n",
       "        vertical-align: middle;\n",
       "    }\n",
       "\n",
       "    .dataframe tbody tr th {\n",
       "        vertical-align: top;\n",
       "    }\n",
       "\n",
       "    .dataframe thead th {\n",
       "        text-align: right;\n",
       "    }\n",
       "</style>\n",
       "<table border=\"1\" class=\"dataframe\">\n",
       "  <thead>\n",
       "    <tr style=\"text-align: right;\">\n",
       "      <th></th>\n",
       "      <th>wind dir (deg)</th>\n",
       "      <th>wind spd (m/s)</th>\n",
       "      <th>wind gst (m/s)</th>\n",
       "      <th>wave hgt (ft)</th>\n",
       "      <th>mean wave dir (deg)</th>\n",
       "      <th>air pres (ft)</th>\n",
       "      <th>air temp (deg fah)</th>\n",
       "      <th>water temp (deg fah)</th>\n",
       "    </tr>\n",
       "    <tr>\n",
       "      <th>timestamp</th>\n",
       "      <th></th>\n",
       "      <th></th>\n",
       "      <th></th>\n",
       "      <th></th>\n",
       "      <th></th>\n",
       "      <th></th>\n",
       "      <th></th>\n",
       "      <th></th>\n",
       "    </tr>\n",
       "  </thead>\n",
       "  <tbody>\n",
       "    <tr>\n",
       "      <th>1994-08-17 18:00:00-05:00</th>\n",
       "      <td>185.0</td>\n",
       "      <td>6.0</td>\n",
       "      <td>7.6</td>\n",
       "      <td>0.50</td>\n",
       "      <td>168.0</td>\n",
       "      <td>1016.5</td>\n",
       "      <td>29.7</td>\n",
       "      <td>29.7</td>\n",
       "    </tr>\n",
       "    <tr>\n",
       "      <th>1994-08-18 00:00:00-05:00</th>\n",
       "      <td>325.0</td>\n",
       "      <td>0.7</td>\n",
       "      <td>1.3</td>\n",
       "      <td>0.60</td>\n",
       "      <td>128.0</td>\n",
       "      <td>1015.1</td>\n",
       "      <td>30.7</td>\n",
       "      <td>29.9</td>\n",
       "    </tr>\n",
       "    <tr>\n",
       "      <th>1994-08-18 06:00:00-05:00</th>\n",
       "      <td>132.0</td>\n",
       "      <td>7.1</td>\n",
       "      <td>8.8</td>\n",
       "      <td>0.80</td>\n",
       "      <td>73.0</td>\n",
       "      <td>1016.4</td>\n",
       "      <td>28.6</td>\n",
       "      <td>29.7</td>\n",
       "    </tr>\n",
       "    <tr>\n",
       "      <th>1994-08-18 12:00:00-05:00</th>\n",
       "      <td>180.0</td>\n",
       "      <td>6.0</td>\n",
       "      <td>7.1</td>\n",
       "      <td>1.10</td>\n",
       "      <td>153.0</td>\n",
       "      <td>1016.1</td>\n",
       "      <td>29.0</td>\n",
       "      <td>29.3</td>\n",
       "    </tr>\n",
       "    <tr>\n",
       "      <th>1995-02-01 06:00:00-05:00</th>\n",
       "      <td>159.0</td>\n",
       "      <td>4.6</td>\n",
       "      <td>6.1</td>\n",
       "      <td>0.40</td>\n",
       "      <td>17.0</td>\n",
       "      <td>1020.2</td>\n",
       "      <td>17.5</td>\n",
       "      <td>23.0</td>\n",
       "    </tr>\n",
       "    <tr>\n",
       "      <th>...</th>\n",
       "      <td>...</td>\n",
       "      <td>...</td>\n",
       "      <td>...</td>\n",
       "      <td>...</td>\n",
       "      <td>...</td>\n",
       "      <td>...</td>\n",
       "      <td>...</td>\n",
       "      <td>...</td>\n",
       "    </tr>\n",
       "    <tr>\n",
       "      <th>2022-10-20 00:40:00-05:00</th>\n",
       "      <td>8.0</td>\n",
       "      <td>6.4</td>\n",
       "      <td>9.9</td>\n",
       "      <td>1.51</td>\n",
       "      <td>18.0</td>\n",
       "      <td>1022.7</td>\n",
       "      <td>19.6</td>\n",
       "      <td>27.6</td>\n",
       "    </tr>\n",
       "    <tr>\n",
       "      <th>2022-10-20 06:40:00-05:00</th>\n",
       "      <td>9.0</td>\n",
       "      <td>4.0</td>\n",
       "      <td>6.6</td>\n",
       "      <td>1.07</td>\n",
       "      <td>56.0</td>\n",
       "      <td>1022.3</td>\n",
       "      <td>19.7</td>\n",
       "      <td>27.6</td>\n",
       "    </tr>\n",
       "    <tr>\n",
       "      <th>2022-10-20 12:40:00-05:00</th>\n",
       "      <td>11.0</td>\n",
       "      <td>3.9</td>\n",
       "      <td>6.2</td>\n",
       "      <td>0.93</td>\n",
       "      <td>63.0</td>\n",
       "      <td>1020.7</td>\n",
       "      <td>20.3</td>\n",
       "      <td>27.4</td>\n",
       "    </tr>\n",
       "    <tr>\n",
       "      <th>2022-10-20 18:40:00-05:00</th>\n",
       "      <td>37.0</td>\n",
       "      <td>4.1</td>\n",
       "      <td>6.9</td>\n",
       "      <td>0.69</td>\n",
       "      <td>63.0</td>\n",
       "      <td>1020.2</td>\n",
       "      <td>21.2</td>\n",
       "      <td>27.4</td>\n",
       "    </tr>\n",
       "    <tr>\n",
       "      <th>2022-10-21 00:40:00-05:00</th>\n",
       "      <td>66.0</td>\n",
       "      <td>4.4</td>\n",
       "      <td>5.7</td>\n",
       "      <td>0.47</td>\n",
       "      <td>62.0</td>\n",
       "      <td>1018.3</td>\n",
       "      <td>22.0</td>\n",
       "      <td>27.4</td>\n",
       "    </tr>\n",
       "  </tbody>\n",
       "</table>\n",
       "<p>28947 rows × 8 columns</p>\n",
       "</div>"
      ],
      "text/plain": [
       "                           wind dir (deg)  wind spd (m/s)  wind gst (m/s)  \\\n",
       "timestamp                                                                   \n",
       "1994-08-17 18:00:00-05:00           185.0             6.0             7.6   \n",
       "1994-08-18 00:00:00-05:00           325.0             0.7             1.3   \n",
       "1994-08-18 06:00:00-05:00           132.0             7.1             8.8   \n",
       "1994-08-18 12:00:00-05:00           180.0             6.0             7.1   \n",
       "1995-02-01 06:00:00-05:00           159.0             4.6             6.1   \n",
       "...                                   ...             ...             ...   \n",
       "2022-10-20 00:40:00-05:00             8.0             6.4             9.9   \n",
       "2022-10-20 06:40:00-05:00             9.0             4.0             6.6   \n",
       "2022-10-20 12:40:00-05:00            11.0             3.9             6.2   \n",
       "2022-10-20 18:40:00-05:00            37.0             4.1             6.9   \n",
       "2022-10-21 00:40:00-05:00            66.0             4.4             5.7   \n",
       "\n",
       "                           wave hgt (ft)  mean wave dir (deg)  air pres (ft)  \\\n",
       "timestamp                                                                      \n",
       "1994-08-17 18:00:00-05:00           0.50                168.0         1016.5   \n",
       "1994-08-18 00:00:00-05:00           0.60                128.0         1015.1   \n",
       "1994-08-18 06:00:00-05:00           0.80                 73.0         1016.4   \n",
       "1994-08-18 12:00:00-05:00           1.10                153.0         1016.1   \n",
       "1995-02-01 06:00:00-05:00           0.40                 17.0         1020.2   \n",
       "...                                  ...                  ...            ...   \n",
       "2022-10-20 00:40:00-05:00           1.51                 18.0         1022.7   \n",
       "2022-10-20 06:40:00-05:00           1.07                 56.0         1022.3   \n",
       "2022-10-20 12:40:00-05:00           0.93                 63.0         1020.7   \n",
       "2022-10-20 18:40:00-05:00           0.69                 63.0         1020.2   \n",
       "2022-10-21 00:40:00-05:00           0.47                 62.0         1018.3   \n",
       "\n",
       "                           air temp (deg fah)  water temp (deg fah)  \n",
       "timestamp                                                            \n",
       "1994-08-17 18:00:00-05:00                29.7                  29.7  \n",
       "1994-08-18 00:00:00-05:00                30.7                  29.9  \n",
       "1994-08-18 06:00:00-05:00                28.6                  29.7  \n",
       "1994-08-18 12:00:00-05:00                29.0                  29.3  \n",
       "1995-02-01 06:00:00-05:00                17.5                  23.0  \n",
       "...                                       ...                   ...  \n",
       "2022-10-20 00:40:00-05:00                19.6                  27.6  \n",
       "2022-10-20 06:40:00-05:00                19.7                  27.6  \n",
       "2022-10-20 12:40:00-05:00                20.3                  27.4  \n",
       "2022-10-20 18:40:00-05:00                21.2                  27.4  \n",
       "2022-10-21 00:40:00-05:00                22.0                  27.4  \n",
       "\n",
       "[28947 rows x 8 columns]"
      ]
     },
     "execution_count": 91,
     "metadata": {},
     "output_type": "execute_result"
    }
   ],
   "source": [
    "df"
   ]
  },
  {
   "cell_type": "markdown",
   "metadata": {},
   "source": [
    "### We should make the timestamp column relative in a unit of time. We need this to make sin and cos curves"
   ]
  },
  {
   "cell_type": "code",
   "execution_count": 92,
   "metadata": {},
   "outputs": [
    {
     "data": {
      "text/html": [
       "<div>\n",
       "<style scoped>\n",
       "    .dataframe tbody tr th:only-of-type {\n",
       "        vertical-align: middle;\n",
       "    }\n",
       "\n",
       "    .dataframe tbody tr th {\n",
       "        vertical-align: top;\n",
       "    }\n",
       "\n",
       "    .dataframe thead th {\n",
       "        text-align: right;\n",
       "    }\n",
       "</style>\n",
       "<table border=\"1\" class=\"dataframe\">\n",
       "  <thead>\n",
       "    <tr style=\"text-align: right;\">\n",
       "      <th></th>\n",
       "      <th>wind dir (deg)</th>\n",
       "      <th>wind spd (m/s)</th>\n",
       "      <th>wind gst (m/s)</th>\n",
       "      <th>wave hgt (ft)</th>\n",
       "      <th>mean wave dir (deg)</th>\n",
       "      <th>air pres (ft)</th>\n",
       "      <th>air temp (deg fah)</th>\n",
       "      <th>water temp (deg fah)</th>\n",
       "      <th>minutes</th>\n",
       "    </tr>\n",
       "    <tr>\n",
       "      <th>timestamp</th>\n",
       "      <th></th>\n",
       "      <th></th>\n",
       "      <th></th>\n",
       "      <th></th>\n",
       "      <th></th>\n",
       "      <th></th>\n",
       "      <th></th>\n",
       "      <th></th>\n",
       "      <th></th>\n",
       "    </tr>\n",
       "  </thead>\n",
       "  <tbody>\n",
       "    <tr>\n",
       "      <th>1994-08-17 18:00:00-05:00</th>\n",
       "      <td>185.0</td>\n",
       "      <td>6.0</td>\n",
       "      <td>7.6</td>\n",
       "      <td>0.50</td>\n",
       "      <td>168.0</td>\n",
       "      <td>1016.5</td>\n",
       "      <td>29.7</td>\n",
       "      <td>29.7</td>\n",
       "      <td>12952740.0</td>\n",
       "    </tr>\n",
       "    <tr>\n",
       "      <th>1994-08-18 00:00:00-05:00</th>\n",
       "      <td>325.0</td>\n",
       "      <td>0.7</td>\n",
       "      <td>1.3</td>\n",
       "      <td>0.60</td>\n",
       "      <td>128.0</td>\n",
       "      <td>1015.1</td>\n",
       "      <td>30.7</td>\n",
       "      <td>29.9</td>\n",
       "      <td>12953100.0</td>\n",
       "    </tr>\n",
       "    <tr>\n",
       "      <th>1994-08-18 06:00:00-05:00</th>\n",
       "      <td>132.0</td>\n",
       "      <td>7.1</td>\n",
       "      <td>8.8</td>\n",
       "      <td>0.80</td>\n",
       "      <td>73.0</td>\n",
       "      <td>1016.4</td>\n",
       "      <td>28.6</td>\n",
       "      <td>29.7</td>\n",
       "      <td>12953460.0</td>\n",
       "    </tr>\n",
       "    <tr>\n",
       "      <th>1994-08-18 12:00:00-05:00</th>\n",
       "      <td>180.0</td>\n",
       "      <td>6.0</td>\n",
       "      <td>7.1</td>\n",
       "      <td>1.10</td>\n",
       "      <td>153.0</td>\n",
       "      <td>1016.1</td>\n",
       "      <td>29.0</td>\n",
       "      <td>29.3</td>\n",
       "      <td>12953820.0</td>\n",
       "    </tr>\n",
       "    <tr>\n",
       "      <th>1995-02-01 06:00:00-05:00</th>\n",
       "      <td>159.0</td>\n",
       "      <td>4.6</td>\n",
       "      <td>6.1</td>\n",
       "      <td>0.40</td>\n",
       "      <td>17.0</td>\n",
       "      <td>1020.2</td>\n",
       "      <td>17.5</td>\n",
       "      <td>23.0</td>\n",
       "      <td>13193940.0</td>\n",
       "    </tr>\n",
       "    <tr>\n",
       "      <th>...</th>\n",
       "      <td>...</td>\n",
       "      <td>...</td>\n",
       "      <td>...</td>\n",
       "      <td>...</td>\n",
       "      <td>...</td>\n",
       "      <td>...</td>\n",
       "      <td>...</td>\n",
       "      <td>...</td>\n",
       "      <td>...</td>\n",
       "    </tr>\n",
       "    <tr>\n",
       "      <th>2022-10-20 00:40:00-05:00</th>\n",
       "      <td>8.0</td>\n",
       "      <td>6.4</td>\n",
       "      <td>9.9</td>\n",
       "      <td>1.51</td>\n",
       "      <td>18.0</td>\n",
       "      <td>1022.7</td>\n",
       "      <td>19.6</td>\n",
       "      <td>27.6</td>\n",
       "      <td>27770740.0</td>\n",
       "    </tr>\n",
       "    <tr>\n",
       "      <th>2022-10-20 06:40:00-05:00</th>\n",
       "      <td>9.0</td>\n",
       "      <td>4.0</td>\n",
       "      <td>6.6</td>\n",
       "      <td>1.07</td>\n",
       "      <td>56.0</td>\n",
       "      <td>1022.3</td>\n",
       "      <td>19.7</td>\n",
       "      <td>27.6</td>\n",
       "      <td>27771100.0</td>\n",
       "    </tr>\n",
       "    <tr>\n",
       "      <th>2022-10-20 12:40:00-05:00</th>\n",
       "      <td>11.0</td>\n",
       "      <td>3.9</td>\n",
       "      <td>6.2</td>\n",
       "      <td>0.93</td>\n",
       "      <td>63.0</td>\n",
       "      <td>1020.7</td>\n",
       "      <td>20.3</td>\n",
       "      <td>27.4</td>\n",
       "      <td>27771460.0</td>\n",
       "    </tr>\n",
       "    <tr>\n",
       "      <th>2022-10-20 18:40:00-05:00</th>\n",
       "      <td>37.0</td>\n",
       "      <td>4.1</td>\n",
       "      <td>6.9</td>\n",
       "      <td>0.69</td>\n",
       "      <td>63.0</td>\n",
       "      <td>1020.2</td>\n",
       "      <td>21.2</td>\n",
       "      <td>27.4</td>\n",
       "      <td>27771820.0</td>\n",
       "    </tr>\n",
       "    <tr>\n",
       "      <th>2022-10-21 00:40:00-05:00</th>\n",
       "      <td>66.0</td>\n",
       "      <td>4.4</td>\n",
       "      <td>5.7</td>\n",
       "      <td>0.47</td>\n",
       "      <td>62.0</td>\n",
       "      <td>1018.3</td>\n",
       "      <td>22.0</td>\n",
       "      <td>27.4</td>\n",
       "      <td>27772180.0</td>\n",
       "    </tr>\n",
       "  </tbody>\n",
       "</table>\n",
       "<p>28947 rows × 9 columns</p>\n",
       "</div>"
      ],
      "text/plain": [
       "                           wind dir (deg)  wind spd (m/s)  wind gst (m/s)  \\\n",
       "timestamp                                                                   \n",
       "1994-08-17 18:00:00-05:00           185.0             6.0             7.6   \n",
       "1994-08-18 00:00:00-05:00           325.0             0.7             1.3   \n",
       "1994-08-18 06:00:00-05:00           132.0             7.1             8.8   \n",
       "1994-08-18 12:00:00-05:00           180.0             6.0             7.1   \n",
       "1995-02-01 06:00:00-05:00           159.0             4.6             6.1   \n",
       "...                                   ...             ...             ...   \n",
       "2022-10-20 00:40:00-05:00             8.0             6.4             9.9   \n",
       "2022-10-20 06:40:00-05:00             9.0             4.0             6.6   \n",
       "2022-10-20 12:40:00-05:00            11.0             3.9             6.2   \n",
       "2022-10-20 18:40:00-05:00            37.0             4.1             6.9   \n",
       "2022-10-21 00:40:00-05:00            66.0             4.4             5.7   \n",
       "\n",
       "                           wave hgt (ft)  mean wave dir (deg)  air pres (ft)  \\\n",
       "timestamp                                                                      \n",
       "1994-08-17 18:00:00-05:00           0.50                168.0         1016.5   \n",
       "1994-08-18 00:00:00-05:00           0.60                128.0         1015.1   \n",
       "1994-08-18 06:00:00-05:00           0.80                 73.0         1016.4   \n",
       "1994-08-18 12:00:00-05:00           1.10                153.0         1016.1   \n",
       "1995-02-01 06:00:00-05:00           0.40                 17.0         1020.2   \n",
       "...                                  ...                  ...            ...   \n",
       "2022-10-20 00:40:00-05:00           1.51                 18.0         1022.7   \n",
       "2022-10-20 06:40:00-05:00           1.07                 56.0         1022.3   \n",
       "2022-10-20 12:40:00-05:00           0.93                 63.0         1020.7   \n",
       "2022-10-20 18:40:00-05:00           0.69                 63.0         1020.2   \n",
       "2022-10-21 00:40:00-05:00           0.47                 62.0         1018.3   \n",
       "\n",
       "                           air temp (deg fah)  water temp (deg fah)  \\\n",
       "timestamp                                                             \n",
       "1994-08-17 18:00:00-05:00                29.7                  29.7   \n",
       "1994-08-18 00:00:00-05:00                30.7                  29.9   \n",
       "1994-08-18 06:00:00-05:00                28.6                  29.7   \n",
       "1994-08-18 12:00:00-05:00                29.0                  29.3   \n",
       "1995-02-01 06:00:00-05:00                17.5                  23.0   \n",
       "...                                       ...                   ...   \n",
       "2022-10-20 00:40:00-05:00                19.6                  27.6   \n",
       "2022-10-20 06:40:00-05:00                19.7                  27.6   \n",
       "2022-10-20 12:40:00-05:00                20.3                  27.4   \n",
       "2022-10-20 18:40:00-05:00                21.2                  27.4   \n",
       "2022-10-21 00:40:00-05:00                22.0                  27.4   \n",
       "\n",
       "                              minutes  \n",
       "timestamp                              \n",
       "1994-08-17 18:00:00-05:00  12952740.0  \n",
       "1994-08-18 00:00:00-05:00  12953100.0  \n",
       "1994-08-18 06:00:00-05:00  12953460.0  \n",
       "1994-08-18 12:00:00-05:00  12953820.0  \n",
       "1995-02-01 06:00:00-05:00  13193940.0  \n",
       "...                               ...  \n",
       "2022-10-20 00:40:00-05:00  27770740.0  \n",
       "2022-10-20 06:40:00-05:00  27771100.0  \n",
       "2022-10-20 12:40:00-05:00  27771460.0  \n",
       "2022-10-20 18:40:00-05:00  27771820.0  \n",
       "2022-10-21 00:40:00-05:00  27772180.0  \n",
       "\n",
       "[28947 rows x 9 columns]"
      ]
     },
     "execution_count": 92,
     "metadata": {},
     "output_type": "execute_result"
    }
   ],
   "source": [
    "def get_relative_minutes(df):\n",
    "    min_df = df.copy()\n",
    "    min_df['minutes'] = min_df.index.map(lambda x: x.timestamp() / 60)\n",
    "    return min_df\n",
    "df = get_relative_minutes(df)\n",
    "df"
   ]
  },
  {
   "cell_type": "code",
   "execution_count": 93,
   "metadata": {},
   "outputs": [
    {
     "data": {
      "text/html": [
       "<div>\n",
       "<style scoped>\n",
       "    .dataframe tbody tr th:only-of-type {\n",
       "        vertical-align: middle;\n",
       "    }\n",
       "\n",
       "    .dataframe tbody tr th {\n",
       "        vertical-align: top;\n",
       "    }\n",
       "\n",
       "    .dataframe thead th {\n",
       "        text-align: right;\n",
       "    }\n",
       "</style>\n",
       "<table border=\"1\" class=\"dataframe\">\n",
       "  <thead>\n",
       "    <tr style=\"text-align: right;\">\n",
       "      <th></th>\n",
       "      <th>wind dir (deg)</th>\n",
       "      <th>wind spd (m/s)</th>\n",
       "      <th>wind gst (m/s)</th>\n",
       "      <th>wave hgt (ft)</th>\n",
       "      <th>mean wave dir (deg)</th>\n",
       "      <th>air pres (ft)</th>\n",
       "      <th>air temp (deg fah)</th>\n",
       "      <th>water temp (deg fah)</th>\n",
       "      <th>minutes</th>\n",
       "      <th>Day sin</th>\n",
       "      <th>Day cos</th>\n",
       "      <th>Year sin</th>\n",
       "      <th>Year cos</th>\n",
       "    </tr>\n",
       "    <tr>\n",
       "      <th>timestamp</th>\n",
       "      <th></th>\n",
       "      <th></th>\n",
       "      <th></th>\n",
       "      <th></th>\n",
       "      <th></th>\n",
       "      <th></th>\n",
       "      <th></th>\n",
       "      <th></th>\n",
       "      <th></th>\n",
       "      <th></th>\n",
       "      <th></th>\n",
       "      <th></th>\n",
       "      <th></th>\n",
       "    </tr>\n",
       "  </thead>\n",
       "  <tbody>\n",
       "    <tr>\n",
       "      <th>1994-08-17 18:00:00-05:00</th>\n",
       "      <td>185.0</td>\n",
       "      <td>6.0</td>\n",
       "      <td>7.6</td>\n",
       "      <td>0.50</td>\n",
       "      <td>168.0</td>\n",
       "      <td>1016.5</td>\n",
       "      <td>29.7</td>\n",
       "      <td>29.7</td>\n",
       "      <td>12952740.0</td>\n",
       "      <td>-0.258819</td>\n",
       "      <td>0.965926</td>\n",
       "      <td>-0.717511</td>\n",
       "      <td>-0.696547</td>\n",
       "    </tr>\n",
       "    <tr>\n",
       "      <th>1994-08-18 00:00:00-05:00</th>\n",
       "      <td>325.0</td>\n",
       "      <td>0.7</td>\n",
       "      <td>1.3</td>\n",
       "      <td>0.60</td>\n",
       "      <td>128.0</td>\n",
       "      <td>1015.1</td>\n",
       "      <td>30.7</td>\n",
       "      <td>29.9</td>\n",
       "      <td>12953100.0</td>\n",
       "      <td>0.965926</td>\n",
       "      <td>0.258819</td>\n",
       "      <td>-0.720500</td>\n",
       "      <td>-0.693454</td>\n",
       "    </tr>\n",
       "    <tr>\n",
       "      <th>1994-08-18 06:00:00-05:00</th>\n",
       "      <td>132.0</td>\n",
       "      <td>7.1</td>\n",
       "      <td>8.8</td>\n",
       "      <td>0.80</td>\n",
       "      <td>73.0</td>\n",
       "      <td>1016.4</td>\n",
       "      <td>28.6</td>\n",
       "      <td>29.7</td>\n",
       "      <td>12953460.0</td>\n",
       "      <td>0.258819</td>\n",
       "      <td>-0.965926</td>\n",
       "      <td>-0.723476</td>\n",
       "      <td>-0.690349</td>\n",
       "    </tr>\n",
       "    <tr>\n",
       "      <th>1994-08-18 12:00:00-05:00</th>\n",
       "      <td>180.0</td>\n",
       "      <td>6.0</td>\n",
       "      <td>7.1</td>\n",
       "      <td>1.10</td>\n",
       "      <td>153.0</td>\n",
       "      <td>1016.1</td>\n",
       "      <td>29.0</td>\n",
       "      <td>29.3</td>\n",
       "      <td>12953820.0</td>\n",
       "      <td>-0.965926</td>\n",
       "      <td>-0.258819</td>\n",
       "      <td>-0.726438</td>\n",
       "      <td>-0.687232</td>\n",
       "    </tr>\n",
       "    <tr>\n",
       "      <th>1995-02-01 06:00:00-05:00</th>\n",
       "      <td>159.0</td>\n",
       "      <td>4.6</td>\n",
       "      <td>6.1</td>\n",
       "      <td>0.40</td>\n",
       "      <td>17.0</td>\n",
       "      <td>1020.2</td>\n",
       "      <td>17.5</td>\n",
       "      <td>23.0</td>\n",
       "      <td>13193940.0</td>\n",
       "      <td>0.258819</td>\n",
       "      <td>-0.965926</td>\n",
       "      <td>0.514218</td>\n",
       "      <td>0.857660</td>\n",
       "    </tr>\n",
       "    <tr>\n",
       "      <th>...</th>\n",
       "      <td>...</td>\n",
       "      <td>...</td>\n",
       "      <td>...</td>\n",
       "      <td>...</td>\n",
       "      <td>...</td>\n",
       "      <td>...</td>\n",
       "      <td>...</td>\n",
       "      <td>...</td>\n",
       "      <td>...</td>\n",
       "      <td>...</td>\n",
       "      <td>...</td>\n",
       "      <td>...</td>\n",
       "      <td>...</td>\n",
       "    </tr>\n",
       "    <tr>\n",
       "      <th>2022-10-20 00:40:00-05:00</th>\n",
       "      <td>8.0</td>\n",
       "      <td>6.4</td>\n",
       "      <td>9.9</td>\n",
       "      <td>1.51</td>\n",
       "      <td>18.0</td>\n",
       "      <td>1022.7</td>\n",
       "      <td>19.6</td>\n",
       "      <td>27.6</td>\n",
       "      <td>27770740.0</td>\n",
       "      <td>0.996195</td>\n",
       "      <td>0.087156</td>\n",
       "      <td>-0.948733</td>\n",
       "      <td>0.316078</td>\n",
       "    </tr>\n",
       "    <tr>\n",
       "      <th>2022-10-20 06:40:00-05:00</th>\n",
       "      <td>9.0</td>\n",
       "      <td>4.0</td>\n",
       "      <td>6.6</td>\n",
       "      <td>1.07</td>\n",
       "      <td>56.0</td>\n",
       "      <td>1022.3</td>\n",
       "      <td>19.7</td>\n",
       "      <td>27.6</td>\n",
       "      <td>27771100.0</td>\n",
       "      <td>0.087156</td>\n",
       "      <td>-0.996195</td>\n",
       "      <td>-0.947365</td>\n",
       "      <td>0.320155</td>\n",
       "    </tr>\n",
       "    <tr>\n",
       "      <th>2022-10-20 12:40:00-05:00</th>\n",
       "      <td>11.0</td>\n",
       "      <td>3.9</td>\n",
       "      <td>6.2</td>\n",
       "      <td>0.93</td>\n",
       "      <td>63.0</td>\n",
       "      <td>1020.7</td>\n",
       "      <td>20.3</td>\n",
       "      <td>27.4</td>\n",
       "      <td>27771460.0</td>\n",
       "      <td>-0.996195</td>\n",
       "      <td>-0.087156</td>\n",
       "      <td>-0.945979</td>\n",
       "      <td>0.324227</td>\n",
       "    </tr>\n",
       "    <tr>\n",
       "      <th>2022-10-20 18:40:00-05:00</th>\n",
       "      <td>37.0</td>\n",
       "      <td>4.1</td>\n",
       "      <td>6.9</td>\n",
       "      <td>0.69</td>\n",
       "      <td>63.0</td>\n",
       "      <td>1020.2</td>\n",
       "      <td>21.2</td>\n",
       "      <td>27.4</td>\n",
       "      <td>27771820.0</td>\n",
       "      <td>-0.087156</td>\n",
       "      <td>0.996195</td>\n",
       "      <td>-0.944576</td>\n",
       "      <td>0.328292</td>\n",
       "    </tr>\n",
       "    <tr>\n",
       "      <th>2022-10-21 00:40:00-05:00</th>\n",
       "      <td>66.0</td>\n",
       "      <td>4.4</td>\n",
       "      <td>5.7</td>\n",
       "      <td>0.47</td>\n",
       "      <td>62.0</td>\n",
       "      <td>1018.3</td>\n",
       "      <td>22.0</td>\n",
       "      <td>27.4</td>\n",
       "      <td>27772180.0</td>\n",
       "      <td>0.996195</td>\n",
       "      <td>0.087156</td>\n",
       "      <td>-0.943156</td>\n",
       "      <td>0.332351</td>\n",
       "    </tr>\n",
       "  </tbody>\n",
       "</table>\n",
       "<p>28947 rows × 13 columns</p>\n",
       "</div>"
      ],
      "text/plain": [
       "                           wind dir (deg)  wind spd (m/s)  wind gst (m/s)  \\\n",
       "timestamp                                                                   \n",
       "1994-08-17 18:00:00-05:00           185.0             6.0             7.6   \n",
       "1994-08-18 00:00:00-05:00           325.0             0.7             1.3   \n",
       "1994-08-18 06:00:00-05:00           132.0             7.1             8.8   \n",
       "1994-08-18 12:00:00-05:00           180.0             6.0             7.1   \n",
       "1995-02-01 06:00:00-05:00           159.0             4.6             6.1   \n",
       "...                                   ...             ...             ...   \n",
       "2022-10-20 00:40:00-05:00             8.0             6.4             9.9   \n",
       "2022-10-20 06:40:00-05:00             9.0             4.0             6.6   \n",
       "2022-10-20 12:40:00-05:00            11.0             3.9             6.2   \n",
       "2022-10-20 18:40:00-05:00            37.0             4.1             6.9   \n",
       "2022-10-21 00:40:00-05:00            66.0             4.4             5.7   \n",
       "\n",
       "                           wave hgt (ft)  mean wave dir (deg)  air pres (ft)  \\\n",
       "timestamp                                                                      \n",
       "1994-08-17 18:00:00-05:00           0.50                168.0         1016.5   \n",
       "1994-08-18 00:00:00-05:00           0.60                128.0         1015.1   \n",
       "1994-08-18 06:00:00-05:00           0.80                 73.0         1016.4   \n",
       "1994-08-18 12:00:00-05:00           1.10                153.0         1016.1   \n",
       "1995-02-01 06:00:00-05:00           0.40                 17.0         1020.2   \n",
       "...                                  ...                  ...            ...   \n",
       "2022-10-20 00:40:00-05:00           1.51                 18.0         1022.7   \n",
       "2022-10-20 06:40:00-05:00           1.07                 56.0         1022.3   \n",
       "2022-10-20 12:40:00-05:00           0.93                 63.0         1020.7   \n",
       "2022-10-20 18:40:00-05:00           0.69                 63.0         1020.2   \n",
       "2022-10-21 00:40:00-05:00           0.47                 62.0         1018.3   \n",
       "\n",
       "                           air temp (deg fah)  water temp (deg fah)  \\\n",
       "timestamp                                                             \n",
       "1994-08-17 18:00:00-05:00                29.7                  29.7   \n",
       "1994-08-18 00:00:00-05:00                30.7                  29.9   \n",
       "1994-08-18 06:00:00-05:00                28.6                  29.7   \n",
       "1994-08-18 12:00:00-05:00                29.0                  29.3   \n",
       "1995-02-01 06:00:00-05:00                17.5                  23.0   \n",
       "...                                       ...                   ...   \n",
       "2022-10-20 00:40:00-05:00                19.6                  27.6   \n",
       "2022-10-20 06:40:00-05:00                19.7                  27.6   \n",
       "2022-10-20 12:40:00-05:00                20.3                  27.4   \n",
       "2022-10-20 18:40:00-05:00                21.2                  27.4   \n",
       "2022-10-21 00:40:00-05:00                22.0                  27.4   \n",
       "\n",
       "                              minutes   Day sin   Day cos  Year sin  Year cos  \n",
       "timestamp                                                                      \n",
       "1994-08-17 18:00:00-05:00  12952740.0 -0.258819  0.965926 -0.717511 -0.696547  \n",
       "1994-08-18 00:00:00-05:00  12953100.0  0.965926  0.258819 -0.720500 -0.693454  \n",
       "1994-08-18 06:00:00-05:00  12953460.0  0.258819 -0.965926 -0.723476 -0.690349  \n",
       "1994-08-18 12:00:00-05:00  12953820.0 -0.965926 -0.258819 -0.726438 -0.687232  \n",
       "1995-02-01 06:00:00-05:00  13193940.0  0.258819 -0.965926  0.514218  0.857660  \n",
       "...                               ...       ...       ...       ...       ...  \n",
       "2022-10-20 00:40:00-05:00  27770740.0  0.996195  0.087156 -0.948733  0.316078  \n",
       "2022-10-20 06:40:00-05:00  27771100.0  0.087156 -0.996195 -0.947365  0.320155  \n",
       "2022-10-20 12:40:00-05:00  27771460.0 -0.996195 -0.087156 -0.945979  0.324227  \n",
       "2022-10-20 18:40:00-05:00  27771820.0 -0.087156  0.996195 -0.944576  0.328292  \n",
       "2022-10-21 00:40:00-05:00  27772180.0  0.996195  0.087156 -0.943156  0.332351  \n",
       "\n",
       "[28947 rows x 13 columns]"
      ]
     },
     "execution_count": 93,
     "metadata": {},
     "output_type": "execute_result"
    }
   ],
   "source": [
    "day = 60*24\n",
    "year = 365.2425*day\n",
    "df['Day sin'] = np.sin(df['minutes'] * (2 * np.pi / day))\n",
    "df['Day cos'] = np.cos(df['minutes'] * (2 * np.pi / day))\n",
    "df['Year sin'] = np.sin(df['minutes'] * (2 * np.pi / year))\n",
    "df['Year cos'] = np.cos(df['minutes'] * (2 * np.pi / year))\n",
    "df"
   ]
  },
  {
   "cell_type": "markdown",
   "metadata": {},
   "source": [
    "### we can remove the minutes column now that we have periodic values sin and cos"
   ]
  },
  {
   "cell_type": "code",
   "execution_count": 94,
   "metadata": {},
   "outputs": [],
   "source": [
    "df = df.drop(['minutes'], axis=1)"
   ]
  },
  {
   "cell_type": "code",
   "execution_count": 95,
   "metadata": {},
   "outputs": [],
   "source": [
    "def prediction_2(df, window=4):\n",
    "    df_as_np = df.to_numpy()\n",
    "    X = []\n",
    "    y = []\n",
    "    for i in range (len(df_as_np) - window):\n",
    "        row = [a for a in df_as_np[i:i+window]]\n",
    "        X.append(row)\n",
    "        label = df_as_np[i+window][0]\n",
    "        y.append(label)\n",
    "    return np.array(X), np.array(y)"
   ]
  },
  {
   "cell_type": "code",
   "execution_count": 96,
   "metadata": {},
   "outputs": [
    {
     "data": {
      "text/html": [
       "<div>\n",
       "<style scoped>\n",
       "    .dataframe tbody tr th:only-of-type {\n",
       "        vertical-align: middle;\n",
       "    }\n",
       "\n",
       "    .dataframe tbody tr th {\n",
       "        vertical-align: top;\n",
       "    }\n",
       "\n",
       "    .dataframe thead th {\n",
       "        text-align: right;\n",
       "    }\n",
       "</style>\n",
       "<table border=\"1\" class=\"dataframe\">\n",
       "  <thead>\n",
       "    <tr style=\"text-align: right;\">\n",
       "      <th></th>\n",
       "      <th>water temp (deg fah)</th>\n",
       "      <th>Day sin</th>\n",
       "      <th>Day cos</th>\n",
       "      <th>Year sin</th>\n",
       "      <th>Year cos</th>\n",
       "    </tr>\n",
       "    <tr>\n",
       "      <th>timestamp</th>\n",
       "      <th></th>\n",
       "      <th></th>\n",
       "      <th></th>\n",
       "      <th></th>\n",
       "      <th></th>\n",
       "    </tr>\n",
       "  </thead>\n",
       "  <tbody>\n",
       "    <tr>\n",
       "      <th>1994-08-17 18:00:00-05:00</th>\n",
       "      <td>29.7</td>\n",
       "      <td>-0.258819</td>\n",
       "      <td>0.965926</td>\n",
       "      <td>-0.717511</td>\n",
       "      <td>-0.696547</td>\n",
       "    </tr>\n",
       "    <tr>\n",
       "      <th>1994-08-18 00:00:00-05:00</th>\n",
       "      <td>29.9</td>\n",
       "      <td>0.965926</td>\n",
       "      <td>0.258819</td>\n",
       "      <td>-0.720500</td>\n",
       "      <td>-0.693454</td>\n",
       "    </tr>\n",
       "    <tr>\n",
       "      <th>1994-08-18 06:00:00-05:00</th>\n",
       "      <td>29.7</td>\n",
       "      <td>0.258819</td>\n",
       "      <td>-0.965926</td>\n",
       "      <td>-0.723476</td>\n",
       "      <td>-0.690349</td>\n",
       "    </tr>\n",
       "    <tr>\n",
       "      <th>1994-08-18 12:00:00-05:00</th>\n",
       "      <td>29.3</td>\n",
       "      <td>-0.965926</td>\n",
       "      <td>-0.258819</td>\n",
       "      <td>-0.726438</td>\n",
       "      <td>-0.687232</td>\n",
       "    </tr>\n",
       "    <tr>\n",
       "      <th>1995-02-01 06:00:00-05:00</th>\n",
       "      <td>23.0</td>\n",
       "      <td>0.258819</td>\n",
       "      <td>-0.965926</td>\n",
       "      <td>0.514218</td>\n",
       "      <td>0.857660</td>\n",
       "    </tr>\n",
       "    <tr>\n",
       "      <th>...</th>\n",
       "      <td>...</td>\n",
       "      <td>...</td>\n",
       "      <td>...</td>\n",
       "      <td>...</td>\n",
       "      <td>...</td>\n",
       "    </tr>\n",
       "    <tr>\n",
       "      <th>2022-10-20 00:40:00-05:00</th>\n",
       "      <td>27.6</td>\n",
       "      <td>0.996195</td>\n",
       "      <td>0.087156</td>\n",
       "      <td>-0.948733</td>\n",
       "      <td>0.316078</td>\n",
       "    </tr>\n",
       "    <tr>\n",
       "      <th>2022-10-20 06:40:00-05:00</th>\n",
       "      <td>27.6</td>\n",
       "      <td>0.087156</td>\n",
       "      <td>-0.996195</td>\n",
       "      <td>-0.947365</td>\n",
       "      <td>0.320155</td>\n",
       "    </tr>\n",
       "    <tr>\n",
       "      <th>2022-10-20 12:40:00-05:00</th>\n",
       "      <td>27.4</td>\n",
       "      <td>-0.996195</td>\n",
       "      <td>-0.087156</td>\n",
       "      <td>-0.945979</td>\n",
       "      <td>0.324227</td>\n",
       "    </tr>\n",
       "    <tr>\n",
       "      <th>2022-10-20 18:40:00-05:00</th>\n",
       "      <td>27.4</td>\n",
       "      <td>-0.087156</td>\n",
       "      <td>0.996195</td>\n",
       "      <td>-0.944576</td>\n",
       "      <td>0.328292</td>\n",
       "    </tr>\n",
       "    <tr>\n",
       "      <th>2022-10-21 00:40:00-05:00</th>\n",
       "      <td>27.4</td>\n",
       "      <td>0.996195</td>\n",
       "      <td>0.087156</td>\n",
       "      <td>-0.943156</td>\n",
       "      <td>0.332351</td>\n",
       "    </tr>\n",
       "  </tbody>\n",
       "</table>\n",
       "<p>28947 rows × 5 columns</p>\n",
       "</div>"
      ],
      "text/plain": [
       "                           water temp (deg fah)   Day sin   Day cos  Year sin  \\\n",
       "timestamp                                                                       \n",
       "1994-08-17 18:00:00-05:00                  29.7 -0.258819  0.965926 -0.717511   \n",
       "1994-08-18 00:00:00-05:00                  29.9  0.965926  0.258819 -0.720500   \n",
       "1994-08-18 06:00:00-05:00                  29.7  0.258819 -0.965926 -0.723476   \n",
       "1994-08-18 12:00:00-05:00                  29.3 -0.965926 -0.258819 -0.726438   \n",
       "1995-02-01 06:00:00-05:00                  23.0  0.258819 -0.965926  0.514218   \n",
       "...                                         ...       ...       ...       ...   \n",
       "2022-10-20 00:40:00-05:00                  27.6  0.996195  0.087156 -0.948733   \n",
       "2022-10-20 06:40:00-05:00                  27.6  0.087156 -0.996195 -0.947365   \n",
       "2022-10-20 12:40:00-05:00                  27.4 -0.996195 -0.087156 -0.945979   \n",
       "2022-10-20 18:40:00-05:00                  27.4 -0.087156  0.996195 -0.944576   \n",
       "2022-10-21 00:40:00-05:00                  27.4  0.996195  0.087156 -0.943156   \n",
       "\n",
       "                           Year cos  \n",
       "timestamp                            \n",
       "1994-08-17 18:00:00-05:00 -0.696547  \n",
       "1994-08-18 00:00:00-05:00 -0.693454  \n",
       "1994-08-18 06:00:00-05:00 -0.690349  \n",
       "1994-08-18 12:00:00-05:00 -0.687232  \n",
       "1995-02-01 06:00:00-05:00  0.857660  \n",
       "...                             ...  \n",
       "2022-10-20 00:40:00-05:00  0.316078  \n",
       "2022-10-20 06:40:00-05:00  0.320155  \n",
       "2022-10-20 12:40:00-05:00  0.324227  \n",
       "2022-10-20 18:40:00-05:00  0.328292  \n",
       "2022-10-21 00:40:00-05:00  0.332351  \n",
       "\n",
       "[28947 rows x 5 columns]"
      ]
     },
     "execution_count": 96,
     "metadata": {},
     "output_type": "execute_result"
    }
   ],
   "source": [
    "df2 = df.loc[:, ['water temp (deg fah)', 'Day sin', 'Day cos', 'Year sin', 'Year cos']]\n",
    "df2"
   ]
  },
  {
   "cell_type": "code",
   "execution_count": 97,
   "metadata": {},
   "outputs": [
    {
     "data": {
      "text/plain": [
       "((28943, 4, 5), (28943,))"
      ]
     },
     "execution_count": 97,
     "metadata": {},
     "output_type": "execute_result"
    }
   ],
   "source": [
    "X2, y2 = prediction_2(df2)\n",
    "X2.shape, y2.shape\n"
   ]
  },
  {
   "cell_type": "code",
   "execution_count": 98,
   "metadata": {},
   "outputs": [],
   "source": [
    "X2_train, y2_train = X2[:int(0.7*len(X2))], y2[:int(0.7*len(y2))] #first 80 for train\n",
    "X2_val, y2_val = X2[int(0.7*len(X2)):int(0.9*len(X2))], y2[int(0.7*len(y2)):int(0.9*len(y2))] #70 to 90 for validation\n",
    "X2_test, y2_test = X2[int(0.9*len(X2)):], y2[int(0.9*len(y2)):] #last 10 for test"
   ]
  },
  {
   "cell_type": "markdown",
   "metadata": {},
   "source": [
    "### Bring water temp into the same scale as the sin and cos values"
   ]
  },
  {
   "cell_type": "code",
   "execution_count": 99,
   "metadata": {},
   "outputs": [],
   "source": [
    "temp_training_mean = np.mean(X2_train[:, :, 0])\n",
    "temp_training_std = np.std(X2_train[:, :, 0])\n",
    "\n",
    "def preprocess(X):\n",
    "    X[:, :, 0] = (X[:, :, 0] - temp_training_mean) / temp_training_std\n",
    "    return X\n"
   ]
  },
  {
   "cell_type": "code",
   "execution_count": 100,
   "metadata": {},
   "outputs": [
    {
     "data": {
      "text/plain": [
       "array([[[ 1.51388861, -0.99904822, -0.04361939, -0.77166725,\n",
       "         -0.63602646],\n",
       "        [ 1.58481004, -0.04361939,  0.99904822, -0.77439546,\n",
       "         -0.63270188],\n",
       "        [ 1.51388861,  0.99904822,  0.04361939, -0.77710935,\n",
       "         -0.6293656 ],\n",
       "        [ 1.51388861,  0.04361939, -0.99904822, -0.77980886,\n",
       "         -0.62601768]],\n",
       "\n",
       "       [[ 1.58481004, -0.04361939,  0.99904822, -0.77439546,\n",
       "         -0.63270188],\n",
       "        [ 1.51388861,  0.99904822,  0.04361939, -0.77710935,\n",
       "         -0.6293656 ],\n",
       "        [ 1.51388861,  0.04361939, -0.99904822, -0.77980886,\n",
       "         -0.62601768],\n",
       "        [ 1.47842789, -0.99904822, -0.04361939, -0.78249395,\n",
       "         -0.62265819]],\n",
       "\n",
       "       [[ 1.51388861,  0.99904822,  0.04361939, -0.77710935,\n",
       "         -0.6293656 ],\n",
       "        [ 1.51388861,  0.04361939, -0.99904822, -0.77980886,\n",
       "         -0.62601768],\n",
       "        [ 1.47842789, -0.99904822, -0.04361939, -0.78249395,\n",
       "         -0.62265819],\n",
       "        [ 1.44296717, -0.04361939,  0.99904822, -0.78516457,\n",
       "         -0.61928717]],\n",
       "\n",
       "       ...,\n",
       "\n",
       "       [[ 0.52098855, -0.9961947 , -0.08715574, -0.95141676,\n",
       "          0.30790607],\n",
       "        [ 0.48552783, -0.08715574,  0.9961947 , -0.95008376,\n",
       "          0.31199496],\n",
       "        [ 0.45006711,  0.9961947 ,  0.08715574, -0.94873318,\n",
       "          0.31607808],\n",
       "        [ 0.45006711,  0.08715574, -0.9961947 , -0.94736506,\n",
       "          0.32015536]],\n",
       "\n",
       "       [[ 0.48552783, -0.08715574,  0.9961947 , -0.95008376,\n",
       "          0.31199496],\n",
       "        [ 0.45006711,  0.9961947 ,  0.08715574, -0.94873318,\n",
       "          0.31607808],\n",
       "        [ 0.45006711,  0.08715574, -0.9961947 , -0.94736506,\n",
       "          0.32015536],\n",
       "        [ 0.37914568, -0.9961947 , -0.08715574, -0.94597941,\n",
       "          0.32422671]],\n",
       "\n",
       "       [[ 0.45006711,  0.9961947 ,  0.08715574, -0.94873318,\n",
       "          0.31607808],\n",
       "        [ 0.45006711,  0.08715574, -0.9961947 , -0.94736506,\n",
       "          0.32015536],\n",
       "        [ 0.37914568, -0.9961947 , -0.08715574, -0.94597941,\n",
       "          0.32422671],\n",
       "        [ 0.37914568, -0.08715574,  0.9961947 , -0.94457626,\n",
       "          0.32829207]]])"
      ]
     },
     "execution_count": 100,
     "metadata": {},
     "output_type": "execute_result"
    }
   ],
   "source": [
    "preprocess(X2_train)\n",
    "preprocess(X2_val)\n",
    "preprocess(X2_test)"
   ]
  },
  {
   "cell_type": "code",
   "execution_count": 101,
   "metadata": {},
   "outputs": [
    {
     "data": {
      "text/html": [
       "<pre style=\"white-space:pre;overflow-x:auto;line-height:normal;font-family:Menlo,'DejaVu Sans Mono',consolas,'Courier New',monospace\"><span style=\"font-weight: bold\">Model: \"sequential_10\"</span>\n",
       "</pre>\n"
      ],
      "text/plain": [
       "\u001b[1mModel: \"sequential_10\"\u001b[0m\n"
      ]
     },
     "metadata": {},
     "output_type": "display_data"
    },
    {
     "data": {
      "text/html": [
       "<pre style=\"white-space:pre;overflow-x:auto;line-height:normal;font-family:Menlo,'DejaVu Sans Mono',consolas,'Courier New',monospace\">┏━━━━━━━━━━━━━━━━━━━━━━━━━━━━━━━━━┳━━━━━━━━━━━━━━━━━━━━━━━━┳━━━━━━━━━━━━━━━┓\n",
       "┃<span style=\"font-weight: bold\"> Layer (type)                    </span>┃<span style=\"font-weight: bold\"> Output Shape           </span>┃<span style=\"font-weight: bold\">       Param # </span>┃\n",
       "┡━━━━━━━━━━━━━━━━━━━━━━━━━━━━━━━━━╇━━━━━━━━━━━━━━━━━━━━━━━━╇━━━━━━━━━━━━━━━┩\n",
       "│ lstm_6 (<span style=\"color: #0087ff; text-decoration-color: #0087ff\">LSTM</span>)                   │ (<span style=\"color: #00d7ff; text-decoration-color: #00d7ff\">None</span>, <span style=\"color: #00af00; text-decoration-color: #00af00\">64</span>)             │        <span style=\"color: #00af00; text-decoration-color: #00af00\">17,920</span> │\n",
       "├─────────────────────────────────┼────────────────────────┼───────────────┤\n",
       "│ dense_18 (<span style=\"color: #0087ff; text-decoration-color: #0087ff\">Dense</span>)                │ (<span style=\"color: #00d7ff; text-decoration-color: #00d7ff\">None</span>, <span style=\"color: #00af00; text-decoration-color: #00af00\">8</span>)              │           <span style=\"color: #00af00; text-decoration-color: #00af00\">520</span> │\n",
       "├─────────────────────────────────┼────────────────────────┼───────────────┤\n",
       "│ dense_19 (<span style=\"color: #0087ff; text-decoration-color: #0087ff\">Dense</span>)                │ (<span style=\"color: #00d7ff; text-decoration-color: #00d7ff\">None</span>, <span style=\"color: #00af00; text-decoration-color: #00af00\">1</span>)              │             <span style=\"color: #00af00; text-decoration-color: #00af00\">9</span> │\n",
       "└─────────────────────────────────┴────────────────────────┴───────────────┘\n",
       "</pre>\n"
      ],
      "text/plain": [
       "┏━━━━━━━━━━━━━━━━━━━━━━━━━━━━━━━━━┳━━━━━━━━━━━━━━━━━━━━━━━━┳━━━━━━━━━━━━━━━┓\n",
       "┃\u001b[1m \u001b[0m\u001b[1mLayer (type)                   \u001b[0m\u001b[1m \u001b[0m┃\u001b[1m \u001b[0m\u001b[1mOutput Shape          \u001b[0m\u001b[1m \u001b[0m┃\u001b[1m \u001b[0m\u001b[1m      Param #\u001b[0m\u001b[1m \u001b[0m┃\n",
       "┡━━━━━━━━━━━━━━━━━━━━━━━━━━━━━━━━━╇━━━━━━━━━━━━━━━━━━━━━━━━╇━━━━━━━━━━━━━━━┩\n",
       "│ lstm_6 (\u001b[38;5;33mLSTM\u001b[0m)                   │ (\u001b[38;5;45mNone\u001b[0m, \u001b[38;5;34m64\u001b[0m)             │        \u001b[38;5;34m17,920\u001b[0m │\n",
       "├─────────────────────────────────┼────────────────────────┼───────────────┤\n",
       "│ dense_18 (\u001b[38;5;33mDense\u001b[0m)                │ (\u001b[38;5;45mNone\u001b[0m, \u001b[38;5;34m8\u001b[0m)              │           \u001b[38;5;34m520\u001b[0m │\n",
       "├─────────────────────────────────┼────────────────────────┼───────────────┤\n",
       "│ dense_19 (\u001b[38;5;33mDense\u001b[0m)                │ (\u001b[38;5;45mNone\u001b[0m, \u001b[38;5;34m1\u001b[0m)              │             \u001b[38;5;34m9\u001b[0m │\n",
       "└─────────────────────────────────┴────────────────────────┴───────────────┘\n"
      ]
     },
     "metadata": {},
     "output_type": "display_data"
    },
    {
     "data": {
      "text/html": [
       "<pre style=\"white-space:pre;overflow-x:auto;line-height:normal;font-family:Menlo,'DejaVu Sans Mono',consolas,'Courier New',monospace\"><span style=\"font-weight: bold\"> Total params: </span><span style=\"color: #00af00; text-decoration-color: #00af00\">18,449</span> (72.07 KB)\n",
       "</pre>\n"
      ],
      "text/plain": [
       "\u001b[1m Total params: \u001b[0m\u001b[38;5;34m18,449\u001b[0m (72.07 KB)\n"
      ]
     },
     "metadata": {},
     "output_type": "display_data"
    },
    {
     "data": {
      "text/html": [
       "<pre style=\"white-space:pre;overflow-x:auto;line-height:normal;font-family:Menlo,'DejaVu Sans Mono',consolas,'Courier New',monospace\"><span style=\"font-weight: bold\"> Trainable params: </span><span style=\"color: #00af00; text-decoration-color: #00af00\">18,449</span> (72.07 KB)\n",
       "</pre>\n"
      ],
      "text/plain": [
       "\u001b[1m Trainable params: \u001b[0m\u001b[38;5;34m18,449\u001b[0m (72.07 KB)\n"
      ]
     },
     "metadata": {},
     "output_type": "display_data"
    },
    {
     "data": {
      "text/html": [
       "<pre style=\"white-space:pre;overflow-x:auto;line-height:normal;font-family:Menlo,'DejaVu Sans Mono',consolas,'Courier New',monospace\"><span style=\"font-weight: bold\"> Non-trainable params: </span><span style=\"color: #00af00; text-decoration-color: #00af00\">0</span> (0.00 B)\n",
       "</pre>\n"
      ],
      "text/plain": [
       "\u001b[1m Non-trainable params: \u001b[0m\u001b[38;5;34m0\u001b[0m (0.00 B)\n"
      ]
     },
     "metadata": {},
     "output_type": "display_data"
    }
   ],
   "source": [
    "model4 = Sequential()\n",
    "model4.add(InputLayer((4, 5)))\n",
    "model4.add(LSTM(64))\n",
    "model4.add(Dense(8, 'relu'))\n",
    "model4.add(Dense(1, 'linear'))\n",
    "model4.summary()"
   ]
  },
  {
   "cell_type": "code",
   "execution_count": 102,
   "metadata": {},
   "outputs": [
    {
     "name": "stdout",
     "output_type": "stream",
     "text": [
      "Epoch 1/20\n"
     ]
    },
    {
     "name": "stdout",
     "output_type": "stream",
     "text": [
      "\u001b[1m634/634\u001b[0m \u001b[32m━━━━━━━━━━━━━━━━━━━━\u001b[0m\u001b[37m\u001b[0m \u001b[1m3s\u001b[0m 3ms/step - loss: 668.6605 - root_mean_squared_error: 25.8529 - val_loss: 410.0600 - val_root_mean_squared_error: 20.2463\n",
      "Epoch 2/20\n",
      "\u001b[1m634/634\u001b[0m \u001b[32m━━━━━━━━━━━━━━━━━━━━\u001b[0m\u001b[37m\u001b[0m \u001b[1m2s\u001b[0m 3ms/step - loss: 272.6438 - root_mean_squared_error: 16.3826 - val_loss: 4.9683 - val_root_mean_squared_error: 2.2282\n",
      "Epoch 3/20\n",
      "\u001b[1m634/634\u001b[0m \u001b[32m━━━━━━━━━━━━━━━━━━━━\u001b[0m\u001b[37m\u001b[0m \u001b[1m2s\u001b[0m 3ms/step - loss: 1.9063 - root_mean_squared_error: 1.3643 - val_loss: 0.9480 - val_root_mean_squared_error: 0.9731\n",
      "Epoch 4/20\n",
      "\u001b[1m634/634\u001b[0m \u001b[32m━━━━━━━━━━━━━━━━━━━━\u001b[0m\u001b[37m\u001b[0m \u001b[1m2s\u001b[0m 3ms/step - loss: 0.7207 - root_mean_squared_error: 0.8485 - val_loss: 0.6971 - val_root_mean_squared_error: 0.8344\n",
      "Epoch 5/20\n",
      "\u001b[1m634/634\u001b[0m \u001b[32m━━━━━━━━━━━━━━━━━━━━\u001b[0m\u001b[37m\u001b[0m \u001b[1m2s\u001b[0m 3ms/step - loss: 0.5159 - root_mean_squared_error: 0.7179 - val_loss: 0.5086 - val_root_mean_squared_error: 0.7127\n",
      "Epoch 6/20\n",
      "\u001b[1m634/634\u001b[0m \u001b[32m━━━━━━━━━━━━━━━━━━━━\u001b[0m\u001b[37m\u001b[0m \u001b[1m2s\u001b[0m 3ms/step - loss: 0.3783 - root_mean_squared_error: 0.6148 - val_loss: 0.3802 - val_root_mean_squared_error: 0.6162\n",
      "Epoch 7/20\n",
      "\u001b[1m634/634\u001b[0m \u001b[32m━━━━━━━━━━━━━━━━━━━━\u001b[0m\u001b[37m\u001b[0m \u001b[1m2s\u001b[0m 3ms/step - loss: 0.2815 - root_mean_squared_error: 0.5305 - val_loss: 0.3015 - val_root_mean_squared_error: 0.5487\n",
      "Epoch 8/20\n",
      "\u001b[1m634/634\u001b[0m \u001b[32m━━━━━━━━━━━━━━━━━━━━\u001b[0m\u001b[37m\u001b[0m \u001b[1m2s\u001b[0m 3ms/step - loss: 0.2311 - root_mean_squared_error: 0.4807 - val_loss: 0.2385 - val_root_mean_squared_error: 0.4880\n",
      "Epoch 9/20\n",
      "\u001b[1m634/634\u001b[0m \u001b[32m━━━━━━━━━━━━━━━━━━━━\u001b[0m\u001b[37m\u001b[0m \u001b[1m2s\u001b[0m 3ms/step - loss: 0.2019 - root_mean_squared_error: 0.4491 - val_loss: 0.1985 - val_root_mean_squared_error: 0.4452\n",
      "Epoch 10/20\n",
      "\u001b[1m634/634\u001b[0m \u001b[32m━━━━━━━━━━━━━━━━━━━━\u001b[0m\u001b[37m\u001b[0m \u001b[1m2s\u001b[0m 3ms/step - loss: 0.1565 - root_mean_squared_error: 0.3955 - val_loss: 0.1661 - val_root_mean_squared_error: 0.4073\n",
      "Epoch 11/20\n",
      "\u001b[1m634/634\u001b[0m \u001b[32m━━━━━━━━━━━━━━━━━━━━\u001b[0m\u001b[37m\u001b[0m \u001b[1m2s\u001b[0m 3ms/step - loss: 0.1425 - root_mean_squared_error: 0.3773 - val_loss: 0.1513 - val_root_mean_squared_error: 0.3887\n",
      "Epoch 12/20\n",
      "\u001b[1m634/634\u001b[0m \u001b[32m━━━━━━━━━━━━━━━━━━━━\u001b[0m\u001b[37m\u001b[0m \u001b[1m2s\u001b[0m 3ms/step - loss: 0.1251 - root_mean_squared_error: 0.3537 - val_loss: 0.1315 - val_root_mean_squared_error: 0.3624\n",
      "Epoch 13/20\n",
      "\u001b[1m634/634\u001b[0m \u001b[32m━━━━━━━━━━━━━━━━━━━━\u001b[0m\u001b[37m\u001b[0m \u001b[1m2s\u001b[0m 3ms/step - loss: 0.1166 - root_mean_squared_error: 0.3413 - val_loss: 0.1259 - val_root_mean_squared_error: 0.3547\n",
      "Epoch 14/20\n",
      "\u001b[1m634/634\u001b[0m \u001b[32m━━━━━━━━━━━━━━━━━━━━\u001b[0m\u001b[37m\u001b[0m \u001b[1m2s\u001b[0m 3ms/step - loss: 0.1378 - root_mean_squared_error: 0.3681 - val_loss: 0.1177 - val_root_mean_squared_error: 0.3429\n",
      "Epoch 15/20\n",
      "\u001b[1m634/634\u001b[0m \u001b[32m━━━━━━━━━━━━━━━━━━━━\u001b[0m\u001b[37m\u001b[0m \u001b[1m2s\u001b[0m 3ms/step - loss: 0.1174 - root_mean_squared_error: 0.3424 - val_loss: 0.1147 - val_root_mean_squared_error: 0.3386\n",
      "Epoch 16/20\n",
      "\u001b[1m634/634\u001b[0m \u001b[32m━━━━━━━━━━━━━━━━━━━━\u001b[0m\u001b[37m\u001b[0m \u001b[1m2s\u001b[0m 3ms/step - loss: 0.1073 - root_mean_squared_error: 0.3272 - val_loss: 0.1091 - val_root_mean_squared_error: 0.3303\n",
      "Epoch 17/20\n",
      "\u001b[1m634/634\u001b[0m \u001b[32m━━━━━━━━━━━━━━━━━━━━\u001b[0m\u001b[37m\u001b[0m \u001b[1m2s\u001b[0m 3ms/step - loss: 0.1016 - root_mean_squared_error: 0.3184 - val_loss: 0.1114 - val_root_mean_squared_error: 0.3338\n",
      "Epoch 18/20\n",
      "\u001b[1m634/634\u001b[0m \u001b[32m━━━━━━━━━━━━━━━━━━━━\u001b[0m\u001b[37m\u001b[0m \u001b[1m2s\u001b[0m 3ms/step - loss: 0.1001 - root_mean_squared_error: 0.3161 - val_loss: 0.0910 - val_root_mean_squared_error: 0.3017\n",
      "Epoch 19/20\n",
      "\u001b[1m634/634\u001b[0m \u001b[32m━━━━━━━━━━━━━━━━━━━━\u001b[0m\u001b[37m\u001b[0m \u001b[1m2s\u001b[0m 3ms/step - loss: 0.1021 - root_mean_squared_error: 0.3194 - val_loss: 0.0935 - val_root_mean_squared_error: 0.3058\n",
      "Epoch 20/20\n",
      "\u001b[1m634/634\u001b[0m \u001b[32m━━━━━━━━━━━━━━━━━━━━\u001b[0m\u001b[37m\u001b[0m \u001b[1m2s\u001b[0m 3ms/step - loss: 0.0953 - root_mean_squared_error: 0.3086 - val_loss: 0.0849 - val_root_mean_squared_error: 0.2913\n"
     ]
    },
    {
     "data": {
      "text/plain": [
       "<keras.src.callbacks.history.History at 0x7ff69e28e2f0>"
      ]
     },
     "execution_count": 102,
     "metadata": {},
     "output_type": "execute_result"
    }
   ],
   "source": [
    "cp4 = ModelCheckpoint('model4/model4.keras', save_best_only=True, verbose=0)\n",
    "model4.compile(loss=MeanSquaredError(), optimizer=Adam(learning_rate=0.0001), metrics=[RootMeanSquaredError()])\n",
    "model4.fit(X2_train, y2_train, epochs=20, validation_data=(X2_val, y2_val), callbacks=[cp4])"
   ]
  },
  {
   "cell_type": "code",
   "execution_count": 103,
   "metadata": {},
   "outputs": [
    {
     "name": "stdout",
     "output_type": "stream",
     "text": [
      "\u001b[1m91/91\u001b[0m \u001b[32m━━━━━━━━━━━━━━━━━━━━\u001b[0m\u001b[37m\u001b[0m \u001b[1m0s\u001b[0m 2ms/step\n"
     ]
    },
    {
     "data": {
      "text/plain": [
       "(      Predictions  Actuals\n",
       " 0       30.360807     30.5\n",
       " 1       30.712484     30.4\n",
       " 2       30.646544     30.2\n",
       " 3       30.264229     30.3\n",
       " 4       30.190527     30.2\n",
       " ...           ...      ...\n",
       " 2890    27.914869     27.6\n",
       " 2891    27.724930     27.6\n",
       " 2892    27.584009     27.4\n",
       " 2893    27.654638     27.4\n",
       " 2894    27.607895     27.4\n",
       " \n",
       " [2895 rows x 2 columns],\n",
       " 0.06434356081254756)"
      ]
     },
     "execution_count": 103,
     "metadata": {},
     "output_type": "execute_result"
    },
    {
     "data": {
      "image/png": "[encoded data removed]",
      "text/plain": [
       "<Figure size 640x480 with 1 Axes>"
      ]
     },
     "metadata": {},
     "output_type": "display_data"
    }
   ],
   "source": [
    "plot_predictions(model4, X2_test, y2_test)"
   ]
  },
  {
   "cell_type": "code",
   "execution_count": 104,
   "metadata": {},
   "outputs": [
    {
     "data": {
      "text/html": [
       "<div>\n",
       "<style scoped>\n",
       "    .dataframe tbody tr th:only-of-type {\n",
       "        vertical-align: middle;\n",
       "    }\n",
       "\n",
       "    .dataframe tbody tr th {\n",
       "        vertical-align: top;\n",
       "    }\n",
       "\n",
       "    .dataframe thead th {\n",
       "        text-align: right;\n",
       "    }\n",
       "</style>\n",
       "<table border=\"1\" class=\"dataframe\">\n",
       "  <thead>\n",
       "    <tr style=\"text-align: right;\">\n",
       "      <th></th>\n",
       "      <th>wind dir (deg)</th>\n",
       "      <th>wind spd (m/s)</th>\n",
       "      <th>wind gst (m/s)</th>\n",
       "      <th>wave hgt (ft)</th>\n",
       "      <th>mean wave dir (deg)</th>\n",
       "      <th>air pres (ft)</th>\n",
       "      <th>air temp (deg fah)</th>\n",
       "      <th>water temp (deg fah)</th>\n",
       "      <th>Day sin</th>\n",
       "      <th>Day cos</th>\n",
       "      <th>Year sin</th>\n",
       "      <th>Year cos</th>\n",
       "    </tr>\n",
       "    <tr>\n",
       "      <th>timestamp</th>\n",
       "      <th></th>\n",
       "      <th></th>\n",
       "      <th></th>\n",
       "      <th></th>\n",
       "      <th></th>\n",
       "      <th></th>\n",
       "      <th></th>\n",
       "      <th></th>\n",
       "      <th></th>\n",
       "      <th></th>\n",
       "      <th></th>\n",
       "      <th></th>\n",
       "    </tr>\n",
       "  </thead>\n",
       "  <tbody>\n",
       "    <tr>\n",
       "      <th>1994-08-17 18:00:00-05:00</th>\n",
       "      <td>185.0</td>\n",
       "      <td>6.0</td>\n",
       "      <td>7.6</td>\n",
       "      <td>0.50</td>\n",
       "      <td>168.0</td>\n",
       "      <td>1016.5</td>\n",
       "      <td>29.7</td>\n",
       "      <td>29.7</td>\n",
       "      <td>-0.258819</td>\n",
       "      <td>0.965926</td>\n",
       "      <td>-0.717511</td>\n",
       "      <td>-0.696547</td>\n",
       "    </tr>\n",
       "    <tr>\n",
       "      <th>1994-08-18 00:00:00-05:00</th>\n",
       "      <td>325.0</td>\n",
       "      <td>0.7</td>\n",
       "      <td>1.3</td>\n",
       "      <td>0.60</td>\n",
       "      <td>128.0</td>\n",
       "      <td>1015.1</td>\n",
       "      <td>30.7</td>\n",
       "      <td>29.9</td>\n",
       "      <td>0.965926</td>\n",
       "      <td>0.258819</td>\n",
       "      <td>-0.720500</td>\n",
       "      <td>-0.693454</td>\n",
       "    </tr>\n",
       "    <tr>\n",
       "      <th>1994-08-18 06:00:00-05:00</th>\n",
       "      <td>132.0</td>\n",
       "      <td>7.1</td>\n",
       "      <td>8.8</td>\n",
       "      <td>0.80</td>\n",
       "      <td>73.0</td>\n",
       "      <td>1016.4</td>\n",
       "      <td>28.6</td>\n",
       "      <td>29.7</td>\n",
       "      <td>0.258819</td>\n",
       "      <td>-0.965926</td>\n",
       "      <td>-0.723476</td>\n",
       "      <td>-0.690349</td>\n",
       "    </tr>\n",
       "    <tr>\n",
       "      <th>1994-08-18 12:00:00-05:00</th>\n",
       "      <td>180.0</td>\n",
       "      <td>6.0</td>\n",
       "      <td>7.1</td>\n",
       "      <td>1.10</td>\n",
       "      <td>153.0</td>\n",
       "      <td>1016.1</td>\n",
       "      <td>29.0</td>\n",
       "      <td>29.3</td>\n",
       "      <td>-0.965926</td>\n",
       "      <td>-0.258819</td>\n",
       "      <td>-0.726438</td>\n",
       "      <td>-0.687232</td>\n",
       "    </tr>\n",
       "    <tr>\n",
       "      <th>1995-02-01 06:00:00-05:00</th>\n",
       "      <td>159.0</td>\n",
       "      <td>4.6</td>\n",
       "      <td>6.1</td>\n",
       "      <td>0.40</td>\n",
       "      <td>17.0</td>\n",
       "      <td>1020.2</td>\n",
       "      <td>17.5</td>\n",
       "      <td>23.0</td>\n",
       "      <td>0.258819</td>\n",
       "      <td>-0.965926</td>\n",
       "      <td>0.514218</td>\n",
       "      <td>0.857660</td>\n",
       "    </tr>\n",
       "    <tr>\n",
       "      <th>...</th>\n",
       "      <td>...</td>\n",
       "      <td>...</td>\n",
       "      <td>...</td>\n",
       "      <td>...</td>\n",
       "      <td>...</td>\n",
       "      <td>...</td>\n",
       "      <td>...</td>\n",
       "      <td>...</td>\n",
       "      <td>...</td>\n",
       "      <td>...</td>\n",
       "      <td>...</td>\n",
       "      <td>...</td>\n",
       "    </tr>\n",
       "    <tr>\n",
       "      <th>2022-10-20 00:40:00-05:00</th>\n",
       "      <td>8.0</td>\n",
       "      <td>6.4</td>\n",
       "      <td>9.9</td>\n",
       "      <td>1.51</td>\n",
       "      <td>18.0</td>\n",
       "      <td>1022.7</td>\n",
       "      <td>19.6</td>\n",
       "      <td>27.6</td>\n",
       "      <td>0.996195</td>\n",
       "      <td>0.087156</td>\n",
       "      <td>-0.948733</td>\n",
       "      <td>0.316078</td>\n",
       "    </tr>\n",
       "    <tr>\n",
       "      <th>2022-10-20 06:40:00-05:00</th>\n",
       "      <td>9.0</td>\n",
       "      <td>4.0</td>\n",
       "      <td>6.6</td>\n",
       "      <td>1.07</td>\n",
       "      <td>56.0</td>\n",
       "      <td>1022.3</td>\n",
       "      <td>19.7</td>\n",
       "      <td>27.6</td>\n",
       "      <td>0.087156</td>\n",
       "      <td>-0.996195</td>\n",
       "      <td>-0.947365</td>\n",
       "      <td>0.320155</td>\n",
       "    </tr>\n",
       "    <tr>\n",
       "      <th>2022-10-20 12:40:00-05:00</th>\n",
       "      <td>11.0</td>\n",
       "      <td>3.9</td>\n",
       "      <td>6.2</td>\n",
       "      <td>0.93</td>\n",
       "      <td>63.0</td>\n",
       "      <td>1020.7</td>\n",
       "      <td>20.3</td>\n",
       "      <td>27.4</td>\n",
       "      <td>-0.996195</td>\n",
       "      <td>-0.087156</td>\n",
       "      <td>-0.945979</td>\n",
       "      <td>0.324227</td>\n",
       "    </tr>\n",
       "    <tr>\n",
       "      <th>2022-10-20 18:40:00-05:00</th>\n",
       "      <td>37.0</td>\n",
       "      <td>4.1</td>\n",
       "      <td>6.9</td>\n",
       "      <td>0.69</td>\n",
       "      <td>63.0</td>\n",
       "      <td>1020.2</td>\n",
       "      <td>21.2</td>\n",
       "      <td>27.4</td>\n",
       "      <td>-0.087156</td>\n",
       "      <td>0.996195</td>\n",
       "      <td>-0.944576</td>\n",
       "      <td>0.328292</td>\n",
       "    </tr>\n",
       "    <tr>\n",
       "      <th>2022-10-21 00:40:00-05:00</th>\n",
       "      <td>66.0</td>\n",
       "      <td>4.4</td>\n",
       "      <td>5.7</td>\n",
       "      <td>0.47</td>\n",
       "      <td>62.0</td>\n",
       "      <td>1018.3</td>\n",
       "      <td>22.0</td>\n",
       "      <td>27.4</td>\n",
       "      <td>0.996195</td>\n",
       "      <td>0.087156</td>\n",
       "      <td>-0.943156</td>\n",
       "      <td>0.332351</td>\n",
       "    </tr>\n",
       "  </tbody>\n",
       "</table>\n",
       "<p>28947 rows × 12 columns</p>\n",
       "</div>"
      ],
      "text/plain": [
       "                           wind dir (deg)  wind spd (m/s)  wind gst (m/s)  \\\n",
       "timestamp                                                                   \n",
       "1994-08-17 18:00:00-05:00           185.0             6.0             7.6   \n",
       "1994-08-18 00:00:00-05:00           325.0             0.7             1.3   \n",
       "1994-08-18 06:00:00-05:00           132.0             7.1             8.8   \n",
       "1994-08-18 12:00:00-05:00           180.0             6.0             7.1   \n",
       "1995-02-01 06:00:00-05:00           159.0             4.6             6.1   \n",
       "...                                   ...             ...             ...   \n",
       "2022-10-20 00:40:00-05:00             8.0             6.4             9.9   \n",
       "2022-10-20 06:40:00-05:00             9.0             4.0             6.6   \n",
       "2022-10-20 12:40:00-05:00            11.0             3.9             6.2   \n",
       "2022-10-20 18:40:00-05:00            37.0             4.1             6.9   \n",
       "2022-10-21 00:40:00-05:00            66.0             4.4             5.7   \n",
       "\n",
       "                           wave hgt (ft)  mean wave dir (deg)  air pres (ft)  \\\n",
       "timestamp                                                                      \n",
       "1994-08-17 18:00:00-05:00           0.50                168.0         1016.5   \n",
       "1994-08-18 00:00:00-05:00           0.60                128.0         1015.1   \n",
       "1994-08-18 06:00:00-05:00           0.80                 73.0         1016.4   \n",
       "1994-08-18 12:00:00-05:00           1.10                153.0         1016.1   \n",
       "1995-02-01 06:00:00-05:00           0.40                 17.0         1020.2   \n",
       "...                                  ...                  ...            ...   \n",
       "2022-10-20 00:40:00-05:00           1.51                 18.0         1022.7   \n",
       "2022-10-20 06:40:00-05:00           1.07                 56.0         1022.3   \n",
       "2022-10-20 12:40:00-05:00           0.93                 63.0         1020.7   \n",
       "2022-10-20 18:40:00-05:00           0.69                 63.0         1020.2   \n",
       "2022-10-21 00:40:00-05:00           0.47                 62.0         1018.3   \n",
       "\n",
       "                           air temp (deg fah)  water temp (deg fah)   Day sin  \\\n",
       "timestamp                                                                       \n",
       "1994-08-17 18:00:00-05:00                29.7                  29.7 -0.258819   \n",
       "1994-08-18 00:00:00-05:00                30.7                  29.9  0.965926   \n",
       "1994-08-18 06:00:00-05:00                28.6                  29.7  0.258819   \n",
       "1994-08-18 12:00:00-05:00                29.0                  29.3 -0.965926   \n",
       "1995-02-01 06:00:00-05:00                17.5                  23.0  0.258819   \n",
       "...                                       ...                   ...       ...   \n",
       "2022-10-20 00:40:00-05:00                19.6                  27.6  0.996195   \n",
       "2022-10-20 06:40:00-05:00                19.7                  27.6  0.087156   \n",
       "2022-10-20 12:40:00-05:00                20.3                  27.4 -0.996195   \n",
       "2022-10-20 18:40:00-05:00                21.2                  27.4 -0.087156   \n",
       "2022-10-21 00:40:00-05:00                22.0                  27.4  0.996195   \n",
       "\n",
       "                            Day cos  Year sin  Year cos  \n",
       "timestamp                                                \n",
       "1994-08-17 18:00:00-05:00  0.965926 -0.717511 -0.696547  \n",
       "1994-08-18 00:00:00-05:00  0.258819 -0.720500 -0.693454  \n",
       "1994-08-18 06:00:00-05:00 -0.965926 -0.723476 -0.690349  \n",
       "1994-08-18 12:00:00-05:00 -0.258819 -0.726438 -0.687232  \n",
       "1995-02-01 06:00:00-05:00 -0.965926  0.514218  0.857660  \n",
       "...                             ...       ...       ...  \n",
       "2022-10-20 00:40:00-05:00  0.087156 -0.948733  0.316078  \n",
       "2022-10-20 06:40:00-05:00 -0.996195 -0.947365  0.320155  \n",
       "2022-10-20 12:40:00-05:00 -0.087156 -0.945979  0.324227  \n",
       "2022-10-20 18:40:00-05:00  0.996195 -0.944576  0.328292  \n",
       "2022-10-21 00:40:00-05:00  0.087156 -0.943156  0.332351  \n",
       "\n",
       "[28947 rows x 12 columns]"
      ]
     },
     "execution_count": 104,
     "metadata": {},
     "output_type": "execute_result"
    }
   ],
   "source": [
    "df"
   ]
  },
  {
   "cell_type": "markdown",
   "metadata": {},
   "source": [
    "### Add another predictive variable"
   ]
  },
  {
   "cell_type": "code",
   "execution_count": 105,
   "metadata": {},
   "outputs": [],
   "source": [
    "def prediction_two_var(df, window=4):\n",
    "    df_as_np = df.to_numpy()\n",
    "    X = []\n",
    "    y = []\n",
    "    for i in range (len(df_as_np) - window):\n",
    "        row = [a for a in df_as_np[i:i+window]]\n",
    "        X.append(row)\n",
    "        label = [df_as_np[i+window][0], df_as_np[i+window][1]]\n",
    "        y.append(label)\n",
    "    return np.array(X), np.array(y)"
   ]
  },
  {
   "cell_type": "code",
   "execution_count": 106,
   "metadata": {},
   "outputs": [],
   "source": [
    "df3 = df.loc[:, ['wave hgt (ft)', 'water temp (deg fah)', 'Day sin', 'Day cos', 'Year sin', 'Year cos', ]]"
   ]
  },
  {
   "cell_type": "code",
   "execution_count": 107,
   "metadata": {},
   "outputs": [
    {
     "data": {
      "text/html": [
       "<div>\n",
       "<style scoped>\n",
       "    .dataframe tbody tr th:only-of-type {\n",
       "        vertical-align: middle;\n",
       "    }\n",
       "\n",
       "    .dataframe tbody tr th {\n",
       "        vertical-align: top;\n",
       "    }\n",
       "\n",
       "    .dataframe thead th {\n",
       "        text-align: right;\n",
       "    }\n",
       "</style>\n",
       "<table border=\"1\" class=\"dataframe\">\n",
       "  <thead>\n",
       "    <tr style=\"text-align: right;\">\n",
       "      <th></th>\n",
       "      <th>wave hgt (ft)</th>\n",
       "      <th>water temp (deg fah)</th>\n",
       "      <th>Day sin</th>\n",
       "      <th>Day cos</th>\n",
       "      <th>Year sin</th>\n",
       "      <th>Year cos</th>\n",
       "    </tr>\n",
       "    <tr>\n",
       "      <th>timestamp</th>\n",
       "      <th></th>\n",
       "      <th></th>\n",
       "      <th></th>\n",
       "      <th></th>\n",
       "      <th></th>\n",
       "      <th></th>\n",
       "    </tr>\n",
       "  </thead>\n",
       "  <tbody>\n",
       "    <tr>\n",
       "      <th>1994-08-17 18:00:00-05:00</th>\n",
       "      <td>0.50</td>\n",
       "      <td>29.7</td>\n",
       "      <td>-0.258819</td>\n",
       "      <td>0.965926</td>\n",
       "      <td>-0.717511</td>\n",
       "      <td>-0.696547</td>\n",
       "    </tr>\n",
       "    <tr>\n",
       "      <th>1994-08-18 00:00:00-05:00</th>\n",
       "      <td>0.60</td>\n",
       "      <td>29.9</td>\n",
       "      <td>0.965926</td>\n",
       "      <td>0.258819</td>\n",
       "      <td>-0.720500</td>\n",
       "      <td>-0.693454</td>\n",
       "    </tr>\n",
       "    <tr>\n",
       "      <th>1994-08-18 06:00:00-05:00</th>\n",
       "      <td>0.80</td>\n",
       "      <td>29.7</td>\n",
       "      <td>0.258819</td>\n",
       "      <td>-0.965926</td>\n",
       "      <td>-0.723476</td>\n",
       "      <td>-0.690349</td>\n",
       "    </tr>\n",
       "    <tr>\n",
       "      <th>1994-08-18 12:00:00-05:00</th>\n",
       "      <td>1.10</td>\n",
       "      <td>29.3</td>\n",
       "      <td>-0.965926</td>\n",
       "      <td>-0.258819</td>\n",
       "      <td>-0.726438</td>\n",
       "      <td>-0.687232</td>\n",
       "    </tr>\n",
       "    <tr>\n",
       "      <th>1995-02-01 06:00:00-05:00</th>\n",
       "      <td>0.40</td>\n",
       "      <td>23.0</td>\n",
       "      <td>0.258819</td>\n",
       "      <td>-0.965926</td>\n",
       "      <td>0.514218</td>\n",
       "      <td>0.857660</td>\n",
       "    </tr>\n",
       "    <tr>\n",
       "      <th>...</th>\n",
       "      <td>...</td>\n",
       "      <td>...</td>\n",
       "      <td>...</td>\n",
       "      <td>...</td>\n",
       "      <td>...</td>\n",
       "      <td>...</td>\n",
       "    </tr>\n",
       "    <tr>\n",
       "      <th>2022-10-20 00:40:00-05:00</th>\n",
       "      <td>1.51</td>\n",
       "      <td>27.6</td>\n",
       "      <td>0.996195</td>\n",
       "      <td>0.087156</td>\n",
       "      <td>-0.948733</td>\n",
       "      <td>0.316078</td>\n",
       "    </tr>\n",
       "    <tr>\n",
       "      <th>2022-10-20 06:40:00-05:00</th>\n",
       "      <td>1.07</td>\n",
       "      <td>27.6</td>\n",
       "      <td>0.087156</td>\n",
       "      <td>-0.996195</td>\n",
       "      <td>-0.947365</td>\n",
       "      <td>0.320155</td>\n",
       "    </tr>\n",
       "    <tr>\n",
       "      <th>2022-10-20 12:40:00-05:00</th>\n",
       "      <td>0.93</td>\n",
       "      <td>27.4</td>\n",
       "      <td>-0.996195</td>\n",
       "      <td>-0.087156</td>\n",
       "      <td>-0.945979</td>\n",
       "      <td>0.324227</td>\n",
       "    </tr>\n",
       "    <tr>\n",
       "      <th>2022-10-20 18:40:00-05:00</th>\n",
       "      <td>0.69</td>\n",
       "      <td>27.4</td>\n",
       "      <td>-0.087156</td>\n",
       "      <td>0.996195</td>\n",
       "      <td>-0.944576</td>\n",
       "      <td>0.328292</td>\n",
       "    </tr>\n",
       "    <tr>\n",
       "      <th>2022-10-21 00:40:00-05:00</th>\n",
       "      <td>0.47</td>\n",
       "      <td>27.4</td>\n",
       "      <td>0.996195</td>\n",
       "      <td>0.087156</td>\n",
       "      <td>-0.943156</td>\n",
       "      <td>0.332351</td>\n",
       "    </tr>\n",
       "  </tbody>\n",
       "</table>\n",
       "<p>28947 rows × 6 columns</p>\n",
       "</div>"
      ],
      "text/plain": [
       "                           wave hgt (ft)  water temp (deg fah)   Day sin  \\\n",
       "timestamp                                                                  \n",
       "1994-08-17 18:00:00-05:00           0.50                  29.7 -0.258819   \n",
       "1994-08-18 00:00:00-05:00           0.60                  29.9  0.965926   \n",
       "1994-08-18 06:00:00-05:00           0.80                  29.7  0.258819   \n",
       "1994-08-18 12:00:00-05:00           1.10                  29.3 -0.965926   \n",
       "1995-02-01 06:00:00-05:00           0.40                  23.0  0.258819   \n",
       "...                                  ...                   ...       ...   \n",
       "2022-10-20 00:40:00-05:00           1.51                  27.6  0.996195   \n",
       "2022-10-20 06:40:00-05:00           1.07                  27.6  0.087156   \n",
       "2022-10-20 12:40:00-05:00           0.93                  27.4 -0.996195   \n",
       "2022-10-20 18:40:00-05:00           0.69                  27.4 -0.087156   \n",
       "2022-10-21 00:40:00-05:00           0.47                  27.4  0.996195   \n",
       "\n",
       "                            Day cos  Year sin  Year cos  \n",
       "timestamp                                                \n",
       "1994-08-17 18:00:00-05:00  0.965926 -0.717511 -0.696547  \n",
       "1994-08-18 00:00:00-05:00  0.258819 -0.720500 -0.693454  \n",
       "1994-08-18 06:00:00-05:00 -0.965926 -0.723476 -0.690349  \n",
       "1994-08-18 12:00:00-05:00 -0.258819 -0.726438 -0.687232  \n",
       "1995-02-01 06:00:00-05:00 -0.965926  0.514218  0.857660  \n",
       "...                             ...       ...       ...  \n",
       "2022-10-20 00:40:00-05:00  0.087156 -0.948733  0.316078  \n",
       "2022-10-20 06:40:00-05:00 -0.996195 -0.947365  0.320155  \n",
       "2022-10-20 12:40:00-05:00 -0.087156 -0.945979  0.324227  \n",
       "2022-10-20 18:40:00-05:00  0.996195 -0.944576  0.328292  \n",
       "2022-10-21 00:40:00-05:00  0.087156 -0.943156  0.332351  \n",
       "\n",
       "[28947 rows x 6 columns]"
      ]
     },
     "execution_count": 107,
     "metadata": {},
     "output_type": "execute_result"
    }
   ],
   "source": [
    "df3"
   ]
  },
  {
   "cell_type": "code",
   "execution_count": 108,
   "metadata": {},
   "outputs": [
    {
     "data": {
      "text/plain": [
       "((28943, 4, 6), (28943, 2))"
      ]
     },
     "execution_count": 108,
     "metadata": {},
     "output_type": "execute_result"
    }
   ],
   "source": [
    "X3, y3 = prediction_two_var(df3)\n",
    "X3.shape, y3.shape"
   ]
  },
  {
   "cell_type": "code",
   "execution_count": 109,
   "metadata": {},
   "outputs": [],
   "source": [
    "X3_train, y3_train = X3[:int(0.7*len(X3))], y3[:int(0.7*len(y3))] #first 80 for train\n",
    "X3_val, y3_val = X3[int(0.7*len(X3)):int(0.9*len(X3))], y3[int(0.7*len(y3)):int(0.9*len(y3))] #70 to 90 for validation\n",
    "X3_test, y3_test = X3[int(0.9*len(X3)):], y3[int(0.9*len(y3)):] #last 10 for test"
   ]
  },
  {
   "cell_type": "code",
   "execution_count": 110,
   "metadata": {},
   "outputs": [],
   "source": [
    "wave_hgt_training_mean = np.mean(X3_train[:, :, 0])\n",
    "wave_hgt_training_std = np.std(X3_train[:, :, 0])\n",
    "temp_training_mean = np.mean(X3_train[:, :, 1])\n",
    "temp_training_std = np.std(X3_train[:, :, 1])\n",
    "\n",
    "def preprocess_input(X):\n",
    "    X[:, :, 0] = (X[:, :, 0] - wave_hgt_training_mean) / wave_hgt_training_std\n",
    "    X[:, :, 1] = (X[:, :, 1] - temp_training_mean) / temp_training_std\n",
    "    \n",
    "    return X\n",
    "\n",
    "def preprocess_output(y):\n",
    "    y[:, 0] = (y[:, 0] - wave_hgt_training_mean) / wave_hgt_training_std\n",
    "    y[:, 1] = (y[:, 1] - temp_training_mean) / temp_training_std\n",
    "    return y"
   ]
  },
  {
   "cell_type": "code",
   "execution_count": 111,
   "metadata": {},
   "outputs": [
    {
     "data": {
      "text/plain": [
       "array([[-0.24767699,  1.47842789],\n",
       "       [ 0.60583599,  1.44296717],\n",
       "       [-0.12174884,  1.37204574],\n",
       "       ...,\n",
       "       [-0.47154924,  0.37914568],\n",
       "       [-0.80735763,  0.37914568],\n",
       "       [-1.11518198,  0.37914568]])"
      ]
     },
     "execution_count": 111,
     "metadata": {},
     "output_type": "execute_result"
    }
   ],
   "source": [
    "preprocess_input(X3_train)\n",
    "preprocess_input(X3_val)\n",
    "preprocess_input(X3_test)\n",
    "preprocess_output(y3_train)\n",
    "preprocess_output(y3_val)\n",
    "preprocess_output(y3_test)"
   ]
  },
  {
   "cell_type": "code",
   "execution_count": 112,
   "metadata": {},
   "outputs": [
    {
     "data": {
      "text/html": [
       "<pre style=\"white-space:pre;overflow-x:auto;line-height:normal;font-family:Menlo,'DejaVu Sans Mono',consolas,'Courier New',monospace\"><span style=\"font-weight: bold\">Model: \"sequential_11\"</span>\n",
       "</pre>\n"
      ],
      "text/plain": [
       "\u001b[1mModel: \"sequential_11\"\u001b[0m\n"
      ]
     },
     "metadata": {},
     "output_type": "display_data"
    },
    {
     "data": {
      "text/html": [
       "<pre style=\"white-space:pre;overflow-x:auto;line-height:normal;font-family:Menlo,'DejaVu Sans Mono',consolas,'Courier New',monospace\">┏━━━━━━━━━━━━━━━━━━━━━━━━━━━━━━━━━┳━━━━━━━━━━━━━━━━━━━━━━━━┳━━━━━━━━━━━━━━━┓\n",
       "┃<span style=\"font-weight: bold\"> Layer (type)                    </span>┃<span style=\"font-weight: bold\"> Output Shape           </span>┃<span style=\"font-weight: bold\">       Param # </span>┃\n",
       "┡━━━━━━━━━━━━━━━━━━━━━━━━━━━━━━━━━╇━━━━━━━━━━━━━━━━━━━━━━━━╇━━━━━━━━━━━━━━━┩\n",
       "│ lstm_7 (<span style=\"color: #0087ff; text-decoration-color: #0087ff\">LSTM</span>)                   │ (<span style=\"color: #00d7ff; text-decoration-color: #00d7ff\">None</span>, <span style=\"color: #00af00; text-decoration-color: #00af00\">64</span>)             │        <span style=\"color: #00af00; text-decoration-color: #00af00\">18,176</span> │\n",
       "├─────────────────────────────────┼────────────────────────┼───────────────┤\n",
       "│ dense_20 (<span style=\"color: #0087ff; text-decoration-color: #0087ff\">Dense</span>)                │ (<span style=\"color: #00d7ff; text-decoration-color: #00d7ff\">None</span>, <span style=\"color: #00af00; text-decoration-color: #00af00\">8</span>)              │           <span style=\"color: #00af00; text-decoration-color: #00af00\">520</span> │\n",
       "├─────────────────────────────────┼────────────────────────┼───────────────┤\n",
       "│ dense_21 (<span style=\"color: #0087ff; text-decoration-color: #0087ff\">Dense</span>)                │ (<span style=\"color: #00d7ff; text-decoration-color: #00d7ff\">None</span>, <span style=\"color: #00af00; text-decoration-color: #00af00\">2</span>)              │            <span style=\"color: #00af00; text-decoration-color: #00af00\">18</span> │\n",
       "└─────────────────────────────────┴────────────────────────┴───────────────┘\n",
       "</pre>\n"
      ],
      "text/plain": [
       "┏━━━━━━━━━━━━━━━━━━━━━━━━━━━━━━━━━┳━━━━━━━━━━━━━━━━━━━━━━━━┳━━━━━━━━━━━━━━━┓\n",
       "┃\u001b[1m \u001b[0m\u001b[1mLayer (type)                   \u001b[0m\u001b[1m \u001b[0m┃\u001b[1m \u001b[0m\u001b[1mOutput Shape          \u001b[0m\u001b[1m \u001b[0m┃\u001b[1m \u001b[0m\u001b[1m      Param #\u001b[0m\u001b[1m \u001b[0m┃\n",
       "┡━━━━━━━━━━━━━━━━━━━━━━━━━━━━━━━━━╇━━━━━━━━━━━━━━━━━━━━━━━━╇━━━━━━━━━━━━━━━┩\n",
       "│ lstm_7 (\u001b[38;5;33mLSTM\u001b[0m)                   │ (\u001b[38;5;45mNone\u001b[0m, \u001b[38;5;34m64\u001b[0m)             │        \u001b[38;5;34m18,176\u001b[0m │\n",
       "├─────────────────────────────────┼────────────────────────┼───────────────┤\n",
       "│ dense_20 (\u001b[38;5;33mDense\u001b[0m)                │ (\u001b[38;5;45mNone\u001b[0m, \u001b[38;5;34m8\u001b[0m)              │           \u001b[38;5;34m520\u001b[0m │\n",
       "├─────────────────────────────────┼────────────────────────┼───────────────┤\n",
       "│ dense_21 (\u001b[38;5;33mDense\u001b[0m)                │ (\u001b[38;5;45mNone\u001b[0m, \u001b[38;5;34m2\u001b[0m)              │            \u001b[38;5;34m18\u001b[0m │\n",
       "└─────────────────────────────────┴────────────────────────┴───────────────┘\n"
      ]
     },
     "metadata": {},
     "output_type": "display_data"
    },
    {
     "data": {
      "text/html": [
       "<pre style=\"white-space:pre;overflow-x:auto;line-height:normal;font-family:Menlo,'DejaVu Sans Mono',consolas,'Courier New',monospace\"><span style=\"font-weight: bold\"> Total params: </span><span style=\"color: #00af00; text-decoration-color: #00af00\">18,714</span> (73.10 KB)\n",
       "</pre>\n"
      ],
      "text/plain": [
       "\u001b[1m Total params: \u001b[0m\u001b[38;5;34m18,714\u001b[0m (73.10 KB)\n"
      ]
     },
     "metadata": {},
     "output_type": "display_data"
    },
    {
     "data": {
      "text/html": [
       "<pre style=\"white-space:pre;overflow-x:auto;line-height:normal;font-family:Menlo,'DejaVu Sans Mono',consolas,'Courier New',monospace\"><span style=\"font-weight: bold\"> Trainable params: </span><span style=\"color: #00af00; text-decoration-color: #00af00\">18,714</span> (73.10 KB)\n",
       "</pre>\n"
      ],
      "text/plain": [
       "\u001b[1m Trainable params: \u001b[0m\u001b[38;5;34m18,714\u001b[0m (73.10 KB)\n"
      ]
     },
     "metadata": {},
     "output_type": "display_data"
    },
    {
     "data": {
      "text/html": [
       "<pre style=\"white-space:pre;overflow-x:auto;line-height:normal;font-family:Menlo,'DejaVu Sans Mono',consolas,'Courier New',monospace\"><span style=\"font-weight: bold\"> Non-trainable params: </span><span style=\"color: #00af00; text-decoration-color: #00af00\">0</span> (0.00 B)\n",
       "</pre>\n"
      ],
      "text/plain": [
       "\u001b[1m Non-trainable params: \u001b[0m\u001b[38;5;34m0\u001b[0m (0.00 B)\n"
      ]
     },
     "metadata": {},
     "output_type": "display_data"
    }
   ],
   "source": [
    "model5 = Sequential()\n",
    "model5.add(InputLayer((4, 6)))\n",
    "model5.add(LSTM(64))\n",
    "model5.add(Dense(8, 'relu'))\n",
    "model5.add(Dense(2, 'linear'))\n",
    "model5.summary()"
   ]
  },
  {
   "cell_type": "code",
   "execution_count": 113,
   "metadata": {},
   "outputs": [
    {
     "name": "stdout",
     "output_type": "stream",
     "text": [
      "Epoch 1/10\n"
     ]
    },
    {
     "name": "stdout",
     "output_type": "stream",
     "text": [
      "\u001b[1m634/634\u001b[0m \u001b[32m━━━━━━━━━━━━━━━━━━━━\u001b[0m\u001b[37m\u001b[0m \u001b[1m3s\u001b[0m 3ms/step - loss: 0.7386 - root_mean_squared_error: 0.8553 - val_loss: 0.2189 - val_root_mean_squared_error: 0.4680\n",
      "Epoch 2/10\n",
      "\u001b[1m634/634\u001b[0m \u001b[32m━━━━━━━━━━━━━━━━━━━━\u001b[0m\u001b[37m\u001b[0m \u001b[1m2s\u001b[0m 3ms/step - loss: 0.2367 - root_mean_squared_error: 0.4863 - val_loss: 0.1696 - val_root_mean_squared_error: 0.4119\n",
      "Epoch 3/10\n",
      "\u001b[1m634/634\u001b[0m \u001b[32m━━━━━━━━━━━━━━━━━━━━\u001b[0m\u001b[37m\u001b[0m \u001b[1m2s\u001b[0m 3ms/step - loss: 0.1846 - root_mean_squared_error: 0.4295 - val_loss: 0.1286 - val_root_mean_squared_error: 0.3587\n",
      "Epoch 4/10\n",
      "\u001b[1m634/634\u001b[0m \u001b[32m━━━━━━━━━━━━━━━━━━━━\u001b[0m\u001b[37m\u001b[0m \u001b[1m2s\u001b[0m 3ms/step - loss: 0.1381 - root_mean_squared_error: 0.3716 - val_loss: 0.0960 - val_root_mean_squared_error: 0.3099\n",
      "Epoch 5/10\n",
      "\u001b[1m634/634\u001b[0m \u001b[32m━━━━━━━━━━━━━━━━━━━━\u001b[0m\u001b[37m\u001b[0m \u001b[1m2s\u001b[0m 3ms/step - loss: 0.1160 - root_mean_squared_error: 0.3405 - val_loss: 0.0881 - val_root_mean_squared_error: 0.2969\n",
      "Epoch 6/10\n",
      "\u001b[1m634/634\u001b[0m \u001b[32m━━━━━━━━━━━━━━━━━━━━\u001b[0m\u001b[37m\u001b[0m \u001b[1m2s\u001b[0m 3ms/step - loss: 0.1082 - root_mean_squared_error: 0.3288 - val_loss: 0.0850 - val_root_mean_squared_error: 0.2917\n",
      "Epoch 7/10\n",
      "\u001b[1m634/634\u001b[0m \u001b[32m━━━━━━━━━━━━━━━━━━━━\u001b[0m\u001b[37m\u001b[0m \u001b[1m2s\u001b[0m 3ms/step - loss: 0.1029 - root_mean_squared_error: 0.3207 - val_loss: 0.0820 - val_root_mean_squared_error: 0.2864\n",
      "Epoch 8/10\n",
      "\u001b[1m634/634\u001b[0m \u001b[32m━━━━━━━━━━━━━━━━━━━━\u001b[0m\u001b[37m\u001b[0m \u001b[1m2s\u001b[0m 3ms/step - loss: 0.0994 - root_mean_squared_error: 0.3149 - val_loss: 0.0799 - val_root_mean_squared_error: 0.2828\n",
      "Epoch 9/10\n",
      "\u001b[1m634/634\u001b[0m \u001b[32m━━━━━━━━━━━━━━━━━━━━\u001b[0m\u001b[37m\u001b[0m \u001b[1m2s\u001b[0m 3ms/step - loss: 0.0990 - root_mean_squared_error: 0.3145 - val_loss: 0.0796 - val_root_mean_squared_error: 0.2821\n",
      "Epoch 10/10\n",
      "\u001b[1m634/634\u001b[0m \u001b[32m━━━━━━━━━━━━━━━━━━━━\u001b[0m\u001b[37m\u001b[0m \u001b[1m2s\u001b[0m 3ms/step - loss: 0.1020 - root_mean_squared_error: 0.3193 - val_loss: 0.0797 - val_root_mean_squared_error: 0.2823\n"
     ]
    },
    {
     "data": {
      "text/plain": [
       "<keras.src.callbacks.history.History at 0x7ff69ba82a10>"
      ]
     },
     "execution_count": 113,
     "metadata": {},
     "output_type": "execute_result"
    }
   ],
   "source": [
    "cp5 = ModelCheckpoint('model5/model5.keras', save_best_only=True, verbose=0)\n",
    "model5.compile(loss=MeanSquaredError(), optimizer=Adam(learning_rate=0.0001), metrics=[RootMeanSquaredError()])\n",
    "model5.fit(X3_train, y3_train, epochs=10, validation_data=(X3_val, y3_val), callbacks=[cp5])"
   ]
  },
  {
   "cell_type": "code",
   "execution_count": 114,
   "metadata": {},
   "outputs": [],
   "source": [
    "def postprocess_wave(arr):\n",
    "    arr = (arr*wave_hgt_training_std) + wave_hgt_training_mean\n",
    "    return arr\n",
    "def postprocess_temp(arr):\n",
    "    arr = (arr*temp_training_std) + temp_training_mean\n",
    "    return arr"
   ]
  },
  {
   "cell_type": "code",
   "execution_count": 115,
   "metadata": {},
   "outputs": [],
   "source": [
    "def plot_all_predictions(model, X, y, start=0, end=100):\n",
    "    predictions = model.predict(X)\n",
    "    wv_preds, temp_preds = postprocess_wave(predictions[:, 0]), postprocess_temp(predictions[:, 1])\n",
    "    wv_actuals, temp_actuals = postprocess_wave(y[:, 0]), postprocess_temp(y[:, 1])\n",
    "    df = pd.DataFrame(data ={'Wave Height Predictions': wv_preds, 'Wave Height Actuals': wv_actuals, 'Temp Predictions': temp_preds, 'Temp Actuals': temp_actuals})\n",
    "    plt.plot(df['Wave Height Predictions'][start:end], color='blue', label='Wave Height Predictions')\n",
    "    plt.plot(df['Wave Height Actuals'][start:end], color='red', label='Wave Height Actuals')\n",
    "    plt.plot(df['Temp Predictions'][start:end], color='green', label='Temp Predictions')\n",
    "    plt.plot(df['Temp Actuals'][start:end], color='orange', label='Temp Actuals')\n",
    "    return df[start:end]"
   ]
  },
  {
   "cell_type": "code",
   "execution_count": 116,
   "metadata": {},
   "outputs": [
    {
     "name": "stdout",
     "output_type": "stream",
     "text": [
      "\u001b[1m 1/91\u001b[0m \u001b[37m━━━━━━━━━━━━━━━━━━━━\u001b[0m \u001b[1m7s\u001b[0m 87ms/step"
     ]
    },
    {
     "name": "stdout",
     "output_type": "stream",
     "text": [
      "\u001b[1m91/91\u001b[0m \u001b[32m━━━━━━━━━━━━━━━━━━━━\u001b[0m\u001b[37m\u001b[0m \u001b[1m0s\u001b[0m 2ms/step\n"
     ]
    },
    {
     "data": {
      "image/png": "[encoded data removed]",
      "text/plain": [
       "<Figure size 640x480 with 1 Axes>"
      ]
     },
     "metadata": {},
     "output_type": "display_data"
    }
   ],
   "source": [
    "post_processed_df = plot_all_predictions(model5, X3_test, y3_test)"
   ]
  },
  {
   "cell_type": "code",
   "execution_count": 119,
   "metadata": {},
   "outputs": [
    {
     "data": {
      "text/html": [
       "<pre style=\"white-space:pre;overflow-x:auto;line-height:normal;font-family:Menlo,'DejaVu Sans Mono',consolas,'Courier New',monospace\"><span style=\"font-weight: bold\">Model: \"sequential_14\"</span>\n",
       "</pre>\n"
      ],
      "text/plain": [
       "\u001b[1mModel: \"sequential_14\"\u001b[0m\n"
      ]
     },
     "metadata": {},
     "output_type": "display_data"
    },
    {
     "data": {
      "text/html": [
       "<pre style=\"white-space:pre;overflow-x:auto;line-height:normal;font-family:Menlo,'DejaVu Sans Mono',consolas,'Courier New',monospace\">┏━━━━━━━━━━━━━━━━━━━━━━━━━━━━━━━━━┳━━━━━━━━━━━━━━━━━━━━━━━━┳━━━━━━━━━━━━━━━┓\n",
       "┃<span style=\"font-weight: bold\"> Layer (type)                    </span>┃<span style=\"font-weight: bold\"> Output Shape           </span>┃<span style=\"font-weight: bold\">       Param # </span>┃\n",
       "┡━━━━━━━━━━━━━━━━━━━━━━━━━━━━━━━━━╇━━━━━━━━━━━━━━━━━━━━━━━━╇━━━━━━━━━━━━━━━┩\n",
       "│ lstm_12 (<span style=\"color: #0087ff; text-decoration-color: #0087ff\">LSTM</span>)                  │ (<span style=\"color: #00d7ff; text-decoration-color: #00d7ff\">None</span>, <span style=\"color: #00af00; text-decoration-color: #00af00\">4</span>, <span style=\"color: #00af00; text-decoration-color: #00af00\">32</span>)          │         <span style=\"color: #00af00; text-decoration-color: #00af00\">4,992</span> │\n",
       "├─────────────────────────────────┼────────────────────────┼───────────────┤\n",
       "│ lstm_13 (<span style=\"color: #0087ff; text-decoration-color: #0087ff\">LSTM</span>)                  │ (<span style=\"color: #00d7ff; text-decoration-color: #00d7ff\">None</span>, <span style=\"color: #00af00; text-decoration-color: #00af00\">64</span>)             │        <span style=\"color: #00af00; text-decoration-color: #00af00\">24,832</span> │\n",
       "├─────────────────────────────────┼────────────────────────┼───────────────┤\n",
       "│ dense_25 (<span style=\"color: #0087ff; text-decoration-color: #0087ff\">Dense</span>)                │ (<span style=\"color: #00d7ff; text-decoration-color: #00d7ff\">None</span>, <span style=\"color: #00af00; text-decoration-color: #00af00\">8</span>)              │           <span style=\"color: #00af00; text-decoration-color: #00af00\">520</span> │\n",
       "├─────────────────────────────────┼────────────────────────┼───────────────┤\n",
       "│ dense_26 (<span style=\"color: #0087ff; text-decoration-color: #0087ff\">Dense</span>)                │ (<span style=\"color: #00d7ff; text-decoration-color: #00d7ff\">None</span>, <span style=\"color: #00af00; text-decoration-color: #00af00\">2</span>)              │            <span style=\"color: #00af00; text-decoration-color: #00af00\">18</span> │\n",
       "└─────────────────────────────────┴────────────────────────┴───────────────┘\n",
       "</pre>\n"
      ],
      "text/plain": [
       "┏━━━━━━━━━━━━━━━━━━━━━━━━━━━━━━━━━┳━━━━━━━━━━━━━━━━━━━━━━━━┳━━━━━━━━━━━━━━━┓\n",
       "┃\u001b[1m \u001b[0m\u001b[1mLayer (type)                   \u001b[0m\u001b[1m \u001b[0m┃\u001b[1m \u001b[0m\u001b[1mOutput Shape          \u001b[0m\u001b[1m \u001b[0m┃\u001b[1m \u001b[0m\u001b[1m      Param #\u001b[0m\u001b[1m \u001b[0m┃\n",
       "┡━━━━━━━━━━━━━━━━━━━━━━━━━━━━━━━━━╇━━━━━━━━━━━━━━━━━━━━━━━━╇━━━━━━━━━━━━━━━┩\n",
       "│ lstm_12 (\u001b[38;5;33mLSTM\u001b[0m)                  │ (\u001b[38;5;45mNone\u001b[0m, \u001b[38;5;34m4\u001b[0m, \u001b[38;5;34m32\u001b[0m)          │         \u001b[38;5;34m4,992\u001b[0m │\n",
       "├─────────────────────────────────┼────────────────────────┼───────────────┤\n",
       "│ lstm_13 (\u001b[38;5;33mLSTM\u001b[0m)                  │ (\u001b[38;5;45mNone\u001b[0m, \u001b[38;5;34m64\u001b[0m)             │        \u001b[38;5;34m24,832\u001b[0m │\n",
       "├─────────────────────────────────┼────────────────────────┼───────────────┤\n",
       "│ dense_25 (\u001b[38;5;33mDense\u001b[0m)                │ (\u001b[38;5;45mNone\u001b[0m, \u001b[38;5;34m8\u001b[0m)              │           \u001b[38;5;34m520\u001b[0m │\n",
       "├─────────────────────────────────┼────────────────────────┼───────────────┤\n",
       "│ dense_26 (\u001b[38;5;33mDense\u001b[0m)                │ (\u001b[38;5;45mNone\u001b[0m, \u001b[38;5;34m2\u001b[0m)              │            \u001b[38;5;34m18\u001b[0m │\n",
       "└─────────────────────────────────┴────────────────────────┴───────────────┘\n"
      ]
     },
     "metadata": {},
     "output_type": "display_data"
    },
    {
     "data": {
      "text/html": [
       "<pre style=\"white-space:pre;overflow-x:auto;line-height:normal;font-family:Menlo,'DejaVu Sans Mono',consolas,'Courier New',monospace\"><span style=\"font-weight: bold\"> Total params: </span><span style=\"color: #00af00; text-decoration-color: #00af00\">30,362</span> (118.60 KB)\n",
       "</pre>\n"
      ],
      "text/plain": [
       "\u001b[1m Total params: \u001b[0m\u001b[38;5;34m30,362\u001b[0m (118.60 KB)\n"
      ]
     },
     "metadata": {},
     "output_type": "display_data"
    },
    {
     "data": {
      "text/html": [
       "<pre style=\"white-space:pre;overflow-x:auto;line-height:normal;font-family:Menlo,'DejaVu Sans Mono',consolas,'Courier New',monospace\"><span style=\"font-weight: bold\"> Trainable params: </span><span style=\"color: #00af00; text-decoration-color: #00af00\">30,362</span> (118.60 KB)\n",
       "</pre>\n"
      ],
      "text/plain": [
       "\u001b[1m Trainable params: \u001b[0m\u001b[38;5;34m30,362\u001b[0m (118.60 KB)\n"
      ]
     },
     "metadata": {},
     "output_type": "display_data"
    },
    {
     "data": {
      "text/html": [
       "<pre style=\"white-space:pre;overflow-x:auto;line-height:normal;font-family:Menlo,'DejaVu Sans Mono',consolas,'Courier New',monospace\"><span style=\"font-weight: bold\"> Non-trainable params: </span><span style=\"color: #00af00; text-decoration-color: #00af00\">0</span> (0.00 B)\n",
       "</pre>\n"
      ],
      "text/plain": [
       "\u001b[1m Non-trainable params: \u001b[0m\u001b[38;5;34m0\u001b[0m (0.00 B)\n"
      ]
     },
     "metadata": {},
     "output_type": "display_data"
    }
   ],
   "source": [
    "model6 = Sequential()\n",
    "model6.add(InputLayer((4, 6)))\n",
    "model6.add(LSTM(32, return_sequences=True))\n",
    "model6.add(LSTM(64))\n",
    "model6.add(Dense(8, 'relu'))\n",
    "model6.add(Dense(2, 'linear'))\n",
    "model6.summary()"
   ]
  },
  {
   "cell_type": "code",
   "execution_count": 120,
   "metadata": {},
   "outputs": [
    {
     "name": "stdout",
     "output_type": "stream",
     "text": [
      "Epoch 1/10\n"
     ]
    },
    {
     "name": "stdout",
     "output_type": "stream",
     "text": [
      "\u001b[1m634/634\u001b[0m \u001b[32m━━━━━━━━━━━━━━━━━━━━\u001b[0m\u001b[37m\u001b[0m \u001b[1m5s\u001b[0m 5ms/step - loss: 0.8073 - root_mean_squared_error: 0.8966 - val_loss: 0.3074 - val_root_mean_squared_error: 0.5546\n",
      "Epoch 2/10\n",
      "\u001b[1m634/634\u001b[0m \u001b[32m━━━━━━━━━━━━━━━━━━━━\u001b[0m\u001b[37m\u001b[0m \u001b[1m3s\u001b[0m 5ms/step - loss: 0.3156 - root_mean_squared_error: 0.5610 - val_loss: 0.2053 - val_root_mean_squared_error: 0.4532\n",
      "Epoch 3/10\n",
      "\u001b[1m634/634\u001b[0m \u001b[32m━━━━━━━━━━━━━━━━━━━━\u001b[0m\u001b[37m\u001b[0m \u001b[1m3s\u001b[0m 5ms/step - loss: 0.2253 - root_mean_squared_error: 0.4745 - val_loss: 0.1424 - val_root_mean_squared_error: 0.3774\n",
      "Epoch 4/10\n",
      "\u001b[1m634/634\u001b[0m \u001b[32m━━━━━━━━━━━━━━━━━━━━\u001b[0m\u001b[37m\u001b[0m \u001b[1m3s\u001b[0m 5ms/step - loss: 0.1522 - root_mean_squared_error: 0.3901 - val_loss: 0.1136 - val_root_mean_squared_error: 0.3371\n",
      "Epoch 5/10\n",
      "\u001b[1m634/634\u001b[0m \u001b[32m━━━━━━━━━━━━━━━━━━━━\u001b[0m\u001b[37m\u001b[0m \u001b[1m3s\u001b[0m 5ms/step - loss: 0.1332 - root_mean_squared_error: 0.3649 - val_loss: 0.1000 - val_root_mean_squared_error: 0.3162\n",
      "Epoch 6/10\n",
      "\u001b[1m634/634\u001b[0m \u001b[32m━━━━━━━━━━━━━━━━━━━━\u001b[0m\u001b[37m\u001b[0m \u001b[1m3s\u001b[0m 5ms/step - loss: 0.1187 - root_mean_squared_error: 0.3445 - val_loss: 0.0903 - val_root_mean_squared_error: 0.3006\n",
      "Epoch 7/10\n",
      "\u001b[1m634/634\u001b[0m \u001b[32m━━━━━━━━━━━━━━━━━━━━\u001b[0m\u001b[37m\u001b[0m \u001b[1m3s\u001b[0m 5ms/step - loss: 0.1133 - root_mean_squared_error: 0.3365 - val_loss: 0.0869 - val_root_mean_squared_error: 0.2948\n",
      "Epoch 8/10\n",
      "\u001b[1m634/634\u001b[0m \u001b[32m━━━━━━━━━━━━━━━━━━━━\u001b[0m\u001b[37m\u001b[0m \u001b[1m3s\u001b[0m 5ms/step - loss: 0.1070 - root_mean_squared_error: 0.3270 - val_loss: 0.0828 - val_root_mean_squared_error: 0.2878\n",
      "Epoch 9/10\n",
      "\u001b[1m634/634\u001b[0m \u001b[32m━━━━━━━━━━━━━━━━━━━━\u001b[0m\u001b[37m\u001b[0m \u001b[1m3s\u001b[0m 5ms/step - loss: 0.0997 - root_mean_squared_error: 0.3157 - val_loss: 0.0814 - val_root_mean_squared_error: 0.2854\n",
      "Epoch 10/10\n",
      "\u001b[1m634/634\u001b[0m \u001b[32m━━━━━━━━━━━━━━━━━━━━\u001b[0m\u001b[37m\u001b[0m \u001b[1m3s\u001b[0m 5ms/step - loss: 0.1105 - root_mean_squared_error: 0.3320 - val_loss: 0.0808 - val_root_mean_squared_error: 0.2843\n"
     ]
    },
    {
     "data": {
      "text/plain": [
       "<keras.src.callbacks.history.History at 0x7ff69840e7d0>"
      ]
     },
     "execution_count": 120,
     "metadata": {},
     "output_type": "execute_result"
    }
   ],
   "source": [
    "cp6 = ModelCheckpoint('model6/model6.keras', save_best_only=True, verbose=0)\n",
    "model6.compile(loss=MeanSquaredError(), optimizer=Adam(learning_rate=0.0001), metrics=[RootMeanSquaredError()])\n",
    "model6.fit(X3_train, y3_train, epochs=10, validation_data=(X3_val, y3_val), callbacks=[cp6])"
   ]
  },
  {
   "cell_type": "code",
   "execution_count": 121,
   "metadata": {},
   "outputs": [
    {
     "name": "stdout",
     "output_type": "stream",
     "text": [
      "\u001b[1m91/91\u001b[0m \u001b[32m━━━━━━━━━━━━━━━━━━━━\u001b[0m\u001b[37m\u001b[0m \u001b[1m0s\u001b[0m 3ms/step\n"
     ]
    },
    {
     "data": {
      "image/png": "[encoded data removed]",
      "text/plain": [
       "<Figure size 640x480 with 1 Axes>"
      ]
     },
     "metadata": {},
     "output_type": "display_data"
    }
   ],
   "source": [
    "post_processed_df = plot_all_predictions(model6, X3_test, y3_test)"
   ]
  },
  {
   "cell_type": "code",
   "execution_count": 123,
   "metadata": {},
   "outputs": [
    {
     "data": {
      "text/html": [
       "<pre style=\"white-space:pre;overflow-x:auto;line-height:normal;font-family:Menlo,'DejaVu Sans Mono',consolas,'Courier New',monospace\"><span style=\"font-weight: bold\">Model: \"sequential_16\"</span>\n",
       "</pre>\n"
      ],
      "text/plain": [
       "\u001b[1mModel: \"sequential_16\"\u001b[0m\n"
      ]
     },
     "metadata": {},
     "output_type": "display_data"
    },
    {
     "data": {
      "text/html": [
       "<pre style=\"white-space:pre;overflow-x:auto;line-height:normal;font-family:Menlo,'DejaVu Sans Mono',consolas,'Courier New',monospace\">┏━━━━━━━━━━━━━━━━━━━━━━━━━━━━━━━━━┳━━━━━━━━━━━━━━━━━━━━━━━━┳━━━━━━━━━━━━━━━┓\n",
       "┃<span style=\"font-weight: bold\"> Layer (type)                    </span>┃<span style=\"font-weight: bold\"> Output Shape           </span>┃<span style=\"font-weight: bold\">       Param # </span>┃\n",
       "┡━━━━━━━━━━━━━━━━━━━━━━━━━━━━━━━━━╇━━━━━━━━━━━━━━━━━━━━━━━━╇━━━━━━━━━━━━━━━┩\n",
       "│ conv1d_2 (<span style=\"color: #0087ff; text-decoration-color: #0087ff\">Conv1D</span>)               │ (<span style=\"color: #00d7ff; text-decoration-color: #00d7ff\">None</span>, <span style=\"color: #00af00; text-decoration-color: #00af00\">3</span>, <span style=\"color: #00af00; text-decoration-color: #00af00\">64</span>)          │           <span style=\"color: #00af00; text-decoration-color: #00af00\">832</span> │\n",
       "├─────────────────────────────────┼────────────────────────┼───────────────┤\n",
       "│ flatten_5 (<span style=\"color: #0087ff; text-decoration-color: #0087ff\">Flatten</span>)             │ (<span style=\"color: #00d7ff; text-decoration-color: #00d7ff\">None</span>, <span style=\"color: #00af00; text-decoration-color: #00af00\">192</span>)            │             <span style=\"color: #00af00; text-decoration-color: #00af00\">0</span> │\n",
       "├─────────────────────────────────┼────────────────────────┼───────────────┤\n",
       "│ dense_28 (<span style=\"color: #0087ff; text-decoration-color: #0087ff\">Dense</span>)                │ (<span style=\"color: #00d7ff; text-decoration-color: #00d7ff\">None</span>, <span style=\"color: #00af00; text-decoration-color: #00af00\">8</span>)              │         <span style=\"color: #00af00; text-decoration-color: #00af00\">1,544</span> │\n",
       "├─────────────────────────────────┼────────────────────────┼───────────────┤\n",
       "│ dense_29 (<span style=\"color: #0087ff; text-decoration-color: #0087ff\">Dense</span>)                │ (<span style=\"color: #00d7ff; text-decoration-color: #00d7ff\">None</span>, <span style=\"color: #00af00; text-decoration-color: #00af00\">2</span>)              │            <span style=\"color: #00af00; text-decoration-color: #00af00\">18</span> │\n",
       "└─────────────────────────────────┴────────────────────────┴───────────────┘\n",
       "</pre>\n"
      ],
      "text/plain": [
       "┏━━━━━━━━━━━━━━━━━━━━━━━━━━━━━━━━━┳━━━━━━━━━━━━━━━━━━━━━━━━┳━━━━━━━━━━━━━━━┓\n",
       "┃\u001b[1m \u001b[0m\u001b[1mLayer (type)                   \u001b[0m\u001b[1m \u001b[0m┃\u001b[1m \u001b[0m\u001b[1mOutput Shape          \u001b[0m\u001b[1m \u001b[0m┃\u001b[1m \u001b[0m\u001b[1m      Param #\u001b[0m\u001b[1m \u001b[0m┃\n",
       "┡━━━━━━━━━━━━━━━━━━━━━━━━━━━━━━━━━╇━━━━━━━━━━━━━━━━━━━━━━━━╇━━━━━━━━━━━━━━━┩\n",
       "│ conv1d_2 (\u001b[38;5;33mConv1D\u001b[0m)               │ (\u001b[38;5;45mNone\u001b[0m, \u001b[38;5;34m3\u001b[0m, \u001b[38;5;34m64\u001b[0m)          │           \u001b[38;5;34m832\u001b[0m │\n",
       "├─────────────────────────────────┼────────────────────────┼───────────────┤\n",
       "│ flatten_5 (\u001b[38;5;33mFlatten\u001b[0m)             │ (\u001b[38;5;45mNone\u001b[0m, \u001b[38;5;34m192\u001b[0m)            │             \u001b[38;5;34m0\u001b[0m │\n",
       "├─────────────────────────────────┼────────────────────────┼───────────────┤\n",
       "│ dense_28 (\u001b[38;5;33mDense\u001b[0m)                │ (\u001b[38;5;45mNone\u001b[0m, \u001b[38;5;34m8\u001b[0m)              │         \u001b[38;5;34m1,544\u001b[0m │\n",
       "├─────────────────────────────────┼────────────────────────┼───────────────┤\n",
       "│ dense_29 (\u001b[38;5;33mDense\u001b[0m)                │ (\u001b[38;5;45mNone\u001b[0m, \u001b[38;5;34m2\u001b[0m)              │            \u001b[38;5;34m18\u001b[0m │\n",
       "└─────────────────────────────────┴────────────────────────┴───────────────┘\n"
      ]
     },
     "metadata": {},
     "output_type": "display_data"
    },
    {
     "data": {
      "text/html": [
       "<pre style=\"white-space:pre;overflow-x:auto;line-height:normal;font-family:Menlo,'DejaVu Sans Mono',consolas,'Courier New',monospace\"><span style=\"font-weight: bold\"> Total params: </span><span style=\"color: #00af00; text-decoration-color: #00af00\">2,394</span> (9.35 KB)\n",
       "</pre>\n"
      ],
      "text/plain": [
       "\u001b[1m Total params: \u001b[0m\u001b[38;5;34m2,394\u001b[0m (9.35 KB)\n"
      ]
     },
     "metadata": {},
     "output_type": "display_data"
    },
    {
     "data": {
      "text/html": [
       "<pre style=\"white-space:pre;overflow-x:auto;line-height:normal;font-family:Menlo,'DejaVu Sans Mono',consolas,'Courier New',monospace\"><span style=\"font-weight: bold\"> Trainable params: </span><span style=\"color: #00af00; text-decoration-color: #00af00\">2,394</span> (9.35 KB)\n",
       "</pre>\n"
      ],
      "text/plain": [
       "\u001b[1m Trainable params: \u001b[0m\u001b[38;5;34m2,394\u001b[0m (9.35 KB)\n"
      ]
     },
     "metadata": {},
     "output_type": "display_data"
    },
    {
     "data": {
      "text/html": [
       "<pre style=\"white-space:pre;overflow-x:auto;line-height:normal;font-family:Menlo,'DejaVu Sans Mono',consolas,'Courier New',monospace\"><span style=\"font-weight: bold\"> Non-trainable params: </span><span style=\"color: #00af00; text-decoration-color: #00af00\">0</span> (0.00 B)\n",
       "</pre>\n"
      ],
      "text/plain": [
       "\u001b[1m Non-trainable params: \u001b[0m\u001b[38;5;34m0\u001b[0m (0.00 B)\n"
      ]
     },
     "metadata": {},
     "output_type": "display_data"
    }
   ],
   "source": [
    "model7 = Sequential()\n",
    "model7.add(InputLayer((4, 6)))\n",
    "model7.add(Conv1D(64, kernel_size=2, activation='relu'))\n",
    "model7.add(Flatten())\n",
    "model7.add(Dense(8, 'relu'))\n",
    "model7.add(Dense(2, 'linear'))\n",
    "model7.summary()"
   ]
  },
  {
   "cell_type": "code",
   "execution_count": 125,
   "metadata": {},
   "outputs": [
    {
     "name": "stdout",
     "output_type": "stream",
     "text": [
      "Epoch 1/10\n"
     ]
    },
    {
     "name": "stdout",
     "output_type": "stream",
     "text": [
      "\u001b[1m634/634\u001b[0m \u001b[32m━━━━━━━━━━━━━━━━━━━━\u001b[0m\u001b[37m\u001b[0m \u001b[1m1s\u001b[0m 1ms/step - loss: 0.7511 - root_mean_squared_error: 0.8606 - val_loss: 0.2326 - val_root_mean_squared_error: 0.4822\n",
      "Epoch 2/10\n",
      "\u001b[1m634/634\u001b[0m \u001b[32m━━━━━━━━━━━━━━━━━━━━\u001b[0m\u001b[37m\u001b[0m \u001b[1m1s\u001b[0m 1ms/step - loss: 0.1971 - root_mean_squared_error: 0.4434 - val_loss: 0.1161 - val_root_mean_squared_error: 0.3408\n",
      "Epoch 3/10\n",
      "\u001b[1m634/634\u001b[0m \u001b[32m━━━━━━━━━━━━━━━━━━━━\u001b[0m\u001b[37m\u001b[0m \u001b[1m1s\u001b[0m 1ms/step - loss: 0.1380 - root_mean_squared_error: 0.3713 - val_loss: 0.0957 - val_root_mean_squared_error: 0.3094\n",
      "Epoch 4/10\n",
      "\u001b[1m634/634\u001b[0m \u001b[32m━━━━━━━━━━━━━━━━━━━━\u001b[0m\u001b[37m\u001b[0m \u001b[1m1s\u001b[0m 1ms/step - loss: 0.1209 - root_mean_squared_error: 0.3474 - val_loss: 0.0884 - val_root_mean_squared_error: 0.2974\n",
      "Epoch 5/10\n",
      "\u001b[1m634/634\u001b[0m \u001b[32m━━━━━━━━━━━━━━━━━━━━\u001b[0m\u001b[37m\u001b[0m \u001b[1m1s\u001b[0m 1ms/step - loss: 0.1044 - root_mean_squared_error: 0.3230 - val_loss: 0.0843 - val_root_mean_squared_error: 0.2904\n",
      "Epoch 6/10\n",
      "\u001b[1m634/634\u001b[0m \u001b[32m━━━━━━━━━━━━━━━━━━━━\u001b[0m\u001b[37m\u001b[0m \u001b[1m1s\u001b[0m 1ms/step - loss: 0.1044 - root_mean_squared_error: 0.3229 - val_loss: 0.0824 - val_root_mean_squared_error: 0.2870\n",
      "Epoch 7/10\n",
      "\u001b[1m634/634\u001b[0m \u001b[32m━━━━━━━━━━━━━━━━━━━━\u001b[0m\u001b[37m\u001b[0m \u001b[1m1s\u001b[0m 1ms/step - loss: 0.1037 - root_mean_squared_error: 0.3219 - val_loss: 0.0825 - val_root_mean_squared_error: 0.2873\n",
      "Epoch 8/10\n",
      "\u001b[1m634/634\u001b[0m \u001b[32m━━━━━━━━━━━━━━━━━━━━\u001b[0m\u001b[37m\u001b[0m \u001b[1m1s\u001b[0m 1ms/step - loss: 0.0993 - root_mean_squared_error: 0.3150 - val_loss: 0.0810 - val_root_mean_squared_error: 0.2847\n",
      "Epoch 9/10\n",
      "\u001b[1m634/634\u001b[0m \u001b[32m━━━━━━━━━━━━━━━━━━━━\u001b[0m\u001b[37m\u001b[0m \u001b[1m1s\u001b[0m 1ms/step - loss: 0.1019 - root_mean_squared_error: 0.3191 - val_loss: 0.0810 - val_root_mean_squared_error: 0.2846\n",
      "Epoch 10/10\n",
      "\u001b[1m634/634\u001b[0m \u001b[32m━━━━━━━━━━━━━━━━━━━━\u001b[0m\u001b[37m\u001b[0m \u001b[1m1s\u001b[0m 1ms/step - loss: 0.1008 - root_mean_squared_error: 0.3174 - val_loss: 0.0805 - val_root_mean_squared_error: 0.2838\n"
     ]
    },
    {
     "data": {
      "text/plain": [
       "<keras.src.callbacks.history.History at 0x7ff69840f310>"
      ]
     },
     "execution_count": 125,
     "metadata": {},
     "output_type": "execute_result"
    }
   ],
   "source": [
    "cp7 = ModelCheckpoint('model7/model7.keras', save_best_only=True, verbose=0)\n",
    "model7.compile(loss=MeanSquaredError(), optimizer=Adam(learning_rate=0.0001), metrics=[RootMeanSquaredError()])\n",
    "model7.fit(X3_train, y3_train, epochs=10, validation_data=(X3_val, y3_val), callbacks=[cp7])"
   ]
  },
  {
   "cell_type": "code",
   "execution_count": 126,
   "metadata": {},
   "outputs": [
    {
     "name": "stdout",
     "output_type": "stream",
     "text": [
      "\u001b[1m 1/91\u001b[0m \u001b[37m━━━━━━━━━━━━━━━━━━━━\u001b[0m \u001b[1m3s\u001b[0m 35ms/step"
     ]
    },
    {
     "name": "stdout",
     "output_type": "stream",
     "text": [
      "\u001b[1m91/91\u001b[0m \u001b[32m━━━━━━━━━━━━━━━━━━━━\u001b[0m\u001b[37m\u001b[0m \u001b[1m0s\u001b[0m 970us/step\n"
     ]
    },
    {
     "data": {
      "image/png": "[encoded data removed]",
      "text/plain": [
       "<Figure size 640x480 with 1 Axes>"
      ]
     },
     "metadata": {},
     "output_type": "display_data"
    }
   ],
   "source": [
    "post_processed_df = plot_all_predictions(model7, X3_test, y3_test)"
   ]
  }
 ],
 "metadata": {
  "kernelspec": {
   "display_name": "Python 3",
   "language": "python",
   "name": "python3"
  },
  "language_info": {
   "codemirror_mode": {
    "name": "ipython",
    "version": 3
   },
   "file_extension": ".py",
   "mimetype": "text/x-python",
   "name": "python",
   "nbconvert_exporter": "python",
   "pygments_lexer": "ipython3",
   "version": "3.10.12"
  }
 },
 "nbformat": 4,
 "nbformat_minor": 2
}
