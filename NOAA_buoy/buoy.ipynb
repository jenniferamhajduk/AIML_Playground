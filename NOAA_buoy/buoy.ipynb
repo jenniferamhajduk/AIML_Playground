{
 "cells": [
  {
   "cell_type": "markdown",
   "metadata": {},
   "source": [
    "Data: https://huggingface.co/datasets/Qdrant/NOAA-Buoy\n",
    "Tutorial Credit: https://www.youtube.com/watch?v=c0k-YLQGKjY"
   ]
  },
  {
   "cell_type": "markdown",
   "metadata": {},
   "source": [
    "# Single variable section"
   ]
  },
  {
   "cell_type": "code",
   "execution_count": 2281,
   "metadata": {},
   "outputs": [],
   "source": [
    "import numpy as np\n",
    "import pandas as pd\n",
    "import matplotlib.pyplot as plt\n",
    "import seaborn as sns\n",
    "import xgboost as xgb\n",
    "import tensorflow as tf\n",
    "from tensorflow.keras import Sequential\n",
    "from tensorflow.keras.layers import *\n",
    "from tensorflow.keras.callbacks import ModelCheckpoint\n",
    "from tensorflow.keras.losses import MeanSquaredError\n",
    "from tensorflow.keras.metrics import RootMeanSquaredError\n",
    "from tensorflow.keras.optimizers import Adam\n",
    "from tensorflow.keras.models import load_model\n",
    "import matplotlib.pyplot as plt\n",
    "from sklearn.metrics import mean_squared_error as mse"
   ]
  },
  {
   "cell_type": "code",
   "execution_count": 2282,
   "metadata": {},
   "outputs": [],
   "source": [
    "df = pd.read_csv('./full_years_remove_flawed_rows.csv')"
   ]
  },
  {
   "cell_type": "code",
   "execution_count": 2283,
   "metadata": {},
   "outputs": [
    {
     "data": {
      "text/html": [
       "<div>\n",
       "<style scoped>\n",
       "    .dataframe tbody tr th:only-of-type {\n",
       "        vertical-align: middle;\n",
       "    }\n",
       "\n",
       "    .dataframe tbody tr th {\n",
       "        vertical-align: top;\n",
       "    }\n",
       "\n",
       "    .dataframe thead th {\n",
       "        text-align: right;\n",
       "    }\n",
       "</style>\n",
       "<table border=\"1\" class=\"dataframe\">\n",
       "  <thead>\n",
       "    <tr style=\"text-align: right;\">\n",
       "      <th></th>\n",
       "      <th>#YY</th>\n",
       "      <th>MM</th>\n",
       "      <th>DD</th>\n",
       "      <th>hh</th>\n",
       "      <th>mm</th>\n",
       "      <th>WDIR</th>\n",
       "      <th>WSPD</th>\n",
       "      <th>GST</th>\n",
       "      <th>WVHT</th>\n",
       "      <th>DPD</th>\n",
       "      <th>APD</th>\n",
       "      <th>MWD</th>\n",
       "      <th>PRES</th>\n",
       "      <th>ATMP</th>\n",
       "      <th>WTMP</th>\n",
       "    </tr>\n",
       "    <tr>\n",
       "      <th>timestamp</th>\n",
       "      <th></th>\n",
       "      <th></th>\n",
       "      <th></th>\n",
       "      <th></th>\n",
       "      <th></th>\n",
       "      <th></th>\n",
       "      <th></th>\n",
       "      <th></th>\n",
       "      <th></th>\n",
       "      <th></th>\n",
       "      <th></th>\n",
       "      <th></th>\n",
       "      <th></th>\n",
       "      <th></th>\n",
       "      <th></th>\n",
       "    </tr>\n",
       "  </thead>\n",
       "  <tbody>\n",
       "    <tr>\n",
       "      <th>1980-01-01 00:00:00-05:00</th>\n",
       "      <td>1980</td>\n",
       "      <td>1</td>\n",
       "      <td>1</td>\n",
       "      <td>0</td>\n",
       "      <td>0</td>\n",
       "      <td>323.0</td>\n",
       "      <td>10.6</td>\n",
       "      <td>14.3</td>\n",
       "      <td>1.80</td>\n",
       "      <td>5.90</td>\n",
       "      <td>5.10</td>\n",
       "      <td>NaN</td>\n",
       "      <td>1020.2</td>\n",
       "      <td>15.6</td>\n",
       "      <td>21.1</td>\n",
       "    </tr>\n",
       "    <tr>\n",
       "      <th>1980-01-01 01:00:00-05:00</th>\n",
       "      <td>1980</td>\n",
       "      <td>1</td>\n",
       "      <td>1</td>\n",
       "      <td>1</td>\n",
       "      <td>0</td>\n",
       "      <td>317.0</td>\n",
       "      <td>10.0</td>\n",
       "      <td>13.0</td>\n",
       "      <td>1.70</td>\n",
       "      <td>6.30</td>\n",
       "      <td>5.00</td>\n",
       "      <td>NaN</td>\n",
       "      <td>1020.7</td>\n",
       "      <td>15.6</td>\n",
       "      <td>21.1</td>\n",
       "    </tr>\n",
       "    <tr>\n",
       "      <th>1980-01-01 02:00:00-05:00</th>\n",
       "      <td>1980</td>\n",
       "      <td>1</td>\n",
       "      <td>1</td>\n",
       "      <td>2</td>\n",
       "      <td>0</td>\n",
       "      <td>323.0</td>\n",
       "      <td>9.4</td>\n",
       "      <td>12.3</td>\n",
       "      <td>1.80</td>\n",
       "      <td>6.30</td>\n",
       "      <td>4.90</td>\n",
       "      <td>NaN</td>\n",
       "      <td>1021.3</td>\n",
       "      <td>15.6</td>\n",
       "      <td>21.1</td>\n",
       "    </tr>\n",
       "    <tr>\n",
       "      <th>1980-01-01 03:00:00-05:00</th>\n",
       "      <td>1980</td>\n",
       "      <td>1</td>\n",
       "      <td>1</td>\n",
       "      <td>3</td>\n",
       "      <td>0</td>\n",
       "      <td>311.0</td>\n",
       "      <td>9.3</td>\n",
       "      <td>12.3</td>\n",
       "      <td>1.80</td>\n",
       "      <td>6.30</td>\n",
       "      <td>5.10</td>\n",
       "      <td>NaN</td>\n",
       "      <td>1021.8</td>\n",
       "      <td>15.7</td>\n",
       "      <td>21.2</td>\n",
       "    </tr>\n",
       "    <tr>\n",
       "      <th>1980-01-01 04:00:00-05:00</th>\n",
       "      <td>1980</td>\n",
       "      <td>1</td>\n",
       "      <td>1</td>\n",
       "      <td>4</td>\n",
       "      <td>0</td>\n",
       "      <td>324.0</td>\n",
       "      <td>8.2</td>\n",
       "      <td>10.9</td>\n",
       "      <td>1.80</td>\n",
       "      <td>6.70</td>\n",
       "      <td>5.20</td>\n",
       "      <td>NaN</td>\n",
       "      <td>1022.0</td>\n",
       "      <td>15.4</td>\n",
       "      <td>21.2</td>\n",
       "    </tr>\n",
       "    <tr>\n",
       "      <th>...</th>\n",
       "      <td>...</td>\n",
       "      <td>...</td>\n",
       "      <td>...</td>\n",
       "      <td>...</td>\n",
       "      <td>...</td>\n",
       "      <td>...</td>\n",
       "      <td>...</td>\n",
       "      <td>...</td>\n",
       "      <td>...</td>\n",
       "      <td>...</td>\n",
       "      <td>...</td>\n",
       "      <td>...</td>\n",
       "      <td>...</td>\n",
       "      <td>...</td>\n",
       "      <td>...</td>\n",
       "    </tr>\n",
       "    <tr>\n",
       "      <th>2022-12-31 21:40:00-05:00</th>\n",
       "      <td>2022</td>\n",
       "      <td>12</td>\n",
       "      <td>31</td>\n",
       "      <td>21</td>\n",
       "      <td>40</td>\n",
       "      <td>82.0</td>\n",
       "      <td>2.3</td>\n",
       "      <td>3.3</td>\n",
       "      <td>1.27</td>\n",
       "      <td>8.33</td>\n",
       "      <td>6.18</td>\n",
       "      <td>101.0</td>\n",
       "      <td>1014.8</td>\n",
       "      <td>24.5</td>\n",
       "      <td>NaN</td>\n",
       "    </tr>\n",
       "    <tr>\n",
       "      <th>2022-12-31 22:10:00-05:00</th>\n",
       "      <td>2022</td>\n",
       "      <td>12</td>\n",
       "      <td>31</td>\n",
       "      <td>22</td>\n",
       "      <td>10</td>\n",
       "      <td>100.0</td>\n",
       "      <td>2.6</td>\n",
       "      <td>3.5</td>\n",
       "      <td>1.13</td>\n",
       "      <td>6.25</td>\n",
       "      <td>5.96</td>\n",
       "      <td>118.0</td>\n",
       "      <td>1014.9</td>\n",
       "      <td>24.5</td>\n",
       "      <td>NaN</td>\n",
       "    </tr>\n",
       "    <tr>\n",
       "      <th>2022-12-31 22:40:00-05:00</th>\n",
       "      <td>2022</td>\n",
       "      <td>12</td>\n",
       "      <td>31</td>\n",
       "      <td>22</td>\n",
       "      <td>40</td>\n",
       "      <td>110.0</td>\n",
       "      <td>3.2</td>\n",
       "      <td>4.5</td>\n",
       "      <td>1.22</td>\n",
       "      <td>7.69</td>\n",
       "      <td>6.19</td>\n",
       "      <td>100.0</td>\n",
       "      <td>1015.1</td>\n",
       "      <td>24.5</td>\n",
       "      <td>NaN</td>\n",
       "    </tr>\n",
       "    <tr>\n",
       "      <th>2022-12-31 23:10:00-05:00</th>\n",
       "      <td>2022</td>\n",
       "      <td>12</td>\n",
       "      <td>31</td>\n",
       "      <td>23</td>\n",
       "      <td>10</td>\n",
       "      <td>120.0</td>\n",
       "      <td>3.8</td>\n",
       "      <td>5.0</td>\n",
       "      <td>1.19</td>\n",
       "      <td>7.69</td>\n",
       "      <td>6.10</td>\n",
       "      <td>95.0</td>\n",
       "      <td>1015.0</td>\n",
       "      <td>24.5</td>\n",
       "      <td>NaN</td>\n",
       "    </tr>\n",
       "    <tr>\n",
       "      <th>2022-12-31 23:40:00-05:00</th>\n",
       "      <td>2022</td>\n",
       "      <td>12</td>\n",
       "      <td>31</td>\n",
       "      <td>23</td>\n",
       "      <td>40</td>\n",
       "      <td>120.0</td>\n",
       "      <td>3.8</td>\n",
       "      <td>5.1</td>\n",
       "      <td>1.13</td>\n",
       "      <td>7.69</td>\n",
       "      <td>5.98</td>\n",
       "      <td>93.0</td>\n",
       "      <td>1015.0</td>\n",
       "      <td>24.6</td>\n",
       "      <td>NaN</td>\n",
       "    </tr>\n",
       "  </tbody>\n",
       "</table>\n",
       "<p>332891 rows × 15 columns</p>\n",
       "</div>"
      ],
      "text/plain": [
       "                            #YY  MM  DD  hh  mm   WDIR  WSPD   GST  WVHT   \n",
       "timestamp                                                                  \n",
       "1980-01-01 00:00:00-05:00  1980   1   1   0   0  323.0  10.6  14.3  1.80  \\\n",
       "1980-01-01 01:00:00-05:00  1980   1   1   1   0  317.0  10.0  13.0  1.70   \n",
       "1980-01-01 02:00:00-05:00  1980   1   1   2   0  323.0   9.4  12.3  1.80   \n",
       "1980-01-01 03:00:00-05:00  1980   1   1   3   0  311.0   9.3  12.3  1.80   \n",
       "1980-01-01 04:00:00-05:00  1980   1   1   4   0  324.0   8.2  10.9  1.80   \n",
       "...                         ...  ..  ..  ..  ..    ...   ...   ...   ...   \n",
       "2022-12-31 21:40:00-05:00  2022  12  31  21  40   82.0   2.3   3.3  1.27   \n",
       "2022-12-31 22:10:00-05:00  2022  12  31  22  10  100.0   2.6   3.5  1.13   \n",
       "2022-12-31 22:40:00-05:00  2022  12  31  22  40  110.0   3.2   4.5  1.22   \n",
       "2022-12-31 23:10:00-05:00  2022  12  31  23  10  120.0   3.8   5.0  1.19   \n",
       "2022-12-31 23:40:00-05:00  2022  12  31  23  40  120.0   3.8   5.1  1.13   \n",
       "\n",
       "                            DPD   APD    MWD    PRES  ATMP  WTMP  \n",
       "timestamp                                                         \n",
       "1980-01-01 00:00:00-05:00  5.90  5.10    NaN  1020.2  15.6  21.1  \n",
       "1980-01-01 01:00:00-05:00  6.30  5.00    NaN  1020.7  15.6  21.1  \n",
       "1980-01-01 02:00:00-05:00  6.30  4.90    NaN  1021.3  15.6  21.1  \n",
       "1980-01-01 03:00:00-05:00  6.30  5.10    NaN  1021.8  15.7  21.2  \n",
       "1980-01-01 04:00:00-05:00  6.70  5.20    NaN  1022.0  15.4  21.2  \n",
       "...                         ...   ...    ...     ...   ...   ...  \n",
       "2022-12-31 21:40:00-05:00  8.33  6.18  101.0  1014.8  24.5   NaN  \n",
       "2022-12-31 22:10:00-05:00  6.25  5.96  118.0  1014.9  24.5   NaN  \n",
       "2022-12-31 22:40:00-05:00  7.69  6.19  100.0  1015.1  24.5   NaN  \n",
       "2022-12-31 23:10:00-05:00  7.69  6.10   95.0  1015.0  24.5   NaN  \n",
       "2022-12-31 23:40:00-05:00  7.69  5.98   93.0  1015.0  24.6   NaN  \n",
       "\n",
       "[332891 rows x 15 columns]"
      ]
     },
     "execution_count": 2283,
     "metadata": {},
     "output_type": "execute_result"
    }
   ],
   "source": [
    "df['timestamp'] = pd.to_datetime(df['TSTMP'])\n",
    "df.set_index('timestamp', inplace=True)\n",
    "df.drop(['TSTMP'], axis=1, inplace=True)\n",
    "df"
   ]
  },
  {
   "cell_type": "markdown",
   "metadata": {},
   "source": [
    "### This is a lot of data. Let's take periodic samples, every six hours"
   ]
  },
  {
   "cell_type": "code",
   "execution_count": 2284,
   "metadata": {},
   "outputs": [
    {
     "data": {
      "text/html": [
       "<div>\n",
       "<style scoped>\n",
       "    .dataframe tbody tr th:only-of-type {\n",
       "        vertical-align: middle;\n",
       "    }\n",
       "\n",
       "    .dataframe tbody tr th {\n",
       "        vertical-align: top;\n",
       "    }\n",
       "\n",
       "    .dataframe thead th {\n",
       "        text-align: right;\n",
       "    }\n",
       "</style>\n",
       "<table border=\"1\" class=\"dataframe\">\n",
       "  <thead>\n",
       "    <tr style=\"text-align: right;\">\n",
       "      <th></th>\n",
       "      <th>#YY</th>\n",
       "      <th>MM</th>\n",
       "      <th>DD</th>\n",
       "      <th>hh</th>\n",
       "      <th>mm</th>\n",
       "      <th>WDIR</th>\n",
       "      <th>WSPD</th>\n",
       "      <th>GST</th>\n",
       "      <th>WVHT</th>\n",
       "      <th>DPD</th>\n",
       "      <th>APD</th>\n",
       "      <th>MWD</th>\n",
       "      <th>PRES</th>\n",
       "      <th>ATMP</th>\n",
       "      <th>WTMP</th>\n",
       "    </tr>\n",
       "    <tr>\n",
       "      <th>timestamp</th>\n",
       "      <th></th>\n",
       "      <th></th>\n",
       "      <th></th>\n",
       "      <th></th>\n",
       "      <th></th>\n",
       "      <th></th>\n",
       "      <th></th>\n",
       "      <th></th>\n",
       "      <th></th>\n",
       "      <th></th>\n",
       "      <th></th>\n",
       "      <th></th>\n",
       "      <th></th>\n",
       "      <th></th>\n",
       "      <th></th>\n",
       "    </tr>\n",
       "  </thead>\n",
       "  <tbody>\n",
       "    <tr>\n",
       "      <th>1980-01-01 00:00:00-05:00</th>\n",
       "      <td>1980</td>\n",
       "      <td>1</td>\n",
       "      <td>1</td>\n",
       "      <td>0</td>\n",
       "      <td>0</td>\n",
       "      <td>323.0</td>\n",
       "      <td>10.6</td>\n",
       "      <td>14.3</td>\n",
       "      <td>1.80</td>\n",
       "      <td>5.90</td>\n",
       "      <td>5.10</td>\n",
       "      <td>NaN</td>\n",
       "      <td>1020.2</td>\n",
       "      <td>15.6</td>\n",
       "      <td>21.1</td>\n",
       "    </tr>\n",
       "    <tr>\n",
       "      <th>1980-01-01 06:00:00-05:00</th>\n",
       "      <td>1980</td>\n",
       "      <td>1</td>\n",
       "      <td>1</td>\n",
       "      <td>6</td>\n",
       "      <td>0</td>\n",
       "      <td>339.0</td>\n",
       "      <td>8.1</td>\n",
       "      <td>10.3</td>\n",
       "      <td>1.60</td>\n",
       "      <td>6.70</td>\n",
       "      <td>5.10</td>\n",
       "      <td>NaN</td>\n",
       "      <td>1021.9</td>\n",
       "      <td>15.4</td>\n",
       "      <td>21.2</td>\n",
       "    </tr>\n",
       "    <tr>\n",
       "      <th>1980-01-01 12:00:00-05:00</th>\n",
       "      <td>1980</td>\n",
       "      <td>1</td>\n",
       "      <td>1</td>\n",
       "      <td>12</td>\n",
       "      <td>0</td>\n",
       "      <td>344.0</td>\n",
       "      <td>7.5</td>\n",
       "      <td>9.7</td>\n",
       "      <td>1.30</td>\n",
       "      <td>6.30</td>\n",
       "      <td>4.70</td>\n",
       "      <td>NaN</td>\n",
       "      <td>1020.7</td>\n",
       "      <td>15.4</td>\n",
       "      <td>21.1</td>\n",
       "    </tr>\n",
       "    <tr>\n",
       "      <th>1980-01-01 18:00:00-05:00</th>\n",
       "      <td>1980</td>\n",
       "      <td>1</td>\n",
       "      <td>1</td>\n",
       "      <td>18</td>\n",
       "      <td>0</td>\n",
       "      <td>352.0</td>\n",
       "      <td>5.3</td>\n",
       "      <td>7.6</td>\n",
       "      <td>1.10</td>\n",
       "      <td>5.90</td>\n",
       "      <td>4.80</td>\n",
       "      <td>NaN</td>\n",
       "      <td>1022.2</td>\n",
       "      <td>16.1</td>\n",
       "      <td>21.1</td>\n",
       "    </tr>\n",
       "    <tr>\n",
       "      <th>1980-01-02 00:00:00-05:00</th>\n",
       "      <td>1980</td>\n",
       "      <td>1</td>\n",
       "      <td>2</td>\n",
       "      <td>0</td>\n",
       "      <td>0</td>\n",
       "      <td>2.0</td>\n",
       "      <td>3.5</td>\n",
       "      <td>5.6</td>\n",
       "      <td>0.70</td>\n",
       "      <td>5.90</td>\n",
       "      <td>4.60</td>\n",
       "      <td>NaN</td>\n",
       "      <td>1020.0</td>\n",
       "      <td>15.7</td>\n",
       "      <td>21.0</td>\n",
       "    </tr>\n",
       "    <tr>\n",
       "      <th>...</th>\n",
       "      <td>...</td>\n",
       "      <td>...</td>\n",
       "      <td>...</td>\n",
       "      <td>...</td>\n",
       "      <td>...</td>\n",
       "      <td>...</td>\n",
       "      <td>...</td>\n",
       "      <td>...</td>\n",
       "      <td>...</td>\n",
       "      <td>...</td>\n",
       "      <td>...</td>\n",
       "      <td>...</td>\n",
       "      <td>...</td>\n",
       "      <td>...</td>\n",
       "      <td>...</td>\n",
       "    </tr>\n",
       "    <tr>\n",
       "      <th>2022-12-31 06:40:00-05:00</th>\n",
       "      <td>2022</td>\n",
       "      <td>12</td>\n",
       "      <td>31</td>\n",
       "      <td>6</td>\n",
       "      <td>40</td>\n",
       "      <td>135.0</td>\n",
       "      <td>2.6</td>\n",
       "      <td>3.9</td>\n",
       "      <td>1.68</td>\n",
       "      <td>8.33</td>\n",
       "      <td>6.01</td>\n",
       "      <td>107.0</td>\n",
       "      <td>1014.5</td>\n",
       "      <td>24.6</td>\n",
       "      <td>NaN</td>\n",
       "    </tr>\n",
       "    <tr>\n",
       "      <th>2022-12-31 12:10:00-05:00</th>\n",
       "      <td>2022</td>\n",
       "      <td>12</td>\n",
       "      <td>31</td>\n",
       "      <td>12</td>\n",
       "      <td>10</td>\n",
       "      <td>259.0</td>\n",
       "      <td>3.4</td>\n",
       "      <td>5.0</td>\n",
       "      <td>1.57</td>\n",
       "      <td>7.69</td>\n",
       "      <td>6.19</td>\n",
       "      <td>115.0</td>\n",
       "      <td>1015.5</td>\n",
       "      <td>24.6</td>\n",
       "      <td>NaN</td>\n",
       "    </tr>\n",
       "    <tr>\n",
       "      <th>2022-12-31 12:40:00-05:00</th>\n",
       "      <td>2022</td>\n",
       "      <td>12</td>\n",
       "      <td>31</td>\n",
       "      <td>12</td>\n",
       "      <td>40</td>\n",
       "      <td>276.0</td>\n",
       "      <td>3.2</td>\n",
       "      <td>4.5</td>\n",
       "      <td>1.45</td>\n",
       "      <td>7.69</td>\n",
       "      <td>6.14</td>\n",
       "      <td>109.0</td>\n",
       "      <td>1015.8</td>\n",
       "      <td>24.6</td>\n",
       "      <td>NaN</td>\n",
       "    </tr>\n",
       "    <tr>\n",
       "      <th>2022-12-31 18:10:00-05:00</th>\n",
       "      <td>2022</td>\n",
       "      <td>12</td>\n",
       "      <td>31</td>\n",
       "      <td>18</td>\n",
       "      <td>10</td>\n",
       "      <td>23.0</td>\n",
       "      <td>0.3</td>\n",
       "      <td>1.2</td>\n",
       "      <td>1.34</td>\n",
       "      <td>7.14</td>\n",
       "      <td>6.25</td>\n",
       "      <td>109.0</td>\n",
       "      <td>1016.6</td>\n",
       "      <td>25.5</td>\n",
       "      <td>NaN</td>\n",
       "    </tr>\n",
       "    <tr>\n",
       "      <th>2022-12-31 18:40:00-05:00</th>\n",
       "      <td>2022</td>\n",
       "      <td>12</td>\n",
       "      <td>31</td>\n",
       "      <td>18</td>\n",
       "      <td>40</td>\n",
       "      <td>18.0</td>\n",
       "      <td>1.1</td>\n",
       "      <td>2.1</td>\n",
       "      <td>1.40</td>\n",
       "      <td>7.69</td>\n",
       "      <td>6.27</td>\n",
       "      <td>99.0</td>\n",
       "      <td>1016.2</td>\n",
       "      <td>25.1</td>\n",
       "      <td>NaN</td>\n",
       "    </tr>\n",
       "  </tbody>\n",
       "</table>\n",
       "<p>56537 rows × 15 columns</p>\n",
       "</div>"
      ],
      "text/plain": [
       "                            #YY  MM  DD  hh  mm   WDIR  WSPD   GST  WVHT   \n",
       "timestamp                                                                  \n",
       "1980-01-01 00:00:00-05:00  1980   1   1   0   0  323.0  10.6  14.3  1.80  \\\n",
       "1980-01-01 06:00:00-05:00  1980   1   1   6   0  339.0   8.1  10.3  1.60   \n",
       "1980-01-01 12:00:00-05:00  1980   1   1  12   0  344.0   7.5   9.7  1.30   \n",
       "1980-01-01 18:00:00-05:00  1980   1   1  18   0  352.0   5.3   7.6  1.10   \n",
       "1980-01-02 00:00:00-05:00  1980   1   2   0   0    2.0   3.5   5.6  0.70   \n",
       "...                         ...  ..  ..  ..  ..    ...   ...   ...   ...   \n",
       "2022-12-31 06:40:00-05:00  2022  12  31   6  40  135.0   2.6   3.9  1.68   \n",
       "2022-12-31 12:10:00-05:00  2022  12  31  12  10  259.0   3.4   5.0  1.57   \n",
       "2022-12-31 12:40:00-05:00  2022  12  31  12  40  276.0   3.2   4.5  1.45   \n",
       "2022-12-31 18:10:00-05:00  2022  12  31  18  10   23.0   0.3   1.2  1.34   \n",
       "2022-12-31 18:40:00-05:00  2022  12  31  18  40   18.0   1.1   2.1  1.40   \n",
       "\n",
       "                            DPD   APD    MWD    PRES  ATMP  WTMP  \n",
       "timestamp                                                         \n",
       "1980-01-01 00:00:00-05:00  5.90  5.10    NaN  1020.2  15.6  21.1  \n",
       "1980-01-01 06:00:00-05:00  6.70  5.10    NaN  1021.9  15.4  21.2  \n",
       "1980-01-01 12:00:00-05:00  6.30  4.70    NaN  1020.7  15.4  21.1  \n",
       "1980-01-01 18:00:00-05:00  5.90  4.80    NaN  1022.2  16.1  21.1  \n",
       "1980-01-02 00:00:00-05:00  5.90  4.60    NaN  1020.0  15.7  21.0  \n",
       "...                         ...   ...    ...     ...   ...   ...  \n",
       "2022-12-31 06:40:00-05:00  8.33  6.01  107.0  1014.5  24.6   NaN  \n",
       "2022-12-31 12:10:00-05:00  7.69  6.19  115.0  1015.5  24.6   NaN  \n",
       "2022-12-31 12:40:00-05:00  7.69  6.14  109.0  1015.8  24.6   NaN  \n",
       "2022-12-31 18:10:00-05:00  7.14  6.25  109.0  1016.6  25.5   NaN  \n",
       "2022-12-31 18:40:00-05:00  7.69  6.27   99.0  1016.2  25.1   NaN  \n",
       "\n",
       "[56537 rows x 15 columns]"
      ]
     },
     "execution_count": 2284,
     "metadata": {},
     "output_type": "execute_result"
    }
   ],
   "source": [
    "df = df[df.index.hour % 6 == 0]\n",
    "df"
   ]
  },
  {
   "cell_type": "markdown",
   "metadata": {},
   "source": [
    "## I dont want some of this data - it will not be useful"
   ]
  },
  {
   "cell_type": "code",
   "execution_count": 2285,
   "metadata": {},
   "outputs": [
    {
     "data": {
      "text/html": [
       "<div>\n",
       "<style scoped>\n",
       "    .dataframe tbody tr th:only-of-type {\n",
       "        vertical-align: middle;\n",
       "    }\n",
       "\n",
       "    .dataframe tbody tr th {\n",
       "        vertical-align: top;\n",
       "    }\n",
       "\n",
       "    .dataframe thead th {\n",
       "        text-align: right;\n",
       "    }\n",
       "</style>\n",
       "<table border=\"1\" class=\"dataframe\">\n",
       "  <thead>\n",
       "    <tr style=\"text-align: right;\">\n",
       "      <th></th>\n",
       "      <th>WDIR</th>\n",
       "      <th>WSPD</th>\n",
       "      <th>GST</th>\n",
       "      <th>WVHT</th>\n",
       "      <th>MWD</th>\n",
       "      <th>PRES</th>\n",
       "      <th>ATMP</th>\n",
       "      <th>WTMP</th>\n",
       "    </tr>\n",
       "    <tr>\n",
       "      <th>timestamp</th>\n",
       "      <th></th>\n",
       "      <th></th>\n",
       "      <th></th>\n",
       "      <th></th>\n",
       "      <th></th>\n",
       "      <th></th>\n",
       "      <th></th>\n",
       "      <th></th>\n",
       "    </tr>\n",
       "  </thead>\n",
       "  <tbody>\n",
       "    <tr>\n",
       "      <th>1980-01-01 00:00:00-05:00</th>\n",
       "      <td>323.0</td>\n",
       "      <td>10.6</td>\n",
       "      <td>14.3</td>\n",
       "      <td>1.80</td>\n",
       "      <td>NaN</td>\n",
       "      <td>1020.2</td>\n",
       "      <td>15.6</td>\n",
       "      <td>21.1</td>\n",
       "    </tr>\n",
       "    <tr>\n",
       "      <th>1980-01-01 06:00:00-05:00</th>\n",
       "      <td>339.0</td>\n",
       "      <td>8.1</td>\n",
       "      <td>10.3</td>\n",
       "      <td>1.60</td>\n",
       "      <td>NaN</td>\n",
       "      <td>1021.9</td>\n",
       "      <td>15.4</td>\n",
       "      <td>21.2</td>\n",
       "    </tr>\n",
       "    <tr>\n",
       "      <th>1980-01-01 12:00:00-05:00</th>\n",
       "      <td>344.0</td>\n",
       "      <td>7.5</td>\n",
       "      <td>9.7</td>\n",
       "      <td>1.30</td>\n",
       "      <td>NaN</td>\n",
       "      <td>1020.7</td>\n",
       "      <td>15.4</td>\n",
       "      <td>21.1</td>\n",
       "    </tr>\n",
       "    <tr>\n",
       "      <th>1980-01-01 18:00:00-05:00</th>\n",
       "      <td>352.0</td>\n",
       "      <td>5.3</td>\n",
       "      <td>7.6</td>\n",
       "      <td>1.10</td>\n",
       "      <td>NaN</td>\n",
       "      <td>1022.2</td>\n",
       "      <td>16.1</td>\n",
       "      <td>21.1</td>\n",
       "    </tr>\n",
       "    <tr>\n",
       "      <th>1980-01-02 00:00:00-05:00</th>\n",
       "      <td>2.0</td>\n",
       "      <td>3.5</td>\n",
       "      <td>5.6</td>\n",
       "      <td>0.70</td>\n",
       "      <td>NaN</td>\n",
       "      <td>1020.0</td>\n",
       "      <td>15.7</td>\n",
       "      <td>21.0</td>\n",
       "    </tr>\n",
       "    <tr>\n",
       "      <th>...</th>\n",
       "      <td>...</td>\n",
       "      <td>...</td>\n",
       "      <td>...</td>\n",
       "      <td>...</td>\n",
       "      <td>...</td>\n",
       "      <td>...</td>\n",
       "      <td>...</td>\n",
       "      <td>...</td>\n",
       "    </tr>\n",
       "    <tr>\n",
       "      <th>2022-12-31 06:40:00-05:00</th>\n",
       "      <td>135.0</td>\n",
       "      <td>2.6</td>\n",
       "      <td>3.9</td>\n",
       "      <td>1.68</td>\n",
       "      <td>107.0</td>\n",
       "      <td>1014.5</td>\n",
       "      <td>24.6</td>\n",
       "      <td>NaN</td>\n",
       "    </tr>\n",
       "    <tr>\n",
       "      <th>2022-12-31 12:10:00-05:00</th>\n",
       "      <td>259.0</td>\n",
       "      <td>3.4</td>\n",
       "      <td>5.0</td>\n",
       "      <td>1.57</td>\n",
       "      <td>115.0</td>\n",
       "      <td>1015.5</td>\n",
       "      <td>24.6</td>\n",
       "      <td>NaN</td>\n",
       "    </tr>\n",
       "    <tr>\n",
       "      <th>2022-12-31 12:40:00-05:00</th>\n",
       "      <td>276.0</td>\n",
       "      <td>3.2</td>\n",
       "      <td>4.5</td>\n",
       "      <td>1.45</td>\n",
       "      <td>109.0</td>\n",
       "      <td>1015.8</td>\n",
       "      <td>24.6</td>\n",
       "      <td>NaN</td>\n",
       "    </tr>\n",
       "    <tr>\n",
       "      <th>2022-12-31 18:10:00-05:00</th>\n",
       "      <td>23.0</td>\n",
       "      <td>0.3</td>\n",
       "      <td>1.2</td>\n",
       "      <td>1.34</td>\n",
       "      <td>109.0</td>\n",
       "      <td>1016.6</td>\n",
       "      <td>25.5</td>\n",
       "      <td>NaN</td>\n",
       "    </tr>\n",
       "    <tr>\n",
       "      <th>2022-12-31 18:40:00-05:00</th>\n",
       "      <td>18.0</td>\n",
       "      <td>1.1</td>\n",
       "      <td>2.1</td>\n",
       "      <td>1.40</td>\n",
       "      <td>99.0</td>\n",
       "      <td>1016.2</td>\n",
       "      <td>25.1</td>\n",
       "      <td>NaN</td>\n",
       "    </tr>\n",
       "  </tbody>\n",
       "</table>\n",
       "<p>56537 rows × 8 columns</p>\n",
       "</div>"
      ],
      "text/plain": [
       "                            WDIR  WSPD   GST  WVHT    MWD    PRES  ATMP  WTMP\n",
       "timestamp                                                                    \n",
       "1980-01-01 00:00:00-05:00  323.0  10.6  14.3  1.80    NaN  1020.2  15.6  21.1\n",
       "1980-01-01 06:00:00-05:00  339.0   8.1  10.3  1.60    NaN  1021.9  15.4  21.2\n",
       "1980-01-01 12:00:00-05:00  344.0   7.5   9.7  1.30    NaN  1020.7  15.4  21.1\n",
       "1980-01-01 18:00:00-05:00  352.0   5.3   7.6  1.10    NaN  1022.2  16.1  21.1\n",
       "1980-01-02 00:00:00-05:00    2.0   3.5   5.6  0.70    NaN  1020.0  15.7  21.0\n",
       "...                          ...   ...   ...   ...    ...     ...   ...   ...\n",
       "2022-12-31 06:40:00-05:00  135.0   2.6   3.9  1.68  107.0  1014.5  24.6   NaN\n",
       "2022-12-31 12:10:00-05:00  259.0   3.4   5.0  1.57  115.0  1015.5  24.6   NaN\n",
       "2022-12-31 12:40:00-05:00  276.0   3.2   4.5  1.45  109.0  1015.8  24.6   NaN\n",
       "2022-12-31 18:10:00-05:00   23.0   0.3   1.2  1.34  109.0  1016.6  25.5   NaN\n",
       "2022-12-31 18:40:00-05:00   18.0   1.1   2.1  1.40   99.0  1016.2  25.1   NaN\n",
       "\n",
       "[56537 rows x 8 columns]"
      ]
     },
     "execution_count": 2285,
     "metadata": {},
     "output_type": "execute_result"
    }
   ],
   "source": [
    "df = df.drop(['#YY', 'MM', 'DD', 'hh', 'mm', 'DPD', 'APD'], axis=1)\n",
    "df"
   ]
  },
  {
   "cell_type": "markdown",
   "metadata": {},
   "source": [
    "### I like to give some good names to the data and drop NA values. We can se how dropping the NA values drasticaally reduced our dataset"
   ]
  },
  {
   "cell_type": "code",
   "execution_count": 2286,
   "metadata": {},
   "outputs": [
    {
     "data": {
      "text/html": [
       "<div>\n",
       "<style scoped>\n",
       "    .dataframe tbody tr th:only-of-type {\n",
       "        vertical-align: middle;\n",
       "    }\n",
       "\n",
       "    .dataframe tbody tr th {\n",
       "        vertical-align: top;\n",
       "    }\n",
       "\n",
       "    .dataframe thead th {\n",
       "        text-align: right;\n",
       "    }\n",
       "</style>\n",
       "<table border=\"1\" class=\"dataframe\">\n",
       "  <thead>\n",
       "    <tr style=\"text-align: right;\">\n",
       "      <th></th>\n",
       "      <th>wind dir (deg)</th>\n",
       "      <th>wind spd (m/s)</th>\n",
       "      <th>wind gst (m/s)</th>\n",
       "      <th>wave hgt (ft)</th>\n",
       "      <th>mean wave dir (deg)</th>\n",
       "      <th>air pres (ft)</th>\n",
       "      <th>air temp (deg fah)</th>\n",
       "      <th>water temp (deg fah)</th>\n",
       "    </tr>\n",
       "    <tr>\n",
       "      <th>timestamp</th>\n",
       "      <th></th>\n",
       "      <th></th>\n",
       "      <th></th>\n",
       "      <th></th>\n",
       "      <th></th>\n",
       "      <th></th>\n",
       "      <th></th>\n",
       "      <th></th>\n",
       "    </tr>\n",
       "  </thead>\n",
       "  <tbody>\n",
       "    <tr>\n",
       "      <th>1994-08-17 18:00:00-05:00</th>\n",
       "      <td>185.0</td>\n",
       "      <td>6.0</td>\n",
       "      <td>7.6</td>\n",
       "      <td>0.50</td>\n",
       "      <td>168.0</td>\n",
       "      <td>1016.5</td>\n",
       "      <td>29.7</td>\n",
       "      <td>29.7</td>\n",
       "    </tr>\n",
       "    <tr>\n",
       "      <th>1994-08-18 00:00:00-05:00</th>\n",
       "      <td>325.0</td>\n",
       "      <td>0.7</td>\n",
       "      <td>1.3</td>\n",
       "      <td>0.60</td>\n",
       "      <td>128.0</td>\n",
       "      <td>1015.1</td>\n",
       "      <td>30.7</td>\n",
       "      <td>29.9</td>\n",
       "    </tr>\n",
       "    <tr>\n",
       "      <th>1994-08-18 06:00:00-05:00</th>\n",
       "      <td>132.0</td>\n",
       "      <td>7.1</td>\n",
       "      <td>8.8</td>\n",
       "      <td>0.80</td>\n",
       "      <td>73.0</td>\n",
       "      <td>1016.4</td>\n",
       "      <td>28.6</td>\n",
       "      <td>29.7</td>\n",
       "    </tr>\n",
       "    <tr>\n",
       "      <th>1994-08-18 12:00:00-05:00</th>\n",
       "      <td>180.0</td>\n",
       "      <td>6.0</td>\n",
       "      <td>7.1</td>\n",
       "      <td>1.10</td>\n",
       "      <td>153.0</td>\n",
       "      <td>1016.1</td>\n",
       "      <td>29.0</td>\n",
       "      <td>29.3</td>\n",
       "    </tr>\n",
       "    <tr>\n",
       "      <th>1995-02-01 06:00:00-05:00</th>\n",
       "      <td>159.0</td>\n",
       "      <td>4.6</td>\n",
       "      <td>6.1</td>\n",
       "      <td>0.40</td>\n",
       "      <td>17.0</td>\n",
       "      <td>1020.2</td>\n",
       "      <td>17.5</td>\n",
       "      <td>23.0</td>\n",
       "    </tr>\n",
       "    <tr>\n",
       "      <th>...</th>\n",
       "      <td>...</td>\n",
       "      <td>...</td>\n",
       "      <td>...</td>\n",
       "      <td>...</td>\n",
       "      <td>...</td>\n",
       "      <td>...</td>\n",
       "      <td>...</td>\n",
       "      <td>...</td>\n",
       "    </tr>\n",
       "    <tr>\n",
       "      <th>2022-10-20 00:40:00-05:00</th>\n",
       "      <td>8.0</td>\n",
       "      <td>6.4</td>\n",
       "      <td>9.9</td>\n",
       "      <td>1.51</td>\n",
       "      <td>18.0</td>\n",
       "      <td>1022.7</td>\n",
       "      <td>19.6</td>\n",
       "      <td>27.6</td>\n",
       "    </tr>\n",
       "    <tr>\n",
       "      <th>2022-10-20 06:40:00-05:00</th>\n",
       "      <td>9.0</td>\n",
       "      <td>4.0</td>\n",
       "      <td>6.6</td>\n",
       "      <td>1.07</td>\n",
       "      <td>56.0</td>\n",
       "      <td>1022.3</td>\n",
       "      <td>19.7</td>\n",
       "      <td>27.6</td>\n",
       "    </tr>\n",
       "    <tr>\n",
       "      <th>2022-10-20 12:40:00-05:00</th>\n",
       "      <td>11.0</td>\n",
       "      <td>3.9</td>\n",
       "      <td>6.2</td>\n",
       "      <td>0.93</td>\n",
       "      <td>63.0</td>\n",
       "      <td>1020.7</td>\n",
       "      <td>20.3</td>\n",
       "      <td>27.4</td>\n",
       "    </tr>\n",
       "    <tr>\n",
       "      <th>2022-10-20 18:40:00-05:00</th>\n",
       "      <td>37.0</td>\n",
       "      <td>4.1</td>\n",
       "      <td>6.9</td>\n",
       "      <td>0.69</td>\n",
       "      <td>63.0</td>\n",
       "      <td>1020.2</td>\n",
       "      <td>21.2</td>\n",
       "      <td>27.4</td>\n",
       "    </tr>\n",
       "    <tr>\n",
       "      <th>2022-10-21 00:40:00-05:00</th>\n",
       "      <td>66.0</td>\n",
       "      <td>4.4</td>\n",
       "      <td>5.7</td>\n",
       "      <td>0.47</td>\n",
       "      <td>62.0</td>\n",
       "      <td>1018.3</td>\n",
       "      <td>22.0</td>\n",
       "      <td>27.4</td>\n",
       "    </tr>\n",
       "  </tbody>\n",
       "</table>\n",
       "<p>28947 rows × 8 columns</p>\n",
       "</div>"
      ],
      "text/plain": [
       "                           wind dir (deg)  wind spd (m/s)  wind gst (m/s)   \n",
       "timestamp                                                                   \n",
       "1994-08-17 18:00:00-05:00           185.0             6.0             7.6  \\\n",
       "1994-08-18 00:00:00-05:00           325.0             0.7             1.3   \n",
       "1994-08-18 06:00:00-05:00           132.0             7.1             8.8   \n",
       "1994-08-18 12:00:00-05:00           180.0             6.0             7.1   \n",
       "1995-02-01 06:00:00-05:00           159.0             4.6             6.1   \n",
       "...                                   ...             ...             ...   \n",
       "2022-10-20 00:40:00-05:00             8.0             6.4             9.9   \n",
       "2022-10-20 06:40:00-05:00             9.0             4.0             6.6   \n",
       "2022-10-20 12:40:00-05:00            11.0             3.9             6.2   \n",
       "2022-10-20 18:40:00-05:00            37.0             4.1             6.9   \n",
       "2022-10-21 00:40:00-05:00            66.0             4.4             5.7   \n",
       "\n",
       "                           wave hgt (ft)  mean wave dir (deg)  air pres (ft)   \n",
       "timestamp                                                                      \n",
       "1994-08-17 18:00:00-05:00           0.50                168.0         1016.5  \\\n",
       "1994-08-18 00:00:00-05:00           0.60                128.0         1015.1   \n",
       "1994-08-18 06:00:00-05:00           0.80                 73.0         1016.4   \n",
       "1994-08-18 12:00:00-05:00           1.10                153.0         1016.1   \n",
       "1995-02-01 06:00:00-05:00           0.40                 17.0         1020.2   \n",
       "...                                  ...                  ...            ...   \n",
       "2022-10-20 00:40:00-05:00           1.51                 18.0         1022.7   \n",
       "2022-10-20 06:40:00-05:00           1.07                 56.0         1022.3   \n",
       "2022-10-20 12:40:00-05:00           0.93                 63.0         1020.7   \n",
       "2022-10-20 18:40:00-05:00           0.69                 63.0         1020.2   \n",
       "2022-10-21 00:40:00-05:00           0.47                 62.0         1018.3   \n",
       "\n",
       "                           air temp (deg fah)  water temp (deg fah)  \n",
       "timestamp                                                            \n",
       "1994-08-17 18:00:00-05:00                29.7                  29.7  \n",
       "1994-08-18 00:00:00-05:00                30.7                  29.9  \n",
       "1994-08-18 06:00:00-05:00                28.6                  29.7  \n",
       "1994-08-18 12:00:00-05:00                29.0                  29.3  \n",
       "1995-02-01 06:00:00-05:00                17.5                  23.0  \n",
       "...                                       ...                   ...  \n",
       "2022-10-20 00:40:00-05:00                19.6                  27.6  \n",
       "2022-10-20 06:40:00-05:00                19.7                  27.6  \n",
       "2022-10-20 12:40:00-05:00                20.3                  27.4  \n",
       "2022-10-20 18:40:00-05:00                21.2                  27.4  \n",
       "2022-10-21 00:40:00-05:00                22.0                  27.4  \n",
       "\n",
       "[28947 rows x 8 columns]"
      ]
     },
     "execution_count": 2286,
     "metadata": {},
     "output_type": "execute_result"
    }
   ],
   "source": [
    "df.rename(columns={'WDIR': 'wind dir (deg)', 'WSPD': 'wind spd (m/s)', 'GST': 'wind gst (m/s)', 'WVHT': 'wave hgt (ft)', 'MWD': 'mean wave dir (deg)', 'PRES': 'air pres (ft)', 'ATMP': 'air temp (deg fah)', 'WTMP': 'water temp (deg fah)'}, inplace=True)\n",
    "df = df.dropna()\n",
    "df"
   ]
  },
  {
   "cell_type": "markdown",
   "metadata": {},
   "source": [
    "### Now we can see how various environmental factors affect the water behavior"
   ]
  },
  {
   "cell_type": "markdown",
   "metadata": {},
   "source": [
    "### Let's start with a single variable prediction, then move onto multivariate predictions"
   ]
  },
  {
   "cell_type": "code",
   "execution_count": 2287,
   "metadata": {},
   "outputs": [],
   "source": [
    "#4 is equal to about a days worth of data - 4 six hour increments\n",
    "def prediction(df, window=4):\n",
    "    df_as_np = df.to_numpy()\n",
    "    X = []\n",
    "    y = []\n",
    "    for i in range (len(df_as_np) - window):\n",
    "        row = [[a] for a in df_as_np[i:i+window]]\n",
    "        X.append(row)\n",
    "        label = df_as_np[i+window]\n",
    "        y.append(label)\n",
    "    return np.array(X), np.array(y)\n"
   ]
  },
  {
   "cell_type": "code",
   "execution_count": 2288,
   "metadata": {},
   "outputs": [
    {
     "data": {
      "text/plain": [
       "((28943, 4, 1), (28943,))"
      ]
     },
     "execution_count": 2288,
     "metadata": {},
     "output_type": "execute_result"
    }
   ],
   "source": [
    "water_temp = df['water temp (deg fah)']\n",
    "WINDOW_SIZE = 4\n",
    "X1, y1 = prediction(water_temp, window=WINDOW_SIZE)\n",
    "X1.shape, y1.shape\n",
    "\n"
   ]
  },
  {
   "cell_type": "markdown",
   "metadata": {},
   "source": [
    "### Split the data into training, validation and test"
   ]
  },
  {
   "cell_type": "code",
   "execution_count": 2289,
   "metadata": {},
   "outputs": [],
   "source": [
    "X1_train, y1_train = X1[:int(0.7*len(X1))], y1[:int(0.7*len(y1))] #first 70 for train\n",
    "X1_val, y1_val = X1[int(0.7*len(X1)):int(0.9*len(X1))], y1[int(0.7*len(y1)):int(0.9*len(y1))] #70 to 90 for validation\n",
    "X1_test, y1_test = X1[int(0.9*len(X1)):], y1[int(0.9*len(y1)):] #last 10 for test"
   ]
  },
  {
   "cell_type": "code",
   "execution_count": 2290,
   "metadata": {},
   "outputs": [
    {
     "name": "stdout",
     "output_type": "stream",
     "text": [
      "Model: \"sequential_200\"\n",
      "_________________________________________________________________\n",
      " Layer (type)                Output Shape              Param #   \n",
      "=================================================================\n",
      " lstm_115 (LSTM)             (None, 64)                16896     \n",
      "                                                                 \n",
      " dense_398 (Dense)           (None, 8)                 520       \n",
      "                                                                 \n",
      " dense_399 (Dense)           (None, 1)                 9         \n",
      "                                                                 \n",
      "=================================================================\n",
      "Total params: 17425 (68.07 KB)\n",
      "Trainable params: 17425 (68.07 KB)\n",
      "Non-trainable params: 0 (0.00 Byte)\n",
      "_________________________________________________________________\n"
     ]
    }
   ],
   "source": [
    "model1 = Sequential()\n",
    "model1.add(InputLayer((4, 1)))\n",
    "model1.add(LSTM(64))\n",
    "model1.add(Dense(8, 'ReLU'))\n",
    "model1.add(Dense(1, 'linear'))\n",
    "model1.summary()"
   ]
  },
  {
   "cell_type": "code",
   "execution_count": 2291,
   "metadata": {},
   "outputs": [
    {
     "name": "stderr",
     "output_type": "stream",
     "text": [
      "WARNING:absl:At this time, the v2.11+ optimizer `tf.keras.optimizers.Adam` runs slowly on M1/M2 Macs, please use the legacy Keras optimizer instead, located at `tf.keras.optimizers.legacy.Adam`.\n",
      "WARNING:absl:There is a known slowdown when using v2.11+ Keras optimizers on M1/M2 Macs. Falling back to the legacy Keras optimizer, i.e., `tf.keras.optimizers.legacy.Adam`.\n"
     ]
    }
   ],
   "source": [
    "cp1 = ModelCheckpoint('model1/', SAVE_BEST_ONLY=True, verbose=0)\n",
    "model1.compile(loss=MeanSquaredError(), optimizer=Adam(learning_rate=0.0001), metrics=[RootMeanSquaredError()])"
   ]
  },
  {
   "cell_type": "code",
   "execution_count": 2292,
   "metadata": {},
   "outputs": [
    {
     "name": "stdout",
     "output_type": "stream",
     "text": [
      "Epoch 1/10\n",
      "624/634 [============================>.] - ETA: 0s - loss: 562.5323 - root_mean_squared_error: 23.7178INFO:tensorflow:Assets written to: model1/assets\n"
     ]
    },
    {
     "name": "stderr",
     "output_type": "stream",
     "text": [
      "INFO:tensorflow:Assets written to: model1/assets\n"
     ]
    },
    {
     "name": "stdout",
     "output_type": "stream",
     "text": [
      "634/634 [==============================] - 8s 4ms/step - loss: 559.5682 - root_mean_squared_error: 23.6552 - val_loss: 379.4693 - val_root_mean_squared_error: 19.4800\n",
      "Epoch 2/10\n",
      "629/634 [============================>.] - ETA: 0s - loss: 219.4101 - root_mean_squared_error: 14.8125INFO:tensorflow:Assets written to: model1/assets\n"
     ]
    },
    {
     "name": "stderr",
     "output_type": "stream",
     "text": [
      "INFO:tensorflow:Assets written to: model1/assets\n"
     ]
    },
    {
     "name": "stdout",
     "output_type": "stream",
     "text": [
      "634/634 [==============================] - 2s 3ms/step - loss: 218.8009 - root_mean_squared_error: 14.7919 - val_loss: 129.2874 - val_root_mean_squared_error: 11.3705\n",
      "Epoch 3/10\n",
      "632/634 [============================>.] - ETA: 0s - loss: 67.8253 - root_mean_squared_error: 8.2356INFO:tensorflow:Assets written to: model1/assets\n"
     ]
    },
    {
     "name": "stderr",
     "output_type": "stream",
     "text": [
      "INFO:tensorflow:Assets written to: model1/assets\n"
     ]
    },
    {
     "name": "stdout",
     "output_type": "stream",
     "text": [
      "634/634 [==============================] - 2s 3ms/step - loss: 67.7577 - root_mean_squared_error: 8.2315 - val_loss: 36.6603 - val_root_mean_squared_error: 6.0548\n",
      "Epoch 4/10\n",
      "606/634 [===========================>..] - ETA: 0s - loss: 18.1513 - root_mean_squared_error: 4.2604INFO:tensorflow:Assets written to: model1/assets\n"
     ]
    },
    {
     "name": "stderr",
     "output_type": "stream",
     "text": [
      "INFO:tensorflow:Assets written to: model1/assets\n"
     ]
    },
    {
     "name": "stdout",
     "output_type": "stream",
     "text": [
      "634/634 [==============================] - 2s 3ms/step - loss: 17.8289 - root_mean_squared_error: 4.2224 - val_loss: 12.6498 - val_root_mean_squared_error: 3.5567\n",
      "Epoch 5/10\n",
      "603/634 [===========================>..] - ETA: 0s - loss: 8.6627 - root_mean_squared_error: 2.9432INFO:tensorflow:Assets written to: model1/assets\n"
     ]
    },
    {
     "name": "stderr",
     "output_type": "stream",
     "text": [
      "INFO:tensorflow:Assets written to: model1/assets\n"
     ]
    },
    {
     "name": "stdout",
     "output_type": "stream",
     "text": [
      "634/634 [==============================] - 2s 3ms/step - loss: 8.6307 - root_mean_squared_error: 2.9378 - val_loss: 9.3544 - val_root_mean_squared_error: 3.0585\n",
      "Epoch 6/10\n",
      "602/634 [===========================>..] - ETA: 0s - loss: 7.9339 - root_mean_squared_error: 2.8167INFO:tensorflow:Assets written to: model1/assets\n"
     ]
    },
    {
     "name": "stderr",
     "output_type": "stream",
     "text": [
      "INFO:tensorflow:Assets written to: model1/assets\n"
     ]
    },
    {
     "name": "stdout",
     "output_type": "stream",
     "text": [
      "634/634 [==============================] - 2s 3ms/step - loss: 7.9243 - root_mean_squared_error: 2.8150 - val_loss: 9.0849 - val_root_mean_squared_error: 3.0141\n",
      "Epoch 7/10\n",
      "609/634 [===========================>..] - ETA: 0s - loss: 6.6142 - root_mean_squared_error: 2.5718INFO:tensorflow:Assets written to: model1/assets\n"
     ]
    },
    {
     "name": "stderr",
     "output_type": "stream",
     "text": [
      "INFO:tensorflow:Assets written to: model1/assets\n"
     ]
    },
    {
     "name": "stdout",
     "output_type": "stream",
     "text": [
      "634/634 [==============================] - 2s 4ms/step - loss: 6.5111 - root_mean_squared_error: 2.5517 - val_loss: 4.8070 - val_root_mean_squared_error: 2.1925\n",
      "Epoch 8/10\n",
      "608/634 [===========================>..] - ETA: 0s - loss: 2.7776 - root_mean_squared_error: 1.6666INFO:tensorflow:Assets written to: model1/assets\n"
     ]
    },
    {
     "name": "stderr",
     "output_type": "stream",
     "text": [
      "INFO:tensorflow:Assets written to: model1/assets\n"
     ]
    },
    {
     "name": "stdout",
     "output_type": "stream",
     "text": [
      "634/634 [==============================] - 2s 3ms/step - loss: 2.7453 - root_mean_squared_error: 1.6569 - val_loss: 2.3183 - val_root_mean_squared_error: 1.5226\n",
      "Epoch 9/10\n",
      "609/634 [===========================>..] - ETA: 0s - loss: 1.1694 - root_mean_squared_error: 1.0814INFO:tensorflow:Assets written to: model1/assets\n"
     ]
    },
    {
     "name": "stderr",
     "output_type": "stream",
     "text": [
      "INFO:tensorflow:Assets written to: model1/assets\n"
     ]
    },
    {
     "name": "stdout",
     "output_type": "stream",
     "text": [
      "634/634 [==============================] - 2s 3ms/step - loss: 1.1439 - root_mean_squared_error: 1.0695 - val_loss: 0.6756 - val_root_mean_squared_error: 0.8220\n",
      "Epoch 10/10\n",
      "619/634 [============================>.] - ETA: 0s - loss: 0.2804 - root_mean_squared_error: 0.5295INFO:tensorflow:Assets written to: model1/assets\n"
     ]
    },
    {
     "name": "stderr",
     "output_type": "stream",
     "text": [
      "INFO:tensorflow:Assets written to: model1/assets\n"
     ]
    },
    {
     "name": "stdout",
     "output_type": "stream",
     "text": [
      "634/634 [==============================] - 2s 3ms/step - loss: 0.2777 - root_mean_squared_error: 0.5269 - val_loss: 0.2383 - val_root_mean_squared_error: 0.4882\n"
     ]
    },
    {
     "data": {
      "text/plain": [
       "<keras.src.callbacks.History at 0x63162f690>"
      ]
     },
     "execution_count": 2292,
     "metadata": {},
     "output_type": "execute_result"
    }
   ],
   "source": [
    "model1.fit(X1_train, y1_train, epochs=10, validation_data=(X1_val, y1_val), callbacks=[cp1])"
   ]
  },
  {
   "cell_type": "code",
   "execution_count": 2293,
   "metadata": {},
   "outputs": [
    {
     "name": "stdout",
     "output_type": "stream",
     "text": [
      "634/634 [==============================] - 1s 499us/step\n"
     ]
    },
    {
     "data": {
      "text/html": [
       "<div>\n",
       "<style scoped>\n",
       "    .dataframe tbody tr th:only-of-type {\n",
       "        vertical-align: middle;\n",
       "    }\n",
       "\n",
       "    .dataframe tbody tr th {\n",
       "        vertical-align: top;\n",
       "    }\n",
       "\n",
       "    .dataframe thead th {\n",
       "        text-align: right;\n",
       "    }\n",
       "</style>\n",
       "<table border=\"1\" class=\"dataframe\">\n",
       "  <thead>\n",
       "    <tr style=\"text-align: right;\">\n",
       "      <th></th>\n",
       "      <th>Train Predictions</th>\n",
       "      <th>Actuals</th>\n",
       "    </tr>\n",
       "  </thead>\n",
       "  <tbody>\n",
       "    <tr>\n",
       "      <th>0</th>\n",
       "      <td>29.354998</td>\n",
       "      <td>23.0</td>\n",
       "    </tr>\n",
       "    <tr>\n",
       "      <th>1</th>\n",
       "      <td>25.754566</td>\n",
       "      <td>22.8</td>\n",
       "    </tr>\n",
       "    <tr>\n",
       "      <th>2</th>\n",
       "      <td>23.030870</td>\n",
       "      <td>23.0</td>\n",
       "    </tr>\n",
       "    <tr>\n",
       "      <th>3</th>\n",
       "      <td>22.895819</td>\n",
       "      <td>23.0</td>\n",
       "    </tr>\n",
       "    <tr>\n",
       "      <th>4</th>\n",
       "      <td>23.044243</td>\n",
       "      <td>23.0</td>\n",
       "    </tr>\n",
       "    <tr>\n",
       "      <th>...</th>\n",
       "      <td>...</td>\n",
       "      <td>...</td>\n",
       "    </tr>\n",
       "    <tr>\n",
       "      <th>20255</th>\n",
       "      <td>23.015028</td>\n",
       "      <td>23.1</td>\n",
       "    </tr>\n",
       "    <tr>\n",
       "      <th>20256</th>\n",
       "      <td>23.084026</td>\n",
       "      <td>23.1</td>\n",
       "    </tr>\n",
       "    <tr>\n",
       "      <th>20257</th>\n",
       "      <td>23.126003</td>\n",
       "      <td>23.0</td>\n",
       "    </tr>\n",
       "    <tr>\n",
       "      <th>20258</th>\n",
       "      <td>23.090387</td>\n",
       "      <td>23.0</td>\n",
       "    </tr>\n",
       "    <tr>\n",
       "      <th>20259</th>\n",
       "      <td>23.052042</td>\n",
       "      <td>22.9</td>\n",
       "    </tr>\n",
       "  </tbody>\n",
       "</table>\n",
       "<p>20260 rows × 2 columns</p>\n",
       "</div>"
      ],
      "text/plain": [
       "       Train Predictions  Actuals\n",
       "0              29.354998     23.0\n",
       "1              25.754566     22.8\n",
       "2              23.030870     23.0\n",
       "3              22.895819     23.0\n",
       "4              23.044243     23.0\n",
       "...                  ...      ...\n",
       "20255          23.015028     23.1\n",
       "20256          23.084026     23.1\n",
       "20257          23.126003     23.0\n",
       "20258          23.090387     23.0\n",
       "20259          23.052042     22.9\n",
       "\n",
       "[20260 rows x 2 columns]"
      ]
     },
     "execution_count": 2293,
     "metadata": {},
     "output_type": "execute_result"
    }
   ],
   "source": [
    "model1 = load_model('model1/')\n",
    "train_preds1 = model1.predict(X1_train).flatten()\n",
    "train_results1 = pd.DataFrame(data ={'Train Predictions': train_preds1, 'Actuals': y1_train})\n",
    "train_results1"
   ]
  },
  {
   "cell_type": "code",
   "execution_count": 2294,
   "metadata": {},
   "outputs": [
    {
     "data": {
      "text/plain": [
       "[<matplotlib.lines.Line2D at 0x5c4a24090>]"
      ]
     },
     "execution_count": 2294,
     "metadata": {},
     "output_type": "execute_result"
    },
    {
     "data": {
      "image/png": "[encoded data removed]",
      "text/plain": [
       "<Figure size 640x480 with 1 Axes>"
      ]
     },
     "metadata": {},
     "output_type": "display_data"
    }
   ],
   "source": [
    "plt.plot(train_results1['Train Predictions'][:100], color='blue', label='Predictions')\n",
    "plt.plot(train_results1['Actuals'][:100], color='red', label='Actuals')"
   ]
  },
  {
   "cell_type": "code",
   "execution_count": 2295,
   "metadata": {},
   "outputs": [
    {
     "name": "stdout",
     "output_type": "stream",
     "text": [
      "181/181 [==============================] - 0s 597us/step\n"
     ]
    },
    {
     "data": {
      "text/html": [
       "<div>\n",
       "<style scoped>\n",
       "    .dataframe tbody tr th:only-of-type {\n",
       "        vertical-align: middle;\n",
       "    }\n",
       "\n",
       "    .dataframe tbody tr th {\n",
       "        vertical-align: top;\n",
       "    }\n",
       "\n",
       "    .dataframe thead th {\n",
       "        text-align: right;\n",
       "    }\n",
       "</style>\n",
       "<table border=\"1\" class=\"dataframe\">\n",
       "  <thead>\n",
       "    <tr style=\"text-align: right;\">\n",
       "      <th></th>\n",
       "      <th>Validation Predictions</th>\n",
       "      <th>Actuals</th>\n",
       "    </tr>\n",
       "  </thead>\n",
       "  <tbody>\n",
       "    <tr>\n",
       "      <th>0</th>\n",
       "      <td>23.012943</td>\n",
       "      <td>22.9</td>\n",
       "    </tr>\n",
       "    <tr>\n",
       "      <th>1</th>\n",
       "      <td>22.979359</td>\n",
       "      <td>22.9</td>\n",
       "    </tr>\n",
       "    <tr>\n",
       "      <th>2</th>\n",
       "      <td>22.976137</td>\n",
       "      <td>22.9</td>\n",
       "    </tr>\n",
       "    <tr>\n",
       "      <th>3</th>\n",
       "      <td>22.978115</td>\n",
       "      <td>23.0</td>\n",
       "    </tr>\n",
       "    <tr>\n",
       "      <th>4</th>\n",
       "      <td>23.013786</td>\n",
       "      <td>23.0</td>\n",
       "    </tr>\n",
       "    <tr>\n",
       "      <th>...</th>\n",
       "      <td>...</td>\n",
       "      <td>...</td>\n",
       "    </tr>\n",
       "    <tr>\n",
       "      <th>5783</th>\n",
       "      <td>29.783438</td>\n",
       "      <td>30.6</td>\n",
       "    </tr>\n",
       "    <tr>\n",
       "      <th>5784</th>\n",
       "      <td>29.767591</td>\n",
       "      <td>30.6</td>\n",
       "    </tr>\n",
       "    <tr>\n",
       "      <th>5785</th>\n",
       "      <td>29.762999</td>\n",
       "      <td>30.8</td>\n",
       "    </tr>\n",
       "    <tr>\n",
       "      <th>5786</th>\n",
       "      <td>29.786711</td>\n",
       "      <td>30.6</td>\n",
       "    </tr>\n",
       "    <tr>\n",
       "      <th>5787</th>\n",
       "      <td>29.771517</td>\n",
       "      <td>30.6</td>\n",
       "    </tr>\n",
       "  </tbody>\n",
       "</table>\n",
       "<p>5788 rows × 2 columns</p>\n",
       "</div>"
      ],
      "text/plain": [
       "      Validation Predictions  Actuals\n",
       "0                  23.012943     22.9\n",
       "1                  22.979359     22.9\n",
       "2                  22.976137     22.9\n",
       "3                  22.978115     23.0\n",
       "4                  23.013786     23.0\n",
       "...                      ...      ...\n",
       "5783               29.783438     30.6\n",
       "5784               29.767591     30.6\n",
       "5785               29.762999     30.8\n",
       "5786               29.786711     30.6\n",
       "5787               29.771517     30.6\n",
       "\n",
       "[5788 rows x 2 columns]"
      ]
     },
     "execution_count": 2295,
     "metadata": {},
     "output_type": "execute_result"
    }
   ],
   "source": [
    "val_preds1 = model1.predict(X1_val).flatten()\n",
    "val_results1 = pd.DataFrame(data ={'Validation Predictions': val_preds1, 'Actuals': y1_val})\n",
    "val_results1"
   ]
  },
  {
   "cell_type": "code",
   "execution_count": 2296,
   "metadata": {},
   "outputs": [
    {
     "data": {
      "text/plain": [
       "[<matplotlib.lines.Line2D at 0x6429cbc90>]"
      ]
     },
     "execution_count": 2296,
     "metadata": {},
     "output_type": "execute_result"
    },
    {
     "data": {
      "image/png": "[encoded data removed]",
      "text/plain": [
       "<Figure size 640x480 with 1 Axes>"
      ]
     },
     "metadata": {},
     "output_type": "display_data"
    }
   ],
   "source": [
    "plt.plot(val_results1['Validation Predictions'][:25], color='blue')\n",
    "plt.plot(val_results1['Actuals'][:25], color='red')"
   ]
  },
  {
   "cell_type": "code",
   "execution_count": 2297,
   "metadata": {},
   "outputs": [
    {
     "name": "stdout",
     "output_type": "stream",
     "text": [
      "91/91 [==============================] - 0s 591us/step\n"
     ]
    },
    {
     "data": {
      "text/html": [
       "<div>\n",
       "<style scoped>\n",
       "    .dataframe tbody tr th:only-of-type {\n",
       "        vertical-align: middle;\n",
       "    }\n",
       "\n",
       "    .dataframe tbody tr th {\n",
       "        vertical-align: top;\n",
       "    }\n",
       "\n",
       "    .dataframe thead th {\n",
       "        text-align: right;\n",
       "    }\n",
       "</style>\n",
       "<table border=\"1\" class=\"dataframe\">\n",
       "  <thead>\n",
       "    <tr style=\"text-align: right;\">\n",
       "      <th></th>\n",
       "      <th>Test Predictions</th>\n",
       "      <th>Actuals</th>\n",
       "    </tr>\n",
       "  </thead>\n",
       "  <tbody>\n",
       "    <tr>\n",
       "      <th>0</th>\n",
       "      <td>29.763144</td>\n",
       "      <td>30.5</td>\n",
       "    </tr>\n",
       "    <tr>\n",
       "      <th>1</th>\n",
       "      <td>29.750298</td>\n",
       "      <td>30.4</td>\n",
       "    </tr>\n",
       "    <tr>\n",
       "      <th>2</th>\n",
       "      <td>29.732477</td>\n",
       "      <td>30.2</td>\n",
       "    </tr>\n",
       "    <tr>\n",
       "      <th>3</th>\n",
       "      <td>29.699568</td>\n",
       "      <td>30.3</td>\n",
       "    </tr>\n",
       "    <tr>\n",
       "      <th>4</th>\n",
       "      <td>29.702410</td>\n",
       "      <td>30.2</td>\n",
       "    </tr>\n",
       "    <tr>\n",
       "      <th>...</th>\n",
       "      <td>...</td>\n",
       "      <td>...</td>\n",
       "    </tr>\n",
       "    <tr>\n",
       "      <th>2890</th>\n",
       "      <td>28.037199</td>\n",
       "      <td>27.6</td>\n",
       "    </tr>\n",
       "    <tr>\n",
       "      <th>2891</th>\n",
       "      <td>27.931362</td>\n",
       "      <td>27.6</td>\n",
       "    </tr>\n",
       "    <tr>\n",
       "      <th>2892</th>\n",
       "      <td>27.890825</td>\n",
       "      <td>27.4</td>\n",
       "    </tr>\n",
       "    <tr>\n",
       "      <th>2893</th>\n",
       "      <td>27.761612</td>\n",
       "      <td>27.4</td>\n",
       "    </tr>\n",
       "    <tr>\n",
       "      <th>2894</th>\n",
       "      <td>27.676451</td>\n",
       "      <td>27.4</td>\n",
       "    </tr>\n",
       "  </tbody>\n",
       "</table>\n",
       "<p>2895 rows × 2 columns</p>\n",
       "</div>"
      ],
      "text/plain": [
       "      Test Predictions  Actuals\n",
       "0            29.763144     30.5\n",
       "1            29.750298     30.4\n",
       "2            29.732477     30.2\n",
       "3            29.699568     30.3\n",
       "4            29.702410     30.2\n",
       "...                ...      ...\n",
       "2890         28.037199     27.6\n",
       "2891         27.931362     27.6\n",
       "2892         27.890825     27.4\n",
       "2893         27.761612     27.4\n",
       "2894         27.676451     27.4\n",
       "\n",
       "[2895 rows x 2 columns]"
      ]
     },
     "execution_count": 2297,
     "metadata": {},
     "output_type": "execute_result"
    }
   ],
   "source": [
    "test_preds1 = model1.predict(X1_test).flatten()\n",
    "test_results1 = pd.DataFrame(data ={'Test Predictions': test_preds1, 'Actuals': y1_test})\n",
    "test_results1"
   ]
  },
  {
   "cell_type": "code",
   "execution_count": 2298,
   "metadata": {},
   "outputs": [
    {
     "data": {
      "text/plain": [
       "[<matplotlib.lines.Line2D at 0x61e85dc90>]"
      ]
     },
     "execution_count": 2298,
     "metadata": {},
     "output_type": "execute_result"
    },
    {
     "data": {
      "image/png": "[encoded data removed]",
      "text/plain": [
       "<Figure size 640x480 with 1 Axes>"
      ]
     },
     "metadata": {},
     "output_type": "display_data"
    }
   ],
   "source": [
    "plt.plot(test_results1['Test Predictions'][:100], color='blue')\n",
    "plt.plot(test_results1['Actuals'][:100], color='red')"
   ]
  },
  {
   "cell_type": "code",
   "execution_count": 2299,
   "metadata": {},
   "outputs": [],
   "source": [
    "def plot_predictions(model, X, y, start=0, end=100):\n",
    "    predictions = model.predict(X).flatten()\n",
    "    df = pd.DataFrame(data ={'Predictions': predictions, 'Actuals': y})\n",
    "    plt.plot(df['Predictions'][start:end], color='blue', label='Predictions')\n",
    "    plt.plot(df['Actuals'][start:end], color='red', label='Actuals')\n",
    "    plt.legend()\n",
    "    return df, mse(y, predictions)"
   ]
  },
  {
   "cell_type": "code",
   "execution_count": 2300,
   "metadata": {},
   "outputs": [
    {
     "name": "stdout",
     "output_type": "stream",
     "text": [
      " 1/91 [..............................] - ETA: 1s"
     ]
    },
    {
     "name": "stdout",
     "output_type": "stream",
     "text": [
      "91/91 [==============================] - 0s 833us/step\n"
     ]
    },
    {
     "data": {
      "text/plain": [
       "(      Predictions  Actuals\n",
       " 0       29.763144     30.5\n",
       " 1       29.750298     30.4\n",
       " 2       29.732477     30.2\n",
       " 3       29.699568     30.3\n",
       " 4       29.702410     30.2\n",
       " ...           ...      ...\n",
       " 2890    28.037199     27.6\n",
       " 2891    27.931362     27.6\n",
       " 2892    27.890825     27.4\n",
       " 2893    27.761612     27.4\n",
       " 2894    27.676451     27.4\n",
       " \n",
       " [2895 rows x 2 columns],\n",
       " 0.17088379892715594)"
      ]
     },
     "execution_count": 2300,
     "metadata": {},
     "output_type": "execute_result"
    },
    {
     "data": {
      "image/png": "[encoded data removed]",
      "text/plain": [
       "<Figure size 640x480 with 1 Axes>"
      ]
     },
     "metadata": {},
     "output_type": "display_data"
    }
   ],
   "source": [
    "plot_predictions(model1, X1_test, y1_test)"
   ]
  },
  {
   "cell_type": "code",
   "execution_count": 2301,
   "metadata": {},
   "outputs": [
    {
     "name": "stdout",
     "output_type": "stream",
     "text": [
      "Model: \"sequential_201\"\n",
      "_________________________________________________________________\n",
      " Layer (type)                Output Shape              Param #   \n",
      "=================================================================\n",
      " conv1d_55 (Conv1D)          (None, 3, 64)             192       \n",
      "                                                                 \n",
      " flatten_97 (Flatten)        (None, 192)               0         \n",
      "                                                                 \n",
      " dense_400 (Dense)           (None, 8)                 1544      \n",
      "                                                                 \n",
      " dense_401 (Dense)           (None, 1)                 9         \n",
      "                                                                 \n",
      "=================================================================\n",
      "Total params: 1745 (6.82 KB)\n",
      "Trainable params: 1745 (6.82 KB)\n",
      "Non-trainable params: 0 (0.00 Byte)\n",
      "_________________________________________________________________\n"
     ]
    }
   ],
   "source": [
    "model2 = Sequential()\n",
    "model2.add(InputLayer((4, 1)))\n",
    "model2.add(Conv1D(64, kernel_size=2, activation='relu'))\n",
    "model2.add(Flatten())\n",
    "model2.add(Dense(8, 'ReLU'))\n",
    "model2.add(Dense(1, 'linear'))\n",
    "model2.summary()"
   ]
  },
  {
   "cell_type": "code",
   "execution_count": 2302,
   "metadata": {},
   "outputs": [
    {
     "name": "stderr",
     "output_type": "stream",
     "text": [
      "WARNING:absl:At this time, the v2.11+ optimizer `tf.keras.optimizers.Adam` runs slowly on M1/M2 Macs, please use the legacy Keras optimizer instead, located at `tf.keras.optimizers.legacy.Adam`.\n",
      "WARNING:absl:There is a known slowdown when using v2.11+ Keras optimizers on M1/M2 Macs. Falling back to the legacy Keras optimizer, i.e., `tf.keras.optimizers.legacy.Adam`.\n"
     ]
    }
   ],
   "source": [
    "cp2 = ModelCheckpoint('model2/', SAVE_BEST_ONLY=True, verbose=0)\n",
    "model2.compile(loss=MeanSquaredError(), optimizer=Adam(learning_rate=0.0001), metrics=[RootMeanSquaredError()])"
   ]
  },
  {
   "cell_type": "code",
   "execution_count": 2303,
   "metadata": {},
   "outputs": [
    {
     "name": "stdout",
     "output_type": "stream",
     "text": [
      "Epoch 1/10\n",
      "617/634 [============================>.] - ETA: 0s - loss: 92.7286 - root_mean_squared_error: 9.6296  INFO:tensorflow:Assets written to: model2/assets\n"
     ]
    },
    {
     "name": "stderr",
     "output_type": "stream",
     "text": [
      "INFO:tensorflow:Assets written to: model2/assets\n"
     ]
    },
    {
     "name": "stdout",
     "output_type": "stream",
     "text": [
      "634/634 [==============================] - 1s 1ms/step - loss: 90.3697 - root_mean_squared_error: 9.5063 - val_loss: 0.0912 - val_root_mean_squared_error: 0.3020\n",
      "Epoch 2/10\n",
      "634/634 [==============================] - ETA: 0s - loss: 0.1164 - root_mean_squared_error: 0.3412INFO:tensorflow:Assets written to: model2/assets\n"
     ]
    },
    {
     "name": "stderr",
     "output_type": "stream",
     "text": [
      "INFO:tensorflow:Assets written to: model2/assets\n"
     ]
    },
    {
     "name": "stdout",
     "output_type": "stream",
     "text": [
      "634/634 [==============================] - 1s 801us/step - loss: 0.1164 - root_mean_squared_error: 0.3412 - val_loss: 0.0898 - val_root_mean_squared_error: 0.2997\n",
      "Epoch 3/10\n",
      "627/634 [============================>.] - ETA: 0s - loss: 0.1164 - root_mean_squared_error: 0.3412INFO:tensorflow:Assets written to: model2/assets\n"
     ]
    },
    {
     "name": "stderr",
     "output_type": "stream",
     "text": [
      "INFO:tensorflow:Assets written to: model2/assets\n"
     ]
    },
    {
     "name": "stdout",
     "output_type": "stream",
     "text": [
      "634/634 [==============================] - 1s 829us/step - loss: 0.1160 - root_mean_squared_error: 0.3406 - val_loss: 0.0899 - val_root_mean_squared_error: 0.2998\n",
      "Epoch 4/10\n",
      "631/634 [============================>.] - ETA: 0s - loss: 0.1157 - root_mean_squared_error: 0.3402INFO:tensorflow:Assets written to: model2/assets\n"
     ]
    },
    {
     "name": "stderr",
     "output_type": "stream",
     "text": [
      "INFO:tensorflow:Assets written to: model2/assets\n"
     ]
    },
    {
     "name": "stdout",
     "output_type": "stream",
     "text": [
      "634/634 [==============================] - 1s 906us/step - loss: 0.1158 - root_mean_squared_error: 0.3404 - val_loss: 0.0894 - val_root_mean_squared_error: 0.2991\n",
      "Epoch 5/10\n",
      "626/634 [============================>.] - ETA: 0s - loss: 0.1161 - root_mean_squared_error: 0.3407INFO:tensorflow:Assets written to: model2/assets\n"
     ]
    },
    {
     "name": "stderr",
     "output_type": "stream",
     "text": [
      "INFO:tensorflow:Assets written to: model2/assets\n"
     ]
    },
    {
     "name": "stdout",
     "output_type": "stream",
     "text": [
      "634/634 [==============================] - 1s 806us/step - loss: 0.1157 - root_mean_squared_error: 0.3402 - val_loss: 0.0893 - val_root_mean_squared_error: 0.2988\n",
      "Epoch 6/10\n",
      "509/634 [=======================>......] - ETA: 0s - loss: 0.1163 - root_mean_squared_error: 0.3411INFO:tensorflow:Assets written to: model2/assets\n"
     ]
    },
    {
     "name": "stderr",
     "output_type": "stream",
     "text": [
      "INFO:tensorflow:Assets written to: model2/assets\n"
     ]
    },
    {
     "name": "stdout",
     "output_type": "stream",
     "text": [
      "634/634 [==============================] - 1s 817us/step - loss: 0.1155 - root_mean_squared_error: 0.3398 - val_loss: 0.0898 - val_root_mean_squared_error: 0.2996\n",
      "Epoch 7/10\n",
      "629/634 [============================>.] - ETA: 0s - loss: 0.1153 - root_mean_squared_error: 0.3396INFO:tensorflow:Assets written to: model2/assets\n"
     ]
    },
    {
     "name": "stderr",
     "output_type": "stream",
     "text": [
      "INFO:tensorflow:Assets written to: model2/assets\n"
     ]
    },
    {
     "name": "stdout",
     "output_type": "stream",
     "text": [
      "634/634 [==============================] - 1s 802us/step - loss: 0.1152 - root_mean_squared_error: 0.3394 - val_loss: 0.0894 - val_root_mean_squared_error: 0.2990\n",
      "Epoch 8/10\n",
      "509/634 [=======================>......] - ETA: 0s - loss: 0.1131 - root_mean_squared_error: 0.3363INFO:tensorflow:Assets written to: model2/assets\n"
     ]
    },
    {
     "name": "stderr",
     "output_type": "stream",
     "text": [
      "INFO:tensorflow:Assets written to: model2/assets\n"
     ]
    },
    {
     "name": "stdout",
     "output_type": "stream",
     "text": [
      "634/634 [==============================] - 1s 797us/step - loss: 0.1148 - root_mean_squared_error: 0.3388 - val_loss: 0.0883 - val_root_mean_squared_error: 0.2972\n",
      "Epoch 9/10\n",
      "620/634 [============================>.] - ETA: 0s - loss: 0.1148 - root_mean_squared_error: 0.3388INFO:tensorflow:Assets written to: model2/assets\n"
     ]
    },
    {
     "name": "stderr",
     "output_type": "stream",
     "text": [
      "INFO:tensorflow:Assets written to: model2/assets\n"
     ]
    },
    {
     "name": "stdout",
     "output_type": "stream",
     "text": [
      "634/634 [==============================] - 1s 809us/step - loss: 0.1144 - root_mean_squared_error: 0.3383 - val_loss: 0.0880 - val_root_mean_squared_error: 0.2966\n",
      "Epoch 10/10\n",
      "633/634 [============================>.] - ETA: 0s - loss: 0.1141 - root_mean_squared_error: 0.3378INFO:tensorflow:Assets written to: model2/assets\n"
     ]
    },
    {
     "name": "stderr",
     "output_type": "stream",
     "text": [
      "INFO:tensorflow:Assets written to: model2/assets\n"
     ]
    },
    {
     "name": "stdout",
     "output_type": "stream",
     "text": [
      "634/634 [==============================] - 1s 805us/step - loss: 0.1141 - root_mean_squared_error: 0.3378 - val_loss: 0.0884 - val_root_mean_squared_error: 0.2973\n"
     ]
    },
    {
     "data": {
      "text/plain": [
       "<keras.src.callbacks.History at 0x6222f5c90>"
      ]
     },
     "execution_count": 2303,
     "metadata": {},
     "output_type": "execute_result"
    }
   ],
   "source": [
    "model2.fit(X1_train, y1_train, epochs=10, validation_data=(X1_val, y1_val), callbacks=[cp2])"
   ]
  },
  {
   "cell_type": "code",
   "execution_count": 2304,
   "metadata": {},
   "outputs": [
    {
     "name": "stdout",
     "output_type": "stream",
     "text": [
      "91/91 [==============================] - 0s 303us/step\n"
     ]
    },
    {
     "data": {
      "text/plain": [
       "(      Predictions  Actuals\n",
       " 0       30.609316     30.5\n",
       " 1       30.536919     30.4\n",
       " 2       30.457977     30.2\n",
       " 3       30.342358     30.3\n",
       " 4       30.291491     30.2\n",
       " ...           ...      ...\n",
       " 2890    27.817513     27.6\n",
       " 2891    27.713760     27.6\n",
       " 2892    27.631142     27.4\n",
       " 2893    27.515812     27.4\n",
       " 2894    27.468622     27.4\n",
       " \n",
       " [2895 rows x 2 columns],\n",
       " 0.058714504935338196)"
      ]
     },
     "execution_count": 2304,
     "metadata": {},
     "output_type": "execute_result"
    },
    {
     "data": {
      "image/png": "[encoded data removed]",
      "text/plain": [
       "<Figure size 640x480 with 1 Axes>"
      ]
     },
     "metadata": {},
     "output_type": "display_data"
    }
   ],
   "source": [
    "plot_predictions(model2, X1_test, y1_test)"
   ]
  },
  {
   "cell_type": "code",
   "execution_count": 2305,
   "metadata": {},
   "outputs": [
    {
     "name": "stdout",
     "output_type": "stream",
     "text": [
      "Model: \"sequential_202\"\n",
      "_________________________________________________________________\n",
      " Layer (type)                Output Shape              Param #   \n",
      "=================================================================\n",
      " gru_42 (GRU)                (None, 64)                12864     \n",
      "                                                                 \n",
      " flatten_98 (Flatten)        (None, 64)                0         \n",
      "                                                                 \n",
      " dense_402 (Dense)           (None, 8)                 520       \n",
      "                                                                 \n",
      " dense_403 (Dense)           (None, 1)                 9         \n",
      "                                                                 \n",
      "=================================================================\n",
      "Total params: 13393 (52.32 KB)\n",
      "Trainable params: 13393 (52.32 KB)\n",
      "Non-trainable params: 0 (0.00 Byte)\n",
      "_________________________________________________________________\n"
     ]
    }
   ],
   "source": [
    "model3 = Sequential()\n",
    "model3.add(InputLayer((4, 1)))\n",
    "model3.add(GRU(64))\n",
    "model3.add(Flatten())\n",
    "model3.add(Dense(8, 'ReLU'))\n",
    "model3.add(Dense(1, 'linear'))\n",
    "model3.summary()"
   ]
  },
  {
   "cell_type": "code",
   "execution_count": 2306,
   "metadata": {},
   "outputs": [
    {
     "name": "stderr",
     "output_type": "stream",
     "text": [
      "WARNING:absl:At this time, the v2.11+ optimizer `tf.keras.optimizers.Adam` runs slowly on M1/M2 Macs, please use the legacy Keras optimizer instead, located at `tf.keras.optimizers.legacy.Adam`.\n",
      "WARNING:absl:There is a known slowdown when using v2.11+ Keras optimizers on M1/M2 Macs. Falling back to the legacy Keras optimizer, i.e., `tf.keras.optimizers.legacy.Adam`.\n"
     ]
    },
    {
     "name": "stdout",
     "output_type": "stream",
     "text": [
      "Epoch 1/10\n",
      "630/634 [============================>.] - ETA: 0s - loss: 474.2042 - root_mean_squared_error: 21.7762INFO:tensorflow:Assets written to: model3/assets\n"
     ]
    },
    {
     "name": "stderr",
     "output_type": "stream",
     "text": [
      "INFO:tensorflow:Assets written to: model3/assets\n"
     ]
    },
    {
     "name": "stdout",
     "output_type": "stream",
     "text": [
      "634/634 [==============================] - 3s 4ms/step - loss: 473.3201 - root_mean_squared_error: 21.7559 - val_loss: 296.4897 - val_root_mean_squared_error: 17.2189\n",
      "Epoch 2/10\n",
      "627/634 [============================>.] - ETA: 0s - loss: 168.5917 - root_mean_squared_error: 12.9843INFO:tensorflow:Assets written to: model3/assets\n"
     ]
    },
    {
     "name": "stderr",
     "output_type": "stream",
     "text": [
      "INFO:tensorflow:Assets written to: model3/assets\n"
     ]
    },
    {
     "name": "stdout",
     "output_type": "stream",
     "text": [
      "634/634 [==============================] - 2s 3ms/step - loss: 167.8638 - root_mean_squared_error: 12.9562 - val_loss: 97.7479 - val_root_mean_squared_error: 9.8868\n",
      "Epoch 3/10\n",
      "629/634 [============================>.] - ETA: 0s - loss: 50.5864 - root_mean_squared_error: 7.1124INFO:tensorflow:Assets written to: model3/assets\n"
     ]
    },
    {
     "name": "stderr",
     "output_type": "stream",
     "text": [
      "INFO:tensorflow:Assets written to: model3/assets\n"
     ]
    },
    {
     "name": "stdout",
     "output_type": "stream",
     "text": [
      "634/634 [==============================] - 2s 3ms/step - loss: 50.4209 - root_mean_squared_error: 7.1008 - val_loss: 28.4720 - val_root_mean_squared_error: 5.3359\n",
      "Epoch 4/10\n",
      "624/634 [============================>.] - ETA: 0s - loss: 14.4499 - root_mean_squared_error: 3.8013INFO:tensorflow:Assets written to: model3/assets\n"
     ]
    },
    {
     "name": "stderr",
     "output_type": "stream",
     "text": [
      "INFO:tensorflow:Assets written to: model3/assets\n"
     ]
    },
    {
     "name": "stdout",
     "output_type": "stream",
     "text": [
      "634/634 [==============================] - 2s 3ms/step - loss: 14.3747 - root_mean_squared_error: 3.7914 - val_loss: 11.4068 - val_root_mean_squared_error: 3.3774\n",
      "Epoch 5/10\n",
      "630/634 [============================>.] - ETA: 0s - loss: 8.3517 - root_mean_squared_error: 2.8899INFO:tensorflow:Assets written to: model3/assets\n"
     ]
    },
    {
     "name": "stderr",
     "output_type": "stream",
     "text": [
      "INFO:tensorflow:Assets written to: model3/assets\n"
     ]
    },
    {
     "name": "stdout",
     "output_type": "stream",
     "text": [
      "634/634 [==============================] - 2s 3ms/step - loss: 8.3512 - root_mean_squared_error: 2.8898 - val_loss: 9.3157 - val_root_mean_squared_error: 3.0522\n",
      "Epoch 6/10\n",
      "629/634 [============================>.] - ETA: 0s - loss: 7.0226 - root_mean_squared_error: 2.6500INFO:tensorflow:Assets written to: model3/assets\n"
     ]
    },
    {
     "name": "stderr",
     "output_type": "stream",
     "text": [
      "INFO:tensorflow:Assets written to: model3/assets\n"
     ]
    },
    {
     "name": "stdout",
     "output_type": "stream",
     "text": [
      "634/634 [==============================] - 2s 3ms/step - loss: 7.0047 - root_mean_squared_error: 2.6466 - val_loss: 5.7733 - val_root_mean_squared_error: 2.4028\n",
      "Epoch 7/10\n",
      "601/634 [===========================>..] - ETA: 0s - loss: 2.1772 - root_mean_squared_error: 1.4755INFO:tensorflow:Assets written to: model3/assets\n"
     ]
    },
    {
     "name": "stderr",
     "output_type": "stream",
     "text": [
      "INFO:tensorflow:Assets written to: model3/assets\n"
     ]
    },
    {
     "name": "stdout",
     "output_type": "stream",
     "text": [
      "634/634 [==============================] - 2s 4ms/step - loss: 2.1064 - root_mean_squared_error: 1.4514 - val_loss: 1.1015 - val_root_mean_squared_error: 1.0495\n",
      "Epoch 8/10\n",
      "628/634 [============================>.] - ETA: 0s - loss: 0.4486 - root_mean_squared_error: 0.6698INFO:tensorflow:Assets written to: model3/assets\n"
     ]
    },
    {
     "name": "stderr",
     "output_type": "stream",
     "text": [
      "INFO:tensorflow:Assets written to: model3/assets\n"
     ]
    },
    {
     "name": "stdout",
     "output_type": "stream",
     "text": [
      "634/634 [==============================] - 2s 3ms/step - loss: 0.4471 - root_mean_squared_error: 0.6687 - val_loss: 0.3846 - val_root_mean_squared_error: 0.6201\n",
      "Epoch 9/10\n",
      "618/634 [============================>.] - ETA: 0s - loss: 0.2084 - root_mean_squared_error: 0.4565INFO:tensorflow:Assets written to: model3/assets\n"
     ]
    },
    {
     "name": "stderr",
     "output_type": "stream",
     "text": [
      "INFO:tensorflow:Assets written to: model3/assets\n"
     ]
    },
    {
     "name": "stdout",
     "output_type": "stream",
     "text": [
      "634/634 [==============================] - 2s 3ms/step - loss: 0.2075 - root_mean_squared_error: 0.4556 - val_loss: 0.2114 - val_root_mean_squared_error: 0.4598\n",
      "Epoch 10/10\n",
      "632/634 [============================>.] - ETA: 0s - loss: 0.1576 - root_mean_squared_error: 0.3970INFO:tensorflow:Assets written to: model3/assets\n"
     ]
    },
    {
     "name": "stderr",
     "output_type": "stream",
     "text": [
      "INFO:tensorflow:Assets written to: model3/assets\n"
     ]
    },
    {
     "name": "stdout",
     "output_type": "stream",
     "text": [
      "634/634 [==============================] - 2s 3ms/step - loss: 0.1576 - root_mean_squared_error: 0.3970 - val_loss: 0.1624 - val_root_mean_squared_error: 0.4030\n"
     ]
    },
    {
     "data": {
      "text/plain": [
       "<keras.src.callbacks.History at 0x65f152b50>"
      ]
     },
     "execution_count": 2306,
     "metadata": {},
     "output_type": "execute_result"
    }
   ],
   "source": [
    "cp3 = ModelCheckpoint('model3/', SAVE_BEST_ONLY=True, verbose=0)\n",
    "model3.compile(loss=MeanSquaredError(), optimizer=Adam(learning_rate=0.0001), metrics=[RootMeanSquaredError()])\n",
    "model3.fit(X1_train, y1_train, epochs=10, validation_data=(X1_val, y1_val), callbacks=[cp3])"
   ]
  },
  {
   "cell_type": "code",
   "execution_count": 2307,
   "metadata": {},
   "outputs": [
    {
     "name": "stdout",
     "output_type": "stream",
     "text": [
      "91/91 [==============================] - 0s 522us/step\n"
     ]
    },
    {
     "data": {
      "text/plain": [
       "(      Predictions  Actuals\n",
       " 0       29.981674     30.5\n",
       " 1       29.959755     30.4\n",
       " 2       29.935062     30.2\n",
       " 3       29.881689     30.3\n",
       " 4       29.902048     30.2\n",
       " ...           ...      ...\n",
       " 2890    27.895926     27.6\n",
       " 2891    27.794682     27.6\n",
       " 2892    27.769932     27.4\n",
       " 2893    27.615816     27.4\n",
       " 2894    27.569263     27.4\n",
       " \n",
       " [2895 rows x 2 columns],\n",
       " 0.11199974295956207)"
      ]
     },
     "execution_count": 2307,
     "metadata": {},
     "output_type": "execute_result"
    },
    {
     "data": {
      "image/png": "[encoded data removed]",
      "text/plain": [
       "<Figure size 640x480 with 1 Axes>"
      ]
     },
     "metadata": {},
     "output_type": "display_data"
    }
   ],
   "source": [
    "plot_predictions(model3, X1_test, y1_test)"
   ]
  },
  {
   "cell_type": "markdown",
   "metadata": {},
   "source": [
    "### Conv1D > GRU > LSTM - because of parameter size"
   ]
  },
  {
   "cell_type": "markdown",
   "metadata": {},
   "source": [
    "# Multivariate Section"
   ]
  },
  {
   "cell_type": "markdown",
   "metadata": {},
   "source": [
    "### Need to see df without scrolling up"
   ]
  },
  {
   "cell_type": "code",
   "execution_count": 2308,
   "metadata": {},
   "outputs": [
    {
     "data": {
      "text/html": [
       "<div>\n",
       "<style scoped>\n",
       "    .dataframe tbody tr th:only-of-type {\n",
       "        vertical-align: middle;\n",
       "    }\n",
       "\n",
       "    .dataframe tbody tr th {\n",
       "        vertical-align: top;\n",
       "    }\n",
       "\n",
       "    .dataframe thead th {\n",
       "        text-align: right;\n",
       "    }\n",
       "</style>\n",
       "<table border=\"1\" class=\"dataframe\">\n",
       "  <thead>\n",
       "    <tr style=\"text-align: right;\">\n",
       "      <th></th>\n",
       "      <th>wind dir (deg)</th>\n",
       "      <th>wind spd (m/s)</th>\n",
       "      <th>wind gst (m/s)</th>\n",
       "      <th>wave hgt (ft)</th>\n",
       "      <th>mean wave dir (deg)</th>\n",
       "      <th>air pres (ft)</th>\n",
       "      <th>air temp (deg fah)</th>\n",
       "      <th>water temp (deg fah)</th>\n",
       "    </tr>\n",
       "    <tr>\n",
       "      <th>timestamp</th>\n",
       "      <th></th>\n",
       "      <th></th>\n",
       "      <th></th>\n",
       "      <th></th>\n",
       "      <th></th>\n",
       "      <th></th>\n",
       "      <th></th>\n",
       "      <th></th>\n",
       "    </tr>\n",
       "  </thead>\n",
       "  <tbody>\n",
       "    <tr>\n",
       "      <th>1994-08-17 18:00:00-05:00</th>\n",
       "      <td>185.0</td>\n",
       "      <td>6.0</td>\n",
       "      <td>7.6</td>\n",
       "      <td>0.50</td>\n",
       "      <td>168.0</td>\n",
       "      <td>1016.5</td>\n",
       "      <td>29.7</td>\n",
       "      <td>29.7</td>\n",
       "    </tr>\n",
       "    <tr>\n",
       "      <th>1994-08-18 00:00:00-05:00</th>\n",
       "      <td>325.0</td>\n",
       "      <td>0.7</td>\n",
       "      <td>1.3</td>\n",
       "      <td>0.60</td>\n",
       "      <td>128.0</td>\n",
       "      <td>1015.1</td>\n",
       "      <td>30.7</td>\n",
       "      <td>29.9</td>\n",
       "    </tr>\n",
       "    <tr>\n",
       "      <th>1994-08-18 06:00:00-05:00</th>\n",
       "      <td>132.0</td>\n",
       "      <td>7.1</td>\n",
       "      <td>8.8</td>\n",
       "      <td>0.80</td>\n",
       "      <td>73.0</td>\n",
       "      <td>1016.4</td>\n",
       "      <td>28.6</td>\n",
       "      <td>29.7</td>\n",
       "    </tr>\n",
       "    <tr>\n",
       "      <th>1994-08-18 12:00:00-05:00</th>\n",
       "      <td>180.0</td>\n",
       "      <td>6.0</td>\n",
       "      <td>7.1</td>\n",
       "      <td>1.10</td>\n",
       "      <td>153.0</td>\n",
       "      <td>1016.1</td>\n",
       "      <td>29.0</td>\n",
       "      <td>29.3</td>\n",
       "    </tr>\n",
       "    <tr>\n",
       "      <th>1995-02-01 06:00:00-05:00</th>\n",
       "      <td>159.0</td>\n",
       "      <td>4.6</td>\n",
       "      <td>6.1</td>\n",
       "      <td>0.40</td>\n",
       "      <td>17.0</td>\n",
       "      <td>1020.2</td>\n",
       "      <td>17.5</td>\n",
       "      <td>23.0</td>\n",
       "    </tr>\n",
       "    <tr>\n",
       "      <th>...</th>\n",
       "      <td>...</td>\n",
       "      <td>...</td>\n",
       "      <td>...</td>\n",
       "      <td>...</td>\n",
       "      <td>...</td>\n",
       "      <td>...</td>\n",
       "      <td>...</td>\n",
       "      <td>...</td>\n",
       "    </tr>\n",
       "    <tr>\n",
       "      <th>2022-10-20 00:40:00-05:00</th>\n",
       "      <td>8.0</td>\n",
       "      <td>6.4</td>\n",
       "      <td>9.9</td>\n",
       "      <td>1.51</td>\n",
       "      <td>18.0</td>\n",
       "      <td>1022.7</td>\n",
       "      <td>19.6</td>\n",
       "      <td>27.6</td>\n",
       "    </tr>\n",
       "    <tr>\n",
       "      <th>2022-10-20 06:40:00-05:00</th>\n",
       "      <td>9.0</td>\n",
       "      <td>4.0</td>\n",
       "      <td>6.6</td>\n",
       "      <td>1.07</td>\n",
       "      <td>56.0</td>\n",
       "      <td>1022.3</td>\n",
       "      <td>19.7</td>\n",
       "      <td>27.6</td>\n",
       "    </tr>\n",
       "    <tr>\n",
       "      <th>2022-10-20 12:40:00-05:00</th>\n",
       "      <td>11.0</td>\n",
       "      <td>3.9</td>\n",
       "      <td>6.2</td>\n",
       "      <td>0.93</td>\n",
       "      <td>63.0</td>\n",
       "      <td>1020.7</td>\n",
       "      <td>20.3</td>\n",
       "      <td>27.4</td>\n",
       "    </tr>\n",
       "    <tr>\n",
       "      <th>2022-10-20 18:40:00-05:00</th>\n",
       "      <td>37.0</td>\n",
       "      <td>4.1</td>\n",
       "      <td>6.9</td>\n",
       "      <td>0.69</td>\n",
       "      <td>63.0</td>\n",
       "      <td>1020.2</td>\n",
       "      <td>21.2</td>\n",
       "      <td>27.4</td>\n",
       "    </tr>\n",
       "    <tr>\n",
       "      <th>2022-10-21 00:40:00-05:00</th>\n",
       "      <td>66.0</td>\n",
       "      <td>4.4</td>\n",
       "      <td>5.7</td>\n",
       "      <td>0.47</td>\n",
       "      <td>62.0</td>\n",
       "      <td>1018.3</td>\n",
       "      <td>22.0</td>\n",
       "      <td>27.4</td>\n",
       "    </tr>\n",
       "  </tbody>\n",
       "</table>\n",
       "<p>28947 rows × 8 columns</p>\n",
       "</div>"
      ],
      "text/plain": [
       "                           wind dir (deg)  wind spd (m/s)  wind gst (m/s)   \n",
       "timestamp                                                                   \n",
       "1994-08-17 18:00:00-05:00           185.0             6.0             7.6  \\\n",
       "1994-08-18 00:00:00-05:00           325.0             0.7             1.3   \n",
       "1994-08-18 06:00:00-05:00           132.0             7.1             8.8   \n",
       "1994-08-18 12:00:00-05:00           180.0             6.0             7.1   \n",
       "1995-02-01 06:00:00-05:00           159.0             4.6             6.1   \n",
       "...                                   ...             ...             ...   \n",
       "2022-10-20 00:40:00-05:00             8.0             6.4             9.9   \n",
       "2022-10-20 06:40:00-05:00             9.0             4.0             6.6   \n",
       "2022-10-20 12:40:00-05:00            11.0             3.9             6.2   \n",
       "2022-10-20 18:40:00-05:00            37.0             4.1             6.9   \n",
       "2022-10-21 00:40:00-05:00            66.0             4.4             5.7   \n",
       "\n",
       "                           wave hgt (ft)  mean wave dir (deg)  air pres (ft)   \n",
       "timestamp                                                                      \n",
       "1994-08-17 18:00:00-05:00           0.50                168.0         1016.5  \\\n",
       "1994-08-18 00:00:00-05:00           0.60                128.0         1015.1   \n",
       "1994-08-18 06:00:00-05:00           0.80                 73.0         1016.4   \n",
       "1994-08-18 12:00:00-05:00           1.10                153.0         1016.1   \n",
       "1995-02-01 06:00:00-05:00           0.40                 17.0         1020.2   \n",
       "...                                  ...                  ...            ...   \n",
       "2022-10-20 00:40:00-05:00           1.51                 18.0         1022.7   \n",
       "2022-10-20 06:40:00-05:00           1.07                 56.0         1022.3   \n",
       "2022-10-20 12:40:00-05:00           0.93                 63.0         1020.7   \n",
       "2022-10-20 18:40:00-05:00           0.69                 63.0         1020.2   \n",
       "2022-10-21 00:40:00-05:00           0.47                 62.0         1018.3   \n",
       "\n",
       "                           air temp (deg fah)  water temp (deg fah)  \n",
       "timestamp                                                            \n",
       "1994-08-17 18:00:00-05:00                29.7                  29.7  \n",
       "1994-08-18 00:00:00-05:00                30.7                  29.9  \n",
       "1994-08-18 06:00:00-05:00                28.6                  29.7  \n",
       "1994-08-18 12:00:00-05:00                29.0                  29.3  \n",
       "1995-02-01 06:00:00-05:00                17.5                  23.0  \n",
       "...                                       ...                   ...  \n",
       "2022-10-20 00:40:00-05:00                19.6                  27.6  \n",
       "2022-10-20 06:40:00-05:00                19.7                  27.6  \n",
       "2022-10-20 12:40:00-05:00                20.3                  27.4  \n",
       "2022-10-20 18:40:00-05:00                21.2                  27.4  \n",
       "2022-10-21 00:40:00-05:00                22.0                  27.4  \n",
       "\n",
       "[28947 rows x 8 columns]"
      ]
     },
     "execution_count": 2308,
     "metadata": {},
     "output_type": "execute_result"
    }
   ],
   "source": [
    "df"
   ]
  },
  {
   "cell_type": "markdown",
   "metadata": {},
   "source": [
    "### We should make the timestamp column relative in a unit of time. We need this to make sin and cos curves"
   ]
  },
  {
   "cell_type": "code",
   "execution_count": 2309,
   "metadata": {},
   "outputs": [
    {
     "data": {
      "text/html": [
       "<div>\n",
       "<style scoped>\n",
       "    .dataframe tbody tr th:only-of-type {\n",
       "        vertical-align: middle;\n",
       "    }\n",
       "\n",
       "    .dataframe tbody tr th {\n",
       "        vertical-align: top;\n",
       "    }\n",
       "\n",
       "    .dataframe thead th {\n",
       "        text-align: right;\n",
       "    }\n",
       "</style>\n",
       "<table border=\"1\" class=\"dataframe\">\n",
       "  <thead>\n",
       "    <tr style=\"text-align: right;\">\n",
       "      <th></th>\n",
       "      <th>wind dir (deg)</th>\n",
       "      <th>wind spd (m/s)</th>\n",
       "      <th>wind gst (m/s)</th>\n",
       "      <th>wave hgt (ft)</th>\n",
       "      <th>mean wave dir (deg)</th>\n",
       "      <th>air pres (ft)</th>\n",
       "      <th>air temp (deg fah)</th>\n",
       "      <th>water temp (deg fah)</th>\n",
       "      <th>minutes</th>\n",
       "    </tr>\n",
       "    <tr>\n",
       "      <th>timestamp</th>\n",
       "      <th></th>\n",
       "      <th></th>\n",
       "      <th></th>\n",
       "      <th></th>\n",
       "      <th></th>\n",
       "      <th></th>\n",
       "      <th></th>\n",
       "      <th></th>\n",
       "      <th></th>\n",
       "    </tr>\n",
       "  </thead>\n",
       "  <tbody>\n",
       "    <tr>\n",
       "      <th>1994-08-17 18:00:00-05:00</th>\n",
       "      <td>185.0</td>\n",
       "      <td>6.0</td>\n",
       "      <td>7.6</td>\n",
       "      <td>0.50</td>\n",
       "      <td>168.0</td>\n",
       "      <td>1016.5</td>\n",
       "      <td>29.7</td>\n",
       "      <td>29.7</td>\n",
       "      <td>12952740.0</td>\n",
       "    </tr>\n",
       "    <tr>\n",
       "      <th>1994-08-18 00:00:00-05:00</th>\n",
       "      <td>325.0</td>\n",
       "      <td>0.7</td>\n",
       "      <td>1.3</td>\n",
       "      <td>0.60</td>\n",
       "      <td>128.0</td>\n",
       "      <td>1015.1</td>\n",
       "      <td>30.7</td>\n",
       "      <td>29.9</td>\n",
       "      <td>12953100.0</td>\n",
       "    </tr>\n",
       "    <tr>\n",
       "      <th>1994-08-18 06:00:00-05:00</th>\n",
       "      <td>132.0</td>\n",
       "      <td>7.1</td>\n",
       "      <td>8.8</td>\n",
       "      <td>0.80</td>\n",
       "      <td>73.0</td>\n",
       "      <td>1016.4</td>\n",
       "      <td>28.6</td>\n",
       "      <td>29.7</td>\n",
       "      <td>12953460.0</td>\n",
       "    </tr>\n",
       "    <tr>\n",
       "      <th>1994-08-18 12:00:00-05:00</th>\n",
       "      <td>180.0</td>\n",
       "      <td>6.0</td>\n",
       "      <td>7.1</td>\n",
       "      <td>1.10</td>\n",
       "      <td>153.0</td>\n",
       "      <td>1016.1</td>\n",
       "      <td>29.0</td>\n",
       "      <td>29.3</td>\n",
       "      <td>12953820.0</td>\n",
       "    </tr>\n",
       "    <tr>\n",
       "      <th>1995-02-01 06:00:00-05:00</th>\n",
       "      <td>159.0</td>\n",
       "      <td>4.6</td>\n",
       "      <td>6.1</td>\n",
       "      <td>0.40</td>\n",
       "      <td>17.0</td>\n",
       "      <td>1020.2</td>\n",
       "      <td>17.5</td>\n",
       "      <td>23.0</td>\n",
       "      <td>13193940.0</td>\n",
       "    </tr>\n",
       "    <tr>\n",
       "      <th>...</th>\n",
       "      <td>...</td>\n",
       "      <td>...</td>\n",
       "      <td>...</td>\n",
       "      <td>...</td>\n",
       "      <td>...</td>\n",
       "      <td>...</td>\n",
       "      <td>...</td>\n",
       "      <td>...</td>\n",
       "      <td>...</td>\n",
       "    </tr>\n",
       "    <tr>\n",
       "      <th>2022-10-20 00:40:00-05:00</th>\n",
       "      <td>8.0</td>\n",
       "      <td>6.4</td>\n",
       "      <td>9.9</td>\n",
       "      <td>1.51</td>\n",
       "      <td>18.0</td>\n",
       "      <td>1022.7</td>\n",
       "      <td>19.6</td>\n",
       "      <td>27.6</td>\n",
       "      <td>27770740.0</td>\n",
       "    </tr>\n",
       "    <tr>\n",
       "      <th>2022-10-20 06:40:00-05:00</th>\n",
       "      <td>9.0</td>\n",
       "      <td>4.0</td>\n",
       "      <td>6.6</td>\n",
       "      <td>1.07</td>\n",
       "      <td>56.0</td>\n",
       "      <td>1022.3</td>\n",
       "      <td>19.7</td>\n",
       "      <td>27.6</td>\n",
       "      <td>27771100.0</td>\n",
       "    </tr>\n",
       "    <tr>\n",
       "      <th>2022-10-20 12:40:00-05:00</th>\n",
       "      <td>11.0</td>\n",
       "      <td>3.9</td>\n",
       "      <td>6.2</td>\n",
       "      <td>0.93</td>\n",
       "      <td>63.0</td>\n",
       "      <td>1020.7</td>\n",
       "      <td>20.3</td>\n",
       "      <td>27.4</td>\n",
       "      <td>27771460.0</td>\n",
       "    </tr>\n",
       "    <tr>\n",
       "      <th>2022-10-20 18:40:00-05:00</th>\n",
       "      <td>37.0</td>\n",
       "      <td>4.1</td>\n",
       "      <td>6.9</td>\n",
       "      <td>0.69</td>\n",
       "      <td>63.0</td>\n",
       "      <td>1020.2</td>\n",
       "      <td>21.2</td>\n",
       "      <td>27.4</td>\n",
       "      <td>27771820.0</td>\n",
       "    </tr>\n",
       "    <tr>\n",
       "      <th>2022-10-21 00:40:00-05:00</th>\n",
       "      <td>66.0</td>\n",
       "      <td>4.4</td>\n",
       "      <td>5.7</td>\n",
       "      <td>0.47</td>\n",
       "      <td>62.0</td>\n",
       "      <td>1018.3</td>\n",
       "      <td>22.0</td>\n",
       "      <td>27.4</td>\n",
       "      <td>27772180.0</td>\n",
       "    </tr>\n",
       "  </tbody>\n",
       "</table>\n",
       "<p>28947 rows × 9 columns</p>\n",
       "</div>"
      ],
      "text/plain": [
       "                           wind dir (deg)  wind spd (m/s)  wind gst (m/s)   \n",
       "timestamp                                                                   \n",
       "1994-08-17 18:00:00-05:00           185.0             6.0             7.6  \\\n",
       "1994-08-18 00:00:00-05:00           325.0             0.7             1.3   \n",
       "1994-08-18 06:00:00-05:00           132.0             7.1             8.8   \n",
       "1994-08-18 12:00:00-05:00           180.0             6.0             7.1   \n",
       "1995-02-01 06:00:00-05:00           159.0             4.6             6.1   \n",
       "...                                   ...             ...             ...   \n",
       "2022-10-20 00:40:00-05:00             8.0             6.4             9.9   \n",
       "2022-10-20 06:40:00-05:00             9.0             4.0             6.6   \n",
       "2022-10-20 12:40:00-05:00            11.0             3.9             6.2   \n",
       "2022-10-20 18:40:00-05:00            37.0             4.1             6.9   \n",
       "2022-10-21 00:40:00-05:00            66.0             4.4             5.7   \n",
       "\n",
       "                           wave hgt (ft)  mean wave dir (deg)  air pres (ft)   \n",
       "timestamp                                                                      \n",
       "1994-08-17 18:00:00-05:00           0.50                168.0         1016.5  \\\n",
       "1994-08-18 00:00:00-05:00           0.60                128.0         1015.1   \n",
       "1994-08-18 06:00:00-05:00           0.80                 73.0         1016.4   \n",
       "1994-08-18 12:00:00-05:00           1.10                153.0         1016.1   \n",
       "1995-02-01 06:00:00-05:00           0.40                 17.0         1020.2   \n",
       "...                                  ...                  ...            ...   \n",
       "2022-10-20 00:40:00-05:00           1.51                 18.0         1022.7   \n",
       "2022-10-20 06:40:00-05:00           1.07                 56.0         1022.3   \n",
       "2022-10-20 12:40:00-05:00           0.93                 63.0         1020.7   \n",
       "2022-10-20 18:40:00-05:00           0.69                 63.0         1020.2   \n",
       "2022-10-21 00:40:00-05:00           0.47                 62.0         1018.3   \n",
       "\n",
       "                           air temp (deg fah)  water temp (deg fah)   \n",
       "timestamp                                                             \n",
       "1994-08-17 18:00:00-05:00                29.7                  29.7  \\\n",
       "1994-08-18 00:00:00-05:00                30.7                  29.9   \n",
       "1994-08-18 06:00:00-05:00                28.6                  29.7   \n",
       "1994-08-18 12:00:00-05:00                29.0                  29.3   \n",
       "1995-02-01 06:00:00-05:00                17.5                  23.0   \n",
       "...                                       ...                   ...   \n",
       "2022-10-20 00:40:00-05:00                19.6                  27.6   \n",
       "2022-10-20 06:40:00-05:00                19.7                  27.6   \n",
       "2022-10-20 12:40:00-05:00                20.3                  27.4   \n",
       "2022-10-20 18:40:00-05:00                21.2                  27.4   \n",
       "2022-10-21 00:40:00-05:00                22.0                  27.4   \n",
       "\n",
       "                              minutes  \n",
       "timestamp                              \n",
       "1994-08-17 18:00:00-05:00  12952740.0  \n",
       "1994-08-18 00:00:00-05:00  12953100.0  \n",
       "1994-08-18 06:00:00-05:00  12953460.0  \n",
       "1994-08-18 12:00:00-05:00  12953820.0  \n",
       "1995-02-01 06:00:00-05:00  13193940.0  \n",
       "...                               ...  \n",
       "2022-10-20 00:40:00-05:00  27770740.0  \n",
       "2022-10-20 06:40:00-05:00  27771100.0  \n",
       "2022-10-20 12:40:00-05:00  27771460.0  \n",
       "2022-10-20 18:40:00-05:00  27771820.0  \n",
       "2022-10-21 00:40:00-05:00  27772180.0  \n",
       "\n",
       "[28947 rows x 9 columns]"
      ]
     },
     "execution_count": 2309,
     "metadata": {},
     "output_type": "execute_result"
    }
   ],
   "source": [
    "def get_relative_minutes(df):\n",
    "    min_df = df.copy()\n",
    "    min_df['minutes'] = min_df.index.map(lambda x: x.timestamp() / 60)\n",
    "    return min_df\n",
    "df = get_relative_minutes(df)\n",
    "df"
   ]
  },
  {
   "cell_type": "code",
   "execution_count": 2310,
   "metadata": {},
   "outputs": [
    {
     "data": {
      "text/html": [
       "<div>\n",
       "<style scoped>\n",
       "    .dataframe tbody tr th:only-of-type {\n",
       "        vertical-align: middle;\n",
       "    }\n",
       "\n",
       "    .dataframe tbody tr th {\n",
       "        vertical-align: top;\n",
       "    }\n",
       "\n",
       "    .dataframe thead th {\n",
       "        text-align: right;\n",
       "    }\n",
       "</style>\n",
       "<table border=\"1\" class=\"dataframe\">\n",
       "  <thead>\n",
       "    <tr style=\"text-align: right;\">\n",
       "      <th></th>\n",
       "      <th>wind dir (deg)</th>\n",
       "      <th>wind spd (m/s)</th>\n",
       "      <th>wind gst (m/s)</th>\n",
       "      <th>wave hgt (ft)</th>\n",
       "      <th>mean wave dir (deg)</th>\n",
       "      <th>air pres (ft)</th>\n",
       "      <th>air temp (deg fah)</th>\n",
       "      <th>water temp (deg fah)</th>\n",
       "      <th>minutes</th>\n",
       "      <th>Day sin</th>\n",
       "      <th>Day cos</th>\n",
       "      <th>Year sin</th>\n",
       "      <th>Year cos</th>\n",
       "    </tr>\n",
       "    <tr>\n",
       "      <th>timestamp</th>\n",
       "      <th></th>\n",
       "      <th></th>\n",
       "      <th></th>\n",
       "      <th></th>\n",
       "      <th></th>\n",
       "      <th></th>\n",
       "      <th></th>\n",
       "      <th></th>\n",
       "      <th></th>\n",
       "      <th></th>\n",
       "      <th></th>\n",
       "      <th></th>\n",
       "      <th></th>\n",
       "    </tr>\n",
       "  </thead>\n",
       "  <tbody>\n",
       "    <tr>\n",
       "      <th>1994-08-17 18:00:00-05:00</th>\n",
       "      <td>185.0</td>\n",
       "      <td>6.0</td>\n",
       "      <td>7.6</td>\n",
       "      <td>0.50</td>\n",
       "      <td>168.0</td>\n",
       "      <td>1016.5</td>\n",
       "      <td>29.7</td>\n",
       "      <td>29.7</td>\n",
       "      <td>12952740.0</td>\n",
       "      <td>-0.258819</td>\n",
       "      <td>0.965926</td>\n",
       "      <td>-0.717511</td>\n",
       "      <td>-0.696547</td>\n",
       "    </tr>\n",
       "    <tr>\n",
       "      <th>1994-08-18 00:00:00-05:00</th>\n",
       "      <td>325.0</td>\n",
       "      <td>0.7</td>\n",
       "      <td>1.3</td>\n",
       "      <td>0.60</td>\n",
       "      <td>128.0</td>\n",
       "      <td>1015.1</td>\n",
       "      <td>30.7</td>\n",
       "      <td>29.9</td>\n",
       "      <td>12953100.0</td>\n",
       "      <td>0.965926</td>\n",
       "      <td>0.258819</td>\n",
       "      <td>-0.720500</td>\n",
       "      <td>-0.693454</td>\n",
       "    </tr>\n",
       "    <tr>\n",
       "      <th>1994-08-18 06:00:00-05:00</th>\n",
       "      <td>132.0</td>\n",
       "      <td>7.1</td>\n",
       "      <td>8.8</td>\n",
       "      <td>0.80</td>\n",
       "      <td>73.0</td>\n",
       "      <td>1016.4</td>\n",
       "      <td>28.6</td>\n",
       "      <td>29.7</td>\n",
       "      <td>12953460.0</td>\n",
       "      <td>0.258819</td>\n",
       "      <td>-0.965926</td>\n",
       "      <td>-0.723476</td>\n",
       "      <td>-0.690349</td>\n",
       "    </tr>\n",
       "    <tr>\n",
       "      <th>1994-08-18 12:00:00-05:00</th>\n",
       "      <td>180.0</td>\n",
       "      <td>6.0</td>\n",
       "      <td>7.1</td>\n",
       "      <td>1.10</td>\n",
       "      <td>153.0</td>\n",
       "      <td>1016.1</td>\n",
       "      <td>29.0</td>\n",
       "      <td>29.3</td>\n",
       "      <td>12953820.0</td>\n",
       "      <td>-0.965926</td>\n",
       "      <td>-0.258819</td>\n",
       "      <td>-0.726438</td>\n",
       "      <td>-0.687232</td>\n",
       "    </tr>\n",
       "    <tr>\n",
       "      <th>1995-02-01 06:00:00-05:00</th>\n",
       "      <td>159.0</td>\n",
       "      <td>4.6</td>\n",
       "      <td>6.1</td>\n",
       "      <td>0.40</td>\n",
       "      <td>17.0</td>\n",
       "      <td>1020.2</td>\n",
       "      <td>17.5</td>\n",
       "      <td>23.0</td>\n",
       "      <td>13193940.0</td>\n",
       "      <td>0.258819</td>\n",
       "      <td>-0.965926</td>\n",
       "      <td>0.514218</td>\n",
       "      <td>0.857660</td>\n",
       "    </tr>\n",
       "    <tr>\n",
       "      <th>...</th>\n",
       "      <td>...</td>\n",
       "      <td>...</td>\n",
       "      <td>...</td>\n",
       "      <td>...</td>\n",
       "      <td>...</td>\n",
       "      <td>...</td>\n",
       "      <td>...</td>\n",
       "      <td>...</td>\n",
       "      <td>...</td>\n",
       "      <td>...</td>\n",
       "      <td>...</td>\n",
       "      <td>...</td>\n",
       "      <td>...</td>\n",
       "    </tr>\n",
       "    <tr>\n",
       "      <th>2022-10-20 00:40:00-05:00</th>\n",
       "      <td>8.0</td>\n",
       "      <td>6.4</td>\n",
       "      <td>9.9</td>\n",
       "      <td>1.51</td>\n",
       "      <td>18.0</td>\n",
       "      <td>1022.7</td>\n",
       "      <td>19.6</td>\n",
       "      <td>27.6</td>\n",
       "      <td>27770740.0</td>\n",
       "      <td>0.996195</td>\n",
       "      <td>0.087156</td>\n",
       "      <td>-0.948733</td>\n",
       "      <td>0.316078</td>\n",
       "    </tr>\n",
       "    <tr>\n",
       "      <th>2022-10-20 06:40:00-05:00</th>\n",
       "      <td>9.0</td>\n",
       "      <td>4.0</td>\n",
       "      <td>6.6</td>\n",
       "      <td>1.07</td>\n",
       "      <td>56.0</td>\n",
       "      <td>1022.3</td>\n",
       "      <td>19.7</td>\n",
       "      <td>27.6</td>\n",
       "      <td>27771100.0</td>\n",
       "      <td>0.087156</td>\n",
       "      <td>-0.996195</td>\n",
       "      <td>-0.947365</td>\n",
       "      <td>0.320155</td>\n",
       "    </tr>\n",
       "    <tr>\n",
       "      <th>2022-10-20 12:40:00-05:00</th>\n",
       "      <td>11.0</td>\n",
       "      <td>3.9</td>\n",
       "      <td>6.2</td>\n",
       "      <td>0.93</td>\n",
       "      <td>63.0</td>\n",
       "      <td>1020.7</td>\n",
       "      <td>20.3</td>\n",
       "      <td>27.4</td>\n",
       "      <td>27771460.0</td>\n",
       "      <td>-0.996195</td>\n",
       "      <td>-0.087156</td>\n",
       "      <td>-0.945979</td>\n",
       "      <td>0.324227</td>\n",
       "    </tr>\n",
       "    <tr>\n",
       "      <th>2022-10-20 18:40:00-05:00</th>\n",
       "      <td>37.0</td>\n",
       "      <td>4.1</td>\n",
       "      <td>6.9</td>\n",
       "      <td>0.69</td>\n",
       "      <td>63.0</td>\n",
       "      <td>1020.2</td>\n",
       "      <td>21.2</td>\n",
       "      <td>27.4</td>\n",
       "      <td>27771820.0</td>\n",
       "      <td>-0.087156</td>\n",
       "      <td>0.996195</td>\n",
       "      <td>-0.944576</td>\n",
       "      <td>0.328292</td>\n",
       "    </tr>\n",
       "    <tr>\n",
       "      <th>2022-10-21 00:40:00-05:00</th>\n",
       "      <td>66.0</td>\n",
       "      <td>4.4</td>\n",
       "      <td>5.7</td>\n",
       "      <td>0.47</td>\n",
       "      <td>62.0</td>\n",
       "      <td>1018.3</td>\n",
       "      <td>22.0</td>\n",
       "      <td>27.4</td>\n",
       "      <td>27772180.0</td>\n",
       "      <td>0.996195</td>\n",
       "      <td>0.087156</td>\n",
       "      <td>-0.943156</td>\n",
       "      <td>0.332351</td>\n",
       "    </tr>\n",
       "  </tbody>\n",
       "</table>\n",
       "<p>28947 rows × 13 columns</p>\n",
       "</div>"
      ],
      "text/plain": [
       "                           wind dir (deg)  wind spd (m/s)  wind gst (m/s)   \n",
       "timestamp                                                                   \n",
       "1994-08-17 18:00:00-05:00           185.0             6.0             7.6  \\\n",
       "1994-08-18 00:00:00-05:00           325.0             0.7             1.3   \n",
       "1994-08-18 06:00:00-05:00           132.0             7.1             8.8   \n",
       "1994-08-18 12:00:00-05:00           180.0             6.0             7.1   \n",
       "1995-02-01 06:00:00-05:00           159.0             4.6             6.1   \n",
       "...                                   ...             ...             ...   \n",
       "2022-10-20 00:40:00-05:00             8.0             6.4             9.9   \n",
       "2022-10-20 06:40:00-05:00             9.0             4.0             6.6   \n",
       "2022-10-20 12:40:00-05:00            11.0             3.9             6.2   \n",
       "2022-10-20 18:40:00-05:00            37.0             4.1             6.9   \n",
       "2022-10-21 00:40:00-05:00            66.0             4.4             5.7   \n",
       "\n",
       "                           wave hgt (ft)  mean wave dir (deg)  air pres (ft)   \n",
       "timestamp                                                                      \n",
       "1994-08-17 18:00:00-05:00           0.50                168.0         1016.5  \\\n",
       "1994-08-18 00:00:00-05:00           0.60                128.0         1015.1   \n",
       "1994-08-18 06:00:00-05:00           0.80                 73.0         1016.4   \n",
       "1994-08-18 12:00:00-05:00           1.10                153.0         1016.1   \n",
       "1995-02-01 06:00:00-05:00           0.40                 17.0         1020.2   \n",
       "...                                  ...                  ...            ...   \n",
       "2022-10-20 00:40:00-05:00           1.51                 18.0         1022.7   \n",
       "2022-10-20 06:40:00-05:00           1.07                 56.0         1022.3   \n",
       "2022-10-20 12:40:00-05:00           0.93                 63.0         1020.7   \n",
       "2022-10-20 18:40:00-05:00           0.69                 63.0         1020.2   \n",
       "2022-10-21 00:40:00-05:00           0.47                 62.0         1018.3   \n",
       "\n",
       "                           air temp (deg fah)  water temp (deg fah)   \n",
       "timestamp                                                             \n",
       "1994-08-17 18:00:00-05:00                29.7                  29.7  \\\n",
       "1994-08-18 00:00:00-05:00                30.7                  29.9   \n",
       "1994-08-18 06:00:00-05:00                28.6                  29.7   \n",
       "1994-08-18 12:00:00-05:00                29.0                  29.3   \n",
       "1995-02-01 06:00:00-05:00                17.5                  23.0   \n",
       "...                                       ...                   ...   \n",
       "2022-10-20 00:40:00-05:00                19.6                  27.6   \n",
       "2022-10-20 06:40:00-05:00                19.7                  27.6   \n",
       "2022-10-20 12:40:00-05:00                20.3                  27.4   \n",
       "2022-10-20 18:40:00-05:00                21.2                  27.4   \n",
       "2022-10-21 00:40:00-05:00                22.0                  27.4   \n",
       "\n",
       "                              minutes   Day sin   Day cos  Year sin  Year cos  \n",
       "timestamp                                                                      \n",
       "1994-08-17 18:00:00-05:00  12952740.0 -0.258819  0.965926 -0.717511 -0.696547  \n",
       "1994-08-18 00:00:00-05:00  12953100.0  0.965926  0.258819 -0.720500 -0.693454  \n",
       "1994-08-18 06:00:00-05:00  12953460.0  0.258819 -0.965926 -0.723476 -0.690349  \n",
       "1994-08-18 12:00:00-05:00  12953820.0 -0.965926 -0.258819 -0.726438 -0.687232  \n",
       "1995-02-01 06:00:00-05:00  13193940.0  0.258819 -0.965926  0.514218  0.857660  \n",
       "...                               ...       ...       ...       ...       ...  \n",
       "2022-10-20 00:40:00-05:00  27770740.0  0.996195  0.087156 -0.948733  0.316078  \n",
       "2022-10-20 06:40:00-05:00  27771100.0  0.087156 -0.996195 -0.947365  0.320155  \n",
       "2022-10-20 12:40:00-05:00  27771460.0 -0.996195 -0.087156 -0.945979  0.324227  \n",
       "2022-10-20 18:40:00-05:00  27771820.0 -0.087156  0.996195 -0.944576  0.328292  \n",
       "2022-10-21 00:40:00-05:00  27772180.0  0.996195  0.087156 -0.943156  0.332351  \n",
       "\n",
       "[28947 rows x 13 columns]"
      ]
     },
     "execution_count": 2310,
     "metadata": {},
     "output_type": "execute_result"
    }
   ],
   "source": [
    "day = 60*24\n",
    "year = 365.2425*day\n",
    "df['Day sin'] = np.sin(df['minutes'] * (2 * np.pi / day))\n",
    "df['Day cos'] = np.cos(df['minutes'] * (2 * np.pi / day))\n",
    "df['Year sin'] = np.sin(df['minutes'] * (2 * np.pi / year))\n",
    "df['Year cos'] = np.cos(df['minutes'] * (2 * np.pi / year))\n",
    "df"
   ]
  },
  {
   "cell_type": "markdown",
   "metadata": {},
   "source": [
    "### we can remove the minutes column now that we have periodic values sin and cos"
   ]
  },
  {
   "cell_type": "code",
   "execution_count": 2311,
   "metadata": {},
   "outputs": [],
   "source": [
    "df = df.drop(['minutes'], axis=1)"
   ]
  },
  {
   "cell_type": "code",
   "execution_count": 2312,
   "metadata": {},
   "outputs": [],
   "source": [
    "def prediction_2(df, window=4):\n",
    "    df_as_np = df.to_numpy()\n",
    "    X = []\n",
    "    y = []\n",
    "    for i in range (len(df_as_np) - window):\n",
    "        row = [a for a in df_as_np[i:i+window]]\n",
    "        X.append(row)\n",
    "        label = df_as_np[i+window][0]\n",
    "        y.append(label)\n",
    "    return np.array(X), np.array(y)"
   ]
  },
  {
   "cell_type": "code",
   "execution_count": 2313,
   "metadata": {},
   "outputs": [
    {
     "data": {
      "text/html": [
       "<div>\n",
       "<style scoped>\n",
       "    .dataframe tbody tr th:only-of-type {\n",
       "        vertical-align: middle;\n",
       "    }\n",
       "\n",
       "    .dataframe tbody tr th {\n",
       "        vertical-align: top;\n",
       "    }\n",
       "\n",
       "    .dataframe thead th {\n",
       "        text-align: right;\n",
       "    }\n",
       "</style>\n",
       "<table border=\"1\" class=\"dataframe\">\n",
       "  <thead>\n",
       "    <tr style=\"text-align: right;\">\n",
       "      <th></th>\n",
       "      <th>water temp (deg fah)</th>\n",
       "      <th>Day sin</th>\n",
       "      <th>Day cos</th>\n",
       "      <th>Year sin</th>\n",
       "      <th>Year cos</th>\n",
       "    </tr>\n",
       "    <tr>\n",
       "      <th>timestamp</th>\n",
       "      <th></th>\n",
       "      <th></th>\n",
       "      <th></th>\n",
       "      <th></th>\n",
       "      <th></th>\n",
       "    </tr>\n",
       "  </thead>\n",
       "  <tbody>\n",
       "    <tr>\n",
       "      <th>1994-08-17 18:00:00-05:00</th>\n",
       "      <td>29.7</td>\n",
       "      <td>-0.258819</td>\n",
       "      <td>0.965926</td>\n",
       "      <td>-0.717511</td>\n",
       "      <td>-0.696547</td>\n",
       "    </tr>\n",
       "    <tr>\n",
       "      <th>1994-08-18 00:00:00-05:00</th>\n",
       "      <td>29.9</td>\n",
       "      <td>0.965926</td>\n",
       "      <td>0.258819</td>\n",
       "      <td>-0.720500</td>\n",
       "      <td>-0.693454</td>\n",
       "    </tr>\n",
       "    <tr>\n",
       "      <th>1994-08-18 06:00:00-05:00</th>\n",
       "      <td>29.7</td>\n",
       "      <td>0.258819</td>\n",
       "      <td>-0.965926</td>\n",
       "      <td>-0.723476</td>\n",
       "      <td>-0.690349</td>\n",
       "    </tr>\n",
       "    <tr>\n",
       "      <th>1994-08-18 12:00:00-05:00</th>\n",
       "      <td>29.3</td>\n",
       "      <td>-0.965926</td>\n",
       "      <td>-0.258819</td>\n",
       "      <td>-0.726438</td>\n",
       "      <td>-0.687232</td>\n",
       "    </tr>\n",
       "    <tr>\n",
       "      <th>1995-02-01 06:00:00-05:00</th>\n",
       "      <td>23.0</td>\n",
       "      <td>0.258819</td>\n",
       "      <td>-0.965926</td>\n",
       "      <td>0.514218</td>\n",
       "      <td>0.857660</td>\n",
       "    </tr>\n",
       "    <tr>\n",
       "      <th>...</th>\n",
       "      <td>...</td>\n",
       "      <td>...</td>\n",
       "      <td>...</td>\n",
       "      <td>...</td>\n",
       "      <td>...</td>\n",
       "    </tr>\n",
       "    <tr>\n",
       "      <th>2022-10-20 00:40:00-05:00</th>\n",
       "      <td>27.6</td>\n",
       "      <td>0.996195</td>\n",
       "      <td>0.087156</td>\n",
       "      <td>-0.948733</td>\n",
       "      <td>0.316078</td>\n",
       "    </tr>\n",
       "    <tr>\n",
       "      <th>2022-10-20 06:40:00-05:00</th>\n",
       "      <td>27.6</td>\n",
       "      <td>0.087156</td>\n",
       "      <td>-0.996195</td>\n",
       "      <td>-0.947365</td>\n",
       "      <td>0.320155</td>\n",
       "    </tr>\n",
       "    <tr>\n",
       "      <th>2022-10-20 12:40:00-05:00</th>\n",
       "      <td>27.4</td>\n",
       "      <td>-0.996195</td>\n",
       "      <td>-0.087156</td>\n",
       "      <td>-0.945979</td>\n",
       "      <td>0.324227</td>\n",
       "    </tr>\n",
       "    <tr>\n",
       "      <th>2022-10-20 18:40:00-05:00</th>\n",
       "      <td>27.4</td>\n",
       "      <td>-0.087156</td>\n",
       "      <td>0.996195</td>\n",
       "      <td>-0.944576</td>\n",
       "      <td>0.328292</td>\n",
       "    </tr>\n",
       "    <tr>\n",
       "      <th>2022-10-21 00:40:00-05:00</th>\n",
       "      <td>27.4</td>\n",
       "      <td>0.996195</td>\n",
       "      <td>0.087156</td>\n",
       "      <td>-0.943156</td>\n",
       "      <td>0.332351</td>\n",
       "    </tr>\n",
       "  </tbody>\n",
       "</table>\n",
       "<p>28947 rows × 5 columns</p>\n",
       "</div>"
      ],
      "text/plain": [
       "                           water temp (deg fah)   Day sin   Day cos  Year sin   \n",
       "timestamp                                                                       \n",
       "1994-08-17 18:00:00-05:00                  29.7 -0.258819  0.965926 -0.717511  \\\n",
       "1994-08-18 00:00:00-05:00                  29.9  0.965926  0.258819 -0.720500   \n",
       "1994-08-18 06:00:00-05:00                  29.7  0.258819 -0.965926 -0.723476   \n",
       "1994-08-18 12:00:00-05:00                  29.3 -0.965926 -0.258819 -0.726438   \n",
       "1995-02-01 06:00:00-05:00                  23.0  0.258819 -0.965926  0.514218   \n",
       "...                                         ...       ...       ...       ...   \n",
       "2022-10-20 00:40:00-05:00                  27.6  0.996195  0.087156 -0.948733   \n",
       "2022-10-20 06:40:00-05:00                  27.6  0.087156 -0.996195 -0.947365   \n",
       "2022-10-20 12:40:00-05:00                  27.4 -0.996195 -0.087156 -0.945979   \n",
       "2022-10-20 18:40:00-05:00                  27.4 -0.087156  0.996195 -0.944576   \n",
       "2022-10-21 00:40:00-05:00                  27.4  0.996195  0.087156 -0.943156   \n",
       "\n",
       "                           Year cos  \n",
       "timestamp                            \n",
       "1994-08-17 18:00:00-05:00 -0.696547  \n",
       "1994-08-18 00:00:00-05:00 -0.693454  \n",
       "1994-08-18 06:00:00-05:00 -0.690349  \n",
       "1994-08-18 12:00:00-05:00 -0.687232  \n",
       "1995-02-01 06:00:00-05:00  0.857660  \n",
       "...                             ...  \n",
       "2022-10-20 00:40:00-05:00  0.316078  \n",
       "2022-10-20 06:40:00-05:00  0.320155  \n",
       "2022-10-20 12:40:00-05:00  0.324227  \n",
       "2022-10-20 18:40:00-05:00  0.328292  \n",
       "2022-10-21 00:40:00-05:00  0.332351  \n",
       "\n",
       "[28947 rows x 5 columns]"
      ]
     },
     "execution_count": 2313,
     "metadata": {},
     "output_type": "execute_result"
    }
   ],
   "source": [
    "df2 = df.loc[:, ['water temp (deg fah)', 'Day sin', 'Day cos', 'Year sin', 'Year cos']]\n",
    "df2"
   ]
  },
  {
   "cell_type": "code",
   "execution_count": 2314,
   "metadata": {},
   "outputs": [
    {
     "data": {
      "text/plain": [
       "((28943, 4, 5), (28943,))"
      ]
     },
     "execution_count": 2314,
     "metadata": {},
     "output_type": "execute_result"
    }
   ],
   "source": [
    "X2, y2 = prediction_2(df2)\n",
    "X2.shape, y2.shape\n"
   ]
  },
  {
   "cell_type": "code",
   "execution_count": 2315,
   "metadata": {},
   "outputs": [],
   "source": [
    "X2_train, y2_train = X2[:int(0.7*len(X2))], y2[:int(0.7*len(y2))] #first 80 for train\n",
    "X2_val, y2_val = X2[int(0.7*len(X2)):int(0.9*len(X2))], y2[int(0.7*len(y2)):int(0.9*len(y2))] #70 to 90 for validation\n",
    "X2_test, y2_test = X2[int(0.9*len(X2)):], y2[int(0.9*len(y2)):] #last 10 for test"
   ]
  },
  {
   "cell_type": "markdown",
   "metadata": {},
   "source": [
    "### Bring water temp into the same scale as the sin and cos values"
   ]
  },
  {
   "cell_type": "code",
   "execution_count": 2316,
   "metadata": {},
   "outputs": [],
   "source": [
    "temp_training_mean = np.mean(X2_train[:, :, 0])\n",
    "temp_training_std = np.std(X2_train[:, :, 0])\n",
    "\n",
    "def preprocess(X):\n",
    "    X[:, :, 0] = (X[:, :, 0] - temp_training_mean) / temp_training_std\n",
    "    return X\n"
   ]
  },
  {
   "cell_type": "code",
   "execution_count": 2317,
   "metadata": {},
   "outputs": [
    {
     "data": {
      "text/plain": [
       "array([[[ 1.51388861, -0.99904822, -0.04361939, -0.77166725,\n",
       "         -0.63602646],\n",
       "        [ 1.58481004, -0.04361939,  0.99904822, -0.77439546,\n",
       "         -0.63270188],\n",
       "        [ 1.51388861,  0.99904822,  0.04361939, -0.77710935,\n",
       "         -0.6293656 ],\n",
       "        [ 1.51388861,  0.04361939, -0.99904822, -0.77980886,\n",
       "         -0.62601768]],\n",
       "\n",
       "       [[ 1.58481004, -0.04361939,  0.99904822, -0.77439546,\n",
       "         -0.63270188],\n",
       "        [ 1.51388861,  0.99904822,  0.04361939, -0.77710935,\n",
       "         -0.6293656 ],\n",
       "        [ 1.51388861,  0.04361939, -0.99904822, -0.77980886,\n",
       "         -0.62601768],\n",
       "        [ 1.47842789, -0.99904822, -0.04361939, -0.78249395,\n",
       "         -0.62265819]],\n",
       "\n",
       "       [[ 1.51388861,  0.99904822,  0.04361939, -0.77710935,\n",
       "         -0.6293656 ],\n",
       "        [ 1.51388861,  0.04361939, -0.99904822, -0.77980886,\n",
       "         -0.62601768],\n",
       "        [ 1.47842789, -0.99904822, -0.04361939, -0.78249395,\n",
       "         -0.62265819],\n",
       "        [ 1.44296717, -0.04361939,  0.99904822, -0.78516457,\n",
       "         -0.61928717]],\n",
       "\n",
       "       ...,\n",
       "\n",
       "       [[ 0.52098855, -0.9961947 , -0.08715574, -0.95141676,\n",
       "          0.30790607],\n",
       "        [ 0.48552783, -0.08715574,  0.9961947 , -0.95008376,\n",
       "          0.31199496],\n",
       "        [ 0.45006711,  0.9961947 ,  0.08715574, -0.94873318,\n",
       "          0.31607808],\n",
       "        [ 0.45006711,  0.08715574, -0.9961947 , -0.94736506,\n",
       "          0.32015536]],\n",
       "\n",
       "       [[ 0.48552783, -0.08715574,  0.9961947 , -0.95008376,\n",
       "          0.31199496],\n",
       "        [ 0.45006711,  0.9961947 ,  0.08715574, -0.94873318,\n",
       "          0.31607808],\n",
       "        [ 0.45006711,  0.08715574, -0.9961947 , -0.94736506,\n",
       "          0.32015536],\n",
       "        [ 0.37914568, -0.9961947 , -0.08715574, -0.94597941,\n",
       "          0.32422671]],\n",
       "\n",
       "       [[ 0.45006711,  0.9961947 ,  0.08715574, -0.94873318,\n",
       "          0.31607808],\n",
       "        [ 0.45006711,  0.08715574, -0.9961947 , -0.94736506,\n",
       "          0.32015536],\n",
       "        [ 0.37914568, -0.9961947 , -0.08715574, -0.94597941,\n",
       "          0.32422671],\n",
       "        [ 0.37914568, -0.08715574,  0.9961947 , -0.94457626,\n",
       "          0.32829207]]])"
      ]
     },
     "execution_count": 2317,
     "metadata": {},
     "output_type": "execute_result"
    }
   ],
   "source": [
    "preprocess(X2_train)\n",
    "preprocess(X2_val)\n",
    "preprocess(X2_test)"
   ]
  },
  {
   "cell_type": "code",
   "execution_count": 2318,
   "metadata": {},
   "outputs": [
    {
     "name": "stdout",
     "output_type": "stream",
     "text": [
      "Model: \"sequential_203\"\n",
      "_________________________________________________________________\n",
      " Layer (type)                Output Shape              Param #   \n",
      "=================================================================\n",
      " lstm_116 (LSTM)             (None, 64)                17920     \n",
      "                                                                 \n",
      " dense_404 (Dense)           (None, 8)                 520       \n",
      "                                                                 \n",
      " dense_405 (Dense)           (None, 1)                 9         \n",
      "                                                                 \n",
      "=================================================================\n",
      "Total params: 18449 (72.07 KB)\n",
      "Trainable params: 18449 (72.07 KB)\n",
      "Non-trainable params: 0 (0.00 Byte)\n",
      "_________________________________________________________________\n"
     ]
    }
   ],
   "source": [
    "model4 = Sequential()\n",
    "model4.add(InputLayer((4, 5)))\n",
    "model4.add(LSTM(64))\n",
    "model4.add(Dense(8, 'ReLU'))\n",
    "model4.add(Dense(1, 'linear'))\n",
    "model4.summary()"
   ]
  },
  {
   "cell_type": "code",
   "execution_count": 2319,
   "metadata": {},
   "outputs": [
    {
     "name": "stderr",
     "output_type": "stream",
     "text": [
      "WARNING:absl:At this time, the v2.11+ optimizer `tf.keras.optimizers.Adam` runs slowly on M1/M2 Macs, please use the legacy Keras optimizer instead, located at `tf.keras.optimizers.legacy.Adam`.\n",
      "WARNING:absl:There is a known slowdown when using v2.11+ Keras optimizers on M1/M2 Macs. Falling back to the legacy Keras optimizer, i.e., `tf.keras.optimizers.legacy.Adam`.\n"
     ]
    },
    {
     "name": "stdout",
     "output_type": "stream",
     "text": [
      "Epoch 1/20\n",
      "596/634 [===========================>..] - ETA: 0s - loss: 605.5861 - root_mean_squared_error: 24.6087INFO:tensorflow:Assets written to: model4/assets\n"
     ]
    },
    {
     "name": "stderr",
     "output_type": "stream",
     "text": [
      "INFO:tensorflow:Assets written to: model4/assets\n"
     ]
    },
    {
     "name": "stdout",
     "output_type": "stream",
     "text": [
      "634/634 [==============================] - 3s 4ms/step - loss: 594.0143 - root_mean_squared_error: 24.3724 - val_loss: 404.0270 - val_root_mean_squared_error: 20.1004\n",
      "Epoch 2/20\n",
      "596/634 [===========================>..] - ETA: 0s - loss: 200.5071 - root_mean_squared_error: 14.1601INFO:tensorflow:Assets written to: model4/assets\n"
     ]
    },
    {
     "name": "stderr",
     "output_type": "stream",
     "text": [
      "INFO:tensorflow:Assets written to: model4/assets\n"
     ]
    },
    {
     "name": "stdout",
     "output_type": "stream",
     "text": [
      "634/634 [==============================] - 2s 3ms/step - loss: 190.5388 - root_mean_squared_error: 13.8036 - val_loss: 29.8200 - val_root_mean_squared_error: 5.4608\n",
      "Epoch 3/20\n",
      "633/634 [============================>.] - ETA: 0s - loss: 5.6716 - root_mean_squared_error: 2.3815INFO:tensorflow:Assets written to: model4/assets\n"
     ]
    },
    {
     "name": "stderr",
     "output_type": "stream",
     "text": [
      "INFO:tensorflow:Assets written to: model4/assets\n"
     ]
    },
    {
     "name": "stdout",
     "output_type": "stream",
     "text": [
      "634/634 [==============================] - 2s 3ms/step - loss: 5.6706 - root_mean_squared_error: 2.3813 - val_loss: 0.9101 - val_root_mean_squared_error: 0.9540\n",
      "Epoch 4/20\n",
      "625/634 [============================>.] - ETA: 0s - loss: 0.6497 - root_mean_squared_error: 0.8060INFO:tensorflow:Assets written to: model4/assets\n"
     ]
    },
    {
     "name": "stderr",
     "output_type": "stream",
     "text": [
      "INFO:tensorflow:Assets written to: model4/assets\n"
     ]
    },
    {
     "name": "stdout",
     "output_type": "stream",
     "text": [
      "634/634 [==============================] - 7s 10ms/step - loss: 0.6482 - root_mean_squared_error: 0.8051 - val_loss: 0.6437 - val_root_mean_squared_error: 0.8023\n",
      "Epoch 5/20\n",
      "625/634 [============================>.] - ETA: 0s - loss: 0.4375 - root_mean_squared_error: 0.6614INFO:tensorflow:Assets written to: model4/assets\n"
     ]
    },
    {
     "name": "stderr",
     "output_type": "stream",
     "text": [
      "INFO:tensorflow:Assets written to: model4/assets\n"
     ]
    },
    {
     "name": "stdout",
     "output_type": "stream",
     "text": [
      "634/634 [==============================] - 2s 3ms/step - loss: 0.4360 - root_mean_squared_error: 0.6603 - val_loss: 0.4759 - val_root_mean_squared_error: 0.6899\n",
      "Epoch 6/20\n",
      "629/634 [============================>.] - ETA: 0s - loss: 0.3200 - root_mean_squared_error: 0.5657INFO:tensorflow:Assets written to: model4/assets\n"
     ]
    },
    {
     "name": "stderr",
     "output_type": "stream",
     "text": [
      "INFO:tensorflow:Assets written to: model4/assets\n"
     ]
    },
    {
     "name": "stdout",
     "output_type": "stream",
     "text": [
      "634/634 [==============================] - 2s 3ms/step - loss: 0.3197 - root_mean_squared_error: 0.5654 - val_loss: 0.3548 - val_root_mean_squared_error: 0.5956\n",
      "Epoch 7/20\n",
      "632/634 [============================>.] - ETA: 0s - loss: 0.2511 - root_mean_squared_error: 0.5011INFO:tensorflow:Assets written to: model4/assets\n"
     ]
    },
    {
     "name": "stderr",
     "output_type": "stream",
     "text": [
      "INFO:tensorflow:Assets written to: model4/assets\n"
     ]
    },
    {
     "name": "stdout",
     "output_type": "stream",
     "text": [
      "634/634 [==============================] - 2s 4ms/step - loss: 0.2510 - root_mean_squared_error: 0.5010 - val_loss: 0.2786 - val_root_mean_squared_error: 0.5279\n",
      "Epoch 8/20\n",
      "632/634 [============================>.] - ETA: 0s - loss: 0.2081 - root_mean_squared_error: 0.4561INFO:tensorflow:Assets written to: model4/assets\n"
     ]
    },
    {
     "name": "stderr",
     "output_type": "stream",
     "text": [
      "INFO:tensorflow:Assets written to: model4/assets\n"
     ]
    },
    {
     "name": "stdout",
     "output_type": "stream",
     "text": [
      "634/634 [==============================] - 2s 4ms/step - loss: 0.2079 - root_mean_squared_error: 0.4559 - val_loss: 0.2237 - val_root_mean_squared_error: 0.4730\n",
      "Epoch 9/20\n",
      "634/634 [==============================] - ETA: 0s - loss: 0.1768 - root_mean_squared_error: 0.4204INFO:tensorflow:Assets written to: model4/assets\n"
     ]
    },
    {
     "name": "stderr",
     "output_type": "stream",
     "text": [
      "INFO:tensorflow:Assets written to: model4/assets\n"
     ]
    },
    {
     "name": "stdout",
     "output_type": "stream",
     "text": [
      "634/634 [==============================] - 2s 4ms/step - loss: 0.1768 - root_mean_squared_error: 0.4204 - val_loss: 0.1847 - val_root_mean_squared_error: 0.4298\n",
      "Epoch 10/20\n",
      "622/634 [============================>.] - ETA: 0s - loss: 0.1567 - root_mean_squared_error: 0.3958INFO:tensorflow:Assets written to: model4/assets\n"
     ]
    },
    {
     "name": "stderr",
     "output_type": "stream",
     "text": [
      "INFO:tensorflow:Assets written to: model4/assets\n"
     ]
    },
    {
     "name": "stdout",
     "output_type": "stream",
     "text": [
      "634/634 [==============================] - 2s 4ms/step - loss: 0.1561 - root_mean_squared_error: 0.3951 - val_loss: 0.1681 - val_root_mean_squared_error: 0.4099\n",
      "Epoch 11/20\n",
      "633/634 [============================>.] - ETA: 0s - loss: 0.1428 - root_mean_squared_error: 0.3778INFO:tensorflow:Assets written to: model4/assets\n"
     ]
    },
    {
     "name": "stderr",
     "output_type": "stream",
     "text": [
      "INFO:tensorflow:Assets written to: model4/assets\n"
     ]
    },
    {
     "name": "stdout",
     "output_type": "stream",
     "text": [
      "634/634 [==============================] - 2s 3ms/step - loss: 0.1427 - root_mean_squared_error: 0.3778 - val_loss: 0.1452 - val_root_mean_squared_error: 0.3811\n",
      "Epoch 12/20\n",
      "602/634 [===========================>..] - ETA: 0s - loss: 0.1354 - root_mean_squared_error: 0.3679INFO:tensorflow:Assets written to: model4/assets\n"
     ]
    },
    {
     "name": "stderr",
     "output_type": "stream",
     "text": [
      "INFO:tensorflow:Assets written to: model4/assets\n"
     ]
    },
    {
     "name": "stdout",
     "output_type": "stream",
     "text": [
      "634/634 [==============================] - 2s 3ms/step - loss: 0.1343 - root_mean_squared_error: 0.3664 - val_loss: 0.1427 - val_root_mean_squared_error: 0.3777\n",
      "Epoch 13/20\n",
      "601/634 [===========================>..] - ETA: 0s - loss: 0.1300 - root_mean_squared_error: 0.3606INFO:tensorflow:Assets written to: model4/assets\n"
     ]
    },
    {
     "name": "stderr",
     "output_type": "stream",
     "text": [
      "INFO:tensorflow:Assets written to: model4/assets\n"
     ]
    },
    {
     "name": "stdout",
     "output_type": "stream",
     "text": [
      "634/634 [==============================] - 2s 3ms/step - loss: 0.1285 - root_mean_squared_error: 0.3585 - val_loss: 0.1316 - val_root_mean_squared_error: 0.3628\n",
      "Epoch 14/20\n",
      "598/634 [===========================>..] - ETA: 0s - loss: 0.1259 - root_mean_squared_error: 0.3548INFO:tensorflow:Assets written to: model4/assets\n"
     ]
    },
    {
     "name": "stderr",
     "output_type": "stream",
     "text": [
      "INFO:tensorflow:Assets written to: model4/assets\n"
     ]
    },
    {
     "name": "stdout",
     "output_type": "stream",
     "text": [
      "634/634 [==============================] - 2s 3ms/step - loss: 0.1240 - root_mean_squared_error: 0.3522 - val_loss: 0.1207 - val_root_mean_squared_error: 0.3474\n",
      "Epoch 15/20\n",
      "597/634 [===========================>..] - ETA: 0s - loss: 0.1215 - root_mean_squared_error: 0.3486INFO:tensorflow:Assets written to: model4/assets\n"
     ]
    },
    {
     "name": "stderr",
     "output_type": "stream",
     "text": [
      "INFO:tensorflow:Assets written to: model4/assets\n"
     ]
    },
    {
     "name": "stdout",
     "output_type": "stream",
     "text": [
      "634/634 [==============================] - 2s 3ms/step - loss: 0.1202 - root_mean_squared_error: 0.3467 - val_loss: 0.1257 - val_root_mean_squared_error: 0.3545\n",
      "Epoch 16/20\n",
      "598/634 [===========================>..] - ETA: 0s - loss: 0.1149 - root_mean_squared_error: 0.3390INFO:tensorflow:Assets written to: model4/assets\n"
     ]
    },
    {
     "name": "stderr",
     "output_type": "stream",
     "text": [
      "INFO:tensorflow:Assets written to: model4/assets\n"
     ]
    },
    {
     "name": "stdout",
     "output_type": "stream",
     "text": [
      "634/634 [==============================] - 2s 3ms/step - loss: 0.1163 - root_mean_squared_error: 0.3411 - val_loss: 0.1049 - val_root_mean_squared_error: 0.3239\n",
      "Epoch 17/20\n",
      "600/634 [===========================>..] - ETA: 0s - loss: 0.1145 - root_mean_squared_error: 0.3383INFO:tensorflow:Assets written to: model4/assets\n"
     ]
    },
    {
     "name": "stderr",
     "output_type": "stream",
     "text": [
      "INFO:tensorflow:Assets written to: model4/assets\n"
     ]
    },
    {
     "name": "stdout",
     "output_type": "stream",
     "text": [
      "634/634 [==============================] - 2s 4ms/step - loss: 0.1135 - root_mean_squared_error: 0.3369 - val_loss: 0.1051 - val_root_mean_squared_error: 0.3243\n",
      "Epoch 18/20\n",
      "614/634 [============================>.] - ETA: 0s - loss: 0.1079 - root_mean_squared_error: 0.3284INFO:tensorflow:Assets written to: model4/assets\n"
     ]
    },
    {
     "name": "stderr",
     "output_type": "stream",
     "text": [
      "INFO:tensorflow:Assets written to: model4/assets\n"
     ]
    },
    {
     "name": "stdout",
     "output_type": "stream",
     "text": [
      "634/634 [==============================] - 3s 4ms/step - loss: 0.1099 - root_mean_squared_error: 0.3315 - val_loss: 0.1071 - val_root_mean_squared_error: 0.3272\n",
      "Epoch 19/20\n",
      "615/634 [============================>.] - ETA: 0s - loss: 0.1061 - root_mean_squared_error: 0.3258INFO:tensorflow:Assets written to: model4/assets\n"
     ]
    },
    {
     "name": "stderr",
     "output_type": "stream",
     "text": [
      "INFO:tensorflow:Assets written to: model4/assets\n"
     ]
    },
    {
     "name": "stdout",
     "output_type": "stream",
     "text": [
      "634/634 [==============================] - 3s 4ms/step - loss: 0.1067 - root_mean_squared_error: 0.3267 - val_loss: 0.0978 - val_root_mean_squared_error: 0.3127\n",
      "Epoch 20/20\n",
      "609/634 [===========================>..] - ETA: 0s - loss: 0.1042 - root_mean_squared_error: 0.3228INFO:tensorflow:Assets written to: model4/assets\n"
     ]
    },
    {
     "name": "stderr",
     "output_type": "stream",
     "text": [
      "INFO:tensorflow:Assets written to: model4/assets\n"
     ]
    },
    {
     "name": "stdout",
     "output_type": "stream",
     "text": [
      "634/634 [==============================] - 2s 4ms/step - loss: 0.1041 - root_mean_squared_error: 0.3226 - val_loss: 0.0929 - val_root_mean_squared_error: 0.3047\n"
     ]
    },
    {
     "data": {
      "text/plain": [
       "<keras.src.callbacks.History at 0x653547690>"
      ]
     },
     "execution_count": 2319,
     "metadata": {},
     "output_type": "execute_result"
    }
   ],
   "source": [
    "cp4 = ModelCheckpoint('model4/', SAVE_BEST_ONLY=True, verbose=0)\n",
    "model4.compile(loss=MeanSquaredError(), optimizer=Adam(learning_rate=0.0001), metrics=[RootMeanSquaredError()])\n",
    "model4.fit(X2_train, y2_train, epochs=20, validation_data=(X2_val, y2_val), callbacks=[cp4])"
   ]
  },
  {
   "cell_type": "code",
   "execution_count": 2320,
   "metadata": {},
   "outputs": [
    {
     "name": "stdout",
     "output_type": "stream",
     "text": [
      "91/91 [==============================] - 0s 640us/step\n"
     ]
    },
    {
     "data": {
      "text/plain": [
       "(      Predictions  Actuals\n",
       " 0       30.331026     30.5\n",
       " 1       30.670826     30.4\n",
       " 2       30.584866     30.2\n",
       " 3       30.184780     30.3\n",
       " 4       30.148987     30.2\n",
       " ...           ...      ...\n",
       " 2890    27.910927     27.6\n",
       " 2891    27.699780     27.6\n",
       " 2892    27.571808     27.4\n",
       " 2893    27.670200     27.4\n",
       " 2894    27.608677     27.4\n",
       " \n",
       " [2895 rows x 2 columns],\n",
       " 0.07102296756998742)"
      ]
     },
     "execution_count": 2320,
     "metadata": {},
     "output_type": "execute_result"
    },
    {
     "data": {
      "image/png": "[encoded data removed]",
      "text/plain": [
       "<Figure size 640x480 with 1 Axes>"
      ]
     },
     "metadata": {},
     "output_type": "display_data"
    }
   ],
   "source": [
    "plot_predictions(model4, X2_test, y2_test)"
   ]
  },
  {
   "cell_type": "code",
   "execution_count": 2321,
   "metadata": {},
   "outputs": [
    {
     "data": {
      "text/html": [
       "<div>\n",
       "<style scoped>\n",
       "    .dataframe tbody tr th:only-of-type {\n",
       "        vertical-align: middle;\n",
       "    }\n",
       "\n",
       "    .dataframe tbody tr th {\n",
       "        vertical-align: top;\n",
       "    }\n",
       "\n",
       "    .dataframe thead th {\n",
       "        text-align: right;\n",
       "    }\n",
       "</style>\n",
       "<table border=\"1\" class=\"dataframe\">\n",
       "  <thead>\n",
       "    <tr style=\"text-align: right;\">\n",
       "      <th></th>\n",
       "      <th>wind dir (deg)</th>\n",
       "      <th>wind spd (m/s)</th>\n",
       "      <th>wind gst (m/s)</th>\n",
       "      <th>wave hgt (ft)</th>\n",
       "      <th>mean wave dir (deg)</th>\n",
       "      <th>air pres (ft)</th>\n",
       "      <th>air temp (deg fah)</th>\n",
       "      <th>water temp (deg fah)</th>\n",
       "      <th>Day sin</th>\n",
       "      <th>Day cos</th>\n",
       "      <th>Year sin</th>\n",
       "      <th>Year cos</th>\n",
       "    </tr>\n",
       "    <tr>\n",
       "      <th>timestamp</th>\n",
       "      <th></th>\n",
       "      <th></th>\n",
       "      <th></th>\n",
       "      <th></th>\n",
       "      <th></th>\n",
       "      <th></th>\n",
       "      <th></th>\n",
       "      <th></th>\n",
       "      <th></th>\n",
       "      <th></th>\n",
       "      <th></th>\n",
       "      <th></th>\n",
       "    </tr>\n",
       "  </thead>\n",
       "  <tbody>\n",
       "    <tr>\n",
       "      <th>1994-08-17 18:00:00-05:00</th>\n",
       "      <td>185.0</td>\n",
       "      <td>6.0</td>\n",
       "      <td>7.6</td>\n",
       "      <td>0.50</td>\n",
       "      <td>168.0</td>\n",
       "      <td>1016.5</td>\n",
       "      <td>29.7</td>\n",
       "      <td>29.7</td>\n",
       "      <td>-0.258819</td>\n",
       "      <td>0.965926</td>\n",
       "      <td>-0.717511</td>\n",
       "      <td>-0.696547</td>\n",
       "    </tr>\n",
       "    <tr>\n",
       "      <th>1994-08-18 00:00:00-05:00</th>\n",
       "      <td>325.0</td>\n",
       "      <td>0.7</td>\n",
       "      <td>1.3</td>\n",
       "      <td>0.60</td>\n",
       "      <td>128.0</td>\n",
       "      <td>1015.1</td>\n",
       "      <td>30.7</td>\n",
       "      <td>29.9</td>\n",
       "      <td>0.965926</td>\n",
       "      <td>0.258819</td>\n",
       "      <td>-0.720500</td>\n",
       "      <td>-0.693454</td>\n",
       "    </tr>\n",
       "    <tr>\n",
       "      <th>1994-08-18 06:00:00-05:00</th>\n",
       "      <td>132.0</td>\n",
       "      <td>7.1</td>\n",
       "      <td>8.8</td>\n",
       "      <td>0.80</td>\n",
       "      <td>73.0</td>\n",
       "      <td>1016.4</td>\n",
       "      <td>28.6</td>\n",
       "      <td>29.7</td>\n",
       "      <td>0.258819</td>\n",
       "      <td>-0.965926</td>\n",
       "      <td>-0.723476</td>\n",
       "      <td>-0.690349</td>\n",
       "    </tr>\n",
       "    <tr>\n",
       "      <th>1994-08-18 12:00:00-05:00</th>\n",
       "      <td>180.0</td>\n",
       "      <td>6.0</td>\n",
       "      <td>7.1</td>\n",
       "      <td>1.10</td>\n",
       "      <td>153.0</td>\n",
       "      <td>1016.1</td>\n",
       "      <td>29.0</td>\n",
       "      <td>29.3</td>\n",
       "      <td>-0.965926</td>\n",
       "      <td>-0.258819</td>\n",
       "      <td>-0.726438</td>\n",
       "      <td>-0.687232</td>\n",
       "    </tr>\n",
       "    <tr>\n",
       "      <th>1995-02-01 06:00:00-05:00</th>\n",
       "      <td>159.0</td>\n",
       "      <td>4.6</td>\n",
       "      <td>6.1</td>\n",
       "      <td>0.40</td>\n",
       "      <td>17.0</td>\n",
       "      <td>1020.2</td>\n",
       "      <td>17.5</td>\n",
       "      <td>23.0</td>\n",
       "      <td>0.258819</td>\n",
       "      <td>-0.965926</td>\n",
       "      <td>0.514218</td>\n",
       "      <td>0.857660</td>\n",
       "    </tr>\n",
       "    <tr>\n",
       "      <th>...</th>\n",
       "      <td>...</td>\n",
       "      <td>...</td>\n",
       "      <td>...</td>\n",
       "      <td>...</td>\n",
       "      <td>...</td>\n",
       "      <td>...</td>\n",
       "      <td>...</td>\n",
       "      <td>...</td>\n",
       "      <td>...</td>\n",
       "      <td>...</td>\n",
       "      <td>...</td>\n",
       "      <td>...</td>\n",
       "    </tr>\n",
       "    <tr>\n",
       "      <th>2022-10-20 00:40:00-05:00</th>\n",
       "      <td>8.0</td>\n",
       "      <td>6.4</td>\n",
       "      <td>9.9</td>\n",
       "      <td>1.51</td>\n",
       "      <td>18.0</td>\n",
       "      <td>1022.7</td>\n",
       "      <td>19.6</td>\n",
       "      <td>27.6</td>\n",
       "      <td>0.996195</td>\n",
       "      <td>0.087156</td>\n",
       "      <td>-0.948733</td>\n",
       "      <td>0.316078</td>\n",
       "    </tr>\n",
       "    <tr>\n",
       "      <th>2022-10-20 06:40:00-05:00</th>\n",
       "      <td>9.0</td>\n",
       "      <td>4.0</td>\n",
       "      <td>6.6</td>\n",
       "      <td>1.07</td>\n",
       "      <td>56.0</td>\n",
       "      <td>1022.3</td>\n",
       "      <td>19.7</td>\n",
       "      <td>27.6</td>\n",
       "      <td>0.087156</td>\n",
       "      <td>-0.996195</td>\n",
       "      <td>-0.947365</td>\n",
       "      <td>0.320155</td>\n",
       "    </tr>\n",
       "    <tr>\n",
       "      <th>2022-10-20 12:40:00-05:00</th>\n",
       "      <td>11.0</td>\n",
       "      <td>3.9</td>\n",
       "      <td>6.2</td>\n",
       "      <td>0.93</td>\n",
       "      <td>63.0</td>\n",
       "      <td>1020.7</td>\n",
       "      <td>20.3</td>\n",
       "      <td>27.4</td>\n",
       "      <td>-0.996195</td>\n",
       "      <td>-0.087156</td>\n",
       "      <td>-0.945979</td>\n",
       "      <td>0.324227</td>\n",
       "    </tr>\n",
       "    <tr>\n",
       "      <th>2022-10-20 18:40:00-05:00</th>\n",
       "      <td>37.0</td>\n",
       "      <td>4.1</td>\n",
       "      <td>6.9</td>\n",
       "      <td>0.69</td>\n",
       "      <td>63.0</td>\n",
       "      <td>1020.2</td>\n",
       "      <td>21.2</td>\n",
       "      <td>27.4</td>\n",
       "      <td>-0.087156</td>\n",
       "      <td>0.996195</td>\n",
       "      <td>-0.944576</td>\n",
       "      <td>0.328292</td>\n",
       "    </tr>\n",
       "    <tr>\n",
       "      <th>2022-10-21 00:40:00-05:00</th>\n",
       "      <td>66.0</td>\n",
       "      <td>4.4</td>\n",
       "      <td>5.7</td>\n",
       "      <td>0.47</td>\n",
       "      <td>62.0</td>\n",
       "      <td>1018.3</td>\n",
       "      <td>22.0</td>\n",
       "      <td>27.4</td>\n",
       "      <td>0.996195</td>\n",
       "      <td>0.087156</td>\n",
       "      <td>-0.943156</td>\n",
       "      <td>0.332351</td>\n",
       "    </tr>\n",
       "  </tbody>\n",
       "</table>\n",
       "<p>28947 rows × 12 columns</p>\n",
       "</div>"
      ],
      "text/plain": [
       "                           wind dir (deg)  wind spd (m/s)  wind gst (m/s)   \n",
       "timestamp                                                                   \n",
       "1994-08-17 18:00:00-05:00           185.0             6.0             7.6  \\\n",
       "1994-08-18 00:00:00-05:00           325.0             0.7             1.3   \n",
       "1994-08-18 06:00:00-05:00           132.0             7.1             8.8   \n",
       "1994-08-18 12:00:00-05:00           180.0             6.0             7.1   \n",
       "1995-02-01 06:00:00-05:00           159.0             4.6             6.1   \n",
       "...                                   ...             ...             ...   \n",
       "2022-10-20 00:40:00-05:00             8.0             6.4             9.9   \n",
       "2022-10-20 06:40:00-05:00             9.0             4.0             6.6   \n",
       "2022-10-20 12:40:00-05:00            11.0             3.9             6.2   \n",
       "2022-10-20 18:40:00-05:00            37.0             4.1             6.9   \n",
       "2022-10-21 00:40:00-05:00            66.0             4.4             5.7   \n",
       "\n",
       "                           wave hgt (ft)  mean wave dir (deg)  air pres (ft)   \n",
       "timestamp                                                                      \n",
       "1994-08-17 18:00:00-05:00           0.50                168.0         1016.5  \\\n",
       "1994-08-18 00:00:00-05:00           0.60                128.0         1015.1   \n",
       "1994-08-18 06:00:00-05:00           0.80                 73.0         1016.4   \n",
       "1994-08-18 12:00:00-05:00           1.10                153.0         1016.1   \n",
       "1995-02-01 06:00:00-05:00           0.40                 17.0         1020.2   \n",
       "...                                  ...                  ...            ...   \n",
       "2022-10-20 00:40:00-05:00           1.51                 18.0         1022.7   \n",
       "2022-10-20 06:40:00-05:00           1.07                 56.0         1022.3   \n",
       "2022-10-20 12:40:00-05:00           0.93                 63.0         1020.7   \n",
       "2022-10-20 18:40:00-05:00           0.69                 63.0         1020.2   \n",
       "2022-10-21 00:40:00-05:00           0.47                 62.0         1018.3   \n",
       "\n",
       "                           air temp (deg fah)  water temp (deg fah)   Day sin   \n",
       "timestamp                                                                       \n",
       "1994-08-17 18:00:00-05:00                29.7                  29.7 -0.258819  \\\n",
       "1994-08-18 00:00:00-05:00                30.7                  29.9  0.965926   \n",
       "1994-08-18 06:00:00-05:00                28.6                  29.7  0.258819   \n",
       "1994-08-18 12:00:00-05:00                29.0                  29.3 -0.965926   \n",
       "1995-02-01 06:00:00-05:00                17.5                  23.0  0.258819   \n",
       "...                                       ...                   ...       ...   \n",
       "2022-10-20 00:40:00-05:00                19.6                  27.6  0.996195   \n",
       "2022-10-20 06:40:00-05:00                19.7                  27.6  0.087156   \n",
       "2022-10-20 12:40:00-05:00                20.3                  27.4 -0.996195   \n",
       "2022-10-20 18:40:00-05:00                21.2                  27.4 -0.087156   \n",
       "2022-10-21 00:40:00-05:00                22.0                  27.4  0.996195   \n",
       "\n",
       "                            Day cos  Year sin  Year cos  \n",
       "timestamp                                                \n",
       "1994-08-17 18:00:00-05:00  0.965926 -0.717511 -0.696547  \n",
       "1994-08-18 00:00:00-05:00  0.258819 -0.720500 -0.693454  \n",
       "1994-08-18 06:00:00-05:00 -0.965926 -0.723476 -0.690349  \n",
       "1994-08-18 12:00:00-05:00 -0.258819 -0.726438 -0.687232  \n",
       "1995-02-01 06:00:00-05:00 -0.965926  0.514218  0.857660  \n",
       "...                             ...       ...       ...  \n",
       "2022-10-20 00:40:00-05:00  0.087156 -0.948733  0.316078  \n",
       "2022-10-20 06:40:00-05:00 -0.996195 -0.947365  0.320155  \n",
       "2022-10-20 12:40:00-05:00 -0.087156 -0.945979  0.324227  \n",
       "2022-10-20 18:40:00-05:00  0.996195 -0.944576  0.328292  \n",
       "2022-10-21 00:40:00-05:00  0.087156 -0.943156  0.332351  \n",
       "\n",
       "[28947 rows x 12 columns]"
      ]
     },
     "execution_count": 2321,
     "metadata": {},
     "output_type": "execute_result"
    }
   ],
   "source": [
    "df"
   ]
  },
  {
   "cell_type": "markdown",
   "metadata": {},
   "source": [
    "### Add another predictive variable"
   ]
  },
  {
   "cell_type": "code",
   "execution_count": 2322,
   "metadata": {},
   "outputs": [],
   "source": [
    "def prediction_two_var(df, window=4):\n",
    "    df_as_np = df.to_numpy()\n",
    "    X = []\n",
    "    y = []\n",
    "    for i in range (len(df_as_np) - window):\n",
    "        row = [a for a in df_as_np[i:i+window]]\n",
    "        X.append(row)\n",
    "        label = [df_as_np[i+window][0], df_as_np[i+window][1]]\n",
    "        y.append(label)\n",
    "    return np.array(X), np.array(y)"
   ]
  },
  {
   "cell_type": "code",
   "execution_count": 2323,
   "metadata": {},
   "outputs": [],
   "source": [
    "df3 = df.loc[:, ['wave hgt (ft)', 'water temp (deg fah)', 'Day sin', 'Day cos', 'Year sin', 'Year cos', ]]"
   ]
  },
  {
   "cell_type": "code",
   "execution_count": 2324,
   "metadata": {},
   "outputs": [
    {
     "data": {
      "text/html": [
       "<div>\n",
       "<style scoped>\n",
       "    .dataframe tbody tr th:only-of-type {\n",
       "        vertical-align: middle;\n",
       "    }\n",
       "\n",
       "    .dataframe tbody tr th {\n",
       "        vertical-align: top;\n",
       "    }\n",
       "\n",
       "    .dataframe thead th {\n",
       "        text-align: right;\n",
       "    }\n",
       "</style>\n",
       "<table border=\"1\" class=\"dataframe\">\n",
       "  <thead>\n",
       "    <tr style=\"text-align: right;\">\n",
       "      <th></th>\n",
       "      <th>wave hgt (ft)</th>\n",
       "      <th>water temp (deg fah)</th>\n",
       "      <th>Day sin</th>\n",
       "      <th>Day cos</th>\n",
       "      <th>Year sin</th>\n",
       "      <th>Year cos</th>\n",
       "    </tr>\n",
       "    <tr>\n",
       "      <th>timestamp</th>\n",
       "      <th></th>\n",
       "      <th></th>\n",
       "      <th></th>\n",
       "      <th></th>\n",
       "      <th></th>\n",
       "      <th></th>\n",
       "    </tr>\n",
       "  </thead>\n",
       "  <tbody>\n",
       "    <tr>\n",
       "      <th>1994-08-17 18:00:00-05:00</th>\n",
       "      <td>0.50</td>\n",
       "      <td>29.7</td>\n",
       "      <td>-0.258819</td>\n",
       "      <td>0.965926</td>\n",
       "      <td>-0.717511</td>\n",
       "      <td>-0.696547</td>\n",
       "    </tr>\n",
       "    <tr>\n",
       "      <th>1994-08-18 00:00:00-05:00</th>\n",
       "      <td>0.60</td>\n",
       "      <td>29.9</td>\n",
       "      <td>0.965926</td>\n",
       "      <td>0.258819</td>\n",
       "      <td>-0.720500</td>\n",
       "      <td>-0.693454</td>\n",
       "    </tr>\n",
       "    <tr>\n",
       "      <th>1994-08-18 06:00:00-05:00</th>\n",
       "      <td>0.80</td>\n",
       "      <td>29.7</td>\n",
       "      <td>0.258819</td>\n",
       "      <td>-0.965926</td>\n",
       "      <td>-0.723476</td>\n",
       "      <td>-0.690349</td>\n",
       "    </tr>\n",
       "    <tr>\n",
       "      <th>1994-08-18 12:00:00-05:00</th>\n",
       "      <td>1.10</td>\n",
       "      <td>29.3</td>\n",
       "      <td>-0.965926</td>\n",
       "      <td>-0.258819</td>\n",
       "      <td>-0.726438</td>\n",
       "      <td>-0.687232</td>\n",
       "    </tr>\n",
       "    <tr>\n",
       "      <th>1995-02-01 06:00:00-05:00</th>\n",
       "      <td>0.40</td>\n",
       "      <td>23.0</td>\n",
       "      <td>0.258819</td>\n",
       "      <td>-0.965926</td>\n",
       "      <td>0.514218</td>\n",
       "      <td>0.857660</td>\n",
       "    </tr>\n",
       "    <tr>\n",
       "      <th>...</th>\n",
       "      <td>...</td>\n",
       "      <td>...</td>\n",
       "      <td>...</td>\n",
       "      <td>...</td>\n",
       "      <td>...</td>\n",
       "      <td>...</td>\n",
       "    </tr>\n",
       "    <tr>\n",
       "      <th>2022-10-20 00:40:00-05:00</th>\n",
       "      <td>1.51</td>\n",
       "      <td>27.6</td>\n",
       "      <td>0.996195</td>\n",
       "      <td>0.087156</td>\n",
       "      <td>-0.948733</td>\n",
       "      <td>0.316078</td>\n",
       "    </tr>\n",
       "    <tr>\n",
       "      <th>2022-10-20 06:40:00-05:00</th>\n",
       "      <td>1.07</td>\n",
       "      <td>27.6</td>\n",
       "      <td>0.087156</td>\n",
       "      <td>-0.996195</td>\n",
       "      <td>-0.947365</td>\n",
       "      <td>0.320155</td>\n",
       "    </tr>\n",
       "    <tr>\n",
       "      <th>2022-10-20 12:40:00-05:00</th>\n",
       "      <td>0.93</td>\n",
       "      <td>27.4</td>\n",
       "      <td>-0.996195</td>\n",
       "      <td>-0.087156</td>\n",
       "      <td>-0.945979</td>\n",
       "      <td>0.324227</td>\n",
       "    </tr>\n",
       "    <tr>\n",
       "      <th>2022-10-20 18:40:00-05:00</th>\n",
       "      <td>0.69</td>\n",
       "      <td>27.4</td>\n",
       "      <td>-0.087156</td>\n",
       "      <td>0.996195</td>\n",
       "      <td>-0.944576</td>\n",
       "      <td>0.328292</td>\n",
       "    </tr>\n",
       "    <tr>\n",
       "      <th>2022-10-21 00:40:00-05:00</th>\n",
       "      <td>0.47</td>\n",
       "      <td>27.4</td>\n",
       "      <td>0.996195</td>\n",
       "      <td>0.087156</td>\n",
       "      <td>-0.943156</td>\n",
       "      <td>0.332351</td>\n",
       "    </tr>\n",
       "  </tbody>\n",
       "</table>\n",
       "<p>28947 rows × 6 columns</p>\n",
       "</div>"
      ],
      "text/plain": [
       "                           wave hgt (ft)  water temp (deg fah)   Day sin   \n",
       "timestamp                                                                  \n",
       "1994-08-17 18:00:00-05:00           0.50                  29.7 -0.258819  \\\n",
       "1994-08-18 00:00:00-05:00           0.60                  29.9  0.965926   \n",
       "1994-08-18 06:00:00-05:00           0.80                  29.7  0.258819   \n",
       "1994-08-18 12:00:00-05:00           1.10                  29.3 -0.965926   \n",
       "1995-02-01 06:00:00-05:00           0.40                  23.0  0.258819   \n",
       "...                                  ...                   ...       ...   \n",
       "2022-10-20 00:40:00-05:00           1.51                  27.6  0.996195   \n",
       "2022-10-20 06:40:00-05:00           1.07                  27.6  0.087156   \n",
       "2022-10-20 12:40:00-05:00           0.93                  27.4 -0.996195   \n",
       "2022-10-20 18:40:00-05:00           0.69                  27.4 -0.087156   \n",
       "2022-10-21 00:40:00-05:00           0.47                  27.4  0.996195   \n",
       "\n",
       "                            Day cos  Year sin  Year cos  \n",
       "timestamp                                                \n",
       "1994-08-17 18:00:00-05:00  0.965926 -0.717511 -0.696547  \n",
       "1994-08-18 00:00:00-05:00  0.258819 -0.720500 -0.693454  \n",
       "1994-08-18 06:00:00-05:00 -0.965926 -0.723476 -0.690349  \n",
       "1994-08-18 12:00:00-05:00 -0.258819 -0.726438 -0.687232  \n",
       "1995-02-01 06:00:00-05:00 -0.965926  0.514218  0.857660  \n",
       "...                             ...       ...       ...  \n",
       "2022-10-20 00:40:00-05:00  0.087156 -0.948733  0.316078  \n",
       "2022-10-20 06:40:00-05:00 -0.996195 -0.947365  0.320155  \n",
       "2022-10-20 12:40:00-05:00 -0.087156 -0.945979  0.324227  \n",
       "2022-10-20 18:40:00-05:00  0.996195 -0.944576  0.328292  \n",
       "2022-10-21 00:40:00-05:00  0.087156 -0.943156  0.332351  \n",
       "\n",
       "[28947 rows x 6 columns]"
      ]
     },
     "execution_count": 2324,
     "metadata": {},
     "output_type": "execute_result"
    }
   ],
   "source": [
    "df3"
   ]
  },
  {
   "cell_type": "code",
   "execution_count": 2325,
   "metadata": {},
   "outputs": [
    {
     "data": {
      "text/plain": [
       "((28943, 4, 6), (28943, 2))"
      ]
     },
     "execution_count": 2325,
     "metadata": {},
     "output_type": "execute_result"
    }
   ],
   "source": [
    "X3, y3 = prediction_two_var(df3)\n",
    "X3.shape, y3.shape"
   ]
  },
  {
   "cell_type": "code",
   "execution_count": 2326,
   "metadata": {},
   "outputs": [],
   "source": [
    "X3_train, y3_train = X3[:int(0.7*len(X3))], y3[:int(0.7*len(y3))] #first 80 for train\n",
    "X3_val, y3_val = X3[int(0.7*len(X3)):int(0.9*len(X3))], y3[int(0.7*len(y3)):int(0.9*len(y3))] #70 to 90 for validation\n",
    "X3_test, y3_test = X3[int(0.9*len(X3)):], y3[int(0.9*len(y3)):] #last 10 for test"
   ]
  },
  {
   "cell_type": "code",
   "execution_count": 2327,
   "metadata": {},
   "outputs": [],
   "source": [
    "wave_hgt_training_mean = np.mean(X3_train[:, :, 0])\n",
    "wave_hgt_training_std = np.std(X3_train[:, :, 0])\n",
    "temp_training_mean = np.mean(X3_train[:, :, 1])\n",
    "temp_training_std = np.std(X3_train[:, :, 1])\n",
    "\n",
    "def preprocess_input(X):\n",
    "    X[:, :, 0] = (X[:, :, 0] - wave_hgt_training_mean) / wave_hgt_training_std\n",
    "    X[:, :, 1] = (X[:, :, 1] - temp_training_mean) / temp_training_std\n",
    "    \n",
    "    return X\n",
    "\n",
    "def preprocess_output(y):\n",
    "    y[:, 0] = (y[:, 0] - wave_hgt_training_mean) / wave_hgt_training_std\n",
    "    y[:, 1] = (y[:, 1] - temp_training_mean) / temp_training_std\n",
    "    return y"
   ]
  },
  {
   "cell_type": "code",
   "execution_count": 2328,
   "metadata": {},
   "outputs": [
    {
     "data": {
      "text/plain": [
       "array([[-0.24767699,  1.47842789],\n",
       "       [ 0.60583599,  1.44296717],\n",
       "       [-0.12174884,  1.37204574],\n",
       "       ...,\n",
       "       [-0.47154924,  0.37914568],\n",
       "       [-0.80735763,  0.37914568],\n",
       "       [-1.11518198,  0.37914568]])"
      ]
     },
     "execution_count": 2328,
     "metadata": {},
     "output_type": "execute_result"
    }
   ],
   "source": [
    "preprocess_input(X3_train)\n",
    "preprocess_input(X3_val)\n",
    "preprocess_input(X3_test)\n",
    "preprocess_output(y3_train)\n",
    "preprocess_output(y3_val)\n",
    "preprocess_output(y3_test)"
   ]
  },
  {
   "cell_type": "code",
   "execution_count": 2329,
   "metadata": {},
   "outputs": [
    {
     "name": "stdout",
     "output_type": "stream",
     "text": [
      "Model: \"sequential_204\"\n",
      "_________________________________________________________________\n",
      " Layer (type)                Output Shape              Param #   \n",
      "=================================================================\n",
      " lstm_117 (LSTM)             (None, 64)                18176     \n",
      "                                                                 \n",
      " dense_406 (Dense)           (None, 8)                 520       \n",
      "                                                                 \n",
      " dense_407 (Dense)           (None, 2)                 18        \n",
      "                                                                 \n",
      "=================================================================\n",
      "Total params: 18714 (73.10 KB)\n",
      "Trainable params: 18714 (73.10 KB)\n",
      "Non-trainable params: 0 (0.00 Byte)\n",
      "_________________________________________________________________\n"
     ]
    }
   ],
   "source": [
    "model5 = Sequential()\n",
    "model5.add(InputLayer((4, 6)))\n",
    "model5.add(LSTM(64))\n",
    "model5.add(Dense(8, 'ReLU'))\n",
    "model5.add(Dense(2, 'linear'))\n",
    "model5.summary()"
   ]
  },
  {
   "cell_type": "code",
   "execution_count": 2330,
   "metadata": {},
   "outputs": [
    {
     "name": "stderr",
     "output_type": "stream",
     "text": [
      "WARNING:absl:At this time, the v2.11+ optimizer `tf.keras.optimizers.Adam` runs slowly on M1/M2 Macs, please use the legacy Keras optimizer instead, located at `tf.keras.optimizers.legacy.Adam`.\n",
      "WARNING:absl:There is a known slowdown when using v2.11+ Keras optimizers on M1/M2 Macs. Falling back to the legacy Keras optimizer, i.e., `tf.keras.optimizers.legacy.Adam`.\n"
     ]
    },
    {
     "name": "stdout",
     "output_type": "stream",
     "text": [
      "Epoch 1/10\n",
      "612/634 [===========================>..] - ETA: 0s - loss: 0.5103 - root_mean_squared_error: 0.7144INFO:tensorflow:Assets written to: model5/assets\n"
     ]
    },
    {
     "name": "stderr",
     "output_type": "stream",
     "text": [
      "INFO:tensorflow:Assets written to: model5/assets\n"
     ]
    },
    {
     "name": "stdout",
     "output_type": "stream",
     "text": [
      "634/634 [==============================] - 4s 4ms/step - loss: 0.5029 - root_mean_squared_error: 0.7091 - val_loss: 0.2429 - val_root_mean_squared_error: 0.4928\n",
      "Epoch 2/10\n",
      "613/634 [============================>.] - ETA: 0s - loss: 0.2374 - root_mean_squared_error: 0.4873INFO:tensorflow:Assets written to: model5/assets\n"
     ]
    },
    {
     "name": "stderr",
     "output_type": "stream",
     "text": [
      "INFO:tensorflow:Assets written to: model5/assets\n"
     ]
    },
    {
     "name": "stdout",
     "output_type": "stream",
     "text": [
      "634/634 [==============================] - 2s 4ms/step - loss: 0.2372 - root_mean_squared_error: 0.4871 - val_loss: 0.1696 - val_root_mean_squared_error: 0.4118\n",
      "Epoch 3/10\n",
      "629/634 [============================>.] - ETA: 0s - loss: 0.1786 - root_mean_squared_error: 0.4226INFO:tensorflow:Assets written to: model5/assets\n"
     ]
    },
    {
     "name": "stderr",
     "output_type": "stream",
     "text": [
      "INFO:tensorflow:Assets written to: model5/assets\n"
     ]
    },
    {
     "name": "stdout",
     "output_type": "stream",
     "text": [
      "634/634 [==============================] - 2s 4ms/step - loss: 0.1783 - root_mean_squared_error: 0.4223 - val_loss: 0.1291 - val_root_mean_squared_error: 0.3592\n",
      "Epoch 4/10\n",
      "613/634 [============================>.] - ETA: 0s - loss: 0.1381 - root_mean_squared_error: 0.3716INFO:tensorflow:Assets written to: model5/assets\n"
     ]
    },
    {
     "name": "stderr",
     "output_type": "stream",
     "text": [
      "INFO:tensorflow:Assets written to: model5/assets\n"
     ]
    },
    {
     "name": "stdout",
     "output_type": "stream",
     "text": [
      "634/634 [==============================] - 2s 4ms/step - loss: 0.1375 - root_mean_squared_error: 0.3708 - val_loss: 0.0991 - val_root_mean_squared_error: 0.3147\n",
      "Epoch 5/10\n",
      "603/634 [===========================>..] - ETA: 0s - loss: 0.1156 - root_mean_squared_error: 0.3400INFO:tensorflow:Assets written to: model5/assets\n"
     ]
    },
    {
     "name": "stderr",
     "output_type": "stream",
     "text": [
      "INFO:tensorflow:Assets written to: model5/assets\n"
     ]
    },
    {
     "name": "stdout",
     "output_type": "stream",
     "text": [
      "634/634 [==============================] - 2s 4ms/step - loss: 0.1160 - root_mean_squared_error: 0.3406 - val_loss: 0.0884 - val_root_mean_squared_error: 0.2972\n",
      "Epoch 6/10\n",
      "608/634 [===========================>..] - ETA: 0s - loss: 0.1085 - root_mean_squared_error: 0.3293INFO:tensorflow:Assets written to: model5/assets\n"
     ]
    },
    {
     "name": "stderr",
     "output_type": "stream",
     "text": [
      "INFO:tensorflow:Assets written to: model5/assets\n"
     ]
    },
    {
     "name": "stdout",
     "output_type": "stream",
     "text": [
      "634/634 [==============================] - 2s 4ms/step - loss: 0.1086 - root_mean_squared_error: 0.3296 - val_loss: 0.0841 - val_root_mean_squared_error: 0.2900\n",
      "Epoch 7/10\n",
      "604/634 [===========================>..] - ETA: 0s - loss: 0.1053 - root_mean_squared_error: 0.3245INFO:tensorflow:Assets written to: model5/assets\n"
     ]
    },
    {
     "name": "stderr",
     "output_type": "stream",
     "text": [
      "INFO:tensorflow:Assets written to: model5/assets\n"
     ]
    },
    {
     "name": "stdout",
     "output_type": "stream",
     "text": [
      "634/634 [==============================] - 2s 4ms/step - loss: 0.1047 - root_mean_squared_error: 0.3236 - val_loss: 0.0813 - val_root_mean_squared_error: 0.2850\n",
      "Epoch 8/10\n",
      "613/634 [============================>.] - ETA: 0s - loss: 0.1025 - root_mean_squared_error: 0.3202INFO:tensorflow:Assets written to: model5/assets\n"
     ]
    },
    {
     "name": "stderr",
     "output_type": "stream",
     "text": [
      "INFO:tensorflow:Assets written to: model5/assets\n"
     ]
    },
    {
     "name": "stdout",
     "output_type": "stream",
     "text": [
      "634/634 [==============================] - 2s 3ms/step - loss: 0.1025 - root_mean_squared_error: 0.3202 - val_loss: 0.0797 - val_root_mean_squared_error: 0.2823\n",
      "Epoch 9/10\n",
      "630/634 [============================>.] - ETA: 0s - loss: 0.1011 - root_mean_squared_error: 0.3180INFO:tensorflow:Assets written to: model5/assets\n"
     ]
    },
    {
     "name": "stderr",
     "output_type": "stream",
     "text": [
      "INFO:tensorflow:Assets written to: model5/assets\n"
     ]
    },
    {
     "name": "stdout",
     "output_type": "stream",
     "text": [
      "634/634 [==============================] - 3s 5ms/step - loss: 0.1011 - root_mean_squared_error: 0.3179 - val_loss: 0.0790 - val_root_mean_squared_error: 0.2810\n",
      "Epoch 10/10\n",
      "622/634 [============================>.] - ETA: 0s - loss: 0.1001 - root_mean_squared_error: 0.3164INFO:tensorflow:Assets written to: model5/assets\n"
     ]
    },
    {
     "name": "stderr",
     "output_type": "stream",
     "text": [
      "INFO:tensorflow:Assets written to: model5/assets\n"
     ]
    },
    {
     "name": "stdout",
     "output_type": "stream",
     "text": [
      "634/634 [==============================] - 3s 4ms/step - loss: 0.1004 - root_mean_squared_error: 0.3168 - val_loss: 0.0780 - val_root_mean_squared_error: 0.2794\n"
     ]
    },
    {
     "data": {
      "text/plain": [
       "<keras.src.callbacks.History at 0x64a3cd0d0>"
      ]
     },
     "execution_count": 2330,
     "metadata": {},
     "output_type": "execute_result"
    }
   ],
   "source": [
    "cp5 = ModelCheckpoint('model5/', SAVE_BEST_ONLY=True, verbose=0)\n",
    "model5.compile(loss=MeanSquaredError(), optimizer=Adam(learning_rate=0.0001), metrics=[RootMeanSquaredError()])\n",
    "model5.fit(X3_train, y3_train, epochs=10, validation_data=(X3_val, y3_val), callbacks=[cp5])"
   ]
  },
  {
   "cell_type": "code",
   "execution_count": 2331,
   "metadata": {},
   "outputs": [],
   "source": [
    "def postprocess_wave(arr):\n",
    "    arr = (arr*wave_hgt_training_std) + wave_hgt_training_mean\n",
    "    return arr\n",
    "def postprocess_temp(arr):\n",
    "    arr = (arr*temp_training_std) + temp_training_mean\n",
    "    return arr"
   ]
  },
  {
   "cell_type": "code",
   "execution_count": 2332,
   "metadata": {},
   "outputs": [],
   "source": [
    "def plot_all_predictions(model, X, y, start=0, end=100):\n",
    "    predictions = model.predict(X)\n",
    "    wv_preds, temp_preds = postprocess_wave(predictions[:, 0]), postprocess_temp(predictions[:, 1])\n",
    "    wv_actuals, temp_actuals = postprocess_wave(y[:, 0]), postprocess_temp(y[:, 1])\n",
    "    df = pd.DataFrame(data ={'Wave Height Predictions': wv_preds, 'Wave Height Actuals': wv_actuals, 'Temp Predictions': temp_preds, 'Temp Actuals': temp_actuals})\n",
    "    plt.plot(df['Wave Height Predictions'][start:end], color='blue', label='Wave Height Predictions')\n",
    "    plt.plot(df['Wave Height Actuals'][start:end], color='red', label='Wave Height Actuals')\n",
    "    plt.plot(df['Temp Predictions'][start:end], color='green', label='Temp Predictions')\n",
    "    plt.plot(df['Temp Actuals'][start:end], color='orange', label='Temp Actuals')\n",
    "    return df[start:end]"
   ]
  },
  {
   "cell_type": "code",
   "execution_count": 2333,
   "metadata": {},
   "outputs": [
    {
     "name": "stdout",
     "output_type": "stream",
     "text": [
      "91/91 [==============================] - 0s 563us/step\n"
     ]
    },
    {
     "data": {
      "image/png": "[encoded data removed]",
      "text/plain": [
       "<Figure size 640x480 with 1 Axes>"
      ]
     },
     "metadata": {},
     "output_type": "display_data"
    }
   ],
   "source": [
    "post_processed_df = plot_all_predictions(model5, X3_test, y3_test)"
   ]
  },
  {
   "cell_type": "code",
   "execution_count": 2334,
   "metadata": {},
   "outputs": [
    {
     "name": "stdout",
     "output_type": "stream",
     "text": [
      "Model: \"sequential_205\"\n",
      "_________________________________________________________________\n",
      " Layer (type)                Output Shape              Param #   \n",
      "=================================================================\n",
      " lstm_118 (LSTM)             (None, 4, 32)             4992      \n",
      "                                                                 \n",
      " lstm_119 (LSTM)             (None, 64)                24832     \n",
      "                                                                 \n",
      " dense_408 (Dense)           (None, 8)                 520       \n",
      "                                                                 \n",
      " dense_409 (Dense)           (None, 2)                 18        \n",
      "                                                                 \n",
      "=================================================================\n",
      "Total params: 30362 (118.60 KB)\n",
      "Trainable params: 30362 (118.60 KB)\n",
      "Non-trainable params: 0 (0.00 Byte)\n",
      "_________________________________________________________________\n"
     ]
    }
   ],
   "source": [
    "model6 = Sequential()\n",
    "model6.add(InputLayer((4, 6)))\n",
    "model6.add(LSTM(32, return_sequences=True))\n",
    "model6.add(LSTM(64))\n",
    "model6.add(Dense(8, 'ReLU'))\n",
    "model6.add(Dense(2, 'linear'))\n",
    "model6.summary()"
   ]
  },
  {
   "cell_type": "code",
   "execution_count": 2335,
   "metadata": {},
   "outputs": [
    {
     "name": "stderr",
     "output_type": "stream",
     "text": [
      "WARNING:absl:At this time, the v2.11+ optimizer `tf.keras.optimizers.Adam` runs slowly on M1/M2 Macs, please use the legacy Keras optimizer instead, located at `tf.keras.optimizers.legacy.Adam`.\n",
      "WARNING:absl:There is a known slowdown when using v2.11+ Keras optimizers on M1/M2 Macs. Falling back to the legacy Keras optimizer, i.e., `tf.keras.optimizers.legacy.Adam`.\n"
     ]
    },
    {
     "name": "stdout",
     "output_type": "stream",
     "text": [
      "Epoch 1/10\n",
      "621/634 [============================>.] - ETA: 0s - loss: 0.5607 - root_mean_squared_error: 0.7488INFO:tensorflow:Assets written to: model5/assets\n"
     ]
    },
    {
     "name": "stderr",
     "output_type": "stream",
     "text": [
      "INFO:tensorflow:Assets written to: model5/assets\n"
     ]
    },
    {
     "name": "stdout",
     "output_type": "stream",
     "text": [
      "634/634 [==============================] - 12s 16ms/step - loss: 0.5564 - root_mean_squared_error: 0.7459 - val_loss: 0.2638 - val_root_mean_squared_error: 0.5136\n",
      "Epoch 2/10\n",
      "616/634 [============================>.] - ETA: 0s - loss: 0.2662 - root_mean_squared_error: 0.5159INFO:tensorflow:Assets written to: model5/assets\n"
     ]
    },
    {
     "name": "stderr",
     "output_type": "stream",
     "text": [
      "INFO:tensorflow:Assets written to: model5/assets\n"
     ]
    },
    {
     "name": "stdout",
     "output_type": "stream",
     "text": [
      "634/634 [==============================] - 4s 7ms/step - loss: 0.2640 - root_mean_squared_error: 0.5138 - val_loss: 0.1936 - val_root_mean_squared_error: 0.4400\n",
      "Epoch 3/10\n",
      "626/634 [============================>.] - ETA: 0s - loss: 0.2052 - root_mean_squared_error: 0.4530INFO:tensorflow:Assets written to: model5/assets\n"
     ]
    },
    {
     "name": "stderr",
     "output_type": "stream",
     "text": [
      "INFO:tensorflow:Assets written to: model5/assets\n"
     ]
    },
    {
     "name": "stdout",
     "output_type": "stream",
     "text": [
      "634/634 [==============================] - 5s 7ms/step - loss: 0.2054 - root_mean_squared_error: 0.4532 - val_loss: 0.1488 - val_root_mean_squared_error: 0.3858\n",
      "Epoch 4/10\n",
      "623/634 [============================>.] - ETA: 0s - loss: 0.1487 - root_mean_squared_error: 0.3857INFO:tensorflow:Assets written to: model5/assets\n"
     ]
    },
    {
     "name": "stderr",
     "output_type": "stream",
     "text": [
      "INFO:tensorflow:Assets written to: model5/assets\n"
     ]
    },
    {
     "name": "stdout",
     "output_type": "stream",
     "text": [
      "634/634 [==============================] - 4s 6ms/step - loss: 0.1491 - root_mean_squared_error: 0.3861 - val_loss: 0.1041 - val_root_mean_squared_error: 0.3226\n",
      "Epoch 5/10\n",
      "632/634 [============================>.] - ETA: 0s - loss: 0.1189 - root_mean_squared_error: 0.3449INFO:tensorflow:Assets written to: model5/assets\n"
     ]
    },
    {
     "name": "stderr",
     "output_type": "stream",
     "text": [
      "INFO:tensorflow:Assets written to: model5/assets\n"
     ]
    },
    {
     "name": "stdout",
     "output_type": "stream",
     "text": [
      "634/634 [==============================] - 4s 6ms/step - loss: 0.1188 - root_mean_squared_error: 0.3447 - val_loss: 0.0904 - val_root_mean_squared_error: 0.3006\n",
      "Epoch 6/10\n",
      "613/634 [============================>.] - ETA: 0s - loss: 0.1096 - root_mean_squared_error: 0.3311INFO:tensorflow:Assets written to: model5/assets\n"
     ]
    },
    {
     "name": "stderr",
     "output_type": "stream",
     "text": [
      "INFO:tensorflow:Assets written to: model5/assets\n"
     ]
    },
    {
     "name": "stdout",
     "output_type": "stream",
     "text": [
      "634/634 [==============================] - 4s 7ms/step - loss: 0.1093 - root_mean_squared_error: 0.3306 - val_loss: 0.0839 - val_root_mean_squared_error: 0.2897\n",
      "Epoch 7/10\n",
      "633/634 [============================>.] - ETA: 0s - loss: 0.1051 - root_mean_squared_error: 0.3241INFO:tensorflow:Assets written to: model5/assets\n"
     ]
    },
    {
     "name": "stderr",
     "output_type": "stream",
     "text": [
      "INFO:tensorflow:Assets written to: model5/assets\n"
     ]
    },
    {
     "name": "stdout",
     "output_type": "stream",
     "text": [
      "634/634 [==============================] - 4s 7ms/step - loss: 0.1051 - root_mean_squared_error: 0.3241 - val_loss: 0.0811 - val_root_mean_squared_error: 0.2848\n",
      "Epoch 8/10\n",
      "630/634 [============================>.] - ETA: 0s - loss: 0.1034 - root_mean_squared_error: 0.3215INFO:tensorflow:Assets written to: model5/assets\n"
     ]
    },
    {
     "name": "stderr",
     "output_type": "stream",
     "text": [
      "INFO:tensorflow:Assets written to: model5/assets\n"
     ]
    },
    {
     "name": "stdout",
     "output_type": "stream",
     "text": [
      "634/634 [==============================] - 4s 6ms/step - loss: 0.1032 - root_mean_squared_error: 0.3213 - val_loss: 0.0797 - val_root_mean_squared_error: 0.2823\n",
      "Epoch 9/10\n",
      "625/634 [============================>.] - ETA: 0s - loss: 0.1025 - root_mean_squared_error: 0.3201INFO:tensorflow:Assets written to: model5/assets\n"
     ]
    },
    {
     "name": "stderr",
     "output_type": "stream",
     "text": [
      "INFO:tensorflow:Assets written to: model5/assets\n"
     ]
    },
    {
     "name": "stdout",
     "output_type": "stream",
     "text": [
      "634/634 [==============================] - 4s 6ms/step - loss: 0.1024 - root_mean_squared_error: 0.3200 - val_loss: 0.0799 - val_root_mean_squared_error: 0.2827\n",
      "Epoch 10/10\n",
      "623/634 [============================>.] - ETA: 0s - loss: 0.1021 - root_mean_squared_error: 0.3196INFO:tensorflow:Assets written to: model5/assets\n"
     ]
    },
    {
     "name": "stderr",
     "output_type": "stream",
     "text": [
      "INFO:tensorflow:Assets written to: model5/assets\n"
     ]
    },
    {
     "name": "stdout",
     "output_type": "stream",
     "text": [
      "634/634 [==============================] - 4s 6ms/step - loss: 0.1017 - root_mean_squared_error: 0.3190 - val_loss: 0.0795 - val_root_mean_squared_error: 0.2819\n"
     ]
    },
    {
     "data": {
      "text/plain": [
       "<keras.src.callbacks.History at 0x677abf690>"
      ]
     },
     "execution_count": 2335,
     "metadata": {},
     "output_type": "execute_result"
    }
   ],
   "source": [
    "cp6 = ModelCheckpoint('model6/', SAVE_BEST_ONLY=True, verbose=0)\n",
    "model6.compile(loss=MeanSquaredError(), optimizer=Adam(learning_rate=0.0001), metrics=[RootMeanSquaredError()])\n",
    "model6.fit(X3_train, y3_train, epochs=10, validation_data=(X3_val, y3_val), callbacks=[cp5])"
   ]
  },
  {
   "cell_type": "code",
   "execution_count": 2336,
   "metadata": {},
   "outputs": [
    {
     "name": "stdout",
     "output_type": "stream",
     "text": [
      "91/91 [==============================] - 1s 899us/step\n"
     ]
    },
    {
     "data": {
      "image/png": "[encoded data removed]",
      "text/plain": [
       "<Figure size 640x480 with 1 Axes>"
      ]
     },
     "metadata": {},
     "output_type": "display_data"
    }
   ],
   "source": [
    "post_processed_df = plot_all_predictions(model6, X3_test, y3_test)"
   ]
  },
  {
   "cell_type": "code",
   "execution_count": 2337,
   "metadata": {},
   "outputs": [
    {
     "name": "stdout",
     "output_type": "stream",
     "text": [
      "Model: \"sequential_206\"\n",
      "_________________________________________________________________\n",
      " Layer (type)                Output Shape              Param #   \n",
      "=================================================================\n",
      " conv1d_56 (Conv1D)          (None, 3, 64)             832       \n",
      "                                                                 \n"
     ]
    },
    {
     "name": "stdout",
     "output_type": "stream",
     "text": [
      " flatten_99 (Flatten)        (None, 192)               0         \n",
      "                                                                 \n",
      " dense_410 (Dense)           (None, 8)                 1544      \n",
      "                                                                 \n",
      " dense_411 (Dense)           (None, 2)                 18        \n",
      "                                                                 \n",
      "=================================================================\n",
      "Total params: 2394 (9.35 KB)\n",
      "Trainable params: 2394 (9.35 KB)\n",
      "Non-trainable params: 0 (0.00 Byte)\n",
      "_________________________________________________________________\n"
     ]
    }
   ],
   "source": [
    "model7 = Sequential()\n",
    "model7.add(InputLayer((4, 6)))\n",
    "model7.add(Conv1D(64, kernel_size=2, activation='relu'))\n",
    "model7.add(Flatten())\n",
    "model7.add(Dense(8, 'ReLU'))\n",
    "model7.add(Dense(2, 'linear'))\n",
    "model7.summary()"
   ]
  },
  {
   "cell_type": "code",
   "execution_count": 2338,
   "metadata": {},
   "outputs": [
    {
     "name": "stderr",
     "output_type": "stream",
     "text": [
      "WARNING:absl:At this time, the v2.11+ optimizer `tf.keras.optimizers.Adam` runs slowly on M1/M2 Macs, please use the legacy Keras optimizer instead, located at `tf.keras.optimizers.legacy.Adam`.\n",
      "WARNING:absl:There is a known slowdown when using v2.11+ Keras optimizers on M1/M2 Macs. Falling back to the legacy Keras optimizer, i.e., `tf.keras.optimizers.legacy.Adam`.\n"
     ]
    },
    {
     "name": "stdout",
     "output_type": "stream",
     "text": [
      "Epoch 1/10\n",
      "568/634 [=========================>....] - ETA: 0s - loss: 0.3833 - root_mean_squared_error: 0.6191INFO:tensorflow:Assets written to: model5/assets\n"
     ]
    },
    {
     "name": "stderr",
     "output_type": "stream",
     "text": [
      "INFO:tensorflow:Assets written to: model5/assets\n"
     ]
    },
    {
     "name": "stdout",
     "output_type": "stream",
     "text": [
      "634/634 [==============================] - 1s 1ms/step - loss: 0.3651 - root_mean_squared_error: 0.6042 - val_loss: 0.1657 - val_root_mean_squared_error: 0.4071\n",
      "Epoch 2/10\n",
      "554/634 [=========================>....] - ETA: 0s - loss: 0.1570 - root_mean_squared_error: 0.3963INFO:tensorflow:Assets written to: model5/assets\n"
     ]
    },
    {
     "name": "stderr",
     "output_type": "stream",
     "text": [
      "INFO:tensorflow:Assets written to: model5/assets\n"
     ]
    },
    {
     "name": "stdout",
     "output_type": "stream",
     "text": [
      "634/634 [==============================] - 1s 902us/step - loss: 0.1550 - root_mean_squared_error: 0.3937 - val_loss: 0.1118 - val_root_mean_squared_error: 0.3344\n",
      "Epoch 3/10\n",
      "586/634 [==========================>...] - ETA: 0s - loss: 0.1266 - root_mean_squared_error: 0.3558INFO:tensorflow:Assets written to: model5/assets\n"
     ]
    },
    {
     "name": "stderr",
     "output_type": "stream",
     "text": [
      "INFO:tensorflow:Assets written to: model5/assets\n"
     ]
    },
    {
     "name": "stdout",
     "output_type": "stream",
     "text": [
      "634/634 [==============================] - 1s 1ms/step - loss: 0.1262 - root_mean_squared_error: 0.3552 - val_loss: 0.0960 - val_root_mean_squared_error: 0.3098\n",
      "Epoch 4/10\n",
      "598/634 [===========================>..] - ETA: 0s - loss: 0.1145 - root_mean_squared_error: 0.3384INFO:tensorflow:Assets written to: model5/assets\n"
     ]
    },
    {
     "name": "stderr",
     "output_type": "stream",
     "text": [
      "INFO:tensorflow:Assets written to: model5/assets\n"
     ]
    },
    {
     "name": "stdout",
     "output_type": "stream",
     "text": [
      "634/634 [==============================] - 1s 970us/step - loss: 0.1144 - root_mean_squared_error: 0.3382 - val_loss: 0.0874 - val_root_mean_squared_error: 0.2956\n",
      "Epoch 5/10\n",
      "556/634 [=========================>....] - ETA: 0s - loss: 0.1103 - root_mean_squared_error: 0.3322INFO:tensorflow:Assets written to: model5/assets\n"
     ]
    },
    {
     "name": "stderr",
     "output_type": "stream",
     "text": [
      "INFO:tensorflow:Assets written to: model5/assets\n"
     ]
    },
    {
     "name": "stdout",
     "output_type": "stream",
     "text": [
      "634/634 [==============================] - 1s 874us/step - loss: 0.1083 - root_mean_squared_error: 0.3292 - val_loss: 0.0840 - val_root_mean_squared_error: 0.2897\n",
      "Epoch 6/10\n",
      "548/634 [========================>.....] - ETA: 0s - loss: 0.1058 - root_mean_squared_error: 0.3252INFO:tensorflow:Assets written to: model5/assets\n"
     ]
    },
    {
     "name": "stderr",
     "output_type": "stream",
     "text": [
      "INFO:tensorflow:Assets written to: model5/assets\n"
     ]
    },
    {
     "name": "stdout",
     "output_type": "stream",
     "text": [
      "634/634 [==============================] - 1s 873us/step - loss: 0.1051 - root_mean_squared_error: 0.3242 - val_loss: 0.0824 - val_root_mean_squared_error: 0.2871\n",
      "Epoch 7/10\n",
      "547/634 [========================>.....] - ETA: 0s - loss: 0.1034 - root_mean_squared_error: 0.3216INFO:tensorflow:Assets written to: model5/assets\n"
     ]
    },
    {
     "name": "stderr",
     "output_type": "stream",
     "text": [
      "INFO:tensorflow:Assets written to: model5/assets\n"
     ]
    },
    {
     "name": "stdout",
     "output_type": "stream",
     "text": [
      "634/634 [==============================] - 1s 908us/step - loss: 0.1032 - root_mean_squared_error: 0.3212 - val_loss: 0.0805 - val_root_mean_squared_error: 0.2838\n",
      "Epoch 8/10\n",
      "629/634 [============================>.] - ETA: 0s - loss: 0.1023 - root_mean_squared_error: 0.3198INFO:tensorflow:Assets written to: model5/assets\n"
     ]
    },
    {
     "name": "stderr",
     "output_type": "stream",
     "text": [
      "INFO:tensorflow:Assets written to: model5/assets\n"
     ]
    },
    {
     "name": "stdout",
     "output_type": "stream",
     "text": [
      "634/634 [==============================] - 1s 1ms/step - loss: 0.1023 - root_mean_squared_error: 0.3198 - val_loss: 0.0807 - val_root_mean_squared_error: 0.2841\n",
      "Epoch 9/10\n",
      "584/634 [==========================>...] - ETA: 0s - loss: 0.1020 - root_mean_squared_error: 0.3193INFO:tensorflow:Assets written to: model5/assets\n"
     ]
    },
    {
     "name": "stderr",
     "output_type": "stream",
     "text": [
      "INFO:tensorflow:Assets written to: model5/assets\n"
     ]
    },
    {
     "name": "stdout",
     "output_type": "stream",
     "text": [
      "634/634 [==============================] - 1s 994us/step - loss: 0.1015 - root_mean_squared_error: 0.3186 - val_loss: 0.0794 - val_root_mean_squared_error: 0.2818\n",
      "Epoch 10/10\n",
      "629/634 [============================>.] - ETA: 0s - loss: 0.1012 - root_mean_squared_error: 0.3181INFO:tensorflow:Assets written to: model5/assets\n"
     ]
    },
    {
     "name": "stderr",
     "output_type": "stream",
     "text": [
      "INFO:tensorflow:Assets written to: model5/assets\n"
     ]
    },
    {
     "name": "stdout",
     "output_type": "stream",
     "text": [
      "634/634 [==============================] - 1s 920us/step - loss: 0.1009 - root_mean_squared_error: 0.3176 - val_loss: 0.0787 - val_root_mean_squared_error: 0.2806\n"
     ]
    },
    {
     "data": {
      "text/plain": [
       "<keras.src.callbacks.History at 0x6462f7690>"
      ]
     },
     "execution_count": 2338,
     "metadata": {},
     "output_type": "execute_result"
    }
   ],
   "source": [
    "cp7 = ModelCheckpoint('model7/', SAVE_BEST_ONLY=True, verbose=0)\n",
    "model7.compile(loss=MeanSquaredError(), optimizer=Adam(learning_rate=0.0001), metrics=[RootMeanSquaredError()])\n",
    "model7.fit(X3_train, y3_train, epochs=10, validation_data=(X3_val, y3_val), callbacks=[cp5])"
   ]
  },
  {
   "cell_type": "code",
   "execution_count": 2339,
   "metadata": {},
   "outputs": [
    {
     "name": "stdout",
     "output_type": "stream",
     "text": [
      "91/91 [==============================] - 0s 336us/step\n"
     ]
    },
    {
     "data": {
      "image/png": "[encoded data removed]",
      "text/plain": [
       "<Figure size 640x480 with 1 Axes>"
      ]
     },
     "metadata": {},
     "output_type": "display_data"
    }
   ],
   "source": [
    "post_processed_df = plot_all_predictions(model7, X3_test, y3_test)"
   ]
  }
 ],
 "metadata": {
  "kernelspec": {
   "display_name": "Python 3",
   "language": "python",
   "name": "python3"
  },
  "language_info": {
   "codemirror_mode": {
    "name": "ipython",
    "version": 3
   },
   "file_extension": ".py",
   "mimetype": "text/x-python",
   "name": "python",
   "nbconvert_exporter": "python",
   "pygments_lexer": "ipython3",
   "version": "3.11.6"
  }
 },
 "nbformat": 4,
 "nbformat_minor": 2
}
