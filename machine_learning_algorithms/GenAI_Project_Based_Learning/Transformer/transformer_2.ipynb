{
 "cells": [
  {
   "cell_type": "markdown",
   "metadata": {},
   "source": [
    "### Inspired by Andrej Karpathy: https://www.youtube.com/watch?v=kCc8FmEb1nY&t=793"
   ]
  },
  {
   "cell_type": "code",
   "execution_count": 141,
   "metadata": {},
   "outputs": [],
   "source": [
    "import torch\n",
    "from transformers import PreTrainedTokenizer\n"
   ]
  },
  {
   "cell_type": "markdown",
   "metadata": {},
   "source": [
    "### With this tutorial, we are going to create and train a transformer that can predict the next word in completions. I have generated several haikus in the haikus text file in this folder. These were generated using chatGPT 4. This is what we will use to train our transformer."
   ]
  },
  {
   "cell_type": "code",
   "execution_count": 142,
   "metadata": {},
   "outputs": [],
   "source": [
    "# Let's open our file\n",
    "with open('haikus.txt', encoding='utf-8') as f:\n",
    "    vocab = f.read().split()"
   ]
  },
  {
   "cell_type": "code",
   "execution_count": 143,
   "metadata": {},
   "outputs": [
    {
     "name": "stdout",
     "output_type": "stream",
     "text": [
      "['Whispers', 'of', 'the', 'breeze,', 'Leaves', 'rustle,', 'a', 'dance', 'begins—', \"Nature's\", 'symphony.', \"Winter's\", 'icy', 'touch,', 'Blankets', 'the', 'world', 'in', 'white', 'frost—', 'Silent', 'snow', 'descends.', 'Blossoms', 'in', 'springtime,', 'Petals', 'fall', 'like', 'fleeting', 'dreams—', 'Cherry', 'trees', 'blush', 'pink.', 'Mountain', 'peak', 'so', 'high,', 'Reaching', 'for', 'the', 'azure', 'sky—', 'Clouds', 'as', 'passing', 'thoughts.', 'Raindrops', 'on', 'the', 'pane,', \"Nature's\", 'tears,', 'a', 'rhythmic', 'dance—', \"Storm's\", 'melancholic', 'song.', 'Golden', 'sunset', 'hues,', 'Day', 'bids', 'its', 'soft,', 'sweet', 'adieu—', \"Night's\", 'embrace', 'begins.', 'Ripples', 'on', 'the', 'pond,', 'A', \"stone's\", 'tale', 'of', 'circles', 'wide—', 'Echoes', 'of', 'a', 'splash.', \"Owl's\", 'silent', 'flight,', 'Moonlit', 'wings,', 'shadows', 'casting—', \"Night's\", 'wise', 'guardian.', 'Cicadas', 'singing,', 'Heralding', 'the', 'end', 'of', 'day—', \"Summer's\", 'serenade.', 'Moonlit', 'path', 'ahead,', 'Silvery', 'glow', 'guides', 'the', 'way—', 'Nighttime’s', 'gentle', 'hand.', 'Mist', 'upon', 'the', 'moor,', 'Whispers', 'of', 'forgotten', 'tales—', 'Mysteries', 'unfold.', 'River', 'winding', 'through,', 'Lifeblood', 'of', 'the', 'verdant', 'land—', 'Stories', 'in', 'each', 'bend.', \"Desert's\", 'silent', 'call,', 'Endless', 'sands', 'and', 'burning', 'sun—', 'Mirages', 'beckon.', 'The', 'first', 'autumn', 'leaf,', 'Drifts', 'slowly', 'to', 'the', 'ground—', 'Season’s', 'first', 'goodbye.', 'Starlight', 'from', 'afar,', 'Ancient', 'tales', 'of', 'time', 'and', 'space—', 'Cosmic', 'dreams', 'alight.', 'Forest', 'canopy,', 'Shelter', 'from', 'the', 'world', 'outside—', 'Nature’s', 'sanctuary.', 'Ocean', 'waves', 'crash', 'in,', 'Eternal', 'rhythm', 'of', 'tide—', 'Nature’s', 'heartbeat', 'sounds.', 'Morning’s', 'first', 'sunbeam,', 'Golden', 'warmth', 'breaks', 'night’s', 'cold', 'grip—', 'Dawn’s', 'promise', 'ignites.']\n"
     ]
    }
   ],
   "source": [
    "print(vocab)"
   ]
  },
  {
   "cell_type": "code",
   "execution_count": 144,
   "metadata": {},
   "outputs": [
    {
     "name": "stdout",
     "output_type": "stream",
     "text": [
      "There are 204 words in the corpus\n",
      "There are 170 unique words\n"
     ]
    }
   ],
   "source": [
    "print(\"There are {0} words in the corpus\".format(len(vocab)))\n",
    "u_words = sorted(list(set(vocab)))\n",
    "vocab_size = len(u_words)\n",
    "print(\"There are {0} unique words\".format(len(u_words)))"
   ]
  },
  {
   "cell_type": "markdown",
   "metadata": {},
   "source": [
    "### Let's clean our data a bit to get rid of punctuation"
   ]
  },
  {
   "cell_type": "code",
   "execution_count": 145,
   "metadata": {},
   "outputs": [
    {
     "name": "stdout",
     "output_type": "stream",
     "text": [
      "['Whispers', 'of', 'the', 'breeze', 'Leaves', 'rustle', 'a', 'dance', 'begins—', \"Nature's\", 'symphony', \"Winter's\", 'icy', 'touch', 'Blankets', 'the', 'world', 'in', 'white', 'frost—', 'Silent', 'snow', 'descends', 'Blossoms', 'in', 'springtime', 'Petals', 'fall', 'like', 'fleeting', 'dreams—', 'Cherry', 'trees', 'blush', 'pink', 'Mountain', 'peak', 'so', 'high', 'Reaching', 'for', 'the', 'azure', 'sky—', 'Clouds', 'as', 'passing', 'thoughts', 'Raindrops', 'on', 'the', 'pane', \"Nature's\", 'tears', 'a', 'rhythmic', 'dance—', \"Storm's\", 'melancholic', 'song', 'Golden', 'sunset', 'hues', 'Day', 'bids', 'its', 'soft', 'sweet', 'adieu—', \"Night's\", 'embrace', 'begins', 'Ripples', 'on', 'the', 'pond', 'A', \"stone's\", 'tale', 'of', 'circles', 'wide—', 'Echoes', 'of', 'a', 'splash', \"Owl's\", 'silent', 'flight', 'Moonlit', 'wings', 'shadows', 'casting—', \"Night's\", 'wise', 'guardian', 'Cicadas', 'singing', 'Heralding', 'the', 'end', 'of', 'day—', \"Summer's\", 'serenade', 'Moonlit', 'path', 'ahead', 'Silvery', 'glow', 'guides', 'the', 'way—', 'Nighttime’s', 'gentle', 'hand', 'Mist', 'upon', 'the', 'moor', 'Whispers', 'of', 'forgotten', 'tales—', 'Mysteries', 'unfold', 'River', 'winding', 'through', 'Lifeblood', 'of', 'the', 'verdant', 'land—', 'Stories', 'in', 'each', 'bend', \"Desert's\", 'silent', 'call', 'Endless', 'sands', 'and', 'burning', 'sun—', 'Mirages', 'beckon', 'The', 'first', 'autumn', 'leaf', 'Drifts', 'slowly', 'to', 'the', 'ground—', 'Season’s', 'first', 'goodbye', 'Starlight', 'from', 'afar', 'Ancient', 'tales', 'of', 'time', 'and', 'space—', 'Cosmic', 'dreams', 'alight', 'Forest', 'canopy', 'Shelter', 'from', 'the', 'world', 'outside—', 'Nature’s', 'sanctuary', 'Ocean', 'waves', 'crash', 'in', 'Eternal', 'rhythm', 'of', 'tide—', 'Nature’s', 'heartbeat', 'sounds', 'Morning’s', 'first', 'sunbeam', 'Golden', 'warmth', 'breaks', 'night’s', 'cold', 'grip—', 'Dawn’s', 'promise', 'ignites']\n"
     ]
    }
   ],
   "source": [
    "clean_vocab = lambda v: [i.strip(\",.-\") for i in v]\n",
    "vocab = (clean_vocab(vocab))\n",
    "print(vocab)"
   ]
  },
  {
   "cell_type": "markdown",
   "metadata": {},
   "source": [
    "### Let's tokenize our dataset."
   ]
  },
  {
   "cell_type": "code",
   "execution_count": 146,
   "metadata": {},
   "outputs": [
    {
     "name": "stdout",
     "output_type": "stream",
     "text": [
      "[120, 4, 84, 7]\n",
      "['Whispers Leaves a dance']\n"
     ]
    }
   ],
   "source": [
    "wtoi = {w:i for i, w in enumerate(vocab)}\n",
    "itow = {i:w for i, w in enumerate(vocab)}\n",
    "encode = lambda s: [wtoi[w] for w in s.split()]\n",
    "decode = lambda e: [' '.join(itow[w] for w in e)]\n",
    "\n",
    "print(encode(\"Whispers Leaves a dance\"))\n",
    "print(decode(encode(\"Whispers Leaves a dance\")))"
   ]
  }
 ],
 "metadata": {
  "kernelspec": {
   "display_name": "Python 3",
   "language": "python",
   "name": "python3"
  },
  "language_info": {
   "codemirror_mode": {
    "name": "ipython",
    "version": 3
   },
   "file_extension": ".py",
   "mimetype": "text/x-python",
   "name": "python",
   "nbconvert_exporter": "python",
   "pygments_lexer": "ipython3",
   "version": "3.11.3"
  },
  "orig_nbformat": 4
 },
 "nbformat": 4,
 "nbformat_minor": 2
}
