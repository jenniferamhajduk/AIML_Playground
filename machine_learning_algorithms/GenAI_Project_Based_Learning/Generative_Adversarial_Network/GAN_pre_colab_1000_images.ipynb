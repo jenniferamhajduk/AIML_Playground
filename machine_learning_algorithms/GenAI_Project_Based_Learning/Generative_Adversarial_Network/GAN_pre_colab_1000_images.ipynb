{
 "cells": [
  {
   "attachments": {},
   "cell_type": "markdown",
   "metadata": {},
   "source": [
    "## Citations:\n",
    "## Images dataset: https://www.kaggle.com/datasets/bryanb/abstract-art-gallery - download the images and place them in the images folder\n",
    "## According to the submitter, the images were scraped from: https://github.com/cs-chan/ArtGAN/tree/master/WikiArt%20Dataset"
   ]
  },
  {
   "cell_type": "code",
   "execution_count": 14,
   "metadata": {},
   "outputs": [],
   "source": [
    "import numpy as np\n",
    "import tensorflow as tf\n",
    "import os\n",
    "from tensorflow.keras.layers import Dense, Flatten, Reshape\n",
    "from tensorflow.keras.models import Sequential\n",
    "from tensorflow.keras.preprocessing.image import load_img, img_to_array"
   ]
  },
  {
   "cell_type": "code",
   "execution_count": 15,
   "metadata": {},
   "outputs": [
    {
     "name": "stdout",
     "output_type": "stream",
     "text": [
      "(64, 3)\n"
     ]
    }
   ],
   "source": [
    "# We have a set of images to train our GAN on. They need to be normalized\n",
    "image_dir = './images'\n",
    "image_files = os.listdir(image_dir)\n",
    "images = []\n",
    "\n",
    "for image_file in image_files:\n",
    "    image_path = os.path.join(image_dir, image_file)\n",
    "    img = load_img(image_path, target_size=(64, 64))\n",
    "    img_array = img_to_array(img)\n",
    "    img_array /= 255.0\n",
    "    images.append(img_array)\n",
    "x_train = np.array(images)\n",
    "print(np.shape(img_array[0]))"
   ]
  },
  {
   "cell_type": "code",
   "execution_count": 16,
   "metadata": {},
   "outputs": [],
   "source": [
    "# We need a latent dimension to add noise to the generators data\n",
    "latent_dim = 100\n",
    "\n",
    "# Define the Generator\n",
    "generator = Sequential([\n",
    "    Dense(256, input_dim=latent_dim, activation='relu'),\n",
    "    Dense(512, activation='relu'),\n",
    "    Dense(3 * 64 * 64, activation='sigmoid'),\n",
    "    Reshape((64, 64, 3))\n",
    "    ]\n",
    ")\n",
    "\n",
    "# Define the Discriminator\n",
    "discriminator = Sequential([\n",
    "    Flatten(input_shape=(64, 64, 3)),\n",
    "    Dense(512, activation='relu'),\n",
    "    Dense(256, activation='relu'),\n",
    "    Dense(1, activation='sigmoid')\n",
    "    ]\n",
    ")"
   ]
  },
  {
   "cell_type": "code",
   "execution_count": 17,
   "metadata": {},
   "outputs": [],
   "source": [
    "#Compile the discriminator and then freeze it\n",
    "discriminator.compile(optimizer='adam', loss='binary_crossentropy', metrics=['accuracy'])\n",
    "discriminator.trainable = False"
   ]
  },
  {
   "cell_type": "code",
   "execution_count": 18,
   "metadata": {},
   "outputs": [],
   "source": [
    "# Build the generator/discriminator model and compile it\n",
    "gan = Sequential([generator, discriminator])\n",
    "gan.compile(optimizer='adam', loss='binary_crossentropy')"
   ]
  },
  {
   "cell_type": "code",
   "execution_count": 19,
   "metadata": {},
   "outputs": [],
   "source": [
    "# Set our hyperparameters\n",
    "batch_size = 128\n",
    "epochs = 100\n",
    "steps_per_epoch = len(x_train) // batch_size"
   ]
  },
  {
   "cell_type": "code",
   "execution_count": null,
   "metadata": {},
   "outputs": [],
   "source": [
    "for epoch in range(epochs):\n",
    "    for step in range(steps_per_epoch):\n",
    "        # Train discriminator on real images\n",
    "        real_images = x_train[np.random.randint(0, len(x_train), batch_size)] #Randomly select 'batch_size' number of images from the training data \n",
    "        real_labels = np.ones((batch_size, 1)) #There are real images, set the labels for each image to 1\n",
    "        d_loss_real = discriminator.train_on_batch(real_images, real_labels) # Training the discriminator so that it will be well equipped to handle the generator images\n",
    "\n",
    "        # Generate fake images and train discriminator on them\n",
    "        noise = np.random.normal(0, 1, (batch_size, latent_dim)) #We need some noise to create our fake data\n",
    "        fake_images = generator.predict(noise) #Generate fake images\n",
    "        fake_labels = np.zeros((batch_size, 1)) #Indicate that these are fake images by lableing each with a zero label\n",
    "        d_loss_fake = discriminator.train_on_batch(fake_images, fake_labels) #Training the discriminator on the fake images so that it wil know the difference\n",
    "\n",
    "        #Now we have trained the discriminator on real and fake images. Now we train our generator\n",
    "\n",
    "        # Train the generator (via the GAN model)\n",
    "        noise = np.random.normal(0, 1, (batch_size, latent_dim)) #Noise vectors for the generated samples\n",
    "        valid_labels = np.ones((batch_size, 1)) #Labels to make the fake data appear real to the discriminator\n",
    "        g_loss = gan.train_on_batch(noise, valid_labels) #Treain using the generator/discriminator model\n",
    "\n",
    "    print(f\"Epoch {epoch + 1}/{epochs}, D Loss Real: {d_loss_real[0]}, D Loss Fake: {d_loss_fake[0]}, G Loss: {g_loss}\")\n"
   ]
  }
 ],
 "metadata": {
  "kernelspec": {
   "display_name": "Python 3",
   "language": "python",
   "name": "python3"
  },
  "language_info": {
   "codemirror_mode": {
    "name": "ipython",
    "version": 3
   },
   "file_extension": ".py",
   "mimetype": "text/x-python",
   "name": "python",
   "nbconvert_exporter": "python",
   "pygments_lexer": "ipython3",
   "version": "3.11.3"
  },
  "orig_nbformat": 4
 },
 "nbformat": 4,
 "nbformat_minor": 2
}
