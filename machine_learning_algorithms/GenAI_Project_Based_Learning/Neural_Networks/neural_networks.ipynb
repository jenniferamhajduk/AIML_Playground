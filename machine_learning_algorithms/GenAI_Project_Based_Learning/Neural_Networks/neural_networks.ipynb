{
 "cells": [
  {
   "attachments": {},
   "cell_type": "markdown",
   "metadata": {},
   "source": [
    "## Let's honor the work of others with citations:\n",
    "\n",
    "## MLP Classifier:\n",
    "### @article{scikit-learn,\n",
    "### title={Scikit-learn: Machine Learning in {P}ython},\n",
    "### author={Pedregosa, F. and Varoquaux, G. and Gramfort, A. and Michel, V.\n",
    "###         and Thirion, B. and Grisel, O. and Blondel, M. and Prettenhofer, P.\n",
    "###         and Weiss, R. and Dubourg, V. and Vanderplas, J. and Passos, A. and\n",
    "###         Cournapeau, D. and Brucher, M. and Perrot, M. and Duchesnay, E.},\n",
    "### journal={Journal of Machine Learning Research},\n",
    "### volume={12},\n",
    "### pages={2825--2830},\n",
    "### year={2011}\n",
    "### }\n",
    "\n",
    "## Data from UCI machine learning repository:\n",
    "## Chicco,Davide and Jurman,Giuseppe. (2023). Sepsis Survival Minimal Clinical Records. UCI Machine Learning Repository. https://doi.org/10.24432/C53C8N.\n"
   ]
  },
  {
   "attachments": {},
   "cell_type": "markdown",
   "metadata": {},
   "source": [
    "### Let's take a look at Neural Networks - Multi-Layer Perceptrons\n",
    "### Perceptron is another work for neural network"
   ]
  },
  {
   "attachments": {},
   "cell_type": "markdown",
   "metadata": {},
   "source": [
    "### Here is some other terminology:\n",
    "### Input - The actual data that we want our model to learn from. This data should be clean appropriately and in the correct representation\n",
    "### Weights - The input to a neuron is multiplied by a weight value. The higher the weight, the higher the inpact of the input. Training a neural network involves finding the right weights to produce the most correct output\n",
    "### Bias - This value allows the input to have some value prior to producing output. Biases allow shifting of the input to adjust the overall threshold"
   ]
  },
  {
   "attachments": {},
   "cell_type": "markdown",
   "metadata": {},
   "source": [
    "### Let's talk about our neural network and how it works: https://scikit-learn.org/stable/modules/neural_networks_supervised.html\n",
    "### The MLP classifier uses backpropogation in order to train the model parameters (note how this is different from hyper parameters)\n",
    "### We implement the Softmax activation function for non-linearity\n"
   ]
  },
  {
   "attachments": {},
   "cell_type": "markdown",
   "metadata": {},
   "source": [
    "## Let's import our libraries"
   ]
  },
  {
   "cell_type": "code",
   "execution_count": 39,
   "metadata": {},
   "outputs": [],
   "source": [
    "import pandas as pd\n",
    "import numpy as np\n",
    "from matplotlib import pyplot  as plt\n",
    "from sklearn.neural_network import MLPClassifier"
   ]
  },
  {
   "attachments": {},
   "cell_type": "markdown",
   "metadata": {},
   "source": [
    "### Let's take a look at our data. The download from the UCI machine learning repository includes three files. We are going to work with the primary file as the training set, the study cohort as the test set and the validation cohort as the validation set "
   ]
  },
  {
   "attachments": {},
   "cell_type": "markdown",
   "metadata": {},
   "source": [
    "### Lets look at our data"
   ]
  },
  {
   "cell_type": "code",
   "execution_count": 40,
   "metadata": {},
   "outputs": [],
   "source": [
    "train_df = pd.read_csv(\"./s41598-020-73558-3_sepsis_survival_dataset/s41598-020-73558-3_sepsis_survival_primary_cohort.csv\")"
   ]
  },
  {
   "cell_type": "code",
   "execution_count": 41,
   "metadata": {},
   "outputs": [
    {
     "data": {
      "text/html": [
       "<div>\n",
       "<style scoped>\n",
       "    .dataframe tbody tr th:only-of-type {\n",
       "        vertical-align: middle;\n",
       "    }\n",
       "\n",
       "    .dataframe tbody tr th {\n",
       "        vertical-align: top;\n",
       "    }\n",
       "\n",
       "    .dataframe thead th {\n",
       "        text-align: right;\n",
       "    }\n",
       "</style>\n",
       "<table border=\"1\" class=\"dataframe\">\n",
       "  <thead>\n",
       "    <tr style=\"text-align: right;\">\n",
       "      <th></th>\n",
       "      <th>age_years</th>\n",
       "      <th>sex_0male_1female</th>\n",
       "      <th>episode_number</th>\n",
       "      <th>hospital_outcome_1alive_0dead</th>\n",
       "    </tr>\n",
       "  </thead>\n",
       "  <tbody>\n",
       "    <tr>\n",
       "      <th>0</th>\n",
       "      <td>21</td>\n",
       "      <td>1</td>\n",
       "      <td>1</td>\n",
       "      <td>1</td>\n",
       "    </tr>\n",
       "    <tr>\n",
       "      <th>1</th>\n",
       "      <td>20</td>\n",
       "      <td>1</td>\n",
       "      <td>1</td>\n",
       "      <td>1</td>\n",
       "    </tr>\n",
       "    <tr>\n",
       "      <th>2</th>\n",
       "      <td>21</td>\n",
       "      <td>1</td>\n",
       "      <td>1</td>\n",
       "      <td>1</td>\n",
       "    </tr>\n",
       "    <tr>\n",
       "      <th>3</th>\n",
       "      <td>77</td>\n",
       "      <td>0</td>\n",
       "      <td>1</td>\n",
       "      <td>1</td>\n",
       "    </tr>\n",
       "    <tr>\n",
       "      <th>4</th>\n",
       "      <td>72</td>\n",
       "      <td>0</td>\n",
       "      <td>1</td>\n",
       "      <td>1</td>\n",
       "    </tr>\n",
       "  </tbody>\n",
       "</table>\n",
       "</div>"
      ],
      "text/plain": [
       "   age_years  sex_0male_1female  episode_number  hospital_outcome_1alive_0dead\n",
       "0         21                  1               1                              1\n",
       "1         20                  1               1                              1\n",
       "2         21                  1               1                              1\n",
       "3         77                  0               1                              1\n",
       "4         72                  0               1                              1"
      ]
     },
     "execution_count": 41,
     "metadata": {},
     "output_type": "execute_result"
    }
   ],
   "source": [
    "train_df.head()"
   ]
  },
  {
   "attachments": {},
   "cell_type": "markdown",
   "metadata": {},
   "source": [
    "### Let's get some statistics about the training set and work with that set from here on"
   ]
  },
  {
   "cell_type": "code",
   "execution_count": 42,
   "metadata": {},
   "outputs": [
    {
     "data": {
      "text/html": [
       "<div>\n",
       "<style scoped>\n",
       "    .dataframe tbody tr th:only-of-type {\n",
       "        vertical-align: middle;\n",
       "    }\n",
       "\n",
       "    .dataframe tbody tr th {\n",
       "        vertical-align: top;\n",
       "    }\n",
       "\n",
       "    .dataframe thead th {\n",
       "        text-align: right;\n",
       "    }\n",
       "</style>\n",
       "<table border=\"1\" class=\"dataframe\">\n",
       "  <thead>\n",
       "    <tr style=\"text-align: right;\">\n",
       "      <th></th>\n",
       "      <th>age_years</th>\n",
       "      <th>sex_0male_1female</th>\n",
       "      <th>episode_number</th>\n",
       "      <th>hospital_outcome_1alive_0dead</th>\n",
       "    </tr>\n",
       "  </thead>\n",
       "  <tbody>\n",
       "    <tr>\n",
       "      <th>count</th>\n",
       "      <td>110204.000000</td>\n",
       "      <td>110204.000000</td>\n",
       "      <td>110204.000000</td>\n",
       "      <td>110204.000000</td>\n",
       "    </tr>\n",
       "    <tr>\n",
       "      <th>mean</th>\n",
       "      <td>62.735255</td>\n",
       "      <td>0.473948</td>\n",
       "      <td>1.349379</td>\n",
       "      <td>0.926455</td>\n",
       "    </tr>\n",
       "    <tr>\n",
       "      <th>std</th>\n",
       "      <td>24.126806</td>\n",
       "      <td>0.499323</td>\n",
       "      <td>0.751799</td>\n",
       "      <td>0.261031</td>\n",
       "    </tr>\n",
       "    <tr>\n",
       "      <th>min</th>\n",
       "      <td>0.000000</td>\n",
       "      <td>0.000000</td>\n",
       "      <td>1.000000</td>\n",
       "      <td>0.000000</td>\n",
       "    </tr>\n",
       "    <tr>\n",
       "      <th>25%</th>\n",
       "      <td>51.000000</td>\n",
       "      <td>0.000000</td>\n",
       "      <td>1.000000</td>\n",
       "      <td>1.000000</td>\n",
       "    </tr>\n",
       "    <tr>\n",
       "      <th>50%</th>\n",
       "      <td>68.000000</td>\n",
       "      <td>0.000000</td>\n",
       "      <td>1.000000</td>\n",
       "      <td>1.000000</td>\n",
       "    </tr>\n",
       "    <tr>\n",
       "      <th>75%</th>\n",
       "      <td>81.000000</td>\n",
       "      <td>1.000000</td>\n",
       "      <td>1.000000</td>\n",
       "      <td>1.000000</td>\n",
       "    </tr>\n",
       "    <tr>\n",
       "      <th>max</th>\n",
       "      <td>100.000000</td>\n",
       "      <td>1.000000</td>\n",
       "      <td>5.000000</td>\n",
       "      <td>1.000000</td>\n",
       "    </tr>\n",
       "  </tbody>\n",
       "</table>\n",
       "</div>"
      ],
      "text/plain": [
       "           age_years  sex_0male_1female  episode_number   \n",
       "count  110204.000000      110204.000000   110204.000000  \\\n",
       "mean       62.735255           0.473948        1.349379   \n",
       "std        24.126806           0.499323        0.751799   \n",
       "min         0.000000           0.000000        1.000000   \n",
       "25%        51.000000           0.000000        1.000000   \n",
       "50%        68.000000           0.000000        1.000000   \n",
       "75%        81.000000           1.000000        1.000000   \n",
       "max       100.000000           1.000000        5.000000   \n",
       "\n",
       "       hospital_outcome_1alive_0dead  \n",
       "count                  110204.000000  \n",
       "mean                        0.926455  \n",
       "std                         0.261031  \n",
       "min                         0.000000  \n",
       "25%                         1.000000  \n",
       "50%                         1.000000  \n",
       "75%                         1.000000  \n",
       "max                         1.000000  "
      ]
     },
     "execution_count": 42,
     "metadata": {},
     "output_type": "execute_result"
    }
   ],
   "source": [
    "train_df.describe()"
   ]
  },
  {
   "attachments": {},
   "cell_type": "markdown",
   "metadata": {},
   "source": [
    "### Age is an interesting column here"
   ]
  },
  {
   "cell_type": "code",
   "execution_count": 43,
   "metadata": {},
   "outputs": [
    {
     "data": {
      "image/png": "[encoded data removed]",
      "text/plain": [
       "<Figure size 640x480 with 1 Axes>"
      ]
     },
     "metadata": {},
     "output_type": "display_data"
    }
   ],
   "source": [
    "outcome_counts = train_df['hospital_outcome_1alive_0dead'].value_counts()\n",
    "plt.bar(outcome_counts.index, outcome_counts.values)\n",
    "plt.xlabel('Hospital Outcome (1: Alive, 0: Dead)')\n",
    "plt.ylabel('Count')\n",
    "plt.title('Hospital Outcome Distribution')\n",
    "plt.show()"
   ]
  },
  {
   "attachments": {},
   "cell_type": "markdown",
   "metadata": {},
   "source": [
    "### Cool, we now know what our data looks like\n",
    "### Let's start constructing out neural network\n",
    "### Let's choose a framework. There are several including, Tensorflow, PyTorch, and Scikit-Learn's classifiers\n",
    "### We will pick one with no GPU support as we are not using GPU for this problem, sklearn's MLP classifier"
   ]
  },
  {
   "attachments": {},
   "cell_type": "markdown",
   "metadata": {},
   "source": [
    "### We are going to use our entire training dataset file to train the data and test it using our test dataset file"
   ]
  },
  {
   "cell_type": "markdown",
   "metadata": {},
   "source": [
    "## Play with the classifier hyperparameters to see if the accuracy changes"
   ]
  },
  {
   "cell_type": "code",
   "execution_count": 44,
   "metadata": {},
   "outputs": [
    {
     "name": "stdout",
     "output_type": "stream",
     "text": [
      "Iteration 1, loss = 0.83324770\n",
      "Validation score: 0.767025\n",
      "Iteration 2, loss = 0.76457444\n",
      "Validation score: 0.767025\n",
      "Iteration 3, loss = 0.76646541\n",
      "Validation score: 0.767025\n",
      "Iteration 4, loss = 0.76440373\n",
      "Validation score: 0.767025\n",
      "Iteration 5, loss = 0.76582652\n",
      "Validation score: 0.767025\n",
      "Iteration 6, loss = 0.76579325\n",
      "Validation score: 0.767025\n",
      "Iteration 7, loss = 0.76464386\n",
      "Validation score: 0.767025\n",
      "Iteration 8, loss = 0.76457186\n",
      "Validation score: 0.767025\n",
      "Iteration 9, loss = 0.76380474\n",
      "Validation score: 0.767025\n",
      "Iteration 10, loss = 0.76441916\n",
      "Validation score: 0.767025\n",
      "Iteration 11, loss = 0.76296474\n",
      "Validation score: 0.767025\n",
      "Iteration 12, loss = 0.76103033\n",
      "Validation score: 0.767025\n",
      "Validation score did not improve more than tol=0.000100 for 10 consecutive epochs. Stopping.\n",
      "Accuracy on Test Data: 0.769581866356938\n"
     ]
    }
   ],
   "source": [
    "X_train = train_df[['age_years', 'sex_0male_1female', 'hospital_outcome_1alive_0dead']].values\n",
    "y_train = train_df['episode_number'].values\n",
    "mlp_classifier = MLPClassifier(hidden_layer_sizes=(100,), activation='relu', solver='adam', alpha=0.0001, batch_size=128, learning_rate_init=0.001, shuffle=True, max_iter=1000, tol=1e-4, warm_start=False, early_stopping=True, validation_fraction=0.2, beta_1=0.9, beta_2=0.999, epsilon=1e-8, max_fun=100, random_state=42, verbose=True)\n",
    "mlp_classifier.fit(X_train, y_train)\n",
    "accuracy = mlp_classifier.score(X_train, y_train)\n",
    "print(\"Accuracy on Test Data:\", accuracy)\n"
   ]
  }
 ],
 "metadata": {
  "kernelspec": {
   "display_name": "Python 3",
   "language": "python",
   "name": "python3"
  },
  "language_info": {
   "codemirror_mode": {
    "name": "ipython",
    "version": 3
   },
   "file_extension": ".py",
   "mimetype": "text/x-python",
   "name": "python",
   "nbconvert_exporter": "python",
   "pygments_lexer": "ipython3",
   "version": "3.11.3"
  },
  "orig_nbformat": 4
 },
 "nbformat": 4,
 "nbformat_minor": 2
}
