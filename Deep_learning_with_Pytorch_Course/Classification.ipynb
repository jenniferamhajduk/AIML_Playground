{
  "nbformat": 4,
  "nbformat_minor": 0,
  "metadata": {
    "colab": {
      "provenance": [],
      "gpuType": "V100",
      "authorship_tag": "ABX9TyNCICJKvsk9lnthrmgJeKEh",
      "include_colab_link": true
    },
    "kernelspec": {
      "name": "python3",
      "display_name": "Python 3"
    },
    "language_info": {
      "name": "python"
    },
    "accelerator": "GPU"
  },
  "cells": [
    {
      "cell_type": "markdown",
      "metadata": {
        "id": "view-in-github",
        "colab_type": "text"
      },
      "source": [
        "<a href=\"https://colab.research.google.com/github/jenniferamhajduk/AIML_Playground/blob/main/Classification.ipynb\" target=\"_parent\"><img src=\"https://colab.research.google.com/assets/colab-badge.svg\" alt=\"Open In Colab\"/></a>"
      ]
    },
    {
      "cell_type": "code",
      "execution_count": 1,
      "metadata": {
        "colab": {
          "base_uri": "https://localhost:8080/",
          "height": 35
        },
        "id": "egxQcdkntS_r",
        "outputId": "19fa2d93-f948-4a93-c73c-bdb2bd018526"
      },
      "outputs": [
        {
          "output_type": "execute_result",
          "data": {
            "text/plain": [
              "'2.1.0+cu121'"
            ],
            "application/vnd.google.colaboratory.intrinsic+json": {
              "type": "string"
            }
          },
          "metadata": {},
          "execution_count": 1
        }
      ],
      "source": [
        "import sklearn\n",
        "from sklearn.datasets import make_circles\n",
        "from sklearn.model_selection import train_test_split\n",
        "import pandas as pd\n",
        "import numpy as np\n",
        "import matplotlib.pyplot as plt\n",
        "import torch\n",
        "from torch import nn\n",
        "torch.__version__"
      ]
    },
    {
      "cell_type": "code",
      "source": [
        "device = \"cuda\" if torch.cuda.is_available else \"cpu\"\n",
        "device"
      ],
      "metadata": {
        "colab": {
          "base_uri": "https://localhost:8080/",
          "height": 35
        },
        "id": "2HDdNWvM828C",
        "outputId": "c7869a13-071a-4325-bb0b-ef7b26ad315b"
      },
      "execution_count": 2,
      "outputs": [
        {
          "output_type": "execute_result",
          "data": {
            "text/plain": [
              "'cuda'"
            ],
            "application/vnd.google.colaboratory.intrinsic+json": {
              "type": "string"
            }
          },
          "metadata": {},
          "execution_count": 2
        }
      ]
    },
    {
      "cell_type": "code",
      "source": [
        "n_samples = 1000\n",
        "X, y = make_circles(n_samples, noise=0.03, random_state=42)"
      ],
      "metadata": {
        "id": "QJbF3wPLvyzi"
      },
      "execution_count": 3,
      "outputs": []
    },
    {
      "cell_type": "code",
      "source": [
        "len(X), len(y)"
      ],
      "metadata": {
        "colab": {
          "base_uri": "https://localhost:8080/"
        },
        "id": "fMbQ7R0ov_sb",
        "outputId": "43132b6b-bf4e-4b72-9b94-5140d52f0424"
      },
      "execution_count": 4,
      "outputs": [
        {
          "output_type": "execute_result",
          "data": {
            "text/plain": [
              "(1000, 1000)"
            ]
          },
          "metadata": {},
          "execution_count": 4
        }
      ]
    },
    {
      "cell_type": "code",
      "source": [
        "X[:5]"
      ],
      "metadata": {
        "colab": {
          "base_uri": "https://localhost:8080/"
        },
        "id": "xC1JZBL0wHEP",
        "outputId": "35e8461b-e577-405b-bf39-edacb089c4ab"
      },
      "execution_count": 5,
      "outputs": [
        {
          "output_type": "execute_result",
          "data": {
            "text/plain": [
              "array([[ 0.75424625,  0.23148074],\n",
              "       [-0.75615888,  0.15325888],\n",
              "       [-0.81539193,  0.17328203],\n",
              "       [-0.39373073,  0.69288277],\n",
              "       [ 0.44220765, -0.89672343]])"
            ]
          },
          "metadata": {},
          "execution_count": 5
        }
      ]
    },
    {
      "cell_type": "code",
      "source": [
        "y[:5]"
      ],
      "metadata": {
        "colab": {
          "base_uri": "https://localhost:8080/"
        },
        "id": "7qCdo458wLvq",
        "outputId": "c154f268-1638-4020-fe38-ab6aa6f2bdcc"
      },
      "execution_count": 6,
      "outputs": [
        {
          "output_type": "execute_result",
          "data": {
            "text/plain": [
              "array([1, 1, 1, 1, 0])"
            ]
          },
          "metadata": {},
          "execution_count": 6
        }
      ]
    },
    {
      "cell_type": "code",
      "source": [
        "circles = pd.DataFrame({\"X1\": X[:,0], \"X2\": X[:,1], \"label\": y})"
      ],
      "metadata": {
        "id": "6MdOYaKAwOVN"
      },
      "execution_count": 7,
      "outputs": []
    },
    {
      "cell_type": "code",
      "source": [
        "circles"
      ],
      "metadata": {
        "colab": {
          "base_uri": "https://localhost:8080/",
          "height": 423
        },
        "id": "78Gn7kcxxFp_",
        "outputId": "7a809c8d-ee5f-4e94-d1a2-08b943f2d67a"
      },
      "execution_count": 8,
      "outputs": [
        {
          "output_type": "execute_result",
          "data": {
            "text/plain": [
              "           X1        X2  label\n",
              "0    0.754246  0.231481      1\n",
              "1   -0.756159  0.153259      1\n",
              "2   -0.815392  0.173282      1\n",
              "3   -0.393731  0.692883      1\n",
              "4    0.442208 -0.896723      0\n",
              "..        ...       ...    ...\n",
              "995  0.244054  0.944125      0\n",
              "996 -0.978655 -0.272373      0\n",
              "997 -0.136900 -0.810012      1\n",
              "998  0.670362 -0.767502      0\n",
              "999  0.281057  0.963824      0\n",
              "\n",
              "[1000 rows x 3 columns]"
            ],
            "text/html": [
              "\n",
              "  <div id=\"df-10e13c5c-0422-4eb0-b4cb-549830c7fff9\" class=\"colab-df-container\">\n",
              "    <div>\n",
              "<style scoped>\n",
              "    .dataframe tbody tr th:only-of-type {\n",
              "        vertical-align: middle;\n",
              "    }\n",
              "\n",
              "    .dataframe tbody tr th {\n",
              "        vertical-align: top;\n",
              "    }\n",
              "\n",
              "    .dataframe thead th {\n",
              "        text-align: right;\n",
              "    }\n",
              "</style>\n",
              "<table border=\"1\" class=\"dataframe\">\n",
              "  <thead>\n",
              "    <tr style=\"text-align: right;\">\n",
              "      <th></th>\n",
              "      <th>X1</th>\n",
              "      <th>X2</th>\n",
              "      <th>label</th>\n",
              "    </tr>\n",
              "  </thead>\n",
              "  <tbody>\n",
              "    <tr>\n",
              "      <th>0</th>\n",
              "      <td>0.754246</td>\n",
              "      <td>0.231481</td>\n",
              "      <td>1</td>\n",
              "    </tr>\n",
              "    <tr>\n",
              "      <th>1</th>\n",
              "      <td>-0.756159</td>\n",
              "      <td>0.153259</td>\n",
              "      <td>1</td>\n",
              "    </tr>\n",
              "    <tr>\n",
              "      <th>2</th>\n",
              "      <td>-0.815392</td>\n",
              "      <td>0.173282</td>\n",
              "      <td>1</td>\n",
              "    </tr>\n",
              "    <tr>\n",
              "      <th>3</th>\n",
              "      <td>-0.393731</td>\n",
              "      <td>0.692883</td>\n",
              "      <td>1</td>\n",
              "    </tr>\n",
              "    <tr>\n",
              "      <th>4</th>\n",
              "      <td>0.442208</td>\n",
              "      <td>-0.896723</td>\n",
              "      <td>0</td>\n",
              "    </tr>\n",
              "    <tr>\n",
              "      <th>...</th>\n",
              "      <td>...</td>\n",
              "      <td>...</td>\n",
              "      <td>...</td>\n",
              "    </tr>\n",
              "    <tr>\n",
              "      <th>995</th>\n",
              "      <td>0.244054</td>\n",
              "      <td>0.944125</td>\n",
              "      <td>0</td>\n",
              "    </tr>\n",
              "    <tr>\n",
              "      <th>996</th>\n",
              "      <td>-0.978655</td>\n",
              "      <td>-0.272373</td>\n",
              "      <td>0</td>\n",
              "    </tr>\n",
              "    <tr>\n",
              "      <th>997</th>\n",
              "      <td>-0.136900</td>\n",
              "      <td>-0.810012</td>\n",
              "      <td>1</td>\n",
              "    </tr>\n",
              "    <tr>\n",
              "      <th>998</th>\n",
              "      <td>0.670362</td>\n",
              "      <td>-0.767502</td>\n",
              "      <td>0</td>\n",
              "    </tr>\n",
              "    <tr>\n",
              "      <th>999</th>\n",
              "      <td>0.281057</td>\n",
              "      <td>0.963824</td>\n",
              "      <td>0</td>\n",
              "    </tr>\n",
              "  </tbody>\n",
              "</table>\n",
              "<p>1000 rows × 3 columns</p>\n",
              "</div>\n",
              "    <div class=\"colab-df-buttons\">\n",
              "\n",
              "  <div class=\"colab-df-container\">\n",
              "    <button class=\"colab-df-convert\" onclick=\"convertToInteractive('df-10e13c5c-0422-4eb0-b4cb-549830c7fff9')\"\n",
              "            title=\"Convert this dataframe to an interactive table.\"\n",
              "            style=\"display:none;\">\n",
              "\n",
              "  <svg xmlns=\"http://www.w3.org/2000/svg\" height=\"24px\" viewBox=\"0 -960 960 960\">\n",
              "    <path d=\"M120-120v-720h720v720H120Zm60-500h600v-160H180v160Zm220 220h160v-160H400v160Zm0 220h160v-160H400v160ZM180-400h160v-160H180v160Zm440 0h160v-160H620v160ZM180-180h160v-160H180v160Zm440 0h160v-160H620v160Z\"/>\n",
              "  </svg>\n",
              "    </button>\n",
              "\n",
              "  <style>\n",
              "    .colab-df-container {\n",
              "      display:flex;\n",
              "      gap: 12px;\n",
              "    }\n",
              "\n",
              "    .colab-df-convert {\n",
              "      background-color: #E8F0FE;\n",
              "      border: none;\n",
              "      border-radius: 50%;\n",
              "      cursor: pointer;\n",
              "      display: none;\n",
              "      fill: #1967D2;\n",
              "      height: 32px;\n",
              "      padding: 0 0 0 0;\n",
              "      width: 32px;\n",
              "    }\n",
              "\n",
              "    .colab-df-convert:hover {\n",
              "      background-color: #E2EBFA;\n",
              "      box-shadow: 0px 1px 2px rgba(60, 64, 67, 0.3), 0px 1px 3px 1px rgba(60, 64, 67, 0.15);\n",
              "      fill: #174EA6;\n",
              "    }\n",
              "\n",
              "    .colab-df-buttons div {\n",
              "      margin-bottom: 4px;\n",
              "    }\n",
              "\n",
              "    [theme=dark] .colab-df-convert {\n",
              "      background-color: #3B4455;\n",
              "      fill: #D2E3FC;\n",
              "    }\n",
              "\n",
              "    [theme=dark] .colab-df-convert:hover {\n",
              "      background-color: #434B5C;\n",
              "      box-shadow: 0px 1px 3px 1px rgba(0, 0, 0, 0.15);\n",
              "      filter: drop-shadow(0px 1px 2px rgba(0, 0, 0, 0.3));\n",
              "      fill: #FFFFFF;\n",
              "    }\n",
              "  </style>\n",
              "\n",
              "    <script>\n",
              "      const buttonEl =\n",
              "        document.querySelector('#df-10e13c5c-0422-4eb0-b4cb-549830c7fff9 button.colab-df-convert');\n",
              "      buttonEl.style.display =\n",
              "        google.colab.kernel.accessAllowed ? 'block' : 'none';\n",
              "\n",
              "      async function convertToInteractive(key) {\n",
              "        const element = document.querySelector('#df-10e13c5c-0422-4eb0-b4cb-549830c7fff9');\n",
              "        const dataTable =\n",
              "          await google.colab.kernel.invokeFunction('convertToInteractive',\n",
              "                                                    [key], {});\n",
              "        if (!dataTable) return;\n",
              "\n",
              "        const docLinkHtml = 'Like what you see? Visit the ' +\n",
              "          '<a target=\"_blank\" href=https://colab.research.google.com/notebooks/data_table.ipynb>data table notebook</a>'\n",
              "          + ' to learn more about interactive tables.';\n",
              "        element.innerHTML = '';\n",
              "        dataTable['output_type'] = 'display_data';\n",
              "        await google.colab.output.renderOutput(dataTable, element);\n",
              "        const docLink = document.createElement('div');\n",
              "        docLink.innerHTML = docLinkHtml;\n",
              "        element.appendChild(docLink);\n",
              "      }\n",
              "    </script>\n",
              "  </div>\n",
              "\n",
              "\n",
              "<div id=\"df-5582ef18-1a2d-4169-acf8-dd30b4f9bdff\">\n",
              "  <button class=\"colab-df-quickchart\" onclick=\"quickchart('df-5582ef18-1a2d-4169-acf8-dd30b4f9bdff')\"\n",
              "            title=\"Suggest charts\"\n",
              "            style=\"display:none;\">\n",
              "\n",
              "<svg xmlns=\"http://www.w3.org/2000/svg\" height=\"24px\"viewBox=\"0 0 24 24\"\n",
              "     width=\"24px\">\n",
              "    <g>\n",
              "        <path d=\"M19 3H5c-1.1 0-2 .9-2 2v14c0 1.1.9 2 2 2h14c1.1 0 2-.9 2-2V5c0-1.1-.9-2-2-2zM9 17H7v-7h2v7zm4 0h-2V7h2v10zm4 0h-2v-4h2v4z\"/>\n",
              "    </g>\n",
              "</svg>\n",
              "  </button>\n",
              "\n",
              "<style>\n",
              "  .colab-df-quickchart {\n",
              "      --bg-color: #E8F0FE;\n",
              "      --fill-color: #1967D2;\n",
              "      --hover-bg-color: #E2EBFA;\n",
              "      --hover-fill-color: #174EA6;\n",
              "      --disabled-fill-color: #AAA;\n",
              "      --disabled-bg-color: #DDD;\n",
              "  }\n",
              "\n",
              "  [theme=dark] .colab-df-quickchart {\n",
              "      --bg-color: #3B4455;\n",
              "      --fill-color: #D2E3FC;\n",
              "      --hover-bg-color: #434B5C;\n",
              "      --hover-fill-color: #FFFFFF;\n",
              "      --disabled-bg-color: #3B4455;\n",
              "      --disabled-fill-color: #666;\n",
              "  }\n",
              "\n",
              "  .colab-df-quickchart {\n",
              "    background-color: var(--bg-color);\n",
              "    border: none;\n",
              "    border-radius: 50%;\n",
              "    cursor: pointer;\n",
              "    display: none;\n",
              "    fill: var(--fill-color);\n",
              "    height: 32px;\n",
              "    padding: 0;\n",
              "    width: 32px;\n",
              "  }\n",
              "\n",
              "  .colab-df-quickchart:hover {\n",
              "    background-color: var(--hover-bg-color);\n",
              "    box-shadow: 0 1px 2px rgba(60, 64, 67, 0.3), 0 1px 3px 1px rgba(60, 64, 67, 0.15);\n",
              "    fill: var(--button-hover-fill-color);\n",
              "  }\n",
              "\n",
              "  .colab-df-quickchart-complete:disabled,\n",
              "  .colab-df-quickchart-complete:disabled:hover {\n",
              "    background-color: var(--disabled-bg-color);\n",
              "    fill: var(--disabled-fill-color);\n",
              "    box-shadow: none;\n",
              "  }\n",
              "\n",
              "  .colab-df-spinner {\n",
              "    border: 2px solid var(--fill-color);\n",
              "    border-color: transparent;\n",
              "    border-bottom-color: var(--fill-color);\n",
              "    animation:\n",
              "      spin 1s steps(1) infinite;\n",
              "  }\n",
              "\n",
              "  @keyframes spin {\n",
              "    0% {\n",
              "      border-color: transparent;\n",
              "      border-bottom-color: var(--fill-color);\n",
              "      border-left-color: var(--fill-color);\n",
              "    }\n",
              "    20% {\n",
              "      border-color: transparent;\n",
              "      border-left-color: var(--fill-color);\n",
              "      border-top-color: var(--fill-color);\n",
              "    }\n",
              "    30% {\n",
              "      border-color: transparent;\n",
              "      border-left-color: var(--fill-color);\n",
              "      border-top-color: var(--fill-color);\n",
              "      border-right-color: var(--fill-color);\n",
              "    }\n",
              "    40% {\n",
              "      border-color: transparent;\n",
              "      border-right-color: var(--fill-color);\n",
              "      border-top-color: var(--fill-color);\n",
              "    }\n",
              "    60% {\n",
              "      border-color: transparent;\n",
              "      border-right-color: var(--fill-color);\n",
              "    }\n",
              "    80% {\n",
              "      border-color: transparent;\n",
              "      border-right-color: var(--fill-color);\n",
              "      border-bottom-color: var(--fill-color);\n",
              "    }\n",
              "    90% {\n",
              "      border-color: transparent;\n",
              "      border-bottom-color: var(--fill-color);\n",
              "    }\n",
              "  }\n",
              "</style>\n",
              "\n",
              "  <script>\n",
              "    async function quickchart(key) {\n",
              "      const quickchartButtonEl =\n",
              "        document.querySelector('#' + key + ' button');\n",
              "      quickchartButtonEl.disabled = true;  // To prevent multiple clicks.\n",
              "      quickchartButtonEl.classList.add('colab-df-spinner');\n",
              "      try {\n",
              "        const charts = await google.colab.kernel.invokeFunction(\n",
              "            'suggestCharts', [key], {});\n",
              "      } catch (error) {\n",
              "        console.error('Error during call to suggestCharts:', error);\n",
              "      }\n",
              "      quickchartButtonEl.classList.remove('colab-df-spinner');\n",
              "      quickchartButtonEl.classList.add('colab-df-quickchart-complete');\n",
              "    }\n",
              "    (() => {\n",
              "      let quickchartButtonEl =\n",
              "        document.querySelector('#df-5582ef18-1a2d-4169-acf8-dd30b4f9bdff button');\n",
              "      quickchartButtonEl.style.display =\n",
              "        google.colab.kernel.accessAllowed ? 'block' : 'none';\n",
              "    })();\n",
              "  </script>\n",
              "</div>\n",
              "\n",
              "  <div id=\"id_cca674cd-1aa1-4ef6-93c0-cd9412fe5458\">\n",
              "    <style>\n",
              "      .colab-df-generate {\n",
              "        background-color: #E8F0FE;\n",
              "        border: none;\n",
              "        border-radius: 50%;\n",
              "        cursor: pointer;\n",
              "        display: none;\n",
              "        fill: #1967D2;\n",
              "        height: 32px;\n",
              "        padding: 0 0 0 0;\n",
              "        width: 32px;\n",
              "      }\n",
              "\n",
              "      .colab-df-generate:hover {\n",
              "        background-color: #E2EBFA;\n",
              "        box-shadow: 0px 1px 2px rgba(60, 64, 67, 0.3), 0px 1px 3px 1px rgba(60, 64, 67, 0.15);\n",
              "        fill: #174EA6;\n",
              "      }\n",
              "\n",
              "      [theme=dark] .colab-df-generate {\n",
              "        background-color: #3B4455;\n",
              "        fill: #D2E3FC;\n",
              "      }\n",
              "\n",
              "      [theme=dark] .colab-df-generate:hover {\n",
              "        background-color: #434B5C;\n",
              "        box-shadow: 0px 1px 3px 1px rgba(0, 0, 0, 0.15);\n",
              "        filter: drop-shadow(0px 1px 2px rgba(0, 0, 0, 0.3));\n",
              "        fill: #FFFFFF;\n",
              "      }\n",
              "    </style>\n",
              "    <button class=\"colab-df-generate\" onclick=\"generateWithVariable('circles')\"\n",
              "            title=\"Generate code using this dataframe.\"\n",
              "            style=\"display:none;\">\n",
              "\n",
              "  <svg xmlns=\"http://www.w3.org/2000/svg\" height=\"24px\"viewBox=\"0 0 24 24\"\n",
              "       width=\"24px\">\n",
              "    <path d=\"M7,19H8.4L18.45,9,17,7.55,7,17.6ZM5,21V16.75L18.45,3.32a2,2,0,0,1,2.83,0l1.4,1.43a1.91,1.91,0,0,1,.58,1.4,1.91,1.91,0,0,1-.58,1.4L9.25,21ZM18.45,9,17,7.55Zm-12,3A5.31,5.31,0,0,0,4.9,8.1,5.31,5.31,0,0,0,1,6.5,5.31,5.31,0,0,0,4.9,4.9,5.31,5.31,0,0,0,6.5,1,5.31,5.31,0,0,0,8.1,4.9,5.31,5.31,0,0,0,12,6.5,5.46,5.46,0,0,0,6.5,12Z\"/>\n",
              "  </svg>\n",
              "    </button>\n",
              "    <script>\n",
              "      (() => {\n",
              "      const buttonEl =\n",
              "        document.querySelector('#id_cca674cd-1aa1-4ef6-93c0-cd9412fe5458 button.colab-df-generate');\n",
              "      buttonEl.style.display =\n",
              "        google.colab.kernel.accessAllowed ? 'block' : 'none';\n",
              "\n",
              "      buttonEl.onclick = () => {\n",
              "        google.colab.notebook.generateWithVariable('circles');\n",
              "      }\n",
              "      })();\n",
              "    </script>\n",
              "  </div>\n",
              "\n",
              "    </div>\n",
              "  </div>\n"
            ],
            "application/vnd.google.colaboratory.intrinsic+json": {
              "type": "dataframe",
              "variable_name": "circles",
              "summary": "{\n  \"name\": \"circles\",\n  \"rows\": 1000,\n  \"fields\": [\n    {\n      \"column\": \"X1\",\n      \"properties\": {\n        \"dtype\": \"number\",\n        \"std\": 0.6398365674574613,\n        \"min\": -1.0595024599098635,\n        \"max\": 1.0337117525463373,\n        \"samples\": [\n          -0.3751930206933384,\n          0.015380346701456493,\n          -0.7027835978832848\n        ],\n        \"num_unique_values\": 1000,\n        \"semantic_type\": \"\",\n        \"description\": \"\"\n      }\n    },\n    {\n      \"column\": \"X2\",\n      \"properties\": {\n        \"dtype\": \"number\",\n        \"std\": 0.6411559581015384,\n        \"min\": -1.0677683182718436,\n        \"max\": 1.0360036756154805,\n        \"samples\": [\n          0.6826597225888621,\n          0.9600260220697324,\n          -0.3147169925147762\n        ],\n        \"num_unique_values\": 1000,\n        \"semantic_type\": \"\",\n        \"description\": \"\"\n      }\n    },\n    {\n      \"column\": \"label\",\n      \"properties\": {\n        \"dtype\": \"number\",\n        \"std\": 0,\n        \"min\": 0,\n        \"max\": 1,\n        \"samples\": [\n          0,\n          1\n        ],\n        \"num_unique_values\": 2,\n        \"semantic_type\": \"\",\n        \"description\": \"\"\n      }\n    }\n  ]\n}"
            }
          },
          "metadata": {},
          "execution_count": 8
        }
      ]
    },
    {
      "cell_type": "code",
      "source": [
        "plt.scatter(x=X[:,0], y=X[:,1], c=y, cmap=plt.cm.RdYlBu)"
      ],
      "metadata": {
        "colab": {
          "base_uri": "https://localhost:8080/",
          "height": 447
        },
        "id": "qYHL3IPFxGjo",
        "outputId": "df894cb9-43cc-49ea-9616-642d5a7299a3"
      },
      "execution_count": 9,
      "outputs": [
        {
          "output_type": "execute_result",
          "data": {
            "text/plain": [
              "<matplotlib.collections.PathCollection at 0x7c57f299cd60>"
            ]
          },
          "metadata": {},
          "execution_count": 9
        },
        {
          "output_type": "display_data",
          "data": {
            "text/plain": [
              "<Figure size 640x480 with 1 Axes>"
            ],
            "image/png": "[encoded data removed]"
          },
          "metadata": {}
        }
      ]
    },
    {
      "cell_type": "code",
      "source": [
        "X.shape"
      ],
      "metadata": {
        "colab": {
          "base_uri": "https://localhost:8080/"
        },
        "id": "V_9xGuB4xu14",
        "outputId": "897f4d21-fa11-43a7-8963-f7212b21f902"
      },
      "execution_count": 10,
      "outputs": [
        {
          "output_type": "execute_result",
          "data": {
            "text/plain": [
              "(1000, 2)"
            ]
          },
          "metadata": {},
          "execution_count": 10
        }
      ]
    },
    {
      "cell_type": "code",
      "source": [
        "y.shape"
      ],
      "metadata": {
        "colab": {
          "base_uri": "https://localhost:8080/"
        },
        "id": "usp7g0L3ykTm",
        "outputId": "7898942d-5940-4945-d7dc-77d7b88ae6a6"
      },
      "execution_count": 11,
      "outputs": [
        {
          "output_type": "execute_result",
          "data": {
            "text/plain": [
              "(1000,)"
            ]
          },
          "metadata": {},
          "execution_count": 11
        }
      ]
    },
    {
      "cell_type": "code",
      "source": [
        "X = torch.from_numpy(X).type(torch.float)\n",
        "y = torch.from_numpy(y).type(torch.float)"
      ],
      "metadata": {
        "id": "FeiAkfV_ylS_"
      },
      "execution_count": 12,
      "outputs": []
    },
    {
      "cell_type": "code",
      "source": [
        "X[:5], y[:5]"
      ],
      "metadata": {
        "colab": {
          "base_uri": "https://localhost:8080/"
        },
        "id": "vGMzoFVV073i",
        "outputId": "9079b0c0-ff09-4aef-cb4b-a562956a5cc5"
      },
      "execution_count": 13,
      "outputs": [
        {
          "output_type": "execute_result",
          "data": {
            "text/plain": [
              "(tensor([[ 0.7542,  0.2315],\n",
              "         [-0.7562,  0.1533],\n",
              "         [-0.8154,  0.1733],\n",
              "         [-0.3937,  0.6929],\n",
              "         [ 0.4422, -0.8967]]),\n",
              " tensor([1., 1., 1., 1., 0.]))"
            ]
          },
          "metadata": {},
          "execution_count": 13
        }
      ]
    },
    {
      "cell_type": "code",
      "source": [
        "X_train, X_test, y_train, y_test = train_test_split(X, y, test_size = 0.2, random_state=42)"
      ],
      "metadata": {
        "id": "dg7XI_Yo1G45"
      },
      "execution_count": 14,
      "outputs": []
    },
    {
      "cell_type": "code",
      "source": [
        "X_train.to(device)\n",
        "X_test.to(device)\n",
        "y_train.to(device)\n",
        "y_test.to(device)\n",
        "X.to(device)\n",
        "y.to(device)"
      ],
      "metadata": {
        "colab": {
          "base_uri": "https://localhost:8080/"
        },
        "id": "VFS81QN59jtQ",
        "outputId": "a64232f2-0470-4a3a-89dd-aedef71cad9e"
      },
      "execution_count": 15,
      "outputs": [
        {
          "output_type": "execute_result",
          "data": {
            "text/plain": [
              "tensor([1., 1., 1., 1., 0., 1., 1., 1., 1., 0., 1., 0., 1., 1., 1., 1., 0., 1.,\n",
              "        1., 0., 1., 0., 0., 1., 0., 0., 0., 1., 1., 1., 0., 0., 1., 0., 0., 0.,\n",
              "        1., 1., 1., 0., 0., 0., 0., 1., 0., 0., 1., 1., 0., 1., 1., 1., 0., 1.,\n",
              "        0., 0., 1., 0., 0., 1., 0., 0., 1., 0., 1., 1., 1., 1., 0., 1., 0., 0.,\n",
              "        1., 1., 0., 0., 1., 0., 1., 0., 1., 0., 0., 0., 0., 1., 1., 1., 1., 0.,\n",
              "        0., 0., 1., 0., 1., 0., 1., 0., 0., 1., 1., 0., 1., 0., 1., 1., 1., 1.,\n",
              "        0., 1., 1., 1., 1., 1., 0., 0., 0., 1., 1., 0., 1., 0., 1., 0., 0., 1.,\n",
              "        1., 0., 1., 1., 1., 1., 0., 1., 1., 0., 0., 0., 0., 0., 0., 0., 1., 0.,\n",
              "        1., 1., 1., 0., 1., 0., 1., 0., 1., 0., 1., 0., 0., 1., 0., 1., 1., 1.,\n",
              "        1., 1., 1., 1., 0., 1., 0., 0., 0., 0., 0., 1., 0., 0., 0., 0., 1., 1.,\n",
              "        0., 1., 0., 1., 1., 0., 0., 0., 1., 1., 1., 1., 1., 0., 0., 0., 0., 0.,\n",
              "        1., 0., 0., 1., 1., 1., 1., 1., 0., 1., 0., 1., 0., 0., 1., 1., 1., 0.,\n",
              "        1., 0., 1., 1., 0., 1., 1., 0., 1., 0., 1., 0., 1., 1., 0., 1., 0., 1.,\n",
              "        0., 0., 0., 1., 0., 0., 0., 0., 1., 1., 0., 0., 0., 0., 0., 0., 0., 1.,\n",
              "        1., 1., 0., 0., 1., 1., 1., 0., 1., 0., 0., 0., 0., 1., 1., 0., 1., 0.,\n",
              "        0., 0., 1., 0., 1., 0., 0., 1., 0., 1., 1., 1., 0., 0., 0., 1., 0., 0.,\n",
              "        0., 1., 1., 1., 1., 0., 0., 0., 1., 0., 0., 0., 1., 0., 0., 0., 1., 1.,\n",
              "        0., 1., 1., 1., 1., 1., 1., 1., 0., 0., 0., 0., 1., 0., 0., 0., 0., 1.,\n",
              "        1., 1., 0., 0., 1., 0., 1., 0., 1., 1., 0., 0., 1., 1., 1., 1., 0., 0.,\n",
              "        0., 0., 0., 0., 1., 1., 0., 1., 0., 0., 1., 0., 0., 0., 0., 0., 0., 0.,\n",
              "        0., 1., 0., 0., 0., 0., 1., 0., 0., 1., 0., 1., 0., 0., 0., 1., 0., 0.,\n",
              "        1., 1., 0., 0., 1., 0., 0., 1., 1., 0., 1., 1., 0., 0., 1., 0., 1., 0.,\n",
              "        0., 0., 1., 1., 0., 0., 1., 1., 1., 1., 1., 0., 0., 1., 1., 1., 1., 0.,\n",
              "        1., 1., 1., 1., 1., 0., 0., 1., 0., 1., 0., 0., 0., 0., 1., 0., 0., 0.,\n",
              "        0., 0., 0., 0., 0., 0., 1., 1., 0., 1., 1., 1., 1., 1., 1., 0., 1., 1.,\n",
              "        1., 1., 0., 0., 0., 1., 1., 1., 0., 0., 0., 0., 1., 1., 0., 0., 0., 0.,\n",
              "        1., 0., 0., 0., 1., 0., 0., 1., 1., 1., 1., 1., 1., 0., 0., 0., 1., 0.,\n",
              "        0., 0., 0., 0., 1., 1., 1., 0., 0., 0., 0., 0., 1., 1., 1., 0., 0., 1.,\n",
              "        1., 1., 1., 0., 1., 1., 0., 1., 0., 0., 0., 1., 0., 0., 1., 0., 0., 1.,\n",
              "        1., 0., 0., 1., 1., 0., 1., 0., 1., 0., 1., 0., 1., 0., 0., 0., 1., 0.,\n",
              "        0., 0., 0., 0., 0., 1., 1., 1., 1., 0., 0., 0., 1., 0., 1., 1., 0., 0.,\n",
              "        0., 0., 0., 1., 1., 1., 0., 0., 1., 0., 0., 1., 0., 0., 1., 0., 0., 1.,\n",
              "        0., 0., 0., 1., 0., 0., 1., 1., 1., 0., 1., 1., 0., 0., 0., 1., 1., 1.,\n",
              "        1., 0., 0., 1., 1., 1., 0., 0., 0., 0., 1., 1., 0., 0., 1., 1., 0., 0.,\n",
              "        1., 1., 1., 1., 1., 1., 1., 0., 1., 0., 1., 0., 0., 1., 0., 1., 1., 1.,\n",
              "        1., 0., 0., 1., 1., 0., 0., 1., 0., 1., 0., 0., 0., 1., 0., 0., 1., 1.,\n",
              "        1., 1., 0., 1., 1., 1., 1., 1., 1., 1., 0., 1., 0., 1., 1., 1., 0., 0.,\n",
              "        1., 0., 0., 0., 1., 1., 1., 1., 0., 0., 0., 0., 1., 0., 1., 1., 1., 0.,\n",
              "        1., 0., 0., 1., 0., 0., 1., 1., 1., 1., 1., 0., 1., 0., 0., 0., 1., 1.,\n",
              "        1., 1., 1., 0., 0., 0., 1., 1., 1., 1., 0., 0., 0., 0., 0., 1., 1., 0.,\n",
              "        1., 0., 1., 0., 0., 0., 0., 0., 0., 0., 0., 0., 1., 1., 1., 1., 1., 0.,\n",
              "        1., 0., 1., 1., 1., 1., 0., 1., 1., 1., 1., 1., 1., 1., 1., 0., 1., 1.,\n",
              "        0., 1., 0., 0., 0., 1., 0., 1., 1., 1., 0., 1., 1., 0., 1., 1., 0., 1.,\n",
              "        0., 1., 1., 0., 0., 1., 1., 1., 0., 0., 0., 0., 1., 1., 0., 0., 1., 1.,\n",
              "        1., 1., 1., 1., 1., 1., 1., 1., 1., 1., 1., 1., 0., 0., 1., 0., 1., 0.,\n",
              "        1., 0., 1., 1., 1., 1., 1., 1., 0., 1., 0., 1., 1., 1., 0., 1., 1., 0.,\n",
              "        0., 1., 0., 1., 1., 0., 0., 1., 1., 1., 1., 1., 1., 1., 1., 0., 1., 1.,\n",
              "        1., 0., 1., 0., 0., 1., 1., 0., 0., 0., 1., 0., 0., 1., 0., 0., 0., 1.,\n",
              "        0., 1., 0., 0., 0., 0., 1., 0., 1., 1., 1., 1., 0., 1., 0., 0., 0., 0.,\n",
              "        0., 0., 1., 0., 1., 0., 1., 0., 1., 1., 1., 0., 1., 0., 1., 0., 0., 1.,\n",
              "        1., 1., 0., 0., 0., 1., 1., 0., 1., 0., 1., 1., 0., 1., 0., 0., 1., 1.,\n",
              "        1., 0., 0., 0., 1., 1., 0., 0., 0., 0., 0., 1., 1., 0., 1., 0., 0., 0.,\n",
              "        1., 0., 0., 0., 1., 1., 1., 1., 0., 1., 1., 1., 0., 1., 1., 1., 1., 0.,\n",
              "        1., 1., 0., 1., 1., 0., 0., 1., 1., 1., 0., 0., 0., 0., 0., 0., 1., 0.,\n",
              "        0., 1., 0., 0., 0., 1., 0., 1., 0., 1., 1., 0., 0., 0., 0., 0., 0., 0.,\n",
              "        0., 1., 0., 1., 0., 0., 0., 1., 0., 0.], device='cuda:0')"
            ]
          },
          "metadata": {},
          "execution_count": 15
        }
      ]
    },
    {
      "cell_type": "code",
      "source": [
        "len(X_train), len(X_test), len(y_train), len(y_test)"
      ],
      "metadata": {
        "colab": {
          "base_uri": "https://localhost:8080/"
        },
        "id": "unR1LXkE3nT7",
        "outputId": "dfbead38-211a-467e-d4c5-0fc178cf2ce9"
      },
      "execution_count": 16,
      "outputs": [
        {
          "output_type": "execute_result",
          "data": {
            "text/plain": [
              "(800, 200, 800, 200)"
            ]
          },
          "metadata": {},
          "execution_count": 16
        }
      ]
    },
    {
      "cell_type": "code",
      "source": [
        "class circleModel(nn.Module):\n",
        "  def __init__(self):\n",
        "    super().__init__()\n",
        "    self.layer_1 = nn.Linear(in_features=2, out_features=8)\n",
        "    self.layer_2 = nn.Linear(in_features=8, out_features=1)\n",
        "\n",
        "  def forward(self, x):\n",
        "    return self.layer_2(self.layer_1(x))\n",
        "\n",
        "circle_model = circleModel().to(device)\n",
        "circle_model\n"
      ],
      "metadata": {
        "colab": {
          "base_uri": "https://localhost:8080/"
        },
        "id": "7kyxA25u_1Pa",
        "outputId": "e7ed7732-0e83-482f-c658-39453d3c7285"
      },
      "execution_count": 17,
      "outputs": [
        {
          "output_type": "execute_result",
          "data": {
            "text/plain": [
              "circleModel(\n",
              "  (layer_1): Linear(in_features=2, out_features=8, bias=True)\n",
              "  (layer_2): Linear(in_features=8, out_features=1, bias=True)\n",
              ")"
            ]
          },
          "metadata": {},
          "execution_count": 17
        }
      ]
    },
    {
      "cell_type": "code",
      "source": [
        "sequential_model = nn.Sequential(\n",
        "    nn.Linear(in_features=2, out_features=8),\n",
        "    nn.Linear(in_features=8, out_features=1)\n",
        ").to(device)"
      ],
      "metadata": {
        "id": "S_mSTawL7k2l"
      },
      "execution_count": 18,
      "outputs": []
    },
    {
      "cell_type": "code",
      "source": [
        "sequential_model"
      ],
      "metadata": {
        "colab": {
          "base_uri": "https://localhost:8080/"
        },
        "id": "njiubwsN92KO",
        "outputId": "db03acdc-b079-4b3b-ef53-11d4b3edd2a7"
      },
      "execution_count": 19,
      "outputs": [
        {
          "output_type": "execute_result",
          "data": {
            "text/plain": [
              "Sequential(\n",
              "  (0): Linear(in_features=2, out_features=8, bias=True)\n",
              "  (1): Linear(in_features=8, out_features=1, bias=True)\n",
              ")"
            ]
          },
          "metadata": {},
          "execution_count": 19
        }
      ]
    },
    {
      "cell_type": "code",
      "source": [
        "sequential_model.state_dict()"
      ],
      "metadata": {
        "colab": {
          "base_uri": "https://localhost:8080/"
        },
        "id": "IdwznDVZyPJ9",
        "outputId": "94a2458b-1a2c-4733-c981-6d45779550c6"
      },
      "execution_count": 20,
      "outputs": [
        {
          "output_type": "execute_result",
          "data": {
            "text/plain": [
              "OrderedDict([('0.weight',\n",
              "              tensor([[-0.6484,  0.3746],\n",
              "                      [-0.5600,  0.1614],\n",
              "                      [-0.5965,  0.3809],\n",
              "                      [ 0.4480, -0.0176],\n",
              "                      [-0.3938,  0.0238],\n",
              "                      [-0.0029,  0.6065],\n",
              "                      [ 0.2299, -0.5984],\n",
              "                      [ 0.0421,  0.2177]], device='cuda:0')),\n",
              "             ('0.bias',\n",
              "              tensor([-0.4977,  0.1979,  0.3335,  0.1583, -0.2126, -0.6888,  0.4079, -0.2079],\n",
              "                     device='cuda:0')),\n",
              "             ('1.weight',\n",
              "              tensor([[ 0.3352, -0.0295,  0.1335,  0.0855, -0.2627,  0.2780, -0.2005,  0.1435]],\n",
              "                     device='cuda:0')),\n",
              "             ('1.bias', tensor([0.2270], device='cuda:0'))])"
            ]
          },
          "metadata": {},
          "execution_count": 20
        }
      ]
    },
    {
      "cell_type": "code",
      "source": [
        "with torch.inference_mode():\n",
        "  untrained_preds = sequential_model(X_test.to(device))\n",
        "print(f\"Length of predictions: {len(untrained_preds)}, Shape: {untrained_preds.shape}\")\n",
        "print(f\"Length of test samples: {len(untrained_preds)}, Shape {X_test.shape}\")\n",
        "print(f\"\\nFirst 10 predictions:\\n{untrained_preds[:10]}\")\n",
        "print(f\"\\nFirst 10 labels:\\n{y_test[:10]}\")"
      ],
      "metadata": {
        "colab": {
          "base_uri": "https://localhost:8080/"
        },
        "id": "5GeS7C6dzGHv",
        "outputId": "395dc9be-a4bb-4325-8e2c-944bb74819df"
      },
      "execution_count": 21,
      "outputs": [
        {
          "output_type": "stream",
          "name": "stdout",
          "text": [
            "Length of predictions: 200, Shape: torch.Size([200, 1])\n",
            "Length of test samples: 200, Shape torch.Size([200, 2])\n",
            "\n",
            "First 10 predictions:\n",
            "tensor([[ 0.2627],\n",
            "        [ 0.3268],\n",
            "        [-0.1610],\n",
            "        [ 0.3838],\n",
            "        [-0.5669],\n",
            "        [-0.5246],\n",
            "        [-0.0225],\n",
            "        [-0.2229],\n",
            "        [-0.1432],\n",
            "        [ 0.3266]], device='cuda:0')\n",
            "\n",
            "First 10 labels:\n",
            "tensor([1., 0., 1., 0., 1., 1., 0., 0., 1., 0.])\n"
          ]
        }
      ]
    },
    {
      "cell_type": "code",
      "source": [
        "loss_fn = nn.BCEWithLogitsLoss() #With sigmoid activation built in, more numerically stable that BCE with sigmoid after\n",
        "optimizer = torch.optim.SGD(params=sequential_model.parameters(), lr=0.1)"
      ],
      "metadata": {
        "id": "zMOWIJt8A69U"
      },
      "execution_count": 22,
      "outputs": []
    },
    {
      "cell_type": "code",
      "source": [
        "def accuracy(y_true, y_pred):\n",
        "  correct = torch.eq(y_true, y_pred).sum().item()\n",
        "  acc = (correct/len(y_pred)) * 100\n",
        "  return acc"
      ],
      "metadata": {
        "id": "mIqJcR_LCS3A"
      },
      "execution_count": 23,
      "outputs": []
    },
    {
      "cell_type": "code",
      "source": [
        "sequential_model.eval()\n",
        "with torch.inference_mode():\n",
        "  y_logits = sequential_model(X_test.to(device))[:5]\n",
        "y_logits"
      ],
      "metadata": {
        "colab": {
          "base_uri": "https://localhost:8080/"
        },
        "id": "xBNAhiGFCuuP",
        "outputId": "345ac0f4-5bc5-4537-abee-7d0006364843"
      },
      "execution_count": 24,
      "outputs": [
        {
          "output_type": "execute_result",
          "data": {
            "text/plain": [
              "tensor([[ 0.2627],\n",
              "        [ 0.3268],\n",
              "        [-0.1610],\n",
              "        [ 0.3838],\n",
              "        [-0.5669]], device='cuda:0')"
            ]
          },
          "metadata": {},
          "execution_count": 24
        }
      ]
    },
    {
      "cell_type": "code",
      "source": [
        "epochs = 100\n",
        "X_train, y_train = X_train.to(device), y_train.to(device)\n",
        "X_test, y_test = X_test.to(device), y_test.to(device)\n",
        "\n"
      ],
      "metadata": {
        "id": "97gFUjpiLTQP"
      },
      "execution_count": 25,
      "outputs": []
    },
    {
      "cell_type": "code",
      "source": [
        "for epoch in range(epochs):\n",
        "  sequential_model.train()\n",
        "\n",
        "  y_logits = sequential_model(X_train).squeeze()\n",
        "  y_pred = torch.round(torch.sigmoid(y_logits))\n",
        "\n",
        "  loss = loss_fn(y_logits, y_train)\n",
        "  acc = accuracy(y_train, y_pred)\n",
        "\n",
        "  optimizer.zero_grad()\n",
        "  loss.backward()\n",
        "  optimizer.step()\n",
        "\n",
        "  sequential_model.eval()\n",
        "  with torch.inference_mode():\n",
        "    test_logits = sequential_model(X_test).squeeze()\n",
        "    test_pred = torch.round(torch.sigmoid(test_logits))\n",
        "    test_loss = loss_fn(test_logits, y_test)\n",
        "    test_acc = accuracy(y_test, test_pred)\n",
        "  print(f\"Epoch: {epoch} | Accuracy: {acc}, Loss: {loss} | Test Accuracy: {test_acc}, Test Loss: {test_loss}\")"
      ],
      "metadata": {
        "colab": {
          "base_uri": "https://localhost:8080/"
        },
        "id": "5v14aKpq-qKQ",
        "outputId": "d6f17e54-2788-46e8-a002-ffb0bd1f4f7d"
      },
      "execution_count": 26,
      "outputs": [
        {
          "output_type": "stream",
          "name": "stdout",
          "text": [
            "Epoch: 0 | Accuracy: 49.625, Loss: 0.7071766257286072 | Test Accuracy: 48.5, Test Loss: 0.7146167755126953\n",
            "Epoch: 1 | Accuracy: 49.375, Loss: 0.7061418890953064 | Test Accuracy: 49.0, Test Loss: 0.7136991024017334\n",
            "Epoch: 2 | Accuracy: 49.5, Loss: 0.7052150368690491 | Test Accuracy: 48.0, Test Loss: 0.7128692269325256\n",
            "Epoch: 3 | Accuracy: 49.625, Loss: 0.7043833136558533 | Test Accuracy: 48.0, Test Loss: 0.7121168375015259\n",
            "Epoch: 4 | Accuracy: 49.5, Loss: 0.7036351561546326 | Test Accuracy: 48.0, Test Loss: 0.7114328742027283\n",
            "Epoch: 5 | Accuracy: 49.625, Loss: 0.7029608488082886 | Test Accuracy: 48.0, Test Loss: 0.7108092308044434\n",
            "Epoch: 6 | Accuracy: 49.75, Loss: 0.7023517489433289 | Test Accuracy: 48.0, Test Loss: 0.7102392315864563\n",
            "Epoch: 7 | Accuracy: 49.75, Loss: 0.7018002867698669 | Test Accuracy: 48.5, Test Loss: 0.7097165584564209\n",
            "Epoch: 8 | Accuracy: 50.125, Loss: 0.7012999057769775 | Test Accuracy: 48.5, Test Loss: 0.7092361450195312\n",
            "Epoch: 9 | Accuracy: 50.125, Loss: 0.7008447051048279 | Test Accuracy: 48.5, Test Loss: 0.7087933421134949\n",
            "Epoch: 10 | Accuracy: 50.125, Loss: 0.7004297971725464 | Test Accuracy: 47.5, Test Loss: 0.7083838582038879\n",
            "Epoch: 11 | Accuracy: 50.24999999999999, Loss: 0.7000505924224854 | Test Accuracy: 48.0, Test Loss: 0.7080042958259583\n",
            "Epoch: 12 | Accuracy: 49.875, Loss: 0.6997032165527344 | Test Accuracy: 48.0, Test Loss: 0.7076514959335327\n",
            "Epoch: 13 | Accuracy: 49.875, Loss: 0.6993842720985413 | Test Accuracy: 48.0, Test Loss: 0.7073227763175964\n",
            "Epoch: 14 | Accuracy: 50.24999999999999, Loss: 0.6990907788276672 | Test Accuracy: 48.0, Test Loss: 0.7070154547691345\n",
            "Epoch: 15 | Accuracy: 50.5, Loss: 0.6988199353218079 | Test Accuracy: 48.5, Test Loss: 0.7067275643348694\n",
            "Epoch: 16 | Accuracy: 50.125, Loss: 0.6985695362091064 | Test Accuracy: 48.5, Test Loss: 0.7064571976661682\n",
            "Epoch: 17 | Accuracy: 50.125, Loss: 0.6983374357223511 | Test Accuracy: 48.5, Test Loss: 0.7062026858329773\n",
            "Epoch: 18 | Accuracy: 50.5, Loss: 0.6981219053268433 | Test Accuracy: 49.0, Test Loss: 0.7059624791145325\n",
            "Epoch: 19 | Accuracy: 50.375, Loss: 0.697921097278595 | Test Accuracy: 49.0, Test Loss: 0.7057353258132935\n",
            "Epoch: 20 | Accuracy: 50.625, Loss: 0.6977338790893555 | Test Accuracy: 48.5, Test Loss: 0.70551997423172\n",
            "Epoch: 21 | Accuracy: 50.625, Loss: 0.6975588202476501 | Test Accuracy: 48.5, Test Loss: 0.7053154706954956\n",
            "Epoch: 22 | Accuracy: 50.24999999999999, Loss: 0.697394847869873 | Test Accuracy: 48.5, Test Loss: 0.705120861530304\n",
            "Epoch: 23 | Accuracy: 50.24999999999999, Loss: 0.6972407102584839 | Test Accuracy: 48.5, Test Loss: 0.7049353122711182\n",
            "Epoch: 24 | Accuracy: 50.625, Loss: 0.6970959305763245 | Test Accuracy: 48.5, Test Loss: 0.7047581076622009\n",
            "Epoch: 25 | Accuracy: 50.625, Loss: 0.6969594955444336 | Test Accuracy: 48.5, Test Loss: 0.7045885324478149\n",
            "Epoch: 26 | Accuracy: 50.625, Loss: 0.6968305706977844 | Test Accuracy: 48.5, Test Loss: 0.704426109790802\n",
            "Epoch: 27 | Accuracy: 50.74999999999999, Loss: 0.6967087984085083 | Test Accuracy: 48.0, Test Loss: 0.7042701840400696\n",
            "Epoch: 28 | Accuracy: 51.0, Loss: 0.6965934634208679 | Test Accuracy: 48.0, Test Loss: 0.704120397567749\n",
            "Epoch: 29 | Accuracy: 51.24999999999999, Loss: 0.6964839696884155 | Test Accuracy: 47.5, Test Loss: 0.7039762139320374\n",
            "Epoch: 30 | Accuracy: 51.24999999999999, Loss: 0.6963799595832825 | Test Accuracy: 48.0, Test Loss: 0.7038372755050659\n",
            "Epoch: 31 | Accuracy: 51.125, Loss: 0.6962811350822449 | Test Accuracy: 48.0, Test Loss: 0.7037032842636108\n",
            "Epoch: 32 | Accuracy: 51.125, Loss: 0.6961869597434998 | Test Accuracy: 48.0, Test Loss: 0.703574001789093\n",
            "Epoch: 33 | Accuracy: 51.0, Loss: 0.6960970759391785 | Test Accuracy: 48.0, Test Loss: 0.7034489512443542\n",
            "Epoch: 34 | Accuracy: 50.875, Loss: 0.6960112452507019 | Test Accuracy: 48.0, Test Loss: 0.7033278346061707\n",
            "Epoch: 35 | Accuracy: 51.0, Loss: 0.695929229259491 | Test Accuracy: 48.0, Test Loss: 0.7032106518745422\n",
            "Epoch: 36 | Accuracy: 51.125, Loss: 0.6958507299423218 | Test Accuracy: 47.5, Test Loss: 0.7030970454216003\n",
            "Epoch: 37 | Accuracy: 51.0, Loss: 0.6957756876945496 | Test Accuracy: 47.5, Test Loss: 0.7029868364334106\n",
            "Epoch: 38 | Accuracy: 51.125, Loss: 0.6957035660743713 | Test Accuracy: 47.0, Test Loss: 0.702879786491394\n",
            "Epoch: 39 | Accuracy: 51.0, Loss: 0.6956344246864319 | Test Accuracy: 46.5, Test Loss: 0.702775776386261\n",
            "Epoch: 40 | Accuracy: 50.875, Loss: 0.6955679059028625 | Test Accuracy: 47.0, Test Loss: 0.7026746869087219\n",
            "Epoch: 41 | Accuracy: 50.875, Loss: 0.6955041289329529 | Test Accuracy: 46.5, Test Loss: 0.7025763392448425\n",
            "Epoch: 42 | Accuracy: 51.37500000000001, Loss: 0.6954426169395447 | Test Accuracy: 46.5, Test Loss: 0.7024806141853333\n",
            "Epoch: 43 | Accuracy: 51.24999999999999, Loss: 0.695383608341217 | Test Accuracy: 46.5, Test Loss: 0.7023873925209045\n",
            "Epoch: 44 | Accuracy: 51.24999999999999, Loss: 0.6953266263008118 | Test Accuracy: 47.0, Test Loss: 0.7022964358329773\n",
            "Epoch: 45 | Accuracy: 51.37500000000001, Loss: 0.6952717304229736 | Test Accuracy: 47.5, Test Loss: 0.7022078633308411\n",
            "Epoch: 46 | Accuracy: 51.37500000000001, Loss: 0.6952187418937683 | Test Accuracy: 47.5, Test Loss: 0.7021214365959167\n",
            "Epoch: 47 | Accuracy: 51.37500000000001, Loss: 0.6951676607131958 | Test Accuracy: 48.0, Test Loss: 0.70203697681427\n",
            "Epoch: 48 | Accuracy: 51.37500000000001, Loss: 0.6951183676719666 | Test Accuracy: 48.0, Test Loss: 0.7019545435905457\n",
            "Epoch: 49 | Accuracy: 51.24999999999999, Loss: 0.6950706839561462 | Test Accuracy: 48.0, Test Loss: 0.7018740773200989\n",
            "Epoch: 50 | Accuracy: 51.625, Loss: 0.6950246095657349 | Test Accuracy: 48.0, Test Loss: 0.7017953991889954\n",
            "Epoch: 51 | Accuracy: 51.74999999999999, Loss: 0.6949800848960876 | Test Accuracy: 47.5, Test Loss: 0.7017185091972351\n",
            "Epoch: 52 | Accuracy: 51.625, Loss: 0.694936990737915 | Test Accuracy: 47.5, Test Loss: 0.7016432285308838\n",
            "Epoch: 53 | Accuracy: 51.74999999999999, Loss: 0.694895327091217 | Test Accuracy: 47.5, Test Loss: 0.701569676399231\n",
            "Epoch: 54 | Accuracy: 51.74999999999999, Loss: 0.6948550343513489 | Test Accuracy: 47.5, Test Loss: 0.701497495174408\n",
            "Epoch: 55 | Accuracy: 51.625, Loss: 0.6948158144950867 | Test Accuracy: 47.5, Test Loss: 0.7014269828796387\n",
            "Epoch: 56 | Accuracy: 51.37500000000001, Loss: 0.6947779655456543 | Test Accuracy: 47.0, Test Loss: 0.7013578414916992\n",
            "Epoch: 57 | Accuracy: 51.37500000000001, Loss: 0.6947413682937622 | Test Accuracy: 47.0, Test Loss: 0.7012901306152344\n",
            "Epoch: 58 | Accuracy: 51.24999999999999, Loss: 0.6947056651115417 | Test Accuracy: 47.5, Test Loss: 0.7012237310409546\n",
            "Epoch: 59 | Accuracy: 51.125, Loss: 0.6946711540222168 | Test Accuracy: 47.5, Test Loss: 0.7011586427688599\n",
            "Epoch: 60 | Accuracy: 51.125, Loss: 0.6946375966072083 | Test Accuracy: 47.0, Test Loss: 0.7010948657989502\n",
            "Epoch: 61 | Accuracy: 51.24999999999999, Loss: 0.6946051120758057 | Test Accuracy: 46.5, Test Loss: 0.7010322213172913\n",
            "Epoch: 62 | Accuracy: 51.37500000000001, Loss: 0.6945735216140747 | Test Accuracy: 46.0, Test Loss: 0.7009708881378174\n",
            "Epoch: 63 | Accuracy: 51.37500000000001, Loss: 0.6945428252220154 | Test Accuracy: 46.0, Test Loss: 0.7009106278419495\n",
            "Epoch: 64 | Accuracy: 51.5, Loss: 0.6945130825042725 | Test Accuracy: 46.0, Test Loss: 0.7008514404296875\n",
            "Epoch: 65 | Accuracy: 51.5, Loss: 0.6944840550422668 | Test Accuracy: 46.0, Test Loss: 0.7007932662963867\n",
            "Epoch: 66 | Accuracy: 51.74999999999999, Loss: 0.6944559216499329 | Test Accuracy: 46.0, Test Loss: 0.7007361650466919\n",
            "Epoch: 67 | Accuracy: 51.625, Loss: 0.694428563117981 | Test Accuracy: 46.0, Test Loss: 0.7006800770759583\n",
            "Epoch: 68 | Accuracy: 51.5, Loss: 0.6944019794464111 | Test Accuracy: 46.0, Test Loss: 0.7006250023841858\n",
            "Epoch: 69 | Accuracy: 51.625, Loss: 0.6943760514259338 | Test Accuracy: 46.0, Test Loss: 0.7005707621574402\n",
            "Epoch: 70 | Accuracy: 51.625, Loss: 0.6943508982658386 | Test Accuracy: 46.5, Test Loss: 0.700517475605011\n",
            "Epoch: 71 | Accuracy: 51.5, Loss: 0.6943262815475464 | Test Accuracy: 46.5, Test Loss: 0.7004650831222534\n",
            "Epoch: 72 | Accuracy: 51.625, Loss: 0.6943023800849915 | Test Accuracy: 46.5, Test Loss: 0.7004135251045227\n",
            "Epoch: 73 | Accuracy: 51.625, Loss: 0.694279134273529 | Test Accuracy: 46.5, Test Loss: 0.7003628611564636\n",
            "Epoch: 74 | Accuracy: 51.74999999999999, Loss: 0.6942564845085144 | Test Accuracy: 46.5, Test Loss: 0.7003129124641418\n",
            "Epoch: 75 | Accuracy: 51.625, Loss: 0.6942343711853027 | Test Accuracy: 46.5, Test Loss: 0.7002638578414917\n",
            "Epoch: 76 | Accuracy: 51.625, Loss: 0.6942128539085388 | Test Accuracy: 46.5, Test Loss: 0.7002155184745789\n",
            "Epoch: 77 | Accuracy: 51.625, Loss: 0.6941918730735779 | Test Accuracy: 47.0, Test Loss: 0.7001678943634033\n",
            "Epoch: 78 | Accuracy: 51.5, Loss: 0.6941714286804199 | Test Accuracy: 47.0, Test Loss: 0.7001210451126099\n",
            "Epoch: 79 | Accuracy: 51.37500000000001, Loss: 0.6941515207290649 | Test Accuracy: 47.0, Test Loss: 0.7000749111175537\n",
            "Epoch: 80 | Accuracy: 51.125, Loss: 0.6941320896148682 | Test Accuracy: 47.0, Test Loss: 0.7000293731689453\n",
            "Epoch: 81 | Accuracy: 51.0, Loss: 0.6941130757331848 | Test Accuracy: 47.0, Test Loss: 0.6999845504760742\n",
            "Epoch: 82 | Accuracy: 51.0, Loss: 0.6940945386886597 | Test Accuracy: 47.0, Test Loss: 0.6999403238296509\n",
            "Epoch: 83 | Accuracy: 51.125, Loss: 0.694076418876648 | Test Accuracy: 47.0, Test Loss: 0.6998967528343201\n",
            "Epoch: 84 | Accuracy: 51.125, Loss: 0.6940587162971497 | Test Accuracy: 47.0, Test Loss: 0.6998539566993713\n",
            "Epoch: 85 | Accuracy: 51.125, Loss: 0.6940415501594543 | Test Accuracy: 47.0, Test Loss: 0.6998116374015808\n",
            "Epoch: 86 | Accuracy: 51.125, Loss: 0.6940247416496277 | Test Accuracy: 47.0, Test Loss: 0.6997698545455933\n",
            "Epoch: 87 | Accuracy: 51.0, Loss: 0.6940082311630249 | Test Accuracy: 47.0, Test Loss: 0.6997286081314087\n",
            "Epoch: 88 | Accuracy: 51.0, Loss: 0.6939921379089355 | Test Accuracy: 47.0, Test Loss: 0.6996880769729614\n",
            "Epoch: 89 | Accuracy: 51.125, Loss: 0.6939764022827148 | Test Accuracy: 47.0, Test Loss: 0.6996479630470276\n",
            "Epoch: 90 | Accuracy: 51.37500000000001, Loss: 0.6939610242843628 | Test Accuracy: 46.5, Test Loss: 0.6996084451675415\n",
            "Epoch: 91 | Accuracy: 51.37500000000001, Loss: 0.6939460635185242 | Test Accuracy: 46.5, Test Loss: 0.6995694041252136\n",
            "Epoch: 92 | Accuracy: 51.125, Loss: 0.6939313411712646 | Test Accuracy: 46.5, Test Loss: 0.6995307803153992\n",
            "Epoch: 93 | Accuracy: 51.125, Loss: 0.693916916847229 | Test Accuracy: 47.0, Test Loss: 0.6994927525520325\n",
            "Epoch: 94 | Accuracy: 51.125, Loss: 0.693902850151062 | Test Accuracy: 47.0, Test Loss: 0.6994552612304688\n",
            "Epoch: 95 | Accuracy: 51.0, Loss: 0.6938891410827637 | Test Accuracy: 47.0, Test Loss: 0.6994181871414185\n",
            "Epoch: 96 | Accuracy: 51.125, Loss: 0.6938756108283997 | Test Accuracy: 47.0, Test Loss: 0.6993815302848816\n",
            "Epoch: 97 | Accuracy: 51.24999999999999, Loss: 0.6938623785972595 | Test Accuracy: 47.0, Test Loss: 0.6993454098701477\n",
            "Epoch: 98 | Accuracy: 51.24999999999999, Loss: 0.6938494443893433 | Test Accuracy: 47.0, Test Loss: 0.6993096470832825\n",
            "Epoch: 99 | Accuracy: 51.37500000000001, Loss: 0.6938368082046509 | Test Accuracy: 47.0, Test Loss: 0.6992743611335754\n"
          ]
        }
      ]
    },
    {
      "cell_type": "code",
      "source": [
        "for epoch in range(epochs):\n",
        "  circle_model.train()\n",
        "\n",
        "  y_logits = circle_model(X_train).squeeze()\n",
        "  y_pred = torch.round(torch.sigmoid(y_logits))\n",
        "\n",
        "  loss = loss_fn(y_logits, y_train)\n",
        "  acc = accuracy(y_train, y_pred)\n",
        "\n",
        "  optimizer.zero_grad()\n",
        "  loss.backward()\n",
        "  optimizer.step()\n",
        "\n",
        "  circle_model.eval()\n",
        "  with torch.inference_mode():\n",
        "    test_logits = circle_model(X_test).squeeze()\n",
        "    test_pred = torch.round(torch.sigmoid(test_logits))\n",
        "    test_loss = loss_fn(test_logits, y_test)\n",
        "    test_acc = accuracy(y_test, test_pred)\n",
        "  print(f\"Epoch: {epoch} | Accuracy: {acc}, Loss: {loss} | Test Accuracy: {test_acc}, Test Loss: {test_loss}\")"
      ],
      "metadata": {
        "id": "FNwHerXVQR3D",
        "colab": {
          "base_uri": "https://localhost:8080/"
        },
        "outputId": "b4842130-4bea-472f-9002-0339fcf20d36"
      },
      "execution_count": 27,
      "outputs": [
        {
          "output_type": "stream",
          "name": "stdout",
          "text": [
            "Epoch: 0 | Accuracy: 50.0, Loss: 0.7591752409934998 | Test Accuracy: 50.0, Test Loss: 0.7493144869804382\n",
            "Epoch: 1 | Accuracy: 50.0, Loss: 0.7591752409934998 | Test Accuracy: 50.0, Test Loss: 0.7493144869804382\n",
            "Epoch: 2 | Accuracy: 50.0, Loss: 0.7591752409934998 | Test Accuracy: 50.0, Test Loss: 0.7493144869804382\n",
            "Epoch: 3 | Accuracy: 50.0, Loss: 0.7591752409934998 | Test Accuracy: 50.0, Test Loss: 0.7493144869804382\n",
            "Epoch: 4 | Accuracy: 50.0, Loss: 0.7591752409934998 | Test Accuracy: 50.0, Test Loss: 0.7493144869804382\n",
            "Epoch: 5 | Accuracy: 50.0, Loss: 0.7591752409934998 | Test Accuracy: 50.0, Test Loss: 0.7493144869804382\n",
            "Epoch: 6 | Accuracy: 50.0, Loss: 0.7591752409934998 | Test Accuracy: 50.0, Test Loss: 0.7493144869804382\n",
            "Epoch: 7 | Accuracy: 50.0, Loss: 0.7591752409934998 | Test Accuracy: 50.0, Test Loss: 0.7493144869804382\n",
            "Epoch: 8 | Accuracy: 50.0, Loss: 0.7591752409934998 | Test Accuracy: 50.0, Test Loss: 0.7493144869804382\n",
            "Epoch: 9 | Accuracy: 50.0, Loss: 0.7591752409934998 | Test Accuracy: 50.0, Test Loss: 0.7493144869804382\n",
            "Epoch: 10 | Accuracy: 50.0, Loss: 0.7591752409934998 | Test Accuracy: 50.0, Test Loss: 0.7493144869804382\n",
            "Epoch: 11 | Accuracy: 50.0, Loss: 0.7591752409934998 | Test Accuracy: 50.0, Test Loss: 0.7493144869804382\n",
            "Epoch: 12 | Accuracy: 50.0, Loss: 0.7591752409934998 | Test Accuracy: 50.0, Test Loss: 0.7493144869804382\n",
            "Epoch: 13 | Accuracy: 50.0, Loss: 0.7591752409934998 | Test Accuracy: 50.0, Test Loss: 0.7493144869804382\n",
            "Epoch: 14 | Accuracy: 50.0, Loss: 0.7591752409934998 | Test Accuracy: 50.0, Test Loss: 0.7493144869804382\n",
            "Epoch: 15 | Accuracy: 50.0, Loss: 0.7591752409934998 | Test Accuracy: 50.0, Test Loss: 0.7493144869804382\n",
            "Epoch: 16 | Accuracy: 50.0, Loss: 0.7591752409934998 | Test Accuracy: 50.0, Test Loss: 0.7493144869804382\n",
            "Epoch: 17 | Accuracy: 50.0, Loss: 0.7591752409934998 | Test Accuracy: 50.0, Test Loss: 0.7493144869804382\n",
            "Epoch: 18 | Accuracy: 50.0, Loss: 0.7591752409934998 | Test Accuracy: 50.0, Test Loss: 0.7493144869804382\n",
            "Epoch: 19 | Accuracy: 50.0, Loss: 0.7591752409934998 | Test Accuracy: 50.0, Test Loss: 0.7493144869804382\n",
            "Epoch: 20 | Accuracy: 50.0, Loss: 0.7591752409934998 | Test Accuracy: 50.0, Test Loss: 0.7493144869804382\n",
            "Epoch: 21 | Accuracy: 50.0, Loss: 0.7591752409934998 | Test Accuracy: 50.0, Test Loss: 0.7493144869804382\n",
            "Epoch: 22 | Accuracy: 50.0, Loss: 0.7591752409934998 | Test Accuracy: 50.0, Test Loss: 0.7493144869804382\n",
            "Epoch: 23 | Accuracy: 50.0, Loss: 0.7591752409934998 | Test Accuracy: 50.0, Test Loss: 0.7493144869804382\n",
            "Epoch: 24 | Accuracy: 50.0, Loss: 0.7591752409934998 | Test Accuracy: 50.0, Test Loss: 0.7493144869804382\n",
            "Epoch: 25 | Accuracy: 50.0, Loss: 0.7591752409934998 | Test Accuracy: 50.0, Test Loss: 0.7493144869804382\n",
            "Epoch: 26 | Accuracy: 50.0, Loss: 0.7591752409934998 | Test Accuracy: 50.0, Test Loss: 0.7493144869804382\n",
            "Epoch: 27 | Accuracy: 50.0, Loss: 0.7591752409934998 | Test Accuracy: 50.0, Test Loss: 0.7493144869804382\n",
            "Epoch: 28 | Accuracy: 50.0, Loss: 0.7591752409934998 | Test Accuracy: 50.0, Test Loss: 0.7493144869804382\n",
            "Epoch: 29 | Accuracy: 50.0, Loss: 0.7591752409934998 | Test Accuracy: 50.0, Test Loss: 0.7493144869804382\n",
            "Epoch: 30 | Accuracy: 50.0, Loss: 0.7591752409934998 | Test Accuracy: 50.0, Test Loss: 0.7493144869804382\n",
            "Epoch: 31 | Accuracy: 50.0, Loss: 0.7591752409934998 | Test Accuracy: 50.0, Test Loss: 0.7493144869804382\n",
            "Epoch: 32 | Accuracy: 50.0, Loss: 0.7591752409934998 | Test Accuracy: 50.0, Test Loss: 0.7493144869804382\n",
            "Epoch: 33 | Accuracy: 50.0, Loss: 0.7591752409934998 | Test Accuracy: 50.0, Test Loss: 0.7493144869804382\n",
            "Epoch: 34 | Accuracy: 50.0, Loss: 0.7591752409934998 | Test Accuracy: 50.0, Test Loss: 0.7493144869804382\n",
            "Epoch: 35 | Accuracy: 50.0, Loss: 0.7591752409934998 | Test Accuracy: 50.0, Test Loss: 0.7493144869804382\n",
            "Epoch: 36 | Accuracy: 50.0, Loss: 0.7591752409934998 | Test Accuracy: 50.0, Test Loss: 0.7493144869804382\n",
            "Epoch: 37 | Accuracy: 50.0, Loss: 0.7591752409934998 | Test Accuracy: 50.0, Test Loss: 0.7493144869804382\n",
            "Epoch: 38 | Accuracy: 50.0, Loss: 0.7591752409934998 | Test Accuracy: 50.0, Test Loss: 0.7493144869804382\n",
            "Epoch: 39 | Accuracy: 50.0, Loss: 0.7591752409934998 | Test Accuracy: 50.0, Test Loss: 0.7493144869804382\n",
            "Epoch: 40 | Accuracy: 50.0, Loss: 0.7591752409934998 | Test Accuracy: 50.0, Test Loss: 0.7493144869804382\n",
            "Epoch: 41 | Accuracy: 50.0, Loss: 0.7591752409934998 | Test Accuracy: 50.0, Test Loss: 0.7493144869804382\n",
            "Epoch: 42 | Accuracy: 50.0, Loss: 0.7591752409934998 | Test Accuracy: 50.0, Test Loss: 0.7493144869804382\n",
            "Epoch: 43 | Accuracy: 50.0, Loss: 0.7591752409934998 | Test Accuracy: 50.0, Test Loss: 0.7493144869804382\n",
            "Epoch: 44 | Accuracy: 50.0, Loss: 0.7591752409934998 | Test Accuracy: 50.0, Test Loss: 0.7493144869804382\n",
            "Epoch: 45 | Accuracy: 50.0, Loss: 0.7591752409934998 | Test Accuracy: 50.0, Test Loss: 0.7493144869804382\n",
            "Epoch: 46 | Accuracy: 50.0, Loss: 0.7591752409934998 | Test Accuracy: 50.0, Test Loss: 0.7493144869804382\n",
            "Epoch: 47 | Accuracy: 50.0, Loss: 0.7591752409934998 | Test Accuracy: 50.0, Test Loss: 0.7493144869804382\n",
            "Epoch: 48 | Accuracy: 50.0, Loss: 0.7591752409934998 | Test Accuracy: 50.0, Test Loss: 0.7493144869804382\n",
            "Epoch: 49 | Accuracy: 50.0, Loss: 0.7591752409934998 | Test Accuracy: 50.0, Test Loss: 0.7493144869804382\n",
            "Epoch: 50 | Accuracy: 50.0, Loss: 0.7591752409934998 | Test Accuracy: 50.0, Test Loss: 0.7493144869804382\n",
            "Epoch: 51 | Accuracy: 50.0, Loss: 0.7591752409934998 | Test Accuracy: 50.0, Test Loss: 0.7493144869804382\n",
            "Epoch: 52 | Accuracy: 50.0, Loss: 0.7591752409934998 | Test Accuracy: 50.0, Test Loss: 0.7493144869804382\n",
            "Epoch: 53 | Accuracy: 50.0, Loss: 0.7591752409934998 | Test Accuracy: 50.0, Test Loss: 0.7493144869804382\n",
            "Epoch: 54 | Accuracy: 50.0, Loss: 0.7591752409934998 | Test Accuracy: 50.0, Test Loss: 0.7493144869804382\n",
            "Epoch: 55 | Accuracy: 50.0, Loss: 0.7591752409934998 | Test Accuracy: 50.0, Test Loss: 0.7493144869804382\n",
            "Epoch: 56 | Accuracy: 50.0, Loss: 0.7591752409934998 | Test Accuracy: 50.0, Test Loss: 0.7493144869804382\n",
            "Epoch: 57 | Accuracy: 50.0, Loss: 0.7591752409934998 | Test Accuracy: 50.0, Test Loss: 0.7493144869804382\n",
            "Epoch: 58 | Accuracy: 50.0, Loss: 0.7591752409934998 | Test Accuracy: 50.0, Test Loss: 0.7493144869804382\n",
            "Epoch: 59 | Accuracy: 50.0, Loss: 0.7591752409934998 | Test Accuracy: 50.0, Test Loss: 0.7493144869804382\n",
            "Epoch: 60 | Accuracy: 50.0, Loss: 0.7591752409934998 | Test Accuracy: 50.0, Test Loss: 0.7493144869804382\n",
            "Epoch: 61 | Accuracy: 50.0, Loss: 0.7591752409934998 | Test Accuracy: 50.0, Test Loss: 0.7493144869804382\n",
            "Epoch: 62 | Accuracy: 50.0, Loss: 0.7591752409934998 | Test Accuracy: 50.0, Test Loss: 0.7493144869804382\n",
            "Epoch: 63 | Accuracy: 50.0, Loss: 0.7591752409934998 | Test Accuracy: 50.0, Test Loss: 0.7493144869804382\n",
            "Epoch: 64 | Accuracy: 50.0, Loss: 0.7591752409934998 | Test Accuracy: 50.0, Test Loss: 0.7493144869804382\n",
            "Epoch: 65 | Accuracy: 50.0, Loss: 0.7591752409934998 | Test Accuracy: 50.0, Test Loss: 0.7493144869804382\n",
            "Epoch: 66 | Accuracy: 50.0, Loss: 0.7591752409934998 | Test Accuracy: 50.0, Test Loss: 0.7493144869804382\n",
            "Epoch: 67 | Accuracy: 50.0, Loss: 0.7591752409934998 | Test Accuracy: 50.0, Test Loss: 0.7493144869804382\n",
            "Epoch: 68 | Accuracy: 50.0, Loss: 0.7591752409934998 | Test Accuracy: 50.0, Test Loss: 0.7493144869804382\n",
            "Epoch: 69 | Accuracy: 50.0, Loss: 0.7591752409934998 | Test Accuracy: 50.0, Test Loss: 0.7493144869804382\n",
            "Epoch: 70 | Accuracy: 50.0, Loss: 0.7591752409934998 | Test Accuracy: 50.0, Test Loss: 0.7493144869804382\n",
            "Epoch: 71 | Accuracy: 50.0, Loss: 0.7591752409934998 | Test Accuracy: 50.0, Test Loss: 0.7493144869804382\n",
            "Epoch: 72 | Accuracy: 50.0, Loss: 0.7591752409934998 | Test Accuracy: 50.0, Test Loss: 0.7493144869804382\n",
            "Epoch: 73 | Accuracy: 50.0, Loss: 0.7591752409934998 | Test Accuracy: 50.0, Test Loss: 0.7493144869804382\n",
            "Epoch: 74 | Accuracy: 50.0, Loss: 0.7591752409934998 | Test Accuracy: 50.0, Test Loss: 0.7493144869804382\n",
            "Epoch: 75 | Accuracy: 50.0, Loss: 0.7591752409934998 | Test Accuracy: 50.0, Test Loss: 0.7493144869804382\n",
            "Epoch: 76 | Accuracy: 50.0, Loss: 0.7591752409934998 | Test Accuracy: 50.0, Test Loss: 0.7493144869804382\n",
            "Epoch: 77 | Accuracy: 50.0, Loss: 0.7591752409934998 | Test Accuracy: 50.0, Test Loss: 0.7493144869804382\n",
            "Epoch: 78 | Accuracy: 50.0, Loss: 0.7591752409934998 | Test Accuracy: 50.0, Test Loss: 0.7493144869804382\n",
            "Epoch: 79 | Accuracy: 50.0, Loss: 0.7591752409934998 | Test Accuracy: 50.0, Test Loss: 0.7493144869804382\n",
            "Epoch: 80 | Accuracy: 50.0, Loss: 0.7591752409934998 | Test Accuracy: 50.0, Test Loss: 0.7493144869804382\n",
            "Epoch: 81 | Accuracy: 50.0, Loss: 0.7591752409934998 | Test Accuracy: 50.0, Test Loss: 0.7493144869804382\n",
            "Epoch: 82 | Accuracy: 50.0, Loss: 0.7591752409934998 | Test Accuracy: 50.0, Test Loss: 0.7493144869804382\n",
            "Epoch: 83 | Accuracy: 50.0, Loss: 0.7591752409934998 | Test Accuracy: 50.0, Test Loss: 0.7493144869804382\n",
            "Epoch: 84 | Accuracy: 50.0, Loss: 0.7591752409934998 | Test Accuracy: 50.0, Test Loss: 0.7493144869804382\n",
            "Epoch: 85 | Accuracy: 50.0, Loss: 0.7591752409934998 | Test Accuracy: 50.0, Test Loss: 0.7493144869804382\n",
            "Epoch: 86 | Accuracy: 50.0, Loss: 0.7591752409934998 | Test Accuracy: 50.0, Test Loss: 0.7493144869804382\n",
            "Epoch: 87 | Accuracy: 50.0, Loss: 0.7591752409934998 | Test Accuracy: 50.0, Test Loss: 0.7493144869804382\n",
            "Epoch: 88 | Accuracy: 50.0, Loss: 0.7591752409934998 | Test Accuracy: 50.0, Test Loss: 0.7493144869804382\n",
            "Epoch: 89 | Accuracy: 50.0, Loss: 0.7591752409934998 | Test Accuracy: 50.0, Test Loss: 0.7493144869804382\n",
            "Epoch: 90 | Accuracy: 50.0, Loss: 0.7591752409934998 | Test Accuracy: 50.0, Test Loss: 0.7493144869804382\n",
            "Epoch: 91 | Accuracy: 50.0, Loss: 0.7591752409934998 | Test Accuracy: 50.0, Test Loss: 0.7493144869804382\n",
            "Epoch: 92 | Accuracy: 50.0, Loss: 0.7591752409934998 | Test Accuracy: 50.0, Test Loss: 0.7493144869804382\n",
            "Epoch: 93 | Accuracy: 50.0, Loss: 0.7591752409934998 | Test Accuracy: 50.0, Test Loss: 0.7493144869804382\n",
            "Epoch: 94 | Accuracy: 50.0, Loss: 0.7591752409934998 | Test Accuracy: 50.0, Test Loss: 0.7493144869804382\n",
            "Epoch: 95 | Accuracy: 50.0, Loss: 0.7591752409934998 | Test Accuracy: 50.0, Test Loss: 0.7493144869804382\n",
            "Epoch: 96 | Accuracy: 50.0, Loss: 0.7591752409934998 | Test Accuracy: 50.0, Test Loss: 0.7493144869804382\n",
            "Epoch: 97 | Accuracy: 50.0, Loss: 0.7591752409934998 | Test Accuracy: 50.0, Test Loss: 0.7493144869804382\n",
            "Epoch: 98 | Accuracy: 50.0, Loss: 0.7591752409934998 | Test Accuracy: 50.0, Test Loss: 0.7493144869804382\n",
            "Epoch: 99 | Accuracy: 50.0, Loss: 0.7591752409934998 | Test Accuracy: 50.0, Test Loss: 0.7493144869804382\n"
          ]
        }
      ]
    },
    {
      "cell_type": "code",
      "source": [
        "weight = 0.7\n",
        "bias = 0.3\n",
        "start = 0\n",
        "end = 1\n",
        "step = 0.01\n",
        "\n",
        "X_regression = torch.arange(start, end, step).unsqueeze(dim=1)\n",
        "y_regression = weight * X_regression + bias\n",
        "\n",
        "print(len(X_regression))\n",
        "X_regression[:5], y_regression[:5]"
      ],
      "metadata": {
        "colab": {
          "base_uri": "https://localhost:8080/"
        },
        "id": "NaZYDnawMQTk",
        "outputId": "a7489e63-01c6-4587-833c-b71acdaada63"
      },
      "execution_count": 28,
      "outputs": [
        {
          "output_type": "stream",
          "name": "stdout",
          "text": [
            "100\n"
          ]
        },
        {
          "output_type": "execute_result",
          "data": {
            "text/plain": [
              "(tensor([[0.0000],\n",
              "         [0.0100],\n",
              "         [0.0200],\n",
              "         [0.0300],\n",
              "         [0.0400]]),\n",
              " tensor([[0.3000],\n",
              "         [0.3070],\n",
              "         [0.3140],\n",
              "         [0.3210],\n",
              "         [0.3280]]))"
            ]
          },
          "metadata": {},
          "execution_count": 28
        }
      ]
    },
    {
      "cell_type": "code",
      "source": [
        "train_regression_split = int(0.8 * len(X_regression))\n",
        "X_train_regression, y_train_regression = X_regression[:train_regression_split], y_regression[:train_regression_split]\n",
        "X_test_regression, y_test_regression = X_regression[train_regression_split:], y_regression[train_regression_split:]\n",
        "\n",
        "len(X_train_regression), len(y_train_regression), len(X_test_regression), len(y_test_regression)"
      ],
      "metadata": {
        "colab": {
          "base_uri": "https://localhost:8080/"
        },
        "id": "Lg42OqVCM6Kh",
        "outputId": "2adb1789-9984-4dfe-e4ce-94a2acd1a4ec"
      },
      "execution_count": 29,
      "outputs": [
        {
          "output_type": "execute_result",
          "data": {
            "text/plain": [
              "(80, 80, 20, 20)"
            ]
          },
          "metadata": {},
          "execution_count": 29
        }
      ]
    },
    {
      "cell_type": "code",
      "source": [
        "sequential_model_2 = nn.Sequential(\n",
        "    nn.Linear(in_features=1, out_features=16),\n",
        "    nn.Linear(in_features=16, out_features=8),\n",
        "    nn.Linear(in_features=8, out_features=1)\n",
        ").to(device)\n",
        "\n",
        "sequential_model_2"
      ],
      "metadata": {
        "colab": {
          "base_uri": "https://localhost:8080/"
        },
        "id": "zKcMvbcZDjzm",
        "outputId": "b38bafb1-3592-467f-f9a8-83eba5afd449"
      },
      "execution_count": 30,
      "outputs": [
        {
          "output_type": "execute_result",
          "data": {
            "text/plain": [
              "Sequential(\n",
              "  (0): Linear(in_features=1, out_features=16, bias=True)\n",
              "  (1): Linear(in_features=16, out_features=8, bias=True)\n",
              "  (2): Linear(in_features=8, out_features=1, bias=True)\n",
              ")"
            ]
          },
          "metadata": {},
          "execution_count": 30
        }
      ]
    },
    {
      "cell_type": "code",
      "source": [
        "X_train_regression, y_train_regression = X_train_regression.to(device), y_train_regression.to(device)\n",
        "X_test_regression, y_test_regression = X_test_regression.to(device), y_test_regression.to(device)"
      ],
      "metadata": {
        "id": "B4irdZAKLf_Y"
      },
      "execution_count": 31,
      "outputs": []
    },
    {
      "cell_type": "code",
      "source": [
        "loss_fn_2 = nn.L1Loss()\n",
        "optimizer = torch.optim.SGD(params=sequential_model_2.parameters(), lr = 0.1)"
      ],
      "metadata": {
        "id": "BVXXLj4NI44v"
      },
      "execution_count": 32,
      "outputs": []
    },
    {
      "cell_type": "code",
      "source": [
        "epochs = 1000\n",
        "for epoch in range(epochs):\n",
        "  sequential_model_2.train()\n",
        "\n",
        "  y_pred = sequential_model_2(X_train_regression)\n",
        "  loss = loss_fn_2(y_pred, y_train_regression)\n",
        "\n",
        "  optimizer.zero_grad()\n",
        "  loss.backward()\n",
        "  optimizer.step()\n",
        "\n",
        "  sequential_model_2.eval()\n",
        "  with torch.inference_mode():\n",
        "    test_pred = sequential_model_2(X_test_regression)\n",
        "    test_loss = loss_fn_2(test_pred, y_test_regression)\n",
        "\n",
        "  if epoch % 50 == 0:\n",
        "    print(f\"Epoch: {epoch} | Loss: {loss: .5f} | Test Loss: {test_loss: .5f}\")"
      ],
      "metadata": {
        "colab": {
          "base_uri": "https://localhost:8080/"
        },
        "id": "g336QPLvLSoY",
        "outputId": "b2249969-a5fe-4d16-cb37-5f2473362006"
      },
      "execution_count": 33,
      "outputs": [
        {
          "output_type": "stream",
          "name": "stdout",
          "text": [
            "Epoch: 0 | Loss:  0.52495 | Test Loss:  0.39914\n",
            "Epoch: 50 | Loss:  0.09119 | Test Loss:  0.23520\n",
            "Epoch: 100 | Loss:  0.04932 | Test Loss:  0.14963\n",
            "Epoch: 150 | Loss:  0.05931 | Test Loss:  0.17099\n",
            "Epoch: 200 | Loss:  0.06799 | Test Loss:  0.15608\n",
            "Epoch: 250 | Loss:  0.04671 | Test Loss:  0.13721\n",
            "Epoch: 300 | Loss:  0.07434 | Test Loss:  0.13803\n",
            "Epoch: 350 | Loss:  0.04782 | Test Loss:  0.10507\n",
            "Epoch: 400 | Loss:  0.05555 | Test Loss:  0.11272\n",
            "Epoch: 450 | Loss:  0.06110 | Test Loss:  0.14265\n",
            "Epoch: 500 | Loss:  0.04569 | Test Loss:  0.09845\n",
            "Epoch: 550 | Loss:  0.05401 | Test Loss:  0.11704\n",
            "Epoch: 600 | Loss:  0.06953 | Test Loss:  0.11898\n",
            "Epoch: 650 | Loss:  0.04299 | Test Loss:  0.05919\n",
            "Epoch: 700 | Loss:  0.07227 | Test Loss:  0.11589\n",
            "Epoch: 750 | Loss:  0.04196 | Test Loss:  0.06449\n",
            "Epoch: 800 | Loss:  0.07843 | Test Loss:  0.09193\n",
            "Epoch: 850 | Loss:  0.05325 | Test Loss:  0.10163\n",
            "Epoch: 900 | Loss:  0.03959 | Test Loss:  0.09038\n",
            "Epoch: 950 | Loss:  0.06613 | Test Loss:  0.11923\n"
          ]
        }
      ]
    },
    {
      "cell_type": "code",
      "source": [
        "sequential_model_2.eval()\n",
        "\n",
        "with torch.inference_mode():\n",
        "  y_preds = sequential_model_2(X_test_regression)"
      ],
      "metadata": {
        "id": "BbMy88IjPcZz"
      },
      "execution_count": 34,
      "outputs": []
    },
    {
      "cell_type": "code",
      "source": [
        "plt.plot(X_test_regression.to(\"cpu\"), y_test_regression.to(\"cpu\"), c='b', label=\"Actual\")\n",
        "plt.scatter(X_test_regression.to(\"cpu\"), y_preds.to(\"cpu\"), marker='x', c='r', label=\"Predicted\")\n",
        "plt.legend()\n",
        "plt.show()\n"
      ],
      "metadata": {
        "id": "Zjkl5NlEVNVm",
        "outputId": "b256caef-9bf2-41ae-ec2c-995949bdae73",
        "colab": {
          "base_uri": "https://localhost:8080/",
          "height": 435
        }
      },
      "execution_count": 35,
      "outputs": [
        {
          "output_type": "display_data",
          "data": {
            "text/plain": [
              "<Figure size 640x480 with 1 Axes>"
            ],
            "image/png": "[encoded data removed]"
          },
          "metadata": {}
        }
      ]
    },
    {
      "cell_type": "code",
      "source": [
        "n_samples = 1000\n",
        "X, y = make_circles(n_samples, noise=0.03, random_state=42)\n",
        "\n",
        "plt.scatter(x=X[:,0], y=X[:,1], c=y, cmap=plt.cm.RdYlBu)"
      ],
      "metadata": {
        "id": "wAerPksPVX_Q",
        "outputId": "fa2cc32e-c8a8-4123-ff21-786166d9afbc",
        "colab": {
          "base_uri": "https://localhost:8080/",
          "height": 447
        }
      },
      "execution_count": 36,
      "outputs": [
        {
          "output_type": "execute_result",
          "data": {
            "text/plain": [
              "<matplotlib.collections.PathCollection at 0x7c57865593f0>"
            ]
          },
          "metadata": {},
          "execution_count": 36
        },
        {
          "output_type": "display_data",
          "data": {
            "text/plain": [
              "<Figure size 640x480 with 1 Axes>"
            ],
            "image/png": "[encoded data removed]"
          },
          "metadata": {}
        }
      ]
    },
    {
      "cell_type": "code",
      "source": [
        "X = torch.from_numpy(X).type(torch.float)\n",
        "y = torch.from_numpy(y).type(torch.float)\n",
        "X_train, X_test, y_train, y_test = train_test_split(X, y, test_size = 0.2, random_state=42)"
      ],
      "metadata": {
        "id": "fNFrmhiGXa41"
      },
      "execution_count": 37,
      "outputs": []
    },
    {
      "cell_type": "code",
      "source": [
        "class CircleModelv2(nn.Module):\n",
        "  def __init__(self):\n",
        "    super().__init__()\n",
        "    self.layer_1 = nn.Linear(in_features=2, out_features=256)\n",
        "    self.layer_2 = nn.Linear(in_features=256, out_features=128)\n",
        "    self.layer_3 = nn.Linear(in_features=128, out_features=1)\n",
        "    self.relu = nn.ReLU()\n",
        "\n",
        "  def forward(self, x):\n",
        "    return self.layer_3(self.relu(self.layer_2(self.relu(self.layer_1(x)))))"
      ],
      "metadata": {
        "id": "xhnXwryzX_i-"
      },
      "execution_count": 38,
      "outputs": []
    },
    {
      "cell_type": "code",
      "source": [
        "circle_model_v2 = CircleModelv2().to(device)\n",
        "circle_model_v2"
      ],
      "metadata": {
        "id": "uvFay0fsafER",
        "outputId": "d1b07f65-7a5e-4498-c0fe-fc612660d38b",
        "colab": {
          "base_uri": "https://localhost:8080/"
        }
      },
      "execution_count": 39,
      "outputs": [
        {
          "output_type": "execute_result",
          "data": {
            "text/plain": [
              "CircleModelv2(\n",
              "  (layer_1): Linear(in_features=2, out_features=256, bias=True)\n",
              "  (layer_2): Linear(in_features=256, out_features=128, bias=True)\n",
              "  (layer_3): Linear(in_features=128, out_features=1, bias=True)\n",
              "  (relu): ReLU()\n",
              ")"
            ]
          },
          "metadata": {},
          "execution_count": 39
        }
      ]
    },
    {
      "cell_type": "code",
      "source": [
        "loss_fn = nn.BCEWithLogitsLoss()\n",
        "optimizer = torch.optim.SGD(params=circle_model_v2.parameters(), lr=0.01)"
      ],
      "metadata": {
        "id": "6clEs5o1a4Pr"
      },
      "execution_count": 40,
      "outputs": []
    },
    {
      "cell_type": "code",
      "source": [
        "X_train, y_train = X_train.to(device), y_train.to(device)\n",
        "X_test, y_test = X_test.to(device), y_test.to(device)"
      ],
      "metadata": {
        "id": "tobfnQcic8n2"
      },
      "execution_count": 41,
      "outputs": []
    },
    {
      "cell_type": "code",
      "source": [
        "circle_model_v2.train()\n",
        "epochs = 5000\n",
        "for epoch in range(epochs):\n",
        "  circle_model_v2.train()\n",
        "  y_logits = circle_model_v2(X_train).squeeze()\n",
        "  y_pred = torch.round(torch.sigmoid(y_logits))\n",
        "  loss = loss_fn(y_logits, y_train)\n",
        "\n",
        "  optimizer.zero_grad()\n",
        "  loss.backward()\n",
        "  acc = accuracy(y_train, y_pred)\n",
        "  optimizer.step()\n",
        "\n",
        "  circle_model_v2.eval()\n",
        "  with torch.inference_mode():\n",
        "    test_logits = circle_model_v2(X_test).squeeze()\n",
        "    test_pred = torch.round(torch.sigmoid(test_logits))\n",
        "    test_loss = loss_fn(test_logits, y_test)\n",
        "    test_acc = accuracy(y_test, test_pred)\n",
        "  if epoch % 100 == 0:\n",
        "    print(f\"Epoch: {epoch} | Accuracy: {acc: .2f}%, Loss: {loss: .4f} | Test Accuracy: {test_acc: .2f}%, Test Loss: {test_loss: .4f}\")"
      ],
      "metadata": {
        "id": "AkgJH4tndCtb",
        "outputId": "78218dd4-41d8-4826-c128-ec90ef78998d",
        "colab": {
          "base_uri": "https://localhost:8080/"
        }
      },
      "execution_count": 42,
      "outputs": [
        {
          "output_type": "stream",
          "name": "stdout",
          "text": [
            "Epoch: 0 | Accuracy:  47.00%, Loss:  0.6938 | Test Accuracy:  43.50%, Test Loss:  0.6942\n",
            "Epoch: 100 | Accuracy:  54.12%, Loss:  0.6905 | Test Accuracy:  49.50%, Test Loss:  0.6915\n",
            "Epoch: 200 | Accuracy:  67.12%, Loss:  0.6874 | Test Accuracy:  64.00%, Test Loss:  0.6892\n",
            "Epoch: 300 | Accuracy:  74.00%, Loss:  0.6845 | Test Accuracy:  73.00%, Test Loss:  0.6869\n",
            "Epoch: 400 | Accuracy:  77.00%, Loss:  0.6811 | Test Accuracy:  76.50%, Test Loss:  0.6843\n",
            "Epoch: 500 | Accuracy:  79.00%, Loss:  0.6776 | Test Accuracy:  77.00%, Test Loss:  0.6814\n",
            "Epoch: 600 | Accuracy:  80.25%, Loss:  0.6738 | Test Accuracy:  79.00%, Test Loss:  0.6783\n",
            "Epoch: 700 | Accuracy:  82.12%, Loss:  0.6696 | Test Accuracy:  79.00%, Test Loss:  0.6748\n",
            "Epoch: 800 | Accuracy:  83.50%, Loss:  0.6647 | Test Accuracy:  81.00%, Test Loss:  0.6706\n",
            "Epoch: 900 | Accuracy:  85.75%, Loss:  0.6591 | Test Accuracy:  83.50%, Test Loss:  0.6658\n",
            "Epoch: 1000 | Accuracy:  88.00%, Loss:  0.6525 | Test Accuracy:  86.00%, Test Loss:  0.6602\n",
            "Epoch: 1100 | Accuracy:  90.50%, Loss:  0.6451 | Test Accuracy:  87.50%, Test Loss:  0.6537\n",
            "Epoch: 1200 | Accuracy:  92.88%, Loss:  0.6364 | Test Accuracy:  88.50%, Test Loss:  0.6462\n",
            "Epoch: 1300 | Accuracy:  95.00%, Loss:  0.6265 | Test Accuracy:  91.50%, Test Loss:  0.6375\n",
            "Epoch: 1400 | Accuracy:  97.00%, Loss:  0.6150 | Test Accuracy:  92.50%, Test Loss:  0.6274\n",
            "Epoch: 1500 | Accuracy:  98.12%, Loss:  0.6017 | Test Accuracy:  94.00%, Test Loss:  0.6156\n",
            "Epoch: 1600 | Accuracy:  98.62%, Loss:  0.5867 | Test Accuracy:  97.00%, Test Loss:  0.6022\n",
            "Epoch: 1700 | Accuracy:  99.38%, Loss:  0.5696 | Test Accuracy:  97.00%, Test Loss:  0.5871\n",
            "Epoch: 1800 | Accuracy:  99.62%, Loss:  0.5505 | Test Accuracy:  98.00%, Test Loss:  0.5700\n",
            "Epoch: 1900 | Accuracy:  99.75%, Loss:  0.5293 | Test Accuracy:  99.00%, Test Loss:  0.5509\n",
            "Epoch: 2000 | Accuracy:  99.88%, Loss:  0.5059 | Test Accuracy:  99.00%, Test Loss:  0.5297\n",
            "Epoch: 2100 | Accuracy:  100.00%, Loss:  0.4807 | Test Accuracy:  99.50%, Test Loss:  0.5067\n",
            "Epoch: 2200 | Accuracy:  100.00%, Loss:  0.4539 | Test Accuracy:  99.50%, Test Loss:  0.4821\n",
            "Epoch: 2300 | Accuracy:  100.00%, Loss:  0.4259 | Test Accuracy:  99.50%, Test Loss:  0.4561\n",
            "Epoch: 2400 | Accuracy:  100.00%, Loss:  0.3972 | Test Accuracy:  99.50%, Test Loss:  0.4295\n",
            "Epoch: 2500 | Accuracy:  100.00%, Loss:  0.3683 | Test Accuracy:  99.50%, Test Loss:  0.4025\n",
            "Epoch: 2600 | Accuracy:  100.00%, Loss:  0.3398 | Test Accuracy:  99.50%, Test Loss:  0.3757\n",
            "Epoch: 2700 | Accuracy:  100.00%, Loss:  0.3122 | Test Accuracy:  99.50%, Test Loss:  0.3495\n",
            "Epoch: 2800 | Accuracy:  100.00%, Loss:  0.2860 | Test Accuracy:  99.50%, Test Loss:  0.3244\n",
            "Epoch: 2900 | Accuracy:  100.00%, Loss:  0.2613 | Test Accuracy:  99.50%, Test Loss:  0.3005\n",
            "Epoch: 3000 | Accuracy:  100.00%, Loss:  0.2386 | Test Accuracy:  99.50%, Test Loss:  0.2782\n",
            "Epoch: 3100 | Accuracy:  100.00%, Loss:  0.2177 | Test Accuracy:  99.50%, Test Loss:  0.2575\n",
            "Epoch: 3200 | Accuracy:  100.00%, Loss:  0.1988 | Test Accuracy:  99.50%, Test Loss:  0.2386\n",
            "Epoch: 3300 | Accuracy:  100.00%, Loss:  0.1818 | Test Accuracy:  99.50%, Test Loss:  0.2214\n",
            "Epoch: 3400 | Accuracy:  100.00%, Loss:  0.1665 | Test Accuracy:  99.50%, Test Loss:  0.2057\n",
            "Epoch: 3500 | Accuracy:  100.00%, Loss:  0.1528 | Test Accuracy:  99.50%, Test Loss:  0.1916\n",
            "Epoch: 3600 | Accuracy:  100.00%, Loss:  0.1406 | Test Accuracy:  99.50%, Test Loss:  0.1788\n",
            "Epoch: 3700 | Accuracy:  100.00%, Loss:  0.1297 | Test Accuracy:  99.50%, Test Loss:  0.1673\n",
            "Epoch: 3800 | Accuracy:  100.00%, Loss:  0.1199 | Test Accuracy:  99.50%, Test Loss:  0.1568\n",
            "Epoch: 3900 | Accuracy:  100.00%, Loss:  0.1112 | Test Accuracy:  99.50%, Test Loss:  0.1474\n",
            "Epoch: 4000 | Accuracy:  100.00%, Loss:  0.1034 | Test Accuracy:  99.50%, Test Loss:  0.1389\n",
            "Epoch: 4100 | Accuracy:  100.00%, Loss:  0.0965 | Test Accuracy:  99.50%, Test Loss:  0.1312\n",
            "Epoch: 4200 | Accuracy:  100.00%, Loss:  0.0902 | Test Accuracy:  100.00%, Test Loss:  0.1241\n",
            "Epoch: 4300 | Accuracy:  100.00%, Loss:  0.0845 | Test Accuracy:  100.00%, Test Loss:  0.1177\n",
            "Epoch: 4400 | Accuracy:  100.00%, Loss:  0.0794 | Test Accuracy:  100.00%, Test Loss:  0.1119\n",
            "Epoch: 4500 | Accuracy:  100.00%, Loss:  0.0748 | Test Accuracy:  100.00%, Test Loss:  0.1066\n",
            "Epoch: 4600 | Accuracy:  100.00%, Loss:  0.0705 | Test Accuracy:  100.00%, Test Loss:  0.1017\n",
            "Epoch: 4700 | Accuracy:  100.00%, Loss:  0.0667 | Test Accuracy:  100.00%, Test Loss:  0.0972\n",
            "Epoch: 4800 | Accuracy:  100.00%, Loss:  0.0632 | Test Accuracy:  100.00%, Test Loss:  0.0931\n",
            "Epoch: 4900 | Accuracy:  100.00%, Loss:  0.0600 | Test Accuracy:  100.00%, Test Loss:  0.0893\n"
          ]
        }
      ]
    },
    {
      "cell_type": "code",
      "source": [
        "circle_model_v2.eval()\n",
        "with torch.inference_mode():\n",
        "  y_preds = torch.round(torch.sigmoid(circle_model_v2(X_test))).squeeze()\n",
        "y_preds[:10], y_test[:10]"
      ],
      "metadata": {
        "id": "E4Oy0YPr-_Gp",
        "outputId": "789f34c0-b667-47d7-8c73-370026e108e1",
        "colab": {
          "base_uri": "https://localhost:8080/"
        }
      },
      "execution_count": 43,
      "outputs": [
        {
          "output_type": "execute_result",
          "data": {
            "text/plain": [
              "(tensor([1., 0., 1., 0., 1., 1., 0., 0., 1., 0.], device='cuda:0'),\n",
              " tensor([1., 0., 1., 0., 1., 1., 0., 0., 1., 0.], device='cuda:0'))"
            ]
          },
          "metadata": {},
          "execution_count": 43
        }
      ]
    },
    {
      "cell_type": "code",
      "source": [],
      "metadata": {
        "id": "ty5tX7jA_VRd"
      },
      "execution_count": 43,
      "outputs": []
    }
  ]
}