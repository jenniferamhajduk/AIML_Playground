{
  "cells": [
    {
      "cell_type": "markdown",
      "metadata": {
        "id": "view-in-github",
        "colab_type": "text"
      },
      "source": [
        "<a href=\"https://colab.research.google.com/github/jenniferamhajduk/AIML_Playground/blob/main/Custom_Model.ipynb\" target=\"_parent\"><img src=\"https://colab.research.google.com/assets/colab-badge.svg\" alt=\"Open In Colab\"/></a>"
      ]
    },
    {
      "cell_type": "markdown",
      "metadata": {
        "id": "WnWVXKsxxJBd"
      },
      "source": [
        "@InProceedings{cimpoi14describing,\n",
        "\t      Author    = {M. Cimpoi and S. Maji and I. Kokkinos and S. Mohamed and and A. Vedaldi},\n",
        "\t      Title     = {Describing Textures in the Wild},\n",
        "\t      Booktitle = {Proceedings of the {IEEE} Conf. on Computer Vision and Pattern Recognition ({CVPR})},\n",
        "\t      Year      = {2014}}"
      ]
    },
    {
      "cell_type": "code",
      "execution_count": 207,
      "metadata": {
        "colab": {
          "base_uri": "https://localhost:8080/"
        },
        "id": "uJ0ax6XFdri0",
        "outputId": "37dd376d-1229-4146-cd0d-e39541e94bb8"
      },
      "outputs": [
        {
          "output_type": "stream",
          "name": "stdout",
          "text": [
            "Requirement already satisfied: tqdm in /usr/local/lib/python3.10/dist-packages (4.66.2)\n",
            "Requirement already satisfied: torchmetrics in /usr/local/lib/python3.10/dist-packages (1.3.1)\n",
            "Requirement already satisfied: numpy>1.20.0 in /usr/local/lib/python3.10/dist-packages (from torchmetrics) (1.25.2)\n",
            "Requirement already satisfied: packaging>17.1 in /usr/local/lib/python3.10/dist-packages (from torchmetrics) (23.2)\n",
            "Requirement already satisfied: torch>=1.10.0 in /usr/local/lib/python3.10/dist-packages (from torchmetrics) (2.1.0+cu121)\n",
            "Requirement already satisfied: lightning-utilities>=0.8.0 in /usr/local/lib/python3.10/dist-packages (from torchmetrics) (0.10.1)\n",
            "Requirement already satisfied: setuptools in /usr/local/lib/python3.10/dist-packages (from lightning-utilities>=0.8.0->torchmetrics) (67.7.2)\n",
            "Requirement already satisfied: typing-extensions in /usr/local/lib/python3.10/dist-packages (from lightning-utilities>=0.8.0->torchmetrics) (4.10.0)\n",
            "Requirement already satisfied: filelock in /usr/local/lib/python3.10/dist-packages (from torch>=1.10.0->torchmetrics) (3.13.1)\n",
            "Requirement already satisfied: sympy in /usr/local/lib/python3.10/dist-packages (from torch>=1.10.0->torchmetrics) (1.12)\n",
            "Requirement already satisfied: networkx in /usr/local/lib/python3.10/dist-packages (from torch>=1.10.0->torchmetrics) (3.2.1)\n",
            "Requirement already satisfied: jinja2 in /usr/local/lib/python3.10/dist-packages (from torch>=1.10.0->torchmetrics) (3.1.3)\n",
            "Requirement already satisfied: fsspec in /usr/local/lib/python3.10/dist-packages (from torch>=1.10.0->torchmetrics) (2023.6.0)\n",
            "Requirement already satisfied: triton==2.1.0 in /usr/local/lib/python3.10/dist-packages (from torch>=1.10.0->torchmetrics) (2.1.0)\n",
            "Requirement already satisfied: MarkupSafe>=2.0 in /usr/local/lib/python3.10/dist-packages (from jinja2->torch>=1.10.0->torchmetrics) (2.1.5)\n",
            "Requirement already satisfied: mpmath>=0.19 in /usr/local/lib/python3.10/dist-packages (from sympy->torch>=1.10.0->torchmetrics) (1.3.0)\n",
            "Requirement already satisfied: pytorch-ignite in /usr/local/lib/python3.10/dist-packages (0.4.13)\n",
            "Requirement already satisfied: torch<3,>=1.3 in /usr/local/lib/python3.10/dist-packages (from pytorch-ignite) (2.1.0+cu121)\n",
            "Requirement already satisfied: packaging in /usr/local/lib/python3.10/dist-packages (from pytorch-ignite) (23.2)\n",
            "Requirement already satisfied: filelock in /usr/local/lib/python3.10/dist-packages (from torch<3,>=1.3->pytorch-ignite) (3.13.1)\n",
            "Requirement already satisfied: typing-extensions in /usr/local/lib/python3.10/dist-packages (from torch<3,>=1.3->pytorch-ignite) (4.10.0)\n",
            "Requirement already satisfied: sympy in /usr/local/lib/python3.10/dist-packages (from torch<3,>=1.3->pytorch-ignite) (1.12)\n",
            "Requirement already satisfied: networkx in /usr/local/lib/python3.10/dist-packages (from torch<3,>=1.3->pytorch-ignite) (3.2.1)\n",
            "Requirement already satisfied: jinja2 in /usr/local/lib/python3.10/dist-packages (from torch<3,>=1.3->pytorch-ignite) (3.1.3)\n",
            "Requirement already satisfied: fsspec in /usr/local/lib/python3.10/dist-packages (from torch<3,>=1.3->pytorch-ignite) (2023.6.0)\n",
            "Requirement already satisfied: triton==2.1.0 in /usr/local/lib/python3.10/dist-packages (from torch<3,>=1.3->pytorch-ignite) (2.1.0)\n",
            "Requirement already satisfied: MarkupSafe>=2.0 in /usr/local/lib/python3.10/dist-packages (from jinja2->torch<3,>=1.3->pytorch-ignite) (2.1.5)\n",
            "Requirement already satisfied: mpmath>=0.19 in /usr/local/lib/python3.10/dist-packages (from sympy->torch<3,>=1.3->pytorch-ignite) (1.3.0)\n"
          ]
        }
      ],
      "source": [
        "!pip install tqdm\n",
        "!pip install torchmetrics\n",
        "!pip install pytorch-ignite"
      ]
    },
    {
      "cell_type": "code",
      "execution_count": 208,
      "metadata": {
        "colab": {
          "base_uri": "https://localhost:8080/",
          "height": 35
        },
        "id": "7PatGalZq6Ka",
        "outputId": "92199286-1f7a-4adc-8fdb-c7ad2b07a160"
      },
      "outputs": [
        {
          "output_type": "execute_result",
          "data": {
            "text/plain": [
              "'2.1.0+cu121'"
            ],
            "application/vnd.google.colaboratory.intrinsic+json": {
              "type": "string"
            }
          },
          "metadata": {},
          "execution_count": 208
        }
      ],
      "source": [
        "from timeit import default_timer as timer\n",
        "from tqdm.auto import tqdm\n",
        "import torch\n",
        "from torch import nn\n",
        "import torchvision\n",
        "import cv2\n",
        "import numpy as np\n",
        "import matplotlib.pyplot as plt\n",
        "from torchvision.transforms import ToTensor, transforms\n",
        "from torchvision import datasets\n",
        "from torch.utils.data import DataLoader\n",
        "from ignite.metrics import ConfusionMatrix\n",
        "from ignite.engine import Engine, Events\n",
        "from pathlib import Path\n",
        "import pandas as pd\n",
        "torch.__version__"
      ]
    },
    {
      "cell_type": "code",
      "execution_count": 209,
      "metadata": {
        "colab": {
          "base_uri": "https://localhost:8080/",
          "height": 35
        },
        "id": "j_Jv1tkobaCr",
        "outputId": "dea6cb34-caac-41b3-fe2f-0619bd62f9a4"
      },
      "outputs": [
        {
          "output_type": "execute_result",
          "data": {
            "text/plain": [
              "'cuda'"
            ],
            "application/vnd.google.colaboratory.intrinsic+json": {
              "type": "string"
            }
          },
          "metadata": {},
          "execution_count": 209
        }
      ],
      "source": [
        "device = \"cuda\" if torch.cuda.is_available() else \"cpu\"\n",
        "device"
      ]
    },
    {
      "cell_type": "code",
      "execution_count": 210,
      "metadata": {
        "colab": {
          "base_uri": "https://localhost:8080/"
        },
        "id": "FfVM0i8Abnnq",
        "outputId": "82d056c2-dbc2-4747-fc29-93908c4347e6"
      },
      "outputs": [
        {
          "output_type": "stream",
          "name": "stdout",
          "text": [
            "Mon Mar  4 05:48:50 2024       \n",
            "+---------------------------------------------------------------------------------------+\n",
            "| NVIDIA-SMI 535.104.05             Driver Version: 535.104.05   CUDA Version: 12.2     |\n",
            "|-----------------------------------------+----------------------+----------------------+\n",
            "| GPU  Name                 Persistence-M | Bus-Id        Disp.A | Volatile Uncorr. ECC |\n",
            "| Fan  Temp   Perf          Pwr:Usage/Cap |         Memory-Usage | GPU-Util  Compute M. |\n",
            "|                                         |                      |               MIG M. |\n",
            "|=========================================+======================+======================|\n",
            "|   0  NVIDIA A100-SXM4-40GB          Off | 00000000:00:04.0 Off |                    0 |\n",
            "| N/A   40C    P0              58W / 400W |   8895MiB / 40960MiB |      0%      Default |\n",
            "|                                         |                      |             Disabled |\n",
            "+-----------------------------------------+----------------------+----------------------+\n",
            "                                                                                         \n",
            "+---------------------------------------------------------------------------------------+\n",
            "| Processes:                                                                            |\n",
            "|  GPU   GI   CI        PID   Type   Process name                            GPU Memory |\n",
            "|        ID   ID                                                             Usage      |\n",
            "|=======================================================================================|\n",
            "+---------------------------------------------------------------------------------------+\n"
          ]
        }
      ],
      "source": [
        "!nvidia-smi"
      ]
    },
    {
      "cell_type": "code",
      "execution_count": 211,
      "metadata": {
        "id": "9buymfr8_aOR"
      },
      "outputs": [],
      "source": [
        "transform = transforms.Compose([\n",
        "    transforms.Resize((64, 64)),\n",
        "    transforms.ToTensor()\n",
        "])"
      ]
    },
    {
      "cell_type": "code",
      "execution_count": 212,
      "metadata": {
        "id": "6Mo-MyLugAc4"
      },
      "outputs": [],
      "source": [
        "train_data = datasets.DTD(\n",
        "    root=\"data\",\n",
        "    split=\"train\",\n",
        "    partition=1,\n",
        "    transform=transform,\n",
        "    target_transform=None,\n",
        "    download=True\n",
        ")\n",
        "\n",
        "test_data = datasets.DTD(\n",
        "    root=\"data\",\n",
        "    split=\"test\",\n",
        "    partition=1,\n",
        "    transform=transform,\n",
        "    target_transform=None,\n",
        "    download=True\n",
        ")\n",
        "\n",
        "val_data = datasets.DTD(\n",
        "    root=\"data\",\n",
        "    split=\"val\",\n",
        "    partition=1,\n",
        "    transform=transform,\n",
        "    target_transform=None,\n",
        "    download=True\n",
        ")"
      ]
    },
    {
      "cell_type": "code",
      "execution_count": 213,
      "metadata": {
        "colab": {
          "base_uri": "https://localhost:8080/"
        },
        "id": "RRUA_nVXwZvZ",
        "outputId": "efdd45b0-5c9e-4dea-8ea2-70ec5965b3c9"
      },
      "outputs": [
        {
          "output_type": "execute_result",
          "data": {
            "text/plain": [
              "(1880, 1880, 1880)"
            ]
          },
          "metadata": {},
          "execution_count": 213
        }
      ],
      "source": [
        "len(train_data), len(test_data), len(val_data)"
      ]
    },
    {
      "cell_type": "code",
      "execution_count": 214,
      "metadata": {
        "id": "61cTIBZHwwWz"
      },
      "outputs": [],
      "source": [
        "image, target = train_data[0]"
      ]
    },
    {
      "cell_type": "code",
      "execution_count": 215,
      "metadata": {
        "colab": {
          "base_uri": "https://localhost:8080/"
        },
        "id": "ztkks666B82y",
        "outputId": "207ee256-5d27-4b31-88c3-2a864dd245f4"
      },
      "outputs": [
        {
          "output_type": "execute_result",
          "data": {
            "text/plain": [
              "(tensor([[[1.0000, 1.0000, 0.9961,  ..., 0.5765, 0.9294, 0.9961],\n",
              "          [1.0000, 1.0000, 0.9961,  ..., 0.5804, 0.9294, 1.0000],\n",
              "          [1.0000, 1.0000, 1.0000,  ..., 0.5804, 0.9294, 0.9961],\n",
              "          ...,\n",
              "          [1.0000, 1.0000, 0.9961,  ..., 0.5804, 0.9294, 0.9961],\n",
              "          [1.0000, 1.0000, 0.9961,  ..., 0.5804, 0.9294, 0.9961],\n",
              "          [1.0000, 1.0000, 1.0000,  ..., 0.5804, 0.9294, 1.0000]],\n",
              " \n",
              "         [[0.9765, 0.3294, 0.0118,  ..., 0.8745, 0.9529, 0.3216],\n",
              "          [0.9765, 0.3294, 0.0118,  ..., 0.8745, 0.9529, 0.3255],\n",
              "          [0.9765, 0.3294, 0.0118,  ..., 0.8745, 0.9529, 0.3255],\n",
              "          ...,\n",
              "          [0.9765, 0.3294, 0.0118,  ..., 0.8745, 0.9529, 0.3255],\n",
              "          [0.9765, 0.3294, 0.0118,  ..., 0.8745, 0.9529, 0.3255],\n",
              "          [0.9765, 0.3294, 0.0118,  ..., 0.8745, 0.9529, 0.3255]],\n",
              " \n",
              "         [[0.9882, 0.6627, 0.5020,  ..., 0.3804, 0.8863, 0.6549],\n",
              "          [0.9882, 0.6627, 0.5020,  ..., 0.3804, 0.8863, 0.6549],\n",
              "          [0.9882, 0.6627, 0.5020,  ..., 0.3804, 0.8863, 0.6549],\n",
              "          ...,\n",
              "          [0.9882, 0.6627, 0.5020,  ..., 0.3804, 0.8863, 0.6549],\n",
              "          [0.9882, 0.6627, 0.5020,  ..., 0.3804, 0.8863, 0.6549],\n",
              "          [0.9882, 0.6627, 0.5020,  ..., 0.3804, 0.8863, 0.6549]]]),\n",
              " 0)"
            ]
          },
          "metadata": {},
          "execution_count": 215
        }
      ],
      "source": [
        "image, target"
      ]
    },
    {
      "cell_type": "code",
      "execution_count": 216,
      "metadata": {
        "colab": {
          "base_uri": "https://localhost:8080/"
        },
        "id": "IbIndWBfCBa4",
        "outputId": "6c186fde-0c38-4014-eadd-67fac5423fc9"
      },
      "outputs": [
        {
          "output_type": "execute_result",
          "data": {
            "text/plain": [
              "torch.Size([3, 64, 64])"
            ]
          },
          "metadata": {},
          "execution_count": 216
        }
      ],
      "source": [
        "image.shape"
      ]
    },
    {
      "cell_type": "code",
      "execution_count": 217,
      "metadata": {
        "colab": {
          "base_uri": "https://localhost:8080/"
        },
        "id": "1IILsDaYCNm1",
        "outputId": "5599fc4e-7a2f-449d-a7ed-95dae5a0d4c7"
      },
      "outputs": [
        {
          "output_type": "execute_result",
          "data": {
            "text/plain": [
              "['banded',\n",
              " 'blotchy',\n",
              " 'braided',\n",
              " 'bubbly',\n",
              " 'bumpy',\n",
              " 'chequered',\n",
              " 'cobwebbed',\n",
              " 'cracked',\n",
              " 'crosshatched',\n",
              " 'crystalline',\n",
              " 'dotted',\n",
              " 'fibrous',\n",
              " 'flecked',\n",
              " 'freckled',\n",
              " 'frilly',\n",
              " 'gauzy',\n",
              " 'grid',\n",
              " 'grooved',\n",
              " 'honeycombed',\n",
              " 'interlaced',\n",
              " 'knitted',\n",
              " 'lacelike',\n",
              " 'lined',\n",
              " 'marbled',\n",
              " 'matted',\n",
              " 'meshed',\n",
              " 'paisley',\n",
              " 'perforated',\n",
              " 'pitted',\n",
              " 'pleated',\n",
              " 'polka-dotted',\n",
              " 'porous',\n",
              " 'potholed',\n",
              " 'scaly',\n",
              " 'smeared',\n",
              " 'spiralled',\n",
              " 'sprinkled',\n",
              " 'stained',\n",
              " 'stratified',\n",
              " 'striped',\n",
              " 'studded',\n",
              " 'swirly',\n",
              " 'veined',\n",
              " 'waffled',\n",
              " 'woven',\n",
              " 'wrinkled',\n",
              " 'zigzagged']"
            ]
          },
          "metadata": {},
          "execution_count": 217
        }
      ],
      "source": [
        "classes = train_data.classes\n",
        "classes"
      ]
    },
    {
      "cell_type": "code",
      "execution_count": 218,
      "metadata": {
        "colab": {
          "base_uri": "https://localhost:8080/"
        },
        "id": "Bg8iPDLk7DQR",
        "outputId": "afac0075-13a6-4465-8f85-cee2b50b84fb"
      },
      "outputs": [
        {
          "output_type": "execute_result",
          "data": {
            "text/plain": [
              "47"
            ]
          },
          "metadata": {},
          "execution_count": 218
        }
      ],
      "source": [
        "len(classes)"
      ]
    },
    {
      "cell_type": "code",
      "execution_count": 219,
      "metadata": {
        "colab": {
          "base_uri": "https://localhost:8080/",
          "height": 469
        },
        "id": "gXHjJZuj8vhQ",
        "outputId": "79e2f90c-5abb-4f85-e420-86e642242e54"
      },
      "outputs": [
        {
          "output_type": "execute_result",
          "data": {
            "text/plain": [
              "Text(0.5, 1.0, 'braided')"
            ]
          },
          "metadata": {},
          "execution_count": 219
        },
        {
          "output_type": "display_data",
          "data": {
            "text/plain": [
              "<Figure size 640x480 with 1 Axes>"
            ],
            "image/png": "[encoded data removed]"
          },
          "metadata": {}
        }
      ],
      "source": [
        "image, label = train_data[100]\n",
        "image = image.squeeze(dim=1)\n",
        "image = image.numpy()\n",
        "image = image.transpose(1,2,0)\n",
        "plt.imshow(image)\n",
        "plt.title(classes[label])"
      ]
    },
    {
      "cell_type": "code",
      "execution_count": 220,
      "metadata": {
        "colab": {
          "base_uri": "https://localhost:8080/",
          "height": 983
        },
        "id": "klsZ9iSr9A9i",
        "outputId": "5504372d-2b87-441c-de63-bee61d7648a4"
      },
      "outputs": [
        {
          "output_type": "display_data",
          "data": {
            "text/plain": [
              "<Figure size 1200x1200 with 9 Axes>"
            ],
            "image/png": "[encoded data removed]"
          },
          "metadata": {}
        }
      ],
      "source": [
        "fig = plt.figure(figsize=(12,12))\n",
        "rows, cols = 3, 3\n",
        "for i in range(1, rows*cols+1):\n",
        "  rand_idx = torch.randint(0, len(train_data), size=[1]).item()\n",
        "  image, label = train_data[rand_idx]\n",
        "  image = image.numpy()\n",
        "  image = image.transpose(1,2,0)\n",
        "  fig.add_subplot(rows, cols, i)\n",
        "  plt.imshow(image)\n",
        "  plt.title(classes[label])\n",
        "  plt.axis(False)"
      ]
    },
    {
      "cell_type": "code",
      "execution_count": 221,
      "metadata": {
        "id": "fdbx5cmcCJ1E"
      },
      "outputs": [],
      "source": [
        "BATCH_SIZE=32"
      ]
    },
    {
      "cell_type": "code",
      "execution_count": 222,
      "metadata": {
        "id": "zvU-Xkea9B0X"
      },
      "outputs": [],
      "source": [
        "train_dataloader = DataLoader(\n",
        "    dataset=train_data,\n",
        "    batch_size=BATCH_SIZE,\n",
        "    shuffle=True\n",
        ")\n",
        "\n",
        "test_dataloader = DataLoader(\n",
        "    dataset=test_data,\n",
        "    batch_size=BATCH_SIZE,\n",
        "    shuffle=False\n",
        ")\n",
        "\n",
        "val_dataloader = DataLoader(\n",
        "    dataset=val_data,\n",
        "    batch_size=BATCH_SIZE,\n",
        "    shuffle=False\n",
        ")"
      ]
    },
    {
      "cell_type": "code",
      "execution_count": 223,
      "metadata": {
        "id": "8E-abNrECw82"
      },
      "outputs": [],
      "source": [
        "class baseline_vision_classifier(nn.Module):\n",
        "  def __init__(self, input_shape: int, hidden_units: int, output_shape: int):\n",
        "    super().__init__()\n",
        "    self.conv_block_1 = nn.Sequential(\n",
        "        nn.Conv2d(\n",
        "            in_channels=input_shape,\n",
        "            out_channels=hidden_units,\n",
        "            kernel_size=3,\n",
        "            stride=1,\n",
        "            padding=\"same\"\n",
        "        ),\n",
        "        nn.ReLU(),\n",
        "        nn.Conv2d(\n",
        "            in_channels=hidden_units,\n",
        "            out_channels=hidden_units,\n",
        "            kernel_size=3,\n",
        "            stride=1,\n",
        "            padding=\"same\"\n",
        "        ),\n",
        "        nn.ReLU(),\n",
        "        nn.MaxPool2d(kernel_size=2)\n",
        "    )\n",
        "    self.dropout_1 = nn.Dropout2d(p=0.5)\n",
        "    self.conv_block_2 = nn.Sequential(\n",
        "        nn.Conv2d(\n",
        "            in_channels=hidden_units,\n",
        "            out_channels=hidden_units,\n",
        "            kernel_size=3,\n",
        "            stride=1,\n",
        "            padding=\"same\"\n",
        "        ),\n",
        "        nn.ReLU(),\n",
        "        nn.Conv2d(\n",
        "            in_channels=hidden_units,\n",
        "            out_channels=hidden_units,\n",
        "            kernel_size=3,\n",
        "            stride=1,\n",
        "            padding=\"same\"\n",
        "        ),\n",
        "        nn.ReLU(),\n",
        "        nn.MaxPool2d(kernel_size=2)\n",
        "    )\n",
        "    self.dropout_2 = nn.Dropout2d(p=0.1)\n",
        "    self.classifier = nn.Sequential(\n",
        "        nn.Flatten(),\n",
        "        nn.Linear(\n",
        "            in_features=hidden_units*256,\n",
        "            out_features=output_shape\n",
        "        )\n",
        "    )\n",
        "\n",
        "  def forward(self, x):\n",
        "    #print(\"First Layer\")\n",
        "    x = self.conv_block_1(x)\n",
        "    x = self.dropout_1(x)\n",
        "    #print(x.shape)\n",
        "    #print(\"Second Layer\")\n",
        "    x = self.conv_block_2(x)\n",
        "    x = self.dropout_2(x)\n",
        "   #print(x.shape)\n",
        "    #print(\"Classifier Layer\")\n",
        "    out = self.classifier(x)\n",
        "    return out\n"
      ]
    },
    {
      "cell_type": "code",
      "execution_count": 224,
      "metadata": {
        "colab": {
          "base_uri": "https://localhost:8080/"
        },
        "id": "5dHJy0nZHzlz",
        "outputId": "155a0453-a248-4475-858b-b1ef057be0a0"
      },
      "outputs": [
        {
          "output_type": "stream",
          "name": "stdout",
          "text": [
            "DataLoaders: (<torch.utils.data.dataloader.DataLoader object at 0x7ece33e85870>, <torch.utils.data.dataloader.DataLoader object at 0x7ece33e84d30>)\n",
            "Length of train_dataloader: 59 batches of 32\n",
            "Length of test_dataloader: 59 batches of 32\n",
            "Length of val_dataloader: 59 batches of 32\n"
          ]
        }
      ],
      "source": [
        "print(f\"DataLoaders: {train_dataloader, test_dataloader}\")\n",
        "print(f\"Length of train_dataloader: {len(train_dataloader)} batches of {BATCH_SIZE}\")\n",
        "print(f\"Length of test_dataloader: {len(test_dataloader)} batches of {BATCH_SIZE}\")\n",
        "print(f\"Length of val_dataloader: {len(val_dataloader)} batches of {BATCH_SIZE}\")"
      ]
    },
    {
      "cell_type": "code",
      "execution_count": 225,
      "metadata": {
        "id": "GZ__X_By61Hp"
      },
      "outputs": [],
      "source": [
        "def Accuracy(y_true, y_pred):\n",
        "  correct = torch.eq(y_true, y_pred).sum().item()\n",
        "  acc = (correct / len(y_pred)) * 100\n",
        "  return acc"
      ]
    },
    {
      "cell_type": "code",
      "execution_count": 226,
      "metadata": {
        "id": "fwE59KVZYJGQ"
      },
      "outputs": [],
      "source": [
        "def print_training_time(\n",
        "    start: float,\n",
        "    end: float,\n",
        "    device: torch.device = None):\n",
        "  total_time = end - start\n",
        "  print(f\"Train time on {device}: {total_time: .3f} seconds\")"
      ]
    },
    {
      "cell_type": "code",
      "execution_count": 227,
      "metadata": {
        "id": "Tb0BLdJvKl8z"
      },
      "outputs": [],
      "source": [
        "def train_loop(model: torch.nn.Module,\n",
        "                epochs: int,\n",
        "                train_loader: torch.utils.data.DataLoader,\n",
        "                test_loader: torch.utils.data.DataLoader,\n",
        "                loss_fn: torch.nn.Module,\n",
        "                optimizer: torch.nn.Module,\n",
        "                accuracy):\n",
        "  print(f\"Running: \", model.__class__.__name__)\n",
        "  train_start_time = timer()\n",
        "  for epoch in tqdm(range(epochs)):\n",
        "    print(f\"Epoch: {epoch}\")\n",
        "    train_loss, train_acc = 0, 0\n",
        "    for batch, (X,y) in enumerate(train_loader):\n",
        "      X, y = X.to(device), y.to(device)\n",
        "      model.train()\n",
        "      y_pred = model(X)\n",
        "      loss = loss_fn(y_pred, y)\n",
        "      train_loss += loss\n",
        "      train_acc += Accuracy(y, y_pred.argmax(dim=1))\n",
        "      optimizer.zero_grad()\n",
        "      loss.backward()\n",
        "      optimizer.step()\n",
        "\n",
        "    train_acc /= len(train_loader)\n",
        "    train_loss /= len(train_loader)\n",
        "    print(f\"Train Accuracy: {train_acc: .2f}%, Train Loss: {train_loss: .4f}\")\n",
        "\n",
        "\n",
        "  test_loss, test_acc = 0,0\n",
        "  with torch.inference_mode():\n",
        "    for X_test, y_test in tqdm(test_loader):\n",
        "      X_test, y_test = X_test.to(device), y_test.to(device)\n",
        "      test_pred = model(X_test)\n",
        "      test_loss += loss_fn(test_pred, y_test)\n",
        "      test_acc += Accuracy(y_test, test_pred.argmax(dim=1))\n",
        "\n",
        "    test_loss /= len(test_loader)\n",
        "    test_acc  /= len(test_loader)\n",
        "    print(f\"Test Accuracy: {test_acc: .2f}%, Test Loss: {test_loss: .4f}\")\n",
        "\n",
        "  training_end_time = timer()\n",
        "  total_time = print_training_time(start=train_start_time, end=training_end_time, device=str(next(model.parameters()).device))\n",
        "\n",
        "  return {\"model_name\": model.__class__.__name__,\n",
        "          \"model_loss\": train_loss.item(),\n",
        "          \"model_acc\": train_acc}"
      ]
    },
    {
      "cell_type": "code",
      "source": [
        "def eval_loop(\n",
        "    model: torch.nn.Module,\n",
        "    loader: torch.utils.data.DataLoader,\n",
        "    loss_fn: torch.nn.Module,\n",
        "    accuracy):\n",
        "  loss, acc = 0,0\n",
        "  model.eval().to(device)\n",
        "  with torch.inference_mode():\n",
        "    for X, y in tqdm(loader):\n",
        "      X, y = X.to(device), y.to(device)\n",
        "      y_pred = model(X)\n",
        "      loss += loss_fn(y_pred, y)\n",
        "      acc += accuracy(y, y_pred.argmax(dim=1))\n",
        "\n",
        "    loss /= len(loader)\n",
        "    acc /= len(loader)\n",
        "    print(f\"Eval Accuracy: {acc: .2f}%, Eval Loss: {loss: .4f}\")\n",
        "\n",
        "\n",
        "  return {\"model_name\": model.__class__.__name__,\n",
        "          \"model_loss\": loss.item(),\n",
        "          \"model_acc\": acc}"
      ],
      "metadata": {
        "id": "N9qu7Lo7nVM4"
      },
      "execution_count": 228,
      "outputs": []
    },
    {
      "cell_type": "code",
      "execution_count": 229,
      "metadata": {
        "id": "QHZPM4tFDR-v"
      },
      "outputs": [],
      "source": [
        "EPOCHS=50\n",
        "INPUT_SHAPE=3\n",
        "HIDDEN_UNITS=1024\n",
        "OUTPUT_SHAPE=47\n",
        "LEARNING_RATE=0.01"
      ]
    },
    {
      "cell_type": "code",
      "execution_count": 230,
      "metadata": {
        "id": "5JGVORncHEnB"
      },
      "outputs": [],
      "source": [
        "baseline = baseline_vision_classifier(\n",
        "    input_shape=INPUT_SHAPE,\n",
        "    hidden_units=HIDDEN_UNITS,\n",
        "    output_shape=OUTPUT_SHAPE\n",
        ").to(device)"
      ]
    },
    {
      "cell_type": "code",
      "execution_count": 231,
      "metadata": {
        "colab": {
          "base_uri": "https://localhost:8080/"
        },
        "id": "C0h2xZMpKjnu",
        "outputId": "461c6faf-c8c0-440b-da47-3f4153e7c797"
      },
      "outputs": [
        {
          "output_type": "execute_result",
          "data": {
            "text/plain": [
              "baseline_vision_classifier(\n",
              "  (conv_block_1): Sequential(\n",
              "    (0): Conv2d(3, 1024, kernel_size=(3, 3), stride=(1, 1), padding=same)\n",
              "    (1): ReLU()\n",
              "    (2): Conv2d(1024, 1024, kernel_size=(3, 3), stride=(1, 1), padding=same)\n",
              "    (3): ReLU()\n",
              "    (4): MaxPool2d(kernel_size=2, stride=2, padding=0, dilation=1, ceil_mode=False)\n",
              "  )\n",
              "  (dropout_1): Dropout2d(p=0.5, inplace=False)\n",
              "  (conv_block_2): Sequential(\n",
              "    (0): Conv2d(1024, 1024, kernel_size=(3, 3), stride=(1, 1), padding=same)\n",
              "    (1): ReLU()\n",
              "    (2): Conv2d(1024, 1024, kernel_size=(3, 3), stride=(1, 1), padding=same)\n",
              "    (3): ReLU()\n",
              "    (4): MaxPool2d(kernel_size=2, stride=2, padding=0, dilation=1, ceil_mode=False)\n",
              "  )\n",
              "  (dropout_2): Dropout2d(p=0.1, inplace=False)\n",
              "  (classifier): Sequential(\n",
              "    (0): Flatten(start_dim=1, end_dim=-1)\n",
              "    (1): Linear(in_features=262144, out_features=47, bias=True)\n",
              "  )\n",
              ")"
            ]
          },
          "metadata": {},
          "execution_count": 231
        }
      ],
      "source": [
        "baseline"
      ]
    },
    {
      "cell_type": "code",
      "execution_count": 232,
      "metadata": {
        "id": "D13WFytvUwhc"
      },
      "outputs": [],
      "source": [
        "loss_fn = nn.CrossEntropyLoss()\n",
        "optimizer = torch.optim.SGD(params=baseline.parameters(), lr=LEARNING_RATE)"
      ]
    },
    {
      "cell_type": "code",
      "execution_count": 233,
      "metadata": {
        "colab": {
          "base_uri": "https://localhost:8080/",
          "height": 1000,
          "referenced_widgets": [
            "7e4b4a881c8242adb56f17632bee384a",
            "159a6162912a44ca996f1445d9bdfffd",
            "e23d38a6787e459aa58b7a63c54298fb",
            "364f0729b64e43c09d3d66642a3aca77",
            "016c0106ea3745e1b8a03ba46d77767d",
            "c4002490416d4604a3b5245ade9bfaeb",
            "a44ec0ff42be4e0789e8305948ff7735",
            "be972d6e1d6842f89d5ea459ef730fad",
            "a6ae84643cc04f069ef3a1ce1fc2b4e0",
            "0bafeb96f68043b4b476c80a95f8b110",
            "dadeb75f4de642f9ba546515cfdacf8a",
            "199efd7a4a2f4be1af88f2fde6625b8b",
            "51fb3be85a3940b5803d3b9ea742a9d0",
            "978ccda574bd428f953c17dfaf04941c",
            "2be2615f79dc4580a69cd65a160a0ceb",
            "8d94b4a368b34f569cb8428d7d4e61ab",
            "69e92680e1cc424fbfc375d8e407ce02",
            "b59dcc7145cb4595a5e6ed39c1844957",
            "8b62494ea8a54f7687a6e952bef42d7b",
            "54909a4a945f40c68490793e1d840799",
            "06222b036d244b66a8e1325805a4e80d",
            "c4394cb18d35439cad4d82eefbd4fd75",
            "09304ece7752428b8e78e6e3cf943e09",
            "e8b789f9a34b47669ddbe3cdea38b3a8",
            "b4afe90328a3419ba6b8898fb68124f2",
            "6ae6e1e5e8fa45b491c188bd44de8cab",
            "f0c626cb06804ce1bf0c7e8bcef51744",
            "b3571ef996c540ca99c3ac02bfe4a74d",
            "6f8d9fe174ff4b97944e6bc1ada661c8",
            "1052ed7750e24886a1d7980636402b37",
            "7f44952ae67e4da09f2a1282e17f0660",
            "cde993247f8044e49565db769ac029e1",
            "fc17507ae42b4e4b8ae9c882a5961b7d"
          ]
        },
        "id": "1YqF-znVZOb0",
        "outputId": "4a75ce79-a641-438e-a32a-223fe105e367"
      },
      "outputs": [
        {
          "output_type": "stream",
          "name": "stdout",
          "text": [
            "Running:  baseline_vision_classifier\n"
          ]
        },
        {
          "output_type": "display_data",
          "data": {
            "text/plain": [
              "  0%|          | 0/50 [00:00<?, ?it/s]"
            ],
            "application/vnd.jupyter.widget-view+json": {
              "version_major": 2,
              "version_minor": 0,
              "model_id": "7e4b4a881c8242adb56f17632bee384a"
            }
          },
          "metadata": {}
        },
        {
          "output_type": "stream",
          "name": "stdout",
          "text": [
            "Epoch: 0\n",
            "Train Accuracy:  1.43%, Train Loss:  3.8574\n",
            "Epoch: 1\n",
            "Train Accuracy:  1.98%, Train Loss:  3.8493\n",
            "Epoch: 2\n",
            "Train Accuracy:  2.22%, Train Loss:  3.8439\n",
            "Epoch: 3\n",
            "Train Accuracy:  2.22%, Train Loss:  3.8373\n",
            "Epoch: 4\n",
            "Train Accuracy:  2.88%, Train Loss:  3.8273\n",
            "Epoch: 5\n",
            "Train Accuracy:  3.73%, Train Loss:  3.8141\n",
            "Epoch: 6\n",
            "Train Accuracy:  5.30%, Train Loss:  3.7899\n",
            "Epoch: 7\n",
            "Train Accuracy:  5.88%, Train Loss:  3.7590\n",
            "Epoch: 8\n",
            "Train Accuracy:  5.93%, Train Loss:  3.7405\n",
            "Epoch: 9\n",
            "Train Accuracy:  7.89%, Train Loss:  3.7092\n",
            "Epoch: 10\n",
            "Train Accuracy:  7.42%, Train Loss:  3.6786\n",
            "Epoch: 11\n",
            "Train Accuracy:  9.09%, Train Loss:  3.6458\n",
            "Epoch: 12\n",
            "Train Accuracy:  10.13%, Train Loss:  3.6115\n",
            "Epoch: 13\n",
            "Train Accuracy:  10.98%, Train Loss:  3.5882\n",
            "Epoch: 14\n",
            "Train Accuracy:  12.84%, Train Loss:  3.5191\n",
            "Epoch: 15\n",
            "Train Accuracy:  13.49%, Train Loss:  3.4780\n",
            "Epoch: 16\n",
            "Train Accuracy:  14.62%, Train Loss:  3.4334\n",
            "Epoch: 17\n",
            "Train Accuracy:  15.13%, Train Loss:  3.3839\n",
            "Epoch: 18\n",
            "Train Accuracy:  18.45%, Train Loss:  3.2870\n",
            "Epoch: 19\n",
            "Train Accuracy:  19.74%, Train Loss:  3.2088\n",
            "Epoch: 20\n",
            "Train Accuracy:  21.65%, Train Loss:  3.1071\n",
            "Epoch: 21\n",
            "Train Accuracy:  26.52%, Train Loss:  2.9764\n",
            "Epoch: 22\n",
            "Train Accuracy:  30.58%, Train Loss:  2.7725\n",
            "Epoch: 23\n",
            "Train Accuracy:  34.99%, Train Loss:  2.6126\n",
            "Epoch: 24\n",
            "Train Accuracy:  41.15%, Train Loss:  2.3551\n",
            "Epoch: 25\n",
            "Train Accuracy:  47.14%, Train Loss:  2.0949\n",
            "Epoch: 26\n",
            "Train Accuracy:  55.54%, Train Loss:  1.7858\n",
            "Epoch: 27\n",
            "Train Accuracy:  60.36%, Train Loss:  1.5561\n",
            "Epoch: 28\n",
            "Train Accuracy:  63.81%, Train Loss:  1.4540\n",
            "Epoch: 29\n",
            "Train Accuracy:  71.75%, Train Loss:  1.1620\n",
            "Epoch: 30\n",
            "Train Accuracy:  76.54%, Train Loss:  0.9379\n",
            "Epoch: 31\n",
            "Train Accuracy:  68.08%, Train Loss:  1.5683\n",
            "Epoch: 32\n",
            "Train Accuracy:  80.28%, Train Loss:  0.8392\n",
            "Epoch: 33\n",
            "Train Accuracy:  84.90%, Train Loss:  0.6393\n",
            "Epoch: 34\n",
            "Train Accuracy:  87.31%, Train Loss:  0.5137\n",
            "Epoch: 35\n",
            "Train Accuracy:  90.13%, Train Loss:  0.4146\n",
            "Epoch: 36\n",
            "Train Accuracy:  79.15%, Train Loss:  1.2118\n",
            "Epoch: 37\n",
            "Train Accuracy:  81.89%, Train Loss:  1.1638\n",
            "Epoch: 38\n",
            "Train Accuracy:  88.19%, Train Loss:  0.5396\n",
            "Epoch: 39\n",
            "Train Accuracy:  87.46%, Train Loss:  0.8103\n",
            "Epoch: 40\n",
            "Train Accuracy:  92.09%, Train Loss:  0.3663\n",
            "Epoch: 41\n",
            "Train Accuracy:  94.12%, Train Loss:  0.2586\n",
            "Epoch: 42\n",
            "Train Accuracy:  94.07%, Train Loss:  0.2371\n",
            "Epoch: 43\n",
            "Train Accuracy:  95.69%, Train Loss:  0.1990\n",
            "Epoch: 44\n",
            "Train Accuracy:  96.24%, Train Loss:  0.1591\n",
            "Epoch: 45\n",
            "Train Accuracy:  96.65%, Train Loss:  0.1399\n",
            "Epoch: 46\n",
            "Train Accuracy:  96.88%, Train Loss:  0.1294\n",
            "Epoch: 47\n",
            "Train Accuracy:  90.40%, Train Loss:  0.5703\n",
            "Epoch: 48\n",
            "Train Accuracy:  96.26%, Train Loss:  0.1829\n",
            "Epoch: 49\n",
            "Train Accuracy:  97.21%, Train Loss:  0.1271\n"
          ]
        },
        {
          "output_type": "display_data",
          "data": {
            "text/plain": [
              "  0%|          | 0/59 [00:00<?, ?it/s]"
            ],
            "application/vnd.jupyter.widget-view+json": {
              "version_major": 2,
              "version_minor": 0,
              "model_id": "199efd7a4a2f4be1af88f2fde6625b8b"
            }
          },
          "metadata": {}
        },
        {
          "output_type": "stream",
          "name": "stdout",
          "text": [
            "Test Accuracy:  8.19%, Test Loss:  10.6647\n",
            "Train time on cuda:0:  491.591 seconds\n"
          ]
        },
        {
          "output_type": "display_data",
          "data": {
            "text/plain": [
              "  0%|          | 0/59 [00:00<?, ?it/s]"
            ],
            "application/vnd.jupyter.widget-view+json": {
              "version_major": 2,
              "version_minor": 0,
              "model_id": "09304ece7752428b8e78e6e3cf943e09"
            }
          },
          "metadata": {}
        },
        {
          "output_type": "stream",
          "name": "stdout",
          "text": [
            "Eval Accuracy:  8.28%, Eval Loss:  10.9054\n"
          ]
        }
      ],
      "source": [
        "baseline_training = train_loop(model=baseline, epochs=EPOCHS, train_loader=train_dataloader, test_loader=test_dataloader, loss_fn=loss_fn, optimizer=optimizer, accuracy=Accuracy)\n",
        "baseline_eval = eval_loop(model=baseline, loader=test_dataloader, loss_fn=loss_fn, accuracy=Accuracy)"
      ]
    }
  ],
  "metadata": {
    "accelerator": "GPU",
    "colab": {
      "gpuType": "A100",
      "machine_shape": "hm",
      "provenance": [],
      "authorship_tag": "ABX9TyOKn2F6v2hW5JU1X7qYB6G3",
      "include_colab_link": true
    },
    "kernelspec": {
      "display_name": "Python 3",
      "name": "python3"
    },
    "language_info": {
      "name": "python"
    },
    "widgets": {
      "application/vnd.jupyter.widget-state+json": {
        "7e4b4a881c8242adb56f17632bee384a": {
          "model_module": "@jupyter-widgets/controls",
          "model_name": "HBoxModel",
          "model_module_version": "1.5.0",
          "state": {
            "_dom_classes": [],
            "_model_module": "@jupyter-widgets/controls",
            "_model_module_version": "1.5.0",
            "_model_name": "HBoxModel",
            "_view_count": null,
            "_view_module": "@jupyter-widgets/controls",
            "_view_module_version": "1.5.0",
            "_view_name": "HBoxView",
            "box_style": "",
            "children": [
              "IPY_MODEL_159a6162912a44ca996f1445d9bdfffd",
              "IPY_MODEL_e23d38a6787e459aa58b7a63c54298fb",
              "IPY_MODEL_364f0729b64e43c09d3d66642a3aca77"
            ],
            "layout": "IPY_MODEL_016c0106ea3745e1b8a03ba46d77767d"
          }
        },
        "159a6162912a44ca996f1445d9bdfffd": {
          "model_module": "@jupyter-widgets/controls",
          "model_name": "HTMLModel",
          "model_module_version": "1.5.0",
          "state": {
            "_dom_classes": [],
            "_model_module": "@jupyter-widgets/controls",
            "_model_module_version": "1.5.0",
            "_model_name": "HTMLModel",
            "_view_count": null,
            "_view_module": "@jupyter-widgets/controls",
            "_view_module_version": "1.5.0",
            "_view_name": "HTMLView",
            "description": "",
            "description_tooltip": null,
            "layout": "IPY_MODEL_c4002490416d4604a3b5245ade9bfaeb",
            "placeholder": "​",
            "style": "IPY_MODEL_a44ec0ff42be4e0789e8305948ff7735",
            "value": "100%"
          }
        },
        "e23d38a6787e459aa58b7a63c54298fb": {
          "model_module": "@jupyter-widgets/controls",
          "model_name": "FloatProgressModel",
          "model_module_version": "1.5.0",
          "state": {
            "_dom_classes": [],
            "_model_module": "@jupyter-widgets/controls",
            "_model_module_version": "1.5.0",
            "_model_name": "FloatProgressModel",
            "_view_count": null,
            "_view_module": "@jupyter-widgets/controls",
            "_view_module_version": "1.5.0",
            "_view_name": "ProgressView",
            "bar_style": "success",
            "description": "",
            "description_tooltip": null,
            "layout": "IPY_MODEL_be972d6e1d6842f89d5ea459ef730fad",
            "max": 50,
            "min": 0,
            "orientation": "horizontal",
            "style": "IPY_MODEL_a6ae84643cc04f069ef3a1ce1fc2b4e0",
            "value": 50
          }
        },
        "364f0729b64e43c09d3d66642a3aca77": {
          "model_module": "@jupyter-widgets/controls",
          "model_name": "HTMLModel",
          "model_module_version": "1.5.0",
          "state": {
            "_dom_classes": [],
            "_model_module": "@jupyter-widgets/controls",
            "_model_module_version": "1.5.0",
            "_model_name": "HTMLModel",
            "_view_count": null,
            "_view_module": "@jupyter-widgets/controls",
            "_view_module_version": "1.5.0",
            "_view_name": "HTMLView",
            "description": "",
            "description_tooltip": null,
            "layout": "IPY_MODEL_0bafeb96f68043b4b476c80a95f8b110",
            "placeholder": "​",
            "style": "IPY_MODEL_dadeb75f4de642f9ba546515cfdacf8a",
            "value": " 50/50 [08:02&lt;00:00,  9.70s/it]"
          }
        },
        "016c0106ea3745e1b8a03ba46d77767d": {
          "model_module": "@jupyter-widgets/base",
          "model_name": "LayoutModel",
          "model_module_version": "1.2.0",
          "state": {
            "_model_module": "@jupyter-widgets/base",
            "_model_module_version": "1.2.0",
            "_model_name": "LayoutModel",
            "_view_count": null,
            "_view_module": "@jupyter-widgets/base",
            "_view_module_version": "1.2.0",
            "_view_name": "LayoutView",
            "align_content": null,
            "align_items": null,
            "align_self": null,
            "border": null,
            "bottom": null,
            "display": null,
            "flex": null,
            "flex_flow": null,
            "grid_area": null,
            "grid_auto_columns": null,
            "grid_auto_flow": null,
            "grid_auto_rows": null,
            "grid_column": null,
            "grid_gap": null,
            "grid_row": null,
            "grid_template_areas": null,
            "grid_template_columns": null,
            "grid_template_rows": null,
            "height": null,
            "justify_content": null,
            "justify_items": null,
            "left": null,
            "margin": null,
            "max_height": null,
            "max_width": null,
            "min_height": null,
            "min_width": null,
            "object_fit": null,
            "object_position": null,
            "order": null,
            "overflow": null,
            "overflow_x": null,
            "overflow_y": null,
            "padding": null,
            "right": null,
            "top": null,
            "visibility": null,
            "width": null
          }
        },
        "c4002490416d4604a3b5245ade9bfaeb": {
          "model_module": "@jupyter-widgets/base",
          "model_name": "LayoutModel",
          "model_module_version": "1.2.0",
          "state": {
            "_model_module": "@jupyter-widgets/base",
            "_model_module_version": "1.2.0",
            "_model_name": "LayoutModel",
            "_view_count": null,
            "_view_module": "@jupyter-widgets/base",
            "_view_module_version": "1.2.0",
            "_view_name": "LayoutView",
            "align_content": null,
            "align_items": null,
            "align_self": null,
            "border": null,
            "bottom": null,
            "display": null,
            "flex": null,
            "flex_flow": null,
            "grid_area": null,
            "grid_auto_columns": null,
            "grid_auto_flow": null,
            "grid_auto_rows": null,
            "grid_column": null,
            "grid_gap": null,
            "grid_row": null,
            "grid_template_areas": null,
            "grid_template_columns": null,
            "grid_template_rows": null,
            "height": null,
            "justify_content": null,
            "justify_items": null,
            "left": null,
            "margin": null,
            "max_height": null,
            "max_width": null,
            "min_height": null,
            "min_width": null,
            "object_fit": null,
            "object_position": null,
            "order": null,
            "overflow": null,
            "overflow_x": null,
            "overflow_y": null,
            "padding": null,
            "right": null,
            "top": null,
            "visibility": null,
            "width": null
          }
        },
        "a44ec0ff42be4e0789e8305948ff7735": {
          "model_module": "@jupyter-widgets/controls",
          "model_name": "DescriptionStyleModel",
          "model_module_version": "1.5.0",
          "state": {
            "_model_module": "@jupyter-widgets/controls",
            "_model_module_version": "1.5.0",
            "_model_name": "DescriptionStyleModel",
            "_view_count": null,
            "_view_module": "@jupyter-widgets/base",
            "_view_module_version": "1.2.0",
            "_view_name": "StyleView",
            "description_width": ""
          }
        },
        "be972d6e1d6842f89d5ea459ef730fad": {
          "model_module": "@jupyter-widgets/base",
          "model_name": "LayoutModel",
          "model_module_version": "1.2.0",
          "state": {
            "_model_module": "@jupyter-widgets/base",
            "_model_module_version": "1.2.0",
            "_model_name": "LayoutModel",
            "_view_count": null,
            "_view_module": "@jupyter-widgets/base",
            "_view_module_version": "1.2.0",
            "_view_name": "LayoutView",
            "align_content": null,
            "align_items": null,
            "align_self": null,
            "border": null,
            "bottom": null,
            "display": null,
            "flex": null,
            "flex_flow": null,
            "grid_area": null,
            "grid_auto_columns": null,
            "grid_auto_flow": null,
            "grid_auto_rows": null,
            "grid_column": null,
            "grid_gap": null,
            "grid_row": null,
            "grid_template_areas": null,
            "grid_template_columns": null,
            "grid_template_rows": null,
            "height": null,
            "justify_content": null,
            "justify_items": null,
            "left": null,
            "margin": null,
            "max_height": null,
            "max_width": null,
            "min_height": null,
            "min_width": null,
            "object_fit": null,
            "object_position": null,
            "order": null,
            "overflow": null,
            "overflow_x": null,
            "overflow_y": null,
            "padding": null,
            "right": null,
            "top": null,
            "visibility": null,
            "width": null
          }
        },
        "a6ae84643cc04f069ef3a1ce1fc2b4e0": {
          "model_module": "@jupyter-widgets/controls",
          "model_name": "ProgressStyleModel",
          "model_module_version": "1.5.0",
          "state": {
            "_model_module": "@jupyter-widgets/controls",
            "_model_module_version": "1.5.0",
            "_model_name": "ProgressStyleModel",
            "_view_count": null,
            "_view_module": "@jupyter-widgets/base",
            "_view_module_version": "1.2.0",
            "_view_name": "StyleView",
            "bar_color": null,
            "description_width": ""
          }
        },
        "0bafeb96f68043b4b476c80a95f8b110": {
          "model_module": "@jupyter-widgets/base",
          "model_name": "LayoutModel",
          "model_module_version": "1.2.0",
          "state": {
            "_model_module": "@jupyter-widgets/base",
            "_model_module_version": "1.2.0",
            "_model_name": "LayoutModel",
            "_view_count": null,
            "_view_module": "@jupyter-widgets/base",
            "_view_module_version": "1.2.0",
            "_view_name": "LayoutView",
            "align_content": null,
            "align_items": null,
            "align_self": null,
            "border": null,
            "bottom": null,
            "display": null,
            "flex": null,
            "flex_flow": null,
            "grid_area": null,
            "grid_auto_columns": null,
            "grid_auto_flow": null,
            "grid_auto_rows": null,
            "grid_column": null,
            "grid_gap": null,
            "grid_row": null,
            "grid_template_areas": null,
            "grid_template_columns": null,
            "grid_template_rows": null,
            "height": null,
            "justify_content": null,
            "justify_items": null,
            "left": null,
            "margin": null,
            "max_height": null,
            "max_width": null,
            "min_height": null,
            "min_width": null,
            "object_fit": null,
            "object_position": null,
            "order": null,
            "overflow": null,
            "overflow_x": null,
            "overflow_y": null,
            "padding": null,
            "right": null,
            "top": null,
            "visibility": null,
            "width": null
          }
        },
        "dadeb75f4de642f9ba546515cfdacf8a": {
          "model_module": "@jupyter-widgets/controls",
          "model_name": "DescriptionStyleModel",
          "model_module_version": "1.5.0",
          "state": {
            "_model_module": "@jupyter-widgets/controls",
            "_model_module_version": "1.5.0",
            "_model_name": "DescriptionStyleModel",
            "_view_count": null,
            "_view_module": "@jupyter-widgets/base",
            "_view_module_version": "1.2.0",
            "_view_name": "StyleView",
            "description_width": ""
          }
        },
        "199efd7a4a2f4be1af88f2fde6625b8b": {
          "model_module": "@jupyter-widgets/controls",
          "model_name": "HBoxModel",
          "model_module_version": "1.5.0",
          "state": {
            "_dom_classes": [],
            "_model_module": "@jupyter-widgets/controls",
            "_model_module_version": "1.5.0",
            "_model_name": "HBoxModel",
            "_view_count": null,
            "_view_module": "@jupyter-widgets/controls",
            "_view_module_version": "1.5.0",
            "_view_name": "HBoxView",
            "box_style": "",
            "children": [
              "IPY_MODEL_51fb3be85a3940b5803d3b9ea742a9d0",
              "IPY_MODEL_978ccda574bd428f953c17dfaf04941c",
              "IPY_MODEL_2be2615f79dc4580a69cd65a160a0ceb"
            ],
            "layout": "IPY_MODEL_8d94b4a368b34f569cb8428d7d4e61ab"
          }
        },
        "51fb3be85a3940b5803d3b9ea742a9d0": {
          "model_module": "@jupyter-widgets/controls",
          "model_name": "HTMLModel",
          "model_module_version": "1.5.0",
          "state": {
            "_dom_classes": [],
            "_model_module": "@jupyter-widgets/controls",
            "_model_module_version": "1.5.0",
            "_model_name": "HTMLModel",
            "_view_count": null,
            "_view_module": "@jupyter-widgets/controls",
            "_view_module_version": "1.5.0",
            "_view_name": "HTMLView",
            "description": "",
            "description_tooltip": null,
            "layout": "IPY_MODEL_69e92680e1cc424fbfc375d8e407ce02",
            "placeholder": "​",
            "style": "IPY_MODEL_b59dcc7145cb4595a5e6ed39c1844957",
            "value": "100%"
          }
        },
        "978ccda574bd428f953c17dfaf04941c": {
          "model_module": "@jupyter-widgets/controls",
          "model_name": "FloatProgressModel",
          "model_module_version": "1.5.0",
          "state": {
            "_dom_classes": [],
            "_model_module": "@jupyter-widgets/controls",
            "_model_module_version": "1.5.0",
            "_model_name": "FloatProgressModel",
            "_view_count": null,
            "_view_module": "@jupyter-widgets/controls",
            "_view_module_version": "1.5.0",
            "_view_name": "ProgressView",
            "bar_style": "success",
            "description": "",
            "description_tooltip": null,
            "layout": "IPY_MODEL_8b62494ea8a54f7687a6e952bef42d7b",
            "max": 59,
            "min": 0,
            "orientation": "horizontal",
            "style": "IPY_MODEL_54909a4a945f40c68490793e1d840799",
            "value": 59
          }
        },
        "2be2615f79dc4580a69cd65a160a0ceb": {
          "model_module": "@jupyter-widgets/controls",
          "model_name": "HTMLModel",
          "model_module_version": "1.5.0",
          "state": {
            "_dom_classes": [],
            "_model_module": "@jupyter-widgets/controls",
            "_model_module_version": "1.5.0",
            "_model_name": "HTMLModel",
            "_view_count": null,
            "_view_module": "@jupyter-widgets/controls",
            "_view_module_version": "1.5.0",
            "_view_name": "HTMLView",
            "description": "",
            "description_tooltip": null,
            "layout": "IPY_MODEL_06222b036d244b66a8e1325805a4e80d",
            "placeholder": "​",
            "style": "IPY_MODEL_c4394cb18d35439cad4d82eefbd4fd75",
            "value": " 59/59 [00:09&lt;00:00,  6.46it/s]"
          }
        },
        "8d94b4a368b34f569cb8428d7d4e61ab": {
          "model_module": "@jupyter-widgets/base",
          "model_name": "LayoutModel",
          "model_module_version": "1.2.0",
          "state": {
            "_model_module": "@jupyter-widgets/base",
            "_model_module_version": "1.2.0",
            "_model_name": "LayoutModel",
            "_view_count": null,
            "_view_module": "@jupyter-widgets/base",
            "_view_module_version": "1.2.0",
            "_view_name": "LayoutView",
            "align_content": null,
            "align_items": null,
            "align_self": null,
            "border": null,
            "bottom": null,
            "display": null,
            "flex": null,
            "flex_flow": null,
            "grid_area": null,
            "grid_auto_columns": null,
            "grid_auto_flow": null,
            "grid_auto_rows": null,
            "grid_column": null,
            "grid_gap": null,
            "grid_row": null,
            "grid_template_areas": null,
            "grid_template_columns": null,
            "grid_template_rows": null,
            "height": null,
            "justify_content": null,
            "justify_items": null,
            "left": null,
            "margin": null,
            "max_height": null,
            "max_width": null,
            "min_height": null,
            "min_width": null,
            "object_fit": null,
            "object_position": null,
            "order": null,
            "overflow": null,
            "overflow_x": null,
            "overflow_y": null,
            "padding": null,
            "right": null,
            "top": null,
            "visibility": null,
            "width": null
          }
        },
        "69e92680e1cc424fbfc375d8e407ce02": {
          "model_module": "@jupyter-widgets/base",
          "model_name": "LayoutModel",
          "model_module_version": "1.2.0",
          "state": {
            "_model_module": "@jupyter-widgets/base",
            "_model_module_version": "1.2.0",
            "_model_name": "LayoutModel",
            "_view_count": null,
            "_view_module": "@jupyter-widgets/base",
            "_view_module_version": "1.2.0",
            "_view_name": "LayoutView",
            "align_content": null,
            "align_items": null,
            "align_self": null,
            "border": null,
            "bottom": null,
            "display": null,
            "flex": null,
            "flex_flow": null,
            "grid_area": null,
            "grid_auto_columns": null,
            "grid_auto_flow": null,
            "grid_auto_rows": null,
            "grid_column": null,
            "grid_gap": null,
            "grid_row": null,
            "grid_template_areas": null,
            "grid_template_columns": null,
            "grid_template_rows": null,
            "height": null,
            "justify_content": null,
            "justify_items": null,
            "left": null,
            "margin": null,
            "max_height": null,
            "max_width": null,
            "min_height": null,
            "min_width": null,
            "object_fit": null,
            "object_position": null,
            "order": null,
            "overflow": null,
            "overflow_x": null,
            "overflow_y": null,
            "padding": null,
            "right": null,
            "top": null,
            "visibility": null,
            "width": null
          }
        },
        "b59dcc7145cb4595a5e6ed39c1844957": {
          "model_module": "@jupyter-widgets/controls",
          "model_name": "DescriptionStyleModel",
          "model_module_version": "1.5.0",
          "state": {
            "_model_module": "@jupyter-widgets/controls",
            "_model_module_version": "1.5.0",
            "_model_name": "DescriptionStyleModel",
            "_view_count": null,
            "_view_module": "@jupyter-widgets/base",
            "_view_module_version": "1.2.0",
            "_view_name": "StyleView",
            "description_width": ""
          }
        },
        "8b62494ea8a54f7687a6e952bef42d7b": {
          "model_module": "@jupyter-widgets/base",
          "model_name": "LayoutModel",
          "model_module_version": "1.2.0",
          "state": {
            "_model_module": "@jupyter-widgets/base",
            "_model_module_version": "1.2.0",
            "_model_name": "LayoutModel",
            "_view_count": null,
            "_view_module": "@jupyter-widgets/base",
            "_view_module_version": "1.2.0",
            "_view_name": "LayoutView",
            "align_content": null,
            "align_items": null,
            "align_self": null,
            "border": null,
            "bottom": null,
            "display": null,
            "flex": null,
            "flex_flow": null,
            "grid_area": null,
            "grid_auto_columns": null,
            "grid_auto_flow": null,
            "grid_auto_rows": null,
            "grid_column": null,
            "grid_gap": null,
            "grid_row": null,
            "grid_template_areas": null,
            "grid_template_columns": null,
            "grid_template_rows": null,
            "height": null,
            "justify_content": null,
            "justify_items": null,
            "left": null,
            "margin": null,
            "max_height": null,
            "max_width": null,
            "min_height": null,
            "min_width": null,
            "object_fit": null,
            "object_position": null,
            "order": null,
            "overflow": null,
            "overflow_x": null,
            "overflow_y": null,
            "padding": null,
            "right": null,
            "top": null,
            "visibility": null,
            "width": null
          }
        },
        "54909a4a945f40c68490793e1d840799": {
          "model_module": "@jupyter-widgets/controls",
          "model_name": "ProgressStyleModel",
          "model_module_version": "1.5.0",
          "state": {
            "_model_module": "@jupyter-widgets/controls",
            "_model_module_version": "1.5.0",
            "_model_name": "ProgressStyleModel",
            "_view_count": null,
            "_view_module": "@jupyter-widgets/base",
            "_view_module_version": "1.2.0",
            "_view_name": "StyleView",
            "bar_color": null,
            "description_width": ""
          }
        },
        "06222b036d244b66a8e1325805a4e80d": {
          "model_module": "@jupyter-widgets/base",
          "model_name": "LayoutModel",
          "model_module_version": "1.2.0",
          "state": {
            "_model_module": "@jupyter-widgets/base",
            "_model_module_version": "1.2.0",
            "_model_name": "LayoutModel",
            "_view_count": null,
            "_view_module": "@jupyter-widgets/base",
            "_view_module_version": "1.2.0",
            "_view_name": "LayoutView",
            "align_content": null,
            "align_items": null,
            "align_self": null,
            "border": null,
            "bottom": null,
            "display": null,
            "flex": null,
            "flex_flow": null,
            "grid_area": null,
            "grid_auto_columns": null,
            "grid_auto_flow": null,
            "grid_auto_rows": null,
            "grid_column": null,
            "grid_gap": null,
            "grid_row": null,
            "grid_template_areas": null,
            "grid_template_columns": null,
            "grid_template_rows": null,
            "height": null,
            "justify_content": null,
            "justify_items": null,
            "left": null,
            "margin": null,
            "max_height": null,
            "max_width": null,
            "min_height": null,
            "min_width": null,
            "object_fit": null,
            "object_position": null,
            "order": null,
            "overflow": null,
            "overflow_x": null,
            "overflow_y": null,
            "padding": null,
            "right": null,
            "top": null,
            "visibility": null,
            "width": null
          }
        },
        "c4394cb18d35439cad4d82eefbd4fd75": {
          "model_module": "@jupyter-widgets/controls",
          "model_name": "DescriptionStyleModel",
          "model_module_version": "1.5.0",
          "state": {
            "_model_module": "@jupyter-widgets/controls",
            "_model_module_version": "1.5.0",
            "_model_name": "DescriptionStyleModel",
            "_view_count": null,
            "_view_module": "@jupyter-widgets/base",
            "_view_module_version": "1.2.0",
            "_view_name": "StyleView",
            "description_width": ""
          }
        },
        "09304ece7752428b8e78e6e3cf943e09": {
          "model_module": "@jupyter-widgets/controls",
          "model_name": "HBoxModel",
          "model_module_version": "1.5.0",
          "state": {
            "_dom_classes": [],
            "_model_module": "@jupyter-widgets/controls",
            "_model_module_version": "1.5.0",
            "_model_name": "HBoxModel",
            "_view_count": null,
            "_view_module": "@jupyter-widgets/controls",
            "_view_module_version": "1.5.0",
            "_view_name": "HBoxView",
            "box_style": "",
            "children": [
              "IPY_MODEL_e8b789f9a34b47669ddbe3cdea38b3a8",
              "IPY_MODEL_b4afe90328a3419ba6b8898fb68124f2",
              "IPY_MODEL_6ae6e1e5e8fa45b491c188bd44de8cab"
            ],
            "layout": "IPY_MODEL_f0c626cb06804ce1bf0c7e8bcef51744"
          }
        },
        "e8b789f9a34b47669ddbe3cdea38b3a8": {
          "model_module": "@jupyter-widgets/controls",
          "model_name": "HTMLModel",
          "model_module_version": "1.5.0",
          "state": {
            "_dom_classes": [],
            "_model_module": "@jupyter-widgets/controls",
            "_model_module_version": "1.5.0",
            "_model_name": "HTMLModel",
            "_view_count": null,
            "_view_module": "@jupyter-widgets/controls",
            "_view_module_version": "1.5.0",
            "_view_name": "HTMLView",
            "description": "",
            "description_tooltip": null,
            "layout": "IPY_MODEL_b3571ef996c540ca99c3ac02bfe4a74d",
            "placeholder": "​",
            "style": "IPY_MODEL_6f8d9fe174ff4b97944e6bc1ada661c8",
            "value": "100%"
          }
        },
        "b4afe90328a3419ba6b8898fb68124f2": {
          "model_module": "@jupyter-widgets/controls",
          "model_name": "FloatProgressModel",
          "model_module_version": "1.5.0",
          "state": {
            "_dom_classes": [],
            "_model_module": "@jupyter-widgets/controls",
            "_model_module_version": "1.5.0",
            "_model_name": "FloatProgressModel",
            "_view_count": null,
            "_view_module": "@jupyter-widgets/controls",
            "_view_module_version": "1.5.0",
            "_view_name": "ProgressView",
            "bar_style": "success",
            "description": "",
            "description_tooltip": null,
            "layout": "IPY_MODEL_1052ed7750e24886a1d7980636402b37",
            "max": 59,
            "min": 0,
            "orientation": "horizontal",
            "style": "IPY_MODEL_7f44952ae67e4da09f2a1282e17f0660",
            "value": 59
          }
        },
        "6ae6e1e5e8fa45b491c188bd44de8cab": {
          "model_module": "@jupyter-widgets/controls",
          "model_name": "HTMLModel",
          "model_module_version": "1.5.0",
          "state": {
            "_dom_classes": [],
            "_model_module": "@jupyter-widgets/controls",
            "_model_module_version": "1.5.0",
            "_model_name": "HTMLModel",
            "_view_count": null,
            "_view_module": "@jupyter-widgets/controls",
            "_view_module_version": "1.5.0",
            "_view_name": "HTMLView",
            "description": "",
            "description_tooltip": null,
            "layout": "IPY_MODEL_cde993247f8044e49565db769ac029e1",
            "placeholder": "​",
            "style": "IPY_MODEL_fc17507ae42b4e4b8ae9c882a5961b7d",
            "value": " 59/59 [00:09&lt;00:00,  6.39it/s]"
          }
        },
        "f0c626cb06804ce1bf0c7e8bcef51744": {
          "model_module": "@jupyter-widgets/base",
          "model_name": "LayoutModel",
          "model_module_version": "1.2.0",
          "state": {
            "_model_module": "@jupyter-widgets/base",
            "_model_module_version": "1.2.0",
            "_model_name": "LayoutModel",
            "_view_count": null,
            "_view_module": "@jupyter-widgets/base",
            "_view_module_version": "1.2.0",
            "_view_name": "LayoutView",
            "align_content": null,
            "align_items": null,
            "align_self": null,
            "border": null,
            "bottom": null,
            "display": null,
            "flex": null,
            "flex_flow": null,
            "grid_area": null,
            "grid_auto_columns": null,
            "grid_auto_flow": null,
            "grid_auto_rows": null,
            "grid_column": null,
            "grid_gap": null,
            "grid_row": null,
            "grid_template_areas": null,
            "grid_template_columns": null,
            "grid_template_rows": null,
            "height": null,
            "justify_content": null,
            "justify_items": null,
            "left": null,
            "margin": null,
            "max_height": null,
            "max_width": null,
            "min_height": null,
            "min_width": null,
            "object_fit": null,
            "object_position": null,
            "order": null,
            "overflow": null,
            "overflow_x": null,
            "overflow_y": null,
            "padding": null,
            "right": null,
            "top": null,
            "visibility": null,
            "width": null
          }
        },
        "b3571ef996c540ca99c3ac02bfe4a74d": {
          "model_module": "@jupyter-widgets/base",
          "model_name": "LayoutModel",
          "model_module_version": "1.2.0",
          "state": {
            "_model_module": "@jupyter-widgets/base",
            "_model_module_version": "1.2.0",
            "_model_name": "LayoutModel",
            "_view_count": null,
            "_view_module": "@jupyter-widgets/base",
            "_view_module_version": "1.2.0",
            "_view_name": "LayoutView",
            "align_content": null,
            "align_items": null,
            "align_self": null,
            "border": null,
            "bottom": null,
            "display": null,
            "flex": null,
            "flex_flow": null,
            "grid_area": null,
            "grid_auto_columns": null,
            "grid_auto_flow": null,
            "grid_auto_rows": null,
            "grid_column": null,
            "grid_gap": null,
            "grid_row": null,
            "grid_template_areas": null,
            "grid_template_columns": null,
            "grid_template_rows": null,
            "height": null,
            "justify_content": null,
            "justify_items": null,
            "left": null,
            "margin": null,
            "max_height": null,
            "max_width": null,
            "min_height": null,
            "min_width": null,
            "object_fit": null,
            "object_position": null,
            "order": null,
            "overflow": null,
            "overflow_x": null,
            "overflow_y": null,
            "padding": null,
            "right": null,
            "top": null,
            "visibility": null,
            "width": null
          }
        },
        "6f8d9fe174ff4b97944e6bc1ada661c8": {
          "model_module": "@jupyter-widgets/controls",
          "model_name": "DescriptionStyleModel",
          "model_module_version": "1.5.0",
          "state": {
            "_model_module": "@jupyter-widgets/controls",
            "_model_module_version": "1.5.0",
            "_model_name": "DescriptionStyleModel",
            "_view_count": null,
            "_view_module": "@jupyter-widgets/base",
            "_view_module_version": "1.2.0",
            "_view_name": "StyleView",
            "description_width": ""
          }
        },
        "1052ed7750e24886a1d7980636402b37": {
          "model_module": "@jupyter-widgets/base",
          "model_name": "LayoutModel",
          "model_module_version": "1.2.0",
          "state": {
            "_model_module": "@jupyter-widgets/base",
            "_model_module_version": "1.2.0",
            "_model_name": "LayoutModel",
            "_view_count": null,
            "_view_module": "@jupyter-widgets/base",
            "_view_module_version": "1.2.0",
            "_view_name": "LayoutView",
            "align_content": null,
            "align_items": null,
            "align_self": null,
            "border": null,
            "bottom": null,
            "display": null,
            "flex": null,
            "flex_flow": null,
            "grid_area": null,
            "grid_auto_columns": null,
            "grid_auto_flow": null,
            "grid_auto_rows": null,
            "grid_column": null,
            "grid_gap": null,
            "grid_row": null,
            "grid_template_areas": null,
            "grid_template_columns": null,
            "grid_template_rows": null,
            "height": null,
            "justify_content": null,
            "justify_items": null,
            "left": null,
            "margin": null,
            "max_height": null,
            "max_width": null,
            "min_height": null,
            "min_width": null,
            "object_fit": null,
            "object_position": null,
            "order": null,
            "overflow": null,
            "overflow_x": null,
            "overflow_y": null,
            "padding": null,
            "right": null,
            "top": null,
            "visibility": null,
            "width": null
          }
        },
        "7f44952ae67e4da09f2a1282e17f0660": {
          "model_module": "@jupyter-widgets/controls",
          "model_name": "ProgressStyleModel",
          "model_module_version": "1.5.0",
          "state": {
            "_model_module": "@jupyter-widgets/controls",
            "_model_module_version": "1.5.0",
            "_model_name": "ProgressStyleModel",
            "_view_count": null,
            "_view_module": "@jupyter-widgets/base",
            "_view_module_version": "1.2.0",
            "_view_name": "StyleView",
            "bar_color": null,
            "description_width": ""
          }
        },
        "cde993247f8044e49565db769ac029e1": {
          "model_module": "@jupyter-widgets/base",
          "model_name": "LayoutModel",
          "model_module_version": "1.2.0",
          "state": {
            "_model_module": "@jupyter-widgets/base",
            "_model_module_version": "1.2.0",
            "_model_name": "LayoutModel",
            "_view_count": null,
            "_view_module": "@jupyter-widgets/base",
            "_view_module_version": "1.2.0",
            "_view_name": "LayoutView",
            "align_content": null,
            "align_items": null,
            "align_self": null,
            "border": null,
            "bottom": null,
            "display": null,
            "flex": null,
            "flex_flow": null,
            "grid_area": null,
            "grid_auto_columns": null,
            "grid_auto_flow": null,
            "grid_auto_rows": null,
            "grid_column": null,
            "grid_gap": null,
            "grid_row": null,
            "grid_template_areas": null,
            "grid_template_columns": null,
            "grid_template_rows": null,
            "height": null,
            "justify_content": null,
            "justify_items": null,
            "left": null,
            "margin": null,
            "max_height": null,
            "max_width": null,
            "min_height": null,
            "min_width": null,
            "object_fit": null,
            "object_position": null,
            "order": null,
            "overflow": null,
            "overflow_x": null,
            "overflow_y": null,
            "padding": null,
            "right": null,
            "top": null,
            "visibility": null,
            "width": null
          }
        },
        "fc17507ae42b4e4b8ae9c882a5961b7d": {
          "model_module": "@jupyter-widgets/controls",
          "model_name": "DescriptionStyleModel",
          "model_module_version": "1.5.0",
          "state": {
            "_model_module": "@jupyter-widgets/controls",
            "_model_module_version": "1.5.0",
            "_model_name": "DescriptionStyleModel",
            "_view_count": null,
            "_view_module": "@jupyter-widgets/base",
            "_view_module_version": "1.2.0",
            "_view_name": "StyleView",
            "description_width": ""
          }
        }
      }
    }
  },
  "nbformat": 4,
  "nbformat_minor": 0
}