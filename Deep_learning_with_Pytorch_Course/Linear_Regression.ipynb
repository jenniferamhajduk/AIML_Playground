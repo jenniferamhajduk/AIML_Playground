{
  "cells": [
    {
      "cell_type": "markdown",
      "metadata": {
        "colab_type": "text",
        "id": "view-in-github"
      },
      "source": [
        "<a href=\"https://colab.research.google.com/github/jenniferamhajduk/AIML_Playground/blob/main/pytorch_workflow.ipynb\" target=\"_parent\"><img src=\"https://colab.research.google.com/assets/colab-badge.svg\" alt=\"Open In Colab\"/></a>"
      ]
    },
    {
      "cell_type": "markdown",
      "metadata": {
        "id": "vBDE1xELJf5Y"
      },
      "source": [
        "PyTorch Deep Learning Workflow"
      ]
    },
    {
      "cell_type": "code",
      "execution_count": 19,
      "metadata": {
        "colab": {
          "base_uri": "https://localhost:8080/",
          "height": 35
        },
        "id": "15NFWOrMKjHq",
        "outputId": "66c6a611-b20c-4b74-fd17-c689be063621"
      },
      "outputs": [
        {
          "data": {
            "application/vnd.google.colaboratory.intrinsic+json": {
              "type": "string"
            },
            "text/plain": [
              "'2.1.0+cu121'"
            ]
          },
          "execution_count": 19,
          "metadata": {},
          "output_type": "execute_result"
        }
      ],
      "source": [
        "import torch\n",
        "import numpy as np\n",
        "import matplotlib.pyplot as plt\n",
        "from torch import nn #building blocks for torch neural networks\n",
        "from pathlib import Path\n",
        "torch.__version__"
      ]
    },
    {
      "cell_type": "markdown",
      "metadata": {
        "id": "i88AQD2UKRAl"
      },
      "source": [
        "\n",
        "Data Preparation"
      ]
    },
    {
      "cell_type": "code",
      "execution_count": 20,
      "metadata": {
        "colab": {
          "base_uri": "https://localhost:8080/"
        },
        "id": "Pk-RPKeZLWQC",
        "outputId": "f7c7089b-0b8d-4bb3-a7ef-ecca819efb5c"
      },
      "outputs": [
        {
          "data": {
            "text/plain": [
              "(tensor([[0.0000],\n",
              "         [0.0200],\n",
              "         [0.0400],\n",
              "         [0.0600],\n",
              "         [0.0800],\n",
              "         [0.1000],\n",
              "         [0.1200],\n",
              "         [0.1400],\n",
              "         [0.1600],\n",
              "         [0.1800]]),\n",
              " tensor([[0.3000],\n",
              "         [0.3140],\n",
              "         [0.3280],\n",
              "         [0.3420],\n",
              "         [0.3560],\n",
              "         [0.3700],\n",
              "         [0.3840],\n",
              "         [0.3980],\n",
              "         [0.4120],\n",
              "         [0.4260]]))"
            ]
          },
          "execution_count": 20,
          "metadata": {},
          "output_type": "execute_result"
        }
      ],
      "source": [
        "#Linear Regression\n",
        "weight = 0.7\n",
        "bias = 0.3\n",
        "\n",
        "start = 0\n",
        "end = 1\n",
        "step = 0.02\n",
        "X = torch.arange(start, end, step).unsqueeze(dim=1)\n",
        "y = weight * X + bias\n",
        "X[:10], y[:10]"
      ]
    },
    {
      "cell_type": "code",
      "execution_count": 21,
      "metadata": {
        "colab": {
          "base_uri": "https://localhost:8080/"
        },
        "id": "JTnLLE1BNuW0",
        "outputId": "edacdd33-58a8-4a7d-fd87-b3b0eb8ee06c"
      },
      "outputs": [
        {
          "data": {
            "text/plain": [
              "(40, 40, 10, 10)"
            ]
          },
          "execution_count": 21,
          "metadata": {},
          "output_type": "execute_result"
        }
      ],
      "source": [
        "train_split = int(.8 * len(X))\n",
        "X_train, y_train = X[:train_split], y[:train_split]\n",
        "X_test, y_test = X[train_split:], y[train_split:]\n",
        "len(X_train), len(y_train), len(X_test), len(y_test)"
      ]
    },
    {
      "cell_type": "code",
      "execution_count": 22,
      "metadata": {
        "id": "IoQM2Tj9Px0V"
      },
      "outputs": [],
      "source": [
        "def plot_predictions(train_data=X_train, train_labels=y_train, test_data=X_test, test_labels=y_test, predictions=None):\n",
        "  plt.figure(figsize=(10,7))\n",
        "  plt.scatter(train_data, train_labels, c='b', s=4, label=\"training data\")\n",
        "  plt.scatter(test_data, test_labels, c='g', s=4, label=\"test data\")\n",
        "\n",
        "  if predictions is not None:\n",
        "    plt.scatter(test_data, predictions, c='r', s=4, label=\"predictions\")\n",
        "\n",
        "  plt.legend(prop={\"size\": 14})"
      ]
    },
    {
      "cell_type": "code",
      "execution_count": 23,
      "metadata": {
        "colab": {
          "base_uri": "https://localhost:8080/",
          "height": 599
        },
        "id": "VxvVKA5AncTo",
        "outputId": "c7837b9b-730f-4946-c1d7-b8d345848ab8"
      },
      "outputs": [
        {
          "data": {
            "image/png": "[encoded data removed]",
            "text/plain": [
              "<Figure size 1000x700 with 1 Axes>"
            ]
          },
          "metadata": {},
          "output_type": "display_data"
        }
      ],
      "source": [
        "plot_predictions();"
      ]
    },
    {
      "cell_type": "markdown",
      "metadata": {
        "id": "_Et24kvmKayD"
      },
      "source": [
        "Build Model"
      ]
    },
    {
      "cell_type": "code",
      "execution_count": 24,
      "metadata": {
        "id": "3P_pw_-XnJ6Q"
      },
      "outputs": [],
      "source": [
        "class LinearRegressionModel(nn.Module):\n",
        "  def __init__(self):\n",
        "    super().__init__()\n",
        "    self.weights = nn.Parameter(torch.randn(1, requires_grad=True, dtype=torch.float))\n",
        "    self.bias = nn.Parameter(torch.randn(1, requires_grad=True, dtype=torch.float))\n",
        "\n",
        "  def forward(self, x: torch.Tensor) -> torch.Tensor:\n",
        "    return self.weights * x + self.bias\n"
      ]
    },
    {
      "cell_type": "code",
      "execution_count": 25,
      "metadata": {
        "colab": {
          "base_uri": "https://localhost:8080/"
        },
        "id": "irAymakLwRRF",
        "outputId": "7d206edf-0c15-44ef-f35e-54e3d3cb5c2a"
      },
      "outputs": [
        {
          "data": {
            "text/plain": [
              "[Parameter containing:\n",
              " tensor([0.3367], requires_grad=True),\n",
              " Parameter containing:\n",
              " tensor([0.1288], requires_grad=True)]"
            ]
          },
          "execution_count": 25,
          "metadata": {},
          "output_type": "execute_result"
        }
      ],
      "source": [
        "torch.manual_seed(42)\n",
        "linregmodel_1 = LinearRegressionModel()\n",
        "\n",
        "linregmodel_1\n",
        "list(linregmodel_1.parameters())"
      ]
    },
    {
      "cell_type": "code",
      "execution_count": 26,
      "metadata": {
        "colab": {
          "base_uri": "https://localhost:8080/"
        },
        "id": "3oOWl5z_2Lwa",
        "outputId": "9d3000fd-fef6-4ca8-ec59-9ce1074b3686"
      },
      "outputs": [
        {
          "data": {
            "text/plain": [
              "OrderedDict([('weights', tensor([0.3367])), ('bias', tensor([0.1288]))])"
            ]
          },
          "execution_count": 26,
          "metadata": {},
          "output_type": "execute_result"
        }
      ],
      "source": [
        "linregmodel_1.state_dict()"
      ]
    },
    {
      "cell_type": "code",
      "execution_count": 27,
      "metadata": {
        "colab": {
          "base_uri": "https://localhost:8080/"
        },
        "id": "cIlcplFGFs1h",
        "outputId": "c5c0980f-60d2-45c5-ce92-be278cb5fb22"
      },
      "outputs": [
        {
          "data": {
            "text/plain": [
              "(tensor([[0.8000],\n",
              "         [0.8200],\n",
              "         [0.8400],\n",
              "         [0.8600],\n",
              "         [0.8800],\n",
              "         [0.9000],\n",
              "         [0.9200],\n",
              "         [0.9400],\n",
              "         [0.9600],\n",
              "         [0.9800]]),\n",
              " tensor([[0.8600],\n",
              "         [0.8740],\n",
              "         [0.8880],\n",
              "         [0.9020],\n",
              "         [0.9160],\n",
              "         [0.9300],\n",
              "         [0.9440],\n",
              "         [0.9580],\n",
              "         [0.9720],\n",
              "         [0.9860]]))"
            ]
          },
          "execution_count": 27,
          "metadata": {},
          "output_type": "execute_result"
        }
      ],
      "source": [
        "X_test, y_test"
      ]
    },
    {
      "cell_type": "code",
      "execution_count": 28,
      "metadata": {
        "colab": {
          "base_uri": "https://localhost:8080/"
        },
        "id": "kh_6oBus2bdM",
        "outputId": "ba2760dc-1cc9-4407-b9ab-fd940ae14cc9"
      },
      "outputs": [
        {
          "data": {
            "text/plain": [
              "tensor([[0.3982],\n",
              "        [0.4049],\n",
              "        [0.4116],\n",
              "        [0.4184],\n",
              "        [0.4251],\n",
              "        [0.4318],\n",
              "        [0.4386],\n",
              "        [0.4453],\n",
              "        [0.4520],\n",
              "        [0.4588]])"
            ]
          },
          "execution_count": 28,
          "metadata": {},
          "output_type": "execute_result"
        }
      ],
      "source": [
        "with torch.inference_mode():\n",
        "  y_preds = linregmodel_1(X_test)\n",
        "\n",
        "y_preds"
      ]
    },
    {
      "cell_type": "code",
      "execution_count": 29,
      "metadata": {
        "colab": {
          "base_uri": "https://localhost:8080/",
          "height": 599
        },
        "id": "9SlEM_FjGWGq",
        "outputId": "78fa4c82-40fb-4904-fb4d-9c7a6ddc609a"
      },
      "outputs": [
        {
          "data": {
            "image/png": "[encoded data removed]",
            "text/plain": [
              "<Figure size 1000x700 with 1 Axes>"
            ]
          },
          "metadata": {},
          "output_type": "display_data"
        }
      ],
      "source": [
        "plot_predictions(predictions=y_preds)"
      ]
    },
    {
      "cell_type": "markdown",
      "metadata": {
        "id": "VOw6EE6nIaTl"
      },
      "source": [
        "Train Model"
      ]
    },
    {
      "cell_type": "code",
      "execution_count": 30,
      "metadata": {
        "colab": {
          "base_uri": "https://localhost:8080/"
        },
        "id": "9G3wtd65pyWa",
        "outputId": "4fc37b62-2dea-4225-d815-5aaa6b61fe20"
      },
      "outputs": [
        {
          "data": {
            "text/plain": [
              "[Parameter containing:\n",
              " tensor([0.3367], requires_grad=True),\n",
              " Parameter containing:\n",
              " tensor([0.1288], requires_grad=True)]"
            ]
          },
          "execution_count": 30,
          "metadata": {},
          "output_type": "execute_result"
        }
      ],
      "source": [
        "list(linregmodel_1.parameters())"
      ]
    },
    {
      "cell_type": "code",
      "execution_count": 31,
      "metadata": {
        "colab": {
          "base_uri": "https://localhost:8080/"
        },
        "id": "neBgeEkkp-Gf",
        "outputId": "0276925c-1979-4380-ee00-668a0911c200"
      },
      "outputs": [
        {
          "data": {
            "text/plain": [
              "OrderedDict([('weights', tensor([0.3367])), ('bias', tensor([0.1288]))])"
            ]
          },
          "execution_count": 31,
          "metadata": {},
          "output_type": "execute_result"
        }
      ],
      "source": [
        "linregmodel_1.state_dict()"
      ]
    },
    {
      "cell_type": "code",
      "execution_count": 32,
      "metadata": {
        "colab": {
          "base_uri": "https://localhost:8080/"
        },
        "id": "RsjvNPMfHpth",
        "outputId": "b098a0bf-9413-48b9-cd05-097a090259f3"
      },
      "outputs": [
        {
          "name": "stdout",
          "output_type": "stream",
          "text": [
            "models/linregmodel.pth\n"
          ]
        }
      ],
      "source": [
        "MODEL_PATH = Path(\"models\")\n",
        "MODEL_PATH.mkdir(parents=True, exist_ok=True)\n",
        "MODEL_NAME = \"linregmodel.pth\"\n",
        "MODEL_SAVE_PATH = MODEL_PATH / MODEL_NAME\n",
        "print(MODEL_SAVE_PATH)"
      ]
    },
    {
      "cell_type": "code",
      "execution_count": 33,
      "metadata": {
        "id": "EHEYKk0julv0"
      },
      "outputs": [],
      "source": [
        "loss_fn = nn.L1Loss()\n",
        "learning_rate = 0.01\n",
        "optimizer = torch.optim.SGD(params=linregmodel_1.parameters(), lr=learning_rate)"
      ]
    },
    {
      "cell_type": "code",
      "execution_count": 34,
      "metadata": {
        "colab": {
          "base_uri": "https://localhost:8080/"
        },
        "id": "7SxFYMpZv1t0",
        "outputId": "90a27020-9f77-403d-e31c-5ce69fd58307"
      },
      "outputs": [
        {
          "name": "stdout",
          "output_type": "stream",
          "text": [
            "Loss:  tensor(0.3129, grad_fn=<MeanBackward0>)\n",
            "Test Loss:  tensor(0.4481)\n",
            "--------------------------\n",
            "Loss:  tensor(0.3014, grad_fn=<MeanBackward0>)\n",
            "Test Loss:  tensor(0.4346)\n",
            "--------------------------\n",
            "Loss:  tensor(0.2898, grad_fn=<MeanBackward0>)\n",
            "Test Loss:  tensor(0.4211)\n",
            "--------------------------\n",
            "Loss:  tensor(0.2783, grad_fn=<MeanBackward0>)\n",
            "Test Loss:  tensor(0.4077)\n",
            "--------------------------\n",
            "Loss:  tensor(0.2668, grad_fn=<MeanBackward0>)\n",
            "Test Loss:  tensor(0.3942)\n",
            "--------------------------\n",
            "Loss:  tensor(0.2553, grad_fn=<MeanBackward0>)\n",
            "Test Loss:  tensor(0.3807)\n",
            "--------------------------\n",
            "Loss:  tensor(0.2438, grad_fn=<MeanBackward0>)\n",
            "Test Loss:  tensor(0.3672)\n",
            "--------------------------\n",
            "Loss:  tensor(0.2322, grad_fn=<MeanBackward0>)\n",
            "Test Loss:  tensor(0.3538)\n",
            "--------------------------\n",
            "Loss:  tensor(0.2207, grad_fn=<MeanBackward0>)\n",
            "Test Loss:  tensor(0.3403)\n",
            "--------------------------\n",
            "Loss:  tensor(0.2092, grad_fn=<MeanBackward0>)\n",
            "Test Loss:  tensor(0.3268)\n",
            "--------------------------\n",
            "Loss:  tensor(0.1977, grad_fn=<MeanBackward0>)\n",
            "Test Loss:  tensor(0.3134)\n",
            "--------------------------\n",
            "Loss:  tensor(0.1862, grad_fn=<MeanBackward0>)\n",
            "Test Loss:  tensor(0.2999)\n",
            "--------------------------\n",
            "Loss:  tensor(0.1746, grad_fn=<MeanBackward0>)\n",
            "Test Loss:  tensor(0.2864)\n",
            "--------------------------\n",
            "Loss:  tensor(0.1631, grad_fn=<MeanBackward0>)\n",
            "Test Loss:  tensor(0.2729)\n",
            "--------------------------\n",
            "Loss:  tensor(0.1516, grad_fn=<MeanBackward0>)\n",
            "Test Loss:  tensor(0.2595)\n",
            "--------------------------\n",
            "Loss:  tensor(0.1401, grad_fn=<MeanBackward0>)\n",
            "Test Loss:  tensor(0.2460)\n",
            "--------------------------\n",
            "Loss:  tensor(0.1285, grad_fn=<MeanBackward0>)\n",
            "Test Loss:  tensor(0.2325)\n",
            "--------------------------\n",
            "Loss:  tensor(0.1170, grad_fn=<MeanBackward0>)\n",
            "Test Loss:  tensor(0.2191)\n",
            "--------------------------\n",
            "Loss:  tensor(0.1061, grad_fn=<MeanBackward0>)\n",
            "Test Loss:  tensor(0.2066)\n",
            "--------------------------\n",
            "Loss:  tensor(0.0968, grad_fn=<MeanBackward0>)\n",
            "Test Loss:  tensor(0.1952)\n",
            "--------------------------\n",
            "Loss:  tensor(0.0891, grad_fn=<MeanBackward0>)\n",
            "Test Loss:  tensor(0.1843)\n",
            "--------------------------\n",
            "Loss:  tensor(0.0823, grad_fn=<MeanBackward0>)\n",
            "Test Loss:  tensor(0.1740)\n",
            "--------------------------\n",
            "Loss:  tensor(0.0764, grad_fn=<MeanBackward0>)\n",
            "Test Loss:  tensor(0.1647)\n",
            "--------------------------\n",
            "Loss:  tensor(0.0716, grad_fn=<MeanBackward0>)\n",
            "Test Loss:  tensor(0.1561)\n",
            "--------------------------\n",
            "Loss:  tensor(0.0675, grad_fn=<MeanBackward0>)\n",
            "Test Loss:  tensor(0.1480)\n",
            "--------------------------\n",
            "Loss:  tensor(0.0640, grad_fn=<MeanBackward0>)\n",
            "Test Loss:  tensor(0.1405)\n",
            "--------------------------\n",
            "Loss:  tensor(0.0610, grad_fn=<MeanBackward0>)\n",
            "Test Loss:  tensor(0.1337)\n",
            "--------------------------\n",
            "Loss:  tensor(0.0585, grad_fn=<MeanBackward0>)\n",
            "Test Loss:  tensor(0.1274)\n",
            "--------------------------\n",
            "Loss:  tensor(0.0564, grad_fn=<MeanBackward0>)\n",
            "Test Loss:  tensor(0.1217)\n",
            "--------------------------\n",
            "Loss:  tensor(0.0546, grad_fn=<MeanBackward0>)\n",
            "Test Loss:  tensor(0.1167)\n",
            "--------------------------\n",
            "Loss:  tensor(0.0531, grad_fn=<MeanBackward0>)\n",
            "Test Loss:  tensor(0.1116)\n",
            "--------------------------\n",
            "Loss:  tensor(0.0518, grad_fn=<MeanBackward0>)\n",
            "Test Loss:  tensor(0.1072)\n",
            "--------------------------\n",
            "Loss:  tensor(0.0507, grad_fn=<MeanBackward0>)\n",
            "Test Loss:  tensor(0.1035)\n",
            "--------------------------\n",
            "Loss:  tensor(0.0498, grad_fn=<MeanBackward0>)\n",
            "Test Loss:  tensor(0.0997)\n",
            "--------------------------\n",
            "Loss:  tensor(0.0490, grad_fn=<MeanBackward0>)\n",
            "Test Loss:  tensor(0.0960)\n",
            "--------------------------\n",
            "Loss:  tensor(0.0482, grad_fn=<MeanBackward0>)\n",
            "Test Loss:  tensor(0.0928)\n",
            "--------------------------\n",
            "Loss:  tensor(0.0475, grad_fn=<MeanBackward0>)\n",
            "Test Loss:  tensor(0.0897)\n",
            "--------------------------\n",
            "Loss:  tensor(0.0469, grad_fn=<MeanBackward0>)\n",
            "Test Loss:  tensor(0.0873)\n",
            "--------------------------\n",
            "Loss:  tensor(0.0464, grad_fn=<MeanBackward0>)\n",
            "Test Loss:  tensor(0.0848)\n",
            "--------------------------\n",
            "Loss:  tensor(0.0459, grad_fn=<MeanBackward0>)\n",
            "Test Loss:  tensor(0.0824)\n",
            "--------------------------\n",
            "Loss:  tensor(0.0454, grad_fn=<MeanBackward0>)\n",
            "Test Loss:  tensor(0.0806)\n",
            "--------------------------\n",
            "Loss:  tensor(0.0450, grad_fn=<MeanBackward0>)\n",
            "Test Loss:  tensor(0.0788)\n",
            "--------------------------\n",
            "Loss:  tensor(0.0446, grad_fn=<MeanBackward0>)\n",
            "Test Loss:  tensor(0.0770)\n",
            "--------------------------\n",
            "Loss:  tensor(0.0442, grad_fn=<MeanBackward0>)\n",
            "Test Loss:  tensor(0.0753)\n",
            "--------------------------\n",
            "Loss:  tensor(0.0438, grad_fn=<MeanBackward0>)\n",
            "Test Loss:  tensor(0.0735)\n",
            "--------------------------\n",
            "Loss:  tensor(0.0434, grad_fn=<MeanBackward0>)\n",
            "Test Loss:  tensor(0.0717)\n",
            "--------------------------\n",
            "Loss:  tensor(0.0431, grad_fn=<MeanBackward0>)\n",
            "Test Loss:  tensor(0.0706)\n",
            "--------------------------\n",
            "Loss:  tensor(0.0427, grad_fn=<MeanBackward0>)\n",
            "Test Loss:  tensor(0.0695)\n",
            "--------------------------\n",
            "Loss:  tensor(0.0424, grad_fn=<MeanBackward0>)\n",
            "Test Loss:  tensor(0.0684)\n",
            "--------------------------\n",
            "Loss:  tensor(0.0420, grad_fn=<MeanBackward0>)\n",
            "Test Loss:  tensor(0.0673)\n",
            "--------------------------\n",
            "Loss:  tensor(0.0417, grad_fn=<MeanBackward0>)\n",
            "Test Loss:  tensor(0.0662)\n",
            "--------------------------\n",
            "Loss:  tensor(0.0413, grad_fn=<MeanBackward0>)\n",
            "Test Loss:  tensor(0.0651)\n",
            "--------------------------\n",
            "Loss:  tensor(0.0410, grad_fn=<MeanBackward0>)\n",
            "Test Loss:  tensor(0.0640)\n",
            "--------------------------\n",
            "Loss:  tensor(0.0406, grad_fn=<MeanBackward0>)\n",
            "Test Loss:  tensor(0.0629)\n",
            "--------------------------\n",
            "Loss:  tensor(0.0403, grad_fn=<MeanBackward0>)\n",
            "Test Loss:  tensor(0.0618)\n",
            "--------------------------\n",
            "Loss:  tensor(0.0399, grad_fn=<MeanBackward0>)\n",
            "Test Loss:  tensor(0.0607)\n",
            "--------------------------\n",
            "Loss:  tensor(0.0396, grad_fn=<MeanBackward0>)\n",
            "Test Loss:  tensor(0.0596)\n",
            "--------------------------\n",
            "Loss:  tensor(0.0392, grad_fn=<MeanBackward0>)\n",
            "Test Loss:  tensor(0.0585)\n",
            "--------------------------\n",
            "Loss:  tensor(0.0389, grad_fn=<MeanBackward0>)\n",
            "Test Loss:  tensor(0.0574)\n",
            "--------------------------\n",
            "Loss:  tensor(0.0385, grad_fn=<MeanBackward0>)\n",
            "Test Loss:  tensor(0.0563)\n",
            "--------------------------\n",
            "Loss:  tensor(0.0382, grad_fn=<MeanBackward0>)\n",
            "Test Loss:  tensor(0.0559)\n",
            "--------------------------\n",
            "Loss:  tensor(0.0379, grad_fn=<MeanBackward0>)\n",
            "Test Loss:  tensor(0.0548)\n",
            "--------------------------\n",
            "Loss:  tensor(0.0375, grad_fn=<MeanBackward0>)\n",
            "Test Loss:  tensor(0.0537)\n",
            "--------------------------\n",
            "Loss:  tensor(0.0372, grad_fn=<MeanBackward0>)\n",
            "Test Loss:  tensor(0.0532)\n",
            "--------------------------\n",
            "Loss:  tensor(0.0368, grad_fn=<MeanBackward0>)\n",
            "Test Loss:  tensor(0.0521)\n",
            "--------------------------\n",
            "Loss:  tensor(0.0365, grad_fn=<MeanBackward0>)\n",
            "Test Loss:  tensor(0.0517)\n",
            "--------------------------\n",
            "Loss:  tensor(0.0361, grad_fn=<MeanBackward0>)\n",
            "Test Loss:  tensor(0.0506)\n",
            "--------------------------\n",
            "Loss:  tensor(0.0358, grad_fn=<MeanBackward0>)\n",
            "Test Loss:  tensor(0.0502)\n",
            "--------------------------\n",
            "Loss:  tensor(0.0354, grad_fn=<MeanBackward0>)\n",
            "Test Loss:  tensor(0.0491)\n",
            "--------------------------\n",
            "Loss:  tensor(0.0351, grad_fn=<MeanBackward0>)\n",
            "Test Loss:  tensor(0.0480)\n",
            "--------------------------\n",
            "Loss:  tensor(0.0348, grad_fn=<MeanBackward0>)\n",
            "Test Loss:  tensor(0.0476)\n",
            "--------------------------\n",
            "Loss:  tensor(0.0344, grad_fn=<MeanBackward0>)\n",
            "Test Loss:  tensor(0.0465)\n",
            "--------------------------\n",
            "Loss:  tensor(0.0341, grad_fn=<MeanBackward0>)\n",
            "Test Loss:  tensor(0.0461)\n",
            "--------------------------\n",
            "Loss:  tensor(0.0337, grad_fn=<MeanBackward0>)\n",
            "Test Loss:  tensor(0.0450)\n",
            "--------------------------\n",
            "Loss:  tensor(0.0334, grad_fn=<MeanBackward0>)\n",
            "Test Loss:  tensor(0.0446)\n",
            "--------------------------\n",
            "Loss:  tensor(0.0330, grad_fn=<MeanBackward0>)\n",
            "Test Loss:  tensor(0.0435)\n",
            "--------------------------\n",
            "Loss:  tensor(0.0327, grad_fn=<MeanBackward0>)\n",
            "Test Loss:  tensor(0.0424)\n",
            "--------------------------\n",
            "Loss:  tensor(0.0324, grad_fn=<MeanBackward0>)\n",
            "Test Loss:  tensor(0.0419)\n",
            "--------------------------\n",
            "Loss:  tensor(0.0320, grad_fn=<MeanBackward0>)\n",
            "Test Loss:  tensor(0.0409)\n",
            "--------------------------\n",
            "Loss:  tensor(0.0317, grad_fn=<MeanBackward0>)\n",
            "Test Loss:  tensor(0.0405)\n",
            "--------------------------\n",
            "Loss:  tensor(0.0313, grad_fn=<MeanBackward0>)\n",
            "Test Loss:  tensor(0.0396)\n",
            "--------------------------\n",
            "Loss:  tensor(0.0310, grad_fn=<MeanBackward0>)\n",
            "Test Loss:  tensor(0.0393)\n",
            "--------------------------\n",
            "Loss:  tensor(0.0306, grad_fn=<MeanBackward0>)\n",
            "Test Loss:  tensor(0.0384)\n",
            "--------------------------\n",
            "Loss:  tensor(0.0303, grad_fn=<MeanBackward0>)\n",
            "Test Loss:  tensor(0.0380)\n",
            "--------------------------\n",
            "Loss:  tensor(0.0300, grad_fn=<MeanBackward0>)\n",
            "Test Loss:  tensor(0.0371)\n",
            "--------------------------\n",
            "Loss:  tensor(0.0296, grad_fn=<MeanBackward0>)\n",
            "Test Loss:  tensor(0.0362)\n",
            "--------------------------\n",
            "Loss:  tensor(0.0293, grad_fn=<MeanBackward0>)\n",
            "Test Loss:  tensor(0.0358)\n",
            "--------------------------\n",
            "Loss:  tensor(0.0289, grad_fn=<MeanBackward0>)\n",
            "Test Loss:  tensor(0.0349)\n",
            "--------------------------\n",
            "Loss:  tensor(0.0286, grad_fn=<MeanBackward0>)\n",
            "Test Loss:  tensor(0.0345)\n",
            "--------------------------\n",
            "Loss:  tensor(0.0282, grad_fn=<MeanBackward0>)\n",
            "Test Loss:  tensor(0.0336)\n",
            "--------------------------\n",
            "Loss:  tensor(0.0279, grad_fn=<MeanBackward0>)\n",
            "Test Loss:  tensor(0.0333)\n",
            "--------------------------\n",
            "Loss:  tensor(0.0275, grad_fn=<MeanBackward0>)\n",
            "Test Loss:  tensor(0.0323)\n",
            "--------------------------\n",
            "Loss:  tensor(0.0272, grad_fn=<MeanBackward0>)\n",
            "Test Loss:  tensor(0.0316)\n",
            "--------------------------\n",
            "Loss:  tensor(0.0269, grad_fn=<MeanBackward0>)\n",
            "Test Loss:  tensor(0.0313)\n",
            "--------------------------\n",
            "Loss:  tensor(0.0265, grad_fn=<MeanBackward0>)\n",
            "Test Loss:  tensor(0.0306)\n",
            "--------------------------\n",
            "Loss:  tensor(0.0262, grad_fn=<MeanBackward0>)\n",
            "Test Loss:  tensor(0.0303)\n",
            "--------------------------\n",
            "Loss:  tensor(0.0258, grad_fn=<MeanBackward0>)\n",
            "Test Loss:  tensor(0.0296)\n",
            "--------------------------\n",
            "Loss:  tensor(0.0255, grad_fn=<MeanBackward0>)\n",
            "Test Loss:  tensor(0.0293)\n",
            "--------------------------\n",
            "Loss:  tensor(0.0251, grad_fn=<MeanBackward0>)\n",
            "Test Loss:  tensor(0.0285)\n",
            "--------------------------\n",
            "Loss:  tensor(0.0248, grad_fn=<MeanBackward0>)\n",
            "Test Loss:  tensor(0.0278)\n",
            "--------------------------\n"
          ]
        }
      ],
      "source": [
        "epochs = 100\n",
        "losses = []\n",
        "test_losses = []\n",
        "epoch_count = []\n",
        "\n",
        "for epoch in range(epochs):\n",
        "  linregmodel_1.train()\n",
        "  y_pred = linregmodel_1(X_train)\n",
        "  loss = loss_fn(y_pred, y_train)\n",
        "  losses.append(loss)\n",
        "  print(\"Loss: \", loss)\n",
        "  optimizer.zero_grad()\n",
        "  loss.backward()\n",
        "  optimizer.step()\n",
        "  #linregmodel_1.eval()\n",
        "  #print(linregmodel_1.state_dict())\n",
        "  with torch.inference_mode():\n",
        "    test_preds = linregmodel_1(X_test)\n",
        "    test_loss = loss_fn(test_preds, X_test)\n",
        "    test_losses.append(test_loss)\n",
        "    print(\"Test Loss: \", test_loss)\n",
        "    print(\"--------------------------\")\n",
        "  epoch_count.append(epoch)\n",
        "torch.save(linregmodel_1.state_dict(), f=MODEL_SAVE_PATH)"
      ]
    },
    {
      "cell_type": "code",
      "execution_count": 35,
      "metadata": {
        "colab": {
          "base_uri": "https://localhost:8080/",
          "height": 599
        },
        "id": "pAl3qOQR4yxh",
        "outputId": "f8f1965d-5e7b-4054-d9e9-35b906871f7d"
      },
      "outputs": [
        {
          "data": {
            "image/png": "[encoded data removed]",
            "text/plain": [
              "<Figure size 1000x700 with 1 Axes>"
            ]
          },
          "metadata": {},
          "output_type": "display_data"
        }
      ],
      "source": [
        "plot_predictions(predictions=test_preds)"
      ]
    },
    {
      "cell_type": "code",
      "execution_count": 36,
      "metadata": {
        "colab": {
          "base_uri": "https://localhost:8080/",
          "height": 489
        },
        "id": "-5lCywLi9qw0",
        "outputId": "bdf10802-a504-4014-dda5-94d9532ce55b"
      },
      "outputs": [
        {
          "data": {
            "text/plain": [
              "<matplotlib.legend.Legend at 0x783fc2943760>"
            ]
          },
          "execution_count": 36,
          "metadata": {},
          "output_type": "execute_result"
        },
        {
          "data": {
            "image/png": "[encoded data removed]",
            "text/plain": [
              "<Figure size 640x480 with 1 Axes>"
            ]
          },
          "metadata": {},
          "output_type": "display_data"
        }
      ],
      "source": [
        "plt.plot(epoch_count, np.array(torch.tensor(losses).numpy()), label=\"Train Loss\")\n",
        "plt.plot(epoch_count, test_losses, label=\"Test Loss\")\n",
        "plt.title(\"Training and test loss curves\")\n",
        "plt.ylabel(\"Loss\")\n",
        "plt.xlabel(\"Epochs\")\n",
        "plt.legend()\n"
      ]
    },
    {
      "cell_type": "code",
      "execution_count": 40,
      "metadata": {
        "colab": {
          "base_uri": "https://localhost:8080/"
        },
        "id": "o0GbQsIiIMFg",
        "outputId": "9aff570b-befc-4537-8ce5-2537671d98ee"
      },
      "outputs": [
        {
          "data": {
            "text/plain": [
              "<All keys matched successfully>"
            ]
          },
          "execution_count": 40,
          "metadata": {},
          "output_type": "execute_result"
        }
      ],
      "source": [
        "linregmodel_load.load_state_dict(torch.load(f=MODEL_SAVE_PATH))"
      ]
    },
    {
      "cell_type": "code",
      "execution_count": 48,
      "metadata": {
        "id": "BE7ivV3Z_z9v"
      },
      "outputs": [],
      "source": [
        "linregmodel_load.eval()\n",
        "with torch.inference_mode():\n",
        "  loaded_model_preds = linregmodel_load(X_test)"
      ]
    },
    {
      "cell_type": "code",
      "execution_count": 49,
      "metadata": {
        "id": "T9OoiyvEAGYO"
      },
      "outputs": [],
      "source": [
        "linregmodel_1.eval()\n",
        "with torch.inference_mode():\n",
        "  y_preds = linregmodel_1(X_test)"
      ]
    },
    {
      "cell_type": "code",
      "execution_count": 50,
      "metadata": {
        "colab": {
          "base_uri": "https://localhost:8080/"
        },
        "id": "MbBscfpJAMYv",
        "outputId": "40c94f10-68c4-4615-c264-7ba5db42a5ca"
      },
      "outputs": [
        {
          "data": {
            "text/plain": [
              "tensor([[True],\n",
              "        [True],\n",
              "        [True],\n",
              "        [True],\n",
              "        [True],\n",
              "        [True],\n",
              "        [True],\n",
              "        [True],\n",
              "        [True],\n",
              "        [True]])"
            ]
          },
          "execution_count": 50,
          "metadata": {},
          "output_type": "execute_result"
        }
      ],
      "source": [
        "y_preds == loaded_model_preds"
      ]
    },
    {
      "cell_type": "code",
      "execution_count": null,
      "metadata": {
        "id": "zTQWBJozAtuR"
      },
      "outputs": [],
      "source": []
    }
  ],
  "metadata": {
    "colab": {
      "authorship_tag": "ABX9TyMO7uP4R3FeiMLMdRC0iNp9",
      "include_colab_link": true,
      "provenance": []
    },
    "kernelspec": {
      "display_name": "Python 3",
      "name": "python3"
    },
    "language_info": {
      "name": "python"
    }
  },
  "nbformat": 4,
  "nbformat_minor": 0
}
