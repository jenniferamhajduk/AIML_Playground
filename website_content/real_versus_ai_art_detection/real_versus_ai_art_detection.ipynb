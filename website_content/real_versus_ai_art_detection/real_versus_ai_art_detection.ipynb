{
 "cells": [
  {
   "cell_type": "code",
   "execution_count": 59,
   "metadata": {},
   "outputs": [],
   "source": [
    "import torch\n",
    "import random\n",
    "import os, shutil, glob\n",
    "from PIL import Image\n",
    "from tqdm import tqdm\n",
    "from pathlib import Path"
   ]
  },
  {
   "cell_type": "code",
   "execution_count": 60,
   "metadata": {},
   "outputs": [],
   "source": [
    "art_image_dir = '../../../datasets/art'\n",
    "if not os.path.exists('../../../datasets/art/train'):\n",
    "    os.mkdir('../../../datasets/art/train')\n",
    "    os.mkdir('../../../datasets/art/train/ai-generated')\n",
    "    os.mkdir('../../../datasets/art/train/web-scraping')\n",
    "if not os.path.exists('../../../datasets/art/test'): \n",
    "    os.mkdir('../../../datasets/art/test')\n",
    "    os.mkdir('../../../datasets/art/test/ai-generated')\n",
    "    os.mkdir('../../../datasets/art/test/web-scraping')\n",
    "if not os.path.exists('../../../datasets/art/validation'):\n",
    "    os.mkdir('../../../datasets/art/validation')\n",
    "    os.mkdir('../../../datasets/art/validation/ai-generated')\n",
    "    os.mkdir('../../../datasets/art/validation/web-scraping')\n",
    "excluded_directories = [os.path.join(art_image_dir, \"train\"), os.path.join(art_image_dir, \"test\"), os.path.join(art_image_dir, \"validation\")]\n"
   ]
  },
  {
   "cell_type": "code",
   "execution_count": 61,
   "metadata": {},
   "outputs": [],
   "source": [
    "ai_images_dir = os.path.join(art_image_dir, 'AiArtData')\n",
    "real_images_dir =  os.path.join(art_image_dir, 'RealArt')\n"
   ]
  },
  {
   "cell_type": "code",
   "execution_count": 62,
   "metadata": {},
   "outputs": [],
   "source": [
    "pattern = '*.*:Zone.Identifier'\n",
    "files_to_delete = glob.glob(pattern)\n",
    "for ai_file in os.listdir(ai_images_dir):\n",
    "    if ai_file in files_to_delete:\n",
    "        os.remove(ai_file)\n",
    "for real_file in os.listdir(real_images_dir):\n",
    "    if real_file in files_to_delete:\n",
    "        os.remove(real_file)"
   ]
  },
  {
   "cell_type": "markdown",
   "metadata": {},
   "source": [
    "### Convert the images to a standard format - PNG"
   ]
  },
  {
   "cell_type": "code",
   "execution_count": 63,
   "metadata": {},
   "outputs": [
    {
     "name": "stderr",
     "output_type": "stream",
     "text": [
      "100%|██████████| 537/537 [00:00<00:00, 1816404.23it/s]\n",
      "100%|██████████| 435/435 [00:00<00:00, 1747626.67it/s]\n"
     ]
    }
   ],
   "source": [
    "for folder in os.listdir(art_image_dir):\n",
    "    folder_path = os.path.join(art_image_dir, folder)\n",
    "    if os.path.join(art_image_dir, folder) not in excluded_directories:\n",
    "        for file in tqdm(os.listdir(folder_path)):\n",
    "            if file.endswith('.jpg') or file.endswith('.jpeg') or file.endswith('.gif'):\n",
    "                file_path = os.path.join(folder_path, file)\n",
    "                img = Image.open(file_path)\n",
    "                new_file_name = os.path.splitext(file_path)[0] + '.png'\n",
    "                img.save(new_file_name, 'PNG')"
   ]
  },
  {
   "cell_type": "markdown",
   "metadata": {},
   "source": [
    "### Remove Duplicates"
   ]
  },
  {
   "cell_type": "code",
   "execution_count": 64,
   "metadata": {},
   "outputs": [
    {
     "name": "stderr",
     "output_type": "stream",
     "text": [
      "100%|██████████| 537/537 [00:00<00:00, 1806207.90it/s]\n",
      "100%|██████████| 435/435 [00:00<00:00, 1351497.96it/s]\n"
     ]
    }
   ],
   "source": [
    "for folder in os.listdir(art_image_dir):\n",
    "    folder_path = os.path.join(art_image_dir, folder)\n",
    "    if os.path.join(art_image_dir, folder) not in excluded_directories:\n",
    "        for file in tqdm(os.listdir(folder_path)):\n",
    "            if file.endswith('.jpg') or file.endswith('.jpeg') or file.endswith('.gif'):\n",
    "                file_path = os.path.join(folder_path, file)\n",
    "                os.remove(file_path)\n",
    "                print(f\"Removed: {file_path}\")"
   ]
  },
  {
   "cell_type": "markdown",
   "metadata": {},
   "source": [
    "## Resize the images while maintaining aspect ratio"
   ]
  },
  {
   "cell_type": "code",
   "execution_count": 65,
   "metadata": {},
   "outputs": [
    {
     "name": "stdout",
     "output_type": "stream",
     "text": [
      "----working on folder---- ../../../datasets/art/AiArtData\n"
     ]
    },
    {
     "name": "stderr",
     "output_type": "stream",
     "text": [
      "100%|██████████| 537/537 [00:00<00:00, 25475.80it/s]\n"
     ]
    },
    {
     "name": "stdout",
     "output_type": "stream",
     "text": [
      "----working on folder---- ../../../datasets/art/RealArt\n"
     ]
    },
    {
     "name": "stderr",
     "output_type": "stream",
     "text": [
      "100%|██████████| 435/435 [00:00<00:00, 23322.54it/s]\n"
     ]
    }
   ],
   "source": [
    "width = 800\n",
    "for folder in os.listdir(art_image_dir):\n",
    "    if os.path.join(art_image_dir, folder) not in excluded_directories:\n",
    "        folder_path = os.path.join(art_image_dir, folder)\n",
    "        print(\"----working on folder----\", folder_path)\n",
    "        for file in tqdm(os.listdir(folder_path)):\n",
    "            img = Image.open(os.path.join(folder_path, file))\n",
    "            aspect_ratio = img.width / img.height\n",
    "            height = int(width / aspect_ratio)\n",
    "            if img.size[0] != width:\n",
    "                resized_image = img.resize((width, height))\n",
    "                resized_image.save(os.path.join(folder_path, file))\n",
    "\n"
   ]
  },
  {
   "cell_type": "markdown",
   "metadata": {},
   "source": [
    "### Copy 70% of data to train, 20% to test, 10% to validation"
   ]
  },
  {
   "cell_type": "code",
   "execution_count": 66,
   "metadata": {},
   "outputs": [
    {
     "ename": "FileNotFoundError",
     "evalue": "[Errno 2] No such file or directory: '../../../datasets/art/AIArtData'",
     "output_type": "error",
     "traceback": [
      "\u001b[0;31m---------------------------------------------------------------------------\u001b[0m",
      "\u001b[0;31mFileNotFoundError\u001b[0m                         Traceback (most recent call last)",
      "Cell \u001b[0;32mIn[66], line 14\u001b[0m\n\u001b[1;32m     10\u001b[0m real_val_dir \u001b[38;5;241m=\u001b[39m \u001b[38;5;124m'\u001b[39m\u001b[38;5;124m../../../datasets/art/validation/web-scraping\u001b[39m\u001b[38;5;124m'\u001b[39m\n\u001b[1;32m     13\u001b[0m \u001b[38;5;66;03m# Get the list of files in the AI Art Data directory\u001b[39;00m\n\u001b[0;32m---> 14\u001b[0m aiart_files \u001b[38;5;241m=\u001b[39m \u001b[43mos\u001b[49m\u001b[38;5;241;43m.\u001b[39;49m\u001b[43mlistdir\u001b[49m\u001b[43m(\u001b[49m\u001b[43maiart_data_dir\u001b[49m\u001b[43m)\u001b[49m\n\u001b[1;32m     16\u001b[0m \u001b[38;5;66;03m# Get the list of files in the Real Art directory\u001b[39;00m\n\u001b[1;32m     17\u001b[0m real_art_files \u001b[38;5;241m=\u001b[39m os\u001b[38;5;241m.\u001b[39mlistdir(real_art_dir)\n",
      "\u001b[0;31mFileNotFoundError\u001b[0m: [Errno 2] No such file or directory: '../../../datasets/art/AIArtData'"
     ]
    }
   ],
   "source": [
    "aiart_data_dir = '../../../datasets/art/AiArtData'\n",
    "real_art_dir = '../../../datasets/art/RealArt'\n",
    "\n",
    "# Set the destination directory\n",
    "ai_train_dir = '../../../datasets/art/train/ai-generated'\n",
    "real_train_dir = '../../../datasets/art/train/web-scraping'\n",
    "ai_test_dir = '../../../datasets/art/test/ai-generated'\n",
    "real_test_dir = '../../../datasets/art/test/web-scraping'\n",
    "ai_val_dir = '../../../datasets/art/validation/ai-generated'\n",
    "real_val_dir = '../../../datasets/art/validation/web-scraping'\n",
    "\n",
    "\n",
    "# Get the list of files in the AI Art Data directory\n",
    "aiart_files = os.listdir(aiart_data_dir)\n",
    "\n",
    "# Get the list of files in the Real Art directory\n",
    "real_art_files = os.listdir(real_art_dir)\n",
    "\n",
    "# Calculate the number of files to copy from each directory\n",
    "aiart_train_count = int(0.7 * len(aiart_files))\n",
    "real_art_train_count = int(0.7 * len(real_art_files))\n",
    "\n",
    "aiart_test_count = int(0.2 * len(aiart_files))\n",
    "real_art_test_count = int(0.2 * len(real_art_files))\n",
    "\n",
    "aiart_val_count = int(0.1 * len(aiart_files))\n",
    "real_art_val_count = int(0.1 * len(real_art_files))\n",
    "\n",
    "\n",
    "# Randomly select the files to copy from the AI Art Data directory\n",
    "aiart_train_files = aiart_files[:aiart_train_count]\n",
    "real_train_files = real_art_files[:real_art_train_count]\n",
    "\n",
    "aiart_test_files = aiart_files[aiart_train_count:aiart_train_count + aiart_test_count]\n",
    "real_test_files = real_art_files[real_art_train_count:real_art_train_count + real_art_test_count]\n",
    "\n",
    "aiart_val_files = aiart_files[aiart_train_count + aiart_test_count:]\n",
    "real_val_files = real_art_files[real_art_train_count + real_art_test_count:]\n",
    "\n",
    "# Copy the files from the AI Art Data directory to the training directory\n",
    "for file in aiart_train_files:\n",
    "    src = os.path.join(aiart_data_dir, file)\n",
    "    dst = os.path.join(real_train_dir, file)\n",
    "    shutil.copy(src, dst)\n",
    "\n",
    "for file in aiart_test_files:\n",
    "    src = os.path.join(aiart_data_dir, file)\n",
    "    dst = os.path.join(ai_test_dir, file)\n",
    "    shutil.copy(src, dst)\n",
    "\n",
    "for file in aiart_val_files:\n",
    "    src = os.path.join(aiart_data_dir, file)\n",
    "    dst = os.path.join(ai_val_dir, file)\n",
    "    shutil.copy(src, dst)\n",
    "\n",
    "# Copy the files from the Real Art directory to the training directory\n",
    "for file in real_train_files:\n",
    "    src = os.path.join(real_art_dir, file)\n",
    "    dst = os.path.join(real_train_dir, file)\n",
    "    shutil.copy(src, dst)\n",
    "\n",
    "for file in real_test_files:\n",
    "    src = os.path.join(real_art_dir, file)\n",
    "    dst = os.path.join(real_test_dir, file)\n",
    "    shutil.copy(src, dst)\n",
    "\n",
    "for file in real_val_files:\n",
    "    src = os.path.join(real_art_dir, file)\n",
    "    dst = os.path.join(real_val_dir, file)\n",
    "    shutil.copy(src, dst)\n"
   ]
  },
  {
   "cell_type": "code",
   "execution_count": null,
   "metadata": {},
   "outputs": [
    {
     "data": {
      "text/plain": [
       "'cuda'"
      ]
     },
     "execution_count": 16,
     "metadata": {},
     "output_type": "execute_result"
    }
   ],
   "source": [
    "device = \"cuda\" if torch.cuda.is_available() else \"cpu\"\n",
    "device"
   ]
  },
  {
   "cell_type": "code",
   "execution_count": null,
   "metadata": {},
   "outputs": [
    {
     "name": "stdout",
     "output_type": "stream",
     "text": [
      "Sat Apr 13 18:19:08 2024       \n",
      "+-----------------------------------------------------------------------------------------+\n",
      "| NVIDIA-SMI 550.60.01              Driver Version: 551.76         CUDA Version: 12.4     |\n",
      "|-----------------------------------------+------------------------+----------------------+\n",
      "| GPU  Name                 Persistence-M | Bus-Id          Disp.A | Volatile Uncorr. ECC |\n",
      "| Fan  Temp   Perf          Pwr:Usage/Cap |           Memory-Usage | GPU-Util  Compute M. |\n",
      "|                                         |                        |               MIG M. |\n",
      "|=========================================+========================+======================|\n",
      "|   0  NVIDIA GeForce RTX 3080 Ti     On  |   00000000:01:00.0  On |                  N/A |\n",
      "| 44%   42C    P8             34W /  400W |     699MiB /  12288MiB |     15%      Default |\n",
      "|                                         |                        |                  N/A |\n",
      "+-----------------------------------------+------------------------+----------------------+\n",
      "                                                                                         \n",
      "+-----------------------------------------------------------------------------------------+\n",
      "| Processes:                                                                              |\n",
      "|  GPU   GI   CI        PID   Type   Process name                              GPU Memory |\n",
      "|        ID   ID                                                               Usage      |\n",
      "|=========================================================================================|\n",
      "|    0   N/A  N/A        33      G   /Xwayland                                   N/A      |\n",
      "+-----------------------------------------------------------------------------------------+\n"
     ]
    }
   ],
   "source": [
    "!nvidia-smi"
   ]
  },
  {
   "cell_type": "code",
   "execution_count": null,
   "metadata": {},
   "outputs": [
    {
     "name": "stdout",
     "output_type": "stream",
     "text": [
      "There are 2 directories and 0 images in '../../../datasets/art'\n",
      "There are 0 directories and 534 images in '../../../datasets/art/AiArtData'\n",
      "There are 0 directories and 431 images in '../../../datasets/art/RealArt'\n"
     ]
    }
   ],
   "source": [
    "def walk_through_dir(dir_path):\n",
    "    for dirpath, dirnames, filesnames in os.walk(dir_path):\n",
    "        print(f\"There are {len(dirnames)} directories and {len(filesnames)} images in '{dirpath}'\")\n",
    "\n",
    "walk_through_dir(art_image_dir)"
   ]
  },
  {
   "cell_type": "markdown",
   "metadata": {},
   "source": [
    "### Create a new folder for holding all images and split into training, test, and validation"
   ]
  }
 ],
 "metadata": {
  "kernelspec": {
   "display_name": "Python 3",
   "language": "python",
   "name": "python3"
  },
  "language_info": {
   "codemirror_mode": {
    "name": "ipython",
    "version": 3
   },
   "file_extension": ".py",
   "mimetype": "text/x-python",
   "name": "python",
   "nbconvert_exporter": "python",
   "pygments_lexer": "ipython3",
   "version": "3.10.12"
  }
 },
 "nbformat": 4,
 "nbformat_minor": 2
}
